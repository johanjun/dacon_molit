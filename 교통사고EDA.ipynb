{
  "nbformat": 4,
  "nbformat_minor": 0,
  "metadata": {
    "colab": {
      "name": "교통사고EDA.ipynb",
      "provenance": [],
      "machine_shape": "hm",
      "mount_file_id": "1mS-GGXxQnB9L6t0mE6j8_G6I0ZZdgxeW",
      "authorship_tag": "ABX9TyN3EVVi6xM92xTzYI0bRi2o",
      "include_colab_link": true
    },
    "kernelspec": {
      "name": "python3",
      "display_name": "Python 3"
    },
    "language_info": {
      "name": "python"
    }
  },
  "cells": [
    {
      "cell_type": "markdown",
      "metadata": {
        "id": "view-in-github",
        "colab_type": "text"
      },
      "source": [
        "<a href=\"https://colab.research.google.com/github/johanjun/dacon_molit/blob/main/%EA%B5%90%ED%86%B5%EC%82%AC%EA%B3%A0EDA.ipynb\" target=\"_parent\"><img src=\"https://colab.research.google.com/assets/colab-badge.svg\" alt=\"Open In Colab\"/></a>"
      ]
    },
    {
      "cell_type": "code",
      "metadata": {
        "id": "nZjJu0eohojd"
      },
      "source": [
        "!sudo apt-get install -y fonts-nanum\n",
        "!sudo fc-cache -fv\n",
        "!rm ~/.cache/matplotlib -rf"
      ],
      "execution_count": null,
      "outputs": []
    },
    {
      "cell_type": "code",
      "metadata": {
        "id": "PhFKqJ_j9KkE"
      },
      "source": [
        "import pandas as pd\n",
        "import matplotlib.pyplot as plt\n",
        "import os\n",
        "import seaborn as sns\n",
        "import re\n",
        "import shutil\n",
        "import random\n",
        "import missingno as msno\n",
        "import matplotlib.pyplot as plt\n",
        "plt.rc('font', family='NanumBarunGothic') \n",
        "import warnings\n",
        "warnings.filterwarnings(action='ignore')"
      ],
      "execution_count": 1,
      "outputs": []
    },
    {
      "cell_type": "code",
      "metadata": {
        "colab": {
          "base_uri": "https://localhost:8080/"
        },
        "id": "pL1R_-At85Mb",
        "outputId": "0fa017c7-ae04-46bd-baa2-53f4019ab249"
      },
      "source": [
        "from google.colab import drive\n",
        "drive.mount('/content/drive')"
      ],
      "execution_count": 4,
      "outputs": [
        {
          "output_type": "stream",
          "text": [
            "Mounted at /content/drive\n"
          ],
          "name": "stdout"
        }
      ]
    },
    {
      "cell_type": "code",
      "metadata": {
        "id": "iGRtDD6L86us"
      },
      "source": [
        "data_dir = '/content/drive/MyDrive/dacon_molit/data/'"
      ],
      "execution_count": 2,
      "outputs": []
    },
    {
      "cell_type": "markdown",
      "metadata": {
        "id": "miDTZdzOA21v"
      },
      "source": [
        "### 교통사고\n",
        "- 좌표계 EPSG:5178 → UTM-K (Bessel)"
      ]
    },
    {
      "cell_type": "code",
      "metadata": {
        "id": "rlnvyJ0Z_CF2"
      },
      "source": [
        "df_acci = pd.read_csv(data_dir+'도로교통공단_사망 교통사고 정보_20201231.csv', encoding='euc-kr')"
      ],
      "execution_count": 3,
      "outputs": []
    },
    {
      "cell_type": "code",
      "metadata": {
        "colab": {
          "base_uri": "https://localhost:8080/"
        },
        "id": "ltpU7qLFHgkz",
        "outputId": "41219c32-e6f6-4d90-ed77-de03ae851ca7"
      },
      "source": [
        "df_acci.shape"
      ],
      "execution_count": 4,
      "outputs": [
        {
          "output_type": "execute_result",
          "data": {
            "text/plain": [
              "(2983, 23)"
            ]
          },
          "metadata": {
            "tags": []
          },
          "execution_count": 4
        }
      ]
    },
    {
      "cell_type": "code",
      "metadata": {
        "colab": {
          "base_uri": "https://localhost:8080/",
          "height": 278
        },
        "id": "-xpy6Kt5Htqf",
        "outputId": "76dd9355-12d8-4251-cd07-c88fa19295c7"
      },
      "source": [
        "df_acci.head(3)"
      ],
      "execution_count": 5,
      "outputs": [
        {
          "output_type": "execute_result",
          "data": {
            "text/html": [
              "<div>\n",
              "<style scoped>\n",
              "    .dataframe tbody tr th:only-of-type {\n",
              "        vertical-align: middle;\n",
              "    }\n",
              "\n",
              "    .dataframe tbody tr th {\n",
              "        vertical-align: top;\n",
              "    }\n",
              "\n",
              "    .dataframe thead th {\n",
              "        text-align: right;\n",
              "    }\n",
              "</style>\n",
              "<table border=\"1\" class=\"dataframe\">\n",
              "  <thead>\n",
              "    <tr style=\"text-align: right;\">\n",
              "      <th></th>\n",
              "      <th>발생년</th>\n",
              "      <th>발생년월일시</th>\n",
              "      <th>주야</th>\n",
              "      <th>요일</th>\n",
              "      <th>사망자수</th>\n",
              "      <th>부상자수</th>\n",
              "      <th>중상자수</th>\n",
              "      <th>경상자수</th>\n",
              "      <th>부상신고자수</th>\n",
              "      <th>발생지시도</th>\n",
              "      <th>발생지시군구</th>\n",
              "      <th>사고유형_대분류</th>\n",
              "      <th>사고유형_중분류</th>\n",
              "      <th>사고유형</th>\n",
              "      <th>가해자법규위반</th>\n",
              "      <th>도로형태_대분류</th>\n",
              "      <th>도로형태</th>\n",
              "      <th>가해자_당사자종별</th>\n",
              "      <th>피해자_당사자종별</th>\n",
              "      <th>발생위치X_UTMK</th>\n",
              "      <th>발생위치Y_UTMK</th>\n",
              "      <th>경도</th>\n",
              "      <th>위도</th>\n",
              "    </tr>\n",
              "  </thead>\n",
              "  <tbody>\n",
              "    <tr>\n",
              "      <th>0</th>\n",
              "      <td>2020</td>\n",
              "      <td>2020-01-01 05</td>\n",
              "      <td>야</td>\n",
              "      <td>수</td>\n",
              "      <td>1</td>\n",
              "      <td>0</td>\n",
              "      <td>0</td>\n",
              "      <td>0</td>\n",
              "      <td>0</td>\n",
              "      <td>서울</td>\n",
              "      <td>강남구</td>\n",
              "      <td>차대사람</td>\n",
              "      <td>차도통행중</td>\n",
              "      <td>차도통행중</td>\n",
              "      <td>안전운전 의무 불이행</td>\n",
              "      <td>단일로</td>\n",
              "      <td>기타단일로</td>\n",
              "      <td>승용차</td>\n",
              "      <td>보행자</td>\n",
              "      <td>959928.0</td>\n",
              "      <td>1943154.0</td>\n",
              "      <td>127.046727</td>\n",
              "      <td>37.486761</td>\n",
              "    </tr>\n",
              "    <tr>\n",
              "      <th>1</th>\n",
              "      <td>2020</td>\n",
              "      <td>2020-01-01 05</td>\n",
              "      <td>야</td>\n",
              "      <td>수</td>\n",
              "      <td>1</td>\n",
              "      <td>0</td>\n",
              "      <td>0</td>\n",
              "      <td>0</td>\n",
              "      <td>0</td>\n",
              "      <td>경기</td>\n",
              "      <td>화성시</td>\n",
              "      <td>차대차</td>\n",
              "      <td>추돌</td>\n",
              "      <td>추돌</td>\n",
              "      <td>안전운전 의무 불이행</td>\n",
              "      <td>단일로</td>\n",
              "      <td>기타단일로</td>\n",
              "      <td>승용차</td>\n",
              "      <td>화물차</td>\n",
              "      <td>951237.0</td>\n",
              "      <td>1916995.0</td>\n",
              "      <td>126.950147</td>\n",
              "      <td>37.250560</td>\n",
              "    </tr>\n",
              "    <tr>\n",
              "      <th>2</th>\n",
              "      <td>2020</td>\n",
              "      <td>2020-01-01 07</td>\n",
              "      <td>주</td>\n",
              "      <td>수</td>\n",
              "      <td>1</td>\n",
              "      <td>0</td>\n",
              "      <td>0</td>\n",
              "      <td>0</td>\n",
              "      <td>0</td>\n",
              "      <td>충남</td>\n",
              "      <td>천안시</td>\n",
              "      <td>차대사람</td>\n",
              "      <td>횡단중</td>\n",
              "      <td>횡단중</td>\n",
              "      <td>안전운전 의무 불이행</td>\n",
              "      <td>단일로</td>\n",
              "      <td>기타단일로</td>\n",
              "      <td>승용차</td>\n",
              "      <td>보행자</td>\n",
              "      <td>967688.0</td>\n",
              "      <td>1869920.0</td>\n",
              "      <td>127.137666</td>\n",
              "      <td>36.826933</td>\n",
              "    </tr>\n",
              "  </tbody>\n",
              "</table>\n",
              "</div>"
            ],
            "text/plain": [
              "    발생년         발생년월일시 주야 요일  ...  발생위치X_UTMK  발생위치Y_UTMK          경도         위도\n",
              "0  2020  2020-01-01 05  야  수  ...    959928.0   1943154.0  127.046727  37.486761\n",
              "1  2020  2020-01-01 05  야  수  ...    951237.0   1916995.0  126.950147  37.250560\n",
              "2  2020  2020-01-01 07  주  수  ...    967688.0   1869920.0  127.137666  36.826933\n",
              "\n",
              "[3 rows x 23 columns]"
            ]
          },
          "metadata": {
            "tags": []
          },
          "execution_count": 5
        }
      ]
    },
    {
      "cell_type": "code",
      "metadata": {
        "colab": {
          "base_uri": "https://localhost:8080/"
        },
        "id": "85dwbBJMcuXw",
        "outputId": "c77efb64-d841-44f4-ba7a-aec37d3efd61"
      },
      "source": [
        "df_seoul = df_acci[df_acci['발생지시도'] == '서울']\n",
        "df_seoul['발생지시도'].unique()"
      ],
      "execution_count": 6,
      "outputs": [
        {
          "output_type": "execute_result",
          "data": {
            "text/plain": [
              "array(['서울'], dtype=object)"
            ]
          },
          "metadata": {
            "tags": []
          },
          "execution_count": 6
        }
      ]
    },
    {
      "cell_type": "code",
      "metadata": {
        "colab": {
          "base_uri": "https://localhost:8080/"
        },
        "id": "H0Z_-OvdizLO",
        "outputId": "bda1eac1-9f80-4b97-ea20-4894f5038134"
      },
      "source": [
        "df_seoul.columns"
      ],
      "execution_count": 10,
      "outputs": [
        {
          "output_type": "execute_result",
          "data": {
            "text/plain": [
              "Index(['발생년', '발생년월일시', '주야', '요일', '사망자수', '부상자수', '중상자수', '경상자수', '부상신고자수',\n",
              "       '발생지시도', '발생지시군구', '사고유형_대분류', '사고유형_중분류', '사고유형', '가해자법규위반',\n",
              "       '도로형태_대분류', '도로형태', '가해자_당사자종별', '피해자_당사자종별', '발생위치X_UTMK',\n",
              "       '발생위치Y_UTMK', '경도', '위도'],\n",
              "      dtype='object')"
            ]
          },
          "metadata": {
            "tags": []
          },
          "execution_count": 10
        }
      ]
    },
    {
      "cell_type": "code",
      "metadata": {
        "colab": {
          "base_uri": "https://localhost:8080/",
          "height": 497
        },
        "id": "NsXyzG_wgF2Z",
        "outputId": "45f3f22c-95b7-4157-b836-074ae6bc9ff6"
      },
      "source": [
        "plt.figure(figsize=(12,8))\n",
        "sns.barplot(x=df_seoul.groupby('사고유형_대분류')['발생년'].sum().index, y=df_seoul.groupby('사고유형_대분류')['발생년'].sum())\n",
        "plt.show()"
      ],
      "execution_count": 7,
      "outputs": [
        {
          "output_type": "display_data",
          "data": {
            "image/png": "[encoded data removed]",
            "text/plain": [
              "<Figure size 864x576 with 1 Axes>"
            ]
          },
          "metadata": {
            "tags": [],
            "needs_background": "light"
          }
        }
      ]
    },
    {
      "cell_type": "code",
      "metadata": {
        "colab": {
          "base_uri": "https://localhost:8080/",
          "height": 497
        },
        "id": "8NpaiqZnifDf",
        "outputId": "da61c59f-b16f-4ef3-d6fc-2f3485a4cfe5"
      },
      "source": [
        "plt.figure(figsize=(12,8))\n",
        "sns.barplot(x=df_seoul.groupby('사고유형_중분류')['발생년'].sum().index, y=df_seoul.groupby('사고유형_중분류')['발생년'].sum())\n",
        "plt.show()"
      ],
      "execution_count": 8,
      "outputs": [
        {
          "output_type": "display_data",
          "data": {
            "image/png": "[encoded data removed]",
            "text/plain": [
              "<Figure size 864x576 with 1 Axes>"
            ]
          },
          "metadata": {
            "tags": [],
            "needs_background": "light"
          }
        }
      ]
    },
    {
      "cell_type": "code",
      "metadata": {
        "colab": {
          "base_uri": "https://localhost:8080/",
          "height": 497
        },
        "id": "EQoPJX9fimr9",
        "outputId": "96592c25-637f-4458-c212-b5232f124296"
      },
      "source": [
        "plt.figure(figsize=(12,8))\n",
        "sns.barplot(x=df_seoul.groupby('가해자_당사자종별')['발생년'].sum().index, y=df_seoul.groupby('가해자_당사자종별')['발생년'].sum())\n",
        "plt.show()"
      ],
      "execution_count": 11,
      "outputs": [
        {
          "output_type": "display_data",
          "data": {
            "image/png": "[encoded data removed]",
            "text/plain": [
              "<Figure size 864x576 with 1 Axes>"
            ]
          },
          "metadata": {
            "tags": [],
            "needs_background": "light"
          }
        }
      ]
    },
    {
      "cell_type": "code",
      "metadata": {
        "colab": {
          "base_uri": "https://localhost:8080/",
          "height": 497
        },
        "id": "td9WSqw1i_Wo",
        "outputId": "225eb192-a83f-41d8-f23a-594d0cfd6f63"
      },
      "source": [
        "plt.figure(figsize=(12,8))\n",
        "sns.barplot(x=df_seoul[df_seoul['가해자_당사자종별']=='이륜차'].groupby('피해자_당사자종별')['발생년'].sum().index, y=df_seoul[df_seoul['가해자_당사자종별']=='이륜차'].groupby('피해자_당사자종별')['발생년'].sum())\n",
        "plt.show()"
      ],
      "execution_count": 14,
      "outputs": [
        {
          "output_type": "display_data",
          "data": {
            "image/png": "[encoded data removed]",
            "text/plain": [
              "<Figure size 864x576 with 1 Axes>"
            ]
          },
          "metadata": {
            "tags": [],
            "needs_background": "light"
          }
        }
      ]
    },
    {
      "cell_type": "code",
      "metadata": {
        "colab": {
          "base_uri": "https://localhost:8080/",
          "height": 295
        },
        "id": "sk3ZkioEjjU6",
        "outputId": "634cd7a9-e2e3-42ad-f809-878ffd0b47ff"
      },
      "source": [
        "df_acci['datetime'] = pd.to_datetime([x.split(\" \")[0] for x in df_acci['발생년월일시']])\n",
        "df_acci.head(3)"
      ],
      "execution_count": 54,
      "outputs": [
        {
          "output_type": "execute_result",
          "data": {
            "text/html": [
              "<div>\n",
              "<style scoped>\n",
              "    .dataframe tbody tr th:only-of-type {\n",
              "        vertical-align: middle;\n",
              "    }\n",
              "\n",
              "    .dataframe tbody tr th {\n",
              "        vertical-align: top;\n",
              "    }\n",
              "\n",
              "    .dataframe thead th {\n",
              "        text-align: right;\n",
              "    }\n",
              "</style>\n",
              "<table border=\"1\" class=\"dataframe\">\n",
              "  <thead>\n",
              "    <tr style=\"text-align: right;\">\n",
              "      <th></th>\n",
              "      <th>발생년</th>\n",
              "      <th>발생년월일시</th>\n",
              "      <th>주야</th>\n",
              "      <th>요일</th>\n",
              "      <th>사망자수</th>\n",
              "      <th>부상자수</th>\n",
              "      <th>중상자수</th>\n",
              "      <th>경상자수</th>\n",
              "      <th>부상신고자수</th>\n",
              "      <th>발생지시도</th>\n",
              "      <th>발생지시군구</th>\n",
              "      <th>사고유형_대분류</th>\n",
              "      <th>사고유형_중분류</th>\n",
              "      <th>사고유형</th>\n",
              "      <th>가해자법규위반</th>\n",
              "      <th>도로형태_대분류</th>\n",
              "      <th>도로형태</th>\n",
              "      <th>가해자_당사자종별</th>\n",
              "      <th>피해자_당사자종별</th>\n",
              "      <th>발생위치X_UTMK</th>\n",
              "      <th>발생위치Y_UTMK</th>\n",
              "      <th>경도</th>\n",
              "      <th>위도</th>\n",
              "      <th>datetime</th>\n",
              "    </tr>\n",
              "  </thead>\n",
              "  <tbody>\n",
              "    <tr>\n",
              "      <th>0</th>\n",
              "      <td>2020</td>\n",
              "      <td>2020-01-01 05</td>\n",
              "      <td>야</td>\n",
              "      <td>수</td>\n",
              "      <td>1</td>\n",
              "      <td>0</td>\n",
              "      <td>0</td>\n",
              "      <td>0</td>\n",
              "      <td>0</td>\n",
              "      <td>서울</td>\n",
              "      <td>강남구</td>\n",
              "      <td>차대사람</td>\n",
              "      <td>차도통행중</td>\n",
              "      <td>차도통행중</td>\n",
              "      <td>안전운전 의무 불이행</td>\n",
              "      <td>단일로</td>\n",
              "      <td>기타단일로</td>\n",
              "      <td>승용차</td>\n",
              "      <td>보행자</td>\n",
              "      <td>959928.0</td>\n",
              "      <td>1943154.0</td>\n",
              "      <td>127.046727</td>\n",
              "      <td>37.486761</td>\n",
              "      <td>2020-01-01</td>\n",
              "    </tr>\n",
              "    <tr>\n",
              "      <th>1</th>\n",
              "      <td>2020</td>\n",
              "      <td>2020-01-01 05</td>\n",
              "      <td>야</td>\n",
              "      <td>수</td>\n",
              "      <td>1</td>\n",
              "      <td>0</td>\n",
              "      <td>0</td>\n",
              "      <td>0</td>\n",
              "      <td>0</td>\n",
              "      <td>경기</td>\n",
              "      <td>화성시</td>\n",
              "      <td>차대차</td>\n",
              "      <td>추돌</td>\n",
              "      <td>추돌</td>\n",
              "      <td>안전운전 의무 불이행</td>\n",
              "      <td>단일로</td>\n",
              "      <td>기타단일로</td>\n",
              "      <td>승용차</td>\n",
              "      <td>화물차</td>\n",
              "      <td>951237.0</td>\n",
              "      <td>1916995.0</td>\n",
              "      <td>126.950147</td>\n",
              "      <td>37.250560</td>\n",
              "      <td>2020-01-01</td>\n",
              "    </tr>\n",
              "    <tr>\n",
              "      <th>2</th>\n",
              "      <td>2020</td>\n",
              "      <td>2020-01-01 07</td>\n",
              "      <td>주</td>\n",
              "      <td>수</td>\n",
              "      <td>1</td>\n",
              "      <td>0</td>\n",
              "      <td>0</td>\n",
              "      <td>0</td>\n",
              "      <td>0</td>\n",
              "      <td>충남</td>\n",
              "      <td>천안시</td>\n",
              "      <td>차대사람</td>\n",
              "      <td>횡단중</td>\n",
              "      <td>횡단중</td>\n",
              "      <td>안전운전 의무 불이행</td>\n",
              "      <td>단일로</td>\n",
              "      <td>기타단일로</td>\n",
              "      <td>승용차</td>\n",
              "      <td>보행자</td>\n",
              "      <td>967688.0</td>\n",
              "      <td>1869920.0</td>\n",
              "      <td>127.137666</td>\n",
              "      <td>36.826933</td>\n",
              "      <td>2020-01-01</td>\n",
              "    </tr>\n",
              "  </tbody>\n",
              "</table>\n",
              "</div>"
            ],
            "text/plain": [
              "    발생년         발생년월일시 주야 요일  ...  발생위치Y_UTMK          경도         위도   datetime\n",
              "0  2020  2020-01-01 05  야  수  ...   1943154.0  127.046727  37.486761 2020-01-01\n",
              "1  2020  2020-01-01 05  야  수  ...   1916995.0  126.950147  37.250560 2020-01-01\n",
              "2  2020  2020-01-01 07  주  수  ...   1869920.0  127.137666  36.826933 2020-01-01\n",
              "\n",
              "[3 rows x 24 columns]"
            ]
          },
          "metadata": {
            "tags": []
          },
          "execution_count": 54
        }
      ]
    },
    {
      "cell_type": "code",
      "metadata": {
        "colab": {
          "base_uri": "https://localhost:8080/",
          "height": 295
        },
        "id": "mnCGH6g5tysz",
        "outputId": "7ea206ac-7aa8-478d-a20f-1f5d2146264c"
      },
      "source": [
        "df_acci['month'] = [x.month for x in df_acci.datetime]\n",
        "df_acci.head(3)"
      ],
      "execution_count": 55,
      "outputs": [
        {
          "output_type": "execute_result",
          "data": {
            "text/html": [
              "<div>\n",
              "<style scoped>\n",
              "    .dataframe tbody tr th:only-of-type {\n",
              "        vertical-align: middle;\n",
              "    }\n",
              "\n",
              "    .dataframe tbody tr th {\n",
              "        vertical-align: top;\n",
              "    }\n",
              "\n",
              "    .dataframe thead th {\n",
              "        text-align: right;\n",
              "    }\n",
              "</style>\n",
              "<table border=\"1\" class=\"dataframe\">\n",
              "  <thead>\n",
              "    <tr style=\"text-align: right;\">\n",
              "      <th></th>\n",
              "      <th>발생년</th>\n",
              "      <th>발생년월일시</th>\n",
              "      <th>주야</th>\n",
              "      <th>요일</th>\n",
              "      <th>사망자수</th>\n",
              "      <th>부상자수</th>\n",
              "      <th>중상자수</th>\n",
              "      <th>경상자수</th>\n",
              "      <th>부상신고자수</th>\n",
              "      <th>발생지시도</th>\n",
              "      <th>발생지시군구</th>\n",
              "      <th>사고유형_대분류</th>\n",
              "      <th>사고유형_중분류</th>\n",
              "      <th>사고유형</th>\n",
              "      <th>가해자법규위반</th>\n",
              "      <th>도로형태_대분류</th>\n",
              "      <th>도로형태</th>\n",
              "      <th>가해자_당사자종별</th>\n",
              "      <th>피해자_당사자종별</th>\n",
              "      <th>발생위치X_UTMK</th>\n",
              "      <th>발생위치Y_UTMK</th>\n",
              "      <th>경도</th>\n",
              "      <th>위도</th>\n",
              "      <th>datetime</th>\n",
              "      <th>month</th>\n",
              "    </tr>\n",
              "  </thead>\n",
              "  <tbody>\n",
              "    <tr>\n",
              "      <th>0</th>\n",
              "      <td>2020</td>\n",
              "      <td>2020-01-01 05</td>\n",
              "      <td>야</td>\n",
              "      <td>수</td>\n",
              "      <td>1</td>\n",
              "      <td>0</td>\n",
              "      <td>0</td>\n",
              "      <td>0</td>\n",
              "      <td>0</td>\n",
              "      <td>서울</td>\n",
              "      <td>강남구</td>\n",
              "      <td>차대사람</td>\n",
              "      <td>차도통행중</td>\n",
              "      <td>차도통행중</td>\n",
              "      <td>안전운전 의무 불이행</td>\n",
              "      <td>단일로</td>\n",
              "      <td>기타단일로</td>\n",
              "      <td>승용차</td>\n",
              "      <td>보행자</td>\n",
              "      <td>959928.0</td>\n",
              "      <td>1943154.0</td>\n",
              "      <td>127.046727</td>\n",
              "      <td>37.486761</td>\n",
              "      <td>2020-01-01</td>\n",
              "      <td>1</td>\n",
              "    </tr>\n",
              "    <tr>\n",
              "      <th>1</th>\n",
              "      <td>2020</td>\n",
              "      <td>2020-01-01 05</td>\n",
              "      <td>야</td>\n",
              "      <td>수</td>\n",
              "      <td>1</td>\n",
              "      <td>0</td>\n",
              "      <td>0</td>\n",
              "      <td>0</td>\n",
              "      <td>0</td>\n",
              "      <td>경기</td>\n",
              "      <td>화성시</td>\n",
              "      <td>차대차</td>\n",
              "      <td>추돌</td>\n",
              "      <td>추돌</td>\n",
              "      <td>안전운전 의무 불이행</td>\n",
              "      <td>단일로</td>\n",
              "      <td>기타단일로</td>\n",
              "      <td>승용차</td>\n",
              "      <td>화물차</td>\n",
              "      <td>951237.0</td>\n",
              "      <td>1916995.0</td>\n",
              "      <td>126.950147</td>\n",
              "      <td>37.250560</td>\n",
              "      <td>2020-01-01</td>\n",
              "      <td>1</td>\n",
              "    </tr>\n",
              "    <tr>\n",
              "      <th>2</th>\n",
              "      <td>2020</td>\n",
              "      <td>2020-01-01 07</td>\n",
              "      <td>주</td>\n",
              "      <td>수</td>\n",
              "      <td>1</td>\n",
              "      <td>0</td>\n",
              "      <td>0</td>\n",
              "      <td>0</td>\n",
              "      <td>0</td>\n",
              "      <td>충남</td>\n",
              "      <td>천안시</td>\n",
              "      <td>차대사람</td>\n",
              "      <td>횡단중</td>\n",
              "      <td>횡단중</td>\n",
              "      <td>안전운전 의무 불이행</td>\n",
              "      <td>단일로</td>\n",
              "      <td>기타단일로</td>\n",
              "      <td>승용차</td>\n",
              "      <td>보행자</td>\n",
              "      <td>967688.0</td>\n",
              "      <td>1869920.0</td>\n",
              "      <td>127.137666</td>\n",
              "      <td>36.826933</td>\n",
              "      <td>2020-01-01</td>\n",
              "      <td>1</td>\n",
              "    </tr>\n",
              "  </tbody>\n",
              "</table>\n",
              "</div>"
            ],
            "text/plain": [
              "    발생년         발생년월일시 주야 요일  ...          경도         위도   datetime  month\n",
              "0  2020  2020-01-01 05  야  수  ...  127.046727  37.486761 2020-01-01      1\n",
              "1  2020  2020-01-01 05  야  수  ...  126.950147  37.250560 2020-01-01      1\n",
              "2  2020  2020-01-01 07  주  수  ...  127.137666  36.826933 2020-01-01      1\n",
              "\n",
              "[3 rows x 25 columns]"
            ]
          },
          "metadata": {
            "tags": []
          },
          "execution_count": 55
        }
      ]
    },
    {
      "cell_type": "code",
      "metadata": {
        "colab": {
          "base_uri": "https://localhost:8080/"
        },
        "id": "fPqb4P1Pu9fd",
        "outputId": "f75b5a4e-b6dd-4eb2-8b2d-6c195d02e89c"
      },
      "source": [
        "df_acci[df_acci['가해자_당사자종별']=='이륜차'].shape"
      ],
      "execution_count": 56,
      "outputs": [
        {
          "output_type": "execute_result",
          "data": {
            "text/plain": [
              "(432, 25)"
            ]
          },
          "metadata": {
            "tags": []
          },
          "execution_count": 56
        }
      ]
    },
    {
      "cell_type": "code",
      "metadata": {
        "colab": {
          "base_uri": "https://localhost:8080/",
          "height": 497
        },
        "id": "l3nR664CkTVx",
        "outputId": "b7ff17b9-70c1-4875-b9f7-d98c67708d0e"
      },
      "source": [
        "plt.figure(figsize=(12,8))\n",
        "sns.barplot(x=df_acci[df_acci['가해자_당사자종별']=='이륜차'].groupby('month')['month'].count().index, y=df_acci[df_acci['가해자_당사자종별']=='이륜차'].groupby('month')['month'].count())\n",
        "plt.show()"
      ],
      "execution_count": 60,
      "outputs": [
        {
          "output_type": "display_data",
          "data": {
            "image/png": "[encoded data removed]",
            "text/plain": [
              "<Figure size 864x576 with 1 Axes>"
            ]
          },
          "metadata": {
            "tags": [],
            "needs_background": "light"
          }
        }
      ]
    },
    {
      "cell_type": "code",
      "metadata": {
        "colab": {
          "base_uri": "https://localhost:8080/"
        },
        "id": "lwT27159A1w_",
        "outputId": "af859b41-c449-4403-dee7-fc0623447f1f"
      },
      "source": [
        "df_acci2019 = pd.read_csv(data_dir+'도로교통공단_사망교통사고정보(2019).csv', encoding='euc-kr')\n",
        "df_acci2019.shape"
      ],
      "execution_count": 141,
      "outputs": [
        {
          "output_type": "execute_result",
          "data": {
            "text/plain": [
              "(3233, 23)"
            ]
          },
          "metadata": {
            "tags": []
          },
          "execution_count": 141
        }
      ]
    },
    {
      "cell_type": "code",
      "metadata": {
        "id": "NDUaEsVtBEMY"
      },
      "source": [
        "df_acci = pd.read_csv(data_dir+'도로교통공단_사망 교통사고 정보_20201231.csv', encoding='euc-kr')"
      ],
      "execution_count": 142,
      "outputs": []
    },
    {
      "cell_type": "code",
      "metadata": {
        "colab": {
          "base_uri": "https://localhost:8080/"
        },
        "id": "KGOZ-km6BB5x",
        "outputId": "b8ec7ca2-f05a-40e2-eeec-d80496e6f56d"
      },
      "source": [
        "df_acci = pd.concat([df_acci, df_acci2019], ignore_index=True)\n",
        "df_acci.shape"
      ],
      "execution_count": 143,
      "outputs": [
        {
          "output_type": "execute_result",
          "data": {
            "text/plain": [
              "(6216, 23)"
            ]
          },
          "metadata": {
            "tags": []
          },
          "execution_count": 143
        }
      ]
    },
    {
      "cell_type": "code",
      "metadata": {
        "id": "eDwLpXBPET4m"
      },
      "source": [
        "df_acci['datetime'] = pd.Series([x.split(\" \")[0] for x in df_acci['발생년월일시']], index=df_acci.index)"
      ],
      "execution_count": 144,
      "outputs": []
    },
    {
      "cell_type": "code",
      "metadata": {
        "colab": {
          "base_uri": "https://localhost:8080/"
        },
        "id": "cj97b42xExBr",
        "outputId": "fc1d09c7-2d73-4323-f6ef-83ce17498456"
      },
      "source": [
        "df_acci.shape"
      ],
      "execution_count": 145,
      "outputs": [
        {
          "output_type": "execute_result",
          "data": {
            "text/plain": [
              "(6216, 24)"
            ]
          },
          "metadata": {
            "tags": []
          },
          "execution_count": 145
        }
      ]
    },
    {
      "cell_type": "code",
      "metadata": {
        "colab": {
          "base_uri": "https://localhost:8080/",
          "height": 297
        },
        "id": "IwZsVtpYKpe6",
        "outputId": "079cfaa0-af61-409a-8b33-06ba1498718d"
      },
      "source": [
        "df_acci.describe()"
      ],
      "execution_count": 173,
      "outputs": [
        {
          "output_type": "execute_result",
          "data": {
            "text/html": [
              "<div>\n",
              "<style scoped>\n",
              "    .dataframe tbody tr th:only-of-type {\n",
              "        vertical-align: middle;\n",
              "    }\n",
              "\n",
              "    .dataframe tbody tr th {\n",
              "        vertical-align: top;\n",
              "    }\n",
              "\n",
              "    .dataframe thead th {\n",
              "        text-align: right;\n",
              "    }\n",
              "</style>\n",
              "<table border=\"1\" class=\"dataframe\">\n",
              "  <thead>\n",
              "    <tr style=\"text-align: right;\">\n",
              "      <th></th>\n",
              "      <th>발생년</th>\n",
              "      <th>사망자수</th>\n",
              "      <th>부상자수</th>\n",
              "      <th>중상자수</th>\n",
              "      <th>경상자수</th>\n",
              "      <th>부상신고자수</th>\n",
              "      <th>발생위치X_UTMK</th>\n",
              "      <th>발생위치Y_UTMK</th>\n",
              "      <th>경도</th>\n",
              "      <th>위도</th>\n",
              "    </tr>\n",
              "  </thead>\n",
              "  <tbody>\n",
              "    <tr>\n",
              "      <th>count</th>\n",
              "      <td>6216.000000</td>\n",
              "      <td>6216.000000</td>\n",
              "      <td>6216.000000</td>\n",
              "      <td>6216.000000</td>\n",
              "      <td>6216.000000</td>\n",
              "      <td>6216.000000</td>\n",
              "      <td>6.216000e+03</td>\n",
              "      <td>6.216000e+03</td>\n",
              "      <td>6216.000000</td>\n",
              "      <td>6216.000000</td>\n",
              "    </tr>\n",
              "    <tr>\n",
              "      <th>mean</th>\n",
              "      <td>2019.479891</td>\n",
              "      <td>1.034427</td>\n",
              "      <td>0.536197</td>\n",
              "      <td>0.213803</td>\n",
              "      <td>0.285071</td>\n",
              "      <td>0.037323</td>\n",
              "      <td>1.005456e+06</td>\n",
              "      <td>1.818580e+06</td>\n",
              "      <td>127.558158</td>\n",
              "      <td>36.361523</td>\n",
              "    </tr>\n",
              "    <tr>\n",
              "      <th>std</th>\n",
              "      <td>0.499636</td>\n",
              "      <td>0.224283</td>\n",
              "      <td>1.718662</td>\n",
              "      <td>0.735586</td>\n",
              "      <td>1.106614</td>\n",
              "      <td>0.379130</td>\n",
              "      <td>7.678121e+04</td>\n",
              "      <td>1.179693e+05</td>\n",
              "      <td>0.851996</td>\n",
              "      <td>1.064606</td>\n",
              "    </tr>\n",
              "    <tr>\n",
              "      <th>min</th>\n",
              "      <td>2019.000000</td>\n",
              "      <td>1.000000</td>\n",
              "      <td>0.000000</td>\n",
              "      <td>0.000000</td>\n",
              "      <td>0.000000</td>\n",
              "      <td>0.000000</td>\n",
              "      <td>7.551000e+05</td>\n",
              "      <td>1.470790e+06</td>\n",
              "      <td>124.717593</td>\n",
              "      <td>33.222138</td>\n",
              "    </tr>\n",
              "    <tr>\n",
              "      <th>25%</th>\n",
              "      <td>2019.000000</td>\n",
              "      <td>1.000000</td>\n",
              "      <td>0.000000</td>\n",
              "      <td>0.000000</td>\n",
              "      <td>0.000000</td>\n",
              "      <td>0.000000</td>\n",
              "      <td>9.459448e+05</td>\n",
              "      <td>1.724816e+06</td>\n",
              "      <td>126.897313</td>\n",
              "      <td>35.515505</td>\n",
              "    </tr>\n",
              "    <tr>\n",
              "      <th>50%</th>\n",
              "      <td>2019.000000</td>\n",
              "      <td>1.000000</td>\n",
              "      <td>0.000000</td>\n",
              "      <td>0.000000</td>\n",
              "      <td>0.000000</td>\n",
              "      <td>0.000000</td>\n",
              "      <td>9.759160e+05</td>\n",
              "      <td>1.825041e+06</td>\n",
              "      <td>127.230159</td>\n",
              "      <td>36.420036</td>\n",
              "    </tr>\n",
              "    <tr>\n",
              "      <th>75%</th>\n",
              "      <td>2020.000000</td>\n",
              "      <td>1.000000</td>\n",
              "      <td>0.000000</td>\n",
              "      <td>0.000000</td>\n",
              "      <td>0.000000</td>\n",
              "      <td>0.000000</td>\n",
              "      <td>1.071914e+06</td>\n",
              "      <td>1.930338e+06</td>\n",
              "      <td>128.305186</td>\n",
              "      <td>37.370871</td>\n",
              "    </tr>\n",
              "    <tr>\n",
              "      <th>max</th>\n",
              "      <td>2020.000000</td>\n",
              "      <td>6.000000</td>\n",
              "      <td>34.000000</td>\n",
              "      <td>17.000000</td>\n",
              "      <td>26.000000</td>\n",
              "      <td>15.000000</td>\n",
              "      <td>1.296158e+06</td>\n",
              "      <td>2.048977e+06</td>\n",
              "      <td>130.848830</td>\n",
              "      <td>38.437576</td>\n",
              "    </tr>\n",
              "  </tbody>\n",
              "</table>\n",
              "</div>"
            ],
            "text/plain": [
              "               발생년         사망자수  ...           경도           위도\n",
              "count  6216.000000  6216.000000  ...  6216.000000  6216.000000\n",
              "mean   2019.479891     1.034427  ...   127.558158    36.361523\n",
              "std       0.499636     0.224283  ...     0.851996     1.064606\n",
              "min    2019.000000     1.000000  ...   124.717593    33.222138\n",
              "25%    2019.000000     1.000000  ...   126.897313    35.515505\n",
              "50%    2019.000000     1.000000  ...   127.230159    36.420036\n",
              "75%    2020.000000     1.000000  ...   128.305186    37.370871\n",
              "max    2020.000000     6.000000  ...   130.848830    38.437576\n",
              "\n",
              "[8 rows x 10 columns]"
            ]
          },
          "metadata": {
            "tags": []
          },
          "execution_count": 173
        }
      ]
    },
    {
      "cell_type": "code",
      "metadata": {
        "colab": {
          "base_uri": "https://localhost:8080/",
          "height": 230
        },
        "id": "eBKIhtaZGVWz",
        "outputId": "3626c415-4f1d-42a3-f66b-8cf5193abe34"
      },
      "source": [
        "df_acci.head(2)"
      ],
      "execution_count": 148,
      "outputs": [
        {
          "output_type": "execute_result",
          "data": {
            "text/html": [
              "<div>\n",
              "<style scoped>\n",
              "    .dataframe tbody tr th:only-of-type {\n",
              "        vertical-align: middle;\n",
              "    }\n",
              "\n",
              "    .dataframe tbody tr th {\n",
              "        vertical-align: top;\n",
              "    }\n",
              "\n",
              "    .dataframe thead th {\n",
              "        text-align: right;\n",
              "    }\n",
              "</style>\n",
              "<table border=\"1\" class=\"dataframe\">\n",
              "  <thead>\n",
              "    <tr style=\"text-align: right;\">\n",
              "      <th></th>\n",
              "      <th>발생년</th>\n",
              "      <th>발생년월일시</th>\n",
              "      <th>주야</th>\n",
              "      <th>요일</th>\n",
              "      <th>사망자수</th>\n",
              "      <th>부상자수</th>\n",
              "      <th>중상자수</th>\n",
              "      <th>경상자수</th>\n",
              "      <th>부상신고자수</th>\n",
              "      <th>발생지시도</th>\n",
              "      <th>발생지시군구</th>\n",
              "      <th>사고유형_대분류</th>\n",
              "      <th>사고유형_중분류</th>\n",
              "      <th>사고유형</th>\n",
              "      <th>가해자법규위반</th>\n",
              "      <th>도로형태_대분류</th>\n",
              "      <th>도로형태</th>\n",
              "      <th>가해자_당사자종별</th>\n",
              "      <th>피해자_당사자종별</th>\n",
              "      <th>발생위치X_UTMK</th>\n",
              "      <th>발생위치Y_UTMK</th>\n",
              "      <th>경도</th>\n",
              "      <th>위도</th>\n",
              "      <th>datetime</th>\n",
              "    </tr>\n",
              "  </thead>\n",
              "  <tbody>\n",
              "    <tr>\n",
              "      <th>0</th>\n",
              "      <td>2020</td>\n",
              "      <td>2020-01-01 05</td>\n",
              "      <td>야</td>\n",
              "      <td>수</td>\n",
              "      <td>1</td>\n",
              "      <td>0</td>\n",
              "      <td>0</td>\n",
              "      <td>0</td>\n",
              "      <td>0</td>\n",
              "      <td>서울</td>\n",
              "      <td>강남구</td>\n",
              "      <td>차대사람</td>\n",
              "      <td>차도통행중</td>\n",
              "      <td>차도통행중</td>\n",
              "      <td>안전운전 의무 불이행</td>\n",
              "      <td>단일로</td>\n",
              "      <td>기타단일로</td>\n",
              "      <td>승용차</td>\n",
              "      <td>보행자</td>\n",
              "      <td>959928.0</td>\n",
              "      <td>1943154.0</td>\n",
              "      <td>127.046727</td>\n",
              "      <td>37.486761</td>\n",
              "      <td>2020-01-01</td>\n",
              "    </tr>\n",
              "    <tr>\n",
              "      <th>1</th>\n",
              "      <td>2020</td>\n",
              "      <td>2020-01-01 05</td>\n",
              "      <td>야</td>\n",
              "      <td>수</td>\n",
              "      <td>1</td>\n",
              "      <td>0</td>\n",
              "      <td>0</td>\n",
              "      <td>0</td>\n",
              "      <td>0</td>\n",
              "      <td>경기</td>\n",
              "      <td>화성시</td>\n",
              "      <td>차대차</td>\n",
              "      <td>추돌</td>\n",
              "      <td>추돌</td>\n",
              "      <td>안전운전 의무 불이행</td>\n",
              "      <td>단일로</td>\n",
              "      <td>기타단일로</td>\n",
              "      <td>승용차</td>\n",
              "      <td>화물차</td>\n",
              "      <td>951237.0</td>\n",
              "      <td>1916995.0</td>\n",
              "      <td>126.950147</td>\n",
              "      <td>37.250560</td>\n",
              "      <td>2020-01-01</td>\n",
              "    </tr>\n",
              "  </tbody>\n",
              "</table>\n",
              "</div>"
            ],
            "text/plain": [
              "    발생년         발생년월일시 주야 요일  ...  발생위치Y_UTMK          경도         위도    datetime\n",
              "0  2020  2020-01-01 05  야  수  ...   1943154.0  127.046727  37.486761  2020-01-01\n",
              "1  2020  2020-01-01 05  야  수  ...   1916995.0  126.950147  37.250560  2020-01-01\n",
              "\n",
              "[2 rows x 24 columns]"
            ]
          },
          "metadata": {
            "tags": []
          },
          "execution_count": 148
        }
      ]
    },
    {
      "cell_type": "code",
      "metadata": {
        "id": "QLixXQKdBVGJ"
      },
      "source": [
        "import datetime\n",
        "df_acci['year_month'] = [(x.split('-')[0]+'-'+x.split('-')[1]) for x in df_acci['datetime']]\n",
        "df_acci.head(3)"
      ],
      "execution_count": null,
      "outputs": []
    },
    {
      "cell_type": "code",
      "metadata": {
        "id": "W1bT19UcG1S3"
      },
      "source": [
        "df_2wheel = df_acci[df_acci['가해자_당사자종별']=='이륜차']"
      ],
      "execution_count": 153,
      "outputs": []
    },
    {
      "cell_type": "code",
      "metadata": {
        "colab": {
          "base_uri": "https://localhost:8080/",
          "height": 528
        },
        "id": "N1BdxEg-Bdm8",
        "outputId": "92cbfba3-6e59-445d-ba43-b32ba6b41ba9"
      },
      "source": [
        "plt.figure(figsize=(12,8))\n",
        "sns.barplot(x=df_acci[df_acci['가해자_당사자종별']=='이륜차'].groupby('year_month')['year_month'].count().index,\n",
        "            y=df_acci[df_acci['가해자_당사자종별']=='이륜차'].groupby('year_month')['year_month'].count())\n",
        "plt.xticks(rotation=90)\n",
        "plt.show()"
      ],
      "execution_count": 156,
      "outputs": [
        {
          "output_type": "display_data",
          "data": {
            "image/png": "[encoded data removed]",
            "text/plain": [
              "<Figure size 864x576 with 1 Axes>"
            ]
          },
          "metadata": {
            "tags": [],
            "needs_background": "light"
          }
        }
      ]
    },
    {
      "cell_type": "code",
      "metadata": {
        "id": "3m1PFXVULqvN"
      },
      "source": [
        "df_seoul = df_acci[df_acci['발생지시도'] == '서울']"
      ],
      "execution_count": 179,
      "outputs": []
    },
    {
      "cell_type": "code",
      "metadata": {
        "colab": {
          "base_uri": "https://localhost:8080/",
          "height": 528
        },
        "id": "V-B4GfrNLpJL",
        "outputId": "79a183e1-018e-4c18-9c39-b4c3b419a8ec"
      },
      "source": [
        "plt.figure(figsize=(12,8))\n",
        "sns.barplot(x=df_seoul[df_seoul['가해자_당사자종별']=='이륜차'].groupby('year_month')['year_month'].count().index,\n",
        "            y=df_seoul[df_seoul['가해자_당사자종별']=='이륜차'].groupby('year_month')['year_month'].count())\n",
        "plt.xticks(rotation=90)\n",
        "plt.show()"
      ],
      "execution_count": 181,
      "outputs": [
        {
          "output_type": "display_data",
          "data": {
            "image/png": "[encoded data removed]",
            "text/plain": [
              "<Figure size 864x576 with 1 Axes>"
            ]
          },
          "metadata": {
            "tags": [],
            "needs_background": "light"
          }
        }
      ]
    },
    {
      "cell_type": "code",
      "metadata": {
        "colab": {
          "base_uri": "https://localhost:8080/"
        },
        "id": "bg9O_X4IJNvl",
        "outputId": "644cd898-92aa-4d88-bff1-66cc44dc013d"
      },
      "source": [
        "df_2wheel.columns"
      ],
      "execution_count": 159,
      "outputs": [
        {
          "output_type": "execute_result",
          "data": {
            "text/plain": [
              "Index(['발생년', '발생년월일시', '주야', '요일', '사망자수', '부상자수', '중상자수', '경상자수', '부상신고자수',\n",
              "       '발생지시도', '발생지시군구', '사고유형_대분류', '사고유형_중분류', '사고유형', '가해자법규위반',\n",
              "       '도로형태_대분류', '도로형태', '가해자_당사자종별', '피해자_당사자종별', '발생위치X_UTMK',\n",
              "       '발생위치Y_UTMK', '경도', '위도', 'datetime', 'year_month'],\n",
              "      dtype='object')"
            ]
          },
          "metadata": {
            "tags": []
          },
          "execution_count": 159
        }
      ]
    },
    {
      "cell_type": "code",
      "metadata": {
        "colab": {
          "base_uri": "https://localhost:8080/"
        },
        "id": "Blt7jqErHoHU",
        "outputId": "8dad5c25-507f-4a1b-eaa0-f94af5d5cc0a"
      },
      "source": [
        "df_2wheel['사고유형_대분류'].unique()"
      ],
      "execution_count": 160,
      "outputs": [
        {
          "output_type": "execute_result",
          "data": {
            "text/plain": [
              "array(['차대차', '차량단독', '차대사람', '철길건널목'], dtype=object)"
            ]
          },
          "metadata": {
            "tags": []
          },
          "execution_count": 160
        }
      ]
    },
    {
      "cell_type": "code",
      "metadata": {
        "colab": {
          "base_uri": "https://localhost:8080/"
        },
        "id": "UTS9XoSvMF0a",
        "outputId": "59b7ec5b-ffc8-449d-832f-52b08cca02f5"
      },
      "source": [
        "df_2wheel['사고유형_중분류'].unique()"
      ],
      "execution_count": 182,
      "outputs": [
        {
          "output_type": "execute_result",
          "data": {
            "text/plain": [
              "array(['기타', '측면충돌', '정면충돌', '공작물충돌', '추돌', '전도', '전복', '횡단중', '도로이탈',\n",
              "       '보도통행중', '차도통행중', '철길건널목', '주/정차차량 충돌'], dtype=object)"
            ]
          },
          "metadata": {
            "tags": []
          },
          "execution_count": 182
        }
      ]
    },
    {
      "cell_type": "code",
      "metadata": {
        "colab": {
          "base_uri": "https://localhost:8080/"
        },
        "id": "RT_sQze-MGDh",
        "outputId": "f82ea890-c763-40ad-ac60-36cd27e31f64"
      },
      "source": [
        "df_2wheel['가해자법규위반'].unique()"
      ],
      "execution_count": 184,
      "outputs": [
        {
          "output_type": "execute_result",
          "data": {
            "text/plain": [
              "array(['안전운전 의무 불이행', '신호위반', '안전거리 미확보', '교차로 통행방법 위반', '기타', '과속',\n",
              "       '중앙선 침범', '보행자 보호의무 위반'], dtype=object)"
            ]
          },
          "metadata": {
            "tags": []
          },
          "execution_count": 184
        }
      ]
    },
    {
      "cell_type": "code",
      "metadata": {
        "colab": {
          "base_uri": "https://localhost:8080/",
          "height": 528
        },
        "id": "k3BmUg3kHV4Y",
        "outputId": "9dbea206-c312-4312-a95f-93933af40577"
      },
      "source": [
        "plt.figure(figsize=(12,8))\n",
        "sns.barplot(x=df_2wheel[df_2wheel['사고유형_대분류']=='차량단독'].groupby('year_month')['year_month'].count().index,\n",
        "            y=df_2wheel[df_2wheel['사고유형_대분류']=='차량단독'].groupby('year_month')['year_month'].count())\n",
        "plt.xticks(rotation=90)\n",
        "plt.show()"
      ],
      "execution_count": 162,
      "outputs": [
        {
          "output_type": "display_data",
          "data": {
            "image/png": "[encoded data removed]",
            "text/plain": [
              "<Figure size 864x576 with 1 Axes>"
            ]
          },
          "metadata": {
            "tags": [],
            "needs_background": "light"
          }
        }
      ]
    },
    {
      "cell_type": "code",
      "metadata": {
        "colab": {
          "base_uri": "https://localhost:8080/",
          "height": 556
        },
        "id": "wSdIIJ7YJsYT",
        "outputId": "5e472655-ee7b-4b1e-a22c-15d6a6c565bc"
      },
      "source": [
        "plt.figure(figsize=(12,8))\n",
        "sns.barplot(x=df_2wheel.groupby('사고유형')['year_month'].count().index, y=df_2wheel.groupby('사고유형')['year_month'].count())\n",
        "plt.xticks(rotation=90)\n",
        "plt.show()"
      ],
      "execution_count": 172,
      "outputs": [
        {
          "output_type": "display_data",
          "data": {
            "image/png": "[encoded data removed]",
            "text/plain": [
              "<Figure size 864x576 with 1 Axes>"
            ]
          },
          "metadata": {
            "tags": [],
            "needs_background": "light"
          }
        }
      ]
    },
    {
      "cell_type": "code",
      "metadata": {
        "colab": {
          "base_uri": "https://localhost:8080/",
          "height": 528
        },
        "id": "2w5mcpZULb5Z",
        "outputId": "5d62c3cc-4fab-4595-ae14-2af2ce75e31f"
      },
      "source": [
        "plt.figure(figsize=(12,8))\n",
        "sns.barplot(x=df_2wheel[df_2wheel['가해자법규위반']=='안전운전 의무 불이행'].groupby('year_month')['year_month'].count().index,\n",
        "            y=df_2wheel[df_2wheel['가해자법규위반']=='안전운전 의무 불이행'].groupby('year_month')['year_month'].count())\n",
        "plt.xticks(rotation=90)\n",
        "plt.show()"
      ],
      "execution_count": 178,
      "outputs": [
        {
          "output_type": "display_data",
          "data": {
            "image/png": "[encoded data removed]",
            "text/plain": [
              "<Figure size 864x576 with 1 Axes>"
            ]
          },
          "metadata": {
            "tags": [],
            "needs_background": "light"
          }
        }
      ]
    },
    {
      "cell_type": "code",
      "metadata": {
        "colab": {
          "base_uri": "https://localhost:8080/",
          "height": 528
        },
        "id": "mgP0lc7kK9J4",
        "outputId": "4aa732b4-25dd-462c-a9ff-94dc5897397c"
      },
      "source": [
        "plt.figure(figsize=(12,8))\n",
        "sns.barplot(x=df_2wheel[df_2wheel['가해자법규위반']=='신호위반'].groupby('year_month')['year_month'].count().index,\n",
        "            y=df_2wheel[df_2wheel['가해자법규위반']=='신호위반'].groupby('year_month')['year_month'].count())\n",
        "plt.xticks(rotation=90)\n",
        "plt.show()"
      ],
      "execution_count": 176,
      "outputs": [
        {
          "output_type": "display_data",
          "data": {
            "image/png": "[encoded data removed]",
            "text/plain": [
              "<Figure size 864x576 with 1 Axes>"
            ]
          },
          "metadata": {
            "tags": [],
            "needs_background": "light"
          }
        }
      ]
    },
    {
      "cell_type": "code",
      "metadata": {
        "id": "L1PYQ2d3qSHb"
      },
      "source": [
        "import folium"
      ],
      "execution_count": 195,
      "outputs": []
    },
    {
      "cell_type": "code",
      "metadata": {
        "colab": {
          "base_uri": "https://localhost:8080/",
          "height": 808
        },
        "id": "Jd5j2lAMqUlG",
        "outputId": "10ac5ddd-0c1f-424c-cea4-ceb0759a03ca"
      },
      "source": [
        "# 새로운 지도 객체 생성\n",
        "new_map = folium.Map(location=[37.5642135, 127.0016985], zoom_start=12, tiles='Stamen Toner')\n",
        "\n",
        "df_mapping = df_seoul.sample(10)\n",
        "# 마커 \n",
        "for i, m in df_mapping.iterrows():\n",
        "  marker = folium.Marker(location=[m['위도'], m['경도']],\n",
        "                         popup = m['발생지시군구'])\n",
        "  marker.add_to(new_map)\n",
        " \n",
        "new_map"
      ],
      "execution_count": 25,
      "outputs": [
        {
          "output_type": "execute_result",
          "data": {
            "text/html": [
              "<div style=\"width:100%;\"><div style=\"position:relative;width:100%;height:0;padding-bottom:60%;\"><span style=\"color:#565656\">Make this Notebook Trusted to load map: File -> Trust Notebook</span><iframe src=\"about:blank\" style=\"position:absolute;width:100%;height:100%;left:0;top:0;border:none !important;\" data-html=%3C%21DOCTYPE%20html%3E%0A%3Chead%3E%20%20%20%20%0A%20%20%20%20%3Cmeta%20http-equiv%3D%22content-type%22%20content%3D%22text/html%3B%20charset%3DUTF-8%22%20/%3E%0A%20%20%20%20%3Cscript%3EL_PREFER_CANVAS%3Dfalse%3B%20L_NO_TOUCH%3Dfalse%3B%20L_DISABLE_3D%3Dfalse%3B%3C/script%3E%0A%20%20%20%20%3Cscript%20src%3D%22https%3A//cdn.jsdelivr.net/npm/leaflet%401.4.0/dist/leaflet.js%22%3E%3C/script%3E%0A%20%20%20%20%3Cscript%20src%3D%22https%3A//code.jquery.com/jquery-1.12.4.min.js%22%3E%3C/script%3E%0A%20%20%20%20%3Cscript%20src%3D%22https%3A//maxcdn.bootstrapcdn.com/bootstrap/3.2.0/js/bootstrap.min.js%22%3E%3C/script%3E%0A%20%20%20%20%3Cscript%20src%3D%22https%3A//cdnjs.cloudflare.com/ajax/libs/Leaflet.awesome-markers/2.0.2/leaflet.awesome-markers.js%22%3E%3C/script%3E%0A%20%20%20%20%3Clink%20rel%3D%22stylesheet%22%20href%3D%22https%3A//cdn.jsdelivr.net/npm/leaflet%401.4.0/dist/leaflet.css%22/%3E%0A%20%20%20%20%3Clink%20rel%3D%22stylesheet%22%20href%3D%22https%3A//maxcdn.bootstrapcdn.com/bootstrap/3.2.0/css/bootstrap.min.css%22/%3E%0A%20%20%20%20%3Clink%20rel%3D%22stylesheet%22%20href%3D%22https%3A//maxcdn.bootstrapcdn.com/bootstrap/3.2.0/css/bootstrap-theme.min.css%22/%3E%0A%20%20%20%20%3Clink%20rel%3D%22stylesheet%22%20href%3D%22https%3A//maxcdn.bootstrapcdn.com/font-awesome/4.6.3/css/font-awesome.min.css%22/%3E%0A%20%20%20%20%3Clink%20rel%3D%22stylesheet%22%20href%3D%22https%3A//cdnjs.cloudflare.com/ajax/libs/Leaflet.awesome-markers/2.0.2/leaflet.awesome-markers.css%22/%3E%0A%20%20%20%20%3Clink%20rel%3D%22stylesheet%22%20href%3D%22https%3A//rawcdn.githack.com/python-visualization/folium/master/folium/templates/leaflet.awesome.rotate.css%22/%3E%0A%20%20%20%20%3Cstyle%3Ehtml%2C%20body%20%7Bwidth%3A%20100%25%3Bheight%3A%20100%25%3Bmargin%3A%200%3Bpadding%3A%200%3B%7D%3C/style%3E%0A%20%20%20%20%3Cstyle%3E%23map%20%7Bposition%3Aabsolute%3Btop%3A0%3Bbottom%3A0%3Bright%3A0%3Bleft%3A0%3B%7D%3C/style%3E%0A%20%20%20%20%0A%20%20%20%20%3Cmeta%20name%3D%22viewport%22%20content%3D%22width%3Ddevice-width%2C%0A%20%20%20%20%20%20%20%20initial-scale%3D1.0%2C%20maximum-scale%3D1.0%2C%20user-scalable%3Dno%22%20/%3E%0A%20%20%20%20%3Cstyle%3E%23map_262cdb15d3c5456a83578ad36e18a7ce%20%7B%0A%20%20%20%20%20%20%20%20position%3A%20relative%3B%0A%20%20%20%20%20%20%20%20width%3A%20100.0%25%3B%0A%20%20%20%20%20%20%20%20height%3A%20100.0%25%3B%0A%20%20%20%20%20%20%20%20left%3A%200.0%25%3B%0A%20%20%20%20%20%20%20%20top%3A%200.0%25%3B%0A%20%20%20%20%20%20%20%20%7D%0A%20%20%20%20%3C/style%3E%0A%3C/head%3E%0A%3Cbody%3E%20%20%20%20%0A%20%20%20%20%0A%20%20%20%20%3Cdiv%20class%3D%22folium-map%22%20id%3D%22map_262cdb15d3c5456a83578ad36e18a7ce%22%20%3E%3C/div%3E%0A%3C/body%3E%0A%3Cscript%3E%20%20%20%20%0A%20%20%20%20%0A%20%20%20%20%0A%20%20%20%20%20%20%20%20var%20bounds%20%3D%20null%3B%0A%20%20%20%20%0A%0A%20%20%20%20var%20map_262cdb15d3c5456a83578ad36e18a7ce%20%3D%20L.map%28%0A%20%20%20%20%20%20%20%20%27map_262cdb15d3c5456a83578ad36e18a7ce%27%2C%20%7B%0A%20%20%20%20%20%20%20%20center%3A%20%5B37.5642135%2C%20127.0016985%5D%2C%0A%20%20%20%20%20%20%20%20zoom%3A%2012%2C%0A%20%20%20%20%20%20%20%20maxBounds%3A%20bounds%2C%0A%20%20%20%20%20%20%20%20layers%3A%20%5B%5D%2C%0A%20%20%20%20%20%20%20%20worldCopyJump%3A%20false%2C%0A%20%20%20%20%20%20%20%20crs%3A%20L.CRS.EPSG3857%2C%0A%20%20%20%20%20%20%20%20zoomControl%3A%20true%2C%0A%20%20%20%20%20%20%20%20%7D%29%3B%0A%0A%0A%20%20%20%20%0A%20%20%20%20var%20tile_layer_39a5aa2d3c3f4daaa0b69febcc549a26%20%3D%20L.tileLayer%28%0A%20%20%20%20%20%20%20%20%27https%3A//stamen-tiles-%7Bs%7D.a.ssl.fastly.net/toner/%7Bz%7D/%7Bx%7D/%7By%7D.png%27%2C%0A%20%20%20%20%20%20%20%20%7B%0A%20%20%20%20%20%20%20%20%22attribution%22%3A%20null%2C%0A%20%20%20%20%20%20%20%20%22detectRetina%22%3A%20false%2C%0A%20%20%20%20%20%20%20%20%22maxNativeZoom%22%3A%2018%2C%0A%20%20%20%20%20%20%20%20%22maxZoom%22%3A%2018%2C%0A%20%20%20%20%20%20%20%20%22minZoom%22%3A%200%2C%0A%20%20%20%20%20%20%20%20%22noWrap%22%3A%20false%2C%0A%20%20%20%20%20%20%20%20%22opacity%22%3A%201%2C%0A%20%20%20%20%20%20%20%20%22subdomains%22%3A%20%22abc%22%2C%0A%20%20%20%20%20%20%20%20%22tms%22%3A%20false%0A%7D%29.addTo%28map_262cdb15d3c5456a83578ad36e18a7ce%29%3B%0A%20%20%20%20%0A%20%20%20%20%20%20%20%20var%20marker_e613cebd05a44e4cafe129c867897181%20%3D%20L.marker%28%0A%20%20%20%20%20%20%20%20%20%20%20%20%5B37.58049911%2C%20126.9515923%5D%2C%0A%20%20%20%20%20%20%20%20%20%20%20%20%7B%0A%20%20%20%20%20%20%20%20%20%20%20%20%20%20%20%20icon%3A%20new%20L.Icon.Default%28%29%2C%0A%20%20%20%20%20%20%20%20%20%20%20%20%20%20%20%20%7D%0A%20%20%20%20%20%20%20%20%20%20%20%20%29.addTo%28map_262cdb15d3c5456a83578ad36e18a7ce%29%3B%0A%20%20%20%20%20%20%20%20%0A%20%20%20%20%0A%20%20%20%20%20%20%20%20%20%20%20%20var%20popup_7bcb7267b4864bd4be8a77cc5ed06899%20%3D%20L.popup%28%7BmaxWidth%3A%20%27100%25%27%0A%20%20%20%20%20%20%20%20%20%20%20%20%0A%20%20%20%20%20%20%20%20%20%20%20%20%7D%29%3B%0A%0A%20%20%20%20%20%20%20%20%20%20%20%20%0A%20%20%20%20%20%20%20%20%20%20%20%20%20%20%20%20var%20html_1481029eadc443df9bee70cdc2624a7c%20%3D%20%24%28%60%3Cdiv%20id%3D%22html_1481029eadc443df9bee70cdc2624a7c%22%20style%3D%22width%3A%20100.0%25%3B%20height%3A%20100.0%25%3B%22%3E%EC%84%9C%EB%8C%80%EB%AC%B8%EA%B5%AC%3C/div%3E%60%29%5B0%5D%3B%0A%20%20%20%20%20%20%20%20%20%20%20%20%20%20%20%20popup_7bcb7267b4864bd4be8a77cc5ed06899.setContent%28html_1481029eadc443df9bee70cdc2624a7c%29%3B%0A%20%20%20%20%20%20%20%20%20%20%20%20%0A%0A%20%20%20%20%20%20%20%20%20%20%20%20marker_e613cebd05a44e4cafe129c867897181.bindPopup%28popup_7bcb7267b4864bd4be8a77cc5ed06899%29%0A%20%20%20%20%20%20%20%20%20%20%20%20%3B%0A%0A%20%20%20%20%20%20%20%20%20%20%20%20%0A%20%20%20%20%20%20%20%20%0A%20%20%20%20%0A%20%20%20%20%20%20%20%20var%20marker_c88ef041c20749d59e5d6e7234607535%20%3D%20L.marker%28%0A%20%20%20%20%20%20%20%20%20%20%20%20%5B37.55599023%2C%20126.9346897%5D%2C%0A%20%20%20%20%20%20%20%20%20%20%20%20%7B%0A%20%20%20%20%20%20%20%20%20%20%20%20%20%20%20%20icon%3A%20new%20L.Icon.Default%28%29%2C%0A%20%20%20%20%20%20%20%20%20%20%20%20%20%20%20%20%7D%0A%20%20%20%20%20%20%20%20%20%20%20%20%29.addTo%28map_262cdb15d3c5456a83578ad36e18a7ce%29%3B%0A%20%20%20%20%20%20%20%20%0A%20%20%20%20%0A%20%20%20%20%20%20%20%20%20%20%20%20var%20popup_78b54132051f4ee395a80bc487b7fa33%20%3D%20L.popup%28%7BmaxWidth%3A%20%27100%25%27%0A%20%20%20%20%20%20%20%20%20%20%20%20%0A%20%20%20%20%20%20%20%20%20%20%20%20%7D%29%3B%0A%0A%20%20%20%20%20%20%20%20%20%20%20%20%0A%20%20%20%20%20%20%20%20%20%20%20%20%20%20%20%20var%20html_96659cd2ff6a48d0b9383c2503d7a72e%20%3D%20%24%28%60%3Cdiv%20id%3D%22html_96659cd2ff6a48d0b9383c2503d7a72e%22%20style%3D%22width%3A%20100.0%25%3B%20height%3A%20100.0%25%3B%22%3E%EB%A7%88%ED%8F%AC%EA%B5%AC%3C/div%3E%60%29%5B0%5D%3B%0A%20%20%20%20%20%20%20%20%20%20%20%20%20%20%20%20popup_78b54132051f4ee395a80bc487b7fa33.setContent%28html_96659cd2ff6a48d0b9383c2503d7a72e%29%3B%0A%20%20%20%20%20%20%20%20%20%20%20%20%0A%0A%20%20%20%20%20%20%20%20%20%20%20%20marker_c88ef041c20749d59e5d6e7234607535.bindPopup%28popup_78b54132051f4ee395a80bc487b7fa33%29%0A%20%20%20%20%20%20%20%20%20%20%20%20%3B%0A%0A%20%20%20%20%20%20%20%20%20%20%20%20%0A%20%20%20%20%20%20%20%20%0A%20%20%20%20%0A%20%20%20%20%20%20%20%20var%20marker_dfe88409ea0e469f82b0376a26ca98d1%20%3D%20L.marker%28%0A%20%20%20%20%20%20%20%20%20%20%20%20%5B37.54959097%2C%20126.91223219999999%5D%2C%0A%20%20%20%20%20%20%20%20%20%20%20%20%7B%0A%20%20%20%20%20%20%20%20%20%20%20%20%20%20%20%20icon%3A%20new%20L.Icon.Default%28%29%2C%0A%20%20%20%20%20%20%20%20%20%20%20%20%20%20%20%20%7D%0A%20%20%20%20%20%20%20%20%20%20%20%20%29.addTo%28map_262cdb15d3c5456a83578ad36e18a7ce%29%3B%0A%20%20%20%20%20%20%20%20%0A%20%20%20%20%0A%20%20%20%20%20%20%20%20%20%20%20%20var%20popup_87100f9021354c53999875754bd8c006%20%3D%20L.popup%28%7BmaxWidth%3A%20%27100%25%27%0A%20%20%20%20%20%20%20%20%20%20%20%20%0A%20%20%20%20%20%20%20%20%20%20%20%20%7D%29%3B%0A%0A%20%20%20%20%20%20%20%20%20%20%20%20%0A%20%20%20%20%20%20%20%20%20%20%20%20%20%20%20%20var%20html_64bd1882db2a4803b4a3fa79d6a7aa78%20%3D%20%24%28%60%3Cdiv%20id%3D%22html_64bd1882db2a4803b4a3fa79d6a7aa78%22%20style%3D%22width%3A%20100.0%25%3B%20height%3A%20100.0%25%3B%22%3E%EB%A7%88%ED%8F%AC%EA%B5%AC%3C/div%3E%60%29%5B0%5D%3B%0A%20%20%20%20%20%20%20%20%20%20%20%20%20%20%20%20popup_87100f9021354c53999875754bd8c006.setContent%28html_64bd1882db2a4803b4a3fa79d6a7aa78%29%3B%0A%20%20%20%20%20%20%20%20%20%20%20%20%0A%0A%20%20%20%20%20%20%20%20%20%20%20%20marker_dfe88409ea0e469f82b0376a26ca98d1.bindPopup%28popup_87100f9021354c53999875754bd8c006%29%0A%20%20%20%20%20%20%20%20%20%20%20%20%3B%0A%0A%20%20%20%20%20%20%20%20%20%20%20%20%0A%20%20%20%20%20%20%20%20%0A%20%20%20%20%0A%20%20%20%20%20%20%20%20var%20marker_f8f6175baedf4e71b7182e1a771794f1%20%3D%20L.marker%28%0A%20%20%20%20%20%20%20%20%20%20%20%20%5B37.47426373%2C%20126.9912244%5D%2C%0A%20%20%20%20%20%20%20%20%20%20%20%20%7B%0A%20%20%20%20%20%20%20%20%20%20%20%20%20%20%20%20icon%3A%20new%20L.Icon.Default%28%29%2C%0A%20%20%20%20%20%20%20%20%20%20%20%20%20%20%20%20%7D%0A%20%20%20%20%20%20%20%20%20%20%20%20%29.addTo%28map_262cdb15d3c5456a83578ad36e18a7ce%29%3B%0A%20%20%20%20%20%20%20%20%0A%20%20%20%20%0A%20%20%20%20%20%20%20%20%20%20%20%20var%20popup_8659e62f95fc4e81a7b8be0ed42fb4b1%20%3D%20L.popup%28%7BmaxWidth%3A%20%27100%25%27%0A%20%20%20%20%20%20%20%20%20%20%20%20%0A%20%20%20%20%20%20%20%20%20%20%20%20%7D%29%3B%0A%0A%20%20%20%20%20%20%20%20%20%20%20%20%0A%20%20%20%20%20%20%20%20%20%20%20%20%20%20%20%20var%20html_4fee4ed720b4430c8f2343261a55d2f3%20%3D%20%24%28%60%3Cdiv%20id%3D%22html_4fee4ed720b4430c8f2343261a55d2f3%22%20style%3D%22width%3A%20100.0%25%3B%20height%3A%20100.0%25%3B%22%3E%EC%84%9C%EC%B4%88%EA%B5%AC%3C/div%3E%60%29%5B0%5D%3B%0A%20%20%20%20%20%20%20%20%20%20%20%20%20%20%20%20popup_8659e62f95fc4e81a7b8be0ed42fb4b1.setContent%28html_4fee4ed720b4430c8f2343261a55d2f3%29%3B%0A%20%20%20%20%20%20%20%20%20%20%20%20%0A%0A%20%20%20%20%20%20%20%20%20%20%20%20marker_f8f6175baedf4e71b7182e1a771794f1.bindPopup%28popup_8659e62f95fc4e81a7b8be0ed42fb4b1%29%0A%20%20%20%20%20%20%20%20%20%20%20%20%3B%0A%0A%20%20%20%20%20%20%20%20%20%20%20%20%0A%20%20%20%20%20%20%20%20%0A%20%20%20%20%0A%20%20%20%20%20%20%20%20var%20marker_a258149226354ee0a2bad47701486557%20%3D%20L.marker%28%0A%20%20%20%20%20%20%20%20%20%20%20%20%5B37.602796500000004%2C%20127.04230700000001%5D%2C%0A%20%20%20%20%20%20%20%20%20%20%20%20%7B%0A%20%20%20%20%20%20%20%20%20%20%20%20%20%20%20%20icon%3A%20new%20L.Icon.Default%28%29%2C%0A%20%20%20%20%20%20%20%20%20%20%20%20%20%20%20%20%7D%0A%20%20%20%20%20%20%20%20%20%20%20%20%29.addTo%28map_262cdb15d3c5456a83578ad36e18a7ce%29%3B%0A%20%20%20%20%20%20%20%20%0A%20%20%20%20%0A%20%20%20%20%20%20%20%20%20%20%20%20var%20popup_c31481bc2e964382b902afe4425100af%20%3D%20L.popup%28%7BmaxWidth%3A%20%27100%25%27%0A%20%20%20%20%20%20%20%20%20%20%20%20%0A%20%20%20%20%20%20%20%20%20%20%20%20%7D%29%3B%0A%0A%20%20%20%20%20%20%20%20%20%20%20%20%0A%20%20%20%20%20%20%20%20%20%20%20%20%20%20%20%20var%20html_0aeedc7e8d204749a48527245d47d789%20%3D%20%24%28%60%3Cdiv%20id%3D%22html_0aeedc7e8d204749a48527245d47d789%22%20style%3D%22width%3A%20100.0%25%3B%20height%3A%20100.0%25%3B%22%3E%EC%84%B1%EB%B6%81%EA%B5%AC%3C/div%3E%60%29%5B0%5D%3B%0A%20%20%20%20%20%20%20%20%20%20%20%20%20%20%20%20popup_c31481bc2e964382b902afe4425100af.setContent%28html_0aeedc7e8d204749a48527245d47d789%29%3B%0A%20%20%20%20%20%20%20%20%20%20%20%20%0A%0A%20%20%20%20%20%20%20%20%20%20%20%20marker_a258149226354ee0a2bad47701486557.bindPopup%28popup_c31481bc2e964382b902afe4425100af%29%0A%20%20%20%20%20%20%20%20%20%20%20%20%3B%0A%0A%20%20%20%20%20%20%20%20%20%20%20%20%0A%20%20%20%20%20%20%20%20%0A%20%20%20%20%0A%20%20%20%20%20%20%20%20var%20marker_10ccf1963367471e82613a429151a80b%20%3D%20L.marker%28%0A%20%20%20%20%20%20%20%20%20%20%20%20%5B37.55739918%2C%20126.9589625%5D%2C%0A%20%20%20%20%20%20%20%20%20%20%20%20%7B%0A%20%20%20%20%20%20%20%20%20%20%20%20%20%20%20%20icon%3A%20new%20L.Icon.Default%28%29%2C%0A%20%20%20%20%20%20%20%20%20%20%20%20%20%20%20%20%7D%0A%20%20%20%20%20%20%20%20%20%20%20%20%29.addTo%28map_262cdb15d3c5456a83578ad36e18a7ce%29%3B%0A%20%20%20%20%20%20%20%20%0A%20%20%20%20%0A%20%20%20%20%20%20%20%20%20%20%20%20var%20popup_95a3f3febd13473b8894cb8d8f4e7e2e%20%3D%20L.popup%28%7BmaxWidth%3A%20%27100%25%27%0A%20%20%20%20%20%20%20%20%20%20%20%20%0A%20%20%20%20%20%20%20%20%20%20%20%20%7D%29%3B%0A%0A%20%20%20%20%20%20%20%20%20%20%20%20%0A%20%20%20%20%20%20%20%20%20%20%20%20%20%20%20%20var%20html_afcc9e00c0354fa6bb4fa46ae14c5a5c%20%3D%20%24%28%60%3Cdiv%20id%3D%22html_afcc9e00c0354fa6bb4fa46ae14c5a5c%22%20style%3D%22width%3A%20100.0%25%3B%20height%3A%20100.0%25%3B%22%3E%EB%A7%88%ED%8F%AC%EA%B5%AC%3C/div%3E%60%29%5B0%5D%3B%0A%20%20%20%20%20%20%20%20%20%20%20%20%20%20%20%20popup_95a3f3febd13473b8894cb8d8f4e7e2e.setContent%28html_afcc9e00c0354fa6bb4fa46ae14c5a5c%29%3B%0A%20%20%20%20%20%20%20%20%20%20%20%20%0A%0A%20%20%20%20%20%20%20%20%20%20%20%20marker_10ccf1963367471e82613a429151a80b.bindPopup%28popup_95a3f3febd13473b8894cb8d8f4e7e2e%29%0A%20%20%20%20%20%20%20%20%20%20%20%20%3B%0A%0A%20%20%20%20%20%20%20%20%20%20%20%20%0A%20%20%20%20%20%20%20%20%0A%20%20%20%20%0A%20%20%20%20%20%20%20%20var%20marker_3dc28fbdb62641278ee7439213f7300c%20%3D%20L.marker%28%0A%20%20%20%20%20%20%20%20%20%20%20%20%5B37.53153532%2C%20127.01200619999999%5D%2C%0A%20%20%20%20%20%20%20%20%20%20%20%20%7B%0A%20%20%20%20%20%20%20%20%20%20%20%20%20%20%20%20icon%3A%20new%20L.Icon.Default%28%29%2C%0A%20%20%20%20%20%20%20%20%20%20%20%20%20%20%20%20%7D%0A%20%20%20%20%20%20%20%20%20%20%20%20%29.addTo%28map_262cdb15d3c5456a83578ad36e18a7ce%29%3B%0A%20%20%20%20%20%20%20%20%0A%20%20%20%20%0A%20%20%20%20%20%20%20%20%20%20%20%20var%20popup_13cc0b2564e64e708dfd7f4ff9c54b28%20%3D%20L.popup%28%7BmaxWidth%3A%20%27100%25%27%0A%20%20%20%20%20%20%20%20%20%20%20%20%0A%20%20%20%20%20%20%20%20%20%20%20%20%7D%29%3B%0A%0A%20%20%20%20%20%20%20%20%20%20%20%20%0A%20%20%20%20%20%20%20%20%20%20%20%20%20%20%20%20var%20html_5003adf1d8404774bbfdeba0f5e0b4c7%20%3D%20%24%28%60%3Cdiv%20id%3D%22html_5003adf1d8404774bbfdeba0f5e0b4c7%22%20style%3D%22width%3A%20100.0%25%3B%20height%3A%20100.0%25%3B%22%3E%EC%9A%A9%EC%82%B0%EA%B5%AC%3C/div%3E%60%29%5B0%5D%3B%0A%20%20%20%20%20%20%20%20%20%20%20%20%20%20%20%20popup_13cc0b2564e64e708dfd7f4ff9c54b28.setContent%28html_5003adf1d8404774bbfdeba0f5e0b4c7%29%3B%0A%20%20%20%20%20%20%20%20%20%20%20%20%0A%0A%20%20%20%20%20%20%20%20%20%20%20%20marker_3dc28fbdb62641278ee7439213f7300c.bindPopup%28popup_13cc0b2564e64e708dfd7f4ff9c54b28%29%0A%20%20%20%20%20%20%20%20%20%20%20%20%3B%0A%0A%20%20%20%20%20%20%20%20%20%20%20%20%0A%20%20%20%20%20%20%20%20%0A%20%20%20%20%0A%20%20%20%20%20%20%20%20var%20marker_54f7997eb8cd496487c447068968fa67%20%3D%20L.marker%28%0A%20%20%20%20%20%20%20%20%20%20%20%20%5B37.53531198%2C%20127.12215590000001%5D%2C%0A%20%20%20%20%20%20%20%20%20%20%20%20%7B%0A%20%20%20%20%20%20%20%20%20%20%20%20%20%20%20%20icon%3A%20new%20L.Icon.Default%28%29%2C%0A%20%20%20%20%20%20%20%20%20%20%20%20%20%20%20%20%7D%0A%20%20%20%20%20%20%20%20%20%20%20%20%29.addTo%28map_262cdb15d3c5456a83578ad36e18a7ce%29%3B%0A%20%20%20%20%20%20%20%20%0A%20%20%20%20%0A%20%20%20%20%20%20%20%20%20%20%20%20var%20popup_02ce71cea186489aaf7c0ee8067cf515%20%3D%20L.popup%28%7BmaxWidth%3A%20%27100%25%27%0A%20%20%20%20%20%20%20%20%20%20%20%20%0A%20%20%20%20%20%20%20%20%20%20%20%20%7D%29%3B%0A%0A%20%20%20%20%20%20%20%20%20%20%20%20%0A%20%20%20%20%20%20%20%20%20%20%20%20%20%20%20%20var%20html_35d16931a10f408eb55efe43fc54d072%20%3D%20%24%28%60%3Cdiv%20id%3D%22html_35d16931a10f408eb55efe43fc54d072%22%20style%3D%22width%3A%20100.0%25%3B%20height%3A%20100.0%25%3B%22%3E%EC%86%A1%ED%8C%8C%EA%B5%AC%3C/div%3E%60%29%5B0%5D%3B%0A%20%20%20%20%20%20%20%20%20%20%20%20%20%20%20%20popup_02ce71cea186489aaf7c0ee8067cf515.setContent%28html_35d16931a10f408eb55efe43fc54d072%29%3B%0A%20%20%20%20%20%20%20%20%20%20%20%20%0A%0A%20%20%20%20%20%20%20%20%20%20%20%20marker_54f7997eb8cd496487c447068968fa67.bindPopup%28popup_02ce71cea186489aaf7c0ee8067cf515%29%0A%20%20%20%20%20%20%20%20%20%20%20%20%3B%0A%0A%20%20%20%20%20%20%20%20%20%20%20%20%0A%20%20%20%20%20%20%20%20%0A%20%20%20%20%0A%20%20%20%20%20%20%20%20var%20marker_eab2792a739b4701b7303b0869a0777a%20%3D%20L.marker%28%0A%20%20%20%20%20%20%20%20%20%20%20%20%5B37.56449112%2C%20126.8113592%5D%2C%0A%20%20%20%20%20%20%20%20%20%20%20%20%7B%0A%20%20%20%20%20%20%20%20%20%20%20%20%20%20%20%20icon%3A%20new%20L.Icon.Default%28%29%2C%0A%20%20%20%20%20%20%20%20%20%20%20%20%20%20%20%20%7D%0A%20%20%20%20%20%20%20%20%20%20%20%20%29.addTo%28map_262cdb15d3c5456a83578ad36e18a7ce%29%3B%0A%20%20%20%20%20%20%20%20%0A%20%20%20%20%0A%20%20%20%20%20%20%20%20%20%20%20%20var%20popup_04322bdc05234fb787902a32efcf5e1c%20%3D%20L.popup%28%7BmaxWidth%3A%20%27100%25%27%0A%20%20%20%20%20%20%20%20%20%20%20%20%0A%20%20%20%20%20%20%20%20%20%20%20%20%7D%29%3B%0A%0A%20%20%20%20%20%20%20%20%20%20%20%20%0A%20%20%20%20%20%20%20%20%20%20%20%20%20%20%20%20var%20html_572ad5e7f09143c5afd138899a0dd649%20%3D%20%24%28%60%3Cdiv%20id%3D%22html_572ad5e7f09143c5afd138899a0dd649%22%20style%3D%22width%3A%20100.0%25%3B%20height%3A%20100.0%25%3B%22%3E%EA%B0%95%EC%84%9C%EA%B5%AC%3C/div%3E%60%29%5B0%5D%3B%0A%20%20%20%20%20%20%20%20%20%20%20%20%20%20%20%20popup_04322bdc05234fb787902a32efcf5e1c.setContent%28html_572ad5e7f09143c5afd138899a0dd649%29%3B%0A%20%20%20%20%20%20%20%20%20%20%20%20%0A%0A%20%20%20%20%20%20%20%20%20%20%20%20marker_eab2792a739b4701b7303b0869a0777a.bindPopup%28popup_04322bdc05234fb787902a32efcf5e1c%29%0A%20%20%20%20%20%20%20%20%20%20%20%20%3B%0A%0A%20%20%20%20%20%20%20%20%20%20%20%20%0A%20%20%20%20%20%20%20%20%0A%20%20%20%20%0A%20%20%20%20%20%20%20%20var%20marker_73cbf77721434b159cffa3fa8b8e4a30%20%3D%20L.marker%28%0A%20%20%20%20%20%20%20%20%20%20%20%20%5B37.53805259%2C%20127.0771031%5D%2C%0A%20%20%20%20%20%20%20%20%20%20%20%20%7B%0A%20%20%20%20%20%20%20%20%20%20%20%20%20%20%20%20icon%3A%20new%20L.Icon.Default%28%29%2C%0A%20%20%20%20%20%20%20%20%20%20%20%20%20%20%20%20%7D%0A%20%20%20%20%20%20%20%20%20%20%20%20%29.addTo%28map_262cdb15d3c5456a83578ad36e18a7ce%29%3B%0A%20%20%20%20%20%20%20%20%0A%20%20%20%20%0A%20%20%20%20%20%20%20%20%20%20%20%20var%20popup_7c677ec6659545f3b4f72cabe87843ec%20%3D%20L.popup%28%7BmaxWidth%3A%20%27100%25%27%0A%20%20%20%20%20%20%20%20%20%20%20%20%0A%20%20%20%20%20%20%20%20%20%20%20%20%7D%29%3B%0A%0A%20%20%20%20%20%20%20%20%20%20%20%20%0A%20%20%20%20%20%20%20%20%20%20%20%20%20%20%20%20var%20html_accb3a4166ce418fb3fd77e57da9a62e%20%3D%20%24%28%60%3Cdiv%20id%3D%22html_accb3a4166ce418fb3fd77e57da9a62e%22%20style%3D%22width%3A%20100.0%25%3B%20height%3A%20100.0%25%3B%22%3E%EA%B4%91%EC%A7%84%EA%B5%AC%3C/div%3E%60%29%5B0%5D%3B%0A%20%20%20%20%20%20%20%20%20%20%20%20%20%20%20%20popup_7c677ec6659545f3b4f72cabe87843ec.setContent%28html_accb3a4166ce418fb3fd77e57da9a62e%29%3B%0A%20%20%20%20%20%20%20%20%20%20%20%20%0A%0A%20%20%20%20%20%20%20%20%20%20%20%20marker_73cbf77721434b159cffa3fa8b8e4a30.bindPopup%28popup_7c677ec6659545f3b4f72cabe87843ec%29%0A%20%20%20%20%20%20%20%20%20%20%20%20%3B%0A%0A%20%20%20%20%20%20%20%20%20%20%20%20%0A%20%20%20%20%20%20%20%20%0A%3C/script%3E onload=\"this.contentDocument.open();this.contentDocument.write(    decodeURIComponent(this.getAttribute('data-html')));this.contentDocument.close();\" allowfullscreen webkitallowfullscreen mozallowfullscreen></iframe></div></div>"
            ],
            "text/plain": [
              "<folium.folium.Map at 0x7f21f0b2e5d0>"
            ]
          },
          "metadata": {
            "tags": []
          },
          "execution_count": 25
        }
      ]
    },
    {
      "cell_type": "code",
      "metadata": {
        "id": "rCZgWKfgxsb_",
        "colab": {
          "base_uri": "https://localhost:8080/"
        },
        "outputId": "ca1766a8-3527-49ab-ef49-4a1b4ca98d64"
      },
      "source": [
        "!pip install fiona\n",
        "!pip install geopandas\n",
        "!pip install shapely"
      ],
      "execution_count": 197,
      "outputs": [
        {
          "output_type": "stream",
          "text": [
            "Collecting fiona\n",
            "  Downloading Fiona-1.8.20-cp37-cp37m-manylinux1_x86_64.whl (15.4 MB)\n",
            "\u001b[K     |████████████████████████████████| 15.4 MB 80 kB/s \n",
            "\u001b[?25hRequirement already satisfied: setuptools in /usr/local/lib/python3.7/dist-packages (from fiona) (57.2.0)\n",
            "Collecting click-plugins>=1.0\n",
            "  Downloading click_plugins-1.1.1-py2.py3-none-any.whl (7.5 kB)\n",
            "Requirement already satisfied: six>=1.7 in /usr/local/lib/python3.7/dist-packages (from fiona) (1.15.0)\n",
            "Requirement already satisfied: click>=4.0 in /usr/local/lib/python3.7/dist-packages (from fiona) (7.1.2)\n",
            "Requirement already satisfied: attrs>=17 in /usr/local/lib/python3.7/dist-packages (from fiona) (21.2.0)\n",
            "Requirement already satisfied: certifi in /usr/local/lib/python3.7/dist-packages (from fiona) (2021.5.30)\n",
            "Collecting cligj>=0.5\n",
            "  Downloading cligj-0.7.2-py3-none-any.whl (7.1 kB)\n",
            "Collecting munch\n",
            "  Downloading munch-2.5.0-py2.py3-none-any.whl (10 kB)\n",
            "Installing collected packages: munch, cligj, click-plugins, fiona\n",
            "Successfully installed click-plugins-1.1.1 cligj-0.7.2 fiona-1.8.20 munch-2.5.0\n",
            "Collecting geopandas\n",
            "  Downloading geopandas-0.9.0-py2.py3-none-any.whl (994 kB)\n",
            "\u001b[K     |████████████████████████████████| 994 kB 11.7 MB/s \n",
            "\u001b[?25hCollecting pyproj>=2.2.0\n",
            "  Downloading pyproj-3.1.0-cp37-cp37m-manylinux2010_x86_64.whl (6.6 MB)\n",
            "\u001b[K     |████████████████████████████████| 6.6 MB 28.7 MB/s \n",
            "\u001b[?25hRequirement already satisfied: fiona>=1.8 in /usr/local/lib/python3.7/dist-packages (from geopandas) (1.8.20)\n",
            "Requirement already satisfied: pandas>=0.24.0 in /usr/local/lib/python3.7/dist-packages (from geopandas) (1.1.5)\n",
            "Requirement already satisfied: shapely>=1.6 in /usr/local/lib/python3.7/dist-packages (from geopandas) (1.7.1)\n",
            "Requirement already satisfied: attrs>=17 in /usr/local/lib/python3.7/dist-packages (from fiona>=1.8->geopandas) (21.2.0)\n",
            "Requirement already satisfied: click-plugins>=1.0 in /usr/local/lib/python3.7/dist-packages (from fiona>=1.8->geopandas) (1.1.1)\n",
            "Requirement already satisfied: certifi in /usr/local/lib/python3.7/dist-packages (from fiona>=1.8->geopandas) (2021.5.30)\n",
            "Requirement already satisfied: cligj>=0.5 in /usr/local/lib/python3.7/dist-packages (from fiona>=1.8->geopandas) (0.7.2)\n",
            "Requirement already satisfied: munch in /usr/local/lib/python3.7/dist-packages (from fiona>=1.8->geopandas) (2.5.0)\n",
            "Requirement already satisfied: click>=4.0 in /usr/local/lib/python3.7/dist-packages (from fiona>=1.8->geopandas) (7.1.2)\n",
            "Requirement already satisfied: six>=1.7 in /usr/local/lib/python3.7/dist-packages (from fiona>=1.8->geopandas) (1.15.0)\n",
            "Requirement already satisfied: setuptools in /usr/local/lib/python3.7/dist-packages (from fiona>=1.8->geopandas) (57.2.0)\n",
            "Requirement already satisfied: pytz>=2017.2 in /usr/local/lib/python3.7/dist-packages (from pandas>=0.24.0->geopandas) (2018.9)\n",
            "Requirement already satisfied: numpy>=1.15.4 in /usr/local/lib/python3.7/dist-packages (from pandas>=0.24.0->geopandas) (1.19.5)\n",
            "Requirement already satisfied: python-dateutil>=2.7.3 in /usr/local/lib/python3.7/dist-packages (from pandas>=0.24.0->geopandas) (2.8.1)\n",
            "Installing collected packages: pyproj, geopandas\n",
            "Successfully installed geopandas-0.9.0 pyproj-3.1.0\n",
            "Requirement already satisfied: shapely in /usr/local/lib/python3.7/dist-packages (1.7.1)\n"
          ],
          "name": "stdout"
        }
      ]
    },
    {
      "cell_type": "code",
      "metadata": {
        "id": "qLOxtewS9dpk"
      },
      "source": [
        "from fiona.crs import from_string\n",
        "import geopandas as gpd\n",
        "from shapely.geometry import Point, Polygon, LineString"
      ],
      "execution_count": 198,
      "outputs": []
    },
    {
      "cell_type": "code",
      "metadata": {
        "id": "FmWK57eE-kDe"
      },
      "source": [
        "df_seoul['geometry'] = df_seoul.apply(lambda row : Point([row['위도'], row['경도']]), axis=1)\n",
        "df_seoul = gpd.GeoDataFrame(df_seoul, geometry='geometry')\n",
        "\n",
        "df_acci['geometry'] = df_acci.apply(lambda row : Point([row['위도'], row['경도']]), axis=1)\n",
        "df_acci = gpd.GeoDataFrame(df_acci, geometry='geometry')"
      ],
      "execution_count": 200,
      "outputs": []
    },
    {
      "cell_type": "code",
      "metadata": {
        "colab": {
          "base_uri": "https://localhost:8080/",
          "height": 295
        },
        "id": "KGGl1kcg_A1o",
        "outputId": "1073b59b-c0b4-4328-fc8d-8016dac54977"
      },
      "source": [
        "df_seoul.head(3)"
      ],
      "execution_count": 52,
      "outputs": [
        {
          "output_type": "execute_result",
          "data": {
            "text/html": [
              "<div>\n",
              "<style scoped>\n",
              "    .dataframe tbody tr th:only-of-type {\n",
              "        vertical-align: middle;\n",
              "    }\n",
              "\n",
              "    .dataframe tbody tr th {\n",
              "        vertical-align: top;\n",
              "    }\n",
              "\n",
              "    .dataframe thead th {\n",
              "        text-align: right;\n",
              "    }\n",
              "</style>\n",
              "<table border=\"1\" class=\"dataframe\">\n",
              "  <thead>\n",
              "    <tr style=\"text-align: right;\">\n",
              "      <th></th>\n",
              "      <th>발생년</th>\n",
              "      <th>발생년월일시</th>\n",
              "      <th>주야</th>\n",
              "      <th>요일</th>\n",
              "      <th>사망자수</th>\n",
              "      <th>부상자수</th>\n",
              "      <th>중상자수</th>\n",
              "      <th>경상자수</th>\n",
              "      <th>부상신고자수</th>\n",
              "      <th>발생지시도</th>\n",
              "      <th>발생지시군구</th>\n",
              "      <th>사고유형_대분류</th>\n",
              "      <th>사고유형_중분류</th>\n",
              "      <th>사고유형</th>\n",
              "      <th>가해자법규위반</th>\n",
              "      <th>도로형태_대분류</th>\n",
              "      <th>도로형태</th>\n",
              "      <th>가해자_당사자종별</th>\n",
              "      <th>피해자_당사자종별</th>\n",
              "      <th>발생위치X_UTMK</th>\n",
              "      <th>발생위치Y_UTMK</th>\n",
              "      <th>경도</th>\n",
              "      <th>위도</th>\n",
              "      <th>geometry</th>\n",
              "    </tr>\n",
              "  </thead>\n",
              "  <tbody>\n",
              "    <tr>\n",
              "      <th>0</th>\n",
              "      <td>2020</td>\n",
              "      <td>2020-01-01 05</td>\n",
              "      <td>야</td>\n",
              "      <td>수</td>\n",
              "      <td>1</td>\n",
              "      <td>0</td>\n",
              "      <td>0</td>\n",
              "      <td>0</td>\n",
              "      <td>0</td>\n",
              "      <td>서울</td>\n",
              "      <td>강남구</td>\n",
              "      <td>차대사람</td>\n",
              "      <td>차도통행중</td>\n",
              "      <td>차도통행중</td>\n",
              "      <td>안전운전 의무 불이행</td>\n",
              "      <td>단일로</td>\n",
              "      <td>기타단일로</td>\n",
              "      <td>승용차</td>\n",
              "      <td>보행자</td>\n",
              "      <td>959928.0</td>\n",
              "      <td>1943154.0</td>\n",
              "      <td>127.046727</td>\n",
              "      <td>37.486761</td>\n",
              "      <td>POINT (37.487 127.047)</td>\n",
              "    </tr>\n",
              "    <tr>\n",
              "      <th>32</th>\n",
              "      <td>2020</td>\n",
              "      <td>2020-01-04 06</td>\n",
              "      <td>주</td>\n",
              "      <td>토</td>\n",
              "      <td>1</td>\n",
              "      <td>0</td>\n",
              "      <td>0</td>\n",
              "      <td>0</td>\n",
              "      <td>0</td>\n",
              "      <td>서울</td>\n",
              "      <td>동대문구</td>\n",
              "      <td>차대사람</td>\n",
              "      <td>횡단중</td>\n",
              "      <td>횡단중</td>\n",
              "      <td>안전운전 의무 불이행</td>\n",
              "      <td>단일로</td>\n",
              "      <td>기타단일로</td>\n",
              "      <td>승용차</td>\n",
              "      <td>보행자</td>\n",
              "      <td>961691.8</td>\n",
              "      <td>1951718.4</td>\n",
              "      <td>127.066231</td>\n",
              "      <td>37.564030</td>\n",
              "      <td>POINT (37.564 127.066)</td>\n",
              "    </tr>\n",
              "    <tr>\n",
              "      <th>48</th>\n",
              "      <td>2020</td>\n",
              "      <td>2020-01-06 10</td>\n",
              "      <td>주</td>\n",
              "      <td>월</td>\n",
              "      <td>1</td>\n",
              "      <td>0</td>\n",
              "      <td>0</td>\n",
              "      <td>0</td>\n",
              "      <td>0</td>\n",
              "      <td>서울</td>\n",
              "      <td>강서구</td>\n",
              "      <td>차대사람</td>\n",
              "      <td>횡단중</td>\n",
              "      <td>횡단중</td>\n",
              "      <td>안전운전 의무 불이행</td>\n",
              "      <td>교차로</td>\n",
              "      <td>교차로횡단보도내</td>\n",
              "      <td>화물차</td>\n",
              "      <td>보행자</td>\n",
              "      <td>939680.9</td>\n",
              "      <td>1952886.5</td>\n",
              "      <td>126.816916</td>\n",
              "      <td>37.573379</td>\n",
              "      <td>POINT (37.573 126.817)</td>\n",
              "    </tr>\n",
              "  </tbody>\n",
              "</table>\n",
              "</div>"
            ],
            "text/plain": [
              "     발생년         발생년월일시 주야  ...          경도         위도                geometry\n",
              "0   2020  2020-01-01 05  야  ...  127.046727  37.486761  POINT (37.487 127.047)\n",
              "32  2020  2020-01-04 06  주  ...  127.066231  37.564030  POINT (37.564 127.066)\n",
              "48  2020  2020-01-06 10  주  ...  126.816916  37.573379  POINT (37.573 126.817)\n",
              "\n",
              "[3 rows x 24 columns]"
            ]
          },
          "metadata": {
            "tags": []
          },
          "execution_count": 52
        }
      ]
    },
    {
      "cell_type": "code",
      "metadata": {
        "id": "NzFJyvtd9k8c"
      },
      "source": [
        "epsg5178 = from_string(\"+proj=tmerc +lat_0=38 +lon_0=127.5 +k=0.9996 +x_0=1000000 +y_0=2000000 +ellps=GRS80 +units=m +no_defs\")"
      ],
      "execution_count": 201,
      "outputs": []
    },
    {
      "cell_type": "code",
      "metadata": {
        "colab": {
          "base_uri": "https://localhost:8080/"
        },
        "id": "PDFopPnf_Lua",
        "outputId": "ff2d4a4d-0746-42c6-fd74-66a6500d691e"
      },
      "source": [
        "df_seoul.crs = epsg5178\n",
        "df_acci.crs = epsg5178\n",
        "print(df_seoul.crs)"
      ],
      "execution_count": 203,
      "outputs": [
        {
          "output_type": "stream",
          "text": [
            "+proj=tmerc +lat_0=38 +lon_0=127.5 +k=0.9996 +x_0=1000000 +y_0=2000000 +ellps=GRS80 +units=m +no_defs +type=crs\n"
          ],
          "name": "stdout"
        }
      ]
    },
    {
      "cell_type": "code",
      "metadata": {
        "id": "ebpjEPGf_t3V"
      },
      "source": [
        "# epsg4326 = from_string(\"proj=longlat +ellps=WGS84 +datum=WGS84 +no_defs\")"
      ],
      "execution_count": 33,
      "outputs": []
    },
    {
      "cell_type": "code",
      "metadata": {
        "id": "gnpo5YRX9efV"
      },
      "source": [
        "# df_acci = df_acci.to_crs(epsg4326)"
      ],
      "execution_count": 35,
      "outputs": []
    },
    {
      "cell_type": "code",
      "metadata": {
        "colab": {
          "base_uri": "https://localhost:8080/",
          "height": 808
        },
        "id": "F1fTU9ABFjvi",
        "outputId": "f19fe866-c3a7-4737-d472-efbc7bcf71c3"
      },
      "source": [
        "from folium import plugins\n",
        "new_map = folium.Map(location=[37.5642135, 127.0016985], zoom_start=12, tiles='Cartodb dark_matter')\n",
        "\n",
        "heat_data = [[point.xy[0][0], point.xy[1][0]] for point in df_seoul['geometry']]\n",
        "plugins.HeatMap(heat_data).add_to(new_map)\n",
        " \n",
        "new_map\n"
      ],
      "execution_count": 55,
      "outputs": [
        {
          "output_type": "execute_result",
          "data": {
            "text/html": [
              "<div style=\"width:100%;\"><div style=\"position:relative;width:100%;height:0;padding-bottom:60%;\"><span style=\"color:#565656\">Make this Notebook Trusted to load map: File -> Trust Notebook</span><iframe src=\"about:blank\" style=\"position:absolute;width:100%;height:100%;left:0;top:0;border:none !important;\" data-html=%3C%21DOCTYPE%20html%3E%0A%3Chead%3E%20%20%20%20%0A%20%20%20%20%3Cmeta%20http-equiv%3D%22content-type%22%20content%3D%22text/html%3B%20charset%3DUTF-8%22%20/%3E%0A%20%20%20%20%3Cscript%3EL_PREFER_CANVAS%3Dfalse%3B%20L_NO_TOUCH%3Dfalse%3B%20L_DISABLE_3D%3Dfalse%3B%3C/script%3E%0A%20%20%20%20%3Cscript%20src%3D%22https%3A//cdn.jsdelivr.net/npm/leaflet%401.4.0/dist/leaflet.js%22%3E%3C/script%3E%0A%20%20%20%20%3Cscript%20src%3D%22https%3A//code.jquery.com/jquery-1.12.4.min.js%22%3E%3C/script%3E%0A%20%20%20%20%3Cscript%20src%3D%22https%3A//maxcdn.bootstrapcdn.com/bootstrap/3.2.0/js/bootstrap.min.js%22%3E%3C/script%3E%0A%20%20%20%20%3Cscript%20src%3D%22https%3A//cdnjs.cloudflare.com/ajax/libs/Leaflet.awesome-markers/2.0.2/leaflet.awesome-markers.js%22%3E%3C/script%3E%0A%20%20%20%20%3Clink%20rel%3D%22stylesheet%22%20href%3D%22https%3A//cdn.jsdelivr.net/npm/leaflet%401.4.0/dist/leaflet.css%22/%3E%0A%20%20%20%20%3Clink%20rel%3D%22stylesheet%22%20href%3D%22https%3A//maxcdn.bootstrapcdn.com/bootstrap/3.2.0/css/bootstrap.min.css%22/%3E%0A%20%20%20%20%3Clink%20rel%3D%22stylesheet%22%20href%3D%22https%3A//maxcdn.bootstrapcdn.com/bootstrap/3.2.0/css/bootstrap-theme.min.css%22/%3E%0A%20%20%20%20%3Clink%20rel%3D%22stylesheet%22%20href%3D%22https%3A//maxcdn.bootstrapcdn.com/font-awesome/4.6.3/css/font-awesome.min.css%22/%3E%0A%20%20%20%20%3Clink%20rel%3D%22stylesheet%22%20href%3D%22https%3A//cdnjs.cloudflare.com/ajax/libs/Leaflet.awesome-markers/2.0.2/leaflet.awesome-markers.css%22/%3E%0A%20%20%20%20%3Clink%20rel%3D%22stylesheet%22%20href%3D%22https%3A//rawcdn.githack.com/python-visualization/folium/master/folium/templates/leaflet.awesome.rotate.css%22/%3E%0A%20%20%20%20%3Cstyle%3Ehtml%2C%20body%20%7Bwidth%3A%20100%25%3Bheight%3A%20100%25%3Bmargin%3A%200%3Bpadding%3A%200%3B%7D%3C/style%3E%0A%20%20%20%20%3Cstyle%3E%23map%20%7Bposition%3Aabsolute%3Btop%3A0%3Bbottom%3A0%3Bright%3A0%3Bleft%3A0%3B%7D%3C/style%3E%0A%20%20%20%20%0A%20%20%20%20%3Cmeta%20name%3D%22viewport%22%20content%3D%22width%3Ddevice-width%2C%0A%20%20%20%20%20%20%20%20initial-scale%3D1.0%2C%20maximum-scale%3D1.0%2C%20user-scalable%3Dno%22%20/%3E%0A%20%20%20%20%3Cstyle%3E%23map_51e98cb364104fab9ba98807e34a6729%20%7B%0A%20%20%20%20%20%20%20%20position%3A%20relative%3B%0A%20%20%20%20%20%20%20%20width%3A%20100.0%25%3B%0A%20%20%20%20%20%20%20%20height%3A%20100.0%25%3B%0A%20%20%20%20%20%20%20%20left%3A%200.0%25%3B%0A%20%20%20%20%20%20%20%20top%3A%200.0%25%3B%0A%20%20%20%20%20%20%20%20%7D%0A%20%20%20%20%3C/style%3E%0A%20%20%20%20%3Cscript%20src%3D%22https%3A//leaflet.github.io/Leaflet.heat/dist/leaflet-heat.js%22%3E%3C/script%3E%0A%3C/head%3E%0A%3Cbody%3E%20%20%20%20%0A%20%20%20%20%0A%20%20%20%20%3Cdiv%20class%3D%22folium-map%22%20id%3D%22map_51e98cb364104fab9ba98807e34a6729%22%20%3E%3C/div%3E%0A%3C/body%3E%0A%3Cscript%3E%20%20%20%20%0A%20%20%20%20%0A%20%20%20%20%0A%20%20%20%20%20%20%20%20var%20bounds%20%3D%20null%3B%0A%20%20%20%20%0A%0A%20%20%20%20var%20map_51e98cb364104fab9ba98807e34a6729%20%3D%20L.map%28%0A%20%20%20%20%20%20%20%20%27map_51e98cb364104fab9ba98807e34a6729%27%2C%20%7B%0A%20%20%20%20%20%20%20%20center%3A%20%5B37.5642135%2C%20127.0016985%5D%2C%0A%20%20%20%20%20%20%20%20zoom%3A%2012%2C%0A%20%20%20%20%20%20%20%20maxBounds%3A%20bounds%2C%0A%20%20%20%20%20%20%20%20layers%3A%20%5B%5D%2C%0A%20%20%20%20%20%20%20%20worldCopyJump%3A%20false%2C%0A%20%20%20%20%20%20%20%20crs%3A%20L.CRS.EPSG3857%2C%0A%20%20%20%20%20%20%20%20zoomControl%3A%20true%2C%0A%20%20%20%20%20%20%20%20%7D%29%3B%0A%0A%0A%20%20%20%20%0A%20%20%20%20var%20tile_layer_f3625fec041c4dd4a7b39e46413226ff%20%3D%20L.tileLayer%28%0A%20%20%20%20%20%20%20%20%27https%3A//cartodb-basemaps-%7Bs%7D.global.ssl.fastly.net/dark_all/%7Bz%7D/%7Bx%7D/%7By%7D.png%27%2C%0A%20%20%20%20%20%20%20%20%7B%0A%20%20%20%20%20%20%20%20%22attribution%22%3A%20null%2C%0A%20%20%20%20%20%20%20%20%22detectRetina%22%3A%20false%2C%0A%20%20%20%20%20%20%20%20%22maxNativeZoom%22%3A%2018%2C%0A%20%20%20%20%20%20%20%20%22maxZoom%22%3A%2018%2C%0A%20%20%20%20%20%20%20%20%22minZoom%22%3A%200%2C%0A%20%20%20%20%20%20%20%20%22noWrap%22%3A%20false%2C%0A%20%20%20%20%20%20%20%20%22opacity%22%3A%201%2C%0A%20%20%20%20%20%20%20%20%22subdomains%22%3A%20%22abc%22%2C%0A%20%20%20%20%20%20%20%20%22tms%22%3A%20false%0A%7D%29.addTo%28map_51e98cb364104fab9ba98807e34a6729%29%3B%0A%20%20%20%20%0A%20%20%20%20%20%20%20%20%20%20%20%20var%20heat_map_c7f63526e3274faa9b210ffb685ca04c%20%3D%20L.heatLayer%28%0A%20%20%20%20%20%20%20%20%20%20%20%20%20%20%20%20%5B%5B37.48676083%2C%20127.0467272%5D%2C%20%5B37.56402978%2C%20127.0662311%5D%2C%20%5B37.57337906%2C%20126.8169158%5D%2C%20%5B37.47426373%2C%20126.9912244%5D%2C%20%5B37.48847938%2C%20127.1003183%5D%2C%20%5B37.49834987%2C%20126.9933259%5D%2C%20%5B37.47136204%2C%20127.0439398%5D%2C%20%5B37.61597961%2C%20127.09300479999999%5D%2C%20%5B37.53083283%2C%20126.8316925%5D%2C%20%5B37.526507%2C%20126.91980020000001%5D%2C%20%5B37.50480794%2C%20127.06521509999999%5D%2C%20%5B37.54864129999999%2C%20126.8892134%5D%2C%20%5B37.55599023%2C%20126.9346897%5D%2C%20%5B37.50587516%2C%20126.8764805%5D%2C%20%5B37.56116184%2C%20126.8531598%5D%2C%20%5B37.60216476%2C%20126.93517649999998%5D%2C%20%5B37.49629358%2C%20127.1568919%5D%2C%20%5B37.57740042%2C%20126.9881486%5D%2C%20%5B37.54077826%2C%20127.1262656%5D%2C%20%5B37.53615087%2C%20126.8978983%5D%2C%20%5B37.5629436%2C%20126.903625%5D%2C%20%5B37.53051182%2C%20126.8859534%5D%2C%20%5B37.59996895%2C%20126.9064924%5D%2C%20%5B37.59531481%2C%20126.910706%5D%2C%20%5B37.52752443%2C%20127.02845740000001%5D%2C%20%5B37.602796500000004%2C%20127.04230700000001%5D%2C%20%5B37.52479841%2C%20127.0527057%5D%2C%20%5B37.48824499%2C%20126.9582389%5D%2C%20%5B37.52498905%2C%20126.99155800000001%5D%2C%20%5B37.51121874%2C%20126.8489847%5D%2C%20%5B37.50659369%2C%20127.11597140000002%5D%2C%20%5B37.56971816%2C%20127.0020378%5D%2C%20%5B37.59114177%2C%20126.94303700000002%5D%2C%20%5B37.54703391%2C%20126.87554579999998%5D%2C%20%5B37.57356333%2C%20126.8986685%5D%2C%20%5B37.48377828%2C%20126.9255091%5D%2C%20%5B37.640313%2C%20127.02654629999999%5D%2C%20%5B37.48555454%2C%20126.88152790000001%5D%2C%20%5B37.5446294%2C%20126.8893865%5D%2C%20%5B37.53153532%2C%20127.01200619999999%5D%2C%20%5B37.66290565%2C%20127.03923300000001%5D%2C%20%5B37.57835747%2C%20127.0550504%5D%2C%20%5B37.54415433%2C%20127.0549152%5D%2C%20%5B37.48998424%2C%20127.00779490000001%5D%2C%20%5B37.52462316%2C%20126.96803680000001%5D%2C%20%5B37.4920666%2C%20127.14393490000002%5D%2C%20%5B37.46234063%2C%20127.0187976%5D%2C%20%5B37.5429178%2C%20127.06169640000002%5D%2C%20%5B37.50727714%2C%20126.96178870000001%5D%2C%20%5B37.60902207%2C%20127.04720990000001%5D%2C%20%5B37.55906694%2C%20126.8336788%5D%2C%20%5B37.55040539%2C%20126.81904779999999%5D%2C%20%5B37.51694902%2C%20126.94186100000002%5D%2C%20%5B37.576355299999996%2C%20127.0305415%5D%2C%20%5B37.51025737%2C%20127.0438922%5D%2C%20%5B37.56357069%2C%20126.982276%5D%2C%20%5B37.54919793%2C%20126.96991580000001%5D%2C%20%5B37.48377343%2C%20126.9077341%5D%2C%20%5B37.56981946%2C%20127.0168727%5D%2C%20%5B37.53188917%2C%20127.10631629999999%5D%2C%20%5B37.52158529%2C%20127.0487324%5D%2C%20%5B37.55871521%2C%20126.8298199%5D%2C%20%5B37.48984933%2C%20126.9252239%5D%2C%20%5B37.5452874%2C%20127.0833416%5D%2C%20%5B37.53723047%2C%20126.9597206%5D%2C%20%5B37.49482017%2C%20126.8412898%5D%2C%20%5B37.51526025%2C%20126.9032205%5D%2C%20%5B37.599408200000006%2C%20127.07983290000001%5D%2C%20%5B37.49296722%2C%20127.1445845%5D%2C%20%5B37.64076035%2C%20127.0161744%5D%2C%20%5B37.60079966%2C%20127.10160320000001%5D%2C%20%5B37.54313598%2C%20127.13164209999998%5D%2C%20%5B37.52090403%2C%20127.0318703%5D%2C%20%5B37.48607369%2C%20127.1363248%5D%2C%20%5B37.51120884%2C%20127.02147350000001%5D%2C%20%5B37.47208303%2C%20126.8870956%5D%2C%20%5B37.55634257%2C%20126.9832578%5D%2C%20%5B37.54105832%2C%20126.8407836%5D%2C%20%5B37.54795422%2C%20126.870291%5D%2C%20%5B37.52637982%2C%20127.05163020000002%5D%2C%20%5B37.530777%2C%20127.0112845%5D%2C%20%5B37.54392195%2C%20126.9047659%5D%2C%20%5B37.54959097%2C%20126.91223219999999%5D%2C%20%5B37.51644238%2C%20126.83769369999999%5D%2C%20%5B37.47718981%2C%20127.10595420000001%5D%2C%20%5B37.57236067%2C%20126.96410759999999%5D%2C%20%5B37.58663294%2C%20127.01880159999999%5D%2C%20%5B37.59354956%2C%20127.0583808%5D%2C%20%5B37.61306926%2C%20127.06060740000001%5D%2C%20%5B37.52559834%2C%20127.05472560000001%5D%2C%20%5B37.58400843%2C%20126.94935120000001%5D%2C%20%5B37.58089134%2C%20126.7985621%5D%2C%20%5B37.51352404%2C%20126.93866270000001%5D%2C%20%5B37.52827416%2C%20126.8394271%5D%2C%20%5B37.50056234%2C%20126.94184720000001%5D%2C%20%5B37.45626421%2C%20126.9056275%5D%2C%20%5B37.47948782%2C%20126.9445477%5D%2C%20%5B37.53402268%2C%20126.9019584%5D%2C%20%5B37.55216287%2C%20126.8498854%5D%2C%20%5B37.61068084%2C%20126.92978810000001%5D%2C%20%5B37.54510935%2C%20127.0824381%5D%2C%20%5B37.51259502%2C%20127.0106687%5D%2C%20%5B37.48837894%2C%20127.00931659999999%5D%2C%20%5B37.56468635%2C%20126.98884699999999%5D%2C%20%5B37.60757214%2C%20126.92182439999999%5D%2C%20%5B37.57158265%2C%20127.07129109999998%5D%2C%20%5B37.51494279%2C%20126.9178122%5D%2C%20%5B37.61217305%2C%20126.92858590000002%5D%2C%20%5B37.5481867%2C%20127.0234334%5D%2C%20%5B37.54867077%2C%20127.0009722%5D%2C%20%5B37.66733402%2C%20127.03330259999998%5D%2C%20%5B37.50341283%2C%20127.08072779999999%5D%2C%20%5B37.65757299%2C%20127.01508359999998%5D%2C%20%5B37.482513%2C%20126.941727%5D%2C%20%5B37.55996245%2C%20126.85453229999999%5D%2C%20%5B37.49695957%2C%20126.85957409999999%5D%2C%20%5B37.49750564%2C%20126.8539186%5D%2C%20%5B37.51715772%2C%20126.87808629999999%5D%2C%20%5B37.54091286%2C%20127.0102335%5D%2C%20%5B37.60033129999999%2C%20126.92266780000001%5D%2C%20%5B37.52481347%2C%20127.0147412%5D%2C%20%5B37.56528563%2C%20126.91195719999999%5D%2C%20%5B37.4801289%2C%20127.0272523%5D%2C%20%5B37.57831983%2C%20126.9017084%5D%2C%20%5B37.530311600000005%2C%20127.13197%5D%2C%20%5B37.49782636%2C%20126.86469140000001%5D%2C%20%5B37.48991582%2C%20126.9569972%5D%2C%20%5B37.46990879%2C%20126.9027274%5D%2C%20%5B37.53805259%2C%20127.0771031%5D%2C%20%5B37.51762613%2C%20126.91235400000001%5D%2C%20%5B37.54511321%2C%20126.9705628%5D%2C%20%5B37.55462729%2C%20126.91378329999999%5D%2C%20%5B37.50947376%2C%20126.9374202%5D%2C%20%5B37.57259053%2C%20127.0158514%5D%2C%20%5B37.56140116%2C%20126.8108668%5D%2C%20%5B37.54028728%2C%20127.04962150000001%5D%2C%20%5B37.55006583%2C%20127.0545518%5D%2C%20%5B37.56449112%2C%20126.8113592%5D%2C%20%5B37.63032696%2C%20126.91937250000001%5D%2C%20%5B37.48183619%2C%20126.9782337%5D%2C%20%5B37.58049911%2C%20126.9515923%5D%2C%20%5B37.49143349%2C%20127.09776299999999%5D%2C%20%5B37.57436165%2C%20126.9025215%5D%2C%20%5B37.60231206%2C%20126.9024906%5D%2C%20%5B37.63914079%2C%20127.0667672%5D%2C%20%5B37.59929854%2C%20126.94833340000001%5D%2C%20%5B37.60593531%2C%20127.0532128%5D%2C%20%5B37.50161087%2C%20126.9345105%5D%2C%20%5B37.5279973%2C%20127.1471595%5D%2C%20%5B37.53417169%2C%20127.14269240000002%5D%2C%20%5B37.48516493%2C%20126.9294913%5D%2C%20%5B37.56643771%2C%20126.925723%5D%2C%20%5B37.47372463%2C%20126.8873129%5D%2C%20%5B37.53531198%2C%20127.12215590000001%5D%2C%20%5B37.573941%2C%20126.86443270000001%5D%2C%20%5B37.53825209%2C%20127.0572662%5D%2C%20%5B37.60893634%2C%20126.9311961%5D%2C%20%5B37.57344346%2C%20126.8182334%5D%2C%20%5B37.66105891%2C%20127.07129409999999%5D%2C%20%5B37.57469428%2C%20126.92466529999999%5D%2C%20%5B37.61566495%2C%20126.9247135%5D%2C%20%5B37.54138797%2C%20126.9871135%5D%2C%20%5B37.51175757%2C%20127.09256210000001%5D%2C%20%5B37.48190687%2C%20126.9446983%5D%2C%20%5B37.46264282%2C%20127.019075%5D%2C%20%5B37.5262403%2C%20127.01914340000002%5D%2C%20%5B37.51823682%2C%20126.8420221%5D%2C%20%5B37.56904627%2C%20126.89189809999999%5D%2C%20%5B37.49874978%2C%20127.11616770000002%5D%2C%20%5B37.56896705%2C%20127.0516683%5D%2C%20%5B37.46651866%2C%20126.88530459999998%5D%2C%20%5B37.50209797%2C%20127.1281691%5D%2C%20%5B37.54716969%2C%20126.87787549999999%5D%2C%20%5B37.54412267%2C%20126.98587109999998%5D%2C%20%5B37.55733136%2C%20127.1301876%5D%2C%20%5B37.5912881%2C%20126.8038653%5D%2C%20%5B37.64517473%2C%20127.0639369%5D%2C%20%5B37.63784485%2C%20127.0373782%5D%2C%20%5B37.61217066%2C%20127.00527520000001%5D%2C%20%5B37.59422588%2C%20127.05870530000001%5D%2C%20%5B37.49266333%2C%20127.0994679%5D%2C%20%5B37.49010432%2C%20126.92261570000001%5D%2C%20%5B37.63853827%2C%20127.10814690000001%5D%2C%20%5B37.59028864%2C%20127.09354679999998%5D%2C%20%5B37.63794243%2C%20127.02563529999999%5D%2C%20%5B37.52853091%2C%20126.853573%5D%2C%20%5B37.56079778%2C%20127.07849070000002%5D%2C%20%5B37.48371023%2C%20127.04218390000001%5D%2C%20%5B37.48171377%2C%20126.9144123%5D%2C%20%5B37.5125785%2C%20126.93581950000001%5D%2C%20%5B37.67815778%2C%20127.0553781%5D%2C%20%5B37.48832001%2C%20126.9662051%5D%2C%20%5B37.60725866%2C%20126.9328233%5D%2C%20%5B37.47463672%2C%20127.05601770000001%5D%2C%20%5B37.58843175%2C%20127.07035630000001%5D%2C%20%5B37.50229735%2C%20126.8805277%5D%2C%20%5B37.60835894%2C%20127.0098256%5D%2C%20%5B37.5828294%2C%20127.03342749999999%5D%2C%20%5B37.49687202%2C%20126.8598848%5D%2C%20%5B37.57156547%2C%20127.0096818%5D%2C%20%5B37.47095984%2C%20126.95300320000001%5D%2C%20%5B37.55644918%2C%20127.0434545%5D%2C%20%5B37.54414127%2C%20126.92798490000001%5D%2C%20%5B37.47875263%2C%20126.89364740000002%5D%2C%20%5B37.48478933%2C%20126.91389280000001%5D%2C%20%5B37.53701446%2C%20126.96057900000001%5D%2C%20%5B37.63726558%2C%20127.0409135%5D%2C%20%5B37.67125976%2C%20127.04261709999999%5D%2C%20%5B37.57986275%2C%20127.0383918%5D%2C%20%5B37.48166389%2C%20126.912353%5D%2C%20%5B37.54737671%2C%20127.02039779999998%5D%2C%20%5B37.49956065%2C%20126.88359140000001%5D%2C%20%5B37.56303996%2C%20127.17209170000001%5D%2C%20%5B37.58123916%2C%20126.90525149999999%5D%2C%20%5B37.55739918%2C%20126.9589625%5D%2C%20%5B37.47226746%2C%20126.90322659999998%5D%2C%20%5B37.56181245%2C%20126.9817254%5D%2C%20%5B37.69279296%2C%20127.04833090000001%5D%5D%2C%0A%20%20%20%20%20%20%20%20%20%20%20%20%20%20%20%20%7B%0A%20%20%20%20%20%20%20%20%20%20%20%20%20%20%20%20%20%20%20%20minOpacity%3A%200.5%2C%0A%20%20%20%20%20%20%20%20%20%20%20%20%20%20%20%20%20%20%20%20maxZoom%3A%2018%2C%0A%20%20%20%20%20%20%20%20%20%20%20%20%20%20%20%20%20%20%20%20max%3A%201.0%2C%0A%20%20%20%20%20%20%20%20%20%20%20%20%20%20%20%20%20%20%20%20radius%3A%2025%2C%0A%20%20%20%20%20%20%20%20%20%20%20%20%20%20%20%20%20%20%20%20blur%3A%2015%2C%0A%20%20%20%20%20%20%20%20%20%20%20%20%20%20%20%20%20%20%20%20gradient%3A%20null%0A%20%20%20%20%20%20%20%20%20%20%20%20%20%20%20%20%20%20%20%20%7D%29%0A%20%20%20%20%20%20%20%20%20%20%20%20%20%20%20%20.addTo%28map_51e98cb364104fab9ba98807e34a6729%29%3B%0A%20%20%20%20%20%20%20%20%0A%3C/script%3E onload=\"this.contentDocument.open();this.contentDocument.write(    decodeURIComponent(this.getAttribute('data-html')));this.contentDocument.close();\" allowfullscreen webkitallowfullscreen mozallowfullscreen></iframe></div></div>"
            ],
            "text/plain": [
              "<folium.folium.Map at 0x7f21eabb5d10>"
            ]
          },
          "metadata": {
            "tags": []
          },
          "execution_count": 55
        }
      ]
    },
    {
      "cell_type": "code",
      "metadata": {
        "colab": {
          "base_uri": "https://localhost:8080/",
          "height": 808
        },
        "id": "7fpQDmTsNyLA",
        "outputId": "ee03b2db-d2f3-405b-f14f-3e9d97b1d61b"
      },
      "source": [
        "from folium import plugins\n",
        "new_map = folium.Map(location=[37.5642135, 127.0016985], zoom_start=12, tiles='Cartodb dark_matter')\n",
        "\n",
        "heat_data = [[point.xy[0][0], point.xy[1][0]] for point in df_acci[df_acci['가해자_당사자종별']=='이륜차']['geometry']]\n",
        "plugins.HeatMap(heat_data).add_to(new_map)\n",
        " \n",
        "new_map\n"
      ],
      "execution_count": 205,
      "outputs": [
        {
          "output_type": "execute_result",
          "data": {
            "text/html": [
              "<div style=\"width:100%;\"><div style=\"position:relative;width:100%;height:0;padding-bottom:60%;\"><span style=\"color:#565656\">Make this Notebook Trusted to load map: File -> Trust Notebook</span><iframe src=\"about:blank\" style=\"position:absolute;width:100%;height:100%;left:0;top:0;border:none !important;\" data-html=%3C%21DOCTYPE%20html%3E%0A%3Chead%3E%20%20%20%20%0A%20%20%20%20%3Cmeta%20http-equiv%3D%22content-type%22%20content%3D%22text/html%3B%20charset%3DUTF-8%22%20/%3E%0A%20%20%20%20%3Cscript%3EL_PREFER_CANVAS%3Dfalse%3B%20L_NO_TOUCH%3Dfalse%3B%20L_DISABLE_3D%3Dfalse%3B%3C/script%3E%0A%20%20%20%20%3Cscript%20src%3D%22https%3A//cdn.jsdelivr.net/npm/leaflet%401.4.0/dist/leaflet.js%22%3E%3C/script%3E%0A%20%20%20%20%3Cscript%20src%3D%22https%3A//code.jquery.com/jquery-1.12.4.min.js%22%3E%3C/script%3E%0A%20%20%20%20%3Cscript%20src%3D%22https%3A//maxcdn.bootstrapcdn.com/bootstrap/3.2.0/js/bootstrap.min.js%22%3E%3C/script%3E%0A%20%20%20%20%3Cscript%20src%3D%22https%3A//cdnjs.cloudflare.com/ajax/libs/Leaflet.awesome-markers/2.0.2/leaflet.awesome-markers.js%22%3E%3C/script%3E%0A%20%20%20%20%3Clink%20rel%3D%22stylesheet%22%20href%3D%22https%3A//cdn.jsdelivr.net/npm/leaflet%401.4.0/dist/leaflet.css%22/%3E%0A%20%20%20%20%3Clink%20rel%3D%22stylesheet%22%20href%3D%22https%3A//maxcdn.bootstrapcdn.com/bootstrap/3.2.0/css/bootstrap.min.css%22/%3E%0A%20%20%20%20%3Clink%20rel%3D%22stylesheet%22%20href%3D%22https%3A//maxcdn.bootstrapcdn.com/bootstrap/3.2.0/css/bootstrap-theme.min.css%22/%3E%0A%20%20%20%20%3Clink%20rel%3D%22stylesheet%22%20href%3D%22https%3A//maxcdn.bootstrapcdn.com/font-awesome/4.6.3/css/font-awesome.min.css%22/%3E%0A%20%20%20%20%3Clink%20rel%3D%22stylesheet%22%20href%3D%22https%3A//cdnjs.cloudflare.com/ajax/libs/Leaflet.awesome-markers/2.0.2/leaflet.awesome-markers.css%22/%3E%0A%20%20%20%20%3Clink%20rel%3D%22stylesheet%22%20href%3D%22https%3A//rawcdn.githack.com/python-visualization/folium/master/folium/templates/leaflet.awesome.rotate.css%22/%3E%0A%20%20%20%20%3Cstyle%3Ehtml%2C%20body%20%7Bwidth%3A%20100%25%3Bheight%3A%20100%25%3Bmargin%3A%200%3Bpadding%3A%200%3B%7D%3C/style%3E%0A%20%20%20%20%3Cstyle%3E%23map%20%7Bposition%3Aabsolute%3Btop%3A0%3Bbottom%3A0%3Bright%3A0%3Bleft%3A0%3B%7D%3C/style%3E%0A%20%20%20%20%0A%20%20%20%20%3Cmeta%20name%3D%22viewport%22%20content%3D%22width%3Ddevice-width%2C%0A%20%20%20%20%20%20%20%20initial-scale%3D1.0%2C%20maximum-scale%3D1.0%2C%20user-scalable%3Dno%22%20/%3E%0A%20%20%20%20%3Cstyle%3E%23map_48801e5a4477468b85cc95b5a4e0aabe%20%7B%0A%20%20%20%20%20%20%20%20position%3A%20relative%3B%0A%20%20%20%20%20%20%20%20width%3A%20100.0%25%3B%0A%20%20%20%20%20%20%20%20height%3A%20100.0%25%3B%0A%20%20%20%20%20%20%20%20left%3A%200.0%25%3B%0A%20%20%20%20%20%20%20%20top%3A%200.0%25%3B%0A%20%20%20%20%20%20%20%20%7D%0A%20%20%20%20%3C/style%3E%0A%20%20%20%20%3Cscript%20src%3D%22https%3A//leaflet.github.io/Leaflet.heat/dist/leaflet-heat.js%22%3E%3C/script%3E%0A%3C/head%3E%0A%3Cbody%3E%20%20%20%20%0A%20%20%20%20%0A%20%20%20%20%3Cdiv%20class%3D%22folium-map%22%20id%3D%22map_48801e5a4477468b85cc95b5a4e0aabe%22%20%3E%3C/div%3E%0A%3C/body%3E%0A%3Cscript%3E%20%20%20%20%0A%20%20%20%20%0A%20%20%20%20%0A%20%20%20%20%20%20%20%20var%20bounds%20%3D%20null%3B%0A%20%20%20%20%0A%0A%20%20%20%20var%20map_48801e5a4477468b85cc95b5a4e0aabe%20%3D%20L.map%28%0A%20%20%20%20%20%20%20%20%27map_48801e5a4477468b85cc95b5a4e0aabe%27%2C%20%7B%0A%20%20%20%20%20%20%20%20center%3A%20%5B37.5642135%2C%20127.0016985%5D%2C%0A%20%20%20%20%20%20%20%20zoom%3A%2012%2C%0A%20%20%20%20%20%20%20%20maxBounds%3A%20bounds%2C%0A%20%20%20%20%20%20%20%20layers%3A%20%5B%5D%2C%0A%20%20%20%20%20%20%20%20worldCopyJump%3A%20false%2C%0A%20%20%20%20%20%20%20%20crs%3A%20L.CRS.EPSG3857%2C%0A%20%20%20%20%20%20%20%20zoomControl%3A%20true%2C%0A%20%20%20%20%20%20%20%20%7D%29%3B%0A%0A%0A%20%20%20%20%0A%20%20%20%20var%20tile_layer_b483d8cf92ec46189b3b32878dea41d0%20%3D%20L.tileLayer%28%0A%20%20%20%20%20%20%20%20%27https%3A//cartodb-basemaps-%7Bs%7D.global.ssl.fastly.net/dark_all/%7Bz%7D/%7Bx%7D/%7By%7D.png%27%2C%0A%20%20%20%20%20%20%20%20%7B%0A%20%20%20%20%20%20%20%20%22attribution%22%3A%20null%2C%0A%20%20%20%20%20%20%20%20%22detectRetina%22%3A%20false%2C%0A%20%20%20%20%20%20%20%20%22maxNativeZoom%22%3A%2018%2C%0A%20%20%20%20%20%20%20%20%22maxZoom%22%3A%2018%2C%0A%20%20%20%20%20%20%20%20%22minZoom%22%3A%200%2C%0A%20%20%20%20%20%20%20%20%22noWrap%22%3A%20false%2C%0A%20%20%20%20%20%20%20%20%22opacity%22%3A%201%2C%0A%20%20%20%20%20%20%20%20%22subdomains%22%3A%20%22abc%22%2C%0A%20%20%20%20%20%20%20%20%22tms%22%3A%20false%0A%7D%29.addTo%28map_48801e5a4477468b85cc95b5a4e0aabe%29%3B%0A%20%20%20%20%0A%20%20%20%20%20%20%20%20%20%20%20%20var%20heat_map_ea205a92faa244d8833743797c050034%20%3D%20L.heatLayer%28%0A%20%20%20%20%20%20%20%20%20%20%20%20%20%20%20%20%5B%5B37.526507%2C%20126.91980020000001%5D%2C%20%5B37.50480794%2C%20127.06521509999999%5D%2C%20%5B37.53051182%2C%20126.8859534%5D%2C%20%5B37.602796500000004%2C%20127.04230700000001%5D%2C%20%5B37.52479841%2C%20127.0527057%5D%2C%20%5B37.52498905%2C%20126.99155800000001%5D%2C%20%5B37.51121874%2C%20126.8489847%5D%2C%20%5B37.48555454%2C%20126.88152790000001%5D%2C%20%5B37.5446294%2C%20126.8893865%5D%2C%20%5B37.53153532%2C%20127.01200619999999%5D%2C%20%5B37.60902207%2C%20127.04720990000001%5D%2C%20%5B37.51025737%2C%20127.0438922%5D%2C%20%5B37.49296722%2C%20127.1445845%5D%2C%20%5B37.52090403%2C%20127.0318703%5D%2C%20%5B37.55634257%2C%20126.9832578%5D%2C%20%5B37.530777%2C%20127.0112845%5D%2C%20%5B37.47718981%2C%20127.10595420000001%5D%2C%20%5B37.57236067%2C%20126.96410759999999%5D%2C%20%5B37.58663294%2C%20127.01880159999999%5D%2C%20%5B37.52559834%2C%20127.05472560000001%5D%2C%20%5B37.58089134%2C%20126.7985621%5D%2C%20%5B37.51352404%2C%20126.93866270000001%5D%2C%20%5B37.50341283%2C%20127.08072779999999%5D%2C%20%5B37.49695957%2C%20126.85957409999999%5D%2C%20%5B37.56528563%2C%20126.91195719999999%5D%2C%20%5B37.49782636%2C%20126.86469140000001%5D%2C%20%5B37.63032696%2C%20126.91937250000001%5D%2C%20%5B37.49143349%2C%20127.09776299999999%5D%2C%20%5B37.54716969%2C%20126.87787549999999%5D%2C%20%5B37.5912881%2C%20126.8038653%5D%2C%20%5B37.63784485%2C%20127.0373782%5D%2C%20%5B37.63794243%2C%20127.02563529999999%5D%2C%20%5B37.48171377%2C%20126.9144123%5D%2C%20%5B37.67815778%2C%20127.0553781%5D%2C%20%5B37.60725866%2C%20126.9328233%5D%2C%20%5B37.50229735%2C%20126.8805277%5D%2C%20%5B37.55644918%2C%20127.0434545%5D%2C%20%5B37.47875263%2C%20126.89364740000002%5D%2C%20%5B37.54737671%2C%20127.02039779999998%5D%2C%20%5B37.56303996%2C%20127.17209170000001%5D%2C%20%5B37.63796123%2C%20127.034884%5D%2C%20%5B37.49740965%2C%20126.8929196%5D%2C%20%5B37.50813147%2C%20127.0372747%5D%2C%20%5B37.68749225%2C%20127.04951200000001%5D%2C%20%5B37.48143985%2C%20127.14314840000002%5D%2C%20%5B37.62336391%2C%20126.9198754%5D%2C%20%5B37.48513987%2C%20126.8820358%5D%2C%20%5B37.65043889%2C%20127.01332409999999%5D%2C%20%5B37.57195294%2C%20127.01226570000001%5D%2C%20%5B37.60692919%2C%20127.02386100000001%5D%2C%20%5B37.64187187%2C%20127.0300422%5D%2C%20%5B37.54257943%2C%20127.0628145%5D%2C%20%5B37.51549448%2C%20127.1066174%5D%2C%20%5B37.50814421%2C%20127.0113416%5D%2C%20%5B37.54160317%2C%20126.8947348%5D%2C%20%5B37.55984247%2C%20126.8265966%5D%2C%20%5B37.58156049%2C%20127.0385195%5D%2C%20%5B37.55877005%2C%20127.0238053%5D%2C%20%5B37.5781617%2C%20127.0383366%5D%2C%20%5B37.57089982%2C%20127.001397%5D%2C%20%5B37.57226177%2C%20127.04397859999999%5D%2C%20%5B37.47567933%2C%20126.98633240000001%5D%2C%20%5B37.58110421%2C%20127.09337250000002%5D%2C%20%5B37.60151365%2C%20127.07128370000001%5D%2C%20%5B37.53280006%2C%20126.95848259999998%5D%2C%20%5B37.56255720000001%2C%20127.16610959999998%5D%2C%20%5B37.52681029%2C%20126.8635392%5D%2C%20%5B37.53882303%2C%20127.0040669%5D%2C%20%5B37.48503041%2C%20126.90460230000001%5D%2C%20%5B37.56315983%2C%20126.8274612%5D%2C%20%5B37.57798592%2C%20127.0607729%5D%2C%20%5B37.49793613%2C%20127.0754175%5D%2C%20%5B37.63547845%2C%20127.03384540000002%5D%2C%20%5B37.49913029%2C%20127.0791554%5D%2C%20%5B37.51159822%2C%20127.0926184%5D%2C%20%5B37.63518644%2C%20127.02840690000001%5D%2C%20%5B37.50222064%2C%20127.04290359999999%5D%2C%20%5B37.48274234%2C%20127.0215284%5D%2C%20%5B37.53976062%2C%20127.12088829999999%5D%2C%20%5B37.59507164%2C%20126.94056429999999%5D%2C%20%5B37.55591763%2C%20127.04328570000001%5D%2C%20%5B37.54784052%2C%20126.87060559999999%5D%2C%20%5B37.48561262%2C%20126.95618789999999%5D%5D%2C%0A%20%20%20%20%20%20%20%20%20%20%20%20%20%20%20%20%7B%0A%20%20%20%20%20%20%20%20%20%20%20%20%20%20%20%20%20%20%20%20minOpacity%3A%200.5%2C%0A%20%20%20%20%20%20%20%20%20%20%20%20%20%20%20%20%20%20%20%20maxZoom%3A%2018%2C%0A%20%20%20%20%20%20%20%20%20%20%20%20%20%20%20%20%20%20%20%20max%3A%201.0%2C%0A%20%20%20%20%20%20%20%20%20%20%20%20%20%20%20%20%20%20%20%20radius%3A%2025%2C%0A%20%20%20%20%20%20%20%20%20%20%20%20%20%20%20%20%20%20%20%20blur%3A%2015%2C%0A%20%20%20%20%20%20%20%20%20%20%20%20%20%20%20%20%20%20%20%20gradient%3A%20null%0A%20%20%20%20%20%20%20%20%20%20%20%20%20%20%20%20%20%20%20%20%7D%29%0A%20%20%20%20%20%20%20%20%20%20%20%20%20%20%20%20.addTo%28map_48801e5a4477468b85cc95b5a4e0aabe%29%3B%0A%20%20%20%20%20%20%20%20%0A%3C/script%3E onload=\"this.contentDocument.open();this.contentDocument.write(    decodeURIComponent(this.getAttribute('data-html')));this.contentDocument.close();\" allowfullscreen webkitallowfullscreen mozallowfullscreen></iframe></div></div>"
            ],
            "text/plain": [
              "<folium.folium.Map at 0x7f1376d45fd0>"
            ]
          },
          "metadata": {
            "tags": []
          },
          "execution_count": 205
        }
      ]
    },
    {
      "cell_type": "code",
      "metadata": {
        "colab": {
          "base_uri": "https://localhost:8080/",
          "height": 425
        },
        "id": "5a-PoEogON3M",
        "outputId": "0384a98e-3f6c-4bf6-c6d1-cc3be05e120e"
      },
      "source": [
        "df_2wheel_TAAS = pd.read_csv(data_dir+'accidentInfoList.xls.csv')\n",
        "print(df_2wheel_TAAS.shape)\n",
        "df_2wheel_TAAS.head()"
      ],
      "execution_count": 215,
      "outputs": [
        {
          "output_type": "stream",
          "text": [
            "(9327, 22)\n"
          ],
          "name": "stdout"
        },
        {
          "output_type": "execute_result",
          "data": {
            "text/html": [
              "<div>\n",
              "<style scoped>\n",
              "    .dataframe tbody tr th:only-of-type {\n",
              "        vertical-align: middle;\n",
              "    }\n",
              "\n",
              "    .dataframe tbody tr th {\n",
              "        vertical-align: top;\n",
              "    }\n",
              "\n",
              "    .dataframe thead th {\n",
              "        text-align: right;\n",
              "    }\n",
              "</style>\n",
              "<table border=\"1\" class=\"dataframe\">\n",
              "  <thead>\n",
              "    <tr style=\"text-align: right;\">\n",
              "      <th></th>\n",
              "      <th>사고번호</th>\n",
              "      <th>사고일시</th>\n",
              "      <th>요일</th>\n",
              "      <th>시군구</th>\n",
              "      <th>사고내용</th>\n",
              "      <th>사망자수</th>\n",
              "      <th>중상자수</th>\n",
              "      <th>경상자수</th>\n",
              "      <th>부상신고자수</th>\n",
              "      <th>사고유형</th>\n",
              "      <th>법규위반</th>\n",
              "      <th>노면상태</th>\n",
              "      <th>기상상태</th>\n",
              "      <th>도로형태</th>\n",
              "      <th>가해운전자 차종</th>\n",
              "      <th>가해운전자 성별</th>\n",
              "      <th>가해운전자 연령</th>\n",
              "      <th>가해운전자 상해정도</th>\n",
              "      <th>피해운전자 차종</th>\n",
              "      <th>피해운전자 성별</th>\n",
              "      <th>피해운전자 연령</th>\n",
              "      <th>피해운전자 상해정도</th>\n",
              "    </tr>\n",
              "  </thead>\n",
              "  <tbody>\n",
              "    <tr>\n",
              "      <th>0</th>\n",
              "      <td>2.019010e+15</td>\n",
              "      <td>2019년 1월 1일 00시</td>\n",
              "      <td>화요일</td>\n",
              "      <td>서울특별시 구로구 고척동</td>\n",
              "      <td>경상사고</td>\n",
              "      <td>0</td>\n",
              "      <td>0</td>\n",
              "      <td>1</td>\n",
              "      <td>0</td>\n",
              "      <td>차대차 - 추돌</td>\n",
              "      <td>안전운전불이행</td>\n",
              "      <td>포장 - 건조</td>\n",
              "      <td>맑음</td>\n",
              "      <td>단일로 - 기타</td>\n",
              "      <td>이륜</td>\n",
              "      <td>남</td>\n",
              "      <td>23세</td>\n",
              "      <td>상해없음</td>\n",
              "      <td>승용</td>\n",
              "      <td>남</td>\n",
              "      <td>71세</td>\n",
              "      <td>경상</td>\n",
              "    </tr>\n",
              "    <tr>\n",
              "      <th>1</th>\n",
              "      <td>2.019010e+15</td>\n",
              "      <td>2019년 1월 1일 13시</td>\n",
              "      <td>화요일</td>\n",
              "      <td>서울특별시 서대문구 북아현동</td>\n",
              "      <td>경상사고</td>\n",
              "      <td>0</td>\n",
              "      <td>0</td>\n",
              "      <td>1</td>\n",
              "      <td>0</td>\n",
              "      <td>차대사람 - 횡단중</td>\n",
              "      <td>보행자보호의무위반</td>\n",
              "      <td>포장 - 건조</td>\n",
              "      <td>맑음</td>\n",
              "      <td>단일로 - 기타</td>\n",
              "      <td>이륜</td>\n",
              "      <td>남</td>\n",
              "      <td>22세</td>\n",
              "      <td>상해없음</td>\n",
              "      <td>보행자</td>\n",
              "      <td>여</td>\n",
              "      <td>63세</td>\n",
              "      <td>경상</td>\n",
              "    </tr>\n",
              "    <tr>\n",
              "      <th>2</th>\n",
              "      <td>2.019010e+15</td>\n",
              "      <td>2019년 1월 1일 17시</td>\n",
              "      <td>화요일</td>\n",
              "      <td>서울특별시 중랑구 상봉동</td>\n",
              "      <td>경상사고</td>\n",
              "      <td>0</td>\n",
              "      <td>0</td>\n",
              "      <td>1</td>\n",
              "      <td>0</td>\n",
              "      <td>차대차 - 기타</td>\n",
              "      <td>신호위반</td>\n",
              "      <td>포장 - 건조</td>\n",
              "      <td>맑음</td>\n",
              "      <td>교차로 - 교차로안</td>\n",
              "      <td>이륜</td>\n",
              "      <td>남</td>\n",
              "      <td>21세</td>\n",
              "      <td>경상</td>\n",
              "      <td>승합</td>\n",
              "      <td>남</td>\n",
              "      <td>46세</td>\n",
              "      <td>상해없음</td>\n",
              "    </tr>\n",
              "    <tr>\n",
              "      <th>3</th>\n",
              "      <td>2.019010e+15</td>\n",
              "      <td>2019년 1월 1일 18시</td>\n",
              "      <td>화요일</td>\n",
              "      <td>서울특별시 구로구 천왕동</td>\n",
              "      <td>경상사고</td>\n",
              "      <td>0</td>\n",
              "      <td>0</td>\n",
              "      <td>1</td>\n",
              "      <td>0</td>\n",
              "      <td>차대차 - 기타</td>\n",
              "      <td>안전운전불이행</td>\n",
              "      <td>포장 - 젖음/습기</td>\n",
              "      <td>맑음</td>\n",
              "      <td>교차로 - 교차로안</td>\n",
              "      <td>이륜</td>\n",
              "      <td>남</td>\n",
              "      <td>22세</td>\n",
              "      <td>경상</td>\n",
              "      <td>이륜</td>\n",
              "      <td>남</td>\n",
              "      <td>37세</td>\n",
              "      <td>상해없음</td>\n",
              "    </tr>\n",
              "    <tr>\n",
              "      <th>4</th>\n",
              "      <td>2.019010e+15</td>\n",
              "      <td>2019년 1월 1일 20시</td>\n",
              "      <td>화요일</td>\n",
              "      <td>서울특별시 동대문구 휘경동</td>\n",
              "      <td>경상사고</td>\n",
              "      <td>0</td>\n",
              "      <td>0</td>\n",
              "      <td>1</td>\n",
              "      <td>0</td>\n",
              "      <td>차대차 - 측면충돌</td>\n",
              "      <td>안전거리미확보</td>\n",
              "      <td>포장 - 건조</td>\n",
              "      <td>맑음</td>\n",
              "      <td>단일로 - 기타</td>\n",
              "      <td>원동기</td>\n",
              "      <td>남</td>\n",
              "      <td>47세</td>\n",
              "      <td>경상</td>\n",
              "      <td>승용</td>\n",
              "      <td>남</td>\n",
              "      <td>53세</td>\n",
              "      <td>상해없음</td>\n",
              "    </tr>\n",
              "  </tbody>\n",
              "</table>\n",
              "</div>"
            ],
            "text/plain": [
              "           사고번호             사고일시   요일  ... 피해운전자 성별 피해운전자 연령  피해운전자 상해정도\n",
              "0  2.019010e+15  2019년 1월 1일 00시  화요일  ...        남      71세          경상\n",
              "1  2.019010e+15  2019년 1월 1일 13시  화요일  ...        여      63세          경상\n",
              "2  2.019010e+15  2019년 1월 1일 17시  화요일  ...        남      46세        상해없음\n",
              "3  2.019010e+15  2019년 1월 1일 18시  화요일  ...        남      37세        상해없음\n",
              "4  2.019010e+15  2019년 1월 1일 20시  화요일  ...        남      53세        상해없음\n",
              "\n",
              "[5 rows x 22 columns]"
            ]
          },
          "metadata": {
            "tags": []
          },
          "execution_count": 215
        }
      ]
    },
    {
      "cell_type": "markdown",
      "metadata": {
        "id": "Z_myWWtuRXEz"
      },
      "source": [
        "- 「자동차관리법」에서는 오토바이를 이륜자동차라 부르고 있습니다. 오토바이 중 배기량이 125cc 이하인 오토바이를 「도로교통법」에서는 원동기장치자전거라 부르고 있습니다."
      ]
    },
    {
      "cell_type": "code",
      "metadata": {
        "colab": {
          "base_uri": "https://localhost:8080/",
          "height": 354
        },
        "id": "1NDYfi_lQ6n_",
        "outputId": "eca89d90-7a53-46e4-d875-d7146dd91054"
      },
      "source": [
        "df_2wheel_TAAS['가해운전자 차종'].value_counts().plot(kind='bar')"
      ],
      "execution_count": 226,
      "outputs": [
        {
          "output_type": "execute_result",
          "data": {
            "text/plain": [
              "<matplotlib.axes._subplots.AxesSubplot at 0x7f136c2d3110>"
            ]
          },
          "metadata": {
            "tags": []
          },
          "execution_count": 226
        },
        {
          "output_type": "display_data",
          "data": {
            "image/png": "[encoded data removed]",
            "text/plain": [
              "<Figure size 432x288 with 1 Axes>"
            ]
          },
          "metadata": {
            "tags": [],
            "needs_background": "light"
          }
        }
      ]
    },
    {
      "cell_type": "code",
      "metadata": {
        "colab": {
          "base_uri": "https://localhost:8080/"
        },
        "id": "Vk2biPh6PYMa",
        "outputId": "793155a8-7cf4-4cce-fc9d-b03e73e8703e"
      },
      "source": [
        "df_2wheel_TAAS['시군구'].unique()"
      ],
      "execution_count": 216,
      "outputs": [
        {
          "output_type": "execute_result",
          "data": {
            "text/plain": [
              "array(['서울특별시 구로구 고척동', '서울특별시 서대문구 북아현동', '서울특별시 중랑구 상봉동',\n",
              "       '서울특별시 구로구 천왕동', '서울특별시 동대문구 휘경동', '서울특별시 마포구 도화동',\n",
              "       '서울특별시 동작구 상도1동', '서울특별시 구로구 오류동', '서울특별시 서초구 서초동',\n",
              "       '서울특별시 강남구 수서동', '서울특별시 강서구 화곡동', '서울특별시 노원구 하계동', '서울특별시 노원구 상계동',\n",
              "       '서울특별시 마포구 연남동', '서울특별시 마포구 성산동', '서울특별시 구로구 구로동', '서울특별시 중랑구 면목동',\n",
              "       '서울특별시 중구 신당동', '서울특별시 양천구 목동', '서울특별시 관악구 신림동', '서울특별시 동대문구 장안동',\n",
              "       '서울특별시 은평구 수색동', '서울특별시 동작구 상도동', '서울특별시 마포구 용강동',\n",
              "       '서울특별시 종로구 종로5가', '서울특별시 송파구 방이동', '서울특별시 용산구 용문동',\n",
              "       '서울특별시 노원구 공릉동', '서울특별시 서대문구 냉천동', '서울특별시 서대문구 홍은동',\n",
              "       '서울특별시 강북구 미아동', '서울특별시 동대문구 청량리동', '서울특별시 관악구 봉천동',\n",
              "       '서울특별시 강동구 천호동', '서울특별시 송파구 가락동', '서울특별시 동작구 사당동', '서울특별시 도봉구 창동',\n",
              "       '서울특별시 강남구 역삼동', '서울특별시 양천구 신정동', '서울특별시 강남구 개포동',\n",
              "       '서울특별시 성북구 동소문동2가', '서울특별시 마포구 마포동', '서울특별시 종로구 명륜4가',\n",
              "       '서울특별시 강남구 청담동', '서울특별시 중랑구 중화동', '서울특별시 서초구 양재동',\n",
              "       '서울특별시 용산구 원효로1가', '서울특별시 영등포구 문래동6가', '서울특별시 성동구 홍익동',\n",
              "       '서울특별시 강서구 마곡동', '서울특별시 동대문구 회기동', '서울특별시 성북구 동선동4가',\n",
              "       '서울특별시 종로구 창신동', '서울특별시 마포구 아현동', '서울특별시 강남구 논현동',\n",
              "       '서울특별시 중구 만리동1가', '서울특별시 도봉구 쌍문동', '서울특별시 용산구 한강로2가',\n",
              "       '서울특별시 성북구 삼선동3가', '서울특별시 광진구 자양동', '서울특별시 영등포구 도림동',\n",
              "       '서울특별시 중구 을지로5가', '서울특별시 강남구 삼성동', '서울특별시 강북구 번동', '서울특별시 중랑구 망우동',\n",
              "       '서울특별시 서대문구 연희동', '서울특별시 동대문구 용두동', '서울특별시 서초구 잠원동',\n",
              "       '서울특별시 영등포구 문래동1가', '서울특별시 구로구 궁동', '서울특별시 서대문구 홍제동',\n",
              "       '서울특별시 종로구 종로6가', '서울특별시 영등포구 신길동', '서울특별시 은평구 역촌동',\n",
              "       '서울특별시 성북구 보문동4가', '서울특별시 성북구 돈암동', '서울특별시 강북구 수유동',\n",
              "       '서울특별시 동작구 신대방동', '서울특별시 성동구 하왕십리동', '서울특별시 종로구 숭인동',\n",
              "       '서울특별시 노원구 중계동', '서울특별시 성북구 길음동', '서울특별시 중랑구 신내동',\n",
              "       '서울특별시 영등포구 당산동1가', '서울특별시 금천구 시흥동', '서울특별시 도봉구 방학동',\n",
              "       '서울특별시 금천구 독산동', '서울특별시 송파구 오금동', '서울특별시 광진구 군자동', '서울특별시 서초구 반포동',\n",
              "       '서울특별시 용산구 갈월동', '서울특별시 영등포구 여의도동', '서울특별시 성북구 장위동',\n",
              "       '서울특별시 강남구 신사동', '서울특별시 영등포구 대림동', '서울특별시 송파구 송파동',\n",
              "       '서울특별시 은평구 불광동', '서울특별시 동대문구 답십리동', '서울특별시 서대문구 북가좌동',\n",
              "       '서울특별시 강서구 내발산동', '서울특별시 강동구 성내동', '서울특별시 성동구 금호동4가',\n",
              "       '서울특별시 동대문구 제기동', '서울특별시 중구 서소문동', '서울특별시 강서구 공항동',\n",
              "       '서울특별시 송파구 잠실동', '서울특별시 강서구 가양동', '서울특별시 동작구 노량진동', '서울특별시 중구 중림동',\n",
              "       '서울특별시 성북구 하월곡동', '서울특별시 성북구 동선동1가', '서울특별시 강남구 일원동',\n",
              "       '서울특별시 은평구 신사동', '서울특별시 용산구 청파동2가', '서울특별시 송파구 문정동',\n",
              "       '서울특별시 마포구 합정동', '서울특별시 구로구 가리봉동', '서울특별시 성북구 석관동',\n",
              "       '서울특별시 송파구 신천동', '서울특별시 서초구 방배동', '서울특별시 영등포구 영등포동4가',\n",
              "       '서울특별시 영등포구 당산동2가', '서울특별시 도봉구 도봉동', '서울특별시 중구 충무로4가',\n",
              "       '서울특별시 중구 장충동2가', '서울특별시 마포구 서교동', '서울특별시 동대문구 이문동',\n",
              "       '서울특별시 성북구 동선동2가', '서울특별시 강남구 대치동', '서울특별시 영등포구 영등포동2가',\n",
              "       '서울특별시 성북구 종암동', '서울특별시 강동구 암사동', '서울특별시 동작구 대방동', '서울특별시 종로구 연건동',\n",
              "       '서울특별시 영등포구 문래동3가', '서울특별시 송파구 마천동', '서울특별시 양천구 신월동',\n",
              "       '서울특별시 강남구 도곡동', '서울특별시 마포구 노고산동', '서울특별시 강동구 강일동',\n",
              "       '서울특별시 용산구 용산동2가', '서울특별시 용산구 이태원동', '서울특별시 강서구 등촌동',\n",
              "       '서울특별시 성동구 성수동2가', '서울특별시 구로구 온수동', '서울특별시 은평구 진관동',\n",
              "       '서울특별시 송파구 풍납동', '서울특별시 종로구 구기동', '서울특별시 구로구 항동', '서울특별시 성동구 도선동',\n",
              "       '서울특별시 은평구 증산동', '서울특별시 은평구 구산동', '서울특별시 강서구 방화동',\n",
              "       '서울특별시 용산구 원효로2가', '서울특별시 구로구 신도림동', '서울특별시 마포구 신공덕동',\n",
              "       '서울특별시 노원구 월계동', '서울특별시 중구 충정로1가', '서울특별시 성동구 성수동1가',\n",
              "       '서울특별시 광진구 중곡동', '서울특별시 마포구 공덕동', '서울특별시 마포구 동교동',\n",
              "       '서울특별시 용산구 용산동4가', '서울특별시 송파구 삼전동', '서울특별시 광진구 구의동',\n",
              "       '서울특별시 광진구 화양동', '서울특별시 은평구 대조동', '서울특별시 송파구 석촌동', '서울특별시 동작구 본동',\n",
              "       '서울특별시 중랑구 묵동', '서울특별시 영등포구 영등포동3가', '서울특별시 강서구 개화동',\n",
              "       '서울특별시 성북구 삼선동1가', '서울특별시 성북구 상월곡동', '서울특별시 용산구 한남동',\n",
              "       '서울특별시 영등포구 양평동4가', '서울특별시 성동구 금호동2가', '서울특별시 성북구 보문동1가',\n",
              "       '서울특별시 마포구 대흥동', '서울특별시 종로구 묘동', '서울특별시 강서구 염창동', '서울특별시 성동구 옥수동',\n",
              "       '서울특별시 영등포구 영등포동8가', '서울특별시 성북구 정릉동', '서울특별시 종로구 누하동',\n",
              "       '서울특별시 종로구 충신동', '서울특별시 종로구 통인동', '서울특별시 서대문구 창천동',\n",
              "       '서울특별시 관악구 남현동', '서울특별시 중구 남대문로5가', '서울특별시 구로구 개봉동',\n",
              "       '서울특별시 서대문구 미근동', '서울특별시 동대문구 신설동', '서울특별시 중구 을지로6가',\n",
              "       '서울특별시 성북구 삼선동2가', '서울특별시 송파구 장지동', '서울특별시 서대문구 신촌동',\n",
              "       '서울특별시 강동구 길동', '서울특별시 강북구 우이동', '서울특별시 용산구 보광동', '서울특별시 은평구 응암동',\n",
              "       '서울특별시 용산구 한강로3가', '서울특별시 동작구 흑석동', '서울특별시 종로구 와룡동',\n",
              "       '서울특별시 동대문구 전농동', '서울특별시 강동구 상일동', '서울특별시 영등포구 양평동3가',\n",
              "       '서울특별시 마포구 창전동', '서울특별시 종로구 종로2가', '서울특별시 성북구 삼선동5가',\n",
              "       '서울특별시 중구 황학동', '서울특별시 종로구 종로3가', '서울특별시 중구 쌍림동', '서울특별시 금천구 가산동',\n",
              "       '서울특별시 강동구 고덕동', '서울특별시 광진구 광장동', '서울특별시 중구 장충동1가',\n",
              "       '서울특별시 성동구 금호동1가', '서울특별시 용산구 도원동', '서울특별시 용산구 후암동',\n",
              "       '서울특별시 성북구 동소문동3가', '서울특별시 송파구 거여동', '서울특별시 성동구 용답동',\n",
              "       '서울특별시 서대문구 대현동', '서울특별시 용산구 문배동', '서울특별시 은평구 녹번동',\n",
              "       '서울특별시 영등포구 문래동5가', '서울특별시 영등포구 당산동4가', '서울특별시 중구 충무로1가',\n",
              "       '서울특별시 중구 소공동', '서울특별시 용산구 이촌동', '서울특별시 중구 저동2가',\n",
              "       '서울특별시 영등포구 문래동4가', '서울특별시 서대문구 남가좌동', '서울특별시 성북구 안암동5가',\n",
              "       '서울특별시 종로구 옥인동', '서울특별시 용산구 남영동', '서울특별시 종로구 안국동',\n",
              "       '서울특별시 중구 을지로2가', '서울특별시 중구 인현동2가', '서울특별시 성동구 행당동',\n",
              "       '서울특별시 영등포구 양평동1가', '서울특별시 마포구 상암동', '서울특별시 중구 회현동1가',\n",
              "       '서울특별시 마포구 망원동', '서울특별시 마포구 신수동', '서울특별시 중구 남산동2가',\n",
              "       '서울특별시 영등포구 영등포동7가', '서울특별시 성북구 안암동1가', '서울특별시 종로구 신문로1가',\n",
              "       '서울특별시 종로구 명륜2가', '서울특별시 중구 남대문로1가', '서울특별시 중구 충무로3가',\n",
              "       '서울특별시 영등포구 영등포동1가', '서울특별시 종로구 세종로', '서울특별시 강남구 자곡동',\n",
              "       '서울특별시 서대문구 충정로2가', '서울특별시 중구 순화동', '서울특별시 영등포구 당산동3가',\n",
              "       '서울특별시 강남구 율현동', '서울특별시 성북구 보문동2가', '서울특별시 성동구 상왕십리동',\n",
              "       '서울특별시 종로구 종로4가', '서울특별시 중구 회현동2가', '서울특별시 성북구 보문동7가',\n",
              "       '서울특별시 용산구 동자동', '서울특별시 중구 필동2가', '서울특별시 중구 예관동', '서울특별시 서대문구 현저동',\n",
              "       '서울특별시 광진구 능동', '서울특별시 중구 다동', '서울특별시 종로구 경운동', '서울특별시 용산구 청파동3가',\n",
              "       '서울특별시 강남구 압구정동', '서울특별시 강서구 외발산동', '서울특별시 중구 남창동',\n",
              "       '서울특별시 영등포구 당산동', '서울특별시 종로구 청운동', '서울특별시 서초구 우면동',\n",
              "       '서울특별시 영등포구 당산동6가', '서울특별시 강동구 명일동', '서울특별시 서대문구 충정로3가',\n",
              "       '서울특별시 중구 봉래동2가', '서울특별시 서대문구 대신동', '서울특별시 중구 무학동',\n",
              "       '서울특별시 성동구 응봉동', '서울특별시 종로구 재동', '서울특별시 종로구 효제동', '서울특별시 은평구 갈현동',\n",
              "       '서울특별시 마포구 염리동', '서울특별시 영등포구 양평동6가', '서울특별시 서초구 염곡동',\n",
              "       '서울특별시 마포구 구수동', '서울특별시 종로구 내자동', '서울특별시 영등포구 양평동5가',\n",
              "       '서울특별시 성동구 마장동', '서울특별시 종로구 연지동', '서울특별시 종로구 부암동',\n",
              "       '서울특별시 성북구 동소문동1가', '서울특별시 강동구 둔촌동', '서울특별시 서대문구 합동',\n",
              "       '서울특별시 중구 을지로4가', '서울특별시 강남구 세곡동', '서울특별시 동작구 동작동',\n",
              "       '서울특별시 종로구 적선동', '서울특별시 영등포구 양평동2가', '서울특별시 용산구 용산동1가',\n",
              "       '서울특별시 성동구 송정동', '서울특별시 종로구 서린동', '서울특별시 중구 남대문로2가',\n",
              "       '서울특별시 성동구 금호동3가', '서울특별시 영등포구 영등포동', '서울특별시 종로구 동숭동',\n",
              "       '서울특별시 중구 태평로2가', '서울특별시 용산구 청파동1가', '서울특별시 서대문구 봉원동',\n",
              "       '서울특별시 종로구 인의동', '서울특별시 용산구 원효로3가', '서울특별시 중구 산림동',\n",
              "       '서울특별시 용산구 주성동', '서울특별시 종로구 평동', '서울특별시 성북구 안암동2가',\n",
              "       '서울특별시 마포구 상수동', '서울특별시 종로구 신문로2가', '서울특별시 종로구 청진동',\n",
              "       '서울특별시 마포구 중동', '서울특별시 영등포구 문래동2가', '서울특별시 용산구 신계동',\n",
              "       '서울특별시 종로구 신영동', '서울특별시 강서구 오쇠동', '서울특별시 성북구 안암동4가',\n",
              "       '서울특별시 용산구 효창동', '서울특별시 서초구 원지동', '서울특별시 성북구 삼선동4가',\n",
              "       '서울특별시 성동구 사근동', '서울특별시 중구 장교동', '서울특별시 종로구 관철동', '서울특별시 종로구 낙원동',\n",
              "       '서울특별시 서초구 신원동', '서울특별시 성북구 성북동1가', '서울특별시 용산구 서빙고동',\n",
              "       '서울특별시 종로구 혜화동', '서울특별시 용산구 용산동5가', '서울특별시 중구 묵정동',\n",
              "       '서울특별시 중구 의주로2가', '서울특별시 서대문구 영천동', '서울특별시 종로구 통의동',\n",
              "       '서울특별시 종로구 행촌동', '서울특별시 중구 만리동2가', '서울특별시 종로구 명륜1가',\n",
              "       '서울특별시 중구 광희동2가', '서울특별시 영등포구 영등포동5가', '서울특별시 중구 을지로1가',\n",
              "       '서울특별시 중구 을지로7가', '서울특별시 종로구 명륜3가', '서울특별시 용산구 한강로1가',\n",
              "       '서울특별시 중구 예장동', '서울특별시 중구 충무로5가', '서울특별시 용산구 용산동3가',\n",
              "       '서울특별시 성북구 동소문동5가', '서울특별시 종로구 중학동', '서울특별시 중구 오장동',\n",
              "       '서울특별시 성북구 보문동5가', '서울특별시 종로구 삼청동', '서울특별시 성북구 보문동6가',\n",
              "       '서울특별시 중구 수표동', '서울특별시 중구 방산동', '서울특별시 용산구 신창동', '서울특별시 중구 흥인동',\n",
              "       '서울특별시 종로구 예지동', '서울특별시 성북구 동소문동4가', '서울특별시 종로구 사직동',\n",
              "       '서울특별시 종로구 원남동', '서울특별시 성북구 동선동3가', '서울특별시 서대문구 천연동',\n",
              "       '서울특별시 종로구 평창동', '서울특별시 종로구 소격동', '서울특별시 중구 필동1가',\n",
              "       '서울특별시 영등포구 양평동', '서울특별시 성북구 안암동3가', '서울특별시 종로구 수송동',\n",
              "       '서울특별시 종로구 당주동', '서울특별시 영등포구 당산동5가', '서울특별시 용산구 동빙고동',\n",
              "       '서울특별시 중구 남대문로3가', '서울특별시 중구 충무로2가', '서울특별시 종로구 교북동',\n",
              "       '서울특별시 종로구 궁정동', '서울특별시 중구 정동', '서울특별시 영등포구 영등포동6가',\n",
              "       '서울특별시 중구 태평로1가', '서울특별시 중구 남대문로4가', '서울특별시 중구 광희동1가',\n",
              "       '서울특별시 용산구 서계동', '서울특별시 중구 저동1가', '서울특별시 종로구 관훈동', '서울특별시 중구 명동2가',\n",
              "       '서울특별시 중구 의주로1가', '서울특별시 중구 남산동3가', '서울특별시 종로구 효자동',\n",
              "       '서울특별시 성북구 동선동5가', '서울특별시 종로구 필운동', '서울특별시 종로구 운니동',\n",
              "       '서울특별시 성북구 보문동3가', '서울특별시 종로구 공평동', '서울특별시 종로구 무악동',\n",
              "       '서울특별시 종로구 신교동'], dtype=object)"
            ]
          },
          "metadata": {
            "tags": []
          },
          "execution_count": 216
        }
      ]
    },
    {
      "cell_type": "code",
      "metadata": {
        "id": "hm-L85-tQ18d"
      },
      "source": [
        ""
      ],
      "execution_count": null,
      "outputs": []
    }
  ]
}