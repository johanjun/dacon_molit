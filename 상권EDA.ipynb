{
  "nbformat": 4,
  "nbformat_minor": 0,
  "metadata": {
    "colab": {
      "name": "상권EDA.ipynb",
      "provenance": [],
      "machine_shape": "hm",
      "mount_file_id": "1mS-GGXxQnB9L6t0mE6j8_G6I0ZZdgxeW",
      "authorship_tag": "ABX9TyPNbFeExf3LXXmOp2lf3fNy",
      "include_colab_link": true
    },
    "kernelspec": {
      "name": "python3",
      "display_name": "Python 3"
    },
    "language_info": {
      "name": "python"
    }
  },
  "cells": [
    {
      "cell_type": "markdown",
      "metadata": {
        "id": "view-in-github",
        "colab_type": "text"
      },
      "source": [
        "<a href=\"https://colab.research.google.com/github/johanjun/dacon_molit/blob/main/%EC%83%81%EA%B6%8CEDA.ipynb\" target=\"_parent\"><img src=\"https://colab.research.google.com/assets/colab-badge.svg\" alt=\"Open In Colab\"/></a>"
      ]
    },
    {
      "cell_type": "code",
      "metadata": {
        "id": "wxJBQ6KMiMZS"
      },
      "source": [
        "#한글폰트\n",
        "!sudo apt-get install -y fonts-nanum\n",
        "!sudo fc-cache -fv\n",
        "!rm ~/.cache/matplotlib -rf"
      ],
      "execution_count": null,
      "outputs": []
    },
    {
      "cell_type": "code",
      "metadata": {
        "id": "PhFKqJ_j9KkE"
      },
      "source": [
        "import pandas as pd\n",
        "import matplotlib.pyplot as plt\n",
        "import os\n",
        "import seaborn as sns\n",
        "import re\n",
        "import shutil\n",
        "import random\n",
        "import missingno as msno\n",
        "import matplotlib.pyplot as plt\n",
        "plt.rc('font', family='NanumBarunGothic') "
      ],
      "execution_count": 1,
      "outputs": []
    },
    {
      "cell_type": "code",
      "metadata": {
        "colab": {
          "base_uri": "https://localhost:8080/"
        },
        "id": "pL1R_-At85Mb",
        "outputId": "785dd234-55a3-4847-989b-607539c291ff"
      },
      "source": [
        "# from google.colab import drive\n",
        "# drive.mount('/content/drive')"
      ],
      "execution_count": null,
      "outputs": [
        {
          "output_type": "stream",
          "text": [
            "Mounted at /content/drive\n"
          ],
          "name": "stdout"
        }
      ]
    },
    {
      "cell_type": "code",
      "metadata": {
        "id": "iGRtDD6L86us"
      },
      "source": [
        "data_dir = '/content/drive/MyDrive/dacon_molit/data/'"
      ],
      "execution_count": 2,
      "outputs": []
    },
    {
      "cell_type": "markdown",
      "metadata": {
        "id": "miDTZdzOA21v"
      },
      "source": [
        "### 상권영역\n",
        "- 좌표계 EPSG: 5181"
      ]
    },
    {
      "cell_type": "code",
      "metadata": {
        "id": "rlnvyJ0Z_CF2"
      },
      "source": [
        "df_comm = pd.read_csv(data_dir+'서울시 우리마을가게 상권분석서비스(상권영역).csv', encoding='euc-kr')"
      ],
      "execution_count": 62,
      "outputs": []
    },
    {
      "cell_type": "code",
      "metadata": {
        "colab": {
          "base_uri": "https://localhost:8080/"
        },
        "id": "ltpU7qLFHgkz",
        "outputId": "801de0f4-e275-4b65-a88e-25d79ac41496"
      },
      "source": [
        "df_comm.shape"
      ],
      "execution_count": 63,
      "outputs": [
        {
          "output_type": "execute_result",
          "data": {
            "text/plain": [
              "(1496, 10)"
            ]
          },
          "metadata": {
            "tags": []
          },
          "execution_count": 63
        }
      ]
    },
    {
      "cell_type": "code",
      "metadata": {
        "colab": {
          "base_uri": "https://localhost:8080/",
          "height": 142
        },
        "id": "-xpy6Kt5Htqf",
        "outputId": "a3c4338f-e440-44cd-8f98-f5b02eaad73c"
      },
      "source": [
        "df_comm.head(3)"
      ],
      "execution_count": 64,
      "outputs": [
        {
          "output_type": "execute_result",
          "data": {
            "text/html": [
              "<div>\n",
              "<style scoped>\n",
              "    .dataframe tbody tr th:only-of-type {\n",
              "        vertical-align: middle;\n",
              "    }\n",
              "\n",
              "    .dataframe tbody tr th {\n",
              "        vertical-align: top;\n",
              "    }\n",
              "\n",
              "    .dataframe thead th {\n",
              "        text-align: right;\n",
              "    }\n",
              "</style>\n",
              "<table border=\"1\" class=\"dataframe\">\n",
              "  <thead>\n",
              "    <tr style=\"text-align: right;\">\n",
              "      <th></th>\n",
              "      <th>기준_년월_코드</th>\n",
              "      <th>상권_구분_코드</th>\n",
              "      <th>상권_구분_코드_명</th>\n",
              "      <th>상권_코드</th>\n",
              "      <th>상권_코드_명</th>\n",
              "      <th>엑스좌표_값</th>\n",
              "      <th>와이좌표_값</th>\n",
              "      <th>시군구_코드</th>\n",
              "      <th>행정동_코드</th>\n",
              "      <th>형태정보</th>\n",
              "    </tr>\n",
              "  </thead>\n",
              "  <tbody>\n",
              "    <tr>\n",
              "      <th>0</th>\n",
              "      <td>201810</td>\n",
              "      <td>R</td>\n",
              "      <td>전통시장</td>\n",
              "      <td>1001453</td>\n",
              "      <td>낙성대시장</td>\n",
              "      <td>196121</td>\n",
              "      <td>442084</td>\n",
              "      <td>11620</td>\n",
              "      <td>11620585</td>\n",
              "      <td>NaN</td>\n",
              "    </tr>\n",
              "    <tr>\n",
              "      <th>1</th>\n",
              "      <td>201810</td>\n",
              "      <td>R</td>\n",
              "      <td>전통시장</td>\n",
              "      <td>1001454</td>\n",
              "      <td>봉천제일종합시장</td>\n",
              "      <td>195147</td>\n",
              "      <td>442413</td>\n",
              "      <td>11620</td>\n",
              "      <td>11620595</td>\n",
              "      <td>NaN</td>\n",
              "    </tr>\n",
              "    <tr>\n",
              "      <th>2</th>\n",
              "      <td>201810</td>\n",
              "      <td>R</td>\n",
              "      <td>전통시장</td>\n",
              "      <td>1001474</td>\n",
              "      <td>도곡시장</td>\n",
              "      <td>204551</td>\n",
              "      <td>444227</td>\n",
              "      <td>11680</td>\n",
              "      <td>11680650</td>\n",
              "      <td>NaN</td>\n",
              "    </tr>\n",
              "  </tbody>\n",
              "</table>\n",
              "</div>"
            ],
            "text/plain": [
              "   기준_년월_코드 상권_구분_코드 상권_구분_코드_명    상권_코드  ...  와이좌표_값  시군구_코드    행정동_코드  형태정보\n",
              "0    201810        R       전통시장  1001453  ...  442084   11620  11620585   NaN\n",
              "1    201810        R       전통시장  1001454  ...  442413   11620  11620595   NaN\n",
              "2    201810        R       전통시장  1001474  ...  444227   11680  11680650   NaN\n",
              "\n",
              "[3 rows x 10 columns]"
            ]
          },
          "metadata": {
            "tags": []
          },
          "execution_count": 64
        }
      ]
    },
    {
      "cell_type": "code",
      "metadata": {
        "colab": {
          "base_uri": "https://localhost:8080/"
        },
        "id": "ppEJ5JQ8HunV",
        "outputId": "20602a4f-f2e3-47a3-cd31-dec0e9f6d694"
      },
      "source": [
        "df_comm['상권_구분_코드_명'].unique()"
      ],
      "execution_count": 6,
      "outputs": [
        {
          "output_type": "execute_result",
          "data": {
            "text/plain": [
              "array(['전통시장', '관광특구', '골목상권', '발달상권'], dtype=object)"
            ]
          },
          "metadata": {
            "tags": []
          },
          "execution_count": 6
        }
      ]
    },
    {
      "cell_type": "code",
      "metadata": {
        "id": "gAY32gaMox9o"
      },
      "source": [
        "#좌표 변환 (ref : https://m.blog.naver.com/wideeyed/221243506770)\n",
        "from pyproj import Proj, transform\n",
        "import numpy as np"
      ],
      "execution_count": 16,
      "outputs": []
    },
    {
      "cell_type": "code",
      "metadata": {
        "id": "fPqKEqjMoy23"
      },
      "source": [
        "# Projection 정의\n",
        "# UTM-K\n",
        "proj_GRS80 = Proj('epsg:5181') # 중부원점(GRS80) 도로명주소 지도 사용 중\n",
        "\n",
        "# WGS1984\n",
        "proj_WGS84 = Proj('epsg:4326') # Wgs84 경도/위도, GPS사용 전지구 좌표"
      ],
      "execution_count": 17,
      "outputs": []
    },
    {
      "cell_type": "code",
      "metadata": {
        "colab": {
          "base_uri": "https://localhost:8080/"
        },
        "id": "7VqG-c68pN19",
        "outputId": "25f64213-4914-4d48-a102-a02f09272bfd"
      },
      "source": [
        "df_comm['엑스좌표_값_2'], df_comm['와이좌표_값_2'] = transform(proj_GRS80, proj_WGS84, df_comm['엑스좌표_값'], df_comm['와이좌표_값'])"
      ],
      "execution_count": 65,
      "outputs": [
        {
          "output_type": "stream",
          "text": [
            "/usr/local/lib/python3.7/dist-packages/ipykernel_launcher.py:1: DeprecationWarning: This function is deprecated. See: https://pyproj4.github.io/pyproj/stable/gotchas.html#upgrading-to-pyproj-2-from-pyproj-1\n",
            "  \"\"\"Entry point for launching an IPython kernel.\n"
          ],
          "name": "stderr"
        }
      ]
    },
    {
      "cell_type": "code",
      "metadata": {
        "colab": {
          "base_uri": "https://localhost:8080/",
          "height": 204
        },
        "id": "lMkqkr1UqD6J",
        "outputId": "a39320c0-239d-4bd2-ad0b-f4ca2d36bfb8"
      },
      "source": [
        "df_comm.head()"
      ],
      "execution_count": 66,
      "outputs": [
        {
          "output_type": "execute_result",
          "data": {
            "text/html": [
              "<div>\n",
              "<style scoped>\n",
              "    .dataframe tbody tr th:only-of-type {\n",
              "        vertical-align: middle;\n",
              "    }\n",
              "\n",
              "    .dataframe tbody tr th {\n",
              "        vertical-align: top;\n",
              "    }\n",
              "\n",
              "    .dataframe thead th {\n",
              "        text-align: right;\n",
              "    }\n",
              "</style>\n",
              "<table border=\"1\" class=\"dataframe\">\n",
              "  <thead>\n",
              "    <tr style=\"text-align: right;\">\n",
              "      <th></th>\n",
              "      <th>기준_년월_코드</th>\n",
              "      <th>상권_구분_코드</th>\n",
              "      <th>상권_구분_코드_명</th>\n",
              "      <th>상권_코드</th>\n",
              "      <th>상권_코드_명</th>\n",
              "      <th>엑스좌표_값</th>\n",
              "      <th>와이좌표_값</th>\n",
              "      <th>시군구_코드</th>\n",
              "      <th>행정동_코드</th>\n",
              "      <th>형태정보</th>\n",
              "      <th>엑스좌표_값_2</th>\n",
              "      <th>와이좌표_값_2</th>\n",
              "    </tr>\n",
              "  </thead>\n",
              "  <tbody>\n",
              "    <tr>\n",
              "      <th>0</th>\n",
              "      <td>201810</td>\n",
              "      <td>R</td>\n",
              "      <td>전통시장</td>\n",
              "      <td>1001453</td>\n",
              "      <td>낙성대시장</td>\n",
              "      <td>196121</td>\n",
              "      <td>442084</td>\n",
              "      <td>11620</td>\n",
              "      <td>11620585</td>\n",
              "      <td>NaN</td>\n",
              "      <td>35.232408</td>\n",
              "      <td>129.659085</td>\n",
              "    </tr>\n",
              "    <tr>\n",
              "      <th>1</th>\n",
              "      <td>201810</td>\n",
              "      <td>R</td>\n",
              "      <td>전통시장</td>\n",
              "      <td>1001454</td>\n",
              "      <td>봉천제일종합시장</td>\n",
              "      <td>195147</td>\n",
              "      <td>442413</td>\n",
              "      <td>11620</td>\n",
              "      <td>11620595</td>\n",
              "      <td>NaN</td>\n",
              "      <td>35.223559</td>\n",
              "      <td>129.662409</td>\n",
              "    </tr>\n",
              "    <tr>\n",
              "      <th>2</th>\n",
              "      <td>201810</td>\n",
              "      <td>R</td>\n",
              "      <td>전통시장</td>\n",
              "      <td>1001474</td>\n",
              "      <td>도곡시장</td>\n",
              "      <td>204551</td>\n",
              "      <td>444227</td>\n",
              "      <td>11680</td>\n",
              "      <td>11680650</td>\n",
              "      <td>NaN</td>\n",
              "      <td>35.307789</td>\n",
              "      <td>129.685107</td>\n",
              "    </tr>\n",
              "    <tr>\n",
              "      <th>3</th>\n",
              "      <td>201810</td>\n",
              "      <td>R</td>\n",
              "      <td>전통시장</td>\n",
              "      <td>1001475</td>\n",
              "      <td>강남개포시장</td>\n",
              "      <td>206065</td>\n",
              "      <td>443310</td>\n",
              "      <td>11680</td>\n",
              "      <td>11680670</td>\n",
              "      <td>NaN</td>\n",
              "      <td>35.321644</td>\n",
              "      <td>129.675484</td>\n",
              "    </tr>\n",
              "    <tr>\n",
              "      <th>4</th>\n",
              "      <td>201810</td>\n",
              "      <td>R</td>\n",
              "      <td>전통시장</td>\n",
              "      <td>1001412</td>\n",
              "      <td>화곡본동시장</td>\n",
              "      <td>186203</td>\n",
              "      <td>449328</td>\n",
              "      <td>11500</td>\n",
              "      <td>11500590</td>\n",
              "      <td>NaN</td>\n",
              "      <td>35.141341</td>\n",
              "      <td>129.735578</td>\n",
              "    </tr>\n",
              "  </tbody>\n",
              "</table>\n",
              "</div>"
            ],
            "text/plain": [
              "   기준_년월_코드 상권_구분_코드 상권_구분_코드_명    상권_코드  ...    행정동_코드  형태정보   엑스좌표_값_2    와이좌표_값_2\n",
              "0    201810        R       전통시장  1001453  ...  11620585   NaN  35.232408  129.659085\n",
              "1    201810        R       전통시장  1001454  ...  11620595   NaN  35.223559  129.662409\n",
              "2    201810        R       전통시장  1001474  ...  11680650   NaN  35.307789  129.685107\n",
              "3    201810        R       전통시장  1001475  ...  11680670   NaN  35.321644  129.675484\n",
              "4    201810        R       전통시장  1001412  ...  11500590   NaN  35.141341  129.735578\n",
              "\n",
              "[5 rows x 12 columns]"
            ]
          },
          "metadata": {
            "tags": []
          },
          "execution_count": 66
        }
      ]
    },
    {
      "cell_type": "code",
      "metadata": {
        "id": "L1PYQ2d3qSHb"
      },
      "source": [
        "import folium"
      ],
      "execution_count": 20,
      "outputs": []
    },
    {
      "cell_type": "code",
      "metadata": {
        "colab": {
          "base_uri": "https://localhost:8080/",
          "height": 808
        },
        "id": "Jd5j2lAMqUlG",
        "outputId": "2e95f42a-dbad-4dff-ddce-ea6b77c7c128"
      },
      "source": [
        "# 새로운 지도 객체 생성\n",
        "new_map = folium.Map(location=[37.5642135, 127.0016985], zoom_start=12, tiles='Stamen Toner')\n",
        "\n",
        "df_mapping = df_comm.sample(10)\n",
        "# 마커 \n",
        "for i, m in df_mapping.iterrows():\n",
        "  marker = folium.Marker(location=[m['엑스좌표_값_2'], m['와이좌표_값_2']],\n",
        "                         popup=m['상권_코드_명'])\n",
        "  marker.add_to(new_map)\n",
        " \n",
        "new_map"
      ],
      "execution_count": 21,
      "outputs": [
        {
          "output_type": "execute_result",
          "data": {
            "text/html": [
              "<div style=\"width:100%;\"><div style=\"position:relative;width:100%;height:0;padding-bottom:60%;\"><span style=\"color:#565656\">Make this Notebook Trusted to load map: File -> Trust Notebook</span><iframe src=\"about:blank\" style=\"position:absolute;width:100%;height:100%;left:0;top:0;border:none !important;\" data-html=%3C%21DOCTYPE%20html%3E%0A%3Chead%3E%20%20%20%20%0A%20%20%20%20%3Cmeta%20http-equiv%3D%22content-type%22%20content%3D%22text/html%3B%20charset%3DUTF-8%22%20/%3E%0A%20%20%20%20%3Cscript%3EL_PREFER_CANVAS%3Dfalse%3B%20L_NO_TOUCH%3Dfalse%3B%20L_DISABLE_3D%3Dfalse%3B%3C/script%3E%0A%20%20%20%20%3Cscript%20src%3D%22https%3A//cdn.jsdelivr.net/npm/leaflet%401.4.0/dist/leaflet.js%22%3E%3C/script%3E%0A%20%20%20%20%3Cscript%20src%3D%22https%3A//code.jquery.com/jquery-1.12.4.min.js%22%3E%3C/script%3E%0A%20%20%20%20%3Cscript%20src%3D%22https%3A//maxcdn.bootstrapcdn.com/bootstrap/3.2.0/js/bootstrap.min.js%22%3E%3C/script%3E%0A%20%20%20%20%3Cscript%20src%3D%22https%3A//cdnjs.cloudflare.com/ajax/libs/Leaflet.awesome-markers/2.0.2/leaflet.awesome-markers.js%22%3E%3C/script%3E%0A%20%20%20%20%3Clink%20rel%3D%22stylesheet%22%20href%3D%22https%3A//cdn.jsdelivr.net/npm/leaflet%401.4.0/dist/leaflet.css%22/%3E%0A%20%20%20%20%3Clink%20rel%3D%22stylesheet%22%20href%3D%22https%3A//maxcdn.bootstrapcdn.com/bootstrap/3.2.0/css/bootstrap.min.css%22/%3E%0A%20%20%20%20%3Clink%20rel%3D%22stylesheet%22%20href%3D%22https%3A//maxcdn.bootstrapcdn.com/bootstrap/3.2.0/css/bootstrap-theme.min.css%22/%3E%0A%20%20%20%20%3Clink%20rel%3D%22stylesheet%22%20href%3D%22https%3A//maxcdn.bootstrapcdn.com/font-awesome/4.6.3/css/font-awesome.min.css%22/%3E%0A%20%20%20%20%3Clink%20rel%3D%22stylesheet%22%20href%3D%22https%3A//cdnjs.cloudflare.com/ajax/libs/Leaflet.awesome-markers/2.0.2/leaflet.awesome-markers.css%22/%3E%0A%20%20%20%20%3Clink%20rel%3D%22stylesheet%22%20href%3D%22https%3A//rawcdn.githack.com/python-visualization/folium/master/folium/templates/leaflet.awesome.rotate.css%22/%3E%0A%20%20%20%20%3Cstyle%3Ehtml%2C%20body%20%7Bwidth%3A%20100%25%3Bheight%3A%20100%25%3Bmargin%3A%200%3Bpadding%3A%200%3B%7D%3C/style%3E%0A%20%20%20%20%3Cstyle%3E%23map%20%7Bposition%3Aabsolute%3Btop%3A0%3Bbottom%3A0%3Bright%3A0%3Bleft%3A0%3B%7D%3C/style%3E%0A%20%20%20%20%0A%20%20%20%20%3Cmeta%20name%3D%22viewport%22%20content%3D%22width%3Ddevice-width%2C%0A%20%20%20%20%20%20%20%20initial-scale%3D1.0%2C%20maximum-scale%3D1.0%2C%20user-scalable%3Dno%22%20/%3E%0A%20%20%20%20%3Cstyle%3E%23map_73ac431ab0f64aaca463582288889a7a%20%7B%0A%20%20%20%20%20%20%20%20position%3A%20relative%3B%0A%20%20%20%20%20%20%20%20width%3A%20100.0%25%3B%0A%20%20%20%20%20%20%20%20height%3A%20100.0%25%3B%0A%20%20%20%20%20%20%20%20left%3A%200.0%25%3B%0A%20%20%20%20%20%20%20%20top%3A%200.0%25%3B%0A%20%20%20%20%20%20%20%20%7D%0A%20%20%20%20%3C/style%3E%0A%3C/head%3E%0A%3Cbody%3E%20%20%20%20%0A%20%20%20%20%0A%20%20%20%20%3Cdiv%20class%3D%22folium-map%22%20id%3D%22map_73ac431ab0f64aaca463582288889a7a%22%20%3E%3C/div%3E%0A%3C/body%3E%0A%3Cscript%3E%20%20%20%20%0A%20%20%20%20%0A%20%20%20%20%0A%20%20%20%20%20%20%20%20var%20bounds%20%3D%20null%3B%0A%20%20%20%20%0A%0A%20%20%20%20var%20map_73ac431ab0f64aaca463582288889a7a%20%3D%20L.map%28%0A%20%20%20%20%20%20%20%20%27map_73ac431ab0f64aaca463582288889a7a%27%2C%20%7B%0A%20%20%20%20%20%20%20%20center%3A%20%5B37.5642135%2C%20127.0016985%5D%2C%0A%20%20%20%20%20%20%20%20zoom%3A%2012%2C%0A%20%20%20%20%20%20%20%20maxBounds%3A%20bounds%2C%0A%20%20%20%20%20%20%20%20layers%3A%20%5B%5D%2C%0A%20%20%20%20%20%20%20%20worldCopyJump%3A%20false%2C%0A%20%20%20%20%20%20%20%20crs%3A%20L.CRS.EPSG3857%2C%0A%20%20%20%20%20%20%20%20zoomControl%3A%20true%2C%0A%20%20%20%20%20%20%20%20%7D%29%3B%0A%0A%0A%20%20%20%20%0A%20%20%20%20var%20tile_layer_035259354dd641dfb333e614126b8bca%20%3D%20L.tileLayer%28%0A%20%20%20%20%20%20%20%20%27https%3A//stamen-tiles-%7Bs%7D.a.ssl.fastly.net/toner/%7Bz%7D/%7Bx%7D/%7By%7D.png%27%2C%0A%20%20%20%20%20%20%20%20%7B%0A%20%20%20%20%20%20%20%20%22attribution%22%3A%20null%2C%0A%20%20%20%20%20%20%20%20%22detectRetina%22%3A%20false%2C%0A%20%20%20%20%20%20%20%20%22maxNativeZoom%22%3A%2018%2C%0A%20%20%20%20%20%20%20%20%22maxZoom%22%3A%2018%2C%0A%20%20%20%20%20%20%20%20%22minZoom%22%3A%200%2C%0A%20%20%20%20%20%20%20%20%22noWrap%22%3A%20false%2C%0A%20%20%20%20%20%20%20%20%22opacity%22%3A%201%2C%0A%20%20%20%20%20%20%20%20%22subdomains%22%3A%20%22abc%22%2C%0A%20%20%20%20%20%20%20%20%22tms%22%3A%20false%0A%7D%29.addTo%28map_73ac431ab0f64aaca463582288889a7a%29%3B%0A%20%20%20%20%0A%20%20%20%20%20%20%20%20var%20marker_3bd4ef71b6de49cc952c245b3d3bbf1d%20%3D%20L.marker%28%0A%20%20%20%20%20%20%20%20%20%20%20%20%5B35.20141579276905%2C%20129.67001747184392%5D%2C%0A%20%20%20%20%20%20%20%20%20%20%20%20%7B%0A%20%20%20%20%20%20%20%20%20%20%20%20%20%20%20%20icon%3A%20new%20L.Icon.Default%28%29%2C%0A%20%20%20%20%20%20%20%20%20%20%20%20%20%20%20%20%7D%0A%20%20%20%20%20%20%20%20%20%20%20%20%29.addTo%28map_73ac431ab0f64aaca463582288889a7a%29%3B%0A%20%20%20%20%20%20%20%20%0A%20%20%20%20%0A%20%20%20%20%20%20%20%20%20%20%20%20var%20popup_1fa59414344542c4a4ee8ae0b5e69cad%20%3D%20L.popup%28%7BmaxWidth%3A%20%27100%25%27%0A%20%20%20%20%20%20%20%20%20%20%20%20%0A%20%20%20%20%20%20%20%20%20%20%20%20%7D%29%3B%0A%0A%20%20%20%20%20%20%20%20%20%20%20%20%0A%20%20%20%20%20%20%20%20%20%20%20%20%20%20%20%20var%20html_ae050eb3f7674350bf55be1d375d6adc%20%3D%20%24%28%60%3Cdiv%20id%3D%22html_ae050eb3f7674350bf55be1d375d6adc%22%20style%3D%22width%3A%20100.0%25%3B%20height%3A%20100.0%25%3B%22%3E%EC%8B%A0%EC%82%AC%EB%A1%9C20%EA%B8%B8%3C/div%3E%60%29%5B0%5D%3B%0A%20%20%20%20%20%20%20%20%20%20%20%20%20%20%20%20popup_1fa59414344542c4a4ee8ae0b5e69cad.setContent%28html_ae050eb3f7674350bf55be1d375d6adc%29%3B%0A%20%20%20%20%20%20%20%20%20%20%20%20%0A%0A%20%20%20%20%20%20%20%20%20%20%20%20marker_3bd4ef71b6de49cc952c245b3d3bbf1d.bindPopup%28popup_1fa59414344542c4a4ee8ae0b5e69cad%29%0A%20%20%20%20%20%20%20%20%20%20%20%20%3B%0A%0A%20%20%20%20%20%20%20%20%20%20%20%20%0A%20%20%20%20%20%20%20%20%0A%20%20%20%20%0A%20%20%20%20%20%20%20%20var%20marker_58f449618a644f5296a4039fa1cd60f8%20%3D%20L.marker%28%0A%20%20%20%20%20%20%20%20%20%20%20%20%5B35.36756238867008%2C%20129.74160042708667%5D%2C%0A%20%20%20%20%20%20%20%20%20%20%20%20%7B%0A%20%20%20%20%20%20%20%20%20%20%20%20%20%20%20%20icon%3A%20new%20L.Icon.Default%28%29%2C%0A%20%20%20%20%20%20%20%20%20%20%20%20%20%20%20%20%7D%0A%20%20%20%20%20%20%20%20%20%20%20%20%29.addTo%28map_73ac431ab0f64aaca463582288889a7a%29%3B%0A%20%20%20%20%20%20%20%20%0A%20%20%20%20%0A%20%20%20%20%20%20%20%20%20%20%20%20var%20popup_76f4cff0789540299f8721f8e9d6aaa9%20%3D%20L.popup%28%7BmaxWidth%3A%20%27100%25%27%0A%20%20%20%20%20%20%20%20%20%20%20%20%0A%20%20%20%20%20%20%20%20%20%20%20%20%7D%29%3B%0A%0A%20%20%20%20%20%20%20%20%20%20%20%20%0A%20%20%20%20%20%20%20%20%20%20%20%20%20%20%20%20var%20html_f8a7fde2c4e54428aff6f14d688c4220%20%3D%20%24%28%60%3Cdiv%20id%3D%22html_f8a7fde2c4e54428aff6f14d688c4220%22%20style%3D%22width%3A%20100.0%25%3B%20height%3A%20100.0%25%3B%22%3E%EB%8F%99%EC%84%9C%EC%9A%B8%EC%8B%9C%EC%9E%A5%3C/div%3E%60%29%5B0%5D%3B%0A%20%20%20%20%20%20%20%20%20%20%20%20%20%20%20%20popup_76f4cff0789540299f8721f8e9d6aaa9.setContent%28html_f8a7fde2c4e54428aff6f14d688c4220%29%3B%0A%20%20%20%20%20%20%20%20%20%20%20%20%0A%0A%20%20%20%20%20%20%20%20%20%20%20%20marker_58f449618a644f5296a4039fa1cd60f8.bindPopup%28popup_76f4cff0789540299f8721f8e9d6aaa9%29%0A%20%20%20%20%20%20%20%20%20%20%20%20%3B%0A%0A%20%20%20%20%20%20%20%20%20%20%20%20%0A%20%20%20%20%20%20%20%20%0A%20%20%20%20%0A%20%20%20%20%20%20%20%20var%20marker_d632b384bc7946d3a688170a8e1bd617%20%3D%20L.marker%28%0A%20%20%20%20%20%20%20%20%20%20%20%20%5B35.32267507156381%2C%20129.73564180681387%5D%2C%0A%20%20%20%20%20%20%20%20%20%20%20%20%7B%0A%20%20%20%20%20%20%20%20%20%20%20%20%20%20%20%20icon%3A%20new%20L.Icon.Default%28%29%2C%0A%20%20%20%20%20%20%20%20%20%20%20%20%20%20%20%20%7D%0A%20%20%20%20%20%20%20%20%20%20%20%20%29.addTo%28map_73ac431ab0f64aaca463582288889a7a%29%3B%0A%20%20%20%20%20%20%20%20%0A%20%20%20%20%0A%20%20%20%20%20%20%20%20%20%20%20%20var%20popup_646db5501b5249428308dc2999329ae7%20%3D%20L.popup%28%7BmaxWidth%3A%20%27100%25%27%0A%20%20%20%20%20%20%20%20%20%20%20%20%0A%20%20%20%20%20%20%20%20%20%20%20%20%7D%29%3B%0A%0A%20%20%20%20%20%20%20%20%20%20%20%20%0A%20%20%20%20%20%20%20%20%20%20%20%20%20%20%20%20var%20html_8f53318dc37f4d93b3fbd3126d94f1b8%20%3D%20%24%28%60%3Cdiv%20id%3D%22html_8f53318dc37f4d93b3fbd3126d94f1b8%22%20style%3D%22width%3A%20100.0%25%3B%20height%3A%20100.0%25%3B%22%3E%EA%B1%B4%EB%8C%80%EC%9E%85%EA%B5%AC%EC%97%AD%3C/div%3E%60%29%5B0%5D%3B%0A%20%20%20%20%20%20%20%20%20%20%20%20%20%20%20%20popup_646db5501b5249428308dc2999329ae7.setContent%28html_8f53318dc37f4d93b3fbd3126d94f1b8%29%3B%0A%20%20%20%20%20%20%20%20%20%20%20%20%0A%0A%20%20%20%20%20%20%20%20%20%20%20%20marker_d632b384bc7946d3a688170a8e1bd617.bindPopup%28popup_646db5501b5249428308dc2999329ae7%29%0A%20%20%20%20%20%20%20%20%20%20%20%20%3B%0A%0A%20%20%20%20%20%20%20%20%20%20%20%20%0A%20%20%20%20%20%20%20%20%0A%20%20%20%20%0A%20%20%20%20%20%20%20%20var%20marker_0a38e8dc55314115a7ba717946ea0735%20%3D%20L.marker%28%0A%20%20%20%20%20%20%20%20%20%20%20%20%5B35.23382556598436%2C%20129.72855725216283%5D%2C%0A%20%20%20%20%20%20%20%20%20%20%20%20%7B%0A%20%20%20%20%20%20%20%20%20%20%20%20%20%20%20%20icon%3A%20new%20L.Icon.Default%28%29%2C%0A%20%20%20%20%20%20%20%20%20%20%20%20%20%20%20%20%7D%0A%20%20%20%20%20%20%20%20%20%20%20%20%29.addTo%28map_73ac431ab0f64aaca463582288889a7a%29%3B%0A%20%20%20%20%20%20%20%20%0A%20%20%20%20%0A%20%20%20%20%20%20%20%20%20%20%20%20var%20popup_a919770a11b04caa9e1aa2572b5a56c5%20%3D%20L.popup%28%7BmaxWidth%3A%20%27100%25%27%0A%20%20%20%20%20%20%20%20%20%20%20%20%0A%20%20%20%20%20%20%20%20%20%20%20%20%7D%29%3B%0A%0A%20%20%20%20%20%20%20%20%20%20%20%20%0A%20%20%20%20%20%20%20%20%20%20%20%20%20%20%20%20var%20html_5a8534941123400ba585a74e9b5d1a43%20%3D%20%24%28%60%3Cdiv%20id%3D%22html_5a8534941123400ba585a74e9b5d1a43%22%20style%3D%22width%3A%20100.0%25%3B%20height%3A%20100.0%25%3B%22%3E%EC%9A%A9%EC%82%B0%20%EC%A0%84%EC%9E%90%EC%83%81%EA%B0%80_4%3C/div%3E%60%29%5B0%5D%3B%0A%20%20%20%20%20%20%20%20%20%20%20%20%20%20%20%20popup_a919770a11b04caa9e1aa2572b5a56c5.setContent%28html_5a8534941123400ba585a74e9b5d1a43%29%3B%0A%20%20%20%20%20%20%20%20%20%20%20%20%0A%0A%20%20%20%20%20%20%20%20%20%20%20%20marker_0a38e8dc55314115a7ba717946ea0735.bindPopup%28popup_a919770a11b04caa9e1aa2572b5a56c5%29%0A%20%20%20%20%20%20%20%20%20%20%20%20%3B%0A%0A%20%20%20%20%20%20%20%20%20%20%20%20%0A%20%20%20%20%20%20%20%20%0A%20%20%20%20%0A%20%20%20%20%20%20%20%20var%20marker_e65db37399694773856a8959508170ab%20%3D%20L.marker%28%0A%20%20%20%20%20%20%20%20%20%20%20%20%5B35.221873967687614%2C%20129.65833529317365%5D%2C%0A%20%20%20%20%20%20%20%20%20%20%20%20%7B%0A%20%20%20%20%20%20%20%20%20%20%20%20%20%20%20%20icon%3A%20new%20L.Icon.Default%28%29%2C%0A%20%20%20%20%20%20%20%20%20%20%20%20%20%20%20%20%7D%0A%20%20%20%20%20%20%20%20%20%20%20%20%29.addTo%28map_73ac431ab0f64aaca463582288889a7a%29%3B%0A%20%20%20%20%20%20%20%20%0A%20%20%20%20%0A%20%20%20%20%20%20%20%20%20%20%20%20var%20popup_ca4c6e777eb74bb5bda62dc64d8a964b%20%3D%20L.popup%28%7BmaxWidth%3A%20%27100%25%27%0A%20%20%20%20%20%20%20%20%20%20%20%20%0A%20%20%20%20%20%20%20%20%20%20%20%20%7D%29%3B%0A%0A%20%20%20%20%20%20%20%20%20%20%20%20%0A%20%20%20%20%20%20%20%20%20%20%20%20%20%20%20%20var%20html_8d8501b1c6444f508fc3acf8636135da%20%3D%20%24%28%60%3Cdiv%20id%3D%22html_8d8501b1c6444f508fc3acf8636135da%22%20style%3D%22width%3A%20100.0%25%3B%20height%3A%20100.0%25%3B%22%3E%EC%86%8C%EB%8B%B4%EA%B8%B8%3C/div%3E%60%29%5B0%5D%3B%0A%20%20%20%20%20%20%20%20%20%20%20%20%20%20%20%20popup_ca4c6e777eb74bb5bda62dc64d8a964b.setContent%28html_8d8501b1c6444f508fc3acf8636135da%29%3B%0A%20%20%20%20%20%20%20%20%20%20%20%20%0A%0A%20%20%20%20%20%20%20%20%20%20%20%20marker_e65db37399694773856a8959508170ab.bindPopup%28popup_ca4c6e777eb74bb5bda62dc64d8a964b%29%0A%20%20%20%20%20%20%20%20%20%20%20%20%3B%0A%0A%20%20%20%20%20%20%20%20%20%20%20%20%0A%20%20%20%20%20%20%20%20%0A%20%20%20%20%0A%20%20%20%20%20%20%20%20var%20marker_cb9427d36c2f405cbb795ae7447cf355%20%3D%20L.marker%28%0A%20%20%20%20%20%20%20%20%20%20%20%20%5B35.253671445366805%2C%20129.78638368935086%5D%2C%0A%20%20%20%20%20%20%20%20%20%20%20%20%7B%0A%20%20%20%20%20%20%20%20%20%20%20%20%20%20%20%20icon%3A%20new%20L.Icon.Default%28%29%2C%0A%20%20%20%20%20%20%20%20%20%20%20%20%20%20%20%20%7D%0A%20%20%20%20%20%20%20%20%20%20%20%20%29.addTo%28map_73ac431ab0f64aaca463582288889a7a%29%3B%0A%20%20%20%20%20%20%20%20%0A%20%20%20%20%0A%20%20%20%20%20%20%20%20%20%20%20%20var%20popup_b662c952a24b4913acd0e520f2c8e114%20%3D%20L.popup%28%7BmaxWidth%3A%20%27100%25%27%0A%20%20%20%20%20%20%20%20%20%20%20%20%0A%20%20%20%20%20%20%20%20%20%20%20%20%7D%29%3B%0A%0A%20%20%20%20%20%20%20%20%20%20%20%20%0A%20%20%20%20%20%20%20%20%20%20%20%20%20%20%20%20var%20html_d85a5563ab4b445aa4d92c69d834728a%20%3D%20%24%28%60%3Cdiv%20id%3D%22html_d85a5563ab4b445aa4d92c69d834728a%22%20style%3D%22width%3A%20100.0%25%3B%20height%3A%20100.0%25%3B%22%3E%EA%B3%84%EB%8F%99%EA%B8%B8%3C/div%3E%60%29%5B0%5D%3B%0A%20%20%20%20%20%20%20%20%20%20%20%20%20%20%20%20popup_b662c952a24b4913acd0e520f2c8e114.setContent%28html_d85a5563ab4b445aa4d92c69d834728a%29%3B%0A%20%20%20%20%20%20%20%20%20%20%20%20%0A%0A%20%20%20%20%20%20%20%20%20%20%20%20marker_cb9427d36c2f405cbb795ae7447cf355.bindPopup%28popup_b662c952a24b4913acd0e520f2c8e114%29%0A%20%20%20%20%20%20%20%20%20%20%20%20%3B%0A%0A%20%20%20%20%20%20%20%20%20%20%20%20%0A%20%20%20%20%20%20%20%20%0A%20%20%20%20%0A%20%20%20%20%20%20%20%20var%20marker_c8a3e769c81b4082a4eb46e34313ebd2%20%3D%20L.marker%28%0A%20%20%20%20%20%20%20%20%20%20%20%20%5B35.27678019592645%2C%20129.79464677864775%5D%2C%0A%20%20%20%20%20%20%20%20%20%20%20%20%7B%0A%20%20%20%20%20%20%20%20%20%20%20%20%20%20%20%20icon%3A%20new%20L.Icon.Default%28%29%2C%0A%20%20%20%20%20%20%20%20%20%20%20%20%20%20%20%20%7D%0A%20%20%20%20%20%20%20%20%20%20%20%20%29.addTo%28map_73ac431ab0f64aaca463582288889a7a%29%3B%0A%20%20%20%20%20%20%20%20%0A%20%20%20%20%0A%20%20%20%20%20%20%20%20%20%20%20%20var%20popup_8ac90a19ebf543f8a186279d1680e255%20%3D%20L.popup%28%7BmaxWidth%3A%20%27100%25%27%0A%20%20%20%20%20%20%20%20%20%20%20%20%0A%20%20%20%20%20%20%20%20%20%20%20%20%7D%29%3B%0A%0A%20%20%20%20%20%20%20%20%20%20%20%20%0A%20%20%20%20%20%20%20%20%20%20%20%20%20%20%20%20var%20html_20e87e76e20b4d15a6ac64078645c348%20%3D%20%24%28%60%3Cdiv%20id%3D%22html_20e87e76e20b4d15a6ac64078645c348%22%20style%3D%22width%3A%20100.0%25%3B%20height%3A%20100.0%25%3B%22%3E%EB%B3%B4%EB%AC%B8%EB%A1%9C31%EA%B8%B8%3C/div%3E%60%29%5B0%5D%3B%0A%20%20%20%20%20%20%20%20%20%20%20%20%20%20%20%20popup_8ac90a19ebf543f8a186279d1680e255.setContent%28html_20e87e76e20b4d15a6ac64078645c348%29%3B%0A%20%20%20%20%20%20%20%20%20%20%20%20%0A%0A%20%20%20%20%20%20%20%20%20%20%20%20marker_c8a3e769c81b4082a4eb46e34313ebd2.bindPopup%28popup_8ac90a19ebf543f8a186279d1680e255%29%0A%20%20%20%20%20%20%20%20%20%20%20%20%3B%0A%0A%20%20%20%20%20%20%20%20%20%20%20%20%0A%20%20%20%20%20%20%20%20%0A%20%20%20%20%0A%20%20%20%20%20%20%20%20var%20marker_ca2539fb69ce44fd80aa963e8111c5e8%20%3D%20L.marker%28%0A%20%20%20%20%20%20%20%20%20%20%20%20%5B35.17341292175249%2C%20129.68585745924804%5D%2C%0A%20%20%20%20%20%20%20%20%20%20%20%20%7B%0A%20%20%20%20%20%20%20%20%20%20%20%20%20%20%20%20icon%3A%20new%20L.Icon.Default%28%29%2C%0A%20%20%20%20%20%20%20%20%20%20%20%20%20%20%20%20%7D%0A%20%20%20%20%20%20%20%20%20%20%20%20%29.addTo%28map_73ac431ab0f64aaca463582288889a7a%29%3B%0A%20%20%20%20%20%20%20%20%0A%20%20%20%20%0A%20%20%20%20%20%20%20%20%20%20%20%20var%20popup_c572bdf23482499cb6728015f092a05c%20%3D%20L.popup%28%7BmaxWidth%3A%20%27100%25%27%0A%20%20%20%20%20%20%20%20%20%20%20%20%0A%20%20%20%20%20%20%20%20%20%20%20%20%7D%29%3B%0A%0A%20%20%20%20%20%20%20%20%20%20%20%20%0A%20%20%20%20%20%20%20%20%20%20%20%20%20%20%20%20var%20html_fd0d34d0824a44ff802b9a72578eba95%20%3D%20%24%28%60%3Cdiv%20id%3D%22html_fd0d34d0824a44ff802b9a72578eba95%22%20style%3D%22width%3A%20100.0%25%3B%20height%3A%20100.0%25%3B%22%3E%EA%B5%AC%EB%A1%9C%EC%97%AD%3C/div%3E%60%29%5B0%5D%3B%0A%20%20%20%20%20%20%20%20%20%20%20%20%20%20%20%20popup_c572bdf23482499cb6728015f092a05c.setContent%28html_fd0d34d0824a44ff802b9a72578eba95%29%3B%0A%20%20%20%20%20%20%20%20%20%20%20%20%0A%0A%20%20%20%20%20%20%20%20%20%20%20%20marker_ca2539fb69ce44fd80aa963e8111c5e8.bindPopup%28popup_c572bdf23482499cb6728015f092a05c%29%0A%20%20%20%20%20%20%20%20%20%20%20%20%3B%0A%0A%20%20%20%20%20%20%20%20%20%20%20%20%0A%20%20%20%20%20%20%20%20%0A%20%20%20%20%0A%20%20%20%20%20%20%20%20var%20marker_34d40bc48e574e09b07dc6fdba3dc2b1%20%3D%20L.marker%28%0A%20%20%20%20%20%20%20%20%20%20%20%20%5B35.30034624538598%2C%20129.70692970997362%5D%2C%0A%20%20%20%20%20%20%20%20%20%20%20%20%7B%0A%20%20%20%20%20%20%20%20%20%20%20%20%20%20%20%20icon%3A%20new%20L.Icon.Default%28%29%2C%0A%20%20%20%20%20%20%20%20%20%20%20%20%20%20%20%20%7D%0A%20%20%20%20%20%20%20%20%20%20%20%20%29.addTo%28map_73ac431ab0f64aaca463582288889a7a%29%3B%0A%20%20%20%20%20%20%20%20%0A%20%20%20%20%0A%20%20%20%20%20%20%20%20%20%20%20%20var%20popup_35268d0184514255a261894710af3cef%20%3D%20L.popup%28%7BmaxWidth%3A%20%27100%25%27%0A%20%20%20%20%20%20%20%20%20%20%20%20%0A%20%20%20%20%20%20%20%20%20%20%20%20%7D%29%3B%0A%0A%20%20%20%20%20%20%20%20%20%20%20%20%0A%20%20%20%20%20%20%20%20%20%20%20%20%20%20%20%20var%20html_7deb6d12be594cb7883487607955e2ac%20%3D%20%24%28%60%3Cdiv%20id%3D%22html_7deb6d12be594cb7883487607955e2ac%22%20style%3D%22width%3A%20100.0%25%3B%20height%3A%20100.0%25%3B%22%3E%ED%95%99%EB%8F%99%EB%A1%9C56%EA%B8%B8%3C/div%3E%60%29%5B0%5D%3B%0A%20%20%20%20%20%20%20%20%20%20%20%20%20%20%20%20popup_35268d0184514255a261894710af3cef.setContent%28html_7deb6d12be594cb7883487607955e2ac%29%3B%0A%20%20%20%20%20%20%20%20%20%20%20%20%0A%0A%20%20%20%20%20%20%20%20%20%20%20%20marker_34d40bc48e574e09b07dc6fdba3dc2b1.bindPopup%28popup_35268d0184514255a261894710af3cef%29%0A%20%20%20%20%20%20%20%20%20%20%20%20%3B%0A%0A%20%20%20%20%20%20%20%20%20%20%20%20%0A%20%20%20%20%20%20%20%20%0A%20%20%20%20%0A%20%20%20%20%20%20%20%20var%20marker_4f3247b7880f4de7a0ecc695ea2de413%20%3D%20L.marker%28%0A%20%20%20%20%20%20%20%20%20%20%20%20%5B35.35163937800729%2C%20129.69527934696185%5D%2C%0A%20%20%20%20%20%20%20%20%20%20%20%20%7B%0A%20%20%20%20%20%20%20%20%20%20%20%20%20%20%20%20icon%3A%20new%20L.Icon.Default%28%29%2C%0A%20%20%20%20%20%20%20%20%20%20%20%20%20%20%20%20%7D%0A%20%20%20%20%20%20%20%20%20%20%20%20%29.addTo%28map_73ac431ab0f64aaca463582288889a7a%29%3B%0A%20%20%20%20%20%20%20%20%0A%20%20%20%20%0A%20%20%20%20%20%20%20%20%20%20%20%20var%20popup_fbdaeb6303794987b839f3e20f6b2f10%20%3D%20L.popup%28%7BmaxWidth%3A%20%27100%25%27%0A%20%20%20%20%20%20%20%20%20%20%20%20%0A%20%20%20%20%20%20%20%20%20%20%20%20%7D%29%3B%0A%0A%20%20%20%20%20%20%20%20%20%20%20%20%0A%20%20%20%20%20%20%20%20%20%20%20%20%20%20%20%20var%20html_49905b120022410d801c0d5c4d8e2f88%20%3D%20%24%28%60%3Cdiv%20id%3D%22html_49905b120022410d801c0d5c4d8e2f88%22%20style%3D%22width%3A%20100.0%25%3B%20height%3A%20100.0%25%3B%22%3E%EC%84%9D%EC%B4%8C%EC%97%AD%3C/div%3E%60%29%5B0%5D%3B%0A%20%20%20%20%20%20%20%20%20%20%20%20%20%20%20%20popup_fbdaeb6303794987b839f3e20f6b2f10.setContent%28html_49905b120022410d801c0d5c4d8e2f88%29%3B%0A%20%20%20%20%20%20%20%20%20%20%20%20%0A%0A%20%20%20%20%20%20%20%20%20%20%20%20marker_4f3247b7880f4de7a0ecc695ea2de413.bindPopup%28popup_fbdaeb6303794987b839f3e20f6b2f10%29%0A%20%20%20%20%20%20%20%20%20%20%20%20%3B%0A%0A%20%20%20%20%20%20%20%20%20%20%20%20%0A%20%20%20%20%20%20%20%20%0A%3C/script%3E onload=\"this.contentDocument.open();this.contentDocument.write(    decodeURIComponent(this.getAttribute('data-html')));this.contentDocument.close();\" allowfullscreen webkitallowfullscreen mozallowfullscreen></iframe></div></div>"
            ],
            "text/plain": [
              "<folium.folium.Map at 0x7fa380d3dbd0>"
            ]
          },
          "metadata": {
            "tags": []
          },
          "execution_count": 21
        }
      ]
    },
    {
      "cell_type": "code",
      "metadata": {
        "id": "rCZgWKfgxsb_"
      },
      "source": [
        "!pip install fiona\n",
        "!pip install geopandas\n",
        "!pip install shapely"
      ],
      "execution_count": null,
      "outputs": []
    },
    {
      "cell_type": "code",
      "metadata": {
        "id": "qLOxtewS9dpk"
      },
      "source": [
        "from fiona.crs import from_string\n",
        "import geopandas as gpd\n",
        "from shapely.geometry import Point, Polygon, LineString"
      ],
      "execution_count": 25,
      "outputs": []
    },
    {
      "cell_type": "code",
      "metadata": {
        "id": "FmWK57eE-kDe"
      },
      "source": [
        "df_comm['geometry'] = df_comm.apply(lambda row : Point([row['엑스좌표_값'], row['와이좌표_값']]), axis=1)\n",
        "df_comm = gpd.GeoDataFrame(df_comm, geometry='geometry')"
      ],
      "execution_count": 67,
      "outputs": []
    },
    {
      "cell_type": "code",
      "metadata": {
        "colab": {
          "base_uri": "https://localhost:8080/",
          "height": 210
        },
        "id": "KGGl1kcg_A1o",
        "outputId": "c0563cf8-67fd-471d-ca07-fd268d37c775"
      },
      "source": [
        "df_comm.head(3)"
      ],
      "execution_count": 68,
      "outputs": [
        {
          "output_type": "execute_result",
          "data": {
            "text/html": [
              "<div>\n",
              "<style scoped>\n",
              "    .dataframe tbody tr th:only-of-type {\n",
              "        vertical-align: middle;\n",
              "    }\n",
              "\n",
              "    .dataframe tbody tr th {\n",
              "        vertical-align: top;\n",
              "    }\n",
              "\n",
              "    .dataframe thead th {\n",
              "        text-align: right;\n",
              "    }\n",
              "</style>\n",
              "<table border=\"1\" class=\"dataframe\">\n",
              "  <thead>\n",
              "    <tr style=\"text-align: right;\">\n",
              "      <th></th>\n",
              "      <th>기준_년월_코드</th>\n",
              "      <th>상권_구분_코드</th>\n",
              "      <th>상권_구분_코드_명</th>\n",
              "      <th>상권_코드</th>\n",
              "      <th>상권_코드_명</th>\n",
              "      <th>엑스좌표_값</th>\n",
              "      <th>와이좌표_값</th>\n",
              "      <th>시군구_코드</th>\n",
              "      <th>행정동_코드</th>\n",
              "      <th>형태정보</th>\n",
              "      <th>엑스좌표_값_2</th>\n",
              "      <th>와이좌표_값_2</th>\n",
              "      <th>geometry</th>\n",
              "    </tr>\n",
              "  </thead>\n",
              "  <tbody>\n",
              "    <tr>\n",
              "      <th>0</th>\n",
              "      <td>201810</td>\n",
              "      <td>R</td>\n",
              "      <td>전통시장</td>\n",
              "      <td>1001453</td>\n",
              "      <td>낙성대시장</td>\n",
              "      <td>196121</td>\n",
              "      <td>442084</td>\n",
              "      <td>11620</td>\n",
              "      <td>11620585</td>\n",
              "      <td>NaN</td>\n",
              "      <td>35.232408</td>\n",
              "      <td>129.659085</td>\n",
              "      <td>POINT (196121.000 442084.000)</td>\n",
              "    </tr>\n",
              "    <tr>\n",
              "      <th>1</th>\n",
              "      <td>201810</td>\n",
              "      <td>R</td>\n",
              "      <td>전통시장</td>\n",
              "      <td>1001454</td>\n",
              "      <td>봉천제일종합시장</td>\n",
              "      <td>195147</td>\n",
              "      <td>442413</td>\n",
              "      <td>11620</td>\n",
              "      <td>11620595</td>\n",
              "      <td>NaN</td>\n",
              "      <td>35.223559</td>\n",
              "      <td>129.662409</td>\n",
              "      <td>POINT (195147.000 442413.000)</td>\n",
              "    </tr>\n",
              "    <tr>\n",
              "      <th>2</th>\n",
              "      <td>201810</td>\n",
              "      <td>R</td>\n",
              "      <td>전통시장</td>\n",
              "      <td>1001474</td>\n",
              "      <td>도곡시장</td>\n",
              "      <td>204551</td>\n",
              "      <td>444227</td>\n",
              "      <td>11680</td>\n",
              "      <td>11680650</td>\n",
              "      <td>NaN</td>\n",
              "      <td>35.307789</td>\n",
              "      <td>129.685107</td>\n",
              "      <td>POINT (204551.000 444227.000)</td>\n",
              "    </tr>\n",
              "  </tbody>\n",
              "</table>\n",
              "</div>"
            ],
            "text/plain": [
              "   기준_년월_코드 상권_구분_코드  ...    와이좌표_값_2                       geometry\n",
              "0    201810        R  ...  129.659085  POINT (196121.000 442084.000)\n",
              "1    201810        R  ...  129.662409  POINT (195147.000 442413.000)\n",
              "2    201810        R  ...  129.685107  POINT (204551.000 444227.000)\n",
              "\n",
              "[3 rows x 13 columns]"
            ]
          },
          "metadata": {
            "tags": []
          },
          "execution_count": 68
        }
      ]
    },
    {
      "cell_type": "code",
      "metadata": {
        "id": "NzFJyvtd9k8c"
      },
      "source": [
        "epsg5181 = from_string(\"+proj=tmerc +lat_0=38 +lon_0=127 +k=1 +x_0=200000 +y_0=500000 +ellps=GRS80 +units=m +no_defs\")"
      ],
      "execution_count": 69,
      "outputs": []
    },
    {
      "cell_type": "code",
      "metadata": {
        "colab": {
          "base_uri": "https://localhost:8080/"
        },
        "id": "dQgXkXHQ_FdZ",
        "outputId": "f7ec7d43-e408-486d-a410-af03922bf396"
      },
      "source": [
        "print(df_comm.crs)"
      ],
      "execution_count": 70,
      "outputs": [
        {
          "output_type": "stream",
          "text": [
            "None\n"
          ],
          "name": "stdout"
        }
      ]
    },
    {
      "cell_type": "code",
      "metadata": {
        "colab": {
          "base_uri": "https://localhost:8080/"
        },
        "id": "PDFopPnf_Lua",
        "outputId": "63dfd6e2-0f6e-4f59-fb24-636643042a76"
      },
      "source": [
        "df_comm.crs = epsg5181\n",
        "print(df_comm.crs)"
      ],
      "execution_count": 71,
      "outputs": [
        {
          "output_type": "stream",
          "text": [
            "+proj=tmerc +lat_0=38 +lon_0=127 +k=1 +x_0=200000 +y_0=500000 +ellps=GRS80 +units=m +no_defs +type=crs\n"
          ],
          "name": "stdout"
        }
      ]
    },
    {
      "cell_type": "code",
      "metadata": {
        "id": "ebpjEPGf_t3V"
      },
      "source": [
        "epsg4326 = from_string(\"proj=longlat +ellps=WGS84 +datum=WGS84 +no_defs\")"
      ],
      "execution_count": 72,
      "outputs": []
    },
    {
      "cell_type": "code",
      "metadata": {
        "id": "gnpo5YRX9efV"
      },
      "source": [
        "df_comm = df_comm.to_crs(epsg4326)"
      ],
      "execution_count": 73,
      "outputs": []
    },
    {
      "cell_type": "code",
      "metadata": {
        "colab": {
          "base_uri": "https://localhost:8080/",
          "height": 204
        },
        "id": "vzGnyhHt_7aB",
        "outputId": "17970e48-375b-4047-fc49-1a7dcf861155"
      },
      "source": [
        "df_comm.head()"
      ],
      "execution_count": 74,
      "outputs": [
        {
          "output_type": "execute_result",
          "data": {
            "text/html": [
              "<div>\n",
              "<style scoped>\n",
              "    .dataframe tbody tr th:only-of-type {\n",
              "        vertical-align: middle;\n",
              "    }\n",
              "\n",
              "    .dataframe tbody tr th {\n",
              "        vertical-align: top;\n",
              "    }\n",
              "\n",
              "    .dataframe thead th {\n",
              "        text-align: right;\n",
              "    }\n",
              "</style>\n",
              "<table border=\"1\" class=\"dataframe\">\n",
              "  <thead>\n",
              "    <tr style=\"text-align: right;\">\n",
              "      <th></th>\n",
              "      <th>기준_년월_코드</th>\n",
              "      <th>상권_구분_코드</th>\n",
              "      <th>상권_구분_코드_명</th>\n",
              "      <th>상권_코드</th>\n",
              "      <th>상권_코드_명</th>\n",
              "      <th>엑스좌표_값</th>\n",
              "      <th>와이좌표_값</th>\n",
              "      <th>시군구_코드</th>\n",
              "      <th>행정동_코드</th>\n",
              "      <th>형태정보</th>\n",
              "      <th>엑스좌표_값_2</th>\n",
              "      <th>와이좌표_값_2</th>\n",
              "      <th>geometry</th>\n",
              "    </tr>\n",
              "  </thead>\n",
              "  <tbody>\n",
              "    <tr>\n",
              "      <th>0</th>\n",
              "      <td>201810</td>\n",
              "      <td>R</td>\n",
              "      <td>전통시장</td>\n",
              "      <td>1001453</td>\n",
              "      <td>낙성대시장</td>\n",
              "      <td>196121</td>\n",
              "      <td>442084</td>\n",
              "      <td>11620</td>\n",
              "      <td>11620585</td>\n",
              "      <td>NaN</td>\n",
              "      <td>35.232408</td>\n",
              "      <td>129.659085</td>\n",
              "      <td>POINT (126.95615 37.47819)</td>\n",
              "    </tr>\n",
              "    <tr>\n",
              "      <th>1</th>\n",
              "      <td>201810</td>\n",
              "      <td>R</td>\n",
              "      <td>전통시장</td>\n",
              "      <td>1001454</td>\n",
              "      <td>봉천제일종합시장</td>\n",
              "      <td>195147</td>\n",
              "      <td>442413</td>\n",
              "      <td>11620</td>\n",
              "      <td>11620595</td>\n",
              "      <td>NaN</td>\n",
              "      <td>35.223559</td>\n",
              "      <td>129.662409</td>\n",
              "      <td>POINT (126.94513 37.48115)</td>\n",
              "    </tr>\n",
              "    <tr>\n",
              "      <th>2</th>\n",
              "      <td>201810</td>\n",
              "      <td>R</td>\n",
              "      <td>전통시장</td>\n",
              "      <td>1001474</td>\n",
              "      <td>도곡시장</td>\n",
              "      <td>204551</td>\n",
              "      <td>444227</td>\n",
              "      <td>11680</td>\n",
              "      <td>11680650</td>\n",
              "      <td>NaN</td>\n",
              "      <td>35.307789</td>\n",
              "      <td>129.685107</td>\n",
              "      <td>POINT (127.05147 37.49749)</td>\n",
              "    </tr>\n",
              "    <tr>\n",
              "      <th>3</th>\n",
              "      <td>201810</td>\n",
              "      <td>R</td>\n",
              "      <td>전통시장</td>\n",
              "      <td>1001475</td>\n",
              "      <td>강남개포시장</td>\n",
              "      <td>206065</td>\n",
              "      <td>443310</td>\n",
              "      <td>11680</td>\n",
              "      <td>11680670</td>\n",
              "      <td>NaN</td>\n",
              "      <td>35.321644</td>\n",
              "      <td>129.675484</td>\n",
              "      <td>POINT (127.06858 37.48922)</td>\n",
              "    </tr>\n",
              "    <tr>\n",
              "      <th>4</th>\n",
              "      <td>201810</td>\n",
              "      <td>R</td>\n",
              "      <td>전통시장</td>\n",
              "      <td>1001412</td>\n",
              "      <td>화곡본동시장</td>\n",
              "      <td>186203</td>\n",
              "      <td>449328</td>\n",
              "      <td>11500</td>\n",
              "      <td>11500590</td>\n",
              "      <td>NaN</td>\n",
              "      <td>35.141341</td>\n",
              "      <td>129.735578</td>\n",
              "      <td>POINT (126.84388 37.54336)</td>\n",
              "    </tr>\n",
              "  </tbody>\n",
              "</table>\n",
              "</div>"
            ],
            "text/plain": [
              "   기준_년월_코드 상권_구분_코드  ...    와이좌표_값_2                    geometry\n",
              "0    201810        R  ...  129.659085  POINT (126.95615 37.47819)\n",
              "1    201810        R  ...  129.662409  POINT (126.94513 37.48115)\n",
              "2    201810        R  ...  129.685107  POINT (127.05147 37.49749)\n",
              "3    201810        R  ...  129.675484  POINT (127.06858 37.48922)\n",
              "4    201810        R  ...  129.735578  POINT (126.84388 37.54336)\n",
              "\n",
              "[5 rows x 13 columns]"
            ]
          },
          "metadata": {
            "tags": []
          },
          "execution_count": 74
        }
      ]
    },
    {
      "cell_type": "code",
      "metadata": {
        "colab": {
          "base_uri": "https://localhost:8080/",
          "height": 808
        },
        "id": "Vo3WZKH7ABib",
        "outputId": "06461dd6-0c15-42f9-e955-a7b9070c64c8"
      },
      "source": [
        "# 새로운 지도 객체 생성\n",
        "new_map = folium.Map(location=[37.5642135, 127.0016985], zoom_start=12, tiles='Stamen Toner')\n",
        "\n",
        "df_mapping = df_comm.sample(10)\n",
        "geo_df_list = [[point.xy[1][0], point.xy[0][0]] for point in df_mapping.geometry ]\n",
        "# 마커\n",
        "i = 0\n",
        "for g in geo_df_list:\n",
        "  marker = folium.Marker(location=g,\n",
        "                         popup=df_mapping['상권_코드_명'].iloc[i])\n",
        "  marker.add_to(new_map)\n",
        "  i += 1\n",
        " \n",
        "new_map\n"
      ],
      "execution_count": 75,
      "outputs": [
        {
          "output_type": "execute_result",
          "data": {
            "text/html": [
              "<div style=\"width:100%;\"><div style=\"position:relative;width:100%;height:0;padding-bottom:60%;\"><span style=\"color:#565656\">Make this Notebook Trusted to load map: File -> Trust Notebook</span><iframe src=\"about:blank\" style=\"position:absolute;width:100%;height:100%;left:0;top:0;border:none !important;\" data-html=%3C%21DOCTYPE%20html%3E%0A%3Chead%3E%20%20%20%20%0A%20%20%20%20%3Cmeta%20http-equiv%3D%22content-type%22%20content%3D%22text/html%3B%20charset%3DUTF-8%22%20/%3E%0A%20%20%20%20%3Cscript%3EL_PREFER_CANVAS%3Dfalse%3B%20L_NO_TOUCH%3Dfalse%3B%20L_DISABLE_3D%3Dfalse%3B%3C/script%3E%0A%20%20%20%20%3Cscript%20src%3D%22https%3A//cdn.jsdelivr.net/npm/leaflet%401.4.0/dist/leaflet.js%22%3E%3C/script%3E%0A%20%20%20%20%3Cscript%20src%3D%22https%3A//code.jquery.com/jquery-1.12.4.min.js%22%3E%3C/script%3E%0A%20%20%20%20%3Cscript%20src%3D%22https%3A//maxcdn.bootstrapcdn.com/bootstrap/3.2.0/js/bootstrap.min.js%22%3E%3C/script%3E%0A%20%20%20%20%3Cscript%20src%3D%22https%3A//cdnjs.cloudflare.com/ajax/libs/Leaflet.awesome-markers/2.0.2/leaflet.awesome-markers.js%22%3E%3C/script%3E%0A%20%20%20%20%3Clink%20rel%3D%22stylesheet%22%20href%3D%22https%3A//cdn.jsdelivr.net/npm/leaflet%401.4.0/dist/leaflet.css%22/%3E%0A%20%20%20%20%3Clink%20rel%3D%22stylesheet%22%20href%3D%22https%3A//maxcdn.bootstrapcdn.com/bootstrap/3.2.0/css/bootstrap.min.css%22/%3E%0A%20%20%20%20%3Clink%20rel%3D%22stylesheet%22%20href%3D%22https%3A//maxcdn.bootstrapcdn.com/bootstrap/3.2.0/css/bootstrap-theme.min.css%22/%3E%0A%20%20%20%20%3Clink%20rel%3D%22stylesheet%22%20href%3D%22https%3A//maxcdn.bootstrapcdn.com/font-awesome/4.6.3/css/font-awesome.min.css%22/%3E%0A%20%20%20%20%3Clink%20rel%3D%22stylesheet%22%20href%3D%22https%3A//cdnjs.cloudflare.com/ajax/libs/Leaflet.awesome-markers/2.0.2/leaflet.awesome-markers.css%22/%3E%0A%20%20%20%20%3Clink%20rel%3D%22stylesheet%22%20href%3D%22https%3A//rawcdn.githack.com/python-visualization/folium/master/folium/templates/leaflet.awesome.rotate.css%22/%3E%0A%20%20%20%20%3Cstyle%3Ehtml%2C%20body%20%7Bwidth%3A%20100%25%3Bheight%3A%20100%25%3Bmargin%3A%200%3Bpadding%3A%200%3B%7D%3C/style%3E%0A%20%20%20%20%3Cstyle%3E%23map%20%7Bposition%3Aabsolute%3Btop%3A0%3Bbottom%3A0%3Bright%3A0%3Bleft%3A0%3B%7D%3C/style%3E%0A%20%20%20%20%0A%20%20%20%20%3Cmeta%20name%3D%22viewport%22%20content%3D%22width%3Ddevice-width%2C%0A%20%20%20%20%20%20%20%20initial-scale%3D1.0%2C%20maximum-scale%3D1.0%2C%20user-scalable%3Dno%22%20/%3E%0A%20%20%20%20%3Cstyle%3E%23map_45329d1357794a738af7d043016f5c3f%20%7B%0A%20%20%20%20%20%20%20%20position%3A%20relative%3B%0A%20%20%20%20%20%20%20%20width%3A%20100.0%25%3B%0A%20%20%20%20%20%20%20%20height%3A%20100.0%25%3B%0A%20%20%20%20%20%20%20%20left%3A%200.0%25%3B%0A%20%20%20%20%20%20%20%20top%3A%200.0%25%3B%0A%20%20%20%20%20%20%20%20%7D%0A%20%20%20%20%3C/style%3E%0A%3C/head%3E%0A%3Cbody%3E%20%20%20%20%0A%20%20%20%20%0A%20%20%20%20%3Cdiv%20class%3D%22folium-map%22%20id%3D%22map_45329d1357794a738af7d043016f5c3f%22%20%3E%3C/div%3E%0A%3C/body%3E%0A%3Cscript%3E%20%20%20%20%0A%20%20%20%20%0A%20%20%20%20%0A%20%20%20%20%20%20%20%20var%20bounds%20%3D%20null%3B%0A%20%20%20%20%0A%0A%20%20%20%20var%20map_45329d1357794a738af7d043016f5c3f%20%3D%20L.map%28%0A%20%20%20%20%20%20%20%20%27map_45329d1357794a738af7d043016f5c3f%27%2C%20%7B%0A%20%20%20%20%20%20%20%20center%3A%20%5B37.5642135%2C%20127.0016985%5D%2C%0A%20%20%20%20%20%20%20%20zoom%3A%2012%2C%0A%20%20%20%20%20%20%20%20maxBounds%3A%20bounds%2C%0A%20%20%20%20%20%20%20%20layers%3A%20%5B%5D%2C%0A%20%20%20%20%20%20%20%20worldCopyJump%3A%20false%2C%0A%20%20%20%20%20%20%20%20crs%3A%20L.CRS.EPSG3857%2C%0A%20%20%20%20%20%20%20%20zoomControl%3A%20true%2C%0A%20%20%20%20%20%20%20%20%7D%29%3B%0A%0A%0A%20%20%20%20%0A%20%20%20%20var%20tile_layer_00712d6cf61a4109be3ac1f61d850d1b%20%3D%20L.tileLayer%28%0A%20%20%20%20%20%20%20%20%27https%3A//stamen-tiles-%7Bs%7D.a.ssl.fastly.net/toner/%7Bz%7D/%7Bx%7D/%7By%7D.png%27%2C%0A%20%20%20%20%20%20%20%20%7B%0A%20%20%20%20%20%20%20%20%22attribution%22%3A%20null%2C%0A%20%20%20%20%20%20%20%20%22detectRetina%22%3A%20false%2C%0A%20%20%20%20%20%20%20%20%22maxNativeZoom%22%3A%2018%2C%0A%20%20%20%20%20%20%20%20%22maxZoom%22%3A%2018%2C%0A%20%20%20%20%20%20%20%20%22minZoom%22%3A%200%2C%0A%20%20%20%20%20%20%20%20%22noWrap%22%3A%20false%2C%0A%20%20%20%20%20%20%20%20%22opacity%22%3A%201%2C%0A%20%20%20%20%20%20%20%20%22subdomains%22%3A%20%22abc%22%2C%0A%20%20%20%20%20%20%20%20%22tms%22%3A%20false%0A%7D%29.addTo%28map_45329d1357794a738af7d043016f5c3f%29%3B%0A%20%20%20%20%0A%20%20%20%20%20%20%20%20var%20marker_22cf29a894de4b78b6f74b1b4dac97d1%20%3D%20L.marker%28%0A%20%20%20%20%20%20%20%20%20%20%20%20%5B37.52339322687341%2C%20126.87343586390291%5D%2C%0A%20%20%20%20%20%20%20%20%20%20%20%20%7B%0A%20%20%20%20%20%20%20%20%20%20%20%20%20%20%20%20icon%3A%20new%20L.Icon.Default%28%29%2C%0A%20%20%20%20%20%20%20%20%20%20%20%20%20%20%20%20%7D%0A%20%20%20%20%20%20%20%20%20%20%20%20%29.addTo%28map_45329d1357794a738af7d043016f5c3f%29%3B%0A%20%20%20%20%20%20%20%20%0A%20%20%20%20%0A%20%20%20%20%20%20%20%20%20%20%20%20var%20popup_b747ba367eeb4a778aa80e85cc35b52d%20%3D%20L.popup%28%7BmaxWidth%3A%20%27100%25%27%0A%20%20%20%20%20%20%20%20%20%20%20%20%0A%20%20%20%20%20%20%20%20%20%20%20%20%7D%29%3B%0A%0A%20%20%20%20%20%20%20%20%20%20%20%20%0A%20%20%20%20%20%20%20%20%20%20%20%20%20%20%20%20var%20html_95bd020f16644619bd308fe8dd3c1f98%20%3D%20%24%28%60%3Cdiv%20id%3D%22html_95bd020f16644619bd308fe8dd3c1f98%22%20style%3D%22width%3A%20100.0%25%3B%20height%3A%20100.0%25%3B%22%3E%EB%AA%A9%EB%8F%99%EB%8F%99%EB%A1%9C12%EA%B8%B8%3C/div%3E%60%29%5B0%5D%3B%0A%20%20%20%20%20%20%20%20%20%20%20%20%20%20%20%20popup_b747ba367eeb4a778aa80e85cc35b52d.setContent%28html_95bd020f16644619bd308fe8dd3c1f98%29%3B%0A%20%20%20%20%20%20%20%20%20%20%20%20%0A%0A%20%20%20%20%20%20%20%20%20%20%20%20marker_22cf29a894de4b78b6f74b1b4dac97d1.bindPopup%28popup_b747ba367eeb4a778aa80e85cc35b52d%29%0A%20%20%20%20%20%20%20%20%20%20%20%20%3B%0A%0A%20%20%20%20%20%20%20%20%20%20%20%20%0A%20%20%20%20%20%20%20%20%0A%20%20%20%20%0A%20%20%20%20%20%20%20%20var%20marker_a78729374fa64e619c88295f348e3d0b%20%3D%20L.marker%28%0A%20%20%20%20%20%20%20%20%20%20%20%20%5B37.59805022046616%2C%20127.03203498879296%5D%2C%0A%20%20%20%20%20%20%20%20%20%20%20%20%7B%0A%20%20%20%20%20%20%20%20%20%20%20%20%20%20%20%20icon%3A%20new%20L.Icon.Default%28%29%2C%0A%20%20%20%20%20%20%20%20%20%20%20%20%20%20%20%20%7D%0A%20%20%20%20%20%20%20%20%20%20%20%20%29.addTo%28map_45329d1357794a738af7d043016f5c3f%29%3B%0A%20%20%20%20%20%20%20%20%0A%20%20%20%20%0A%20%20%20%20%20%20%20%20%20%20%20%20var%20popup_db68c6649ba24c69838d5bbcb1f4735e%20%3D%20L.popup%28%7BmaxWidth%3A%20%27100%25%27%0A%20%20%20%20%20%20%20%20%20%20%20%20%0A%20%20%20%20%20%20%20%20%20%20%20%20%7D%29%3B%0A%0A%20%20%20%20%20%20%20%20%20%20%20%20%0A%20%20%20%20%20%20%20%20%20%20%20%20%20%20%20%20var%20html_e70e6ea479304ffa8eef0fd964a770e5%20%3D%20%24%28%60%3Cdiv%20id%3D%22html_e70e6ea479304ffa8eef0fd964a770e5%22%20style%3D%22width%3A%20100.0%25%3B%20height%3A%20100.0%25%3B%22%3E%EC%A2%85%EC%95%94%EB%A1%9C19%EA%B8%B8%3C/div%3E%60%29%5B0%5D%3B%0A%20%20%20%20%20%20%20%20%20%20%20%20%20%20%20%20popup_db68c6649ba24c69838d5bbcb1f4735e.setContent%28html_e70e6ea479304ffa8eef0fd964a770e5%29%3B%0A%20%20%20%20%20%20%20%20%20%20%20%20%0A%0A%20%20%20%20%20%20%20%20%20%20%20%20marker_a78729374fa64e619c88295f348e3d0b.bindPopup%28popup_db68c6649ba24c69838d5bbcb1f4735e%29%0A%20%20%20%20%20%20%20%20%20%20%20%20%3B%0A%0A%20%20%20%20%20%20%20%20%20%20%20%20%0A%20%20%20%20%20%20%20%20%0A%20%20%20%20%0A%20%20%20%20%20%20%20%20var%20marker_71bd7a0a908c4f5793c43126bfe4dc1d%20%3D%20L.marker%28%0A%20%20%20%20%20%20%20%20%20%20%20%20%5B37.49450165309971%2C%20126.98391983489549%5D%2C%0A%20%20%20%20%20%20%20%20%20%20%20%20%7B%0A%20%20%20%20%20%20%20%20%20%20%20%20%20%20%20%20icon%3A%20new%20L.Icon.Default%28%29%2C%0A%20%20%20%20%20%20%20%20%20%20%20%20%20%20%20%20%7D%0A%20%20%20%20%20%20%20%20%20%20%20%20%29.addTo%28map_45329d1357794a738af7d043016f5c3f%29%3B%0A%20%20%20%20%20%20%20%20%0A%20%20%20%20%0A%20%20%20%20%20%20%20%20%20%20%20%20var%20popup_a64c62de374d4ac6b3a67aa8d1495e46%20%3D%20L.popup%28%7BmaxWidth%3A%20%27100%25%27%0A%20%20%20%20%20%20%20%20%20%20%20%20%0A%20%20%20%20%20%20%20%20%20%20%20%20%7D%29%3B%0A%0A%20%20%20%20%20%20%20%20%20%20%20%20%0A%20%20%20%20%20%20%20%20%20%20%20%20%20%20%20%20var%20html_2ee45e2499404ae9897ace4b1f508ef9%20%3D%20%24%28%60%3Cdiv%20id%3D%22html_2ee45e2499404ae9897ace4b1f508ef9%22%20style%3D%22width%3A%20100.0%25%3B%20height%3A%20100.0%25%3B%22%3E%EB%8F%99%EA%B4%91%EB%A1%9C1%EA%B8%B8%3C/div%3E%60%29%5B0%5D%3B%0A%20%20%20%20%20%20%20%20%20%20%20%20%20%20%20%20popup_a64c62de374d4ac6b3a67aa8d1495e46.setContent%28html_2ee45e2499404ae9897ace4b1f508ef9%29%3B%0A%20%20%20%20%20%20%20%20%20%20%20%20%0A%0A%20%20%20%20%20%20%20%20%20%20%20%20marker_71bd7a0a908c4f5793c43126bfe4dc1d.bindPopup%28popup_a64c62de374d4ac6b3a67aa8d1495e46%29%0A%20%20%20%20%20%20%20%20%20%20%20%20%3B%0A%0A%20%20%20%20%20%20%20%20%20%20%20%20%0A%20%20%20%20%20%20%20%20%0A%20%20%20%20%0A%20%20%20%20%20%20%20%20var%20marker_044206f47e134a29b53fffaa7e0e2947%20%3D%20L.marker%28%0A%20%20%20%20%20%20%20%20%20%20%20%20%5B37.597278585674914%2C%20126.91846959334855%5D%2C%0A%20%20%20%20%20%20%20%20%20%20%20%20%7B%0A%20%20%20%20%20%20%20%20%20%20%20%20%20%20%20%20icon%3A%20new%20L.Icon.Default%28%29%2C%0A%20%20%20%20%20%20%20%20%20%20%20%20%20%20%20%20%7D%0A%20%20%20%20%20%20%20%20%20%20%20%20%29.addTo%28map_45329d1357794a738af7d043016f5c3f%29%3B%0A%20%20%20%20%20%20%20%20%0A%20%20%20%20%0A%20%20%20%20%20%20%20%20%20%20%20%20var%20popup_4c7da03b339f47d2bc9f284ed14f4bf5%20%3D%20L.popup%28%7BmaxWidth%3A%20%27100%25%27%0A%20%20%20%20%20%20%20%20%20%20%20%20%0A%20%20%20%20%20%20%20%20%20%20%20%20%7D%29%3B%0A%0A%20%20%20%20%20%20%20%20%20%20%20%20%0A%20%20%20%20%20%20%20%20%20%20%20%20%20%20%20%20var%20html_c80dc8b4e01541a69dde4d6b77b9ea29%20%3D%20%24%28%60%3Cdiv%20id%3D%22html_c80dc8b4e01541a69dde4d6b77b9ea29%22%20style%3D%22width%3A%20100.0%25%3B%20height%3A%20100.0%25%3B%22%3E%EC%9D%80%ED%8F%89%EB%A1%9C8%EA%B8%B8%3C/div%3E%60%29%5B0%5D%3B%0A%20%20%20%20%20%20%20%20%20%20%20%20%20%20%20%20popup_4c7da03b339f47d2bc9f284ed14f4bf5.setContent%28html_c80dc8b4e01541a69dde4d6b77b9ea29%29%3B%0A%20%20%20%20%20%20%20%20%20%20%20%20%0A%0A%20%20%20%20%20%20%20%20%20%20%20%20marker_044206f47e134a29b53fffaa7e0e2947.bindPopup%28popup_4c7da03b339f47d2bc9f284ed14f4bf5%29%0A%20%20%20%20%20%20%20%20%20%20%20%20%3B%0A%0A%20%20%20%20%20%20%20%20%20%20%20%20%0A%20%20%20%20%20%20%20%20%0A%20%20%20%20%0A%20%20%20%20%20%20%20%20var%20marker_9c08386866ac4f279afe7a20bb969d1c%20%3D%20L.marker%28%0A%20%20%20%20%20%20%20%20%20%20%20%20%5B37.57735995363058%2C%20127.042973192155%5D%2C%0A%20%20%20%20%20%20%20%20%20%20%20%20%7B%0A%20%20%20%20%20%20%20%20%20%20%20%20%20%20%20%20icon%3A%20new%20L.Icon.Default%28%29%2C%0A%20%20%20%20%20%20%20%20%20%20%20%20%20%20%20%20%7D%0A%20%20%20%20%20%20%20%20%20%20%20%20%29.addTo%28map_45329d1357794a738af7d043016f5c3f%29%3B%0A%20%20%20%20%20%20%20%20%0A%20%20%20%20%0A%20%20%20%20%20%20%20%20%20%20%20%20var%20popup_176544e72c5141d899ccd14c83e13572%20%3D%20L.popup%28%7BmaxWidth%3A%20%27100%25%27%0A%20%20%20%20%20%20%20%20%20%20%20%20%0A%20%20%20%20%20%20%20%20%20%20%20%20%7D%29%3B%0A%0A%20%20%20%20%20%20%20%20%20%20%20%20%0A%20%20%20%20%20%20%20%20%20%20%20%20%20%20%20%20var%20html_6065936cbf034cc1a32ae087af08af25%20%3D%20%24%28%60%3Cdiv%20id%3D%22html_6065936cbf034cc1a32ae087af08af25%22%20style%3D%22width%3A%20100.0%25%3B%20height%3A%20100.0%25%3B%22%3E%EB%8F%99%EB%B6%80%EC%B2%AD%EA%B3%BC%EC%8B%9C%EC%9E%A5%3C/div%3E%60%29%5B0%5D%3B%0A%20%20%20%20%20%20%20%20%20%20%20%20%20%20%20%20popup_176544e72c5141d899ccd14c83e13572.setContent%28html_6065936cbf034cc1a32ae087af08af25%29%3B%0A%20%20%20%20%20%20%20%20%20%20%20%20%0A%0A%20%20%20%20%20%20%20%20%20%20%20%20marker_9c08386866ac4f279afe7a20bb969d1c.bindPopup%28popup_176544e72c5141d899ccd14c83e13572%29%0A%20%20%20%20%20%20%20%20%20%20%20%20%3B%0A%0A%20%20%20%20%20%20%20%20%20%20%20%20%0A%20%20%20%20%20%20%20%20%0A%20%20%20%20%0A%20%20%20%20%20%20%20%20var%20marker_24492c8134ae448d95d30fe81a4bccfe%20%3D%20L.marker%28%0A%20%20%20%20%20%20%20%20%20%20%20%20%5B37.51002930396633%2C%20126.88010898702952%5D%2C%0A%20%20%20%20%20%20%20%20%20%20%20%20%7B%0A%20%20%20%20%20%20%20%20%20%20%20%20%20%20%20%20icon%3A%20new%20L.Icon.Default%28%29%2C%0A%20%20%20%20%20%20%20%20%20%20%20%20%20%20%20%20%7D%0A%20%20%20%20%20%20%20%20%20%20%20%20%29.addTo%28map_45329d1357794a738af7d043016f5c3f%29%3B%0A%20%20%20%20%20%20%20%20%0A%20%20%20%20%0A%20%20%20%20%20%20%20%20%20%20%20%20var%20popup_84fd8e88ddc24ba0bef5d64765b09466%20%3D%20L.popup%28%7BmaxWidth%3A%20%27100%25%27%0A%20%20%20%20%20%20%20%20%20%20%20%20%0A%20%20%20%20%20%20%20%20%20%20%20%20%7D%29%3B%0A%0A%20%20%20%20%20%20%20%20%20%20%20%20%0A%20%20%20%20%20%20%20%20%20%20%20%20%20%20%20%20var%20html_5abcea43cdbc46519c7e91a04ece1522%20%3D%20%24%28%60%3Cdiv%20id%3D%22html_5abcea43cdbc46519c7e91a04ece1522%22%20style%3D%22width%3A%20100.0%25%3B%20height%3A%20100.0%25%3B%22%3E%EC%8B%A0%EB%8F%84%EB%A6%BC%EB%A1%9C13%EA%B8%B8%3C/div%3E%60%29%5B0%5D%3B%0A%20%20%20%20%20%20%20%20%20%20%20%20%20%20%20%20popup_84fd8e88ddc24ba0bef5d64765b09466.setContent%28html_5abcea43cdbc46519c7e91a04ece1522%29%3B%0A%20%20%20%20%20%20%20%20%20%20%20%20%0A%0A%20%20%20%20%20%20%20%20%20%20%20%20marker_24492c8134ae448d95d30fe81a4bccfe.bindPopup%28popup_84fd8e88ddc24ba0bef5d64765b09466%29%0A%20%20%20%20%20%20%20%20%20%20%20%20%3B%0A%0A%20%20%20%20%20%20%20%20%20%20%20%20%0A%20%20%20%20%20%20%20%20%0A%20%20%20%20%0A%20%20%20%20%20%20%20%20var%20marker_59bfe4434ddc49799fccd46014dd3865%20%3D%20L.marker%28%0A%20%20%20%20%20%20%20%20%20%20%20%20%5B37.55425776075019%2C%20126.93574119173559%5D%2C%0A%20%20%20%20%20%20%20%20%20%20%20%20%7B%0A%20%20%20%20%20%20%20%20%20%20%20%20%20%20%20%20icon%3A%20new%20L.Icon.Default%28%29%2C%0A%20%20%20%20%20%20%20%20%20%20%20%20%20%20%20%20%7D%0A%20%20%20%20%20%20%20%20%20%20%20%20%29.addTo%28map_45329d1357794a738af7d043016f5c3f%29%3B%0A%20%20%20%20%20%20%20%20%0A%20%20%20%20%0A%20%20%20%20%20%20%20%20%20%20%20%20var%20popup_06cb394664864196b594656f04ec6b68%20%3D%20L.popup%28%7BmaxWidth%3A%20%27100%25%27%0A%20%20%20%20%20%20%20%20%20%20%20%20%0A%20%20%20%20%20%20%20%20%20%20%20%20%7D%29%3B%0A%0A%20%20%20%20%20%20%20%20%20%20%20%20%0A%20%20%20%20%20%20%20%20%20%20%20%20%20%20%20%20var%20html_2c5916b3e0c54ca2810ad757aa254b64%20%3D%20%24%28%60%3Cdiv%20id%3D%22html_2c5916b3e0c54ca2810ad757aa254b64%22%20style%3D%22width%3A%20100.0%25%3B%20height%3A%20100.0%25%3B%22%3E%EC%8B%A0%EC%B4%8C%EC%97%AD%3C/div%3E%60%29%5B0%5D%3B%0A%20%20%20%20%20%20%20%20%20%20%20%20%20%20%20%20popup_06cb394664864196b594656f04ec6b68.setContent%28html_2c5916b3e0c54ca2810ad757aa254b64%29%3B%0A%20%20%20%20%20%20%20%20%20%20%20%20%0A%0A%20%20%20%20%20%20%20%20%20%20%20%20marker_59bfe4434ddc49799fccd46014dd3865.bindPopup%28popup_06cb394664864196b594656f04ec6b68%29%0A%20%20%20%20%20%20%20%20%20%20%20%20%3B%0A%0A%20%20%20%20%20%20%20%20%20%20%20%20%0A%20%20%20%20%20%20%20%20%0A%20%20%20%20%0A%20%20%20%20%20%20%20%20var%20marker_ff9408702ac748e585d1a41d5c332b2d%20%3D%20L.marker%28%0A%20%20%20%20%20%20%20%20%20%20%20%20%5B37.452943165976684%2C%20126.90151548643851%5D%2C%0A%20%20%20%20%20%20%20%20%20%20%20%20%7B%0A%20%20%20%20%20%20%20%20%20%20%20%20%20%20%20%20icon%3A%20new%20L.Icon.Default%28%29%2C%0A%20%20%20%20%20%20%20%20%20%20%20%20%20%20%20%20%7D%0A%20%20%20%20%20%20%20%20%20%20%20%20%29.addTo%28map_45329d1357794a738af7d043016f5c3f%29%3B%0A%20%20%20%20%20%20%20%20%0A%20%20%20%20%0A%20%20%20%20%20%20%20%20%20%20%20%20var%20popup_98f9608d7ec547faa3459a0bc1c29af8%20%3D%20L.popup%28%7BmaxWidth%3A%20%27100%25%27%0A%20%20%20%20%20%20%20%20%20%20%20%20%0A%20%20%20%20%20%20%20%20%20%20%20%20%7D%29%3B%0A%0A%20%20%20%20%20%20%20%20%20%20%20%20%0A%20%20%20%20%20%20%20%20%20%20%20%20%20%20%20%20var%20html_c9e9445c325549a3a62de7f0e5225fc5%20%3D%20%24%28%60%3Cdiv%20id%3D%22html_c9e9445c325549a3a62de7f0e5225fc5%22%20style%3D%22width%3A%20100.0%25%3B%20height%3A%20100.0%25%3B%22%3E%EC%84%9C%EC%9A%B8%20%EA%B8%88%EC%B2%9C%EA%B5%AC%20%EC%8B%9C%ED%9D%A51%EB%8F%99_4%3C/div%3E%60%29%5B0%5D%3B%0A%20%20%20%20%20%20%20%20%20%20%20%20%20%20%20%20popup_98f9608d7ec547faa3459a0bc1c29af8.setContent%28html_c9e9445c325549a3a62de7f0e5225fc5%29%3B%0A%20%20%20%20%20%20%20%20%20%20%20%20%0A%0A%20%20%20%20%20%20%20%20%20%20%20%20marker_ff9408702ac748e585d1a41d5c332b2d.bindPopup%28popup_98f9608d7ec547faa3459a0bc1c29af8%29%0A%20%20%20%20%20%20%20%20%20%20%20%20%3B%0A%0A%20%20%20%20%20%20%20%20%20%20%20%20%0A%20%20%20%20%20%20%20%20%0A%20%20%20%20%0A%20%20%20%20%20%20%20%20var%20marker_70f095287114445382f82acc1a7ee28a%20%3D%20L.marker%28%0A%20%20%20%20%20%20%20%20%20%20%20%20%5B37.64044427527613%2C%20127.02045104169558%5D%2C%0A%20%20%20%20%20%20%20%20%20%20%20%20%7B%0A%20%20%20%20%20%20%20%20%20%20%20%20%20%20%20%20icon%3A%20new%20L.Icon.Default%28%29%2C%0A%20%20%20%20%20%20%20%20%20%20%20%20%20%20%20%20%7D%0A%20%20%20%20%20%20%20%20%20%20%20%20%29.addTo%28map_45329d1357794a738af7d043016f5c3f%29%3B%0A%20%20%20%20%20%20%20%20%0A%20%20%20%20%0A%20%20%20%20%20%20%20%20%20%20%20%20var%20popup_35ff3de52d8941e48259f26efec3a13f%20%3D%20L.popup%28%7BmaxWidth%3A%20%27100%25%27%0A%20%20%20%20%20%20%20%20%20%20%20%20%0A%20%20%20%20%20%20%20%20%20%20%20%20%7D%29%3B%0A%0A%20%20%20%20%20%20%20%20%20%20%20%20%0A%20%20%20%20%20%20%20%20%20%20%20%20%20%20%20%20var%20html_be6104b737ec47cabee421ecf0389be4%20%3D%20%24%28%60%3Cdiv%20id%3D%22html_be6104b737ec47cabee421ecf0389be4%22%20style%3D%22width%3A%20100.0%25%3B%20height%3A%20100.0%25%3B%22%3E%EB%85%B8%ED%95%B4%EB%A1%9C17%EA%B8%B8%3C/div%3E%60%29%5B0%5D%3B%0A%20%20%20%20%20%20%20%20%20%20%20%20%20%20%20%20popup_35ff3de52d8941e48259f26efec3a13f.setContent%28html_be6104b737ec47cabee421ecf0389be4%29%3B%0A%20%20%20%20%20%20%20%20%20%20%20%20%0A%0A%20%20%20%20%20%20%20%20%20%20%20%20marker_70f095287114445382f82acc1a7ee28a.bindPopup%28popup_35ff3de52d8941e48259f26efec3a13f%29%0A%20%20%20%20%20%20%20%20%20%20%20%20%3B%0A%0A%20%20%20%20%20%20%20%20%20%20%20%20%0A%20%20%20%20%20%20%20%20%0A%20%20%20%20%0A%20%20%20%20%20%20%20%20var%20marker_1d9f7cc4f4a041539edc4bf42c3e5b57%20%3D%20L.marker%28%0A%20%20%20%20%20%20%20%20%20%20%20%20%5B37.52870487172285%2C%20127.00046384506732%5D%2C%0A%20%20%20%20%20%20%20%20%20%20%20%20%7B%0A%20%20%20%20%20%20%20%20%20%20%20%20%20%20%20%20icon%3A%20new%20L.Icon.Default%28%29%2C%0A%20%20%20%20%20%20%20%20%20%20%20%20%20%20%20%20%7D%0A%20%20%20%20%20%20%20%20%20%20%20%20%29.addTo%28map_45329d1357794a738af7d043016f5c3f%29%3B%0A%20%20%20%20%20%20%20%20%0A%20%20%20%20%0A%20%20%20%20%20%20%20%20%20%20%20%20var%20popup_a262fa7ef08c47a68d5d8a2f4bff3015%20%3D%20L.popup%28%7BmaxWidth%3A%20%27100%25%27%0A%20%20%20%20%20%20%20%20%20%20%20%20%0A%20%20%20%20%20%20%20%20%20%20%20%20%7D%29%3B%0A%0A%20%20%20%20%20%20%20%20%20%20%20%20%0A%20%20%20%20%20%20%20%20%20%20%20%20%20%20%20%20var%20html_bd67721051d64bf7be2224daf1568feb%20%3D%20%24%28%60%3Cdiv%20id%3D%22html_bd67721051d64bf7be2224daf1568feb%22%20style%3D%22width%3A%20100.0%25%3B%20height%3A%20100.0%25%3B%22%3E%EC%9E%A5%EB%AC%B8%EB%A1%9C45%EA%B8%B8%3C/div%3E%60%29%5B0%5D%3B%0A%20%20%20%20%20%20%20%20%20%20%20%20%20%20%20%20popup_a262fa7ef08c47a68d5d8a2f4bff3015.setContent%28html_bd67721051d64bf7be2224daf1568feb%29%3B%0A%20%20%20%20%20%20%20%20%20%20%20%20%0A%0A%20%20%20%20%20%20%20%20%20%20%20%20marker_1d9f7cc4f4a041539edc4bf42c3e5b57.bindPopup%28popup_a262fa7ef08c47a68d5d8a2f4bff3015%29%0A%20%20%20%20%20%20%20%20%20%20%20%20%3B%0A%0A%20%20%20%20%20%20%20%20%20%20%20%20%0A%20%20%20%20%20%20%20%20%0A%3C/script%3E onload=\"this.contentDocument.open();this.contentDocument.write(    decodeURIComponent(this.getAttribute('data-html')));this.contentDocument.close();\" allowfullscreen webkitallowfullscreen mozallowfullscreen></iframe></div></div>"
            ],
            "text/plain": [
              "<folium.folium.Map at 0x7fa37afc3c50>"
            ]
          },
          "metadata": {
            "tags": []
          },
          "execution_count": 75
        }
      ]
    },
    {
      "cell_type": "code",
      "metadata": {
        "colab": {
          "base_uri": "https://localhost:8080/",
          "height": 808
        },
        "id": "F1fTU9ABFjvi",
        "outputId": "f3f9dd04-b220-4e14-c228-6055867c39ce"
      },
      "source": [
        "from folium import plugins\n",
        "new_map = folium.Map(location=[37.5642135, 127.0016985], zoom_start=12, tiles='Cartodb dark_matter')\n",
        "\n",
        "heat_data = [[point.xy[1][0], point.xy[0][0]] for point in df_comm['geometry']]\n",
        "plugins.HeatMap(heat_data).add_to(new_map)\n",
        " \n",
        "new_map\n"
      ],
      "execution_count": 77,
      "outputs": [
        {
          "output_type": "execute_result",
          "data": {
            "text/html": [
              "<div style=\"width:100%;\"><div style=\"position:relative;width:100%;height:0;padding-bottom:60%;\"><span style=\"color:#565656\">Make this Notebook Trusted to load map: File -> Trust Notebook</span><iframe src=\"about:blank\" style=\"position:absolute;width:100%;height:100%;left:0;top:0;border:none !important;\" data-html=%3C%21DOCTYPE%20html%3E%0A%3Chead%3E%20%20%20%20%0A%20%20%20%20%3Cmeta%20http-equiv%3D%22content-type%22%20content%3D%22text/html%3B%20charset%3DUTF-8%22%20/%3E%0A%20%20%20%20%3Cscript%3EL_PREFER_CANVAS%3Dfalse%3B%20L_NO_TOUCH%3Dfalse%3B%20L_DISABLE_3D%3Dfalse%3B%3C/script%3E%0A%20%20%20%20%3Cscript%20src%3D%22https%3A//cdn.jsdelivr.net/npm/leaflet%401.4.0/dist/leaflet.js%22%3E%3C/script%3E%0A%20%20%20%20%3Cscript%20src%3D%22https%3A//code.jquery.com/jquery-1.12.4.min.js%22%3E%3C/script%3E%0A%20%20%20%20%3Cscript%20src%3D%22https%3A//maxcdn.bootstrapcdn.com/bootstrap/3.2.0/js/bootstrap.min.js%22%3E%3C/script%3E%0A%20%20%20%20%3Cscript%20src%3D%22https%3A//cdnjs.cloudflare.com/ajax/libs/Leaflet.awesome-markers/2.0.2/leaflet.awesome-markers.js%22%3E%3C/script%3E%0A%20%20%20%20%3Clink%20rel%3D%22stylesheet%22%20href%3D%22https%3A//cdn.jsdelivr.net/npm/leaflet%401.4.0/dist/leaflet.css%22/%3E%0A%20%20%20%20%3Clink%20rel%3D%22stylesheet%22%20href%3D%22https%3A//maxcdn.bootstrapcdn.com/bootstrap/3.2.0/css/bootstrap.min.css%22/%3E%0A%20%20%20%20%3Clink%20rel%3D%22stylesheet%22%20href%3D%22https%3A//maxcdn.bootstrapcdn.com/bootstrap/3.2.0/css/bootstrap-theme.min.css%22/%3E%0A%20%20%20%20%3Clink%20rel%3D%22stylesheet%22%20href%3D%22https%3A//maxcdn.bootstrapcdn.com/font-awesome/4.6.3/css/font-awesome.min.css%22/%3E%0A%20%20%20%20%3Clink%20rel%3D%22stylesheet%22%20href%3D%22https%3A//cdnjs.cloudflare.com/ajax/libs/Leaflet.awesome-markers/2.0.2/leaflet.awesome-markers.css%22/%3E%0A%20%20%20%20%3Clink%20rel%3D%22stylesheet%22%20href%3D%22https%3A//rawcdn.githack.com/python-visualization/folium/master/folium/templates/leaflet.awesome.rotate.css%22/%3E%0A%20%20%20%20%3Cstyle%3Ehtml%2C%20body%20%7Bwidth%3A%20100%25%3Bheight%3A%20100%25%3Bmargin%3A%200%3Bpadding%3A%200%3B%7D%3C/style%3E%0A%20%20%20%20%3Cstyle%3E%23map%20%7Bposition%3Aabsolute%3Btop%3A0%3Bbottom%3A0%3Bright%3A0%3Bleft%3A0%3B%7D%3C/style%3E%0A%20%20%20%20%0A%20%20%20%20%3Cmeta%20name%3D%22viewport%22%20content%3D%22width%3Ddevice-width%2C%0A%20%20%20%20%20%20%20%20initial-scale%3D1.0%2C%20maximum-scale%3D1.0%2C%20user-scalable%3Dno%22%20/%3E%0A%20%20%20%20%3Cstyle%3E%23map_24fa9d982d1b4e06b2cda31fb7f3bb4c%20%7B%0A%20%20%20%20%20%20%20%20position%3A%20relative%3B%0A%20%20%20%20%20%20%20%20width%3A%20100.0%25%3B%0A%20%20%20%20%20%20%20%20height%3A%20100.0%25%3B%0A%20%20%20%20%20%20%20%20left%3A%200.0%25%3B%0A%20%20%20%20%20%20%20%20top%3A%200.0%25%3B%0A%20%20%20%20%20%20%20%20%7D%0A%20%20%20%20%3C/style%3E%0A%20%20%20%20%3Cscript%20src%3D%22https%3A//leaflet.github.io/Leaflet.heat/dist/leaflet-heat.js%22%3E%3C/script%3E%0A%3C/head%3E%0A%3Cbody%3E%20%20%20%20%0A%20%20%20%20%0A%20%20%20%20%3Cdiv%20class%3D%22folium-map%22%20id%3D%22map_24fa9d982d1b4e06b2cda31fb7f3bb4c%22%20%3E%3C/div%3E%0A%3C/body%3E%0A%3Cscript%3E%20%20%20%20%0A%20%20%20%20%0A%20%20%20%20%0A%20%20%20%20%20%20%20%20var%20bounds%20%3D%20null%3B%0A%20%20%20%20%0A%0A%20%20%20%20var%20map_24fa9d982d1b4e06b2cda31fb7f3bb4c%20%3D%20L.map%28%0A%20%20%20%20%20%20%20%20%27map_24fa9d982d1b4e06b2cda31fb7f3bb4c%27%2C%20%7B%0A%20%20%20%20%20%20%20%20center%3A%20%5B37.5642135%2C%20127.0016985%5D%2C%0A%20%20%20%20%20%20%20%20zoom%3A%2012%2C%0A%20%20%20%20%20%20%20%20maxBounds%3A%20bounds%2C%0A%20%20%20%20%20%20%20%20layers%3A%20%5B%5D%2C%0A%20%20%20%20%20%20%20%20worldCopyJump%3A%20false%2C%0A%20%20%20%20%20%20%20%20crs%3A%20L.CRS.EPSG3857%2C%0A%20%20%20%20%20%20%20%20zoomControl%3A%20true%2C%0A%20%20%20%20%20%20%20%20%7D%29%3B%0A%0A%0A%20%20%20%20%0A%20%20%20%20var%20tile_layer_d4a2e36be7cc4dfabd2819ea516cfbb5%20%3D%20L.tileLayer%28%0A%20%20%20%20%20%20%20%20%27https%3A//cartodb-basemaps-%7Bs%7D.global.ssl.fastly.net/dark_all/%7Bz%7D/%7Bx%7D/%7By%7D.png%27%2C%0A%20%20%20%20%20%20%20%20%7B%0A%20%20%20%20%20%20%20%20%22attribution%22%3A%20null%2C%0A%20%20%20%20%20%20%20%20%22detectRetina%22%3A%20false%2C%0A%20%20%20%20%20%20%20%20%22maxNativeZoom%22%3A%2018%2C%0A%20%20%20%20%20%20%20%20%22maxZoom%22%3A%2018%2C%0A%20%20%20%20%20%20%20%20%22minZoom%22%3A%200%2C%0A%20%20%20%20%20%20%20%20%22noWrap%22%3A%20false%2C%0A%20%20%20%20%20%20%20%20%22opacity%22%3A%201%2C%0A%20%20%20%20%20%20%20%20%22subdomains%22%3A%20%22abc%22%2C%0A%20%20%20%20%20%20%20%20%22tms%22%3A%20false%0A%7D%29.addTo%28map_24fa9d982d1b4e06b2cda31fb7f3bb4c%29%3B%0A%20%20%20%20%0A%20%20%20%20%20%20%20%20%20%20%20%20var%20heat_map_90bfea02dda24e5cb3f9e51b3f930d2f%20%3D%20L.heatLayer%28%0A%20%20%20%20%20%20%20%20%20%20%20%20%20%20%20%20%5B%5B37.47818636029834%2C%20126.95614529124497%5D%2C%20%5B37.48114607911253%2C%20126.94513140169676%5D%2C%20%5B37.497491889528554%2C%20127.05146536353854%5D%2C%20%5B37.4892209605042%2C%20127.06857899426316%5D%2C%20%5B37.543360059919365%2C%20126.84387997962435%5D%2C%20%5B37.53260644735189%2C%20126.84718342094965%5D%2C%20%5B37.549349400157496%2C%20126.8355499326782%5D%2C%20%5B37.48444838766603%2C%20126.9561868577655%5D%2C%20%5B37.5714164710365%2C%20126.81249971700942%5D%2C%20%5B37.56245380394414%2C%20126.80827778869678%5D%2C%20%5B37.46689561401845%2C%20126.89656865609972%5D%2C%20%5B37.47366608412182%2C%20126.90110393234676%5D%2C%20%5B37.478063270003425%2C%20126.90141469620585%5D%2C%20%5B37.454142131054965%2C%20126.90225984966358%5D%2C%20%5B37.45710695313222%2C%20126.90285502359515%5D%2C%20%5B37.44018775231593%2C%20126.90511428958015%5D%2C%20%5B37.45130974656838%2C%20126.90955308248324%5D%2C%20%5B37.51878302313745%2C%20127.02068927514331%5D%2C%20%5B37.601016745086326%2C%20126.93111468202547%5D%2C%20%5B37.59424233344807%2C%20126.91859746125807%5D%2C%20%5B37.587096559134146%2C%20126.91729187738939%5D%2C%20%5B37.50905053111977%2C%20127.0848726886618%5D%2C%20%5B37.5121494974615%2C%20126.94466759306434%5D%2C%20%5B37.51178272773113%2C%20126.95062862297279%5D%2C%20%5B37.50849799489978%2C%20126.93969378175139%5D%2C%20%5B37.49692626946366%2C%20126.95338637006387%5D%2C%20%5B37.499160258075925%2C%20126.95211839196251%5D%2C%20%5B37.50429070468034%2C%20126.94048883861987%5D%2C%20%5B37.49976267532012%2C%20126.93130958566624%5D%2C%20%5B37.581681542410614%2C%20126.9052406811303%5D%2C%20%5B37.58309657123012%2C%20126.89514009560585%5D%2C%20%5B37.48619322743413%2C%20126.9168492077524%5D%2C%20%5B37.484652655765515%2C%20126.91706574140883%5D%2C%20%5B37.48267021970608%2C%20126.90482315982237%5D%2C%20%5B37.483270120843244%2C%20126.91156103487882%5D%2C%20%5B37.47079586369996%2C%20126.93235351152966%5D%2C%20%5B37.470723620775374%2C%20126.93207096293314%5D%2C%20%5B37.47426363978532%2C%20126.91652327335214%5D%2C%20%5B37.47022076770739%2C%20126.92038259407276%5D%2C%20%5B37.500356275629656%2C%20126.91574783969705%5D%2C%20%5B37.49688808313275%2C%20126.90478250163052%5D%2C%20%5B37.49085585548587%2C%20126.8993625214185%5D%2C%20%5B37.48899602857642%2C%20126.88535527454034%5D%2C%20%5B37.49011421556487%2C%20126.88632600764929%5D%2C%20%5B37.48157552865785%2C%20126.88934638801426%5D%2C%20%5B37.50227390723683%2C%20126.85047972168441%5D%2C%20%5B37.49229494899714%2C%20126.85382410663608%5D%2C%20%5B37.49655210626219%2C%20126.84320850019292%5D%2C%20%5B37.53731203581922%2C%20127.11950472491671%5D%2C%20%5B37.49816368040745%2C%20127.15081258039989%5D%2C%20%5B37.511141909920795%2C%20127.11550426550131%5D%2C%20%5B37.50010382025705%2C%20127.10675673425273%5D%2C%20%5B37.53798164771059%2C%20126.8663621605051%5D%2C%20%5B37.53298762561853%2C%20126.8358121436197%5D%2C%20%5B37.532958208182826%2C%20126.83410380550193%5D%2C%20%5B37.501613117638286%2C%20126.93739224199498%5D%2C%20%5B37.507291345048834%2C%20126.96334408978656%5D%2C%20%5B37.48823018109616%2C%20126.98083431710904%5D%2C%20%5B37.483003271393486%2C%20126.97513722688751%5D%2C%20%5B37.49477208354063%2C%20126.98489227985215%5D%2C%20%5B37.4840718777507%2C%20127.0383066275842%5D%2C%20%5B37.556706219310875%2C%20126.86016068133681%5D%2C%20%5B37.5588488207642%2C%20126.84434565394928%5D%2C%20%5B37.56999760824763%2C%20126.9973738673892%5D%2C%20%5B37.48348922176638%2C%20126.97245743180964%5D%2C%20%5B37.51647607488473%2C%20127.11527494608232%5D%2C%20%5B37.511002913176945%2C%20127.06005939988393%5D%2C%20%5B37.534435107014495%2C%20126.9943768625423%5D%2C%20%5B37.564148780123666%2C%20126.98185620077636%5D%2C%20%5B37.567312155725965%2C%20127.0110248333143%5D%2C%20%5B37.63864303017881%2C%20127.01572596156568%5D%2C%20%5B37.63674477842654%2C%20127.04130792224095%5D%2C%20%5B37.66671284257849%2C%20127.03717620496198%5D%2C%20%5B37.66736216707682%2C%20127.03515902215479%5D%2C%20%5B37.669252817345985%2C%20127.03960307518072%5D%2C%20%5B37.66902660318552%2C%20127.04239125677259%5D%2C%20%5B37.67309790478925%2C%20127.04542006560817%5D%2C%20%5B37.67747738506909%2C%20127.04350697740028%5D%2C%20%5B37.684495921126555%2C%20127.04373781480994%5D%2C%20%5B37.68912751424592%2C%20127.04217594337709%5D%2C%20%5B37.686956029127124%2C%20127.04253750691423%5D%2C%20%5B37.56426654449661%2C%20126.98661001352993%5D%2C%20%5B37.56298742572014%2C%20126.98954172783117%5D%2C%20%5B37.46265369829356%2C%20126.90982200316428%5D%2C%20%5B37.489765348462136%2C%20126.95901060703942%5D%2C%20%5B37.481853621125296%2C%20126.95656147834477%5D%2C%20%5B37.54444089656477%2C%20126.8737171287499%5D%2C%20%5B37.546773355991704%2C%20126.86456985259905%5D%2C%20%5B37.60384128986315%2C%20127.0396136713204%5D%2C%20%5B37.64044427527613%2C%20127.02045104169558%5D%2C%20%5B37.64468770301958%2C%20127.02161928375925%5D%2C%20%5B37.53661075646308%2C%20127.05733051112871%5D%2C%20%5B37.538984535413164%2C%20127.04803152510412%5D%2C%20%5B37.54190737668799%2C%20127.05986919094289%5D%2C%20%5B37.52332759499309%2C%20126.86306243564994%5D%2C%20%5B37.53880859388889%2C%20126.86462951836363%5D%2C%20%5B37.54515104884121%2C%20126.88081092016019%5D%2C%20%5B37.537416407019954%2C%20126.86849031449037%5D%2C%20%5B37.48569780952257%2C%20126.97775951288064%5D%2C%20%5B37.46637967766215%2C%20126.93023235877796%5D%2C%20%5B37.47784733154066%2C%20126.94290660614242%5D%2C%20%5B37.44816433333511%2C%20126.90841545320572%5D%2C%20%5B37.47763300963266%2C%20126.89359179590627%5D%2C%20%5B37.47961784276154%2C%20126.90739346743642%5D%2C%20%5B37.46050684398226%2C%20126.90667104209585%5D%2C%20%5B37.578275797131816%2C%20127.05094355408913%5D%2C%20%5B37.56996512379338%2C%20127.05849933977825%5D%2C%20%5B37.569205939471885%2C%20127.06306047052843%5D%2C%20%5B37.5754466587781%2C%20127.06874855342537%5D%2C%20%5B37.568508027548404%2C%20127.07039479483382%5D%2C%20%5B37.57104626101179%2C%20127.0745854703162%5D%2C%20%5B37.57522025354093%2C%20127.07070676158624%5D%2C%20%5B37.57332892517215%2C%20127.06942580898604%5D%2C%20%5B37.56939301719116%2C%20127.0812849319312%5D%2C%20%5B37.536184459427616%2C%20127.0779903195285%5D%2C%20%5B37.49708254841206%2C%20126.92452692869207%5D%2C%20%5B37.496639454893256%2C%20126.92206213192026%5D%2C%20%5B37.496182860544366%2C%20126.92661988515128%5D%2C%20%5B37.49869469391353%2C%20126.92350751754007%5D%2C%20%5B37.49390967822301%2C%20126.88866101936652%5D%2C%20%5B37.48346449312948%2C%20126.9853468157354%5D%2C%20%5B37.493410660680794%2C%20127.02101020541649%5D%2C%20%5B37.56959951382214%2C%20127.068211163444%5D%2C%20%5B37.575912577998345%2C%20127.07307338608646%5D%2C%20%5B37.56837186060303%2C%20127.07208124072096%5D%2C%20%5B37.586866824020035%2C%20127.06038070920854%5D%2C%20%5B37.588623109211575%2C%20127.06163890939814%5D%2C%20%5B37.590443325025724%2C%20127.0612327957813%5D%2C%20%5B37.58021151828%2C%20127.02832535003661%5D%2C%20%5B37.578839646824946%2C%20127.05904968417452%5D%2C%20%5B37.58006739496743%2C%20127.0710509769168%5D%2C%20%5B37.56906670616811%2C%20127.0530426888096%5D%2C%20%5B37.578707008503656%2C%20127.05379670314815%5D%2C%20%5B37.585887512753814%2C%20127.0546963036201%5D%2C%20%5B37.63809941803449%2C%20127.03098716938862%5D%2C%20%5B37.58958078442301%2C%20127.08622084620522%5D%2C%20%5B37.586724657530496%2C%20127.08619490757957%5D%2C%20%5B37.587135230742064%2C%20127.09135827151533%5D%2C%20%5B37.61738747652263%2C%20127.02344630499515%5D%2C%20%5B37.599926946387306%2C%20127.08232598119245%5D%2C%20%5B37.60484930281732%2C%20127.07798267735807%5D%2C%20%5B37.60286830942322%2C%20127.07616868735616%5D%2C%20%5B37.49999977609888%2C%20126.8879168952626%5D%2C%20%5B37.501583965443814%2C%20126.88626338473544%5D%2C%20%5B37.56372333673883%2C%20127.02820592031425%5D%2C%20%5B37.54614800204811%2C%20127.04673478907152%5D%2C%20%5B37.564939824315275%2C%20127.05375284511231%5D%2C%20%5B37.56588723144022%2C%20127.05067478128461%5D%2C%20%5B37.54828212797034%2C%20127.0186944490346%5D%2C%20%5B37.57120962246717%2C%20127.03208008759509%5D%2C%20%5B37.62571050457308%2C%20127.03231872732951%5D%2C%20%5B37.61169598721768%2C%20127.07923566963495%5D%2C%20%5B37.57442038535341%2C%20127.08155076069042%5D%2C%20%5B37.59142524325744%2C%20127.08967642136246%5D%2C%20%5B37.59446288587133%2C%20127.08794761096189%5D%2C%20%5B37.599733192563036%2C%20127.07565590943814%5D%2C%20%5B37.605465507361494%2C%20127.09747348397731%5D%2C%20%5B37.57891549974159%2C%20127.0827669976751%5D%2C%20%5B37.57910053594263%2C%20127.08851822568079%5D%2C%20%5B37.60218904258548%2C%20127.0935962611825%5D%2C%20%5B37.675467379316665%2C%20127.04568222735578%5D%2C%20%5B37.604712520473065%2C%20127.08041736496868%5D%2C%20%5B37.60679750641733%2C%20127.07479103053134%5D%2C%20%5B37.610057665403176%2C%20127.07700278771155%5D%2C%20%5B37.47140426383428%2C%20126.89055967610648%5D%2C%20%5B37.473189819527484%2C%20126.89225281013455%5D%2C%20%5B37.45152186917577%2C%20126.90432016043654%5D%2C%20%5B37.45320414950866%2C%20126.89090265267811%5D%2C%20%5B37.570622997203614%2C%20127.03549836462217%5D%2C%20%5B37.55036210539663%2C%20126.9742434938409%5D%2C%20%5B37.52614035691027%2C%20126.96340274639695%5D%2C%20%5B37.560609382692896%2C%20127.04580441680068%5D%2C%20%5B37.55052614710572%2C%20127.04849159416436%5D%2C%20%5B37.54830918321684%2C%20127.049712313555%5D%2C%20%5B37.5469875422686%2C%20127.04246916012495%5D%2C%20%5B37.600330423961964%2C%20127.08510083713035%5D%2C%20%5B37.51282422538028%2C%20127.03428332775769%5D%2C%20%5B37.488150047468245%2C%20126.85360604021459%5D%2C%20%5B37.491537038862276%2C%20126.85296620024447%5D%2C%20%5B37.54168367978505%2C%20126.94327662843149%5D%2C%20%5B37.54779959075826%2C%20126.96085733573693%5D%2C%20%5B37.547957148510996%2C%20127.15460192163133%5D%2C%20%5B37.48342756947013%2C%20126.97942223598494%5D%2C%20%5B37.488590119117326%2C%20126.97815440887648%5D%2C%20%5B37.49005920470789%2C%20126.98069816024963%5D%2C%20%5B37.4921583324091%2C%20126.97939722543985%5D%2C%20%5B37.47847184675797%2C%20126.97845130330151%5D%2C%20%5B37.51169348596874%2C%20126.93394536284316%5D%2C%20%5B37.47575600377199%2C%20127.03692313524903%5D%2C%20%5B37.524385922645855%2C%20126.88375131049136%5D%2C%20%5B37.53456764758405%2C%20126.83173557945085%5D%2C%20%5B37.53799022272755%2C%20126.83087928776604%5D%2C%20%5B37.533975828625294%2C%20126.82746018782478%5D%2C%20%5B37.5305924376686%2C%20126.83047739046283%5D%2C%20%5B37.52317403571121%2C%20126.83460059506345%5D%2C%20%5B37.516164907660446%2C%20126.84166306118632%5D%2C%20%5B37.50134562294794%2C%20127.05706604455409%5D%2C%20%5B37.50316614641637%2C%20127.05603827126373%5D%2C%20%5B37.51364201738336%2C%20127.04094589237938%5D%2C%20%5B37.51874059417036%2C%20127.04401417298666%5D%2C%20%5B37.51812996119668%2C%20127.03812042026154%5D%2C%20%5B37.52252489801451%2C%20127.04376752403279%5D%2C%20%5B37.550613952666644%2C%20126.87486100742207%5D%2C%20%5B37.477439111595785%2C%20126.95776242309152%5D%2C%20%5B37.54735590033696%2C%20126.9547016029911%5D%2C%20%5B37.55130327549424%2C%20126.95739259068313%5D%2C%20%5B37.53808227877936%2C%20127.14749852909215%5D%2C%20%5B37.54743795968647%2C%20127.17171081211951%5D%2C%20%5B37.536135392119114%2C%20127.12467353262433%5D%2C%20%5B37.533902033448086%2C%20127.12360629191559%5D%2C%20%5B37.53277973804337%2C%20127.1283449649351%5D%2C%20%5B37.48874869358056%2C%20126.94119091350738%5D%2C%20%5B37.52114480969574%2C%20126.86104155114711%5D%2C%20%5B37.52854525851174%2C%20126.84210073963199%5D%2C%20%5B37.52990356182328%2C%20126.85440692631573%5D%2C%20%5B37.52963709501543%2C%20126.85026673057511%5D%2C%20%5B37.56610349784224%2C%20126.80868723570073%5D%2C%20%5B37.564120729902115%2C%20126.80833011005501%5D%2C%20%5B37.532103854982104%2C%20126.84871180904096%5D%2C%20%5B37.512027245087346%2C%20126.91999888417823%5D%2C%20%5B37.46283908026488%2C%20126.91688638021704%5D%2C%20%5B37.4802348153703%2C%20126.91303438960126%5D%2C%20%5B37.48356161337909%2C%20126.91590237986556%5D%2C%20%5B37.48405977215566%2C%20126.9196442915453%5D%2C%20%5B37.48243014944444%2C%20126.92143243386931%5D%2C%20%5B37.496246640166866%2C%20127.1259415811924%5D%2C%20%5B37.48498984923107%2C%20126.95856094823996%5D%2C%20%5B37.486467640611004%2C%20126.9589558742335%5D%2C%20%5B37.48730375915679%2C%20126.9201722481057%5D%2C%20%5B37.48863117301575%2C%20126.92463719748999%5D%2C%20%5B37.48022145028157%2C%20127.04695373653372%5D%2C%20%5B37.4770677061371%2C%20127.04748312205031%5D%2C%20%5B37.48304725258045%2C%20126.97049027938027%5D%2C%20%5B37.59052815738706%2C%20126.94646653283844%5D%2C%20%5B37.49808360438826%2C%20127.11827739033224%5D%2C%20%5B37.49913391400389%2C%20127.12207881214849%5D%2C%20%5B37.510582050134346%2C%20127.1255471729132%5D%2C%20%5B37.509479517368504%2C%20127.12862175099153%5D%2C%20%5B37.51283051464797%2C%20127.11162723174702%5D%2C%20%5B37.501644639853374%2C%20127.12502329265395%5D%2C%20%5B37.47019085060437%2C%20126.90434158807216%5D%2C%20%5B37.496398791384294%2C%20127.1350224910562%5D%2C%20%5B37.496837916338876%2C%20127.15181636854365%5D%2C%20%5B37.50562230939844%2C%20127.09079514621061%5D%2C%20%5B37.502074238065035%2C%20127.08830280990712%5D%2C%20%5B37.50487112179878%2C%20127.09505799073457%5D%2C%20%5B37.5003305761075%2C%20127.09440762096847%5D%2C%20%5B37.48857820404382%2C%20127.12675413397601%5D%2C%20%5B37.483975511021384%2C%20127.12538957311503%5D%2C%20%5B37.49602716621824%2C%20127.12040011809141%5D%2C%20%5B37.55807531741908%2C%20126.91700706890093%5D%2C%20%5B37.55895112338144%2C%20126.91966579527917%5D%2C%20%5B37.560664030612564%2C%20126.9211692664366%5D%2C%20%5B37.57108705631895%2C%20126.80934235042974%5D%2C%20%5B37.480831147704706%2C%20126.97204008280603%5D%2C%20%5B37.481147308579125%2C%20126.97569184173015%5D%2C%20%5B37.48899442606982%2C%20126.97264763480986%5D%2C%20%5B37.48703979822581%2C%20126.97518111723743%5D%2C%20%5B37.47881804265326%2C%20127.04114169347028%5D%2C%20%5B37.51562364995351%2C%20127.06277781895304%5D%2C%20%5B37.502676435448144%2C%20127.06235983986257%5D%2C%20%5B37.49285990847299%2C%20127.0842437390521%5D%2C%20%5B37.54789861453396%2C%20127.12824640463313%5D%2C%20%5B37.548378856521865%2C%20127.12572370145827%5D%2C%20%5B37.54789671418942%2C%20127.14543568765576%5D%2C%20%5B37.55280052449069%2C%20127.1278021266924%5D%2C%20%5B37.54939436568936%2C%20127.17085525307012%5D%2C%20%5B37.53137959089851%2C%20127.12326271834269%5D%2C%20%5B37.48914782911818%2C%20126.90403473668073%5D%2C%20%5B37.49125772985235%2C%20126.90595433618377%5D%2C%20%5B37.54155226492106%2C%20126.83305508023177%5D%2C%20%5B37.554787368142655%2C%20126.932198442708%5D%2C%20%5B37.5559406013126%2C%20126.95020339547287%5D%2C%20%5B37.5564640898275%2C%20126.95240995740212%5D%2C%20%5B37.55238909811381%2C%20126.9157006177049%5D%2C%20%5B37.53308984206563%2C%20126.82541440520858%5D%2C%20%5B37.528035261661856%2C%20126.83808563513176%5D%2C%20%5B37.527787843969605%2C%20126.83508818679427%5D%2C%20%5B37.57231925381025%2C%20126.81362944100913%5D%2C%20%5B37.57020450587732%2C%20126.81527604573724%5D%2C%20%5B37.571981459206654%2C%20126.82244842454912%5D%2C%20%5B37.570997785646874%2C%20126.84025660970605%5D%2C%20%5B37.55335125426155%2C%20126.87323809793509%5D%2C%20%5B37.5008289298123%2C%20127.0631951756804%5D%2C%20%5B37.49055313013716%2C%20127.0845238366623%5D%2C%20%5B37.51060809364278%2C%20127.05677902087957%5D%2C%20%5B37.55280773450696%2C%20127.12945441068602%5D%2C%20%5B37.5555047691901%2C%20127.13477822431202%5D%2C%20%5B37.5596109422656%2C%20127.1515927855899%5D%2C%20%5B37.542576414505184%2C%20127.13392892492763%5D%2C%20%5B37.547056762531064%2C%20127.1318095211643%5D%2C%20%5B37.54489812377455%2C%20127.13643385521179%5D%2C%20%5B37.51306770877023%2C%20126.91333563558014%5D%2C%20%5B37.53579411539009%2C%20126.89499139193177%5D%2C%20%5B37.53971285464334%2C%20126.89430699942264%5D%2C%20%5B37.54166473514251%2C%20126.89069468032227%5D%2C%20%5B37.50158370298455%2C%20126.91868685199033%5D%2C%20%5B37.503332846035%2C%20126.92043792166326%5D%2C%20%5B37.55475789748673%2C%20126.9028981646755%5D%2C%20%5B37.577114393303276%2C%20126.89561263001684%5D%2C%20%5B37.48285251191834%2C%20126.99305788443199%5D%2C%20%5B37.48470864786431%2C%20126.9941318450921%5D%2C%20%5B37.479969487152786%2C%20127.00005652971377%5D%2C%20%5B37.48674190637515%2C%20127.02735154392106%5D%2C%20%5B37.49179872502637%2C%20126.98462149333812%5D%2C%20%5B37.479455035347165%2C%20126.98560763358313%5D%2C%20%5B37.48746421045257%2C%20127.01985521859461%5D%2C%20%5B37.509547712767734%2C%20126.90541111585652%5D%2C%20%5B37.531407105892995%2C%20126.83312295004507%5D%2C%20%5B37.53915282952503%2C%20127.13374176346099%5D%2C%20%5B37.46109792886518%2C%20126.9022394935645%5D%2C%20%5B37.464051513987485%2C%20126.90016710006587%5D%2C%20%5B37.4751387153593%2C%20127.04950553493379%5D%2C%20%5B37.508275015115785%2C%20127.03117093942068%5D%2C%20%5B37.51072642990842%2C%20127.0284687302283%5D%2C%20%5B37.53777500976483%2C%20126.94686633755153%5D%2C%20%5B37.54878959625199%2C%20126.95768824607461%5D%2C%20%5B37.55948129270431%2C%20126.90557438755731%5D%2C%20%5B37.49040928190285%2C%20126.94696775162885%5D%2C%20%5B37.495224665413865%2C%20127.04319748350869%5D%2C%20%5B37.52060234574617%2C%20127.02437751249784%5D%2C%20%5B37.55303913248782%2C%20126.83892559656644%5D%2C%20%5B37.529561502566374%2C%20126.84069573429778%5D%2C%20%5B37.54639142098713%2C%20126.84694028202016%5D%2C%20%5B37.54079881307364%2C%20126.84895448982283%5D%2C%20%5B37.565491790917164%2C%20126.81494811830154%5D%2C%20%5B37.50758659507992%2C%20126.89826560580751%5D%2C%20%5B37.55908127038103%2C%20126.81213450593492%5D%2C%20%5B37.484628061921924%2C%20126.88735191770702%5D%2C%20%5B37.468415415509064%2C%20126.89329964913883%5D%2C%20%5B37.483227561721236%2C%20126.88329501281478%5D%2C%20%5B37.468647150162695%2C%20126.90073750479613%5D%2C%20%5B37.472619231852526%2C%20126.89911566138557%5D%2C%20%5B37.47500531724133%2C%20126.89726970818982%5D%2C%20%5B37.47803058257481%2C%20126.90551868880223%5D%2C%20%5B37.46856585469473%2C%20126.8903151212837%5D%2C%20%5B37.474676109308874%2C%20126.96756553849134%5D%2C%20%5B37.499345027560665%2C%20127.05781090694133%5D%2C%20%5B37.57297853641417%2C%20126.91807725205094%5D%2C%20%5B37.56020548456622%2C%20126.9583835106932%5D%2C%20%5B37.59355463245203%2C%20126.94460737605142%5D%2C%20%5B37.587888480543%2C%20126.9469779244135%5D%2C%20%5B37.52101651168637%2C%20127.02576903961368%5D%2C%20%5B37.51795206514061%2C%20127.03014560224301%5D%2C%20%5B37.518420049589736%2C%20127.03218190388088%5D%2C%20%5B37.519950020100985%2C%20127.03801953842373%5D%2C%20%5B37.52709161309576%2C%20127.04731117656527%5D%2C%20%5B37.4889787035498%2C%20126.9856736503999%5D%2C%20%5B37.47786869309814%2C%20127.0496995313817%5D%2C%20%5B37.48886104037443%2C%20127.06774192646317%5D%2C%20%5B37.49368855412557%2C%20127.13344579954347%5D%2C%20%5B37.535292556111294%2C%20127.1207234448462%5D%2C%20%5B37.57702370009597%2C%20126.90560884307486%5D%2C%20%5B37.55841254073901%2C%20126.95849768572373%5D%2C%20%5B37.56479737250391%2C%20126.9320761840464%5D%2C%20%5B37.58139679913753%2C%20126.90980350936994%5D%2C%20%5B37.578929540815%2C%20126.92475005533531%5D%2C%20%5B37.51633989386052%2C%20127.02758857121454%5D%2C%20%5B37.47264001490569%2C%20126.90240534020812%5D%2C%20%5B37.51955465302705%2C%20126.85735681942108%5D%2C%20%5B37.520870974289515%2C%20126.8507593581988%5D%2C%20%5B37.51806884973566%2C%20126.8507536272813%5D%2C%20%5B37.52397228826576%2C%20126.8452100217204%5D%2C%20%5B37.525892097075555%2C%20126.8457264466168%5D%2C%20%5B37.561378746303745%2C%20126.92568448734039%5D%2C%20%5B37.575720968307834%2C%20126.92314578725028%5D%2C%20%5B37.567080660075845%2C%20126.96004359301305%5D%2C%20%5B37.582785217185545%2C%20126.9238517784697%5D%2C%20%5B37.56101084885787%2C%20127.16260819772776%5D%2C%20%5B37.56104859860324%2C%20127.15462896862834%5D%2C%20%5B37.533303066327605%2C%20127.14335951395772%5D%2C%20%5B37.487215986254284%2C%20127.03955200669644%5D%2C%20%5B37.532612017653655%2C%20126.85155056506117%5D%2C%20%5B37.5351485117875%2C%20126.85532449949133%5D%2C%20%5B37.53586287316192%2C%20126.8574389059467%5D%2C%20%5B37.53089517444793%2C%20126.86234715738803%5D%2C%20%5B37.49362727025933%2C%20126.85288294678254%5D%2C%20%5B37.48304902137227%2C%20126.85254188562699%5D%2C%20%5B37.50905888215968%2C%20126.90259546188112%5D%2C%20%5B37.50629119093642%2C%20127.03677983019988%5D%2C%20%5B37.51530084165945%2C%20126.8900544673819%5D%2C%20%5B37.499310296135214%2C%20126.90294739171549%5D%2C%20%5B37.48755123589951%2C%20126.90183189827928%5D%2C%20%5B37.47626457833994%2C%20126.91751592138444%5D%2C%20%5B37.5269255587548%2C%20127.12618546105597%5D%2C%20%5B37.483206620446694%2C%20127.03918808735928%5D%2C%20%5B37.512087989505495%2C%20126.83842548180658%5D%2C%20%5B37.52263869528929%2C%20127.0239709294217%5D%2C%20%5B37.482474599105096%2C%20127.04534964911423%5D%2C%20%5B37.48392563005297%2C%20127.04427640502921%5D%2C%20%5B37.49231651300768%2C%20127.03701044044782%5D%2C%20%5B37.47397538942673%2C%20127.05189013077451%5D%2C%20%5B37.550598835530494%2C%20126.86922536818102%5D%2C%20%5B37.552046117801886%2C%20126.86625783421293%5D%2C%20%5B37.52439641598363%2C%20127.13198458352949%5D%2C%20%5B37.60073984650877%2C%20127.06462716679306%5D%2C%20%5B37.59063357186286%2C%20127.09942427979222%5D%2C%20%5B37.59919761600953%2C%20127.10449748246018%5D%2C%20%5B37.60101767455427%2C%20127.10443208268727%5D%2C%20%5B37.58995239238665%2C%20127.08315286238451%5D%2C%20%5B37.58883736522831%2C%20127.00364580946099%5D%2C%20%5B37.555119304672736%2C%20126.94701246757504%5D%2C%20%5B37.58418825624837%2C%20126.99685257144091%5D%2C%20%5B37.57689717095477%2C%20127.02219966011049%5D%2C%20%5B37.58069669360434%2C%20126.96647805541343%5D%2C%20%5B37.57606099987723%2C%20126.99112476338325%5D%2C%20%5B37.57502512057401%2C%20127.00404134640954%5D%2C%20%5B37.577854212833884%2C%20127.00484527087895%5D%2C%20%5B37.55650836308674%2C%20126.98209572084158%5D%2C%20%5B37.556851135807115%2C%20126.98491370830027%5D%2C%20%5B37.56122193214848%2C%20127.00089413853523%5D%2C%20%5B37.53492308871023%2C%20127.06282793590685%5D%2C%20%5B37.52389978685526%2C%20126.83817376078056%5D%2C%20%5B37.524056294692166%2C%20126.84062825275142%5D%2C%20%5B37.52119544069402%2C%20126.85815685860752%5D%2C%20%5B37.518481860876%2C%20126.8725957787547%5D%2C%20%5B37.49446789818725%2C%20126.95701780677625%5D%2C%20%5B37.496214163995354%2C%20126.95260653374689%5D%2C%20%5B37.60421334469154%2C%20126.91441910161745%5D%2C%20%5B37.59975114699046%2C%20126.92424215601473%5D%2C%20%5B37.602454203753574%2C%20126.92437530846863%5D%2C%20%5B37.503079425216015%2C%20126.95160696509937%5D%2C%20%5B37.64689290379992%2C%20127.03144407006899%5D%2C%20%5B37.64759427158531%2C%20127.03631682587171%5D%2C%20%5B37.483924408201645%2C%20126.98904396403856%5D%2C%20%5B37.51231446438567%2C%20127.01658166191717%5D%2C%20%5B37.474024118661276%2C%20127.04269916197109%5D%2C%20%5B37.508818279716955%2C%20127.0185149484964%5D%2C%20%5B37.50606100116442%2C%20127.01976966377829%5D%2C%20%5B37.48640810375405%2C%20126.88327875846464%5D%2C%20%5B37.46555074168666%2C%20126.90446053798038%5D%2C%20%5B37.46736976998788%2C%20126.90321477865747%5D%2C%20%5B37.51860224184537%2C%20126.84515324447747%5D%2C%20%5B37.52623280536764%2C%20126.85145007780352%5D%2C%20%5B37.52312719559643%2C%20126.85373003641472%5D%2C%20%5B37.639495650634544%2C%20127.0320867663193%5D%2C%20%5B37.640739635281335%2C%20127.02969661616098%5D%2C%20%5B37.646786902764056%2C%20127.02211846412452%5D%2C%20%5B37.62068439870403%2C%20127.02670957893947%5D%2C%20%5B37.63287584757782%2C%20127.02130997655303%5D%2C%20%5B37.61464567828941%2C%20127.03477174530728%5D%2C%20%5B37.618875042640525%2C%20127.01813443588074%5D%2C%20%5B37.62171320213927%2C%20127.01781795880467%5D%2C%20%5B37.4828933691375%2C%20126.96776550162745%5D%2C%20%5B37.50969376734458%2C%20126.87799447555045%5D%2C%20%5B37.49063215867067%2C%20126.89096131582092%5D%2C%20%5B37.49277814683347%2C%20126.89269960784434%5D%2C%20%5B37.49415622935668%2C%20126.85809493020344%5D%2C%20%5B37.501094072723475%2C%20126.92780253729701%5D%2C%20%5B37.48660522861772%2C%20126.96670105427351%5D%2C%20%5B37.48153568143923%2C%20126.980790802428%5D%2C%20%5B37.487672847588655%2C%20126.88670284128662%5D%2C%20%5B37.498438602664336%2C%20126.93201193944643%5D%2C%20%5B37.63556889865474%2C%20127.02579721831657%5D%2C%20%5B37.63612036783161%2C%20127.01498900846208%5D%2C%20%5B37.64297711191891%2C%20127.0128715635598%5D%2C%20%5B37.64350907716093%2C%20127.00865664145942%5D%2C%20%5B37.64084010226493%2C%20127.0236916094139%5D%2C%20%5B37.6421905245098%2C%20127.02846217118487%5D%2C%20%5B37.63423399296308%2C%20127.0317332962456%5D%2C%20%5B37.63742414151746%2C%20127.02917412765696%5D%2C%20%5B37.61523340344831%2C%20127.02678691381598%5D%2C%20%5B37.61964107417436%2C%20127.04909147367009%5D%2C%20%5B37.61165955037523%2C%20127.06515760393576%5D%2C%20%5B37.623289169501106%2C%20127.02229274195886%5D%2C%20%5B37.628858403292824%2C%20127.0151348199034%5D%2C%20%5B37.61299397734559%2C%20126.92161240683131%5D%2C%20%5B37.66287653879393%2C%20127.0720478538151%5D%2C%20%5B37.66472475681537%2C%20127.07004353910895%5D%2C%20%5B37.6075934452752%2C%20127.02482490862354%5D%2C%20%5B37.59124293316104%2C%20127.00570666803867%5D%2C%20%5B37.573798816163084%2C%20127.04866516186614%5D%2C%20%5B37.58500055029401%2C%20127.04250206805004%5D%2C%20%5B37.576270165425754%2C%20127.04181787633433%5D%2C%20%5B37.58207242428631%2C%20127.04221736928372%5D%2C%20%5B37.58498926909341%2C%20127.04840072248676%5D%2C%20%5B37.627464382025295%2C%20127.04199380868468%5D%2C%20%5B37.62682097571897%2C%20127.02262231303826%5D%2C%20%5B37.62838839147609%2C%20127.02414079188956%5D%2C%20%5B37.62413481855987%2C%20127.02826271394503%5D%2C%20%5B37.600175550324316%2C%20127.03555769735354%5D%2C%20%5B37.593418521501405%2C%20127.03418438906162%5D%2C%20%5B37.58309653275608%2C%20127.01921261957447%5D%2C%20%5B37.6053272213694%2C%20127.04165293910224%5D%2C%20%5B37.60863060684104%2C%20127.05001291789686%5D%2C%20%5B37.60484323784301%2C%20127.03365735017576%5D%2C%20%5B37.56214966423963%2C%20127.00838689708328%5D%2C%20%5B37.5586445042682%2C%20127.01170262527664%5D%2C%20%5B37.5580854626735%2C%20127.01539211939027%5D%2C%20%5B37.60130860037792%2C%20127.0422282367505%5D%2C%20%5B37.58493548788187%2C%20126.91918500828997%5D%2C%20%5B37.599415470605%2C%20126.90828699545541%5D%2C%20%5B37.649009501008884%2C%20127.03401721691714%5D%2C%20%5B37.65453767028034%2C%20127.0454880844189%5D%2C%20%5B37.53437630492295%2C%20126.86518060911823%5D%2C%20%5B37.531375772815636%2C%20126.86500499115456%5D%2C%20%5B37.5197466006671%2C%20126.87572703427178%5D%2C%20%5B37.56424475550748%2C%20127.03269962738138%5D%2C%20%5B37.5655291955643%2C%20127.04483400702887%5D%2C%20%5B37.56155755417664%2C%20127.03995345723395%5D%2C%20%5B37.54751696364525%2C%20127.0137038416579%5D%2C%20%5B37.55284081556082%2C%20127.02086844044004%5D%2C%20%5B37.56570414697989%2C%20127.03349258737882%5D%2C%20%5B37.562091572705945%2C%20127.031974312506%5D%2C%20%5B37.56061476224366%2C%20127.02877065426908%5D%2C%20%5B37.45627904718531%2C%20126.90411065768251%5D%2C%20%5B37.45512981860987%2C%20126.89820107525821%5D%2C%20%5B37.497682313890735%2C%20126.90646647588949%5D%2C%20%5B37.507630603042216%2C%20126.90798092965898%5D%2C%20%5B37.509275317074035%2C%20126.91448236642141%5D%2C%20%5B37.50660733856764%2C%20126.91310559537058%5D%2C%20%5B37.4749703074004%2C%20126.92220899630287%5D%2C%20%5B37.48430811470407%2C%20126.94405496284341%5D%2C%20%5B37.472385946388286%2C%20126.94034457112895%5D%2C%20%5B37.47314714560135%2C%20126.9799676906516%5D%2C%20%5B37.4833953079835%2C%20127.06155235940356%5D%2C%20%5B37.52109879550894%2C%20127.01954738784833%5D%2C%20%5B37.49888341076538%2C%20127.04135625779246%5D%2C%20%5B37.55730511043558%2C%20126.91102090556349%5D%2C%20%5B37.499575410941276%2C%20126.99908397925343%5D%2C%20%5B37.50739423746393%2C%20127.02121770526344%5D%2C%20%5B37.489276395611654%2C%20126.98903187507891%5D%2C%20%5B37.53370593974615%2C%20126.84057377888907%5D%2C%20%5B37.53643499697612%2C%20126.83985515881274%5D%2C%20%5B37.50152390747052%2C%20126.85598878903117%5D%2C%20%5B37.58131306801902%2C%20126.98417289246329%5D%2C%20%5B37.58034864628062%2C%20126.9816937748628%5D%2C%20%5B37.545128049103546%2C%20127.06886780666939%5D%2C%20%5B37.546369515836325%2C%20127.07207136574804%5D%2C%20%5B37.554084037542566%2C%20127.082796113612%5D%2C%20%5B37.5986679189065%2C%20127.07887081170279%5D%2C%20%5B37.4818984832819%2C%20126.90879262527073%5D%2C%20%5B37.48521211679205%2C%20126.95078179399408%5D%2C%20%5B37.48044229165424%2C%20126.94301769195768%5D%2C%20%5B37.47420267842053%2C%20126.91956440524902%5D%2C%20%5B37.47443062149266%2C%20126.93913329960627%5D%2C%20%5B37.497422009086804%2C%20126.99977382853267%5D%2C%20%5B37.47036498869084%2C%20127.04545537732939%5D%2C%20%5B37.47369839247095%2C%20127.04631657576508%5D%2C%20%5B37.4810675557076%2C%20126.98342524544262%5D%2C%20%5B37.47188074416293%2C%20127.03974740984224%5D%2C%20%5B37.5212785873856%2C%20126.83222922554914%5D%2C%20%5B37.55656418891049%2C%20126.90827163378137%5D%2C%20%5B37.554354515253934%2C%20126.86007453844135%5D%2C%20%5B37.55278249214008%2C%20126.86411761955507%5D%2C%20%5B37.47647730659402%2C%20126.90119067131354%5D%2C%20%5B37.47594022771477%2C%20126.89483778236263%5D%2C%20%5B37.4410347689175%2C%20126.90519232063028%5D%2C%20%5B37.44371978067097%2C%20126.90517763240933%5D%2C%20%5B37.48531675363689%2C%20126.92668704794538%5D%2C%20%5B37.585790844270974%2C%20126.98301710779458%5D%2C%20%5B37.58526789115327%2C%20126.9805717072538%5D%2C%20%5B37.50353406212093%2C%20126.9630518799391%5D%2C%20%5B37.50695839337092%2C%20126.96472407394903%5D%2C%20%5B37.50848938989847%2C%20126.96241606411337%5D%2C%20%5B37.5056961409957%2C%20126.96199900109328%5D%2C%20%5B37.64372241540077%2C%20127.02754496778088%5D%2C%20%5B37.63839899645745%2C%20127.02069973900537%5D%2C%20%5B37.55989709372857%2C%20127.00942790140374%5D%2C%20%5B37.55384213716789%2C%20127.01219982639047%5D%2C%20%5B37.542144071492224%2C%20127.05485669201654%5D%2C%20%5B37.544496465633436%2C%20127.05313843246333%5D%2C%20%5B37.56986220230094%2C%20127.06574374881689%5D%2C%20%5B37.55749532558895%2C%20127.03601274776211%5D%2C%20%5B37.549587752425495%2C%20127.0233232030344%5D%2C%20%5B37.50700008635269%2C%20126.92066023010696%5D%2C%20%5B37.486911198895235%2C%20126.92614275449752%5D%2C%20%5B37.53312306225482%2C%20127.13556385582983%5D%2C%20%5B37.53899924403061%2C%20127.1418202855874%5D%2C%20%5B37.541987123240844%2C%20127.14465476790285%5D%2C%20%5B37.54808218553027%2C%20127.14109062218468%5D%2C%20%5B37.51558754811529%2C%20127.04274545408751%5D%2C%20%5B37.530574103497955%2C%20127.13480123334531%5D%2C%20%5B37.529460061264615%2C%20127.13979975124495%5D%2C%20%5B37.52873137077551%2C%20127.12256824971686%5D%2C%20%5B37.540905300261386%2C%20127.12119641426514%5D%2C%20%5B37.54320081889632%2C%20127.12315770777256%5D%2C%20%5B37.54254000993612%2C%20127.12607598818792%5D%2C%20%5B37.54259065699048%2C%20127.12923306586082%5D%2C%20%5B37.61427002529239%2C%20127.0236038935865%5D%2C%20%5B37.60664415240771%2C%20127.05925285872937%5D%2C%20%5B37.61306630911354%2C%20127.06291627138545%5D%2C%20%5B37.65599421138432%2C%20127.07010333244536%5D%2C%20%5B37.65857543620482%2C%20127.06222934533159%5D%2C%20%5B37.56805217993125%2C%20127.04431483407359%5D%2C%20%5B37.55300526996423%2C%20127.09170137021324%5D%2C%20%5B37.5119509887943%2C%20126.92748669030186%5D%2C%20%5B37.61079777411305%2C%20127.0749875734278%5D%2C%20%5B37.597749894240124%2C%20127.10120025081062%5D%2C%20%5B37.60231659954498%2C%20127.10272390984318%5D%2C%20%5B37.57245566056271%2C%20127.08235233163086%5D%2C%20%5B37.57591492144151%2C%20127.08314857111077%5D%2C%20%5B37.58158875334434%2C%20127.08652862478694%5D%2C%20%5B37.58423476910367%2C%20127.09040370499126%5D%2C%20%5B37.52829669152127%2C%20127.1329304528979%5D%2C%20%5B37.52904680058855%2C%20126.84664764312586%5D%2C%20%5B37.46852783713236%2C%20127.04302385794406%5D%2C%20%5B37.493437807948396%2C%20126.82014677263952%5D%2C%20%5B37.504527156224206%2C%20126.89258100846668%5D%2C%20%5B37.51002930396633%2C%20126.88010898702952%5D%2C%20%5B37.49319354256131%2C%20126.84486647833701%5D%2C%20%5B37.551093994262956%2C%20127.13112631373401%5D%2C%20%5B37.498153391987245%2C%20126.86292747958542%5D%2C%20%5B37.480976577293106%2C%20126.97804356464154%5D%2C%20%5B37.45773623635202%2C%20126.90113621585306%5D%2C%20%5B37.4824440332035%2C%20126.90367020296097%5D%2C%20%5B37.52339322687341%2C%20126.87343586390291%5D%2C%20%5B37.51697624621937%2C%20126.8717273517335%5D%2C%20%5B37.52504668425567%2C%20126.86149813629437%5D%2C%20%5B37.534281789479984%2C%20127.0657464447093%5D%2C%20%5B37.53227025427135%2C%20127.06976108885506%5D%2C%20%5B37.53946292737599%2C%20127.06504946878144%5D%2C%20%5B37.54335430950868%2C%20127.06672754450615%5D%2C%20%5B37.53716461614025%2C%20127.06641653529317%5D%2C%20%5B37.51246822958148%2C%20126.90700225863385%5D%2C%20%5B37.53187889087044%2C%20126.84204845703653%5D%2C%20%5B37.534602011674615%2C%20126.84362669834927%5D%2C%20%5B37.53496039466294%2C%20126.84900020864771%5D%2C%20%5B37.57756332270804%2C%20127.06989388813406%5D%2C%20%5B37.59242149972554%2C%20127.05068144463567%5D%2C%20%5B37.592600226879014%2C%20127.05399919266901%5D%2C%20%5B37.57270685366526%2C%20127.02561704019672%5D%2C%20%5B37.573745347300154%2C%20127.01007489285544%5D%2C%20%5B37.48300719399357%2C%20126.88834931395198%5D%2C%20%5B37.48578973585622%2C%20126.8538707026041%5D%2C%20%5B37.508735414609205%2C%20126.86661790120162%5D%2C%20%5B37.55055558746798%2C%20126.90963698902888%5D%2C%20%5B37.5473953009943%2C%20126.9125829939373%5D%2C%20%5B37.554199116886345%2C%20126.92780792341222%5D%2C%20%5B37.55561444361047%2C%20126.92906278492757%5D%2C%20%5B37.546139737815416%2C%20126.92085640167426%5D%2C%20%5B37.515952604732966%2C%20126.9156624409011%5D%2C%20%5B37.55757689093107%2C%20126.90153638831816%5D%2C%20%5B37.56680647449828%2C%20126.90567833228712%5D%2C%20%5B37.55270937642224%2C%20126.91016628383052%5D%2C%20%5B37.553631742440295%2C%20126.91468068279374%5D%2C%20%5B37.526522816940115%2C%20126.89499307614959%5D%2C%20%5B37.52995793272006%2C%20126.89761298780407%5D%2C%20%5B37.48273048234202%2C%20126.91286190179561%5D%2C%20%5B37.53179530601711%2C%20127.00064488438304%5D%2C%20%5B37.53373244893744%2C%20126.99837077626304%5D%2C%20%5B37.56669788321959%2C%20127.02232114235886%5D%2C%20%5B37.569337746639356%2C%20127.02260491604761%5D%2C%20%5B37.50118786143637%2C%20126.93411294663407%5D%2C%20%5B37.490168549076955%2C%20126.99086355634918%5D%2C%20%5B37.58283225566861%2C%20127.08634892036675%5D%2C%20%5B37.48820037766825%2C%20126.88254100340642%5D%2C%20%5B37.49169306601879%2C%20126.8885173095279%5D%2C%20%5B37.49488756847087%2C%20126.88428329993258%5D%2C%20%5B37.49420890961669%2C%20126.881355553594%5D%2C%20%5B37.49756318676129%2C%20126.88390598804362%5D%2C%20%5B37.49006958551634%2C%20126.99302329418552%5D%2C%20%5B37.47101118945863%2C%20126.93077067471077%5D%2C%20%5B37.5555045100542%2C%20126.91289040779601%5D%2C%20%5B37.554464911063576%2C%20126.90833079282572%5D%2C%20%5B37.53010643378316%2C%20126.85823049388797%5D%2C%20%5B37.46699735219607%2C%20126.93926367040332%5D%2C%20%5B37.47278891447421%2C%20126.9356075147962%5D%2C%20%5B37.47588099522814%2C%20126.938645994395%5D%2C%20%5B37.47891480293266%2C%20126.93383855674129%5D%2C%20%5B37.476698970372325%2C%20126.95423553950393%5D%2C%20%5B37.4787172879199%2C%20126.95438128348133%5D%2C%20%5B37.51103321407634%2C%20127.02656866154136%5D%2C%20%5B37.52030673755093%2C%20127.04812135809208%5D%2C%20%5B37.49271654014208%2C%20126.85970336942842%5D%2C%20%5B37.49570701269253%2C%20126.85897404382185%5D%2C%20%5B37.48908327422164%2C%20126.85785576638575%5D%2C%20%5B37.5209618762461%2C%20126.87470692808034%5D%2C%20%5B37.520083467179866%2C%20126.84106655824634%5D%2C%20%5B37.50377707636308%2C%20126.89013922540099%5D%2C%20%5B37.55666215271623%2C%20127.0131962278398%5D%2C%20%5B37.55184234798794%2C%20127.00693719273198%5D%2C%20%5B37.55543724681475%2C%20127.00822770207726%5D%2C%20%5B37.65952690474667%2C%20127.06866734859203%5D%2C%20%5B37.581779172597095%2C%20127.07123374474163%5D%2C%20%5B37.593424422608564%2C%20127.06347720868553%5D%2C%20%5B37.596999851234045%2C%20127.06622056301238%5D%2C%20%5B37.59511083433199%2C%20127.06051192651461%5D%2C%20%5B37.662279330268504%2C%20127.0392933647759%5D%2C%20%5B37.664630394297035%2C%20127.040756676116%5D%2C%20%5B37.480714253035195%2C%20126.94656758626468%5D%2C%20%5B37.48550968607068%2C%20126.93295081296411%5D%2C%20%5B37.56304407589345%2C%20126.92331727033402%5D%2C%20%5B37.563619021014325%2C%20126.90830825884315%5D%2C%20%5B37.50065615765236%2C%20127.01047219056247%5D%2C%20%5B37.48184307278841%2C%20127.01101226318026%5D%2C%20%5B37.48286995703374%2C%20127.01356765570593%5D%2C%20%5B37.484310421422556%2C%20127.0213468547204%5D%2C%20%5B37.471553085459114%2C%20127.04856488212371%5D%2C%20%5B37.532982977638035%2C%20127.13196577174395%5D%2C%20%5B37.53507912786425%2C%20127.142457773877%5D%2C%20%5B37.59062374718485%2C%20126.91083405986622%5D%2C%20%5B37.62135876458965%2C%20126.91387839474079%5D%2C%20%5B37.625233687944814%2C%20126.91481414042902%5D%2C%20%5B37.616391051427165%2C%20127.06273784762647%5D%2C%20%5B37.66041533385277%2C%20127.07450479026866%5D%2C%20%5B37.502283801111254%2C%20126.84419173332698%5D%2C%20%5B37.50488122267058%2C%20126.84612029209725%5D%2C%20%5B37.50525367453766%2C%20126.84847195440811%5D%2C%20%5B37.48587104002746%2C%20126.9964157342446%5D%2C%20%5B37.58437315923606%2C%20127.08606765741773%5D%2C%20%5B37.574375856801666%2C%20127.01206733294957%5D%2C%20%5B37.576214055054905%2C%20127.01027899405535%5D%2C%20%5B37.53121187873634%2C%20127.07654830544459%5D%2C%20%5B37.52937115049342%2C%20127.08058530533364%5D%2C%20%5B37.5306119167055%2C%20127.08433143496083%5D%2C%20%5B37.531951951552244%2C%20127.08770445059731%5D%2C%20%5B37.582350840377295%2C%20127.0915109244198%5D%2C%20%5B37.51635884023275%2C%20126.85226145175332%5D%2C%20%5B37.4755165270824%2C%20126.97840693075834%5D%2C%20%5B37.49600476486353%2C%20126.83821135458024%5D%2C%20%5B37.500588458534324%2C%20126.85003072093879%5D%2C%20%5B37.514948531879945%2C%20126.92306110510111%5D%2C%20%5B37.522659572058835%2C%20126.89732884032587%5D%2C%20%5B37.52216587020949%2C%20126.899478854283%5D%2C%20%5B37.52169115109669%2C%20126.90283922372406%5D%2C%20%5B37.57596059020031%2C%20127.01964096274457%5D%2C%20%5B37.57641156273819%2C%20127.01653926205574%5D%2C%20%5B37.5870714693262%2C%20127.00124543343604%5D%2C%20%5B37.599342401122094%2C%20126.933732064947%5D%2C%20%5B37.60037526078756%2C%20126.91460468429828%5D%2C%20%5B37.56430255191586%2C%20127.01367295979668%5D%2C%20%5B37.553155120648604%2C%20126.83164853065095%5D%2C%20%5B37.551309978802855%2C%20126.83298805132208%5D%2C%20%5B37.4797645782061%2C%20126.96024841466243%5D%2C%20%5B37.467940739574864%2C%20126.93426648208751%5D%2C%20%5B37.47004066129831%2C%20126.93529334783747%5D%2C%20%5B37.51161414485812%2C%20126.9220352531494%5D%2C%20%5B37.48796870284314%2C%20126.9175482828504%5D%2C%20%5B37.48119032624972%2C%20126.92699634510153%5D%2C%20%5B37.48375187183579%2C%20126.94933551842063%5D%2C%20%5B37.487716170634705%2C%20126.94901624219654%5D%2C%20%5B37.471729775270724%2C%20126.96745376462506%5D%2C%20%5B37.48192863216989%2C%20126.94234949528703%5D%2C%20%5B37.48267470106283%2C%20126.93883264759539%5D%2C%20%5B37.50502039367104%2C%20127.09978564091207%5D%2C%20%5B37.50097518949339%2C%20127.09941836606995%5D%2C%20%5B37.54078541241178%2C%20126.84555998417852%5D%2C%20%5B37.55590434652824%2C%20126.81440595954842%5D%2C%20%5B37.50668212163182%2C%20126.9049170930625%5D%2C%20%5B37.51301545646946%2C%20126.89350765064538%5D%2C%20%5B37.511395038436866%2C%20126.89505951552783%5D%2C%20%5B37.51407653091892%2C%20126.90145783300366%5D%2C%20%5B37.60785226295211%2C%20126.91294264761487%5D%2C%20%5B37.61037562091818%2C%20126.91374382758477%5D%2C%20%5B37.60880195043221%2C%20126.91803797618813%5D%2C%20%5B37.49970040074789%2C%20126.85316506427277%5D%2C%20%5B37.50118362490209%2C%20126.86540994945932%5D%2C%20%5B37.60937082407314%2C%20127.00654613993714%5D%2C%20%5B37.59532323898484%2C%20127.01768710741527%5D%2C%20%5B37.56253674608529%2C%20127.0123370649228%5D%2C%20%5B37.561238350537174%2C%20127.01946732418223%5D%2C%20%5B37.56259924623541%2C%20127.01693235276134%5D%2C%20%5B37.53159380799459%2C%20126.97216822283924%5D%2C%20%5B37.53381065075947%2C%20126.97383056663585%5D%2C%20%5B37.52449988832703%2C%20126.96137858185705%5D%2C%20%5B37.5448296508582%2C%20126.97280829961359%5D%2C%20%5B37.534903443301985%2C%20127.00866670065605%5D%2C%20%5B37.56810792626419%2C%20126.91084958728115%5D%2C%20%5B37.56077475288332%2C%20126.90072859237345%5D%2C%20%5B37.54601796438393%2C%20126.94428046032503%5D%2C%20%5B37.56296710134067%2C%20126.91611880203601%5D%2C%20%5B37.560446854669806%2C%20126.90746328974811%5D%2C%20%5B37.52636907063594%2C%20127.05147388234442%5D%2C%20%5B37.53631699368508%2C%20126.86047031010514%5D%2C%20%5B37.52230065932098%2C%20126.91021406814987%5D%2C%20%5B37.50937520800174%2C%20126.94641143873883%5D%2C%20%5B37.536928060191066%2C%20127.1408885717733%5D%2C%20%5B37.54359657007439%2C%20127.13995061490215%5D%2C%20%5B37.54467199610466%2C%20127.14473916538756%5D%2C%20%5B37.53543783152399%2C%20127.12821374855534%5D%2C%20%5B37.528535936649206%2C%20126.89945899352334%5D%2C%20%5B37.58215875693316%2C%20127.02333336014564%5D%2C%20%5B37.609735572293516%2C%20127.03379546139365%5D%2C%20%5B37.547672237709065%2C%20126.83461437696987%5D%2C%20%5B37.545068867959614%2C%20126.83498223255597%5D%2C%20%5B37.597278585674914%2C%20126.91846959334855%5D%2C%20%5B37.58723272227392%2C%20126.91875228324986%5D%2C%20%5B37.58937469552123%2C%20126.91535321455112%5D%2C%20%5B37.551967166339004%2C%20127.01897828966563%5D%2C%20%5B37.537622591200055%2C%20127.05143635826545%5D%2C%20%5B37.54254227478098%2C%20127.05091923026812%5D%2C%20%5B37.56780282027202%2C%20127.03570077190325%5D%2C%20%5B37.61767639706798%2C%20127.0823795276146%5D%2C%20%5B37.54126021061521%2C%20127.08644805174575%5D%2C%20%5B37.55434945705717%2C%20127.08948485267979%5D%2C%20%5B37.49234878837477%2C%20126.98857911348834%5D%2C%20%5B37.51070050290515%2C%20126.91672023395091%5D%2C%20%5B37.5108280845805%2C%20126.91878993064196%5D%2C%20%5B37.49084543738971%2C%20126.89772293670566%5D%2C%20%5B37.4922707906067%2C%20126.89977901132875%5D%2C%20%5B37.49487162303815%2C%20126.90703539050102%5D%2C%20%5B37.475506764185795%2C%20126.97461966804877%5D%2C%20%5B37.58074593446554%2C%20126.91928010625362%5D%2C%20%5B37.53375683255819%2C%20126.90439622641117%5D%2C%20%5B37.47376805941593%2C%20126.97578467184921%5D%2C%20%5B37.49090403873706%2C%20126.92837772571455%5D%2C%20%5B37.46521151015654%2C%20126.93578356984986%5D%2C%20%5B37.46762701429291%2C%20126.93726233848%5D%2C%20%5B37.47458678472269%2C%20126.91481583952117%5D%2C%20%5B37.49835581369678%2C%20127.14850599116205%5D%2C%20%5B37.590044436293724%2C%20126.91965503245105%5D%2C%20%5B37.59343256257178%2C%20126.92024019033067%5D%2C%20%5B37.584537865967626%2C%20126.89480974368666%5D%2C%20%5B37.53159306042473%2C%20126.96915877089192%5D%2C%20%5B37.574793663038236%2C%20126.9614997861807%5D%2C%20%5B37.49446631799658%2C%20126.99041070772537%5D%2C%20%5B37.493131872549185%2C%20127.01782129209623%5D%2C%20%5B37.49806169167271%2C%20126.99724068456197%5D%2C%20%5B37.623866867576545%2C%20126.91861047881929%5D%2C%20%5B37.62503137494717%2C%20126.92191694847271%5D%2C%20%5B37.621431792074624%2C%20126.92881905649806%5D%2C%20%5B37.47367008477511%2C%20126.93235092119285%5D%2C%20%5B37.48671093896468%2C%20126.88898829845678%5D%2C%20%5B37.53875287040249%2C%20126.83498483761242%5D%2C%20%5B37.54431975680444%2C%20126.84060775770253%5D%2C%20%5B37.54892562431693%2C%20126.84880229622594%5D%2C%20%5B37.554566908542256%2C%20126.84961705470371%5D%2C%20%5B37.55591715445911%2C%20126.85583890983678%5D%2C%20%5B37.53767843262773%2C%20126.89638045096541%5D%2C%20%5B37.523282091004944%2C%20126.88831194844781%5D%2C%20%5B37.5060166996055%2C%20127.10419781434277%5D%2C%20%5B37.50474961206416%2C%20127.11045030267523%5D%2C%20%5B37.509913224762954%2C%20127.10953045361%5D%2C%20%5B37.50757497333033%2C%20127.11443562016443%5D%2C%20%5B37.51328438842683%2C%20127.11744174135637%5D%2C%20%5B37.506616065111956%2C%20127.0872789532716%5D%2C%20%5B37.51755230952695%2C%20127.0618066362595%5D%2C%20%5B37.61238679531008%2C%20126.97559255857297%5D%2C%20%5B37.57806583012162%2C%20126.96661508398311%5D%2C%20%5B37.54824964681428%2C%20126.93864330864662%5D%2C%20%5B37.5541984542804%2C%20126.94307475286763%5D%2C%20%5B37.5491828670791%2C%20126.97973234800662%5D%2C%20%5B37.55135437271263%2C%20127.06813794875671%5D%2C%20%5B37.5489777354088%2C%20127.06458244958485%5D%2C%20%5B37.545619583980304%2C%20127.05969110599031%5D%2C%20%5B37.54532048958671%2C%20127.06308560844326%5D%2C%20%5B37.548524010829325%2C%20127.052960230848%5D%2C%20%5B37.549464066545404%2C%20127.04574101356755%5D%2C%20%5B37.55935268559774%2C%20127.03144119955661%5D%2C%20%5B37.50449824191713%2C%20126.94109939439358%5D%2C%20%5B37.48386488832077%2C%20126.89020230760835%5D%2C%20%5B37.48074534599888%2C%20126.89796282579762%5D%2C%20%5B37.48326124071472%2C%20126.90040159424703%5D%2C%20%5B37.497786832818704%2C%20126.83041587356577%5D%2C%20%5B37.494232119246654%2C%20126.83340924439901%5D%2C%20%5B37.5118083664902%2C%20126.94740504451195%5D%2C%20%5B37.52458828502437%2C%20126.8880384972186%5D%2C%20%5B37.50797471757388%2C%20126.9383482932672%5D%2C%20%5B37.51112837344886%2C%20126.93861715479589%5D%2C%20%5B37.509822024081494%2C%20126.95982530447826%5D%2C%20%5B37.50796536154538%2C%20126.95811846491725%5D%2C%20%5B37.50810459326562%2C%20127.02810580861794%5D%2C%20%5B37.513124005299225%2C%20127.0244316346783%5D%2C%20%5B37.5146741270471%2C%20127.02244137305753%5D%2C%20%5B37.49118515571333%2C%20126.9314192099826%5D%2C%20%5B37.588720186412175%2C%20126.99499551162977%5D%2C%20%5B37.597113134269414%2C%20126.96776158738287%5D%2C%20%5B37.60671686753242%2C%20127.03513045722164%5D%2C%20%5B37.61881713783701%2C%20126.92591052773125%5D%2C%20%5B37.56563420237176%2C%20127.06980350897146%5D%2C%20%5B37.540759905214394%2C%20126.99080081108528%5D%2C%20%5B37.538013850635636%2C%20126.9582713852386%5D%2C%20%5B37.572032166670134%2C%20127.06826998124805%5D%2C%20%5B37.5657541240319%2C%20127.07962841954578%5D%2C%20%5B37.56188146686304%2C%20127.0771795435483%5D%2C%20%5B37.565211600271475%2C%20127.08243490693737%5D%2C%20%5B37.54613771535956%2C%20126.86032753259863%5D%2C%20%5B37.549030887354114%2C%20126.86114822828803%5D%2C%20%5B37.550328720157566%2C%20126.86148531733161%5D%2C%20%5B37.53384171648003%2C%20126.86257933721377%5D%2C%20%5B37.562848549245125%2C%20126.81283810817364%5D%2C%20%5B37.55499980612822%2C%20126.8179165512844%5D%2C%20%5B37.55778941533241%2C%20126.84042062307216%5D%2C%20%5B37.55711779039628%2C%20126.8435004363868%5D%2C%20%5B37.49497704388292%2C%20126.90366541603089%5D%2C%20%5B37.494656210873295%2C%20126.89716364080999%5D%2C%20%5B37.49708828302271%2C%20126.89642525220603%5D%2C%20%5B37.4996502162017%2C%20126.89999532756332%5D%2C%20%5B37.502459902172816%2C%20126.89829518094066%5D%2C%20%5B37.54131010357185%2C%20126.82755643989483%5D%2C%20%5B37.53794121981719%2C%20126.82814124670871%5D%2C%20%5B37.620449216165824%2C%20127.03052675499855%5D%2C%20%5B37.624171548545554%2C%20127.0252155640604%5D%2C%20%5B37.629776286552755%2C%20127.0222267078886%5D%2C%20%5B37.63319040007541%2C%20127.02532057322445%5D%2C%20%5B37.610934222349215%2C%20127.03260680126934%5D%2C%20%5B37.597379759458136%2C%20126.9215155531609%5D%2C%20%5B37.53921834856296%2C%20126.9508820962907%5D%2C%20%5B37.551949017262146%2C%20127.09434820796336%5D%2C%20%5B37.5560787847109%2C%20127.09025650562651%5D%2C%20%5B37.53147508823892%2C%20127.07352781381798%5D%2C%20%5B37.55795898585809%2C%20127.0818497130909%5D%2C%20%5B37.55612610575777%2C%20127.08723480754992%5D%2C%20%5B37.540499173830604%2C%20127.09200287370932%5D%2C%20%5B37.59805022046616%2C%20127.03203498879296%5D%2C%20%5B37.49450165309971%2C%20126.98391983489549%5D%2C%20%5B37.5798135648497%2C%20126.9131564410816%5D%2C%20%5B37.57807555442208%2C%20126.92788676457592%5D%2C%20%5B37.5607930636439%2C%20126.96427993677533%5D%2C%20%5B37.56281215576381%2C%20126.96724440652822%5D%2C%20%5B37.56926177746435%2C%20126.96219311867594%5D%2C%20%5B37.58699536892568%2C%20126.94452166020703%5D%2C%20%5B37.587733289802465%2C%20126.94265294606272%5D%2C%20%5B37.575851354133505%2C%20126.92997186695071%5D%2C%20%5B37.58665815636047%2C%20126.93686819928925%5D%2C%20%5B37.54651431858558%2C%20126.91532249033952%5D%2C%20%5B37.551659524717024%2C%20126.94712808466352%5D%2C%20%5B37.54819897202165%2C%20126.9455462556194%5D%2C%20%5B37.54086677878428%2C%20126.94993054397523%5D%2C%20%5B37.546883674830866%2C%20126.92890131857672%5D%2C%20%5B37.54583428173545%2C%20126.9373326461738%5D%2C%20%5B37.547002726696945%2C%20126.91796989496801%5D%2C%20%5B37.55670472717989%2C%20126.9154920409153%5D%2C%20%5B37.5820431508021%2C%20126.98640304593168%5D%2C%20%5B37.57321202796641%2C%20127.0225947669964%5D%2C%20%5B37.57566432787995%2C%20126.98841923610856%5D%2C%20%5B37.60236462727851%2C%20126.91212235890347%5D%2C%20%5B37.625205762341096%2C%20126.92691237046782%5D%2C%20%5B37.60366815833595%2C%20126.90830442407244%5D%2C%20%5B37.59420467811628%2C%20126.91628756952731%5D%2C%20%5B37.61388484476998%2C%20126.90762363578159%5D%2C%20%5B37.609066960788624%2C%20126.923587157231%5D%2C%20%5B37.55182750192173%2C%20127.13582406272815%5D%2C%20%5B37.4751342113078%2C%20126.96277192987763%5D%2C%20%5B37.4683564333269%2C%20126.92151499040331%5D%2C%20%5B37.47000607143584%2C%20126.9227115362593%5D%2C%20%5B37.47230252486518%2C%20126.92101345396968%5D%2C%20%5B37.48631801629657%2C%20126.91494951088137%5D%2C%20%5B37.50996769135637%2C%20127.03546962009622%5D%2C%20%5B37.510822042370435%2C%20127.04045799634706%5D%2C%20%5B37.51345153477814%2C%20127.04446350641692%5D%2C%20%5B37.51060142050874%2C%20127.05168926378853%5D%2C%20%5B37.51419743682947%2C%20127.04932772325263%5D%2C%20%5B37.52216341071906%2C%20127.04660670158077%5D%2C%20%5B37.49720024343009%2C%20127.05860085122286%5D%2C%20%5B37.5069106577437%2C%20126.8549605422035%5D%2C%20%5B37.48269050762585%2C%20126.99748998969146%5D%2C%20%5B37.48510624478322%2C%20127.04348563163788%5D%2C%20%5B37.48607663160861%2C%20127.12370836315033%5D%2C%20%5B37.48589262937303%2C%20127.03603488345209%5D%2C%20%5B37.498913818960126%2C%20126.92809866513795%5D%2C%20%5B37.495700139276714%2C%20127.01496089901845%5D%2C%20%5B37.495830835212956%2C%20126.89081805797059%5D%2C%20%5B37.497920073164735%2C%20127.06053519233129%5D%2C%20%5B37.520146356226434%2C%20126.90902888976841%5D%2C%20%5B37.522435983400236%2C%20127.04044164210735%5D%2C%20%5B37.52164046191988%2C%20126.85366506550412%5D%2C%20%5B37.52054760665096%2C%20126.92920911701019%5D%2C%20%5B37.52353291193082%2C%20127.04666411605305%5D%2C%20%5B37.52376624753793%2C%20127.04894939598123%5D%2C%20%5B37.52248418210765%2C%20127.0549554182214%5D%2C%20%5B37.52312320024629%2C%20127.05642650543831%5D%2C%20%5B37.52258426930727%2C%20126.89368636193032%5D%2C%20%5B37.52510852377882%2C%20127.04947065948295%5D%2C%20%5B37.52368992835649%2C%20126.92566532469993%5D%2C%20%5B37.55773690000004%2C%20126.95880363785263%5D%2C%20%5B37.517098098591134%2C%20126.90537896348607%5D%2C%20%5B37.52144614057811%2C%20126.90074678556344%5D%2C%20%5B37.50983927867635%2C%20126.8984661365042%5D%2C%20%5B37.517391917131064%2C%20126.90109150291707%5D%2C%20%5B37.52286131321304%2C%20126.89119723934266%5D%2C%20%5B37.51107052516713%2C%20126.91759074128036%5D%2C%20%5B37.50627144836403%2C%20126.9097469430331%5D%2C%20%5B37.485855189036606%2C%20126.93869437270735%5D%2C%20%5B37.48654379165944%2C%20126.94659735543993%5D%2C%20%5B37.484303576544406%2C%20126.95446833990101%5D%2C%20%5B37.474495400256814%2C%20126.96576810288272%5D%2C%20%5B37.600987505498445%2C%20127.03183241205195%5D%2C%20%5B37.58821940070667%2C%20127.09884363161932%5D%2C%20%5B37.59156194853936%2C%20127.07448138863825%5D%2C%20%5B37.603899778262225%2C%20127.02288716224002%5D%2C%20%5B37.60838175461897%2C%20127.06180244088785%5D%2C%20%5B37.61022088497692%2C%20127.05964076758927%5D%2C%20%5B37.61352070320366%2C%20126.91461230685692%5D%2C%20%5B37.521422323272915%2C%20127.02406103782943%5D%2C%20%5B37.52525100984268%2C%20126.87505045094649%5D%2C%20%5B37.526132525214656%2C%20127.13448779256477%5D%2C%20%5B37.52530933086134%2C%20127.04285281544146%5D%2C%20%5B37.526002462454734%2C%20126.89752789095012%5D%2C%20%5B37.52507888606357%2C%20127.03057835407243%5D%2C%20%5B37.57373661074855%2C%20126.99392110467875%5D%2C%20%5B37.57684164134083%2C%20126.9710193332887%5D%2C%20%5B37.57829506393903%2C%20126.98682259686088%5D%2C%20%5B37.57746584199684%2C%20126.984309554815%5D%2C%20%5B37.57744578237712%2C%20126.97302285670364%5D%2C%20%5B37.580701163008214%2C%20127.04685826916042%5D%2C%20%5B37.580343931172585%2C%20126.89007210424492%5D%2C%20%5B37.58233221016945%2C%20127.00313602901554%5D%2C%20%5B37.48264109585288%2C%20126.92723236679794%5D%2C%20%5B37.562325492001655%2C%20126.92680406595656%5D%2C%20%5B37.56363623278709%2C%20126.8964350575244%5D%2C%20%5B37.590896072693326%2C%20126.94327326787227%5D%2C%20%5B37.59892649466034%2C%20126.94894045405161%5D%2C%20%5B37.57078727706568%2C%20126.9154648122609%5D%2C%20%5B37.576973327344845%2C%20126.92311053835193%5D%2C%20%5B37.54453507017073%2C%20126.95290411590213%5D%2C%20%5B37.54515688539801%2C%20126.95322056654099%5D%2C%20%5B37.55655515820867%2C%20126.95487711502548%5D%2C%20%5B37.545256562697425%2C%20126.93533023436349%5D%2C%20%5B37.55339322966758%2C%20126.92153907019247%5D%2C%20%5B37.55342317415336%2C%20126.9128475622764%5D%2C%20%5B37.54824270634102%2C%20126.91321571394744%5D%2C%20%5B37.556301164837045%2C%20126.9060650512631%5D%2C%20%5B37.54713500588048%2C%20126.9680094448663%5D%2C%20%5B37.54948634768875%2C%20126.96704654306637%5D%2C%20%5B37.552081291755876%2C%20126.96729437074947%5D%2C%20%5B37.535830833660924%2C%20127.08130506104884%5D%2C%20%5B37.543020659532004%2C%20127.01621505009958%5D%2C%20%5B37.54093970867538%2C%20127.01335186835556%5D%2C%20%5B37.5472544910565%2C%20127.06872265367673%5D%2C%20%5B37.52611313953564%2C%20127.03719682412944%5D%2C%20%5B37.52745057202793%2C%20126.91732383690497%5D%2C%20%5B37.5297911780406%2C%20126.96962336458623%5D%2C%20%5B37.529254558111724%2C%20126.92020675631002%5D%2C%20%5B37.52967130494357%2C%20126.96036901949611%5D%2C%20%5B37.53238055868387%2C%20126.99028140328255%5D%2C%20%5B37.53308783278587%2C%20126.96592236399441%5D%2C%20%5B37.5324919471084%2C%20126.8640752430311%5D%2C%20%5B37.5331376349698%2C%20127.00623399409143%5D%2C%20%5B37.58383690352655%2C%20126.99868669065837%5D%2C%20%5B37.58298997678076%2C%20127.00026039459195%5D%2C%20%5B37.58582438415557%2C%20127.02964082093199%5D%2C%20%5B37.592375793905326%2C%20127.0521873625993%5D%2C%20%5B37.591295798803905%2C%20127.01773144531104%5D%2C%20%5B37.60729496817233%2C%20127.02979656631537%5D%2C%20%5B37.56542932908629%2C%20126.99216735868663%5D%2C%20%5B37.56562770958554%2C%20127.00482184111223%5D%2C%20%5B37.537224158914064%2C%20127.12603309416232%5D%2C%20%5B37.55812966295797%2C%20126.90540632714048%5D%2C%20%5B37.52289278529112%2C%20126.83322110262583%5D%2C%20%5B37.52091147699331%2C%20126.85433390357734%5D%2C%20%5B37.52115300438805%2C%20126.87652786415516%5D%2C%20%5B37.518720392897634%2C%20126.85300337322856%5D%2C%20%5B37.54628746759511%2C%20126.87327269199903%5D%2C%20%5B37.5486118161891%2C%20126.86493996412445%5D%2C%20%5B37.57248291567694%2C%20127.01862125723245%5D%2C%20%5B37.63970143730703%2C%20127.0370041198399%5D%2C%20%5B37.638565494331445%2C%20127.03917890321948%5D%2C%20%5B37.67027023397148%2C%20127.04160986646488%5D%2C%20%5B37.61527833797514%2C%20126.91559569338234%5D%2C%20%5B37.617883187574144%2C%20126.9169972708041%5D%2C%20%5B37.6162104283088%2C%20126.92149576504762%5D%2C%20%5B37.62050549616045%2C%20126.91761735084197%5D%2C%20%5B37.621879508885414%2C%20126.92435563537262%5D%2C%20%5B37.59641834662928%2C%20126.91246905838028%5D%2C%20%5B37.56239313229062%2C%20127.00483295102657%5D%2C%20%5B37.53396660171813%2C%20126.99470500630214%5D%2C%20%5B37.53299502410429%2C%20126.95756140332672%5D%2C%20%5B37.53578380626318%2C%20127.09594579196927%5D%2C%20%5B37.534401436510095%2C%20126.89943980564207%5D%2C%20%5B37.53514921107346%2C%20126.9598343502998%5D%2C%20%5B37.53464617134183%2C%20126.96458658036106%5D%2C%20%5B37.53603024424155%2C%20127.13819405734606%5D%2C%20%5B37.52064580299694%2C%20127.03115346079875%5D%2C%20%5B37.53545679215062%2C%20126.90084136296099%5D%2C%20%5B37.5383175876603%2C%20127.12297995481092%5D%2C%20%5B37.56783346248198%2C%20126.97946695387179%5D%2C%20%5B37.56439898859327%2C%20126.97139767081269%5D%2C%20%5B37.56730345995025%2C%20127.00688203068009%5D%2C%20%5B37.568001540525145%2C%20126.96599701842904%5D%2C%20%5B37.5692849591627%2C%20126.98548849171972%5D%2C%20%5B37.569590681504245%2C%20126.98113043437411%5D%2C%20%5B37.56912099259995%2C%20126.97484828351335%5D%2C%20%5B37.569249385228055%2C%20126.98997099045238%5D%2C%20%5B37.65578880260641%2C%20127.01531027271143%5D%2C%20%5B37.648424271229416%2C%20127.03256652711916%5D%2C%20%5B37.66531685994615%2C%20127.03543007328953%5D%2C%20%5B37.62232983491129%2C%20127.07590535261178%5D%2C%20%5B37.66494510620511%2C%20127.07785282932137%5D%2C%20%5B37.65977840010375%2C%20127.0699935590849%5D%2C%20%5B37.524752567893586%2C%20126.84249336482793%5D%2C%20%5B37.53389342965823%2C%20126.82656656654997%5D%2C%20%5B37.518422056675405%2C%20126.84516492854235%5D%2C%20%5B37.5180402276155%2C%20126.84258665601156%5D%2C%20%5B37.5492213591063%2C%20127.14529114835729%5D%2C%20%5B37.54545708931707%2C%20127.07592918297232%5D%2C%20%5B37.54383724031285%2C%20127.08621340020343%5D%2C%20%5B37.54567404210782%2C%20127.0878902619949%5D%2C%20%5B37.54302417421869%2C%20127.08913185113586%5D%2C%20%5B37.556652011717745%2C%20126.9789946865649%5D%2C%20%5B37.563688619999134%2C%20127.0219806870213%5D%2C%20%5B37.52177596888278%2C%20126.99319002668486%5D%2C%20%5B37.53175902735252%2C%20126.992465038759%5D%2C%20%5B37.519123686087624%2C%20126.9033176502657%5D%2C%20%5B37.519021180008956%2C%20126.93864462543911%5D%2C%20%5B37.503163935785786%2C%20127.03916458764914%5D%2C%20%5B37.537990259627755%2C%20127.08551647174467%5D%2C%20%5B37.53849506058198%2C%20127.07161119527795%5D%2C%20%5B37.54004697841197%2C%20127.06789004263021%5D%2C%20%5B37.539421721920434%2C%20127.12685146616113%5D%2C%20%5B37.53985658258465%2C%20126.947453239336%5D%2C%20%5B37.562167212833174%2C%20127.0666084994249%5D%2C%20%5B37.55967195595673%2C%20126.84002047948114%5D%2C%20%5B37.56277561284034%2C%20127.03452125471159%5D%2C%20%5B37.56160640625744%2C%20126.97357184570602%5D%2C%20%5B37.60785391153568%2C%20127.02846040727952%5D%2C%20%5B37.609494017226275%2C%20126.9293514089332%5D%2C%20%5B37.57033997930235%2C%20127.00293177353281%5D%2C%20%5B37.57199739058875%2C%20127.01038029305984%5D%2C%20%5B37.61037783839104%2C%20126.93078893073027%5D%2C%20%5B37.6110251930763%2C%20126.92851185501709%5D%2C%20%5B37.611540291124236%2C%20127.05120407843764%5D%2C%20%5B37.62131736266813%2C%20127.04799382658258%5D%2C%20%5B37.608214993932194%2C%20127.0526740910292%5D%2C%20%5B37.60897712863277%2C%20127.06040990437167%5D%2C%20%5B37.60976015476928%2C%20127.06201876707541%5D%2C%20%5B37.6358562056237%2C%20127.03005721717192%5D%2C%20%5B37.63116369707503%2C%20127.02279356147206%5D%2C%20%5B37.608798031134796%2C%20127.03553915097254%5D%2C%20%5B37.64641790068386%2C%20127.01986346098334%5D%2C%20%5B37.642326306719056%2C%20127.02569758036077%5D%2C%20%5B37.64033601698045%2C%20127.02124412605004%5D%2C%20%5B37.53350693053599%2C%20126.99187653389038%5D%2C%20%5B37.53510145989507%2C%20126.98890071042021%5D%2C%20%5B37.53788551143475%2C%20126.98848165457555%5D%2C%20%5B37.5311464419847%2C%20127.0058491638174%5D%2C%20%5B37.560047850983615%2C%20127.08391187928045%5D%2C%20%5B37.56520463235324%2C%20127.06469832491446%5D%2C%20%5B37.56382391111881%2C%20127.06859072957195%5D%2C%20%5B37.580094006712415%2C%20127.05495244963285%5D%2C%20%5B37.56320616309473%2C%20127.06143686641278%5D%2C%20%5B37.561213307613876%2C%20126.81005792356302%5D%2C%20%5B37.5422165192116%2C%20126.97181349916802%5D%2C%20%5B37.540145902482955%2C%20126.98007424505472%5D%2C%20%5B37.5451470462594%2C%20126.95117241695094%5D%2C%20%5B37.54533677328226%2C%20126.95243966350286%5D%2C%20%5B37.54789234072341%2C%20127.07184650807413%5D%2C%20%5B37.612637575175675%2C%20127.03080671151173%5D%2C%20%5B37.57134842884826%2C%20127.01287054611977%5D%2C%20%5B37.571507714415674%2C%20127.0714390363011%5D%2C%20%5B37.573321439742294%2C%20127.01433117083198%5D%2C%20%5B37.57224685728405%2C%20126.97222102081379%5D%2C%20%5B37.57423885036018%2C%20127.02416858208171%5D%2C%20%5B37.57431145899912%2C%20127.02142911961398%5D%2C%20%5B37.645004153410376%2C%20127.01436759339421%5D%2C%20%5B37.636327448161275%2C%20127.01609935005759%5D%2C%20%5B37.620163290436%2C%20127.01917684551678%5D%2C%20%5B37.61231256160675%2C%20127.03323033015705%5D%2C%20%5B37.61353895874247%2C%20127.02925540308668%5D%2C%20%5B37.61937934904739%2C%20127.01967503301859%5D%2C%20%5B37.534559954145735%2C%20126.83914637585305%5D%2C%20%5B37.54452130721962%2C%20126.83645447684854%5D%2C%20%5B37.53298295263819%2C%20126.86018235933966%5D%2C%20%5B37.50917765749701%2C%20127.0241815207913%5D%2C%20%5B37.509895941927546%2C%20127.03434985115916%5D%2C%20%5B37.52236575182341%2C%20127.05768160424999%5D%2C%20%5B37.57055173004652%2C%20127.05653018478672%5D%2C%20%5B37.5664149095073%2C%20127.05908515099729%5D%2C%20%5B37.58881217895637%2C%20127.04129274015106%5D%2C%20%5B37.610890461524406%2C%20127.05371794515982%5D%2C%20%5B37.61260043009234%2C%20127.05776255355016%5D%2C%20%5B37.617443799401606%2C%20127.04628100119824%5D%2C%20%5B37.551899020354725%2C%20127.14390438098211%5D%2C%20%5B37.549990857086634%2C%20126.86539013592267%5D%2C%20%5B37.5534353171349%2C%20127.1545227012491%5D%2C%20%5B37.5541846519714%2C%20127.01080787340436%5D%2C%20%5B37.554310875799594%2C%20127.00984593269446%5D%2C%20%5B37.55447276086392%2C%20126.91907079194077%5D%2C%20%5B37.55268515079322%2C%20126.85066199138123%5D%2C%20%5B37.55425776075019%2C%20126.93574119173559%5D%2C%20%5B37.559009679053744%2C%20127.03371594814102%5D%2C%20%5B37.57350250845509%2C%20126.99981887891859%5D%2C%20%5B37.57292430335779%2C%20126.98075603397336%5D%2C%20%5B37.57261042876589%2C%20127.00473173180993%5D%2C%20%5B37.573538507045505%2C%20126.99687565984179%5D%2C%20%5B37.573096147895775%2C%20126.98531795215405%5D%2C%20%5B37.55213181853304%2C%20126.9215177589102%5D%2C%20%5B37.55093401002546%2C%20127.12913430378785%5D%2C%20%5B37.555547082118686%2C%20127.13715494248555%5D%2C%20%5B37.54247949612506%2C%20127.13198250835251%5D%2C%20%5B37.54208726998978%2C%20127.12815724265194%5D%2C%20%5B37.54114174964374%2C%20127.12766907211567%5D%2C%20%5B37.5338617579681%2C%20127.12758877674172%5D%2C%20%5B37.527726182420885%2C%20127.13546358351955%5D%2C%20%5B37.602198562651196%2C%20127.01152825369557%5D%2C%20%5B37.55779370036825%2C%20127.16943708416304%5D%2C%20%5B37.60826248857603%2C%20127.00841472283504%5D%2C%20%5B37.602944883916614%2C%20127.02207150374002%5D%2C%20%5B37.60742588348046%2C%20127.06335320307329%5D%2C%20%5B37.5928281670956%2C%20127.01238735565101%5D%2C%20%5B37.594017130592576%2C%20127.01533157804245%5D%2C%20%5B37.59429564847353%2C%20127.02052899152012%5D%2C%20%5B37.589206476554295%2C%20127.0091145686545%5D%2C%20%5B37.58847678364256%2C%20127.00754067511231%5D%2C%20%5B37.583781586948994%2C%20126.90615507052469%5D%2C%20%5B37.58594517289959%2C%20126.90768081735715%5D%2C%20%5B37.56066325181778%2C%20126.99606129257226%5D%2C%20%5B37.56280746670614%2C%20126.9927448740907%5D%2C%20%5B37.562868636730556%2C%20126.97761208939609%5D%2C%20%5B37.56469844803884%2C%20127.0177477768051%5D%2C%20%5B37.56458106969132%2C%20126.9806676306135%5D%2C%20%5B37.56265346897513%2C%20126.98424475124476%5D%2C%20%5B37.57577934050503%2C%20127.02517659661547%5D%2C%20%5B37.572096513877035%2C%20126.98977817114893%5D%2C%20%5B37.55735732147435%2C%20126.92109352670089%5D%2C%20%5B37.55731374796758%2C%20126.92333446050796%5D%2C%20%5B37.55757406448483%2C%20126.93691538021643%5D%2C%20%5B37.55815454767511%2C%20126.9445770033612%5D%2C%20%5B37.55986362680572%2C%20127.0401110047552%5D%2C%20%5B37.56025774806399%2C%20127.00534212594894%5D%2C%20%5B37.55970730840533%2C%20126.98500367628748%5D%2C%20%5B37.557025579911674%2C%20127.06094513612403%5D%2C%20%5B37.588604623414525%2C%20127.07769398957878%5D%2C%20%5B37.59397078080393%2C%20127.08320262607371%5D%2C%20%5B37.50368414690677%2C%20126.93501551429384%5D%2C%20%5B37.50104285410253%2C%20126.95088449592812%5D%2C%20%5B37.48130531480553%2C%20127.03971848311485%5D%2C%20%5B37.482419993139004%2C%20127.00750739114912%5D%2C%20%5B37.539739232171726%2C%20126.86692477140046%5D%2C%20%5B37.58000450575789%2C%20126.90377107036376%5D%2C%20%5B37.607060366704275%2C%20126.9277342144779%5D%2C%20%5B37.60336944901489%2C%20126.91871208747018%5D%2C%20%5B37.610708119369015%2C%20126.92571471010943%5D%2C%20%5B37.546839271986116%2C%20126.97457287097093%5D%2C%20%5B37.49756094530639%2C%20127.03513580196903%5D%2C%20%5B37.49823702924885%2C%20126.89136868065157%5D%2C%20%5B37.500992285393934%2C%20127.03984200001061%5D%2C%20%5B37.50169773583195%2C%20126.88282521165559%5D%2C%20%5B37.50305309570303%2C%20127.04665136697915%5D%2C%20%5B37.500852279982624%2C%20127.02460858111792%5D%2C%20%5B37.504599800535196%2C%20127.1067970648228%5D%2C%20%5B37.505382221328844%2C%20127.10839285676943%5D%2C%20%5B37.51287005026375%2C%20126.94413544871195%5D%2C%20%5B37.5654064785061%2C%20126.96533038633753%5D%2C%20%5B37.56674415130659%2C%20127.01451101537104%5D%2C%20%5B37.567375458126826%2C%20126.99183889984383%5D%2C%20%5B37.613241741161524%2C%20127.02881356920899%5D%2C%20%5B37.61799386836105%2C%20126.92072366711517%5D%2C%20%5B37.619110055177416%2C%20126.91919334022509%5D%2C%20%5B37.63755102369121%2C%20127.0259905098279%5D%2C%20%5B37.63867753228151%2C%20127.02469928811556%5D%2C%20%5B37.64048932162238%2C%20127.06834390645679%5D%2C%20%5B37.56949290492456%2C%20126.99357054630521%5D%2C%20%5B37.5724652233214%2C%20127.01641387029004%5D%2C%20%5B37.497292644093235%2C%20126.92915191479477%5D%2C%20%5B37.49581682480193%2C%20126.93227440783444%5D%2C%20%5B37.50964926053424%2C%20126.93585862453325%5D%2C%20%5B37.503416369379046%2C%20126.92413603125908%5D%2C%20%5B37.57908494504986%2C%20126.97032788817815%5D%2C%20%5B37.5390926304854%2C%20126.83962317807557%5D%2C%20%5B37.54267387376025%2C%20126.83617562763787%5D%2C%20%5B37.54066471946812%2C%20126.96414244508179%5D%2C%20%5B37.53701709674336%2C%20126.96920179536595%5D%2C%20%5B37.522226568276366%2C%20126.99518095335578%5D%2C%20%5B37.54409306555162%2C%20126.9854481136523%5D%2C%20%5B37.54708411245787%2C%20126.98339932333285%5D%2C%20%5B37.58764276076928%2C%20127.03554041245376%5D%2C%20%5B37.59845563809562%2C%20127.05621157396709%5D%2C%20%5B37.5721293920996%2C%20127.02917127826196%5D%2C%20%5B37.51414853328456%2C%20127.10889191070606%5D%2C%20%5B37.51434827848273%2C%20127.02923926253403%5D%2C%20%5B37.513233149366116%2C%20127.01884405684132%5D%2C%20%5B37.51537059547255%2C%20127.10251412658317%5D%2C%20%5B37.515696832760256%2C%20127.03939736285625%5D%2C%20%5B37.51552764185954%2C%20127.032859340062%5D%2C%20%5B37.51479713410461%2C%20126.94192832963913%5D%2C%20%5B37.51425716032486%2C%20127.03309631639786%5D%2C%20%5B37.51647697852127%2C%20127.01744225292678%5D%2C%20%5B37.652806377355745%2C%20127.04899997749135%5D%2C%20%5B37.65411533094399%2C%20127.0626902470538%5D%2C%20%5B37.65463985123022%2C%20127.05890567576205%5D%2C%20%5B37.65601649888629%2C%20127.0625105241541%5D%2C%20%5B37.570421097077954%2C%20127.0013923109485%5D%2C%20%5B37.62069666168165%2C%20126.92047159847978%5D%2C%20%5B37.64085736435166%2C%20127.0272040015457%5D%2C%20%5B37.545502421516225%2C%20127.08846716777747%5D%2C%20%5B37.56730095286713%2C%20127.05259999071382%5D%2C%20%5B37.57364133312369%2C%20127.05819657291528%5D%2C%20%5B37.57808652423727%2C%20127.06883022580342%5D%2C%20%5B37.58011691623963%2C%20127.04318987696023%5D%2C%20%5B37.522681178005406%2C%20126.85739611676023%5D%2C%20%5B37.500306850986235%2C%20126.93775522087222%5D%2C%20%5B37.48900863315044%2C%20126.91035569603737%5D%2C%20%5B37.49659776645976%2C%20126.94386486112785%5D%2C%20%5B37.58813731822375%2C%20126.91124462810645%5D%2C%20%5B37.589972834790295%2C%20126.90797022923144%5D%2C%20%5B37.57627313855811%2C%20127.03235395138553%5D%2C%20%5B37.575233644358136%2C%20127.0428700872885%5D%2C%20%5B37.59750614234382%2C%20127.06305037536431%5D%2C%20%5B37.587627717199915%2C%20127.02367473340867%5D%2C%20%5B37.58731321683225%2C%20127.01898726015551%5D%2C%20%5B37.587995816286835%2C%20127.02948317032062%5D%2C%20%5B37.583887288845645%2C%20127.02948154992718%5D%2C%20%5B37.51687761404692%2C%20127.03797273360779%5D%2C%20%5B37.51724614982384%2C%20126.91036717468776%5D%2C%20%5B37.516899383447836%2C%20127.02358450208524%5D%2C%20%5B37.51570497175981%2C%20126.89865048270202%5D%2C%20%5B37.51829003889983%2C%20126.90870310352355%5D%2C%20%5B37.50406854038104%2C%20127.05303059892454%5D%2C%20%5B37.506211765399414%2C%20127.10771546251011%5D%2C%20%5B37.505961915174254%2C%20127.0501366139763%5D%2C%20%5B37.591112860117384%2C%20127.05557197790903%5D%2C%20%5B37.59470239435596%2C%20127.0660939710493%5D%2C%20%5B37.60455222823275%2C%20127.06241081007137%5D%2C%20%5B37.59243435616141%2C%20127.07690536552167%5D%2C%20%5B37.58990176352666%2C%20127.09072759033637%5D%2C%20%5B37.57790491668717%2C%20127.08483757281584%5D%2C%20%5B37.56008223294128%2C%20126.9675964607861%5D%2C%20%5B37.570206975507475%2C%20127.04036558148313%5D%2C%20%5B37.5609559222069%2C%20127.03339991642562%5D%2C%20%5B37.54854279302089%2C%20127.02229309489861%5D%2C%20%5B37.53821587578757%2C%20127.05450305757522%5D%2C%20%5B37.659391247274804%2C%20127.02417349329981%5D%2C%20%5B37.6597391098479%2C%20127.0376147199963%5D%2C%20%5B37.664433318720725%2C%20127.03731107439158%5D%2C%20%5B37.65090565207283%2C%20127.0138927944061%5D%2C%20%5B37.67289178170676%2C%20127.04246146636115%5D%2C%20%5B37.66426319465528%2C%20127.03378616624471%5D%2C%20%5B37.65019196760325%2C%20127.02536033944621%5D%2C%20%5B37.589069888712466%2C%20127.02056152342301%5D%2C%20%5B37.58293398628817%2C%20127.02135234042038%5D%2C%20%5B37.56389928147714%2C%20127.06267116438009%5D%2C%20%5B37.56275063990482%2C%20127.07043465104928%5D%2C%20%5B37.56702426272566%2C%20127.06539036288811%5D%2C%20%5B37.57736673299129%2C%20127.06708618306541%5D%2C%20%5B37.61256006404193%2C%20127.01022736468003%5D%2C%20%5B37.58004188788442%2C%20127.02084206689122%5D%2C%20%5B37.50203121152806%2C%20127.03054633381461%5D%2C%20%5B37.50474704248736%2C%20127.00585841327658%5D%2C%20%5B37.50494572617329%2C%20127.04531799918914%5D%2C%20%5B37.50667793699713%2C%20127.06036130395252%5D%2C%20%5B37.49603052520305%2C%20127.03048734774165%5D%2C%20%5B37.49548836626893%2C%20126.84279231806514%5D%2C%20%5B37.49902736333295%2C%20127.06235680520315%5D%2C%20%5B37.563606981029494%2C%20127.05234838492093%5D%2C%20%5B37.57735995363058%2C%20127.042973192155%5D%2C%20%5B37.578481256301714%2C%20127.02976243882634%5D%2C%20%5B37.57822543442258%2C%20127.04150198792094%5D%2C%20%5B37.57930747265717%2C%20127.03902330140541%5D%2C%20%5B37.57985626500525%2C%20127.0414123248943%5D%2C%20%5B37.58213708424979%2C%20127.03750771415709%5D%2C%20%5B37.58107268555848%2C%20127.04118657439247%5D%2C%20%5B37.5807838531397%2C%20127.04263552493434%5D%2C%20%5B37.57944216868575%2C%20127.04037056666714%5D%2C%20%5B37.57770553283901%2C%20127.05672804457532%5D%2C%20%5B37.56677510875752%2C%20127.0594816021787%5D%2C%20%5B37.54353267640729%2C%20127.06989605257513%5D%2C%20%5B37.590745808586%2C%20127.0201317226878%5D%2C%20%5B37.58680979195958%2C%20127.00966905845232%5D%2C%20%5B37.58469252997415%2C%20127.00875172189099%5D%2C%20%5B37.584403971698485%2C%20127.01154815247764%5D%2C%20%5B37.53071409672036%2C%20126.99850660509166%5D%2C%20%5B37.533191750440004%2C%20126.95359008797688%5D%2C%20%5B37.53482377237657%2C%20126.95677968602872%5D%2C%20%5B37.58720469334632%2C%20127.02135356029717%5D%2C%20%5B37.58816964537452%2C%20127.01568136950489%5D%2C%20%5B37.48597765914372%2C%20126.9808235857054%5D%2C%20%5B37.486436139402514%2C%20126.9302137115341%5D%2C%20%5B37.48862343831305%2C%20127.03346945025531%5D%2C%20%5B37.49098505346684%2C%20127.02982945599554%5D%2C%20%5B37.48956732297291%2C%20126.85579690602577%5D%2C%20%5B37.490790031276504%2C%20127.01156764763162%5D%2C%20%5B37.49906475931724%2C%20127.0597331901952%5D%2C%20%5B37.49975746322555%2C%20127.06181458398488%5D%2C%20%5B37.4981757139442%2C%20127.05358055707585%5D%2C%20%5B37.54169481234147%2C%20127.06960014021577%5D%2C%20%5B37.54054031359572%2C%20126.94518974329746%5D%2C%20%5B37.542939770927525%2C%20126.95159252793033%5D%2C%20%5B37.50754369288381%2C%20127.03644114171418%5D%2C%20%5B37.50844506812788%2C%20127.03522007445697%5D%2C%20%5B37.50835126987693%2C%20127.06513556420268%5D%2C%20%5B37.54295657610216%2C%20127.06897896366658%5D%2C%20%5B37.56381589690654%2C%20127.08122227894687%5D%2C%20%5B37.571069232038916%2C%20127.08075472787203%5D%2C%20%5B37.557882207018466%2C%20127.08836862482477%5D%2C%20%5B37.53425519432588%2C%20127.0796741157871%5D%2C%20%5B37.531851684331734%2C%20127.07640188035896%5D%2C%20%5B37.53659779184103%2C%20127.06496777853715%5D%2C%20%5B37.535110151175616%2C%20127.06674282679104%5D%2C%20%5B37.53803092517618%2C%20127.06397332818047%5D%2C%20%5B37.55986846331072%2C%20126.97839392940769%5D%2C%20%5B37.56560077788206%2C%20127.00026033405094%5D%2C%20%5B37.56325808472952%2C%20126.9950651264428%5D%2C%20%5B37.56887111952541%2C%20127.00803675030764%5D%2C%20%5B37.53733049201621%2C%20126.962446852187%5D%2C%20%5B37.54127869587753%2C%20126.96870217399656%5D%2C%20%5B37.52582235495916%2C%20126.9556649066854%5D%2C%20%5B37.53597578998269%2C%20126.9938110272278%5D%2C%20%5B37.53990099747857%2C%20127.08465871524909%5D%2C%20%5B37.53934931787935%2C%20127.08749813117429%5D%2C%20%5B37.54273310165684%2C%20127.09270717418437%5D%2C%20%5B37.49117227142047%2C%20126.92504171914183%5D%2C%20%5B37.4916961484238%2C%20127.03248705054254%5D%2C%20%5B37.493288262855124%2C%20127.06176402022076%5D%2C%20%5B37.47816587022181%2C%20126.98056555160662%5D%2C%20%5B37.481872767274155%2C%20126.88001831527892%5D%2C%20%5B37.47817528262151%2C%20126.98318846514128%5D%2C%20%5B37.48073475833174%2C%20126.95237888491067%5D%2C%20%5B37.4808087471651%2C%20126.88836389120875%5D%2C%20%5B37.506772411794465%2C%20127.02194136821261%5D%2C%20%5B37.510206048895434%2C%20127.08170705738294%5D%2C%20%5B37.51066651445342%2C%20127.04683707408867%5D%2C%20%5B37.50806925695847%2C%20127.02497287577978%5D%2C%20%5B37.50830905050998%2C%20126.89005341254958%5D%2C%20%5B37.51137390833691%2C%20127.09807487617543%5D%2C%20%5B37.56803346704921%2C%20127.0001245116387%5D%2C%20%5B37.58067959801361%2C%20126.96990837264661%5D%2C%20%5B37.569970606126326%2C%20126.99941138428245%5D%2C%20%5B37.57042082785713%2C%20127.00809351482725%5D%2C%20%5B37.57036692670716%2C%20127.00529756952639%5D%2C%20%5B37.57410603671966%2C%20127.00571668026423%5D%2C%20%5B37.570537710296215%2C%20127.01112718531732%5D%2C%20%5B37.57285322980232%2C%20127.0115237287406%5D%2C%20%5B37.572662717784326%2C%20127.02098716952338%5D%2C%20%5B37.550632831653395%2C%20126.97628039005014%5D%2C%20%5B37.54525530656243%2C%20126.98506315071423%5D%2C%20%5B37.55128735486901%2C%20126.96367337165762%5D%2C%20%5B37.53654590718111%2C%20126.96026355135787%5D%2C%20%5B37.52060216517497%2C%20126.97476277019915%5D%2C%20%5B37.53389416451649%2C%20126.98939870878053%5D%2C%20%5B37.54628821661367%2C%20127.10782968128034%5D%2C%20%5B37.562704962308366%2C%20127.08506933925977%5D%2C%20%5B37.55656029984122%2C%20127.0848812735163%5D%2C%20%5B37.53391961280386%2C%20127.08288695723225%5D%2C%20%5B37.606136933117284%2C%20127.04486969357842%5D%2C%20%5B37.61465502502365%2C%20127.05706191208294%5D%2C%20%5B37.60382034084607%2C%20127.01157380260076%5D%2C%20%5B37.47843725502126%2C%20126.8864341433713%5D%2C%20%5B37.48387123577071%2C%20126.95484171774832%5D%2C%20%5B37.48195644871718%2C%20127.0317592337244%5D%2C%20%5B37.452943165976684%2C%20126.90151548643851%5D%2C%20%5B37.46195288464275%2C%20127.03572950785127%5D%2C%20%5B37.46448435173673%2C%20127.0369515023419%5D%2C%20%5B37.466798926021674%2C%20127.04009514194523%5D%2C%20%5B37.470013027610726%2C%20126.89647392543884%5D%2C%20%5B37.47045748675511%2C%20126.9397582692801%5D%2C%20%5B37.50896055541883%2C%20127.05400674639628%5D%2C%20%5B37.50973437396545%2C%20127.05624676889406%5D%2C%20%5B37.51210637798919%2C%20127.02184113245826%5D%2C%20%5B37.511964209812604%2C%20127.04620448208236%5D%2C%20%5B37.512618291870304%2C%20127.02947611581212%5D%2C%20%5B37.51107514837405%2C%20127.05975407071885%5D%2C%20%5B37.511703690470064%2C%20127.06388298678927%5D%2C%20%5B37.49350556247691%2C%20127.05970614658726%5D%2C%20%5B37.49331307953432%2C%20127.00894459146538%5D%2C%20%5B37.49393806173698%2C%20127.11918680395776%5D%2C%20%5B37.53914684239876%2C%20126.98779125338027%5D%2C%20%5B37.52701999855625%2C%20127.00037333031572%5D%2C%20%5B37.56916822669786%2C%20127.010810038063%5D%2C%20%5B37.56924908729413%2C%20127.01307393450413%5D%2C%20%5B37.568375278700614%2C%20127.01156831600028%5D%2C%20%5B37.569591235352874%2C%20127.01500962462404%5D%2C%20%5B37.552779117727084%2C%20127.01055869791927%5D%2C%20%5B37.56369808221292%2C%20127.019400052715%5D%2C%20%5B37.566959648728094%2C%20127.01963859917295%5D%2C%20%5B37.538911952569784%2C%20127.06748167951677%5D%2C%20%5B37.619571231155106%2C%20126.92167346415707%5D%2C%20%5B37.623739895187256%2C%20126.91740988335779%5D%2C%20%5B37.613278589249596%2C%20126.91622088862053%5D%2C%20%5B37.60950150921935%2C%20126.92685978763448%5D%2C%20%5B37.65547574605313%2C%20127.0426668642167%5D%2C%20%5B37.63615219120444%2C%20127.07397072659852%5D%2C%20%5B37.60697367210774%2C%20127.01286535692006%5D%2C%20%5B37.6071455432061%2C%20126.99792749494841%5D%2C%20%5B37.59824700224238%2C%20127.03694960878664%5D%2C%20%5B37.63521344861366%2C%20127.04031008537356%5D%2C%20%5B37.47552597828984%2C%20126.98097322504685%5D%2C%20%5B37.47659145589457%2C%20127.04417032889133%5D%2C%20%5B37.477005181709146%2C%20127.04610381207898%5D%2C%20%5B37.477248481146304%2C%20127.12204320261074%5D%2C%20%5B37.47198421841353%2C%20126.88456732142473%5D%2C%20%5B37.483806255972716%2C%20126.89508680818014%5D%2C%20%5B37.48642892605263%2C%20127.01369267538392%5D%2C%20%5B37.485489074322906%2C%20126.92852988341207%5D%2C%20%5B37.487636890436846%2C%20127.10338078395336%5D%2C%20%5B37.493267288811936%2C%20127.01596682099772%5D%2C%20%5B37.494118459450675%2C%20127.03722618303436%5D%2C%20%5B37.494240841590305%2C%20127.01204311976798%5D%2C%20%5B37.49406981478419%2C%20127.113487750174%5D%2C%20%5B37.49467315423673%2C%20126.98638497674007%5D%2C%20%5B37.495346534821586%2C%20127.02732075688415%5D%2C%20%5B37.55666383323357%2C%20127.07848699391494%5D%2C%20%5B37.52150923659847%2C%20127.036493181618%5D%2C%20%5B37.538447392541784%2C%20127.14367486055193%5D%2C%20%5B37.58126145968097%2C%20127.09044539460683%5D%2C%20%5B37.604814912176174%2C%20127.07544588440813%5D%2C%20%5B37.59826400907771%2C%20127.07653767941356%5D%2C%20%5B37.616875506063934%2C%20127.0809514877725%5D%2C%20%5B37.59766245247333%2C%20127.09805213757389%5D%2C%20%5B37.591572748702255%2C%20127.09684393083963%5D%2C%20%5B37.59189071792463%2C%20127.01587463871735%5D%2C%20%5B37.5704598113684%2C%20126.96129826420189%5D%2C%20%5B37.622043697935894%2C%20127.07243887072359%5D%2C%20%5B37.62581687022158%2C%20127.0755690585679%5D%2C%20%5B37.67488501157822%2C%20127.05866096147015%5D%2C%20%5B37.536543574586496%2C%20127.00136905188955%5D%2C%20%5B37.52870487172285%2C%20127.00046384506732%5D%2C%20%5B37.544549114266864%2C%20126.96792002437306%5D%2C%20%5B37.48678000320049%2C%20127.0161915795939%5D%2C%20%5B37.48591492585732%2C%20126.98302843524853%5D%2C%20%5B37.48651571376833%2C%20127.03115058953671%5D%2C%20%5B37.48365802839606%2C%20127.0363616986534%5D%2C%20%5B37.4829574265654%2C%20126.92883756748512%5D%2C%20%5B37.482841464045244%2C%20126.93080498641467%5D%2C%20%5B37.48431986735238%2C%20127.01878025964147%5D%5D%2C%0A%20%20%20%20%20%20%20%20%20%20%20%20%20%20%20%20%7B%0A%20%20%20%20%20%20%20%20%20%20%20%20%20%20%20%20%20%20%20%20minOpacity%3A%200.5%2C%0A%20%20%20%20%20%20%20%20%20%20%20%20%20%20%20%20%20%20%20%20maxZoom%3A%2018%2C%0A%20%20%20%20%20%20%20%20%20%20%20%20%20%20%20%20%20%20%20%20max%3A%201.0%2C%0A%20%20%20%20%20%20%20%20%20%20%20%20%20%20%20%20%20%20%20%20radius%3A%2025%2C%0A%20%20%20%20%20%20%20%20%20%20%20%20%20%20%20%20%20%20%20%20blur%3A%2015%2C%0A%20%20%20%20%20%20%20%20%20%20%20%20%20%20%20%20%20%20%20%20gradient%3A%20null%0A%20%20%20%20%20%20%20%20%20%20%20%20%20%20%20%20%20%20%20%20%7D%29%0A%20%20%20%20%20%20%20%20%20%20%20%20%20%20%20%20.addTo%28map_24fa9d982d1b4e06b2cda31fb7f3bb4c%29%3B%0A%20%20%20%20%20%20%20%20%0A%3C/script%3E onload=\"this.contentDocument.open();this.contentDocument.write(    decodeURIComponent(this.getAttribute('data-html')));this.contentDocument.close();\" allowfullscreen webkitallowfullscreen mozallowfullscreen></iframe></div></div>"
            ],
            "text/plain": [
              "<folium.folium.Map at 0x7fa375dd8d10>"
            ]
          },
          "metadata": {
            "tags": []
          },
          "execution_count": 77
        }
      ]
    },
    {
      "cell_type": "markdown",
      "metadata": {
        "id": "SEba0eylwfMW"
      },
      "source": [
        "### 상권 밀집정보"
      ]
    },
    {
      "cell_type": "code",
      "metadata": {
        "colab": {
          "base_uri": "https://localhost:8080/"
        },
        "id": "Go-KWO4ywjKv",
        "outputId": "1a0244a3-348a-4f5a-ba6e-f55f9c933b62"
      },
      "source": [
        "df_milzip = pd.read_csv(data_dir+'소상공인시장진흥공단_상권별 업종밀집통계_20161231.csv', encoding='euc-kr')"
      ],
      "execution_count": 7,
      "outputs": [
        {
          "output_type": "stream",
          "text": [
            "/usr/local/lib/python3.7/dist-packages/IPython/core/interactiveshell.py:2718: DtypeWarning: Columns (4) have mixed types.Specify dtype option on import or set low_memory=False.\n",
            "  interactivity=interactivity, compiler=compiler, result=result)\n"
          ],
          "name": "stderr"
        }
      ]
    },
    {
      "cell_type": "code",
      "metadata": {
        "colab": {
          "base_uri": "https://localhost:8080/",
          "height": 159
        },
        "id": "eyQ-9bBgwsQt",
        "outputId": "7d8b3352-d095-4d80-89cb-5ae8e6c8f661"
      },
      "source": [
        "print(df_milzip.shape)\n",
        "df_milzip.head(3)"
      ],
      "execution_count": 9,
      "outputs": [
        {
          "output_type": "stream",
          "text": [
            "(805681, 6)\n"
          ],
          "name": "stdout"
        },
        {
          "output_type": "execute_result",
          "data": {
            "text/html": [
              "<div>\n",
              "<style scoped>\n",
              "    .dataframe tbody tr th:only-of-type {\n",
              "        vertical-align: middle;\n",
              "    }\n",
              "\n",
              "    .dataframe tbody tr th {\n",
              "        vertical-align: top;\n",
              "    }\n",
              "\n",
              "    .dataframe thead th {\n",
              "        text-align: right;\n",
              "    }\n",
              "</style>\n",
              "<table border=\"1\" class=\"dataframe\">\n",
              "  <thead>\n",
              "    <tr style=\"text-align: right;\">\n",
              "      <th></th>\n",
              "      <th>상권명칭</th>\n",
              "      <th>상권번호</th>\n",
              "      <th>관리년월</th>\n",
              "      <th>대분류명</th>\n",
              "      <th>중분류명</th>\n",
              "      <th>과밀지수(밀집도)</th>\n",
              "    </tr>\n",
              "  </thead>\n",
              "  <tbody>\n",
              "    <tr>\n",
              "      <th>0</th>\n",
              "      <td>강릉역광장_2</td>\n",
              "      <td>2523</td>\n",
              "      <td>2016-01</td>\n",
              "      <td>소매</td>\n",
              "      <td>가전제품소매</td>\n",
              "      <td>1.0818</td>\n",
              "    </tr>\n",
              "    <tr>\n",
              "      <th>1</th>\n",
              "      <td>구미역_3</td>\n",
              "      <td>1149</td>\n",
              "      <td>2016-01</td>\n",
              "      <td>소매</td>\n",
              "      <td>가전제품소매</td>\n",
              "      <td>0.8865</td>\n",
              "    </tr>\n",
              "    <tr>\n",
              "      <th>2</th>\n",
              "      <td>전북 전주시 중화산1동_1</td>\n",
              "      <td>768</td>\n",
              "      <td>2016-01</td>\n",
              "      <td>소매</td>\n",
              "      <td>가전제품소매</td>\n",
              "      <td>1.1757</td>\n",
              "    </tr>\n",
              "  </tbody>\n",
              "</table>\n",
              "</div>"
            ],
            "text/plain": [
              "             상권명칭  상권번호     관리년월 대분류명    중분류명  과밀지수(밀집도)\n",
              "0         강릉역광장_2  2523  2016-01   소매  가전제품소매     1.0818\n",
              "1           구미역_3  1149  2016-01   소매  가전제품소매     0.8865\n",
              "2  전북 전주시 중화산1동_1   768  2016-01   소매  가전제품소매     1.1757"
            ]
          },
          "metadata": {
            "tags": []
          },
          "execution_count": 9
        }
      ]
    },
    {
      "cell_type": "markdown",
      "metadata": {
        "id": "OsBlyW0Jot1E"
      },
      "source": [
        "### 상권 매출정보"
      ]
    },
    {
      "cell_type": "code",
      "metadata": {
        "id": "K_N_sL3lftvy"
      },
      "source": [
        "df_comm2021 = pd.read_csv(data_dir+'서울시 우리마을가게 상권분석서비스(상권-추정매출).csv', encoding='euc-kr')\n",
        "df_comm2020 = pd.read_csv(data_dir+'서울시우리마을가게상권분석서비스(상권-추정매출)_2020.csv', encoding='euc-kr')\n",
        "df_comm2019 = pd.read_csv(data_dir+'서울시 우리마을가게 상권분석서비스(상권-추정매출)_2019.csv', encoding='euc-kr')\n",
        "df_comm2018 = pd.read_csv(data_dir+'서울시 우리마을가게 상권분석서비스(상권-추정매출)_2018.csv', encoding='euc-kr')\n",
        "df_comm2017 = pd.read_csv(data_dir+'서울시 우리마을가게 상권분석서비스(상권-추정매출)_2017.csv', encoding='euc-kr')\n",
        "df_comm2016 = pd.read_csv(data_dir+'서울시 우리마을가게 상권분석서비스(상권-추정매출)_2016.csv', encoding='euc-kr')\n",
        "df_comm2015 = pd.read_csv(data_dir+'서울시 우리마을가게 상권분석서비스(상권-추정매출)_2015.csv', encoding='euc-kr')\n",
        "df_comm2014 = pd.read_csv(data_dir+'서울시 우리마을가게 상권분석서비스(상권-추정매출)_2014.csv', encoding='euc-kr')"
      ],
      "execution_count": null,
      "outputs": []
    },
    {
      "cell_type": "code",
      "metadata": {
        "id": "ygGSPUCShX7s"
      },
      "source": [
        "df_comm_merge = pd.concat([df_comm2021,\n",
        "                           df_comm2020,\n",
        "                           df_comm2019,\n",
        "                           df_comm2018,\n",
        "                           df_comm2017,\n",
        "                           df_comm2016,\n",
        "                           df_comm2015,\n",
        "                           df_comm2014], axis=0)"
      ],
      "execution_count": null,
      "outputs": []
    },
    {
      "cell_type": "code",
      "metadata": {
        "colab": {
          "base_uri": "https://localhost:8080/"
        },
        "id": "vQTyZiqBftv6",
        "outputId": "6fe0d4e4-a55c-4bff-f20b-8e05c22420e0"
      },
      "source": [
        "df_comm_merge.shape"
      ],
      "execution_count": null,
      "outputs": [
        {
          "output_type": "execute_result",
          "data": {
            "text/plain": [
              "(1123363, 80)"
            ]
          },
          "metadata": {
            "tags": []
          },
          "execution_count": 17
        }
      ]
    },
    {
      "cell_type": "code",
      "metadata": {
        "id": "veafpBeziHpE"
      },
      "source": [
        "df_comm_merge.drop_duplicates(inplace=True)"
      ],
      "execution_count": null,
      "outputs": []
    },
    {
      "cell_type": "code",
      "metadata": {
        "colab": {
          "base_uri": "https://localhost:8080/"
        },
        "id": "_Gy4pe68iOEi",
        "outputId": "53e5e28d-3001-41a5-b159-6e2ce484df57"
      },
      "source": [
        "#중복 없음\n",
        "df_comm_merge.shape"
      ],
      "execution_count": null,
      "outputs": [
        {
          "output_type": "execute_result",
          "data": {
            "text/plain": [
              "(1123363, 80)"
            ]
          },
          "metadata": {
            "tags": []
          },
          "execution_count": 19
        }
      ]
    },
    {
      "cell_type": "code",
      "metadata": {
        "id": "EdNJsSv8f0U2"
      },
      "source": [
        "df_comm_merge.to_csv(data_dir+'서울시 우리마을가게 상권분석서비스(상권-추정매출)_merged.csv')"
      ],
      "execution_count": null,
      "outputs": []
    },
    {
      "cell_type": "code",
      "metadata": {
        "colab": {
          "base_uri": "https://localhost:8080/",
          "height": 740
        },
        "id": "3DLyr0oujbAs",
        "outputId": "b612f097-d568-45e1-f1e2-57a53f993d5b"
      },
      "source": [
        "df_comm_merge.head(3)"
      ],
      "execution_count": null,
      "outputs": [
        {
          "output_type": "execute_result",
          "data": {
            "text/html": [
              "<div>\n",
              "<style scoped>\n",
              "    .dataframe tbody tr th:only-of-type {\n",
              "        vertical-align: middle;\n",
              "    }\n",
              "\n",
              "    .dataframe tbody tr th {\n",
              "        vertical-align: top;\n",
              "    }\n",
              "\n",
              "    .dataframe thead th {\n",
              "        text-align: right;\n",
              "    }\n",
              "</style>\n",
              "<table border=\"1\" class=\"dataframe\">\n",
              "  <thead>\n",
              "    <tr style=\"text-align: right;\">\n",
              "      <th></th>\n",
              "      <th>기준_년_코드</th>\n",
              "      <th>기준_분기_코드</th>\n",
              "      <th>상권_구분_코드</th>\n",
              "      <th>상권_구분_코드_명</th>\n",
              "      <th>상권_코드</th>\n",
              "      <th>상권_코드_명</th>\n",
              "      <th>서비스_업종_코드</th>\n",
              "      <th>서비스_업종_코드_명</th>\n",
              "      <th>분기당_매출_금액</th>\n",
              "      <th>분기당_매출_건수</th>\n",
              "      <th>주중_매출_비율</th>\n",
              "      <th>주말_매출_비율</th>\n",
              "      <th>월요일_매출_비율</th>\n",
              "      <th>화요일_매출_비율</th>\n",
              "      <th>수요일_매출_비율</th>\n",
              "      <th>목요일_매출_비율</th>\n",
              "      <th>금요일_매출_비율</th>\n",
              "      <th>토요일_매출_비율</th>\n",
              "      <th>일요일_매출_비율</th>\n",
              "      <th>시간대_00~06_매출_비율</th>\n",
              "      <th>시간대_06~11_매출_비율</th>\n",
              "      <th>시간대_11~14_매출_비율</th>\n",
              "      <th>시간대_14~17_매출_비율</th>\n",
              "      <th>시간대_17~21_매출_비율</th>\n",
              "      <th>시간대_21~24_매출_비율</th>\n",
              "      <th>남성_매출_비율</th>\n",
              "      <th>여성_매출_비율</th>\n",
              "      <th>연령대_10_매출_비율</th>\n",
              "      <th>연령대_20_매출_비율</th>\n",
              "      <th>연령대_30_매출_비율</th>\n",
              "      <th>연령대_40_매출_비율</th>\n",
              "      <th>연령대_50_매출_비율</th>\n",
              "      <th>연령대_60_이상_매출_비율</th>\n",
              "      <th>주중_매출_금액</th>\n",
              "      <th>주말_매출_금액</th>\n",
              "      <th>월요일_매출_금액</th>\n",
              "      <th>화요일_매출_금액</th>\n",
              "      <th>수요일_매출_금액</th>\n",
              "      <th>목요일_매출_금액</th>\n",
              "      <th>금요일_매출_금액</th>\n",
              "      <th>토요일_매출_금액</th>\n",
              "      <th>일요일_매출_금액</th>\n",
              "      <th>시간대_00~06_매출_금액</th>\n",
              "      <th>시간대_06~11_매출_금액</th>\n",
              "      <th>시간대_11~14_매출_금액</th>\n",
              "      <th>시간대_14~17_매출_금액</th>\n",
              "      <th>시간대_17~21_매출_금액</th>\n",
              "      <th>시간대_21~24_매출_금액</th>\n",
              "      <th>남성_매출_금액</th>\n",
              "      <th>여성_매출_금액</th>\n",
              "      <th>연령대_10_매출_금액</th>\n",
              "      <th>연령대_20_매출_금액</th>\n",
              "      <th>연령대_30_매출_금액</th>\n",
              "      <th>연령대_40_매출_금액</th>\n",
              "      <th>연령대_50_매출_금액</th>\n",
              "      <th>연령대_60_이상_매출_금액</th>\n",
              "      <th>주중_매출_건수</th>\n",
              "      <th>주말_매출_건수</th>\n",
              "      <th>월요일_매출_건수</th>\n",
              "      <th>화요일_매출_건수</th>\n",
              "      <th>수요일_매출_건수</th>\n",
              "      <th>목요일_매출_건수</th>\n",
              "      <th>금요일_매출_건수</th>\n",
              "      <th>토요일_매출_건수</th>\n",
              "      <th>일요일_매출_건수</th>\n",
              "      <th>시간대_건수~06_매출_건수</th>\n",
              "      <th>시간대_건수~11_매출_건수</th>\n",
              "      <th>시간대_건수~14_매출_건수</th>\n",
              "      <th>시간대_건수~17_매출_건수</th>\n",
              "      <th>시간대_건수~21_매출_건수</th>\n",
              "      <th>시간대_건수~24_매출_건수</th>\n",
              "      <th>남성_매출_건수</th>\n",
              "      <th>여성_매출_건수</th>\n",
              "      <th>연령대_10_매출_건수</th>\n",
              "      <th>연령대_20_매출_건수</th>\n",
              "      <th>연령대_30_매출_건수</th>\n",
              "      <th>연령대_40_매출_건수</th>\n",
              "      <th>연령대_50_매출_건수</th>\n",
              "      <th>연령대_60_이상_매출_건수</th>\n",
              "      <th>점포수</th>\n",
              "    </tr>\n",
              "  </thead>\n",
              "  <tbody>\n",
              "    <tr>\n",
              "      <th>0</th>\n",
              "      <td>2021</td>\n",
              "      <td>1</td>\n",
              "      <td>U</td>\n",
              "      <td>관광특구</td>\n",
              "      <td>1001496</td>\n",
              "      <td>강남 마이스 관광특구</td>\n",
              "      <td>CS300043</td>\n",
              "      <td>전자상거래업</td>\n",
              "      <td>5.246740e+05</td>\n",
              "      <td>5</td>\n",
              "      <td>0</td>\n",
              "      <td>100</td>\n",
              "      <td>0</td>\n",
              "      <td>0</td>\n",
              "      <td>0</td>\n",
              "      <td>0</td>\n",
              "      <td>0</td>\n",
              "      <td>0</td>\n",
              "      <td>100</td>\n",
              "      <td>0</td>\n",
              "      <td>0</td>\n",
              "      <td>0</td>\n",
              "      <td>100</td>\n",
              "      <td>0</td>\n",
              "      <td>0</td>\n",
              "      <td>0</td>\n",
              "      <td>100</td>\n",
              "      <td>0</td>\n",
              "      <td>0</td>\n",
              "      <td>100</td>\n",
              "      <td>0</td>\n",
              "      <td>0</td>\n",
              "      <td>0</td>\n",
              "      <td>0.000000e+00</td>\n",
              "      <td>5.246740e+05</td>\n",
              "      <td>0</td>\n",
              "      <td>0.0</td>\n",
              "      <td>0</td>\n",
              "      <td>0</td>\n",
              "      <td>0</td>\n",
              "      <td>0</td>\n",
              "      <td>524674</td>\n",
              "      <td>0</td>\n",
              "      <td>0</td>\n",
              "      <td>0.000000e+00</td>\n",
              "      <td>5.246740e+05</td>\n",
              "      <td>0.000000e+00</td>\n",
              "      <td>0</td>\n",
              "      <td>0.000000e+00</td>\n",
              "      <td>5.246740e+05</td>\n",
              "      <td>0</td>\n",
              "      <td>0</td>\n",
              "      <td>524674</td>\n",
              "      <td>0.000000e+00</td>\n",
              "      <td>0</td>\n",
              "      <td>0</td>\n",
              "      <td>0</td>\n",
              "      <td>5</td>\n",
              "      <td>0</td>\n",
              "      <td>0</td>\n",
              "      <td>0</td>\n",
              "      <td>0</td>\n",
              "      <td>0</td>\n",
              "      <td>0</td>\n",
              "      <td>5</td>\n",
              "      <td>0</td>\n",
              "      <td>0</td>\n",
              "      <td>0</td>\n",
              "      <td>5</td>\n",
              "      <td>0</td>\n",
              "      <td>0</td>\n",
              "      <td>0</td>\n",
              "      <td>5</td>\n",
              "      <td>0</td>\n",
              "      <td>0</td>\n",
              "      <td>5</td>\n",
              "      <td>0</td>\n",
              "      <td>0</td>\n",
              "      <td>0</td>\n",
              "      <td>8</td>\n",
              "    </tr>\n",
              "    <tr>\n",
              "      <th>1</th>\n",
              "      <td>2021</td>\n",
              "      <td>1</td>\n",
              "      <td>U</td>\n",
              "      <td>관광특구</td>\n",
              "      <td>1001496</td>\n",
              "      <td>강남 마이스 관광특구</td>\n",
              "      <td>CS300032</td>\n",
              "      <td>가전제품</td>\n",
              "      <td>2.403139e+09</td>\n",
              "      <td>8727</td>\n",
              "      <td>65</td>\n",
              "      <td>35</td>\n",
              "      <td>11</td>\n",
              "      <td>9</td>\n",
              "      <td>14</td>\n",
              "      <td>11</td>\n",
              "      <td>20</td>\n",
              "      <td>18</td>\n",
              "      <td>17</td>\n",
              "      <td>0</td>\n",
              "      <td>1</td>\n",
              "      <td>23</td>\n",
              "      <td>37</td>\n",
              "      <td>37</td>\n",
              "      <td>1</td>\n",
              "      <td>41</td>\n",
              "      <td>42</td>\n",
              "      <td>1</td>\n",
              "      <td>16</td>\n",
              "      <td>21</td>\n",
              "      <td>15</td>\n",
              "      <td>18</td>\n",
              "      <td>13</td>\n",
              "      <td>1.563560e+09</td>\n",
              "      <td>8.395794e+08</td>\n",
              "      <td>265612914</td>\n",
              "      <td>221972354.0</td>\n",
              "      <td>334096984</td>\n",
              "      <td>252903344</td>\n",
              "      <td>488973948</td>\n",
              "      <td>435773386</td>\n",
              "      <td>403806022</td>\n",
              "      <td>0</td>\n",
              "      <td>31855170</td>\n",
              "      <td>5.553222e+08</td>\n",
              "      <td>8.959576e+08</td>\n",
              "      <td>8.913677e+08</td>\n",
              "      <td>28636279</td>\n",
              "      <td>9.957871e+08</td>\n",
              "      <td>9.988147e+08</td>\n",
              "      <td>12325728</td>\n",
              "      <td>385280809</td>\n",
              "      <td>506686589</td>\n",
              "      <td>3.553265e+08</td>\n",
              "      <td>427986666</td>\n",
              "      <td>306995464</td>\n",
              "      <td>5636</td>\n",
              "      <td>3091</td>\n",
              "      <td>1181</td>\n",
              "      <td>888</td>\n",
              "      <td>1309</td>\n",
              "      <td>976</td>\n",
              "      <td>1282</td>\n",
              "      <td>1527</td>\n",
              "      <td>1564</td>\n",
              "      <td>0</td>\n",
              "      <td>108</td>\n",
              "      <td>1982</td>\n",
              "      <td>2903</td>\n",
              "      <td>3656</td>\n",
              "      <td>78</td>\n",
              "      <td>3692</td>\n",
              "      <td>4386</td>\n",
              "      <td>120</td>\n",
              "      <td>2034</td>\n",
              "      <td>2064</td>\n",
              "      <td>1728</td>\n",
              "      <td>1333</td>\n",
              "      <td>797</td>\n",
              "      <td>8</td>\n",
              "    </tr>\n",
              "    <tr>\n",
              "      <th>2</th>\n",
              "      <td>2021</td>\n",
              "      <td>1</td>\n",
              "      <td>U</td>\n",
              "      <td>관광특구</td>\n",
              "      <td>1001496</td>\n",
              "      <td>강남 마이스 관광특구</td>\n",
              "      <td>CS300031</td>\n",
              "      <td>가구</td>\n",
              "      <td>1.176752e+10</td>\n",
              "      <td>6378</td>\n",
              "      <td>52</td>\n",
              "      <td>48</td>\n",
              "      <td>11</td>\n",
              "      <td>7</td>\n",
              "      <td>8</td>\n",
              "      <td>17</td>\n",
              "      <td>8</td>\n",
              "      <td>24</td>\n",
              "      <td>24</td>\n",
              "      <td>0</td>\n",
              "      <td>3</td>\n",
              "      <td>32</td>\n",
              "      <td>42</td>\n",
              "      <td>24</td>\n",
              "      <td>0</td>\n",
              "      <td>43</td>\n",
              "      <td>57</td>\n",
              "      <td>0</td>\n",
              "      <td>2</td>\n",
              "      <td>12</td>\n",
              "      <td>35</td>\n",
              "      <td>22</td>\n",
              "      <td>29</td>\n",
              "      <td>6.094250e+09</td>\n",
              "      <td>5.673275e+09</td>\n",
              "      <td>1312540310</td>\n",
              "      <td>847128724.0</td>\n",
              "      <td>934787562</td>\n",
              "      <td>2052697510</td>\n",
              "      <td>947095978</td>\n",
              "      <td>2861453898</td>\n",
              "      <td>2811820821</td>\n",
              "      <td>0</td>\n",
              "      <td>332519888</td>\n",
              "      <td>3.758998e+09</td>\n",
              "      <td>4.901461e+09</td>\n",
              "      <td>2.774545e+09</td>\n",
              "      <td>0</td>\n",
              "      <td>5.051799e+09</td>\n",
              "      <td>6.715726e+09</td>\n",
              "      <td>0</td>\n",
              "      <td>262788962</td>\n",
              "      <td>1405527456</td>\n",
              "      <td>4.092103e+09</td>\n",
              "      <td>2626606523</td>\n",
              "      <td>3380499293</td>\n",
              "      <td>3490</td>\n",
              "      <td>2888</td>\n",
              "      <td>700</td>\n",
              "      <td>796</td>\n",
              "      <td>604</td>\n",
              "      <td>854</td>\n",
              "      <td>536</td>\n",
              "      <td>1359</td>\n",
              "      <td>1529</td>\n",
              "      <td>0</td>\n",
              "      <td>215</td>\n",
              "      <td>1978</td>\n",
              "      <td>2525</td>\n",
              "      <td>1660</td>\n",
              "      <td>0</td>\n",
              "      <td>2528</td>\n",
              "      <td>3850</td>\n",
              "      <td>0</td>\n",
              "      <td>296</td>\n",
              "      <td>768</td>\n",
              "      <td>1771</td>\n",
              "      <td>1547</td>\n",
              "      <td>1996</td>\n",
              "      <td>6</td>\n",
              "    </tr>\n",
              "  </tbody>\n",
              "</table>\n",
              "</div>"
            ],
            "text/plain": [
              "   기준_년_코드  기준_분기_코드 상권_구분_코드  ... 연령대_50_매출_건수  연령대_60_이상_매출_건수 점포수\n",
              "0     2021         1        U  ...            0                0   8\n",
              "1     2021         1        U  ...         1333              797   8\n",
              "2     2021         1        U  ...         1547             1996   6\n",
              "\n",
              "[3 rows x 80 columns]"
            ]
          },
          "metadata": {
            "tags": []
          },
          "execution_count": 22
        }
      ]
    },
    {
      "cell_type": "code",
      "metadata": {
        "id": "p6okrZvIiY-A"
      },
      "source": [
        "df_comm_merge.info()"
      ],
      "execution_count": null,
      "outputs": []
    },
    {
      "cell_type": "code",
      "metadata": {
        "colab": {
          "base_uri": "https://localhost:8080/"
        },
        "id": "5y_Sv6cwjVe3",
        "outputId": "9e2a2ca2-4fac-424c-e05a-b7be0d678140"
      },
      "source": [
        "len(df_comm_merge['상권_코드_명'].unique())"
      ],
      "execution_count": null,
      "outputs": [
        {
          "output_type": "execute_result",
          "data": {
            "text/plain": [
              "1496"
            ]
          },
          "metadata": {
            "tags": []
          },
          "execution_count": 27
        }
      ]
    },
    {
      "cell_type": "markdown",
      "metadata": {
        "id": "SNXo5-BjAu6m"
      },
      "source": [
        "### 점포 현황"
      ]
    },
    {
      "cell_type": "code",
      "metadata": {
        "colab": {
          "base_uri": "https://localhost:8080/"
        },
        "id": "W9dm88vzj0S3",
        "outputId": "044390ee-0681-4660-b0f5-ee066c13af66"
      },
      "source": [
        "df_jumpo = pd.read_csv(data_dir+'서울시 우리마을가게 상권분석서비스(상권배후지-점포).csv', encoding='euc-kr')\n",
        "df_jumpo.shape"
      ],
      "execution_count": 78,
      "outputs": [
        {
          "output_type": "execute_result",
          "data": {
            "text/plain": [
              "(454122, 15)"
            ]
          },
          "metadata": {
            "tags": []
          },
          "execution_count": 78
        }
      ]
    },
    {
      "cell_type": "code",
      "metadata": {
        "colab": {
          "base_uri": "https://localhost:8080/",
          "height": 210
        },
        "id": "wuuczfcf-mfX",
        "outputId": "889b776c-e82c-4317-e971-352fd4965ab4"
      },
      "source": [
        "df_jumpo.head(3)"
      ],
      "execution_count": 79,
      "outputs": [
        {
          "output_type": "execute_result",
          "data": {
            "text/html": [
              "<div>\n",
              "<style scoped>\n",
              "    .dataframe tbody tr th:only-of-type {\n",
              "        vertical-align: middle;\n",
              "    }\n",
              "\n",
              "    .dataframe tbody tr th {\n",
              "        vertical-align: top;\n",
              "    }\n",
              "\n",
              "    .dataframe thead th {\n",
              "        text-align: right;\n",
              "    }\n",
              "</style>\n",
              "<table border=\"1\" class=\"dataframe\">\n",
              "  <thead>\n",
              "    <tr style=\"text-align: right;\">\n",
              "      <th></th>\n",
              "      <th>기준_년_코드</th>\n",
              "      <th>기준_분기_코드</th>\n",
              "      <th>상권_구분_코드</th>\n",
              "      <th>상권_구분_코드_명</th>\n",
              "      <th>상권_코드</th>\n",
              "      <th>상권_코드_명</th>\n",
              "      <th>서비스_업종_코드</th>\n",
              "      <th>서비스_업종_코드_명</th>\n",
              "      <th>점포_수</th>\n",
              "      <th>유사_업종_점포_수</th>\n",
              "      <th>개업_율</th>\n",
              "      <th>개업_점포_수</th>\n",
              "      <th>폐업_률</th>\n",
              "      <th>폐업_점포_수</th>\n",
              "      <th>프랜차이즈_점포_수</th>\n",
              "    </tr>\n",
              "  </thead>\n",
              "  <tbody>\n",
              "    <tr>\n",
              "      <th>0</th>\n",
              "      <td>2021</td>\n",
              "      <td>1</td>\n",
              "      <td>A</td>\n",
              "      <td>골목상권</td>\n",
              "      <td>1001010</td>\n",
              "      <td>풍성로37가길</td>\n",
              "      <td>CS300043</td>\n",
              "      <td>전자상거래업</td>\n",
              "      <td>35</td>\n",
              "      <td>35</td>\n",
              "      <td>0</td>\n",
              "      <td>0</td>\n",
              "      <td>0</td>\n",
              "      <td>0</td>\n",
              "      <td>0</td>\n",
              "    </tr>\n",
              "    <tr>\n",
              "      <th>1</th>\n",
              "      <td>2021</td>\n",
              "      <td>1</td>\n",
              "      <td>A</td>\n",
              "      <td>골목상권</td>\n",
              "      <td>1001010</td>\n",
              "      <td>풍성로37가길</td>\n",
              "      <td>CS300042</td>\n",
              "      <td>주유소</td>\n",
              "      <td>2</td>\n",
              "      <td>2</td>\n",
              "      <td>0</td>\n",
              "      <td>0</td>\n",
              "      <td>0</td>\n",
              "      <td>0</td>\n",
              "      <td>0</td>\n",
              "    </tr>\n",
              "    <tr>\n",
              "      <th>2</th>\n",
              "      <td>2021</td>\n",
              "      <td>1</td>\n",
              "      <td>A</td>\n",
              "      <td>골목상권</td>\n",
              "      <td>1001010</td>\n",
              "      <td>풍성로37가길</td>\n",
              "      <td>CS300041</td>\n",
              "      <td>예술품</td>\n",
              "      <td>1</td>\n",
              "      <td>1</td>\n",
              "      <td>0</td>\n",
              "      <td>0</td>\n",
              "      <td>0</td>\n",
              "      <td>0</td>\n",
              "      <td>0</td>\n",
              "    </tr>\n",
              "  </tbody>\n",
              "</table>\n",
              "</div>"
            ],
            "text/plain": [
              "   기준_년_코드  기준_분기_코드 상권_구분_코드 상권_구분_코드_명  ...  개업_점포_수 폐업_률 폐업_점포_수 프랜차이즈_점포_수\n",
              "0     2021         1        A       골목상권  ...        0    0       0          0\n",
              "1     2021         1        A       골목상권  ...        0    0       0          0\n",
              "2     2021         1        A       골목상권  ...        0    0       0          0\n",
              "\n",
              "[3 rows x 15 columns]"
            ]
          },
          "metadata": {
            "tags": []
          },
          "execution_count": 79
        }
      ]
    },
    {
      "cell_type": "code",
      "metadata": {
        "colab": {
          "base_uri": "https://localhost:8080/"
        },
        "id": "mlXZ-4g3-oPK",
        "outputId": "146ca3e6-09e4-484a-a430-c6798b36f404"
      },
      "source": [
        "len(df_jumpo['상권_코드'].unique())"
      ],
      "execution_count": 80,
      "outputs": [
        {
          "output_type": "execute_result",
          "data": {
            "text/plain": [
              "1010"
            ]
          },
          "metadata": {
            "tags": []
          },
          "execution_count": 80
        }
      ]
    },
    {
      "cell_type": "code",
      "metadata": {
        "colab": {
          "base_uri": "https://localhost:8080/"
        },
        "id": "AxCMA6CaBTG3",
        "outputId": "955bb67e-b29c-46c2-dc1c-974c9811ef55"
      },
      "source": [
        "df_jumpo['기준_년_코드'].unique()"
      ],
      "execution_count": 81,
      "outputs": [
        {
          "output_type": "execute_result",
          "data": {
            "text/plain": [
              "array([2021, 2020])"
            ]
          },
          "metadata": {
            "tags": []
          },
          "execution_count": 81
        }
      ]
    },
    {
      "cell_type": "code",
      "metadata": {
        "colab": {
          "base_uri": "https://localhost:8080/",
          "height": 450
        },
        "id": "18NdUw7N-wC6",
        "outputId": "e481788b-e7b8-4bf7-c6d2-10a3f59b7ca0"
      },
      "source": [
        "df_jumpo.groupby(['상권_코드','서비스_업종_코드_명']).sum()"
      ],
      "execution_count": 82,
      "outputs": [
        {
          "output_type": "execute_result",
          "data": {
            "text/html": [
              "<div>\n",
              "<style scoped>\n",
              "    .dataframe tbody tr th:only-of-type {\n",
              "        vertical-align: middle;\n",
              "    }\n",
              "\n",
              "    .dataframe tbody tr th {\n",
              "        vertical-align: top;\n",
              "    }\n",
              "\n",
              "    .dataframe thead th {\n",
              "        text-align: right;\n",
              "    }\n",
              "</style>\n",
              "<table border=\"1\" class=\"dataframe\">\n",
              "  <thead>\n",
              "    <tr style=\"text-align: right;\">\n",
              "      <th></th>\n",
              "      <th></th>\n",
              "      <th>기준_년_코드</th>\n",
              "      <th>기준_분기_코드</th>\n",
              "      <th>점포_수</th>\n",
              "      <th>유사_업종_점포_수</th>\n",
              "      <th>개업_율</th>\n",
              "      <th>개업_점포_수</th>\n",
              "      <th>폐업_률</th>\n",
              "      <th>폐업_점포_수</th>\n",
              "      <th>프랜차이즈_점포_수</th>\n",
              "    </tr>\n",
              "    <tr>\n",
              "      <th>상권_코드</th>\n",
              "      <th>서비스_업종_코드_명</th>\n",
              "      <th></th>\n",
              "      <th></th>\n",
              "      <th></th>\n",
              "      <th></th>\n",
              "      <th></th>\n",
              "      <th></th>\n",
              "      <th></th>\n",
              "      <th></th>\n",
              "      <th></th>\n",
              "    </tr>\n",
              "  </thead>\n",
              "  <tbody>\n",
              "    <tr>\n",
              "      <th rowspan=\"5\" valign=\"top\">1000001</th>\n",
              "      <th>PC방</th>\n",
              "      <td>10101</td>\n",
              "      <td>11</td>\n",
              "      <td>0</td>\n",
              "      <td>0</td>\n",
              "      <td>0</td>\n",
              "      <td>0</td>\n",
              "      <td>0</td>\n",
              "      <td>0</td>\n",
              "      <td>0</td>\n",
              "    </tr>\n",
              "    <tr>\n",
              "      <th>가구</th>\n",
              "      <td>10101</td>\n",
              "      <td>11</td>\n",
              "      <td>14</td>\n",
              "      <td>14</td>\n",
              "      <td>58</td>\n",
              "      <td>2</td>\n",
              "      <td>0</td>\n",
              "      <td>0</td>\n",
              "      <td>0</td>\n",
              "    </tr>\n",
              "    <tr>\n",
              "      <th>가방</th>\n",
              "      <td>10101</td>\n",
              "      <td>11</td>\n",
              "      <td>27</td>\n",
              "      <td>27</td>\n",
              "      <td>0</td>\n",
              "      <td>0</td>\n",
              "      <td>20</td>\n",
              "      <td>1</td>\n",
              "      <td>0</td>\n",
              "    </tr>\n",
              "    <tr>\n",
              "      <th>가전제품</th>\n",
              "      <td>10101</td>\n",
              "      <td>11</td>\n",
              "      <td>5</td>\n",
              "      <td>5</td>\n",
              "      <td>0</td>\n",
              "      <td>0</td>\n",
              "      <td>0</td>\n",
              "      <td>0</td>\n",
              "      <td>0</td>\n",
              "    </tr>\n",
              "    <tr>\n",
              "      <th>가전제품수리</th>\n",
              "      <td>10101</td>\n",
              "      <td>11</td>\n",
              "      <td>5</td>\n",
              "      <td>5</td>\n",
              "      <td>0</td>\n",
              "      <td>0</td>\n",
              "      <td>0</td>\n",
              "      <td>0</td>\n",
              "      <td>0</td>\n",
              "    </tr>\n",
              "    <tr>\n",
              "      <th>...</th>\n",
              "      <th>...</th>\n",
              "      <td>...</td>\n",
              "      <td>...</td>\n",
              "      <td>...</td>\n",
              "      <td>...</td>\n",
              "      <td>...</td>\n",
              "      <td>...</td>\n",
              "      <td>...</td>\n",
              "      <td>...</td>\n",
              "      <td>...</td>\n",
              "    </tr>\n",
              "    <tr>\n",
              "      <th rowspan=\"5\" valign=\"top\">1001010</th>\n",
              "      <th>핸드폰</th>\n",
              "      <td>10101</td>\n",
              "      <td>11</td>\n",
              "      <td>41</td>\n",
              "      <td>41</td>\n",
              "      <td>0</td>\n",
              "      <td>0</td>\n",
              "      <td>27</td>\n",
              "      <td>2</td>\n",
              "      <td>0</td>\n",
              "    </tr>\n",
              "    <tr>\n",
              "      <th>호프-간이주점</th>\n",
              "      <td>10101</td>\n",
              "      <td>11</td>\n",
              "      <td>198</td>\n",
              "      <td>247</td>\n",
              "      <td>6</td>\n",
              "      <td>3</td>\n",
              "      <td>14</td>\n",
              "      <td>7</td>\n",
              "      <td>49</td>\n",
              "    </tr>\n",
              "    <tr>\n",
              "      <th>화장품</th>\n",
              "      <td>10101</td>\n",
              "      <td>11</td>\n",
              "      <td>77</td>\n",
              "      <td>82</td>\n",
              "      <td>0</td>\n",
              "      <td>0</td>\n",
              "      <td>6</td>\n",
              "      <td>1</td>\n",
              "      <td>5</td>\n",
              "    </tr>\n",
              "    <tr>\n",
              "      <th>화초</th>\n",
              "      <td>10101</td>\n",
              "      <td>11</td>\n",
              "      <td>57</td>\n",
              "      <td>57</td>\n",
              "      <td>0</td>\n",
              "      <td>0</td>\n",
              "      <td>27</td>\n",
              "      <td>3</td>\n",
              "      <td>0</td>\n",
              "    </tr>\n",
              "    <tr>\n",
              "      <th>회계사사무소</th>\n",
              "      <td>10101</td>\n",
              "      <td>11</td>\n",
              "      <td>0</td>\n",
              "      <td>0</td>\n",
              "      <td>0</td>\n",
              "      <td>0</td>\n",
              "      <td>0</td>\n",
              "      <td>0</td>\n",
              "      <td>0</td>\n",
              "    </tr>\n",
              "  </tbody>\n",
              "</table>\n",
              "<p>91051 rows × 9 columns</p>\n",
              "</div>"
            ],
            "text/plain": [
              "                     기준_년_코드  기준_분기_코드  점포_수  ...  폐업_률  폐업_점포_수  프랜차이즈_점포_수\n",
              "상권_코드   서비스_업종_코드_명                           ...                           \n",
              "1000001 PC방            10101        11     0  ...     0        0           0\n",
              "        가구             10101        11    14  ...     0        0           0\n",
              "        가방             10101        11    27  ...    20        1           0\n",
              "        가전제품           10101        11     5  ...     0        0           0\n",
              "        가전제품수리         10101        11     5  ...     0        0           0\n",
              "...                      ...       ...   ...  ...   ...      ...         ...\n",
              "1001010 핸드폰            10101        11    41  ...    27        2           0\n",
              "        호프-간이주점        10101        11   198  ...    14        7          49\n",
              "        화장품            10101        11    77  ...     6        1           5\n",
              "        화초             10101        11    57  ...    27        3           0\n",
              "        회계사사무소         10101        11     0  ...     0        0           0\n",
              "\n",
              "[91051 rows x 9 columns]"
            ]
          },
          "metadata": {
            "tags": []
          },
          "execution_count": 82
        }
      ]
    },
    {
      "cell_type": "code",
      "metadata": {
        "colab": {
          "base_uri": "https://localhost:8080/"
        },
        "id": "5gjD69VG5oRm",
        "outputId": "1ec57d00-80e0-426d-bf45-8c085bd3a847"
      },
      "source": [
        "df_jumpo['상권_코드'].describe() "
      ],
      "execution_count": 85,
      "outputs": [
        {
          "output_type": "execute_result",
          "data": {
            "text/plain": [
              "count    4.541220e+05\n",
              "mean     1.000508e+06\n",
              "std      2.924382e+02\n",
              "min      1.000001e+06\n",
              "25%      1.000253e+06\n",
              "50%      1.000509e+06\n",
              "75%      1.000762e+06\n",
              "max      1.001010e+06\n",
              "Name: 상권_코드, dtype: float64"
            ]
          },
          "metadata": {
            "tags": []
          },
          "execution_count": 85
        }
      ]
    },
    {
      "cell_type": "code",
      "metadata": {
        "colab": {
          "base_uri": "https://localhost:8080/"
        },
        "id": "ZWS7Maue5-4c",
        "outputId": "d4fddb49-5f31-424d-eb28-81cdf093db8d"
      },
      "source": [
        "df_jumpo2 = pd.read_csv(data_dir + '서울시_우리마을가게_상권분석서비스(상권-점포)_2020년.csv', encoding='euc=kr')\n",
        "print(df_jumpo2.shape)"
      ],
      "execution_count": 86,
      "outputs": [
        {
          "output_type": "stream",
          "text": [
            "(373511, 15)\n"
          ],
          "name": "stdout"
        },
        {
          "output_type": "stream",
          "text": [
            "/usr/local/lib/python3.7/dist-packages/IPython/core/interactiveshell.py:2718: DtypeWarning: Columns (4) have mixed types.Specify dtype option on import or set low_memory=False.\n",
            "  interactivity=interactivity, compiler=compiler, result=result)\n"
          ],
          "name": "stderr"
        }
      ]
    },
    {
      "cell_type": "code",
      "metadata": {
        "colab": {
          "base_uri": "https://localhost:8080/",
          "height": 176
        },
        "id": "kmyTa1lp6G98",
        "outputId": "6ac9dd35-cffd-4301-8be2-53389c6cd658"
      },
      "source": [
        "df_jumpo2.head(3)"
      ],
      "execution_count": 87,
      "outputs": [
        {
          "output_type": "execute_result",
          "data": {
            "text/html": [
              "<div>\n",
              "<style scoped>\n",
              "    .dataframe tbody tr th:only-of-type {\n",
              "        vertical-align: middle;\n",
              "    }\n",
              "\n",
              "    .dataframe tbody tr th {\n",
              "        vertical-align: top;\n",
              "    }\n",
              "\n",
              "    .dataframe thead th {\n",
              "        text-align: right;\n",
              "    }\n",
              "</style>\n",
              "<table border=\"1\" class=\"dataframe\">\n",
              "  <thead>\n",
              "    <tr style=\"text-align: right;\">\n",
              "      <th></th>\n",
              "      <th>기준_년_코드</th>\n",
              "      <th>기준_분기_코드</th>\n",
              "      <th>상권_구분_코드</th>\n",
              "      <th>상권_구분_코드_명</th>\n",
              "      <th>상권_코드</th>\n",
              "      <th>상권_코드_명</th>\n",
              "      <th>서비스_업종_코드</th>\n",
              "      <th>서비스_업종_코드_명</th>\n",
              "      <th>점포_수</th>\n",
              "      <th>유사_업종_점포_수</th>\n",
              "      <th>개업_율</th>\n",
              "      <th>개업_점포_수</th>\n",
              "      <th>폐업_률</th>\n",
              "      <th>폐업_점포_수</th>\n",
              "      <th>프랜차이즈_점포_수</th>\n",
              "    </tr>\n",
              "  </thead>\n",
              "  <tbody>\n",
              "    <tr>\n",
              "      <th>0</th>\n",
              "      <td>2020</td>\n",
              "      <td>1</td>\n",
              "      <td>A</td>\n",
              "      <td>골목상권</td>\n",
              "      <td>1000001</td>\n",
              "      <td>계동길</td>\n",
              "      <td>CS300018</td>\n",
              "      <td>의약품</td>\n",
              "      <td>0</td>\n",
              "      <td>0</td>\n",
              "      <td>0</td>\n",
              "      <td>0</td>\n",
              "      <td>0</td>\n",
              "      <td>0</td>\n",
              "      <td>0</td>\n",
              "    </tr>\n",
              "    <tr>\n",
              "      <th>1</th>\n",
              "      <td>2020</td>\n",
              "      <td>1</td>\n",
              "      <td>D</td>\n",
              "      <td>발달상권</td>\n",
              "      <td>1001250</td>\n",
              "      <td>서울 은평구 불광역_3</td>\n",
              "      <td>CS300014</td>\n",
              "      <td>신발</td>\n",
              "      <td>0</td>\n",
              "      <td>0</td>\n",
              "      <td>0</td>\n",
              "      <td>0</td>\n",
              "      <td>0</td>\n",
              "      <td>0</td>\n",
              "      <td>0</td>\n",
              "    </tr>\n",
              "    <tr>\n",
              "      <th>2</th>\n",
              "      <td>2020</td>\n",
              "      <td>1</td>\n",
              "      <td>A</td>\n",
              "      <td>골목상권</td>\n",
              "      <td>1000001</td>\n",
              "      <td>계동길</td>\n",
              "      <td>CS300032</td>\n",
              "      <td>가전제품</td>\n",
              "      <td>1</td>\n",
              "      <td>1</td>\n",
              "      <td>0</td>\n",
              "      <td>0</td>\n",
              "      <td>0</td>\n",
              "      <td>0</td>\n",
              "      <td>0</td>\n",
              "    </tr>\n",
              "  </tbody>\n",
              "</table>\n",
              "</div>"
            ],
            "text/plain": [
              "   기준_년_코드  기준_분기_코드 상권_구분_코드 상권_구분_코드_명  ... 개업_점포_수 폐업_률 폐업_점포_수 프랜차이즈_점포_수\n",
              "0     2020         1        A       골목상권  ...       0    0       0          0\n",
              "1     2020         1        D       발달상권  ...       0    0       0          0\n",
              "2     2020         1        A       골목상권  ...       0    0       0          0\n",
              "\n",
              "[3 rows x 15 columns]"
            ]
          },
          "metadata": {
            "tags": []
          },
          "execution_count": 87
        }
      ]
    },
    {
      "cell_type": "code",
      "metadata": {
        "colab": {
          "base_uri": "https://localhost:8080/",
          "height": 221
        },
        "id": "FTzGwPCt_cu8",
        "outputId": "417d710a-8611-4f2c-94f5-e30ad162f3f7"
      },
      "source": [
        "df_jumpo2[df_jumpo2['상권_코드'] == 1001453].head()"
      ],
      "execution_count": 126,
      "outputs": [
        {
          "output_type": "execute_result",
          "data": {
            "text/html": [
              "<div>\n",
              "<style scoped>\n",
              "    .dataframe tbody tr th:only-of-type {\n",
              "        vertical-align: middle;\n",
              "    }\n",
              "\n",
              "    .dataframe tbody tr th {\n",
              "        vertical-align: top;\n",
              "    }\n",
              "\n",
              "    .dataframe thead th {\n",
              "        text-align: right;\n",
              "    }\n",
              "</style>\n",
              "<table border=\"1\" class=\"dataframe\">\n",
              "  <thead>\n",
              "    <tr style=\"text-align: right;\">\n",
              "      <th></th>\n",
              "      <th>기준_년_코드</th>\n",
              "      <th>기준_분기_코드</th>\n",
              "      <th>상권_구분_코드</th>\n",
              "      <th>상권_구분_코드_명</th>\n",
              "      <th>상권_코드</th>\n",
              "      <th>상권_코드_명</th>\n",
              "      <th>서비스_업종_코드</th>\n",
              "      <th>서비스_업종_코드_명</th>\n",
              "      <th>점포_수</th>\n",
              "      <th>유사_업종_점포_수</th>\n",
              "      <th>개업_율</th>\n",
              "      <th>개업_점포_수</th>\n",
              "      <th>폐업_률</th>\n",
              "      <th>폐업_점포_수</th>\n",
              "      <th>프랜차이즈_점포_수</th>\n",
              "    </tr>\n",
              "  </thead>\n",
              "  <tbody>\n",
              "    <tr>\n",
              "      <th>89622</th>\n",
              "      <td>2020</td>\n",
              "      <td>1</td>\n",
              "      <td>R</td>\n",
              "      <td>전통시장</td>\n",
              "      <td>1001453</td>\n",
              "      <td>낙성대시장</td>\n",
              "      <td>CS100001</td>\n",
              "      <td>한식음식점</td>\n",
              "      <td>19</td>\n",
              "      <td>20</td>\n",
              "      <td>5</td>\n",
              "      <td>1</td>\n",
              "      <td>5</td>\n",
              "      <td>1</td>\n",
              "      <td>1</td>\n",
              "    </tr>\n",
              "    <tr>\n",
              "      <th>89623</th>\n",
              "      <td>2020</td>\n",
              "      <td>1</td>\n",
              "      <td>R</td>\n",
              "      <td>전통시장</td>\n",
              "      <td>1001453</td>\n",
              "      <td>낙성대시장</td>\n",
              "      <td>CS100002</td>\n",
              "      <td>중식음식점</td>\n",
              "      <td>4</td>\n",
              "      <td>4</td>\n",
              "      <td>0</td>\n",
              "      <td>0</td>\n",
              "      <td>0</td>\n",
              "      <td>0</td>\n",
              "      <td>0</td>\n",
              "    </tr>\n",
              "    <tr>\n",
              "      <th>89624</th>\n",
              "      <td>2020</td>\n",
              "      <td>1</td>\n",
              "      <td>R</td>\n",
              "      <td>전통시장</td>\n",
              "      <td>1001453</td>\n",
              "      <td>낙성대시장</td>\n",
              "      <td>CS100003</td>\n",
              "      <td>일식음식점</td>\n",
              "      <td>2</td>\n",
              "      <td>2</td>\n",
              "      <td>0</td>\n",
              "      <td>0</td>\n",
              "      <td>0</td>\n",
              "      <td>0</td>\n",
              "      <td>0</td>\n",
              "    </tr>\n",
              "    <tr>\n",
              "      <th>89625</th>\n",
              "      <td>2020</td>\n",
              "      <td>1</td>\n",
              "      <td>R</td>\n",
              "      <td>전통시장</td>\n",
              "      <td>1001453</td>\n",
              "      <td>낙성대시장</td>\n",
              "      <td>CS100004</td>\n",
              "      <td>양식음식점</td>\n",
              "      <td>6</td>\n",
              "      <td>6</td>\n",
              "      <td>0</td>\n",
              "      <td>0</td>\n",
              "      <td>0</td>\n",
              "      <td>0</td>\n",
              "      <td>0</td>\n",
              "    </tr>\n",
              "    <tr>\n",
              "      <th>89626</th>\n",
              "      <td>2020</td>\n",
              "      <td>1</td>\n",
              "      <td>R</td>\n",
              "      <td>전통시장</td>\n",
              "      <td>1001453</td>\n",
              "      <td>낙성대시장</td>\n",
              "      <td>CS100005</td>\n",
              "      <td>제과점</td>\n",
              "      <td>1</td>\n",
              "      <td>2</td>\n",
              "      <td>0</td>\n",
              "      <td>0</td>\n",
              "      <td>0</td>\n",
              "      <td>0</td>\n",
              "      <td>1</td>\n",
              "    </tr>\n",
              "  </tbody>\n",
              "</table>\n",
              "</div>"
            ],
            "text/plain": [
              "       기준_년_코드  기준_분기_코드 상권_구분_코드  ... 폐업_률 폐업_점포_수 프랜차이즈_점포_수\n",
              "89622     2020         1        R  ...    5       1          1\n",
              "89623     2020         1        R  ...    0       0          0\n",
              "89624     2020         1        R  ...    0       0          0\n",
              "89625     2020         1        R  ...    0       0          0\n",
              "89626     2020         1        R  ...    0       0          1\n",
              "\n",
              "[5 rows x 15 columns]"
            ]
          },
          "metadata": {
            "tags": []
          },
          "execution_count": 126
        }
      ]
    },
    {
      "cell_type": "markdown",
      "metadata": {
        "id": "_5Q8HCKyArG2"
      },
      "source": [
        "### 집객시설\n",
        "- 집객시설이란? 사전적 의미 그대로 고객을 유입시키는 흡입력을 지닌 시설이라 할 수 있습니다. 대표적으로 영화관, 할인점, 병원, 백화점 등이 될 수 있겠습니다."
      ]
    },
    {
      "cell_type": "code",
      "metadata": {
        "colab": {
          "base_uri": "https://localhost:8080/"
        },
        "id": "ftSjqBb9_NHL",
        "outputId": "6825de90-4b43-40af-b9c6-884aa0b71b5b"
      },
      "source": [
        "df_jip = pd.read_csv(data_dir+'서울시 우리마을가게 상권분석서비스(상권-집객시설).csv', encoding='euc-kr')\n",
        "df_jip.shape"
      ],
      "execution_count": null,
      "outputs": [
        {
          "output_type": "execute_result",
          "data": {
            "text/plain": [
              "(35880, 26)"
            ]
          },
          "metadata": {
            "tags": []
          },
          "execution_count": 6
        }
      ]
    },
    {
      "cell_type": "code",
      "metadata": {
        "colab": {
          "base_uri": "https://localhost:8080/",
          "height": 278
        },
        "id": "0t3mSlJlAcd3",
        "outputId": "3bafeb54-f505-4f87-b46d-3eacc18bffdb"
      },
      "source": [
        "df_jip.head(3)"
      ],
      "execution_count": null,
      "outputs": [
        {
          "output_type": "execute_result",
          "data": {
            "text/html": [
              "<div>\n",
              "<style scoped>\n",
              "    .dataframe tbody tr th:only-of-type {\n",
              "        vertical-align: middle;\n",
              "    }\n",
              "\n",
              "    .dataframe tbody tr th {\n",
              "        vertical-align: top;\n",
              "    }\n",
              "\n",
              "    .dataframe thead th {\n",
              "        text-align: right;\n",
              "    }\n",
              "</style>\n",
              "<table border=\"1\" class=\"dataframe\">\n",
              "  <thead>\n",
              "    <tr style=\"text-align: right;\">\n",
              "      <th></th>\n",
              "      <th>기준_년_코드</th>\n",
              "      <th>기준_분기_코드</th>\n",
              "      <th>상권_구분_코드</th>\n",
              "      <th>상권_구분_코드_명</th>\n",
              "      <th>상권_코드</th>\n",
              "      <th>상권_코드_명</th>\n",
              "      <th>집객시설_수</th>\n",
              "      <th>관공서_수</th>\n",
              "      <th>은행_수</th>\n",
              "      <th>종합병원_수</th>\n",
              "      <th>일반_병원_수</th>\n",
              "      <th>약국_수</th>\n",
              "      <th>유치원_수</th>\n",
              "      <th>초등학교_수</th>\n",
              "      <th>중학교_수</th>\n",
              "      <th>고등학교_수</th>\n",
              "      <th>대학교_수</th>\n",
              "      <th>백화점_수</th>\n",
              "      <th>슈퍼마켓_수</th>\n",
              "      <th>극장_수</th>\n",
              "      <th>숙박_시설_수</th>\n",
              "      <th>공항_수</th>\n",
              "      <th>철도_역_수</th>\n",
              "      <th>버스_터미널_수</th>\n",
              "      <th>지하철_역_수</th>\n",
              "      <th>버스_정거장_수</th>\n",
              "    </tr>\n",
              "  </thead>\n",
              "  <tbody>\n",
              "    <tr>\n",
              "      <th>0</th>\n",
              "      <td>2021</td>\n",
              "      <td>1</td>\n",
              "      <td>A</td>\n",
              "      <td>골목상권</td>\n",
              "      <td>1000231</td>\n",
              "      <td>동일로123길</td>\n",
              "      <td>19</td>\n",
              "      <td>NaN</td>\n",
              "      <td>2.0</td>\n",
              "      <td>NaN</td>\n",
              "      <td>NaN</td>\n",
              "      <td>1.0</td>\n",
              "      <td>NaN</td>\n",
              "      <td>NaN</td>\n",
              "      <td>NaN</td>\n",
              "      <td>NaN</td>\n",
              "      <td>NaN</td>\n",
              "      <td>NaN</td>\n",
              "      <td>NaN</td>\n",
              "      <td>NaN</td>\n",
              "      <td>1.0</td>\n",
              "      <td>NaN</td>\n",
              "      <td>NaN</td>\n",
              "      <td>NaN</td>\n",
              "      <td>NaN</td>\n",
              "      <td>3.0</td>\n",
              "    </tr>\n",
              "    <tr>\n",
              "      <th>1</th>\n",
              "      <td>2021</td>\n",
              "      <td>1</td>\n",
              "      <td>A</td>\n",
              "      <td>골목상권</td>\n",
              "      <td>1000467</td>\n",
              "      <td>동교로19길</td>\n",
              "      <td>17</td>\n",
              "      <td>NaN</td>\n",
              "      <td>3.0</td>\n",
              "      <td>NaN</td>\n",
              "      <td>NaN</td>\n",
              "      <td>1.0</td>\n",
              "      <td>NaN</td>\n",
              "      <td>NaN</td>\n",
              "      <td>NaN</td>\n",
              "      <td>NaN</td>\n",
              "      <td>NaN</td>\n",
              "      <td>NaN</td>\n",
              "      <td>NaN</td>\n",
              "      <td>NaN</td>\n",
              "      <td>2.0</td>\n",
              "      <td>NaN</td>\n",
              "      <td>NaN</td>\n",
              "      <td>NaN</td>\n",
              "      <td>NaN</td>\n",
              "      <td>6.0</td>\n",
              "    </tr>\n",
              "    <tr>\n",
              "      <th>2</th>\n",
              "      <td>2021</td>\n",
              "      <td>1</td>\n",
              "      <td>A</td>\n",
              "      <td>골목상권</td>\n",
              "      <td>1000813</td>\n",
              "      <td>서림7길</td>\n",
              "      <td>23</td>\n",
              "      <td>NaN</td>\n",
              "      <td>NaN</td>\n",
              "      <td>NaN</td>\n",
              "      <td>NaN</td>\n",
              "      <td>NaN</td>\n",
              "      <td>NaN</td>\n",
              "      <td>NaN</td>\n",
              "      <td>NaN</td>\n",
              "      <td>NaN</td>\n",
              "      <td>NaN</td>\n",
              "      <td>NaN</td>\n",
              "      <td>NaN</td>\n",
              "      <td>NaN</td>\n",
              "      <td>18.0</td>\n",
              "      <td>NaN</td>\n",
              "      <td>NaN</td>\n",
              "      <td>NaN</td>\n",
              "      <td>NaN</td>\n",
              "      <td>3.0</td>\n",
              "    </tr>\n",
              "  </tbody>\n",
              "</table>\n",
              "</div>"
            ],
            "text/plain": [
              "   기준_년_코드  기준_분기_코드 상권_구분_코드 상권_구분_코드_명  ...  철도_역_수 버스_터미널_수  지하철_역_수  버스_정거장_수\n",
              "0     2021         1        A       골목상권  ...     NaN      NaN      NaN       3.0\n",
              "1     2021         1        A       골목상권  ...     NaN      NaN      NaN       6.0\n",
              "2     2021         1        A       골목상권  ...     NaN      NaN      NaN       3.0\n",
              "\n",
              "[3 rows x 26 columns]"
            ]
          },
          "metadata": {
            "tags": []
          },
          "execution_count": 7
        }
      ]
    },
    {
      "cell_type": "code",
      "metadata": {
        "colab": {
          "base_uri": "https://localhost:8080/"
        },
        "id": "jp5n3EIBAecm",
        "outputId": "0f76d7a4-a686-4b07-c8c9-820387c01ca1"
      },
      "source": [
        "len(df_jip['상권_코드'].unique())"
      ],
      "execution_count": null,
      "outputs": [
        {
          "output_type": "execute_result",
          "data": {
            "text/plain": [
              "1474"
            ]
          },
          "metadata": {
            "tags": []
          },
          "execution_count": 8
        }
      ]
    },
    {
      "cell_type": "code",
      "metadata": {
        "colab": {
          "base_uri": "https://localhost:8080/"
        },
        "id": "fzLBENkdBFAE",
        "outputId": "af4e295c-e5e8-4fa5-bf2a-c7781a4a9ffd"
      },
      "source": [
        "df_jip['기준_년_코드'].unique()"
      ],
      "execution_count": null,
      "outputs": [
        {
          "output_type": "execute_result",
          "data": {
            "text/plain": [
              "array([2021, 2020, 2019, 2018, 2017, 2016, 2015])"
            ]
          },
          "metadata": {
            "tags": []
          },
          "execution_count": 9
        }
      ]
    },
    {
      "cell_type": "code",
      "metadata": {
        "colab": {
          "base_uri": "https://localhost:8080/",
          "height": 633
        },
        "id": "e427lXsqBRQv",
        "outputId": "15f93c13-c565-4c1a-c68b-bf11601f9a50"
      },
      "source": [
        "msno.matrix(df_jip, color=(0.1, 0.3, 0.7))"
      ],
      "execution_count": null,
      "outputs": [
        {
          "output_type": "execute_result",
          "data": {
            "text/plain": [
              "<matplotlib.axes._subplots.AxesSubplot at 0x7f419f48cf90>"
            ]
          },
          "metadata": {
            "tags": []
          },
          "execution_count": 12
        },
        {
          "output_type": "display_data",
          "data": {
            "image/png": "[encoded data removed]",
            "text/plain": [
              "<Figure size 1800x720 with 2 Axes>"
            ]
          },
          "metadata": {
            "tags": [],
            "needs_background": "light"
          }
        }
      ]
    },
    {
      "cell_type": "code",
      "metadata": {
        "colab": {
          "base_uri": "https://localhost:8080/"
        },
        "id": "0UZEc4vIihhx",
        "outputId": "cea84436-c2cc-4681-90d0-519df8d6dc79"
      },
      "source": [
        "df_jip['상권_코드_명'].unique()"
      ],
      "execution_count": null,
      "outputs": [
        {
          "output_type": "execute_result",
          "data": {
            "text/plain": [
              "array(['동일로123길', '동교로19길', '서림7길', ..., '답십리현대시장', '강남시장_동작', '능동로골목시장'],\n",
              "      dtype=object)"
            ]
          },
          "metadata": {
            "tags": []
          },
          "execution_count": 13
        }
      ]
    },
    {
      "cell_type": "code",
      "metadata": {
        "id": "jwBUKzw7ivoa"
      },
      "source": [
        ""
      ],
      "execution_count": null,
      "outputs": []
    }
  ]
}