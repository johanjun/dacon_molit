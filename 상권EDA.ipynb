{
  "nbformat": 4,
  "nbformat_minor": 0,
  "metadata": {
    "colab": {
      "name": "상권EDA.ipynb",
      "provenance": [],
      "machine_shape": "hm",
      "mount_file_id": "1mS-GGXxQnB9L6t0mE6j8_G6I0ZZdgxeW",
      "authorship_tag": "ABX9TyOG1B3km+RpbHMehFHnQWhE",
      "include_colab_link": true
    },
    "kernelspec": {
      "name": "python3",
      "display_name": "Python 3"
    },
    "language_info": {
      "name": "python"
    }
  },
  "cells": [
    {
      "cell_type": "markdown",
      "metadata": {
        "id": "view-in-github",
        "colab_type": "text"
      },
      "source": [
        "<a href=\"https://colab.research.google.com/github/johanjun/dacon_molit/blob/main/%EC%83%81%EA%B6%8CEDA.ipynb\" target=\"_parent\"><img src=\"https://colab.research.google.com/assets/colab-badge.svg\" alt=\"Open In Colab\"/></a>"
      ]
    },
    {
      "cell_type": "code",
      "metadata": {
        "id": "wxJBQ6KMiMZS"
      },
      "source": [
        "#한글폰트\n",
        "!sudo apt-get install -y fonts-nanum\n",
        "!sudo fc-cache -fv\n",
        "!rm ~/.cache/matplotlib -rf"
      ],
      "execution_count": null,
      "outputs": []
    },
    {
      "cell_type": "code",
      "metadata": {
        "id": "PhFKqJ_j9KkE"
      },
      "source": [
        "import pandas as pd\n",
        "import matplotlib.pyplot as plt\n",
        "import os\n",
        "import seaborn as sns\n",
        "import re\n",
        "import shutil\n",
        "import random\n",
        "import missingno as msno\n",
        "import matplotlib.pyplot as plt\n",
        "plt.rc('font', family='NanumBarunGothic') "
      ],
      "execution_count": 1,
      "outputs": []
    },
    {
      "cell_type": "code",
      "metadata": {
        "colab": {
          "base_uri": "https://localhost:8080/"
        },
        "id": "pL1R_-At85Mb",
        "outputId": "785dd234-55a3-4847-989b-607539c291ff"
      },
      "source": [
        "# from google.colab import drive\n",
        "# drive.mount('/content/drive')"
      ],
      "execution_count": null,
      "outputs": [
        {
          "output_type": "stream",
          "text": [
            "Mounted at /content/drive\n"
          ],
          "name": "stdout"
        }
      ]
    },
    {
      "cell_type": "code",
      "metadata": {
        "id": "iGRtDD6L86us"
      },
      "source": [
        "data_dir = '/content/drive/MyDrive/dacon_molit/data/'"
      ],
      "execution_count": 5,
      "outputs": []
    },
    {
      "cell_type": "markdown",
      "metadata": {
        "id": "miDTZdzOA21v"
      },
      "source": [
        "### 상권영역\n",
        "- 좌표계 EPSG: 5181"
      ]
    },
    {
      "cell_type": "code",
      "metadata": {
        "id": "rlnvyJ0Z_CF2"
      },
      "source": [
        "df_comm = pd.read_csv(data_dir+'서울시 우리마을가게 상권분석서비스(상권영역).csv', encoding='euc-kr')"
      ],
      "execution_count": 102,
      "outputs": []
    },
    {
      "cell_type": "code",
      "metadata": {
        "colab": {
          "base_uri": "https://localhost:8080/"
        },
        "id": "ltpU7qLFHgkz",
        "outputId": "23205978-1ea2-41b7-9067-640d449bbcc0"
      },
      "source": [
        "df_comm.shape"
      ],
      "execution_count": 15,
      "outputs": [
        {
          "output_type": "execute_result",
          "data": {
            "text/plain": [
              "(1496, 10)"
            ]
          },
          "metadata": {
            "tags": []
          },
          "execution_count": 15
        }
      ]
    },
    {
      "cell_type": "code",
      "metadata": {
        "colab": {
          "base_uri": "https://localhost:8080/",
          "height": 204
        },
        "id": "-xpy6Kt5Htqf",
        "outputId": "4bb78227-b0a8-424a-a782-57775cca6b80"
      },
      "source": [
        "df_comm.head()"
      ],
      "execution_count": 16,
      "outputs": [
        {
          "output_type": "execute_result",
          "data": {
            "text/html": [
              "<div>\n",
              "<style scoped>\n",
              "    .dataframe tbody tr th:only-of-type {\n",
              "        vertical-align: middle;\n",
              "    }\n",
              "\n",
              "    .dataframe tbody tr th {\n",
              "        vertical-align: top;\n",
              "    }\n",
              "\n",
              "    .dataframe thead th {\n",
              "        text-align: right;\n",
              "    }\n",
              "</style>\n",
              "<table border=\"1\" class=\"dataframe\">\n",
              "  <thead>\n",
              "    <tr style=\"text-align: right;\">\n",
              "      <th></th>\n",
              "      <th>기준_년월_코드</th>\n",
              "      <th>상권_구분_코드</th>\n",
              "      <th>상권_구분_코드_명</th>\n",
              "      <th>상권_코드</th>\n",
              "      <th>상권_코드_명</th>\n",
              "      <th>엑스좌표_값</th>\n",
              "      <th>와이좌표_값</th>\n",
              "      <th>시군구_코드</th>\n",
              "      <th>행정동_코드</th>\n",
              "      <th>형태정보</th>\n",
              "    </tr>\n",
              "  </thead>\n",
              "  <tbody>\n",
              "    <tr>\n",
              "      <th>0</th>\n",
              "      <td>201810</td>\n",
              "      <td>R</td>\n",
              "      <td>전통시장</td>\n",
              "      <td>1001453</td>\n",
              "      <td>낙성대시장</td>\n",
              "      <td>196121</td>\n",
              "      <td>442084</td>\n",
              "      <td>11620</td>\n",
              "      <td>11620585</td>\n",
              "      <td>NaN</td>\n",
              "    </tr>\n",
              "    <tr>\n",
              "      <th>1</th>\n",
              "      <td>201810</td>\n",
              "      <td>R</td>\n",
              "      <td>전통시장</td>\n",
              "      <td>1001454</td>\n",
              "      <td>봉천제일종합시장</td>\n",
              "      <td>195147</td>\n",
              "      <td>442413</td>\n",
              "      <td>11620</td>\n",
              "      <td>11620595</td>\n",
              "      <td>NaN</td>\n",
              "    </tr>\n",
              "    <tr>\n",
              "      <th>2</th>\n",
              "      <td>201810</td>\n",
              "      <td>R</td>\n",
              "      <td>전통시장</td>\n",
              "      <td>1001474</td>\n",
              "      <td>도곡시장</td>\n",
              "      <td>204551</td>\n",
              "      <td>444227</td>\n",
              "      <td>11680</td>\n",
              "      <td>11680650</td>\n",
              "      <td>NaN</td>\n",
              "    </tr>\n",
              "    <tr>\n",
              "      <th>3</th>\n",
              "      <td>201810</td>\n",
              "      <td>R</td>\n",
              "      <td>전통시장</td>\n",
              "      <td>1001475</td>\n",
              "      <td>강남개포시장</td>\n",
              "      <td>206065</td>\n",
              "      <td>443310</td>\n",
              "      <td>11680</td>\n",
              "      <td>11680670</td>\n",
              "      <td>NaN</td>\n",
              "    </tr>\n",
              "    <tr>\n",
              "      <th>4</th>\n",
              "      <td>201810</td>\n",
              "      <td>R</td>\n",
              "      <td>전통시장</td>\n",
              "      <td>1001412</td>\n",
              "      <td>화곡본동시장</td>\n",
              "      <td>186203</td>\n",
              "      <td>449328</td>\n",
              "      <td>11500</td>\n",
              "      <td>11500590</td>\n",
              "      <td>NaN</td>\n",
              "    </tr>\n",
              "  </tbody>\n",
              "</table>\n",
              "</div>"
            ],
            "text/plain": [
              "   기준_년월_코드 상권_구분_코드 상권_구분_코드_명    상권_코드  ...  와이좌표_값  시군구_코드    행정동_코드  형태정보\n",
              "0    201810        R       전통시장  1001453  ...  442084   11620  11620585   NaN\n",
              "1    201810        R       전통시장  1001454  ...  442413   11620  11620595   NaN\n",
              "2    201810        R       전통시장  1001474  ...  444227   11680  11680650   NaN\n",
              "3    201810        R       전통시장  1001475  ...  443310   11680  11680670   NaN\n",
              "4    201810        R       전통시장  1001412  ...  449328   11500  11500590   NaN\n",
              "\n",
              "[5 rows x 10 columns]"
            ]
          },
          "metadata": {
            "tags": []
          },
          "execution_count": 16
        }
      ]
    },
    {
      "cell_type": "code",
      "metadata": {
        "colab": {
          "base_uri": "https://localhost:8080/"
        },
        "id": "ppEJ5JQ8HunV",
        "outputId": "52f06667-9a92-4b8b-dc81-d07eac53ecdc"
      },
      "source": [
        "df_comm['상권_구분_코드_명'].unique()"
      ],
      "execution_count": null,
      "outputs": [
        {
          "output_type": "execute_result",
          "data": {
            "text/plain": [
              "array(['전통시장', '관광특구', '골목상권', '발달상권'], dtype=object)"
            ]
          },
          "metadata": {
            "tags": []
          },
          "execution_count": 13
        }
      ]
    },
    {
      "cell_type": "code",
      "metadata": {
        "id": "gAY32gaMox9o"
      },
      "source": [
        "#좌표 변환 (ref : https://m.blog.naver.com/wideeyed/221243506770)\n",
        "from pyproj import Proj, transform\n",
        "import numpy as np"
      ],
      "execution_count": 20,
      "outputs": []
    },
    {
      "cell_type": "code",
      "metadata": {
        "id": "fPqKEqjMoy23"
      },
      "source": [
        "# Projection 정의\n",
        "# UTM-K\n",
        "proj_GRS80 = Proj('epsg:5181') # 중부원점(GRS80) 도로명주소 지도 사용 중\n",
        "\n",
        "# WGS1984\n",
        "proj_WGS84 = Proj('epsg:4326') # Wgs84 경도/위도, GPS사용 전지구 좌표"
      ],
      "execution_count": 101,
      "outputs": []
    },
    {
      "cell_type": "code",
      "metadata": {
        "colab": {
          "base_uri": "https://localhost:8080/"
        },
        "id": "7VqG-c68pN19",
        "outputId": "36948aa5-4c8c-4ea1-84ce-2c50e01d7399"
      },
      "source": [
        "df_comm['엑스좌표_값_2'], df_comm['와이좌표_값_2'] = transform(proj_GRS80, proj_WGS84, df_comm['엑스좌표_값'], df_comm['와이좌표_값'])"
      ],
      "execution_count": 103,
      "outputs": [
        {
          "output_type": "stream",
          "text": [
            "/usr/local/lib/python3.7/dist-packages/ipykernel_launcher.py:1: DeprecationWarning: This function is deprecated. See: https://pyproj4.github.io/pyproj/stable/gotchas.html#upgrading-to-pyproj-2-from-pyproj-1\n",
            "  \"\"\"Entry point for launching an IPython kernel.\n"
          ],
          "name": "stderr"
        }
      ]
    },
    {
      "cell_type": "code",
      "metadata": {
        "colab": {
          "base_uri": "https://localhost:8080/",
          "height": 204
        },
        "id": "lMkqkr1UqD6J",
        "outputId": "3e8b203d-489e-4e64-d526-8cba06473098"
      },
      "source": [
        "df_comm.head()"
      ],
      "execution_count": 98,
      "outputs": [
        {
          "output_type": "execute_result",
          "data": {
            "text/html": [
              "<div>\n",
              "<style scoped>\n",
              "    .dataframe tbody tr th:only-of-type {\n",
              "        vertical-align: middle;\n",
              "    }\n",
              "\n",
              "    .dataframe tbody tr th {\n",
              "        vertical-align: top;\n",
              "    }\n",
              "\n",
              "    .dataframe thead th {\n",
              "        text-align: right;\n",
              "    }\n",
              "</style>\n",
              "<table border=\"1\" class=\"dataframe\">\n",
              "  <thead>\n",
              "    <tr style=\"text-align: right;\">\n",
              "      <th></th>\n",
              "      <th>기준_년월_코드</th>\n",
              "      <th>상권_구분_코드</th>\n",
              "      <th>상권_구분_코드_명</th>\n",
              "      <th>상권_코드</th>\n",
              "      <th>상권_코드_명</th>\n",
              "      <th>엑스좌표_값</th>\n",
              "      <th>와이좌표_값</th>\n",
              "      <th>시군구_코드</th>\n",
              "      <th>행정동_코드</th>\n",
              "      <th>형태정보</th>\n",
              "      <th>엑스좌표_값_2</th>\n",
              "      <th>와이좌표_값_2</th>\n",
              "    </tr>\n",
              "  </thead>\n",
              "  <tbody>\n",
              "    <tr>\n",
              "      <th>0</th>\n",
              "      <td>201810</td>\n",
              "      <td>R</td>\n",
              "      <td>전통시장</td>\n",
              "      <td>1001453</td>\n",
              "      <td>낙성대시장</td>\n",
              "      <td>196121</td>\n",
              "      <td>442084</td>\n",
              "      <td>11620</td>\n",
              "      <td>11620585</td>\n",
              "      <td>NaN</td>\n",
              "      <td>35.235189</td>\n",
              "      <td>129.657080</td>\n",
              "    </tr>\n",
              "    <tr>\n",
              "      <th>1</th>\n",
              "      <td>201810</td>\n",
              "      <td>R</td>\n",
              "      <td>전통시장</td>\n",
              "      <td>1001454</td>\n",
              "      <td>봉천제일종합시장</td>\n",
              "      <td>195147</td>\n",
              "      <td>442413</td>\n",
              "      <td>11620</td>\n",
              "      <td>11620595</td>\n",
              "      <td>NaN</td>\n",
              "      <td>35.226340</td>\n",
              "      <td>129.660403</td>\n",
              "    </tr>\n",
              "    <tr>\n",
              "      <th>2</th>\n",
              "      <td>201810</td>\n",
              "      <td>R</td>\n",
              "      <td>전통시장</td>\n",
              "      <td>1001474</td>\n",
              "      <td>도곡시장</td>\n",
              "      <td>204551</td>\n",
              "      <td>444227</td>\n",
              "      <td>11680</td>\n",
              "      <td>11680650</td>\n",
              "      <td>NaN</td>\n",
              "      <td>35.310569</td>\n",
              "      <td>129.683101</td>\n",
              "    </tr>\n",
              "    <tr>\n",
              "      <th>3</th>\n",
              "      <td>201810</td>\n",
              "      <td>R</td>\n",
              "      <td>전통시장</td>\n",
              "      <td>1001475</td>\n",
              "      <td>강남개포시장</td>\n",
              "      <td>206065</td>\n",
              "      <td>443310</td>\n",
              "      <td>11680</td>\n",
              "      <td>11680670</td>\n",
              "      <td>NaN</td>\n",
              "      <td>35.324424</td>\n",
              "      <td>129.673478</td>\n",
              "    </tr>\n",
              "    <tr>\n",
              "      <th>4</th>\n",
              "      <td>201810</td>\n",
              "      <td>R</td>\n",
              "      <td>전통시장</td>\n",
              "      <td>1001412</td>\n",
              "      <td>화곡본동시장</td>\n",
              "      <td>186203</td>\n",
              "      <td>449328</td>\n",
              "      <td>11500</td>\n",
              "      <td>11500590</td>\n",
              "      <td>NaN</td>\n",
              "      <td>35.144122</td>\n",
              "      <td>129.733576</td>\n",
              "    </tr>\n",
              "  </tbody>\n",
              "</table>\n",
              "</div>"
            ],
            "text/plain": [
              "   기준_년월_코드 상권_구분_코드 상권_구분_코드_명    상권_코드  ...    행정동_코드  형태정보   엑스좌표_값_2    와이좌표_값_2\n",
              "0    201810        R       전통시장  1001453  ...  11620585   NaN  35.235189  129.657080\n",
              "1    201810        R       전통시장  1001454  ...  11620595   NaN  35.226340  129.660403\n",
              "2    201810        R       전통시장  1001474  ...  11680650   NaN  35.310569  129.683101\n",
              "3    201810        R       전통시장  1001475  ...  11680670   NaN  35.324424  129.673478\n",
              "4    201810        R       전통시장  1001412  ...  11500590   NaN  35.144122  129.733576\n",
              "\n",
              "[5 rows x 12 columns]"
            ]
          },
          "metadata": {
            "tags": []
          },
          "execution_count": 98
        }
      ]
    },
    {
      "cell_type": "code",
      "metadata": {
        "id": "L1PYQ2d3qSHb"
      },
      "source": [
        "import folium"
      ],
      "execution_count": 99,
      "outputs": []
    },
    {
      "cell_type": "code",
      "metadata": {
        "colab": {
          "base_uri": "https://localhost:8080/",
          "height": 808
        },
        "id": "Jd5j2lAMqUlG",
        "outputId": "35c579ba-8a61-463f-e863-9bfbbccc28a3"
      },
      "source": [
        "# 새로운 지도 객체 생성\n",
        "new_map = folium.Map(location=[37.5642135, 127.0016985], zoom_start=12, tiles='Stamen Toner')\n",
        "\n",
        "df_mapping = df_comm.sample(10)\n",
        "# 마커 \n",
        "for i, m in df_mapping.iterrows():\n",
        "  marker = folium.Marker(location=[m['엑스좌표_값_2'], m['와이좌표_값_2']],\n",
        "                         popup=m['상권_코드_명'])\n",
        "  marker.add_to(new_map)\n",
        " \n",
        "new_map\n"
      ],
      "execution_count": 104,
      "outputs": [
        {
          "output_type": "execute_result",
          "data": {
            "text/html": [
              "<div style=\"width:100%;\"><div style=\"position:relative;width:100%;height:0;padding-bottom:60%;\"><span style=\"color:#565656\">Make this Notebook Trusted to load map: File -> Trust Notebook</span><iframe src=\"about:blank\" style=\"position:absolute;width:100%;height:100%;left:0;top:0;border:none !important;\" data-html=%3C%21DOCTYPE%20html%3E%0A%3Chead%3E%20%20%20%20%0A%20%20%20%20%3Cmeta%20http-equiv%3D%22content-type%22%20content%3D%22text/html%3B%20charset%3DUTF-8%22%20/%3E%0A%20%20%20%20%3Cscript%3EL_PREFER_CANVAS%3Dfalse%3B%20L_NO_TOUCH%3Dfalse%3B%20L_DISABLE_3D%3Dfalse%3B%3C/script%3E%0A%20%20%20%20%3Cscript%20src%3D%22https%3A//cdn.jsdelivr.net/npm/leaflet%401.4.0/dist/leaflet.js%22%3E%3C/script%3E%0A%20%20%20%20%3Cscript%20src%3D%22https%3A//code.jquery.com/jquery-1.12.4.min.js%22%3E%3C/script%3E%0A%20%20%20%20%3Cscript%20src%3D%22https%3A//maxcdn.bootstrapcdn.com/bootstrap/3.2.0/js/bootstrap.min.js%22%3E%3C/script%3E%0A%20%20%20%20%3Cscript%20src%3D%22https%3A//cdnjs.cloudflare.com/ajax/libs/Leaflet.awesome-markers/2.0.2/leaflet.awesome-markers.js%22%3E%3C/script%3E%0A%20%20%20%20%3Clink%20rel%3D%22stylesheet%22%20href%3D%22https%3A//cdn.jsdelivr.net/npm/leaflet%401.4.0/dist/leaflet.css%22/%3E%0A%20%20%20%20%3Clink%20rel%3D%22stylesheet%22%20href%3D%22https%3A//maxcdn.bootstrapcdn.com/bootstrap/3.2.0/css/bootstrap.min.css%22/%3E%0A%20%20%20%20%3Clink%20rel%3D%22stylesheet%22%20href%3D%22https%3A//maxcdn.bootstrapcdn.com/bootstrap/3.2.0/css/bootstrap-theme.min.css%22/%3E%0A%20%20%20%20%3Clink%20rel%3D%22stylesheet%22%20href%3D%22https%3A//maxcdn.bootstrapcdn.com/font-awesome/4.6.3/css/font-awesome.min.css%22/%3E%0A%20%20%20%20%3Clink%20rel%3D%22stylesheet%22%20href%3D%22https%3A//cdnjs.cloudflare.com/ajax/libs/Leaflet.awesome-markers/2.0.2/leaflet.awesome-markers.css%22/%3E%0A%20%20%20%20%3Clink%20rel%3D%22stylesheet%22%20href%3D%22https%3A//rawcdn.githack.com/python-visualization/folium/master/folium/templates/leaflet.awesome.rotate.css%22/%3E%0A%20%20%20%20%3Cstyle%3Ehtml%2C%20body%20%7Bwidth%3A%20100%25%3Bheight%3A%20100%25%3Bmargin%3A%200%3Bpadding%3A%200%3B%7D%3C/style%3E%0A%20%20%20%20%3Cstyle%3E%23map%20%7Bposition%3Aabsolute%3Btop%3A0%3Bbottom%3A0%3Bright%3A0%3Bleft%3A0%3B%7D%3C/style%3E%0A%20%20%20%20%0A%20%20%20%20%3Cmeta%20name%3D%22viewport%22%20content%3D%22width%3Ddevice-width%2C%0A%20%20%20%20%20%20%20%20initial-scale%3D1.0%2C%20maximum-scale%3D1.0%2C%20user-scalable%3Dno%22%20/%3E%0A%20%20%20%20%3Cstyle%3E%23map_2f65dffc51e84a36a6f8ebaa50a9da34%20%7B%0A%20%20%20%20%20%20%20%20position%3A%20relative%3B%0A%20%20%20%20%20%20%20%20width%3A%20100.0%25%3B%0A%20%20%20%20%20%20%20%20height%3A%20100.0%25%3B%0A%20%20%20%20%20%20%20%20left%3A%200.0%25%3B%0A%20%20%20%20%20%20%20%20top%3A%200.0%25%3B%0A%20%20%20%20%20%20%20%20%7D%0A%20%20%20%20%3C/style%3E%0A%3C/head%3E%0A%3Cbody%3E%20%20%20%20%0A%20%20%20%20%0A%20%20%20%20%3Cdiv%20class%3D%22folium-map%22%20id%3D%22map_2f65dffc51e84a36a6f8ebaa50a9da34%22%20%3E%3C/div%3E%0A%3C/body%3E%0A%3Cscript%3E%20%20%20%20%0A%20%20%20%20%0A%20%20%20%20%0A%20%20%20%20%20%20%20%20var%20bounds%20%3D%20null%3B%0A%20%20%20%20%0A%0A%20%20%20%20var%20map_2f65dffc51e84a36a6f8ebaa50a9da34%20%3D%20L.map%28%0A%20%20%20%20%20%20%20%20%27map_2f65dffc51e84a36a6f8ebaa50a9da34%27%2C%20%7B%0A%20%20%20%20%20%20%20%20center%3A%20%5B37.5642135%2C%20127.0016985%5D%2C%0A%20%20%20%20%20%20%20%20zoom%3A%2012%2C%0A%20%20%20%20%20%20%20%20maxBounds%3A%20bounds%2C%0A%20%20%20%20%20%20%20%20layers%3A%20%5B%5D%2C%0A%20%20%20%20%20%20%20%20worldCopyJump%3A%20false%2C%0A%20%20%20%20%20%20%20%20crs%3A%20L.CRS.EPSG3857%2C%0A%20%20%20%20%20%20%20%20zoomControl%3A%20true%2C%0A%20%20%20%20%20%20%20%20%7D%29%3B%0A%0A%0A%20%20%20%20%0A%20%20%20%20var%20tile_layer_1ca09b5161204727803a853d7c066024%20%3D%20L.tileLayer%28%0A%20%20%20%20%20%20%20%20%27https%3A//stamen-tiles-%7Bs%7D.a.ssl.fastly.net/toner/%7Bz%7D/%7Bx%7D/%7By%7D.png%27%2C%0A%20%20%20%20%20%20%20%20%7B%0A%20%20%20%20%20%20%20%20%22attribution%22%3A%20null%2C%0A%20%20%20%20%20%20%20%20%22detectRetina%22%3A%20false%2C%0A%20%20%20%20%20%20%20%20%22maxNativeZoom%22%3A%2018%2C%0A%20%20%20%20%20%20%20%20%22maxZoom%22%3A%2018%2C%0A%20%20%20%20%20%20%20%20%22minZoom%22%3A%200%2C%0A%20%20%20%20%20%20%20%20%22noWrap%22%3A%20false%2C%0A%20%20%20%20%20%20%20%20%22opacity%22%3A%201%2C%0A%20%20%20%20%20%20%20%20%22subdomains%22%3A%20%22abc%22%2C%0A%20%20%20%20%20%20%20%20%22tms%22%3A%20false%0A%7D%29.addTo%28map_2f65dffc51e84a36a6f8ebaa50a9da34%29%3B%0A%20%20%20%20%0A%20%20%20%20%20%20%20%20var%20marker_3f5b3c1052ae4be59c41dd33abd1f4d9%20%3D%20L.marker%28%0A%20%20%20%20%20%20%20%20%20%20%20%20%5B35.30139054593065%2C%20129.8743486608515%5D%2C%0A%20%20%20%20%20%20%20%20%20%20%20%20%7B%0A%20%20%20%20%20%20%20%20%20%20%20%20%20%20%20%20icon%3A%20new%20L.Icon.Default%28%29%2C%0A%20%20%20%20%20%20%20%20%20%20%20%20%20%20%20%20%7D%0A%20%20%20%20%20%20%20%20%20%20%20%20%29.addTo%28map_2f65dffc51e84a36a6f8ebaa50a9da34%29%3B%0A%20%20%20%20%20%20%20%20%0A%20%20%20%20%0A%20%20%20%20%20%20%20%20%20%20%20%20var%20popup_f8cbd1e4daef44efb1758676533c59f3%20%3D%20L.popup%28%7BmaxWidth%3A%20%27100%25%27%0A%20%20%20%20%20%20%20%20%20%20%20%20%0A%20%20%20%20%20%20%20%20%20%20%20%20%7D%29%3B%0A%0A%20%20%20%20%20%20%20%20%20%20%20%20%0A%20%20%20%20%20%20%20%20%20%20%20%20%20%20%20%20var%20html_7264ad170c224c51b8afa59f785128c0%20%3D%20%24%28%60%3Cdiv%20id%3D%22html_7264ad170c224c51b8afa59f785128c0%22%20style%3D%22width%3A%20100.0%25%3B%20height%3A%20100.0%25%3B%22%3E%EC%B0%BD%EB%8F%99%EC%97%AD%3C/div%3E%60%29%5B0%5D%3B%0A%20%20%20%20%20%20%20%20%20%20%20%20%20%20%20%20popup_f8cbd1e4daef44efb1758676533c59f3.setContent%28html_7264ad170c224c51b8afa59f785128c0%29%3B%0A%20%20%20%20%20%20%20%20%20%20%20%20%0A%0A%20%20%20%20%20%20%20%20%20%20%20%20marker_3f5b3c1052ae4be59c41dd33abd1f4d9.bindPopup%28popup_f8cbd1e4daef44efb1758676533c59f3%29%0A%20%20%20%20%20%20%20%20%20%20%20%20%3B%0A%0A%20%20%20%20%20%20%20%20%20%20%20%20%0A%20%20%20%20%20%20%20%20%0A%20%20%20%20%0A%20%20%20%20%20%20%20%20var%20marker_357e387741904ea2bd182b9d8bca2e52%20%3D%20L.marker%28%0A%20%20%20%20%20%20%20%20%20%20%20%20%5B35.33414101167919%2C%20129.74255947055383%5D%2C%0A%20%20%20%20%20%20%20%20%20%20%20%20%7B%0A%20%20%20%20%20%20%20%20%20%20%20%20%20%20%20%20icon%3A%20new%20L.Icon.Default%28%29%2C%0A%20%20%20%20%20%20%20%20%20%20%20%20%20%20%20%20%7D%0A%20%20%20%20%20%20%20%20%20%20%20%20%29.addTo%28map_2f65dffc51e84a36a6f8ebaa50a9da34%29%3B%0A%20%20%20%20%20%20%20%20%0A%20%20%20%20%0A%20%20%20%20%20%20%20%20%20%20%20%20var%20popup_5a0fa9cdd001456eb2fa8008c45c4d5b%20%3D%20L.popup%28%7BmaxWidth%3A%20%27100%25%27%0A%20%20%20%20%20%20%20%20%20%20%20%20%0A%20%20%20%20%20%20%20%20%20%20%20%20%7D%29%3B%0A%0A%20%20%20%20%20%20%20%20%20%20%20%20%0A%20%20%20%20%20%20%20%20%20%20%20%20%20%20%20%20var%20html_9f7d35ebe58141168b4970d7d8be4703%20%3D%20%24%28%60%3Cdiv%20id%3D%22html_9f7d35ebe58141168b4970d7d8be4703%22%20style%3D%22width%3A%20100.0%25%3B%20height%3A%20100.0%25%3B%22%3E%EA%B4%91%EB%82%98%EB%A3%A8%EB%A1%9C36%EA%B8%B8%3C/div%3E%60%29%5B0%5D%3B%0A%20%20%20%20%20%20%20%20%20%20%20%20%20%20%20%20popup_5a0fa9cdd001456eb2fa8008c45c4d5b.setContent%28html_9f7d35ebe58141168b4970d7d8be4703%29%3B%0A%20%20%20%20%20%20%20%20%20%20%20%20%0A%0A%20%20%20%20%20%20%20%20%20%20%20%20marker_357e387741904ea2bd182b9d8bca2e52.bindPopup%28popup_5a0fa9cdd001456eb2fa8008c45c4d5b%29%0A%20%20%20%20%20%20%20%20%20%20%20%20%3B%0A%0A%20%20%20%20%20%20%20%20%20%20%20%20%0A%20%20%20%20%20%20%20%20%0A%20%20%20%20%0A%20%20%20%20%20%20%20%20var%20marker_951ab57065c443d2967d49f4cb52b2b7%20%3D%20L.marker%28%0A%20%20%20%20%20%20%20%20%20%20%20%20%5B35.29214243188853%2C%20129.88247187391644%5D%2C%0A%20%20%20%20%20%20%20%20%20%20%20%20%7B%0A%20%20%20%20%20%20%20%20%20%20%20%20%20%20%20%20icon%3A%20new%20L.Icon.Default%28%29%2C%0A%20%20%20%20%20%20%20%20%20%20%20%20%20%20%20%20%7D%0A%20%20%20%20%20%20%20%20%20%20%20%20%29.addTo%28map_2f65dffc51e84a36a6f8ebaa50a9da34%29%3B%0A%20%20%20%20%20%20%20%20%0A%20%20%20%20%0A%20%20%20%20%20%20%20%20%20%20%20%20var%20popup_20c9c3f191fc4dca8fbb072a3c6f9b23%20%3D%20L.popup%28%7BmaxWidth%3A%20%27100%25%27%0A%20%20%20%20%20%20%20%20%20%20%20%20%0A%20%20%20%20%20%20%20%20%20%20%20%20%7D%29%3B%0A%0A%20%20%20%20%20%20%20%20%20%20%20%20%0A%20%20%20%20%20%20%20%20%20%20%20%20%20%20%20%20var%20html_e0ac69d0871840c3b4bc2d18907e5076%20%3D%20%24%28%60%3Cdiv%20id%3D%22html_e0ac69d0871840c3b4bc2d18907e5076%22%20style%3D%22width%3A%20100.0%25%3B%20height%3A%20100.0%25%3B%22%3E%EB%B0%A9%ED%95%99%EB%A1%9C5%EA%B8%B8%3C/div%3E%60%29%5B0%5D%3B%0A%20%20%20%20%20%20%20%20%20%20%20%20%20%20%20%20popup_20c9c3f191fc4dca8fbb072a3c6f9b23.setContent%28html_e0ac69d0871840c3b4bc2d18907e5076%29%3B%0A%20%20%20%20%20%20%20%20%20%20%20%20%0A%0A%20%20%20%20%20%20%20%20%20%20%20%20marker_951ab57065c443d2967d49f4cb52b2b7.bindPopup%28popup_20c9c3f191fc4dca8fbb072a3c6f9b23%29%0A%20%20%20%20%20%20%20%20%20%20%20%20%3B%0A%0A%20%20%20%20%20%20%20%20%20%20%20%20%0A%20%20%20%20%20%20%20%20%0A%20%20%20%20%0A%20%20%20%20%20%20%20%20var%20marker_c2f5af893c5e48dd931817188bd252e5%20%3D%20L.marker%28%0A%20%20%20%20%20%20%20%20%20%20%20%20%5B35.188911492787305%2C%20129.66911416281488%5D%2C%0A%20%20%20%20%20%20%20%20%20%20%20%20%7B%0A%20%20%20%20%20%20%20%20%20%20%20%20%20%20%20%20icon%3A%20new%20L.Icon.Default%28%29%2C%0A%20%20%20%20%20%20%20%20%20%20%20%20%20%20%20%20%7D%0A%20%20%20%20%20%20%20%20%20%20%20%20%29.addTo%28map_2f65dffc51e84a36a6f8ebaa50a9da34%29%3B%0A%20%20%20%20%20%20%20%20%0A%20%20%20%20%0A%20%20%20%20%20%20%20%20%20%20%20%20var%20popup_42ccf51b19404ba8b6dd2748e1e771a3%20%3D%20L.popup%28%7BmaxWidth%3A%20%27100%25%27%0A%20%20%20%20%20%20%20%20%20%20%20%20%0A%20%20%20%20%20%20%20%20%20%20%20%20%7D%29%3B%0A%0A%20%20%20%20%20%20%20%20%20%20%20%20%0A%20%20%20%20%20%20%20%20%20%20%20%20%20%20%20%20var%20html_f458b1da111b480f969610a517fc3c88%20%3D%20%24%28%60%3Cdiv%20id%3D%22html_f458b1da111b480f969610a517fc3c88%22%20style%3D%22width%3A%20100.0%25%3B%20height%3A%20100.0%25%3B%22%3E%EB%8F%84%EB%A6%BC%EC%B2%9C%EB%A1%9C21%EA%B8%B8%3C/div%3E%60%29%5B0%5D%3B%0A%20%20%20%20%20%20%20%20%20%20%20%20%20%20%20%20popup_42ccf51b19404ba8b6dd2748e1e771a3.setContent%28html_f458b1da111b480f969610a517fc3c88%29%3B%0A%20%20%20%20%20%20%20%20%20%20%20%20%0A%0A%20%20%20%20%20%20%20%20%20%20%20%20marker_c2f5af893c5e48dd931817188bd252e5.bindPopup%28popup_42ccf51b19404ba8b6dd2748e1e771a3%29%0A%20%20%20%20%20%20%20%20%20%20%20%20%3B%0A%0A%20%20%20%20%20%20%20%20%20%20%20%20%0A%20%20%20%20%20%20%20%20%0A%20%20%20%20%0A%20%20%20%20%20%20%20%20var%20marker_8410e984f63b43e892214b405f843bb8%20%3D%20L.marker%28%0A%20%20%20%20%20%20%20%20%20%20%20%20%5B35.182619955621945%2C%20129.7615887595682%5D%2C%0A%20%20%20%20%20%20%20%20%20%20%20%20%7B%0A%20%20%20%20%20%20%20%20%20%20%20%20%20%20%20%20icon%3A%20new%20L.Icon.Default%28%29%2C%0A%20%20%20%20%20%20%20%20%20%20%20%20%20%20%20%20%7D%0A%20%20%20%20%20%20%20%20%20%20%20%20%29.addTo%28map_2f65dffc51e84a36a6f8ebaa50a9da34%29%3B%0A%20%20%20%20%20%20%20%20%0A%20%20%20%20%0A%20%20%20%20%20%20%20%20%20%20%20%20var%20popup_827d54b434af4d2fb04d7085918dcefd%20%3D%20L.popup%28%7BmaxWidth%3A%20%27100%25%27%0A%20%20%20%20%20%20%20%20%20%20%20%20%0A%20%20%20%20%20%20%20%20%20%20%20%20%7D%29%3B%0A%0A%20%20%20%20%20%20%20%20%20%20%20%20%0A%20%20%20%20%20%20%20%20%20%20%20%20%20%20%20%20var%20html_106a90df87fc45f18fd3d0e891ce0c69%20%3D%20%24%28%60%3Cdiv%20id%3D%22html_106a90df87fc45f18fd3d0e891ce0c69%22%20style%3D%22width%3A%20100.0%25%3B%20height%3A%20100.0%25%3B%22%3E%EB%A7%88%ED%8F%AC%EB%86%8D%EC%88%98%EC%82%B0%EB%AC%BC%EC%8B%9C%EC%9E%A5%3C/div%3E%60%29%5B0%5D%3B%0A%20%20%20%20%20%20%20%20%20%20%20%20%20%20%20%20popup_827d54b434af4d2fb04d7085918dcefd.setContent%28html_106a90df87fc45f18fd3d0e891ce0c69%29%3B%0A%20%20%20%20%20%20%20%20%20%20%20%20%0A%0A%20%20%20%20%20%20%20%20%20%20%20%20marker_8410e984f63b43e892214b405f843bb8.bindPopup%28popup_827d54b434af4d2fb04d7085918dcefd%29%0A%20%20%20%20%20%20%20%20%20%20%20%20%3B%0A%0A%20%20%20%20%20%20%20%20%20%20%20%20%0A%20%20%20%20%20%20%20%20%0A%20%20%20%20%0A%20%20%20%20%20%20%20%20var%20marker_948e263a7a894cffade18dcf14ed0991%20%3D%20L.marker%28%0A%20%20%20%20%20%20%20%20%20%20%20%20%5B35.29768020295667%2C%20129.6683970142627%5D%2C%0A%20%20%20%20%20%20%20%20%20%20%20%20%7B%0A%20%20%20%20%20%20%20%20%20%20%20%20%20%20%20%20icon%3A%20new%20L.Icon.Default%28%29%2C%0A%20%20%20%20%20%20%20%20%20%20%20%20%20%20%20%20%7D%0A%20%20%20%20%20%20%20%20%20%20%20%20%29.addTo%28map_2f65dffc51e84a36a6f8ebaa50a9da34%29%3B%0A%20%20%20%20%20%20%20%20%0A%20%20%20%20%0A%20%20%20%20%20%20%20%20%20%20%20%20var%20popup_5626ed76acd243399d0748a12c05a8f9%20%3D%20L.popup%28%7BmaxWidth%3A%20%27100%25%27%0A%20%20%20%20%20%20%20%20%20%20%20%20%0A%20%20%20%20%20%20%20%20%20%20%20%20%7D%29%3B%0A%0A%20%20%20%20%20%20%20%20%20%20%20%20%0A%20%20%20%20%20%20%20%20%20%20%20%20%20%20%20%20var%20html_3531911c42be4ddbaf583bd6df96184c%20%3D%20%24%28%60%3Cdiv%20id%3D%22html_3531911c42be4ddbaf583bd6df96184c%22%20style%3D%22width%3A%20100.0%25%3B%20height%3A%20100.0%25%3B%22%3E%EC%96%91%EC%9E%AC%EC%8B%9C%EC%9E%A5%3C/div%3E%60%29%5B0%5D%3B%0A%20%20%20%20%20%20%20%20%20%20%20%20%20%20%20%20popup_5626ed76acd243399d0748a12c05a8f9.setContent%28html_3531911c42be4ddbaf583bd6df96184c%29%3B%0A%20%20%20%20%20%20%20%20%20%20%20%20%0A%0A%20%20%20%20%20%20%20%20%20%20%20%20marker_948e263a7a894cffade18dcf14ed0991.bindPopup%28popup_5626ed76acd243399d0748a12c05a8f9%29%0A%20%20%20%20%20%20%20%20%20%20%20%20%3B%0A%0A%20%20%20%20%20%20%20%20%20%20%20%20%0A%20%20%20%20%20%20%20%20%0A%20%20%20%20%0A%20%20%20%20%20%20%20%20var%20marker_cbe4d8aaf3b747cba93c28baa4d79972%20%3D%20L.marker%28%0A%20%20%20%20%20%20%20%20%20%20%20%20%5B35.19404933779451%2C%20129.80913930747045%5D%2C%0A%20%20%20%20%20%20%20%20%20%20%20%20%7B%0A%20%20%20%20%20%20%20%20%20%20%20%20%20%20%20%20icon%3A%20new%20L.Icon.Default%28%29%2C%0A%20%20%20%20%20%20%20%20%20%20%20%20%20%20%20%20%7D%0A%20%20%20%20%20%20%20%20%20%20%20%20%29.addTo%28map_2f65dffc51e84a36a6f8ebaa50a9da34%29%3B%0A%20%20%20%20%20%20%20%20%0A%20%20%20%20%0A%20%20%20%20%20%20%20%20%20%20%20%20var%20popup_a480f06c9d9c4a28872699d19c73291c%20%3D%20L.popup%28%7BmaxWidth%3A%20%27100%25%27%0A%20%20%20%20%20%20%20%20%20%20%20%20%0A%20%20%20%20%20%20%20%20%20%20%20%20%7D%29%3B%0A%0A%20%20%20%20%20%20%20%20%20%20%20%20%0A%20%20%20%20%20%20%20%20%20%20%20%20%20%20%20%20var%20html_5b99d805b0ef454db5a5dc26507cac83%20%3D%20%24%28%60%3Cdiv%20id%3D%22html_5b99d805b0ef454db5a5dc26507cac83%22%20style%3D%22width%3A%20100.0%25%3B%20height%3A%20100.0%25%3B%22%3E%EC%97%B0%EC%84%9C%EB%A1%9C3%EA%B8%B8%3C/div%3E%60%29%5B0%5D%3B%0A%20%20%20%20%20%20%20%20%20%20%20%20%20%20%20%20popup_a480f06c9d9c4a28872699d19c73291c.setContent%28html_5b99d805b0ef454db5a5dc26507cac83%29%3B%0A%20%20%20%20%20%20%20%20%20%20%20%20%0A%0A%20%20%20%20%20%20%20%20%20%20%20%20marker_cbe4d8aaf3b747cba93c28baa4d79972.bindPopup%28popup_a480f06c9d9c4a28872699d19c73291c%29%0A%20%20%20%20%20%20%20%20%20%20%20%20%3B%0A%0A%20%20%20%20%20%20%20%20%20%20%20%20%0A%20%20%20%20%20%20%20%20%0A%20%20%20%20%0A%20%20%20%20%20%20%20%20var%20marker_a14e483e6a204c80ac90bff030382f7e%20%3D%20L.marker%28%0A%20%20%20%20%20%20%20%20%20%20%20%20%5B35.23439904350152%2C%20129.7218996844803%5D%2C%0A%20%20%20%20%20%20%20%20%20%20%20%20%7B%0A%20%20%20%20%20%20%20%20%20%20%20%20%20%20%20%20icon%3A%20new%20L.Icon.Default%28%29%2C%0A%20%20%20%20%20%20%20%20%20%20%20%20%20%20%20%20%7D%0A%20%20%20%20%20%20%20%20%20%20%20%20%29.addTo%28map_2f65dffc51e84a36a6f8ebaa50a9da34%29%3B%0A%20%20%20%20%20%20%20%20%0A%20%20%20%20%0A%20%20%20%20%20%20%20%20%20%20%20%20var%20popup_cef050e426d9454480f5d92d113df3b9%20%3D%20L.popup%28%7BmaxWidth%3A%20%27100%25%27%0A%20%20%20%20%20%20%20%20%20%20%20%20%0A%20%20%20%20%20%20%20%20%20%20%20%20%7D%29%3B%0A%0A%20%20%20%20%20%20%20%20%20%20%20%20%0A%20%20%20%20%20%20%20%20%20%20%20%20%20%20%20%20var%20html_4113c707c1fc469d8ae9ccb15a8ea8a7%20%3D%20%24%28%60%3Cdiv%20id%3D%22html_4113c707c1fc469d8ae9ccb15a8ea8a7%22%20style%3D%22width%3A%20100.0%25%3B%20height%3A%20100.0%25%3B%22%3E%EC%9A%A9%EC%82%B0%20%EC%A0%84%EC%9E%90%EC%83%81%EA%B0%80_1%3C/div%3E%60%29%5B0%5D%3B%0A%20%20%20%20%20%20%20%20%20%20%20%20%20%20%20%20popup_cef050e426d9454480f5d92d113df3b9.setContent%28html_4113c707c1fc469d8ae9ccb15a8ea8a7%29%3B%0A%20%20%20%20%20%20%20%20%20%20%20%20%0A%0A%20%20%20%20%20%20%20%20%20%20%20%20marker_a14e483e6a204c80ac90bff030382f7e.bindPopup%28popup_cef050e426d9454480f5d92d113df3b9%29%0A%20%20%20%20%20%20%20%20%20%20%20%20%3B%0A%0A%20%20%20%20%20%20%20%20%20%20%20%20%0A%20%20%20%20%20%20%20%20%0A%20%20%20%20%0A%20%20%20%20%20%20%20%20var%20marker_d44a366aa564435aba8816dd52985be9%20%3D%20L.marker%28%0A%20%20%20%20%20%20%20%20%20%20%20%20%5B35.18600552912471%2C%20129.66073279147%5D%2C%0A%20%20%20%20%20%20%20%20%20%20%20%20%7B%0A%20%20%20%20%20%20%20%20%20%20%20%20%20%20%20%20icon%3A%20new%20L.Icon.Default%28%29%2C%0A%20%20%20%20%20%20%20%20%20%20%20%20%20%20%20%20%7D%0A%20%20%20%20%20%20%20%20%20%20%20%20%29.addTo%28map_2f65dffc51e84a36a6f8ebaa50a9da34%29%3B%0A%20%20%20%20%20%20%20%20%0A%20%20%20%20%0A%20%20%20%20%20%20%20%20%20%20%20%20var%20popup_f0c85bb6c622491ca9176b7cfe5e6f77%20%3D%20L.popup%28%7BmaxWidth%3A%20%27100%25%27%0A%20%20%20%20%20%20%20%20%20%20%20%20%0A%20%20%20%20%20%20%20%20%20%20%20%20%7D%29%3B%0A%0A%20%20%20%20%20%20%20%20%20%20%20%20%0A%20%20%20%20%20%20%20%20%20%20%20%20%20%20%20%20var%20html_3f2c9191dc8a42b893d919c9c39329ae%20%3D%20%24%28%60%3Cdiv%20id%3D%22html_3f2c9191dc8a42b893d919c9c39329ae%22%20style%3D%22width%3A%20100.0%25%3B%20height%3A%20100.0%25%3B%22%3E%EB%94%94%EC%A7%80%ED%84%B8%EB%A1%9C32%EA%B0%80%EA%B8%B8%3C/div%3E%60%29%5B0%5D%3B%0A%20%20%20%20%20%20%20%20%20%20%20%20%20%20%20%20popup_f0c85bb6c622491ca9176b7cfe5e6f77.setContent%28html_3f2c9191dc8a42b893d919c9c39329ae%29%3B%0A%20%20%20%20%20%20%20%20%20%20%20%20%0A%0A%20%20%20%20%20%20%20%20%20%20%20%20marker_d44a366aa564435aba8816dd52985be9.bindPopup%28popup_f0c85bb6c622491ca9176b7cfe5e6f77%29%0A%20%20%20%20%20%20%20%20%20%20%20%20%3B%0A%0A%20%20%20%20%20%20%20%20%20%20%20%20%0A%20%20%20%20%20%20%20%20%0A%20%20%20%20%0A%20%20%20%20%20%20%20%20var%20marker_c022bfb5ed3142a8bb6df2c11e20a458%20%3D%20L.marker%28%0A%20%20%20%20%20%20%20%20%20%20%20%20%5B35.2962968074251%2C%20129.9042574328627%5D%2C%0A%20%20%20%20%20%20%20%20%20%20%20%20%7B%0A%20%20%20%20%20%20%20%20%20%20%20%20%20%20%20%20icon%3A%20new%20L.Icon.Default%28%29%2C%0A%20%20%20%20%20%20%20%20%20%20%20%20%20%20%20%20%7D%0A%20%20%20%20%20%20%20%20%20%20%20%20%29.addTo%28map_2f65dffc51e84a36a6f8ebaa50a9da34%29%3B%0A%20%20%20%20%20%20%20%20%0A%20%20%20%20%0A%20%20%20%20%20%20%20%20%20%20%20%20var%20popup_e28372a4a3d246038ece652fc7df696c%20%3D%20L.popup%28%7BmaxWidth%3A%20%27100%25%27%0A%20%20%20%20%20%20%20%20%20%20%20%20%0A%20%20%20%20%20%20%20%20%20%20%20%20%7D%29%3B%0A%0A%20%20%20%20%20%20%20%20%20%20%20%20%0A%20%20%20%20%20%20%20%20%20%20%20%20%20%20%20%20var%20html_c595ef733e334e45b9b5ceeab0dc3066%20%3D%20%24%28%60%3Cdiv%20id%3D%22html_c595ef733e334e45b9b5ceeab0dc3066%22%20style%3D%22width%3A%20100.0%25%3B%20height%3A%20100.0%25%3B%22%3E%EB%8F%84%EB%B4%89%EB%A1%9C169%EB%82%98%EA%B8%B8%3C/div%3E%60%29%5B0%5D%3B%0A%20%20%20%20%20%20%20%20%20%20%20%20%20%20%20%20popup_e28372a4a3d246038ece652fc7df696c.setContent%28html_c595ef733e334e45b9b5ceeab0dc3066%29%3B%0A%20%20%20%20%20%20%20%20%20%20%20%20%0A%0A%20%20%20%20%20%20%20%20%20%20%20%20marker_c022bfb5ed3142a8bb6df2c11e20a458.bindPopup%28popup_e28372a4a3d246038ece652fc7df696c%29%0A%20%20%20%20%20%20%20%20%20%20%20%20%3B%0A%0A%20%20%20%20%20%20%20%20%20%20%20%20%0A%20%20%20%20%20%20%20%20%0A%3C/script%3E onload=\"this.contentDocument.open();this.contentDocument.write(    decodeURIComponent(this.getAttribute('data-html')));this.contentDocument.close();\" allowfullscreen webkitallowfullscreen mozallowfullscreen></iframe></div></div>"
            ],
            "text/plain": [
              "<folium.folium.Map at 0x7f4197650710>"
            ]
          },
          "metadata": {
            "tags": []
          },
          "execution_count": 104
        }
      ]
    },
    {
      "cell_type": "code",
      "metadata": {
        "id": "qLOxtewS9dpk"
      },
      "source": [
        "from fiona.crs import from_string\n",
        "import geopandas as gpd\n",
        "from shapely.geometry import Point, Polygon, LineString"
      ],
      "execution_count": 112,
      "outputs": []
    },
    {
      "cell_type": "code",
      "metadata": {
        "id": "FmWK57eE-kDe"
      },
      "source": [
        "df_comm['geometry'] = df_comm.apply(lambda row : Point([row['와이좌표_값'], row['엑스좌표_값']]), axis=1)\n",
        "df_comm = gpd.GeoDataFrame(df_comm, geometry='geometry')"
      ],
      "execution_count": 115,
      "outputs": []
    },
    {
      "cell_type": "code",
      "metadata": {
        "colab": {
          "base_uri": "https://localhost:8080/",
          "height": 306
        },
        "id": "KGGl1kcg_A1o",
        "outputId": "f4210f90-a7de-4938-c7d2-3bd18ac7e07f"
      },
      "source": [
        "df_comm.head()"
      ],
      "execution_count": 116,
      "outputs": [
        {
          "output_type": "execute_result",
          "data": {
            "text/html": [
              "<div>\n",
              "<style scoped>\n",
              "    .dataframe tbody tr th:only-of-type {\n",
              "        vertical-align: middle;\n",
              "    }\n",
              "\n",
              "    .dataframe tbody tr th {\n",
              "        vertical-align: top;\n",
              "    }\n",
              "\n",
              "    .dataframe thead th {\n",
              "        text-align: right;\n",
              "    }\n",
              "</style>\n",
              "<table border=\"1\" class=\"dataframe\">\n",
              "  <thead>\n",
              "    <tr style=\"text-align: right;\">\n",
              "      <th></th>\n",
              "      <th>기준_년월_코드</th>\n",
              "      <th>상권_구분_코드</th>\n",
              "      <th>상권_구분_코드_명</th>\n",
              "      <th>상권_코드</th>\n",
              "      <th>상권_코드_명</th>\n",
              "      <th>엑스좌표_값</th>\n",
              "      <th>와이좌표_값</th>\n",
              "      <th>시군구_코드</th>\n",
              "      <th>행정동_코드</th>\n",
              "      <th>형태정보</th>\n",
              "      <th>엑스좌표_값_2</th>\n",
              "      <th>와이좌표_값_2</th>\n",
              "      <th>geometry</th>\n",
              "    </tr>\n",
              "  </thead>\n",
              "  <tbody>\n",
              "    <tr>\n",
              "      <th>0</th>\n",
              "      <td>201810</td>\n",
              "      <td>R</td>\n",
              "      <td>전통시장</td>\n",
              "      <td>1001453</td>\n",
              "      <td>낙성대시장</td>\n",
              "      <td>196121</td>\n",
              "      <td>442084</td>\n",
              "      <td>11620</td>\n",
              "      <td>11620585</td>\n",
              "      <td>NaN</td>\n",
              "      <td>35.232408</td>\n",
              "      <td>129.659085</td>\n",
              "      <td>POINT (442084.000 196121.000)</td>\n",
              "    </tr>\n",
              "    <tr>\n",
              "      <th>1</th>\n",
              "      <td>201810</td>\n",
              "      <td>R</td>\n",
              "      <td>전통시장</td>\n",
              "      <td>1001454</td>\n",
              "      <td>봉천제일종합시장</td>\n",
              "      <td>195147</td>\n",
              "      <td>442413</td>\n",
              "      <td>11620</td>\n",
              "      <td>11620595</td>\n",
              "      <td>NaN</td>\n",
              "      <td>35.223559</td>\n",
              "      <td>129.662409</td>\n",
              "      <td>POINT (442413.000 195147.000)</td>\n",
              "    </tr>\n",
              "    <tr>\n",
              "      <th>2</th>\n",
              "      <td>201810</td>\n",
              "      <td>R</td>\n",
              "      <td>전통시장</td>\n",
              "      <td>1001474</td>\n",
              "      <td>도곡시장</td>\n",
              "      <td>204551</td>\n",
              "      <td>444227</td>\n",
              "      <td>11680</td>\n",
              "      <td>11680650</td>\n",
              "      <td>NaN</td>\n",
              "      <td>35.307789</td>\n",
              "      <td>129.685107</td>\n",
              "      <td>POINT (444227.000 204551.000)</td>\n",
              "    </tr>\n",
              "    <tr>\n",
              "      <th>3</th>\n",
              "      <td>201810</td>\n",
              "      <td>R</td>\n",
              "      <td>전통시장</td>\n",
              "      <td>1001475</td>\n",
              "      <td>강남개포시장</td>\n",
              "      <td>206065</td>\n",
              "      <td>443310</td>\n",
              "      <td>11680</td>\n",
              "      <td>11680670</td>\n",
              "      <td>NaN</td>\n",
              "      <td>35.321644</td>\n",
              "      <td>129.675484</td>\n",
              "      <td>POINT (443310.000 206065.000)</td>\n",
              "    </tr>\n",
              "    <tr>\n",
              "      <th>4</th>\n",
              "      <td>201810</td>\n",
              "      <td>R</td>\n",
              "      <td>전통시장</td>\n",
              "      <td>1001412</td>\n",
              "      <td>화곡본동시장</td>\n",
              "      <td>186203</td>\n",
              "      <td>449328</td>\n",
              "      <td>11500</td>\n",
              "      <td>11500590</td>\n",
              "      <td>NaN</td>\n",
              "      <td>35.141341</td>\n",
              "      <td>129.735578</td>\n",
              "      <td>POINT (449328.000 186203.000)</td>\n",
              "    </tr>\n",
              "  </tbody>\n",
              "</table>\n",
              "</div>"
            ],
            "text/plain": [
              "   기준_년월_코드 상권_구분_코드  ...    와이좌표_값_2                       geometry\n",
              "0    201810        R  ...  129.659085  POINT (442084.000 196121.000)\n",
              "1    201810        R  ...  129.662409  POINT (442413.000 195147.000)\n",
              "2    201810        R  ...  129.685107  POINT (444227.000 204551.000)\n",
              "3    201810        R  ...  129.675484  POINT (443310.000 206065.000)\n",
              "4    201810        R  ...  129.735578  POINT (449328.000 186203.000)\n",
              "\n",
              "[5 rows x 13 columns]"
            ]
          },
          "metadata": {
            "tags": []
          },
          "execution_count": 116
        }
      ]
    },
    {
      "cell_type": "code",
      "metadata": {
        "id": "NzFJyvtd9k8c"
      },
      "source": [
        "epsg5181 = from_string(\"+proj=tmerc +lat_0=38 +lon_0=127 +k=1 +x_0=200000 +y_0=500000 +ellps=GRS80 +units=m +no_defs\")"
      ],
      "execution_count": 117,
      "outputs": []
    },
    {
      "cell_type": "code",
      "metadata": {
        "colab": {
          "base_uri": "https://localhost:8080/"
        },
        "id": "dQgXkXHQ_FdZ",
        "outputId": "d4d93467-44fd-4294-d127-8ff923eed9a5"
      },
      "source": [
        "print(df_comm.crs)"
      ],
      "execution_count": 118,
      "outputs": [
        {
          "output_type": "stream",
          "text": [
            "None\n"
          ],
          "name": "stdout"
        }
      ]
    },
    {
      "cell_type": "code",
      "metadata": {
        "colab": {
          "base_uri": "https://localhost:8080/"
        },
        "id": "PDFopPnf_Lua",
        "outputId": "b1350cd6-5fd4-49d0-aeba-67984f44baf2"
      },
      "source": [
        "df_comm.crs = epsg5181\n",
        "print(df_comm.crs)"
      ],
      "execution_count": 119,
      "outputs": [
        {
          "output_type": "stream",
          "text": [
            "+proj=tmerc +lat_0=38 +lon_0=127 +k=1 +x_0=200000 +y_0=500000 +ellps=GRS80 +units=m +no_defs +type=crs\n"
          ],
          "name": "stdout"
        }
      ]
    },
    {
      "cell_type": "code",
      "metadata": {
        "id": "ebpjEPGf_t3V"
      },
      "source": [
        "epsg4326 = from_string(\"proj=longlat +ellps=WGS84 +datum=WGS84 +no_defs\")"
      ],
      "execution_count": 120,
      "outputs": []
    },
    {
      "cell_type": "code",
      "metadata": {
        "id": "gnpo5YRX9efV"
      },
      "source": [
        "df_comm = df_comm.to_crs(epsg4326)"
      ],
      "execution_count": 121,
      "outputs": []
    },
    {
      "cell_type": "code",
      "metadata": {
        "colab": {
          "base_uri": "https://localhost:8080/",
          "height": 204
        },
        "id": "vzGnyhHt_7aB",
        "outputId": "85770760-58cd-4541-93f5-22acba6f4e2e"
      },
      "source": [
        "df_comm.head()"
      ],
      "execution_count": 123,
      "outputs": [
        {
          "output_type": "execute_result",
          "data": {
            "text/html": [
              "<div>\n",
              "<style scoped>\n",
              "    .dataframe tbody tr th:only-of-type {\n",
              "        vertical-align: middle;\n",
              "    }\n",
              "\n",
              "    .dataframe tbody tr th {\n",
              "        vertical-align: top;\n",
              "    }\n",
              "\n",
              "    .dataframe thead th {\n",
              "        text-align: right;\n",
              "    }\n",
              "</style>\n",
              "<table border=\"1\" class=\"dataframe\">\n",
              "  <thead>\n",
              "    <tr style=\"text-align: right;\">\n",
              "      <th></th>\n",
              "      <th>기준_년월_코드</th>\n",
              "      <th>상권_구분_코드</th>\n",
              "      <th>상권_구분_코드_명</th>\n",
              "      <th>상권_코드</th>\n",
              "      <th>상권_코드_명</th>\n",
              "      <th>엑스좌표_값</th>\n",
              "      <th>와이좌표_값</th>\n",
              "      <th>시군구_코드</th>\n",
              "      <th>행정동_코드</th>\n",
              "      <th>형태정보</th>\n",
              "      <th>엑스좌표_값_2</th>\n",
              "      <th>와이좌표_값_2</th>\n",
              "      <th>geometry</th>\n",
              "    </tr>\n",
              "  </thead>\n",
              "  <tbody>\n",
              "    <tr>\n",
              "      <th>0</th>\n",
              "      <td>201810</td>\n",
              "      <td>R</td>\n",
              "      <td>전통시장</td>\n",
              "      <td>1001453</td>\n",
              "      <td>낙성대시장</td>\n",
              "      <td>196121</td>\n",
              "      <td>442084</td>\n",
              "      <td>11620</td>\n",
              "      <td>11620585</td>\n",
              "      <td>NaN</td>\n",
              "      <td>35.232408</td>\n",
              "      <td>129.659085</td>\n",
              "      <td>POINT (129.65909 35.23241)</td>\n",
              "    </tr>\n",
              "    <tr>\n",
              "      <th>1</th>\n",
              "      <td>201810</td>\n",
              "      <td>R</td>\n",
              "      <td>전통시장</td>\n",
              "      <td>1001454</td>\n",
              "      <td>봉천제일종합시장</td>\n",
              "      <td>195147</td>\n",
              "      <td>442413</td>\n",
              "      <td>11620</td>\n",
              "      <td>11620595</td>\n",
              "      <td>NaN</td>\n",
              "      <td>35.223559</td>\n",
              "      <td>129.662409</td>\n",
              "      <td>POINT (129.66241 35.22356)</td>\n",
              "    </tr>\n",
              "    <tr>\n",
              "      <th>2</th>\n",
              "      <td>201810</td>\n",
              "      <td>R</td>\n",
              "      <td>전통시장</td>\n",
              "      <td>1001474</td>\n",
              "      <td>도곡시장</td>\n",
              "      <td>204551</td>\n",
              "      <td>444227</td>\n",
              "      <td>11680</td>\n",
              "      <td>11680650</td>\n",
              "      <td>NaN</td>\n",
              "      <td>35.307789</td>\n",
              "      <td>129.685107</td>\n",
              "      <td>POINT (129.68511 35.30779)</td>\n",
              "    </tr>\n",
              "    <tr>\n",
              "      <th>3</th>\n",
              "      <td>201810</td>\n",
              "      <td>R</td>\n",
              "      <td>전통시장</td>\n",
              "      <td>1001475</td>\n",
              "      <td>강남개포시장</td>\n",
              "      <td>206065</td>\n",
              "      <td>443310</td>\n",
              "      <td>11680</td>\n",
              "      <td>11680670</td>\n",
              "      <td>NaN</td>\n",
              "      <td>35.321644</td>\n",
              "      <td>129.675484</td>\n",
              "      <td>POINT (129.67548 35.32164)</td>\n",
              "    </tr>\n",
              "    <tr>\n",
              "      <th>4</th>\n",
              "      <td>201810</td>\n",
              "      <td>R</td>\n",
              "      <td>전통시장</td>\n",
              "      <td>1001412</td>\n",
              "      <td>화곡본동시장</td>\n",
              "      <td>186203</td>\n",
              "      <td>449328</td>\n",
              "      <td>11500</td>\n",
              "      <td>11500590</td>\n",
              "      <td>NaN</td>\n",
              "      <td>35.141341</td>\n",
              "      <td>129.735578</td>\n",
              "      <td>POINT (129.73558 35.14134)</td>\n",
              "    </tr>\n",
              "  </tbody>\n",
              "</table>\n",
              "</div>"
            ],
            "text/plain": [
              "   기준_년월_코드 상권_구분_코드  ...    와이좌표_값_2                    geometry\n",
              "0    201810        R  ...  129.659085  POINT (129.65909 35.23241)\n",
              "1    201810        R  ...  129.662409  POINT (129.66241 35.22356)\n",
              "2    201810        R  ...  129.685107  POINT (129.68511 35.30779)\n",
              "3    201810        R  ...  129.675484  POINT (129.67548 35.32164)\n",
              "4    201810        R  ...  129.735578  POINT (129.73558 35.14134)\n",
              "\n",
              "[5 rows x 13 columns]"
            ]
          },
          "metadata": {
            "tags": []
          },
          "execution_count": 123
        }
      ]
    },
    {
      "cell_type": "code",
      "metadata": {
        "id": "aAOtJm1KBNVe"
      },
      "source": [
        "geo_df_list = [[point.xy[1][0], point.xy[0][0]] for point in df_comm.geometry ]"
      ],
      "execution_count": 125,
      "outputs": []
    },
    {
      "cell_type": "code",
      "metadata": {
        "colab": {
          "base_uri": "https://localhost:8080/",
          "height": 35
        },
        "id": "BWiEpiB8Ck6y",
        "outputId": "0e165450-7087-4d38-c97b-69ad4a326c6f"
      },
      "source": [
        "df_mapping['상권_코드_명'].iloc[0]"
      ],
      "execution_count": 136,
      "outputs": [
        {
          "output_type": "execute_result",
          "data": {
            "application/vnd.google.colaboratory.intrinsic+json": {
              "type": "string"
            },
            "text/plain": [
              "'독산로78다길'"
            ]
          },
          "metadata": {
            "tags": []
          },
          "execution_count": 136
        }
      ]
    },
    {
      "cell_type": "code",
      "metadata": {
        "colab": {
          "base_uri": "https://localhost:8080/",
          "height": 808
        },
        "id": "Vo3WZKH7ABib",
        "outputId": "9c7b8021-0c32-42f3-818e-135172f5f71d"
      },
      "source": [
        "# 새로운 지도 객체 생성\n",
        "new_map = folium.Map(location=[37.5642135, 127.0016985], zoom_start=12, tiles='Stamen Toner')\n",
        "\n",
        "df_mapping = df_comm.sample(10)\n",
        "geo_df_list = [[point.xy[1][0], point.xy[0][0]] for point in df_mapping.geometry ]\n",
        "# 마커\n",
        "i = 0\n",
        "for g in geo_df_list:\n",
        "  marker = folium.Marker(location=g,\n",
        "                         popup=df_mapping['상권_코드_명'].iloc[i])\n",
        "  marker.add_to(new_map)\n",
        "  i += 1\n",
        " \n",
        "new_map\n"
      ],
      "execution_count": 184,
      "outputs": [
        {
          "output_type": "execute_result",
          "data": {
            "text/html": [
              "<div style=\"width:100%;\"><div style=\"position:relative;width:100%;height:0;padding-bottom:60%;\"><span style=\"color:#565656\">Make this Notebook Trusted to load map: File -> Trust Notebook</span><iframe src=\"about:blank\" style=\"position:absolute;width:100%;height:100%;left:0;top:0;border:none !important;\" data-html=%3C%21DOCTYPE%20html%3E%0A%3Chead%3E%20%20%20%20%0A%20%20%20%20%3Cmeta%20http-equiv%3D%22content-type%22%20content%3D%22text/html%3B%20charset%3DUTF-8%22%20/%3E%0A%20%20%20%20%3Cscript%3EL_PREFER_CANVAS%3Dfalse%3B%20L_NO_TOUCH%3Dfalse%3B%20L_DISABLE_3D%3Dfalse%3B%3C/script%3E%0A%20%20%20%20%3Cscript%20src%3D%22https%3A//cdn.jsdelivr.net/npm/leaflet%401.4.0/dist/leaflet.js%22%3E%3C/script%3E%0A%20%20%20%20%3Cscript%20src%3D%22https%3A//code.jquery.com/jquery-1.12.4.min.js%22%3E%3C/script%3E%0A%20%20%20%20%3Cscript%20src%3D%22https%3A//maxcdn.bootstrapcdn.com/bootstrap/3.2.0/js/bootstrap.min.js%22%3E%3C/script%3E%0A%20%20%20%20%3Cscript%20src%3D%22https%3A//cdnjs.cloudflare.com/ajax/libs/Leaflet.awesome-markers/2.0.2/leaflet.awesome-markers.js%22%3E%3C/script%3E%0A%20%20%20%20%3Clink%20rel%3D%22stylesheet%22%20href%3D%22https%3A//cdn.jsdelivr.net/npm/leaflet%401.4.0/dist/leaflet.css%22/%3E%0A%20%20%20%20%3Clink%20rel%3D%22stylesheet%22%20href%3D%22https%3A//maxcdn.bootstrapcdn.com/bootstrap/3.2.0/css/bootstrap.min.css%22/%3E%0A%20%20%20%20%3Clink%20rel%3D%22stylesheet%22%20href%3D%22https%3A//maxcdn.bootstrapcdn.com/bootstrap/3.2.0/css/bootstrap-theme.min.css%22/%3E%0A%20%20%20%20%3Clink%20rel%3D%22stylesheet%22%20href%3D%22https%3A//maxcdn.bootstrapcdn.com/font-awesome/4.6.3/css/font-awesome.min.css%22/%3E%0A%20%20%20%20%3Clink%20rel%3D%22stylesheet%22%20href%3D%22https%3A//cdnjs.cloudflare.com/ajax/libs/Leaflet.awesome-markers/2.0.2/leaflet.awesome-markers.css%22/%3E%0A%20%20%20%20%3Clink%20rel%3D%22stylesheet%22%20href%3D%22https%3A//rawcdn.githack.com/python-visualization/folium/master/folium/templates/leaflet.awesome.rotate.css%22/%3E%0A%20%20%20%20%3Cstyle%3Ehtml%2C%20body%20%7Bwidth%3A%20100%25%3Bheight%3A%20100%25%3Bmargin%3A%200%3Bpadding%3A%200%3B%7D%3C/style%3E%0A%20%20%20%20%3Cstyle%3E%23map%20%7Bposition%3Aabsolute%3Btop%3A0%3Bbottom%3A0%3Bright%3A0%3Bleft%3A0%3B%7D%3C/style%3E%0A%20%20%20%20%0A%20%20%20%20%3Cmeta%20name%3D%22viewport%22%20content%3D%22width%3Ddevice-width%2C%0A%20%20%20%20%20%20%20%20initial-scale%3D1.0%2C%20maximum-scale%3D1.0%2C%20user-scalable%3Dno%22%20/%3E%0A%20%20%20%20%3Cstyle%3E%23map_09c39aa844734f77b3d0428620d3f2ef%20%7B%0A%20%20%20%20%20%20%20%20position%3A%20relative%3B%0A%20%20%20%20%20%20%20%20width%3A%20100.0%25%3B%0A%20%20%20%20%20%20%20%20height%3A%20100.0%25%3B%0A%20%20%20%20%20%20%20%20left%3A%200.0%25%3B%0A%20%20%20%20%20%20%20%20top%3A%200.0%25%3B%0A%20%20%20%20%20%20%20%20%7D%0A%20%20%20%20%3C/style%3E%0A%3C/head%3E%0A%3Cbody%3E%20%20%20%20%0A%20%20%20%20%0A%20%20%20%20%3Cdiv%20class%3D%22folium-map%22%20id%3D%22map_09c39aa844734f77b3d0428620d3f2ef%22%20%3E%3C/div%3E%0A%3C/body%3E%0A%3Cscript%3E%20%20%20%20%0A%20%20%20%20%0A%20%20%20%20%0A%20%20%20%20%20%20%20%20var%20bounds%20%3D%20null%3B%0A%20%20%20%20%0A%0A%20%20%20%20var%20map_09c39aa844734f77b3d0428620d3f2ef%20%3D%20L.map%28%0A%20%20%20%20%20%20%20%20%27map_09c39aa844734f77b3d0428620d3f2ef%27%2C%20%7B%0A%20%20%20%20%20%20%20%20center%3A%20%5B37.5642135%2C%20127.0016985%5D%2C%0A%20%20%20%20%20%20%20%20zoom%3A%2012%2C%0A%20%20%20%20%20%20%20%20maxBounds%3A%20bounds%2C%0A%20%20%20%20%20%20%20%20layers%3A%20%5B%5D%2C%0A%20%20%20%20%20%20%20%20worldCopyJump%3A%20false%2C%0A%20%20%20%20%20%20%20%20crs%3A%20L.CRS.EPSG3857%2C%0A%20%20%20%20%20%20%20%20zoomControl%3A%20true%2C%0A%20%20%20%20%20%20%20%20%7D%29%3B%0A%0A%0A%20%20%20%20%0A%20%20%20%20var%20tile_layer_98a2b2be578e45d99639823555d1b7fd%20%3D%20L.tileLayer%28%0A%20%20%20%20%20%20%20%20%27https%3A//stamen-tiles-%7Bs%7D.a.ssl.fastly.net/toner/%7Bz%7D/%7Bx%7D/%7By%7D.png%27%2C%0A%20%20%20%20%20%20%20%20%7B%0A%20%20%20%20%20%20%20%20%22attribution%22%3A%20null%2C%0A%20%20%20%20%20%20%20%20%22detectRetina%22%3A%20false%2C%0A%20%20%20%20%20%20%20%20%22maxNativeZoom%22%3A%2018%2C%0A%20%20%20%20%20%20%20%20%22maxZoom%22%3A%2018%2C%0A%20%20%20%20%20%20%20%20%22minZoom%22%3A%200%2C%0A%20%20%20%20%20%20%20%20%22noWrap%22%3A%20false%2C%0A%20%20%20%20%20%20%20%20%22opacity%22%3A%201%2C%0A%20%20%20%20%20%20%20%20%22subdomains%22%3A%20%22abc%22%2C%0A%20%20%20%20%20%20%20%20%22tms%22%3A%20false%0A%7D%29.addTo%28map_09c39aa844734f77b3d0428620d3f2ef%29%3B%0A%20%20%20%20%0A%20%20%20%20%20%20%20%20var%20marker_6cbd2e4efb9342ffb6b7795b1a5d9c36%20%3D%20L.marker%28%0A%20%20%20%20%20%20%20%20%20%20%20%20%5B37.427112454449805%2C%20127.03175851374615%5D%2C%0A%20%20%20%20%20%20%20%20%20%20%20%20%7B%0A%20%20%20%20%20%20%20%20%20%20%20%20%20%20%20%20icon%3A%20new%20L.Icon.Default%28%29%2C%0A%20%20%20%20%20%20%20%20%20%20%20%20%20%20%20%20%7D%0A%20%20%20%20%20%20%20%20%20%20%20%20%29.addTo%28map_09c39aa844734f77b3d0428620d3f2ef%29%3B%0A%20%20%20%20%20%20%20%20%0A%20%20%20%20%0A%20%20%20%20%20%20%20%20%20%20%20%20var%20popup_3f62ca924024404eb3bd4380a206d28e%20%3D%20L.popup%28%7BmaxWidth%3A%20%27100%25%27%0A%20%20%20%20%20%20%20%20%20%20%20%20%0A%20%20%20%20%20%20%20%20%20%20%20%20%7D%29%3B%0A%0A%20%20%20%20%20%20%20%20%20%20%20%20%0A%20%20%20%20%20%20%20%20%20%20%20%20%20%20%20%20var%20html_aeb88916cc414ef3bdd0da475708cf49%20%3D%20%24%28%60%3Cdiv%20id%3D%22html_aeb88916cc414ef3bdd0da475708cf49%22%20style%3D%22width%3A%20100.0%25%3B%20height%3A%20100.0%25%3B%22%3E%EB%94%94%EC%A7%80%ED%84%B8%EB%AF%B8%EB%94%94%EC%96%B4%EC%8B%9C%ED%8B%B0%3C/div%3E%60%29%5B0%5D%3B%0A%20%20%20%20%20%20%20%20%20%20%20%20%20%20%20%20popup_3f62ca924024404eb3bd4380a206d28e.setContent%28html_aeb88916cc414ef3bdd0da475708cf49%29%3B%0A%20%20%20%20%20%20%20%20%20%20%20%20%0A%0A%20%20%20%20%20%20%20%20%20%20%20%20marker_6cbd2e4efb9342ffb6b7795b1a5d9c36.bindPopup%28popup_3f62ca924024404eb3bd4380a206d28e%29%0A%20%20%20%20%20%20%20%20%20%20%20%20%3B%0A%0A%20%20%20%20%20%20%20%20%20%20%20%20%0A%20%20%20%20%20%20%20%20%0A%20%20%20%20%0A%20%20%20%20%20%20%20%20var%20marker_270be0d023a3406194b78538f8bbd088%20%3D%20L.marker%28%0A%20%20%20%20%20%20%20%20%20%20%20%20%5B37.40327374575414%2C%20126.95896847383742%5D%2C%0A%20%20%20%20%20%20%20%20%20%20%20%20%7B%0A%20%20%20%20%20%20%20%20%20%20%20%20%20%20%20%20icon%3A%20new%20L.Icon.Default%28%29%2C%0A%20%20%20%20%20%20%20%20%20%20%20%20%20%20%20%20%7D%0A%20%20%20%20%20%20%20%20%20%20%20%20%29.addTo%28map_09c39aa844734f77b3d0428620d3f2ef%29%3B%0A%20%20%20%20%20%20%20%20%0A%20%20%20%20%0A%20%20%20%20%20%20%20%20%20%20%20%20var%20popup_d836be35f1344e5b9b3fb421c7f11782%20%3D%20L.popup%28%7BmaxWidth%3A%20%27100%25%27%0A%20%20%20%20%20%20%20%20%20%20%20%20%0A%20%20%20%20%20%20%20%20%20%20%20%20%7D%29%3B%0A%0A%20%20%20%20%20%20%20%20%20%20%20%20%0A%20%20%20%20%20%20%20%20%20%20%20%20%20%20%20%20var%20html_0ccff93a12aa41138b6d467cd4038d2d%20%3D%20%24%28%60%3Cdiv%20id%3D%22html_0ccff93a12aa41138b6d467cd4038d2d%22%20style%3D%22width%3A%20100.0%25%3B%20height%3A%20100.0%25%3B%22%3E%EC%9D%80%ED%96%89%EC%A0%95%EB%A1%9C5%EA%B8%B8%3C/div%3E%60%29%5B0%5D%3B%0A%20%20%20%20%20%20%20%20%20%20%20%20%20%20%20%20popup_d836be35f1344e5b9b3fb421c7f11782.setContent%28html_0ccff93a12aa41138b6d467cd4038d2d%29%3B%0A%20%20%20%20%20%20%20%20%20%20%20%20%0A%0A%20%20%20%20%20%20%20%20%20%20%20%20marker_270be0d023a3406194b78538f8bbd088.bindPopup%28popup_d836be35f1344e5b9b3fb421c7f11782%29%0A%20%20%20%20%20%20%20%20%20%20%20%20%3B%0A%0A%20%20%20%20%20%20%20%20%20%20%20%20%0A%20%20%20%20%20%20%20%20%0A%20%20%20%20%0A%20%20%20%20%20%20%20%20var%20marker_43b31e8d169e44b3b03ed1d6c66dcfc8%20%3D%20L.marker%28%0A%20%20%20%20%20%20%20%20%20%20%20%20%5B37.57762710722659%2C%20127.00798389823967%5D%2C%0A%20%20%20%20%20%20%20%20%20%20%20%20%7B%0A%20%20%20%20%20%20%20%20%20%20%20%20%20%20%20%20icon%3A%20new%20L.Icon.Default%28%29%2C%0A%20%20%20%20%20%20%20%20%20%20%20%20%20%20%20%20%7D%0A%20%20%20%20%20%20%20%20%20%20%20%20%29.addTo%28map_09c39aa844734f77b3d0428620d3f2ef%29%3B%0A%20%20%20%20%20%20%20%20%0A%20%20%20%20%0A%20%20%20%20%20%20%20%20%20%20%20%20var%20popup_579bda4068a34117a262888b770f649c%20%3D%20L.popup%28%7BmaxWidth%3A%20%27100%25%27%0A%20%20%20%20%20%20%20%20%20%20%20%20%0A%20%20%20%20%20%20%20%20%20%20%20%20%7D%29%3B%0A%0A%20%20%20%20%20%20%20%20%20%20%20%20%0A%20%20%20%20%20%20%20%20%20%20%20%20%20%20%20%20var%20html_3981e2798e5a446b978cc1300ae08d9b%20%3D%20%24%28%60%3Cdiv%20id%3D%22html_3981e2798e5a446b978cc1300ae08d9b%22%20style%3D%22width%3A%20100.0%25%3B%20height%3A%20100.0%25%3B%22%3E%EC%84%9C%EC%9A%B8%20%EA%B4%91%EC%A7%84%EA%B5%AC%20%EA%B5%B0%EC%9E%90%EC%97%AD%3C/div%3E%60%29%5B0%5D%3B%0A%20%20%20%20%20%20%20%20%20%20%20%20%20%20%20%20popup_579bda4068a34117a262888b770f649c.setContent%28html_3981e2798e5a446b978cc1300ae08d9b%29%3B%0A%20%20%20%20%20%20%20%20%20%20%20%20%0A%0A%20%20%20%20%20%20%20%20%20%20%20%20marker_43b31e8d169e44b3b03ed1d6c66dcfc8.bindPopup%28popup_579bda4068a34117a262888b770f649c%29%0A%20%20%20%20%20%20%20%20%20%20%20%20%3B%0A%0A%20%20%20%20%20%20%20%20%20%20%20%20%0A%20%20%20%20%20%20%20%20%0A%20%20%20%20%0A%20%20%20%20%20%20%20%20var%20marker_de262f54e29e45fba704312b22af1e6b%20%3D%20L.marker%28%0A%20%20%20%20%20%20%20%20%20%20%20%20%5B37.44841863385675%2C%20126.9458795093071%5D%2C%0A%20%20%20%20%20%20%20%20%20%20%20%20%7B%0A%20%20%20%20%20%20%20%20%20%20%20%20%20%20%20%20icon%3A%20new%20L.Icon.Default%28%29%2C%0A%20%20%20%20%20%20%20%20%20%20%20%20%20%20%20%20%7D%0A%20%20%20%20%20%20%20%20%20%20%20%20%29.addTo%28map_09c39aa844734f77b3d0428620d3f2ef%29%3B%0A%20%20%20%20%20%20%20%20%0A%20%20%20%20%0A%20%20%20%20%20%20%20%20%20%20%20%20var%20popup_9b5a96c2bee84e9b9547a49cc680f7ca%20%3D%20L.popup%28%7BmaxWidth%3A%20%27100%25%27%0A%20%20%20%20%20%20%20%20%20%20%20%20%0A%20%20%20%20%20%20%20%20%20%20%20%20%7D%29%3B%0A%0A%20%20%20%20%20%20%20%20%20%20%20%20%0A%20%20%20%20%20%20%20%20%20%20%20%20%20%20%20%20var%20html_488e1af993d84eca86591923e3ad5ffe%20%3D%20%24%28%60%3Cdiv%20id%3D%22html_488e1af993d84eca86591923e3ad5ffe%22%20style%3D%22width%3A%20100.0%25%3B%20height%3A%20100.0%25%3B%22%3E%EC%8B%A0%EA%B8%B8%EB%A1%9C42%EA%B0%80%EA%B8%B8%3C/div%3E%60%29%5B0%5D%3B%0A%20%20%20%20%20%20%20%20%20%20%20%20%20%20%20%20popup_9b5a96c2bee84e9b9547a49cc680f7ca.setContent%28html_488e1af993d84eca86591923e3ad5ffe%29%3B%0A%20%20%20%20%20%20%20%20%20%20%20%20%0A%0A%20%20%20%20%20%20%20%20%20%20%20%20marker_de262f54e29e45fba704312b22af1e6b.bindPopup%28popup_9b5a96c2bee84e9b9547a49cc680f7ca%29%0A%20%20%20%20%20%20%20%20%20%20%20%20%3B%0A%0A%20%20%20%20%20%20%20%20%20%20%20%20%0A%20%20%20%20%20%20%20%20%0A%20%20%20%20%0A%20%20%20%20%20%20%20%20var%20marker_2179dbf80312419d98eb98ab654420a0%20%3D%20L.marker%28%0A%20%20%20%20%20%20%20%20%20%20%20%20%5B37.428291509571764%2C%20126.91324670981825%5D%2C%0A%20%20%20%20%20%20%20%20%20%20%20%20%7B%0A%20%20%20%20%20%20%20%20%20%20%20%20%20%20%20%20icon%3A%20new%20L.Icon.Default%28%29%2C%0A%20%20%20%20%20%20%20%20%20%20%20%20%20%20%20%20%7D%0A%20%20%20%20%20%20%20%20%20%20%20%20%29.addTo%28map_09c39aa844734f77b3d0428620d3f2ef%29%3B%0A%20%20%20%20%20%20%20%20%0A%20%20%20%20%0A%20%20%20%20%20%20%20%20%20%20%20%20var%20popup_38e2b9e1cdca477eb7ba02832e40d31c%20%3D%20L.popup%28%7BmaxWidth%3A%20%27100%25%27%0A%20%20%20%20%20%20%20%20%20%20%20%20%0A%20%20%20%20%20%20%20%20%20%20%20%20%7D%29%3B%0A%0A%20%20%20%20%20%20%20%20%20%20%20%20%0A%20%20%20%20%20%20%20%20%20%20%20%20%20%20%20%20var%20html_a3f1c20359c54071b2f191eea56df4d7%20%3D%20%24%28%60%3Cdiv%20id%3D%22html_a3f1c20359c54071b2f191eea56df4d7%22%20style%3D%22width%3A%20100.0%25%3B%20height%3A%20100.0%25%3B%22%3E%EC%9A%B0%EB%A7%88%EA%B8%B8%3C/div%3E%60%29%5B0%5D%3B%0A%20%20%20%20%20%20%20%20%20%20%20%20%20%20%20%20popup_38e2b9e1cdca477eb7ba02832e40d31c.setContent%28html_a3f1c20359c54071b2f191eea56df4d7%29%3B%0A%20%20%20%20%20%20%20%20%20%20%20%20%0A%0A%20%20%20%20%20%20%20%20%20%20%20%20marker_2179dbf80312419d98eb98ab654420a0.bindPopup%28popup_38e2b9e1cdca477eb7ba02832e40d31c%29%0A%20%20%20%20%20%20%20%20%20%20%20%20%3B%0A%0A%20%20%20%20%20%20%20%20%20%20%20%20%0A%20%20%20%20%20%20%20%20%0A%20%20%20%20%0A%20%20%20%20%20%20%20%20var%20marker_e1cbc37c43d241c0b83ab158de7243a8%20%3D%20L.marker%28%0A%20%20%20%20%20%20%20%20%20%20%20%20%5B37.54783943162418%2C%20126.94169065157018%5D%2C%0A%20%20%20%20%20%20%20%20%20%20%20%20%7B%0A%20%20%20%20%20%20%20%20%20%20%20%20%20%20%20%20icon%3A%20new%20L.Icon.Default%28%29%2C%0A%20%20%20%20%20%20%20%20%20%20%20%20%20%20%20%20%7D%0A%20%20%20%20%20%20%20%20%20%20%20%20%29.addTo%28map_09c39aa844734f77b3d0428620d3f2ef%29%3B%0A%20%20%20%20%20%20%20%20%0A%20%20%20%20%0A%20%20%20%20%20%20%20%20%20%20%20%20var%20popup_7f960a883a1b4c679b9b226c533a9ea4%20%3D%20L.popup%28%7BmaxWidth%3A%20%27100%25%27%0A%20%20%20%20%20%20%20%20%20%20%20%20%0A%20%20%20%20%20%20%20%20%20%20%20%20%7D%29%3B%0A%0A%20%20%20%20%20%20%20%20%20%20%20%20%0A%20%20%20%20%20%20%20%20%20%20%20%20%20%20%20%20var%20html_b34cc6c6073d4472a3d1f6909149294d%20%3D%20%24%28%60%3Cdiv%20id%3D%22html_b34cc6c6073d4472a3d1f6909149294d%22%20style%3D%22width%3A%20100.0%25%3B%20height%3A%20100.0%25%3B%22%3E%EC%84%9C%EC%9A%B8%20%EA%B0%95%EB%82%A8%EA%B5%AC%20%EC%97%AD%EC%82%BC%EC%97%AD_2%3C/div%3E%60%29%5B0%5D%3B%0A%20%20%20%20%20%20%20%20%20%20%20%20%20%20%20%20popup_7f960a883a1b4c679b9b226c533a9ea4.setContent%28html_b34cc6c6073d4472a3d1f6909149294d%29%3B%0A%20%20%20%20%20%20%20%20%20%20%20%20%0A%0A%20%20%20%20%20%20%20%20%20%20%20%20marker_e1cbc37c43d241c0b83ab158de7243a8.bindPopup%28popup_7f960a883a1b4c679b9b226c533a9ea4%29%0A%20%20%20%20%20%20%20%20%20%20%20%20%3B%0A%0A%20%20%20%20%20%20%20%20%20%20%20%20%0A%20%20%20%20%20%20%20%20%0A%20%20%20%20%0A%20%20%20%20%20%20%20%20var%20marker_3d010d027d7740fd955b6ebda2474e6e%20%3D%20L.marker%28%0A%20%20%20%20%20%20%20%20%20%20%20%20%5B37.55324401601168%2C%20126.96672028155007%5D%2C%0A%20%20%20%20%20%20%20%20%20%20%20%20%7B%0A%20%20%20%20%20%20%20%20%20%20%20%20%20%20%20%20icon%3A%20new%20L.Icon.Default%28%29%2C%0A%20%20%20%20%20%20%20%20%20%20%20%20%20%20%20%20%7D%0A%20%20%20%20%20%20%20%20%20%20%20%20%29.addTo%28map_09c39aa844734f77b3d0428620d3f2ef%29%3B%0A%20%20%20%20%20%20%20%20%0A%20%20%20%20%0A%20%20%20%20%20%20%20%20%20%20%20%20var%20popup_082f16fdb4574faeb3cfecacaaffae8d%20%3D%20L.popup%28%7BmaxWidth%3A%20%27100%25%27%0A%20%20%20%20%20%20%20%20%20%20%20%20%0A%20%20%20%20%20%20%20%20%20%20%20%20%7D%29%3B%0A%0A%20%20%20%20%20%20%20%20%20%20%20%20%0A%20%20%20%20%20%20%20%20%20%20%20%20%20%20%20%20var%20html_133bd1d678b04b98812bf493f423af30%20%3D%20%24%28%60%3Cdiv%20id%3D%22html_133bd1d678b04b98812bf493f423af30%22%20style%3D%22width%3A%20100.0%25%3B%20height%3A%20100.0%25%3B%22%3E%EC%B2%AD%EB%8B%B4%EC%82%AC%EA%B1%B0%EB%A6%AC_1%3C/div%3E%60%29%5B0%5D%3B%0A%20%20%20%20%20%20%20%20%20%20%20%20%20%20%20%20popup_082f16fdb4574faeb3cfecacaaffae8d.setContent%28html_133bd1d678b04b98812bf493f423af30%29%3B%0A%20%20%20%20%20%20%20%20%20%20%20%20%0A%0A%20%20%20%20%20%20%20%20%20%20%20%20marker_3d010d027d7740fd955b6ebda2474e6e.bindPopup%28popup_082f16fdb4574faeb3cfecacaaffae8d%29%0A%20%20%20%20%20%20%20%20%20%20%20%20%3B%0A%0A%20%20%20%20%20%20%20%20%20%20%20%20%0A%20%20%20%20%20%20%20%20%0A%20%20%20%20%0A%20%20%20%20%20%20%20%20var%20marker_8025dc1e7bb44adc9054f4d59f81c75b%20%3D%20L.marker%28%0A%20%20%20%20%20%20%20%20%20%20%20%20%5B37.53794645847907%2C%20127.04217373263245%5D%2C%0A%20%20%20%20%20%20%20%20%20%20%20%20%7B%0A%20%20%20%20%20%20%20%20%20%20%20%20%20%20%20%20icon%3A%20new%20L.Icon.Default%28%29%2C%0A%20%20%20%20%20%20%20%20%20%20%20%20%20%20%20%20%7D%0A%20%20%20%20%20%20%20%20%20%20%20%20%29.addTo%28map_09c39aa844734f77b3d0428620d3f2ef%29%3B%0A%20%20%20%20%20%20%20%20%0A%20%20%20%20%0A%20%20%20%20%20%20%20%20%20%20%20%20var%20popup_d0dd73dfff8a42efb957cf1616ba239f%20%3D%20L.popup%28%7BmaxWidth%3A%20%27100%25%27%0A%20%20%20%20%20%20%20%20%20%20%20%20%0A%20%20%20%20%20%20%20%20%20%20%20%20%7D%29%3B%0A%0A%20%20%20%20%20%20%20%20%20%20%20%20%0A%20%20%20%20%20%20%20%20%20%20%20%20%20%20%20%20var%20html_0f181989acad4d1faef33f7c9ecc30ef%20%3D%20%24%28%60%3Cdiv%20id%3D%22html_0f181989acad4d1faef33f7c9ecc30ef%22%20style%3D%22width%3A%20100.0%25%3B%20height%3A%20100.0%25%3B%22%3E%EC%84%9C%EC%9A%B8%20%EC%84%B1%EB%B6%81%EA%B5%AC%20%EC%95%88%EC%95%94%EC%97%AD%3C/div%3E%60%29%5B0%5D%3B%0A%20%20%20%20%20%20%20%20%20%20%20%20%20%20%20%20popup_d0dd73dfff8a42efb957cf1616ba239f.setContent%28html_0f181989acad4d1faef33f7c9ecc30ef%29%3B%0A%20%20%20%20%20%20%20%20%20%20%20%20%0A%0A%20%20%20%20%20%20%20%20%20%20%20%20marker_8025dc1e7bb44adc9054f4d59f81c75b.bindPopup%28popup_d0dd73dfff8a42efb957cf1616ba239f%29%0A%20%20%20%20%20%20%20%20%20%20%20%20%3B%0A%0A%20%20%20%20%20%20%20%20%20%20%20%20%0A%20%20%20%20%20%20%20%20%0A%20%20%20%20%0A%20%20%20%20%20%20%20%20var%20marker_c385f19d867a4ea2984a7af383c9d000%20%3D%20L.marker%28%0A%20%20%20%20%20%20%20%20%20%20%20%20%5B37.5296414070999%2C%20126.92901231732245%5D%2C%0A%20%20%20%20%20%20%20%20%20%20%20%20%7B%0A%20%20%20%20%20%20%20%20%20%20%20%20%20%20%20%20icon%3A%20new%20L.Icon.Default%28%29%2C%0A%20%20%20%20%20%20%20%20%20%20%20%20%20%20%20%20%7D%0A%20%20%20%20%20%20%20%20%20%20%20%20%29.addTo%28map_09c39aa844734f77b3d0428620d3f2ef%29%3B%0A%20%20%20%20%20%20%20%20%0A%20%20%20%20%0A%20%20%20%20%20%20%20%20%20%20%20%20var%20popup_a0c917f1b131493eb4e95dca538984e9%20%3D%20L.popup%28%7BmaxWidth%3A%20%27100%25%27%0A%20%20%20%20%20%20%20%20%20%20%20%20%0A%20%20%20%20%20%20%20%20%20%20%20%20%7D%29%3B%0A%0A%20%20%20%20%20%20%20%20%20%20%20%20%0A%20%20%20%20%20%20%20%20%20%20%20%20%20%20%20%20var%20html_512169c838fd4529ac95162168c9c257%20%3D%20%24%28%60%3Cdiv%20id%3D%22html_512169c838fd4529ac95162168c9c257%22%20style%3D%22width%3A%20100.0%25%3B%20height%3A%20100.0%25%3B%22%3E%EA%B5%90%EB%8C%80%EC%97%AD_2%3C/div%3E%60%29%5B0%5D%3B%0A%20%20%20%20%20%20%20%20%20%20%20%20%20%20%20%20popup_a0c917f1b131493eb4e95dca538984e9.setContent%28html_512169c838fd4529ac95162168c9c257%29%3B%0A%20%20%20%20%20%20%20%20%20%20%20%20%0A%0A%20%20%20%20%20%20%20%20%20%20%20%20marker_c385f19d867a4ea2984a7af383c9d000.bindPopup%28popup_a0c917f1b131493eb4e95dca538984e9%29%0A%20%20%20%20%20%20%20%20%20%20%20%20%3B%0A%0A%20%20%20%20%20%20%20%20%20%20%20%20%0A%20%20%20%20%20%20%20%20%0A%20%20%20%20%0A%20%20%20%20%20%20%20%20var%20marker_c9e63c16faf740118814c334f15198d0%20%3D%20L.marker%28%0A%20%20%20%20%20%20%20%20%20%20%20%20%5B37.43363653224479%2C%20126.91438698592214%5D%2C%0A%20%20%20%20%20%20%20%20%20%20%20%20%7B%0A%20%20%20%20%20%20%20%20%20%20%20%20%20%20%20%20icon%3A%20new%20L.Icon.Default%28%29%2C%0A%20%20%20%20%20%20%20%20%20%20%20%20%20%20%20%20%7D%0A%20%20%20%20%20%20%20%20%20%20%20%20%29.addTo%28map_09c39aa844734f77b3d0428620d3f2ef%29%3B%0A%20%20%20%20%20%20%20%20%0A%20%20%20%20%0A%20%20%20%20%20%20%20%20%20%20%20%20var%20popup_9dd751d922cc4d71bcdf922b082c7e3e%20%3D%20L.popup%28%7BmaxWidth%3A%20%27100%25%27%0A%20%20%20%20%20%20%20%20%20%20%20%20%0A%20%20%20%20%20%20%20%20%20%20%20%20%7D%29%3B%0A%0A%20%20%20%20%20%20%20%20%20%20%20%20%0A%20%20%20%20%20%20%20%20%20%20%20%20%20%20%20%20var%20html_35e77c02abdf4cfe9e877e4e54d6bfb7%20%3D%20%24%28%60%3Cdiv%20id%3D%22html_35e77c02abdf4cfe9e877e4e54d6bfb7%22%20style%3D%22width%3A%20100.0%25%3B%20height%3A%20100.0%25%3B%22%3E%EA%B5%AC%EB%A1%9C%EB%94%94%EC%A7%80%ED%83%881%EB%8B%A8%EC%A7%80%3C/div%3E%60%29%5B0%5D%3B%0A%20%20%20%20%20%20%20%20%20%20%20%20%20%20%20%20popup_9dd751d922cc4d71bcdf922b082c7e3e.setContent%28html_35e77c02abdf4cfe9e877e4e54d6bfb7%29%3B%0A%20%20%20%20%20%20%20%20%20%20%20%20%0A%0A%20%20%20%20%20%20%20%20%20%20%20%20marker_c9e63c16faf740118814c334f15198d0.bindPopup%28popup_9dd751d922cc4d71bcdf922b082c7e3e%29%0A%20%20%20%20%20%20%20%20%20%20%20%20%3B%0A%0A%20%20%20%20%20%20%20%20%20%20%20%20%0A%20%20%20%20%20%20%20%20%0A%3C/script%3E onload=\"this.contentDocument.open();this.contentDocument.write(    decodeURIComponent(this.getAttribute('data-html')));this.contentDocument.close();\" allowfullscreen webkitallowfullscreen mozallowfullscreen></iframe></div></div>"
            ],
            "text/plain": [
              "<folium.folium.Map at 0x7f41914c4d90>"
            ]
          },
          "metadata": {
            "tags": []
          },
          "execution_count": 184
        }
      ]
    },
    {
      "cell_type": "code",
      "metadata": {
        "colab": {
          "base_uri": "https://localhost:8080/",
          "height": 359
        },
        "id": "7VZcalyzDXf0",
        "outputId": "d22c8cfa-ec6f-4808-d115-199618a3cb67"
      },
      "source": [
        "df_mapping"
      ],
      "execution_count": 142,
      "outputs": [
        {
          "output_type": "execute_result",
          "data": {
            "text/html": [
              "<div>\n",
              "<style scoped>\n",
              "    .dataframe tbody tr th:only-of-type {\n",
              "        vertical-align: middle;\n",
              "    }\n",
              "\n",
              "    .dataframe tbody tr th {\n",
              "        vertical-align: top;\n",
              "    }\n",
              "\n",
              "    .dataframe thead th {\n",
              "        text-align: right;\n",
              "    }\n",
              "</style>\n",
              "<table border=\"1\" class=\"dataframe\">\n",
              "  <thead>\n",
              "    <tr style=\"text-align: right;\">\n",
              "      <th></th>\n",
              "      <th>기준_년월_코드</th>\n",
              "      <th>상권_구분_코드</th>\n",
              "      <th>상권_구분_코드_명</th>\n",
              "      <th>상권_코드</th>\n",
              "      <th>상권_코드_명</th>\n",
              "      <th>엑스좌표_값</th>\n",
              "      <th>와이좌표_값</th>\n",
              "      <th>시군구_코드</th>\n",
              "      <th>행정동_코드</th>\n",
              "      <th>형태정보</th>\n",
              "      <th>엑스좌표_값_2</th>\n",
              "      <th>와이좌표_값_2</th>\n",
              "      <th>geometry</th>\n",
              "    </tr>\n",
              "  </thead>\n",
              "  <tbody>\n",
              "    <tr>\n",
              "      <th>1199</th>\n",
              "      <td>201810</td>\n",
              "      <td>D</td>\n",
              "      <td>발달상권</td>\n",
              "      <td>1001187</td>\n",
              "      <td>한양시장</td>\n",
              "      <td>203544</td>\n",
              "      <td>451149</td>\n",
              "      <td>11200</td>\n",
              "      <td>11200550</td>\n",
              "      <td>NaN</td>\n",
              "      <td>35.297010</td>\n",
              "      <td>129.760823</td>\n",
              "      <td>POINT (129.76082 35.29701)</td>\n",
              "    </tr>\n",
              "    <tr>\n",
              "      <th>90</th>\n",
              "      <td>201810</td>\n",
              "      <td>A</td>\n",
              "      <td>골목상권</td>\n",
              "      <td>1000316</td>\n",
              "      <td>노해로23길</td>\n",
              "      <td>201908</td>\n",
              "      <td>460563</td>\n",
              "      <td>11305</td>\n",
              "      <td>11305620</td>\n",
              "      <td>NaN</td>\n",
              "      <td>35.279877</td>\n",
              "      <td>129.863677</td>\n",
              "      <td>POINT (129.86368 35.27988)</td>\n",
              "    </tr>\n",
              "    <tr>\n",
              "      <th>319</th>\n",
              "      <td>201810</td>\n",
              "      <td>A</td>\n",
              "      <td>골목상권</td>\n",
              "      <td>1000904</td>\n",
              "      <td>도곡로37길</td>\n",
              "      <td>203820</td>\n",
              "      <td>443975</td>\n",
              "      <td>11680</td>\n",
              "      <td>11680650</td>\n",
              "      <td>NaN</td>\n",
              "      <td>35.301269</td>\n",
              "      <td>129.682121</td>\n",
              "      <td>POINT (129.68212 35.30127)</td>\n",
              "    </tr>\n",
              "    <tr>\n",
              "      <th>1183</th>\n",
              "      <td>201810</td>\n",
              "      <td>A</td>\n",
              "      <td>골목상권</td>\n",
              "      <td>1000271</td>\n",
              "      <td>동소문로2길</td>\n",
              "      <td>200805</td>\n",
              "      <td>454405</td>\n",
              "      <td>11290</td>\n",
              "      <td>11290555</td>\n",
              "      <td>NaN</td>\n",
              "      <td>35.271529</td>\n",
              "      <td>129.795730</td>\n",
              "      <td>POINT (129.79573 35.27153)</td>\n",
              "    </tr>\n",
              "    <tr>\n",
              "      <th>801</th>\n",
              "      <td>201810</td>\n",
              "      <td>A</td>\n",
              "      <td>골목상권</td>\n",
              "      <td>1000419</td>\n",
              "      <td>응암로14길</td>\n",
              "      <td>192904</td>\n",
              "      <td>454501</td>\n",
              "      <td>11380</td>\n",
              "      <td>11380600</td>\n",
              "      <td>NaN</td>\n",
              "      <td>35.200375</td>\n",
              "      <td>129.794341</td>\n",
              "      <td>POINT (129.79434 35.20037)</td>\n",
              "    </tr>\n",
              "    <tr>\n",
              "      <th>152</th>\n",
              "      <td>201810</td>\n",
              "      <td>A</td>\n",
              "      <td>골목상권</td>\n",
              "      <td>1000227</td>\n",
              "      <td>답십리로75길</td>\n",
              "      <td>207204</td>\n",
              "      <td>452767</td>\n",
              "      <td>11260</td>\n",
              "      <td>11260540</td>\n",
              "      <td>NaN</td>\n",
              "      <td>35.329553</td>\n",
              "      <td>129.779719</td>\n",
              "      <td>POINT (129.77972 35.32955)</td>\n",
              "    </tr>\n",
              "    <tr>\n",
              "      <th>1071</th>\n",
              "      <td>201810</td>\n",
              "      <td>R</td>\n",
              "      <td>전통시장</td>\n",
              "      <td>1001399</td>\n",
              "      <td>경창시장</td>\n",
              "      <td>186077</td>\n",
              "      <td>447263</td>\n",
              "      <td>11470</td>\n",
              "      <td>11470570</td>\n",
              "      <td>NaN</td>\n",
              "      <td>35.140715</td>\n",
              "      <td>129.712907</td>\n",
              "      <td>POINT (129.71291 35.14072)</td>\n",
              "    </tr>\n",
              "    <tr>\n",
              "      <th>455</th>\n",
              "      <td>201810</td>\n",
              "      <td>A</td>\n",
              "      <td>골목상권</td>\n",
              "      <td>1000344</td>\n",
              "      <td>인수봉로72길</td>\n",
              "      <td>201136</td>\n",
              "      <td>460373</td>\n",
              "      <td>11305</td>\n",
              "      <td>11305660</td>\n",
              "      <td>NaN</td>\n",
              "      <td>35.272976</td>\n",
              "      <td>129.861347</td>\n",
              "      <td>POINT (129.86135 35.27298)</td>\n",
              "    </tr>\n",
              "    <tr>\n",
              "      <th>1417</th>\n",
              "      <td>201810</td>\n",
              "      <td>A</td>\n",
              "      <td>골목상권</td>\n",
              "      <td>1000297</td>\n",
              "      <td>정릉로26길</td>\n",
              "      <td>201022</td>\n",
              "      <td>456027</td>\n",
              "      <td>11290</td>\n",
              "      <td>11290630</td>\n",
              "      <td>NaN</td>\n",
              "      <td>35.273070</td>\n",
              "      <td>129.813603</td>\n",
              "      <td>POINT (129.81360 35.27307)</td>\n",
              "    </tr>\n",
              "    <tr>\n",
              "      <th>280</th>\n",
              "      <td>201810</td>\n",
              "      <td>A</td>\n",
              "      <td>골목상권</td>\n",
              "      <td>1000594</td>\n",
              "      <td>양천로26길</td>\n",
              "      <td>184315</td>\n",
              "      <td>452508</td>\n",
              "      <td>11500</td>\n",
              "      <td>11500630</td>\n",
              "      <td>NaN</td>\n",
              "      <td>35.123550</td>\n",
              "      <td>129.769857</td>\n",
              "      <td>POINT (129.76986 35.12355)</td>\n",
              "    </tr>\n",
              "  </tbody>\n",
              "</table>\n",
              "</div>"
            ],
            "text/plain": [
              "      기준_년월_코드 상권_구분_코드  ...    와이좌표_값_2                    geometry\n",
              "1199    201810        D  ...  129.760823  POINT (129.76082 35.29701)\n",
              "90      201810        A  ...  129.863677  POINT (129.86368 35.27988)\n",
              "319     201810        A  ...  129.682121  POINT (129.68212 35.30127)\n",
              "1183    201810        A  ...  129.795730  POINT (129.79573 35.27153)\n",
              "801     201810        A  ...  129.794341  POINT (129.79434 35.20037)\n",
              "152     201810        A  ...  129.779719  POINT (129.77972 35.32955)\n",
              "1071    201810        R  ...  129.712907  POINT (129.71291 35.14072)\n",
              "455     201810        A  ...  129.861347  POINT (129.86135 35.27298)\n",
              "1417    201810        A  ...  129.813603  POINT (129.81360 35.27307)\n",
              "280     201810        A  ...  129.769857  POINT (129.76986 35.12355)\n",
              "\n",
              "[10 rows x 13 columns]"
            ]
          },
          "metadata": {
            "tags": []
          },
          "execution_count": 142
        }
      ]
    },
    {
      "cell_type": "code",
      "metadata": {
        "colab": {
          "base_uri": "https://localhost:8080/"
        },
        "id": "-Xk4hnHxDrLI",
        "outputId": "01fe95d4-88f0-47a2-a3c8-60802429ed11"
      },
      "source": [
        "print(37.587918798213394 - df_mapping.loc[1183]['엑스좌표_값_2'])\n",
        "print(127.00815960377855 - df_mapping.loc[1183]['와이좌표_값_2'])"
      ],
      "execution_count": 153,
      "outputs": [
        {
          "output_type": "stream",
          "text": [
            "2.3163893420225747\n",
            "-2.7875701162649875\n"
          ],
          "name": "stdout"
        }
      ]
    },
    {
      "cell_type": "code",
      "metadata": {
        "colab": {
          "base_uri": "https://localhost:8080/"
        },
        "id": "RvUdsqkpEhJu",
        "outputId": "edb70fdf-852f-4f37-ce24-9a11b5496197"
      },
      "source": [
        "print(37.52474449758431 - df_mapping.loc[1071]['엑스좌표_값_2'])\n",
        "print(126.8423897012334 - df_mapping.loc[1071]['와이좌표_값_2'])"
      ],
      "execution_count": 154,
      "outputs": [
        {
          "output_type": "stream",
          "text": [
            "2.384029025552806\n",
            "-2.870517016042726\n"
          ],
          "name": "stdout"
        }
      ]
    },
    {
      "cell_type": "code",
      "metadata": {
        "id": "CKu24ANXHuES"
      },
      "source": [
        "del df_comm['엑스좌표_값_보정']\n",
        "del df_comm['와이좌표_값_보정']"
      ],
      "execution_count": 179,
      "outputs": []
    },
    {
      "cell_type": "code",
      "metadata": {
        "id": "yOrAlgRLE2hH"
      },
      "source": [
        "df_comm['엑스좌표_값_보정'] = df_comm['엑스좌표_값_2'] + 2.25\n",
        "df_comm['와이좌표_값_보정'] = df_comm['와이좌표_값_2'] - 2.75"
      ],
      "execution_count": 180,
      "outputs": []
    },
    {
      "cell_type": "code",
      "metadata": {
        "id": "i-0jDJTwImpO"
      },
      "source": [
        "df_comm['geometry_보정'] = df_comm.apply(lambda row : Point([row['와이좌표_값_보정'], row['엑스좌표_값_보정']]), axis=1)\n",
        "df_comm = gpd.GeoDataFrame(df_comm, geometry='geometry_보정')"
      ],
      "execution_count": 181,
      "outputs": []
    },
    {
      "cell_type": "code",
      "metadata": {
        "colab": {
          "base_uri": "https://localhost:8080/",
          "height": 323
        },
        "id": "Z2zo23E6FBv7",
        "outputId": "23c271d8-1fd7-40c2-c0d2-df6042f8b572"
      },
      "source": [
        "df_comm.head()"
      ],
      "execution_count": 182,
      "outputs": [
        {
          "output_type": "execute_result",
          "data": {
            "text/html": [
              "<div>\n",
              "<style scoped>\n",
              "    .dataframe tbody tr th:only-of-type {\n",
              "        vertical-align: middle;\n",
              "    }\n",
              "\n",
              "    .dataframe tbody tr th {\n",
              "        vertical-align: top;\n",
              "    }\n",
              "\n",
              "    .dataframe thead th {\n",
              "        text-align: right;\n",
              "    }\n",
              "</style>\n",
              "<table border=\"1\" class=\"dataframe\">\n",
              "  <thead>\n",
              "    <tr style=\"text-align: right;\">\n",
              "      <th></th>\n",
              "      <th>기준_년월_코드</th>\n",
              "      <th>상권_구분_코드</th>\n",
              "      <th>상권_구분_코드_명</th>\n",
              "      <th>상권_코드</th>\n",
              "      <th>상권_코드_명</th>\n",
              "      <th>엑스좌표_값</th>\n",
              "      <th>와이좌표_값</th>\n",
              "      <th>시군구_코드</th>\n",
              "      <th>행정동_코드</th>\n",
              "      <th>형태정보</th>\n",
              "      <th>엑스좌표_값_2</th>\n",
              "      <th>와이좌표_값_2</th>\n",
              "      <th>geometry</th>\n",
              "      <th>geometry_보정</th>\n",
              "      <th>엑스좌표_값_보정</th>\n",
              "      <th>와이좌표_값_보정</th>\n",
              "    </tr>\n",
              "  </thead>\n",
              "  <tbody>\n",
              "    <tr>\n",
              "      <th>0</th>\n",
              "      <td>201810</td>\n",
              "      <td>R</td>\n",
              "      <td>전통시장</td>\n",
              "      <td>1001453</td>\n",
              "      <td>낙성대시장</td>\n",
              "      <td>196121</td>\n",
              "      <td>442084</td>\n",
              "      <td>11620</td>\n",
              "      <td>11620585</td>\n",
              "      <td>NaN</td>\n",
              "      <td>35.232408</td>\n",
              "      <td>129.659085</td>\n",
              "      <td>POINT (129.65909 35.23241)</td>\n",
              "      <td>POINT (126.90909 37.48241)</td>\n",
              "      <td>37.482408</td>\n",
              "      <td>126.909085</td>\n",
              "    </tr>\n",
              "    <tr>\n",
              "      <th>1</th>\n",
              "      <td>201810</td>\n",
              "      <td>R</td>\n",
              "      <td>전통시장</td>\n",
              "      <td>1001454</td>\n",
              "      <td>봉천제일종합시장</td>\n",
              "      <td>195147</td>\n",
              "      <td>442413</td>\n",
              "      <td>11620</td>\n",
              "      <td>11620595</td>\n",
              "      <td>NaN</td>\n",
              "      <td>35.223559</td>\n",
              "      <td>129.662409</td>\n",
              "      <td>POINT (129.66241 35.22356)</td>\n",
              "      <td>POINT (126.91241 37.47356)</td>\n",
              "      <td>37.473559</td>\n",
              "      <td>126.912409</td>\n",
              "    </tr>\n",
              "    <tr>\n",
              "      <th>2</th>\n",
              "      <td>201810</td>\n",
              "      <td>R</td>\n",
              "      <td>전통시장</td>\n",
              "      <td>1001474</td>\n",
              "      <td>도곡시장</td>\n",
              "      <td>204551</td>\n",
              "      <td>444227</td>\n",
              "      <td>11680</td>\n",
              "      <td>11680650</td>\n",
              "      <td>NaN</td>\n",
              "      <td>35.307789</td>\n",
              "      <td>129.685107</td>\n",
              "      <td>POINT (129.68511 35.30779)</td>\n",
              "      <td>POINT (126.93511 37.55779)</td>\n",
              "      <td>37.557789</td>\n",
              "      <td>126.935107</td>\n",
              "    </tr>\n",
              "    <tr>\n",
              "      <th>3</th>\n",
              "      <td>201810</td>\n",
              "      <td>R</td>\n",
              "      <td>전통시장</td>\n",
              "      <td>1001475</td>\n",
              "      <td>강남개포시장</td>\n",
              "      <td>206065</td>\n",
              "      <td>443310</td>\n",
              "      <td>11680</td>\n",
              "      <td>11680670</td>\n",
              "      <td>NaN</td>\n",
              "      <td>35.321644</td>\n",
              "      <td>129.675484</td>\n",
              "      <td>POINT (129.67548 35.32164)</td>\n",
              "      <td>POINT (126.92548 37.57164)</td>\n",
              "      <td>37.571644</td>\n",
              "      <td>126.925484</td>\n",
              "    </tr>\n",
              "    <tr>\n",
              "      <th>4</th>\n",
              "      <td>201810</td>\n",
              "      <td>R</td>\n",
              "      <td>전통시장</td>\n",
              "      <td>1001412</td>\n",
              "      <td>화곡본동시장</td>\n",
              "      <td>186203</td>\n",
              "      <td>449328</td>\n",
              "      <td>11500</td>\n",
              "      <td>11500590</td>\n",
              "      <td>NaN</td>\n",
              "      <td>35.141341</td>\n",
              "      <td>129.735578</td>\n",
              "      <td>POINT (129.73558 35.14134)</td>\n",
              "      <td>POINT (126.98558 37.39134)</td>\n",
              "      <td>37.391341</td>\n",
              "      <td>126.985578</td>\n",
              "    </tr>\n",
              "  </tbody>\n",
              "</table>\n",
              "</div>"
            ],
            "text/plain": [
              "   기준_년월_코드 상권_구분_코드  ...  엑스좌표_값_보정   와이좌표_값_보정\n",
              "0    201810        R  ...  37.482408  126.909085\n",
              "1    201810        R  ...  37.473559  126.912409\n",
              "2    201810        R  ...  37.557789  126.935107\n",
              "3    201810        R  ...  37.571644  126.925484\n",
              "4    201810        R  ...  37.391341  126.985578\n",
              "\n",
              "[5 rows x 16 columns]"
            ]
          },
          "metadata": {
            "tags": []
          },
          "execution_count": 182
        }
      ]
    },
    {
      "cell_type": "code",
      "metadata": {
        "colab": {
          "base_uri": "https://localhost:8080/",
          "height": 808
        },
        "id": "F1fTU9ABFjvi",
        "outputId": "d7d18147-cae9-4f77-a20d-649399c657ae"
      },
      "source": [
        "from folium import plugins\n",
        "new_map = folium.Map(location=[37.5642135, 127.0016985], zoom_start=12, tiles='Cartodb dark_matter')\n",
        "\n",
        "heat_data = [[point.xy[1][0], point.xy[0][0]] for point in df_comm['geometry_보정']]\n",
        "plugins.HeatMap(heat_data).add_to(new_map)\n",
        " \n",
        "new_map\n"
      ],
      "execution_count": 183,
      "outputs": [
        {
          "output_type": "execute_result",
          "data": {
            "text/html": [
              "<div style=\"width:100%;\"><div style=\"position:relative;width:100%;height:0;padding-bottom:60%;\"><span style=\"color:#565656\">Make this Notebook Trusted to load map: File -> Trust Notebook</span><iframe src=\"about:blank\" style=\"position:absolute;width:100%;height:100%;left:0;top:0;border:none !important;\" data-html=%3C%21DOCTYPE%20html%3E%0A%3Chead%3E%20%20%20%20%0A%20%20%20%20%3Cmeta%20http-equiv%3D%22content-type%22%20content%3D%22text/html%3B%20charset%3DUTF-8%22%20/%3E%0A%20%20%20%20%3Cscript%3EL_PREFER_CANVAS%3Dfalse%3B%20L_NO_TOUCH%3Dfalse%3B%20L_DISABLE_3D%3Dfalse%3B%3C/script%3E%0A%20%20%20%20%3Cscript%20src%3D%22https%3A//cdn.jsdelivr.net/npm/leaflet%401.4.0/dist/leaflet.js%22%3E%3C/script%3E%0A%20%20%20%20%3Cscript%20src%3D%22https%3A//code.jquery.com/jquery-1.12.4.min.js%22%3E%3C/script%3E%0A%20%20%20%20%3Cscript%20src%3D%22https%3A//maxcdn.bootstrapcdn.com/bootstrap/3.2.0/js/bootstrap.min.js%22%3E%3C/script%3E%0A%20%20%20%20%3Cscript%20src%3D%22https%3A//cdnjs.cloudflare.com/ajax/libs/Leaflet.awesome-markers/2.0.2/leaflet.awesome-markers.js%22%3E%3C/script%3E%0A%20%20%20%20%3Clink%20rel%3D%22stylesheet%22%20href%3D%22https%3A//cdn.jsdelivr.net/npm/leaflet%401.4.0/dist/leaflet.css%22/%3E%0A%20%20%20%20%3Clink%20rel%3D%22stylesheet%22%20href%3D%22https%3A//maxcdn.bootstrapcdn.com/bootstrap/3.2.0/css/bootstrap.min.css%22/%3E%0A%20%20%20%20%3Clink%20rel%3D%22stylesheet%22%20href%3D%22https%3A//maxcdn.bootstrapcdn.com/bootstrap/3.2.0/css/bootstrap-theme.min.css%22/%3E%0A%20%20%20%20%3Clink%20rel%3D%22stylesheet%22%20href%3D%22https%3A//maxcdn.bootstrapcdn.com/font-awesome/4.6.3/css/font-awesome.min.css%22/%3E%0A%20%20%20%20%3Clink%20rel%3D%22stylesheet%22%20href%3D%22https%3A//cdnjs.cloudflare.com/ajax/libs/Leaflet.awesome-markers/2.0.2/leaflet.awesome-markers.css%22/%3E%0A%20%20%20%20%3Clink%20rel%3D%22stylesheet%22%20href%3D%22https%3A//rawcdn.githack.com/python-visualization/folium/master/folium/templates/leaflet.awesome.rotate.css%22/%3E%0A%20%20%20%20%3Cstyle%3Ehtml%2C%20body%20%7Bwidth%3A%20100%25%3Bheight%3A%20100%25%3Bmargin%3A%200%3Bpadding%3A%200%3B%7D%3C/style%3E%0A%20%20%20%20%3Cstyle%3E%23map%20%7Bposition%3Aabsolute%3Btop%3A0%3Bbottom%3A0%3Bright%3A0%3Bleft%3A0%3B%7D%3C/style%3E%0A%20%20%20%20%0A%20%20%20%20%3Cmeta%20name%3D%22viewport%22%20content%3D%22width%3Ddevice-width%2C%0A%20%20%20%20%20%20%20%20initial-scale%3D1.0%2C%20maximum-scale%3D1.0%2C%20user-scalable%3Dno%22%20/%3E%0A%20%20%20%20%3Cstyle%3E%23map_7b901293b9d14a1fb52187938dccc97c%20%7B%0A%20%20%20%20%20%20%20%20position%3A%20relative%3B%0A%20%20%20%20%20%20%20%20width%3A%20100.0%25%3B%0A%20%20%20%20%20%20%20%20height%3A%20100.0%25%3B%0A%20%20%20%20%20%20%20%20left%3A%200.0%25%3B%0A%20%20%20%20%20%20%20%20top%3A%200.0%25%3B%0A%20%20%20%20%20%20%20%20%7D%0A%20%20%20%20%3C/style%3E%0A%20%20%20%20%3Cscript%20src%3D%22https%3A//leaflet.github.io/Leaflet.heat/dist/leaflet-heat.js%22%3E%3C/script%3E%0A%3C/head%3E%0A%3Cbody%3E%20%20%20%20%0A%20%20%20%20%0A%20%20%20%20%3Cdiv%20class%3D%22folium-map%22%20id%3D%22map_7b901293b9d14a1fb52187938dccc97c%22%20%3E%3C/div%3E%0A%3C/body%3E%0A%3Cscript%3E%20%20%20%20%0A%20%20%20%20%0A%20%20%20%20%0A%20%20%20%20%20%20%20%20var%20bounds%20%3D%20null%3B%0A%20%20%20%20%0A%0A%20%20%20%20var%20map_7b901293b9d14a1fb52187938dccc97c%20%3D%20L.map%28%0A%20%20%20%20%20%20%20%20%27map_7b901293b9d14a1fb52187938dccc97c%27%2C%20%7B%0A%20%20%20%20%20%20%20%20center%3A%20%5B37.5642135%2C%20127.0016985%5D%2C%0A%20%20%20%20%20%20%20%20zoom%3A%2012%2C%0A%20%20%20%20%20%20%20%20maxBounds%3A%20bounds%2C%0A%20%20%20%20%20%20%20%20layers%3A%20%5B%5D%2C%0A%20%20%20%20%20%20%20%20worldCopyJump%3A%20false%2C%0A%20%20%20%20%20%20%20%20crs%3A%20L.CRS.EPSG3857%2C%0A%20%20%20%20%20%20%20%20zoomControl%3A%20true%2C%0A%20%20%20%20%20%20%20%20%7D%29%3B%0A%0A%0A%20%20%20%20%0A%20%20%20%20var%20tile_layer_7c3c63f3ee9c43518b7a3454d3d0cbf4%20%3D%20L.tileLayer%28%0A%20%20%20%20%20%20%20%20%27https%3A//cartodb-basemaps-%7Bs%7D.global.ssl.fastly.net/dark_all/%7Bz%7D/%7Bx%7D/%7By%7D.png%27%2C%0A%20%20%20%20%20%20%20%20%7B%0A%20%20%20%20%20%20%20%20%22attribution%22%3A%20null%2C%0A%20%20%20%20%20%20%20%20%22detectRetina%22%3A%20false%2C%0A%20%20%20%20%20%20%20%20%22maxNativeZoom%22%3A%2018%2C%0A%20%20%20%20%20%20%20%20%22maxZoom%22%3A%2018%2C%0A%20%20%20%20%20%20%20%20%22minZoom%22%3A%200%2C%0A%20%20%20%20%20%20%20%20%22noWrap%22%3A%20false%2C%0A%20%20%20%20%20%20%20%20%22opacity%22%3A%201%2C%0A%20%20%20%20%20%20%20%20%22subdomains%22%3A%20%22abc%22%2C%0A%20%20%20%20%20%20%20%20%22tms%22%3A%20false%0A%7D%29.addTo%28map_7b901293b9d14a1fb52187938dccc97c%29%3B%0A%20%20%20%20%0A%20%20%20%20%20%20%20%20%20%20%20%20var%20heat_map_b8f44becffcb43c1a75b0c8eb2dac725%20%3D%20L.heatLayer%28%0A%20%20%20%20%20%20%20%20%20%20%20%20%20%20%20%20%5B%5B37.4824084527954%2C%20126.90908546721991%5D%2C%20%5B37.47355939371524%2C%20126.91240908075295%5D%2C%20%5B37.55778884201539%2C%20126.93510669830718%5D%2C%20%5B37.571643532144236%2C%20126.92548394285532%5D%2C%20%5B37.39134069420213%2C%20126.9855784777832%5D%2C%20%5B37.39424663385637%2C%20126.97257833752724%5D%2C%20%5B37.384558156637006%2C%20126.99265614357225%5D%2C%20%5B37.48227656776438%2C%20126.91671327367351%5D%2C%20%5B37.36565202579109%2C%20127.01892020720157%5D%2C%20%5B37.36252431090843%2C%20127.00791509532945%5D%2C%20%5B37.43524945439843%2C%20126.89383933763989%5D%2C%20%5B37.4386888089685%2C%20126.90219350690603%5D%2C%20%5B37.43882350528239%2C%20126.90755398717369%5D%2C%20%5B37.440107731734074%2C%20126.87845501980098%5D%2C%20%5B37.44050651879255%2C%20126.8820789481093%5D%2C%20%5B37.442735577327326%2C%20126.86153750752979%5D%2C%20%5B37.44599033815771%2C%20126.87518697876263%5D%2C%20%5B37.53270269706644%2C%20126.96023176014518%5D%2C%20%5B37.45918526764684%2C%20127.05800329347812%5D%2C%20%5B37.44941915568246%2C%20127.0494234503833%5D%2C%20%5B37.448575743673494%2C%20127.0406901251038%5D%2C%20%5B37.584061232906784%2C%20126.95010479652768%5D%2C%20%5B37.47237142582783%2C%20126.95015265345131%5D%2C%20%5B37.477126292121284%2C%20126.94986007720019%5D%2C%20%5B37.46850898779156%2C%20126.94557794125305%5D%2C%20%5B37.479716658258276%2C%20126.93183823857453%5D%2C%20%5B37.47864789327722%2C%20126.93452630844712%5D%2C%20%5B37.46925329134816%2C%20126.94047509154728%5D%2C%20%5B37.46206474165962%2C%20126.93472645028632%5D%2C%20%5B37.43913927663323%2C%20127.03378203555621%5D%2C%20%5B37.43106883782253%2C%20127.03524053682469%5D%2C%20%5B37.4509052245334%2C%20126.91783824119727%5D%2C%20%5B37.451117636536054%2C%20126.91596808457115%5D%2C%20%5B37.441419450007594%2C%20126.91324728642275%5D%2C%20%5B37.44676976707259%2C%20126.91414649004477%5D%2C%20%5B37.46365261845289%2C%20126.89948150837668%5D%2C%20%5B37.46342944414219%2C%20126.8993864205116%5D%2C%20%5B37.45095444044665%2C%20126.90330599293526%5D%2C%20%5B37.4541326590757%2C%20126.89848045426501%5D%2C%20%5B37.449659473790874%2C%20126.93505333962659%5D%2C%20%5B37.441019323668094%2C%20126.93055412750914%5D%2C%20%5B37.43685984273339%2C%20126.92307496140234%5D%2C%20%5B37.425753839432446%2C%20126.9204614734563%5D%2C%20%5B37.42649815431481%2C%20126.92184659630823%5D%2C%20%5B37.42912219852758%2C%20126.91152891298557%5D%2C%20%5B37.397645901635016%2C%20126.93575591875984%5D%2C%20%5B37.40056181031998%2C%20126.92369661134538%5D%2C%20%5B37.39200144972332%2C%20126.92861587133694%5D%2C%20%5B37.61081647105862%2C%20126.98553190286026%5D%2C%20%5B37.636862987767756%2C%20126.9386507769182%5D%2C%20%5B37.60838432466296%2C%20126.95349950145393%5D%2C%20%5B37.60173461528271%2C%20126.93979472992893%5D%2C%20%5B37.409369749713285%2C%20126.9795995516121%5D%2C%20%5B37.3851873523865%2C%20126.97275909313697%5D%2C%20%5B37.38382857393346%2C%20126.97268091986604%5D%2C%20%5B37.46685873895146%2C%20126.93713516578518%5D%2C%20%5B37.487368300599925%2C%20126.94471964430673%5D%2C%20%5B37.50180306490259%2C%20126.92195537301887%5D%2C%20%5B37.49740570358293%2C%20126.91544057199204%5D%2C%20%5B37.504859015309975%2C%20126.93003045461066%5D%2C%20%5B37.54768020295667%2C%20126.9183970142627%5D%2C%20%5B37.40394698111949%2C%20127.00222627438592%5D%2C%20%5B37.39130971862605%2C%20127.00443304688392%5D%2C%20%5B37.512732479952405%2C%20127.02200683629619%5D%2C%20%5B37.49525876659679%2C%20126.91596335407291%5D%2C%20%5B37.60804943809461%2C%20126.95999937053665%5D%2C%20%5B37.56425517332219%2C%20126.95180925783416%5D%2C%20%5B37.51133219533325%2C%20126.97860083811989%5D%2C%20%5B37.500552582067655%2C%20127.01446348442931%5D%2C%20%5B37.52366490428689%2C%20127.01910549089914%5D%2C%20%5B37.52536979591351%2C%20127.10614627716507%5D%2C%20%5B37.545751197269595%2C%20127.10455494706059%5D%2C%20%5B37.54158837238043%2C%20127.14095753887182%5D%2C%20%5B37.53996712354438%2C%20127.14169102490354%5D%2C%20%5B37.54344066903809%2C%20127.14412236022793%5D%2C%20%5B37.54566170140242%2C%20127.14392675931614%5D%2C%20%5B37.54794624102456%2C%20127.14897546383679%5D%2C%20%5B37.5462968074251%2C%20127.15425743286269%5D%2C%20%5B37.54627098141655%2C%20127.16281721631697%5D%2C%20%5B37.54489258874134%2C%20127.16841620778169%5D%2C%20%5B37.5452445153229%2C%20127.16578045787065%5D%2C%20%5B37.5043305534032%2C%20127.01473464192361%5D%2C%20%5B37.5066979403498%2C%20127.01325530264108%5D%2C%20%5B37.44591507023564%2C%20126.88900414527345%5D%2C%20%5B37.484384569613%2C%20126.92326152653749%5D%2C%20%5B37.48264332463286%2C%20126.9135626123325%5D%2C%20%5B37.415053643565486%2C%20126.98764567193658%5D%2C%20%5B37.40771451288963%2C%20126.99025208798841%5D%2C%20%5B37.545359371401986%2C%20127.06440763877293%5D%2C%20%5B37.52907180766259%2C%20127.10847379561585%5D%2C%20%5B37.52987664092147%2C%20127.11367711179864%5D%2C%20%5B37.561365397356376%2C%20126.98295236410283%5D%2C%20%5B37.5538995039661%2C%20126.98559171215712%5D%2C%20%5B37.56323583830402%2C%20126.98947874299296%5D%2C%20%5B37.40712334228878%2C%20126.96168537656621%5D%2C%20%5B37.40796949443308%2C%20126.98056209408264%5D%2C%20%5B37.420679344266446%2C%20126.98869025431142%5D%2C%20%5B37.41107794901386%2C%20126.9789654471943%5D%2C%20%5B37.49942217931481%2C%20126.91879076242259%5D%2C%20%5B37.462077492853545%2C%20126.89405069574627%5D%2C%20%5B37.471873967687614%2C%20126.90833529317365%5D%2C%20%5B37.44516391027602%2C%20126.87132955188957%5D%2C%20%5B37.432604166861246%2C%20126.90683555865488%5D%2C%20%5B37.443545082793264%2C%20126.9095957623149%5D%2C%20%5B37.44345986298157%2C%20126.88631233245002%5D%2C%20%5B37.55510154707766%2C%20127.03356406133088%5D%2C%20%5B37.56134822449449%2C%20127.02364376784851%5D%2C%20%5B37.56499752003619%2C%20127.02284509748128%5D%2C%20%5B37.56934196829952%2C%20127.03061159575563%5D%2C%20%5B37.57085072832952%2C%20127.02219859309037%5D%2C%20%5B37.574110631892864%2C%20127.02541013782076%5D%2C%20%5B37.570905757558926%2C%20127.03039034545702%5D%2C%20%5B37.56994151093187%2C%20127.0280487866525%5D%2C%20%5B37.57948642778998%2C%20127.02358206913917%5D%2C%20%5B37.57781644328166%2C%20126.98300062862981%5D%2C%20%5B37.45673482494143%2C%20126.93129042780237%5D%2C%20%5B37.45478394312271%2C%20126.93068834696669%5D%2C%20%5B37.4584248022887%2C%20126.93024820620013%5D%2C%20%5B37.45588096929835%2C%20126.93322737190084%5D%2C%20%5B37.428259926231%2C%20126.92652439553498%5D%2C%20%5B37.50552368297039%2C%20126.91626671287779%5D%2C%20%5B37.53365308929869%2C%20126.92932035964668%5D%2C%20%5B37.569082690298714%2C%20127.02346834172508%5D%2C%20%5B37.57276785597952%2C%20127.03130063072913%5D%2C%20%5B37.572195922522255%2C%20127.02207964414904%5D%2C%20%5B37.562358946726604%2C%20127.04429916615771%5D%2C%20%5B37.56330868827566%2C%20127.04647530215803%5D%2C%20%5B37.56293322739844%2C%20127.04868274619%5D%2C%20%5B37.53705997138063%2C%20127.03529744372534%5D%2C%20%5B37.561531542785524%2C%20127.03447698977834%5D%2C%20%5B37.5710396969765%2C%20127.03630922943086%5D%2C%20%5B37.557034084715276%2C%20127.02239727178073%5D%2C%20%5B37.55735808551994%2C%20127.03416899597684%5D%2C%20%5B37.557867304050625%2C%20127.0429465304507%5D%2C%20%5B37.53751130469226%2C%20127.1059136933253%5D%2C%20%5B37.582825821169244%2C%20127.04833537612481%5D%2C%20%5B37.58288843795375%2C%20127.04485222196263%5D%2C%20%5B37.58698192055312%2C%20127.04549904989699%5D%2C%20%5B37.53211852249096%2C%20127.08046357670747%5D%2C%20%5B37.57942716437782%2C%20127.06083947298711%5D%2C%20%5B37.57583052698066%2C%20127.06671741898211%5D%2C%20%5B37.57444645612017%2C%20127.06425080947923%5D%2C%20%5B37.42751053541276%2C%20126.9339182468581%5D%2C%20%5B37.42615319238538%2C%20126.93580499300319%5D%2C%20%5B37.53743129851662%2C%20127.0152010708261%5D%2C%20%5B37.552666199034626%2C%20126.99428781944161%5D%2C%20%5B37.55771656096684%2C%20127.01738653681912%5D%2C%20%5B37.555241377195465%2C%20127.0184562396935%5D%2C%20%5B37.530297842124384%2C%20126.99612549313426%5D%2C%20%5B37.54030117160479%2C%20127.02443058472787%5D%2C%20%5B37.53892935131649%2C%20127.09085427665013%5D%2C%20%5B37.57662585351877%2C%20127.07510028212349%5D%2C%20%5B37.57955259837886%2C%20127.02971914554519%5D%2C%20%5B37.585519404959236%2C%20127.0506822810105%5D%2C%20%5B37.584056125172935%2C%20127.05433701337108%5D%2C%20%5B37.57413033041773%2C%20127.06041412763096%5D%2C%20%5B37.591305739666694%2C%20127.06802453157565%5D%2C%20%5B37.58038962508462%2C%20127.03523402305197%5D%2C%20%5B37.58495765577021%2C%20127.03562176078455%5D%2C%20%5B37.5883201469613%2C%20127.06391847930243%5D%2C%20%5B37.54808397224412%2C%20127.1518706515592%5D%2C%20%5B37.57776989024409%2C%20127.06661983606938%5D%2C%20%5B37.573236503599745%2C%20127.06900193004671%5D%2C%20%5B37.574899120609935%2C%20127.07303934379789%5D%2C%20%5B37.43034823084562%2C%20126.89917872962957%5D%2C%20%5B37.43165126814814%2C%20126.90139402377508%5D%2C%20%5B37.44181574884034%2C%20126.87531602124665%5D%2C%20%5B37.431083186150275%2C%20126.87703385789663%5D%2C%20%5B37.54303640093594%2C%20127.02380968303893%5D%2C%20%5B37.49487623084795%2C%20126.99746686164144%5D%2C%20%5B37.48690865779497%2C%20126.96767867631914%5D%2C%20%5B37.551517405631394%2C%20127.01188884816878%5D%2C%20%5B37.55394033874392%2C%20126.99967245508458%5D%2C%20%5B37.55497410405826%2C%20126.99700366168167%5D%2C%20%5B37.54924886625036%2C%20126.99519445075293%5D%2C%20%5B37.58162126434868%2C%20127.06141024454334%5D%2C%20%5B37.543687224405055%2C%20126.95333399968376%5D%2C%20%5B37.40049298360304%2C%20126.91864797347625%5D%2C%20%5B37.399897854090355%2C%20126.92275337076546%5D%2C%20%5B37.47047392242072%2C%20126.98608120114525%5D%2C%20%5B37.484296319452746%2C%20126.99399106448774%5D%2C%20%5B37.63842942137023%2C%20126.999513478462%5D%2C%20%5B37.500806727219725%2C%20126.91606821472155%5D%2C%20%5B37.499659503155684%2C%20126.92232434047588%5D%2C%20%5B37.50164576960578%2C%20126.92417996936837%5D%2C%20%5B37.5005537751734%2C%20126.92670332986006%5D%2C%20%5B37.50016534566378%2C%20126.91000606960182%5D%2C%20%5B37.46384837282894%2C%20126.94932125236744%5D%2C%20%5B37.54680513083709%2C%20126.90822432301024%5D%2C%20%5B37.42356241410803%2C%20126.96349345662534%5D%2C%20%5B37.381902737591204%2C%20126.97457998985661%5D%2C%20%5B37.38113371755239%2C%20126.97872205297725%5D%2C%20%5B37.37851546693491%2C%20126.97375420952966%5D%2C%20%5B37.38100298931799%2C%20126.96971327499523%5D%2C%20%5B37.38447373333572%2C%20126.96079104931331%5D%2C%20%5B37.390273775473325%2C%20126.95243867544681%5D%2C%20%5B37.562140987665124%2C%20126.93995528827361%5D%2C%20%5B37.56127226696787%2C%20126.94214690439236%5D%2C%20%5B37.5489678270715%2C%20126.95450985557588%5D%2C%20%5B37.55126845626134%2C%20126.9608071762407%5D%2C%20%5B37.546594496891515%2C%20126.95990387416907%5D%2C%20%5B37.550966833778205%2C%20126.96541316383525%5D%2C%20%5B37.41580189431662%2C%20126.9951867563174%5D%2C%20%5B37.483716009696664%2C%20126.90821668838393%5D%2C%20%5B37.479410814878285%2C%20126.99328837561114%5D%2C%20%5B37.481444458779265%2C%20126.99816660438032%5D%2C%20%5B37.633067654386295%2C%20126.9872625666238%5D%2C%20%5B37.65205548695546%2C%20126.99937118406666%5D%2C%20%5B37.61496319803743%2C%20126.98424199178737%5D%2C%20%5B37.61417860000686%2C%20126.98148773137626%5D%2C%20%5B37.61798168745558%2C%20126.9802519871399%5D%2C%20%5B37.470221945799686%2C%20126.92156697104983%5D%2C%20%5B37.405571110388266%2C%20126.95897885723363%5D%2C%20%5B37.3903058850311%2C%20126.96751102310657%5D%2C%20%5B37.40006496426716%2C%20126.96947024108763%5D%2C%20%5B37.39677684686155%2C%20126.96904264797848%5D%2C%20%5B37.36275631561285%2C%20127.01236376457408%5D%2C%20%5B37.36252315983998%2C%20127.00994358605098%5D%2C%20%5B37.39547589547412%2C%20126.97200500956197%5D%2C%20%5B37.45273776566328%2C%20126.94937043457631%5D%2C%20%5B37.45153775377953%2C%20126.8894056900609%5D%2C%20%5B37.44802158453731%2C%20126.91048819987867%5D%2C%20%5B37.45021948464154%2C%20126.91461048272626%5D%2C%20%5B37.45318644081331%2C%20126.91531122441438%5D%2C%20%5B37.45465275417661%2C%20126.91337220070395%5D%2C%20%5B37.617117503386034%2C%20126.93561945594266%5D%2C%20%5B37.48415282560596%2C%20126.91743362292718%5D%2C%20%5B37.48442825220633%2C%20126.91924364992383%5D%2C%20%5B37.45352256532553%2C%20126.91927413636921%5D%2C%20%5B37.45704344666107%2C%20126.92100320741676%5D%2C%20%5B37.554671413431436%2C%20126.91393344342643%5D%2C%20%5B37.55517926028075%2C%20126.91010313634382%5D%2C%20%5B37.493703978285964%2C%20126.91537426223135%5D%2C%20%5B37.47167992740428%2C%20127.04564272006581%5D%2C%20%5B37.61096359064028%2C%20126.93764827025541%5D%2C%20%5B37.61396008846502%2C%20126.93903456398829%5D%2C%20%5B37.61639420420311%2C%20126.95309576603427%5D%2C%20%5B37.61887309336754%2C%20126.95183648739038%5D%2C%20%5B37.60525019467491%2C%20126.95545159232537%5D%2C%20%5B37.61623262868964%2C%20126.94217885339054%5D%2C%20%5B37.441356626653835%2C%20126.89804353757128%5D%2C%20%5B37.624342793569326%2C%20126.93605700309178%5D%2C%20%5B37.63770026391754%2C%20126.9370612188381%5D%2C%20%5B37.588872219551924%2C%20126.94608654474771%5D%2C%20%5B37.58698802450883%2C%20126.94169166705885%5D%2C%20%5B37.592286824348044%2C%20126.94528736881816%5D%2C%20%5B37.59189707570151%2C%20126.93973231823327%5D%2C%20%5B37.617982417004434%2C%20126.92628729012807%5D%2C%20%5B37.61702635217266%2C%20126.92063486397325%5D%2C%20%5B37.61271196589334%2C%20126.9351984671244%5D%2C%20%5B37.44913328747263%2C%20127.00535344016683%5D%2C%20%5B37.451224779009394%2C%20127.00648889694611%5D%2C%20%5B37.4523746913711%2C%20127.00861343533714%5D%2C%20%5B37.363149173845486%2C%20127.01844072709403%5D%2C%20%5B37.49499695757736%2C%20126.91271474250343%5D%2C%20%5B37.49789669575744%2C%20126.91319403829581%5D%2C%20%5B37.495263819324784%2C%20126.92267425127119%5D%2C%20%5B37.49733324615242%2C%20126.9203587972593%5D%2C%20%5B37.550081305217724%2C%20126.91206835507882%5D%2C%20%5B37.56628983367827%2C%20126.95751623761566%5D%2C%20%5B37.566318376453076%2C%20126.94172063722812%5D%2C%20%5B37.58401472039433%2C%20126.93034494463276%5D%2C%20%5B37.61746424664447%2C%20126.99869181071824%5D%2C%20%5B37.61544334239601%2C%20126.99920621247304%5D%2C%20%5B37.63113911153897%2C%20126.99917791075882%5D%2C%20%5B37.61696788391352%2C%20127.00465867437362%5D%2C%20%5B37.651316900008794%2C%20127.00173398601362%5D%2C%20%5B37.61397807804558%2C%20126.97840121992917%5D%2C%20%5B37.44062439037559%2C%20126.92111293884204%5D%2C%20%5B37.4420983470783%2C%20126.92372960031707%5D%2C%20%5B37.38277374869289%2C%20126.98310910272616%5D%2C%20%5B37.46130680143444%2C%20127.00174691689026%5D%2C%20%5B37.47559899412087%2C%20127.00362420116954%5D%2C%20%5B37.47734010148257%2C%20127.00431993848716%5D%2C%20%5B37.44824632447481%2C%20126.99839723564406%5D%2C%20%5B37.376909993711976%2C%20126.9726259425205%5D%2C%20%5B37.38712342766624%2C%20126.96679095129338%5D%2C%20%5B37.38474414598937%2C%20126.96641571322098%5D%2C%20%5B37.366527283286665%2C%20127.02004639559505%5D%2C%20%5B37.36789159427629%2C%20127.01751566782954%5D%2C%20%5B37.37355046576618%2C%20127.01985664278342%5D%2C%20%5B37.38774038072037%2C%20127.01910910443442%5D%2C%20%5B37.414438807385224%2C%20126.99847641919555%5D%2C%20%5B37.56703477067211%2C%20126.939490857712%5D%2C%20%5B37.5843021796834%2C%20126.92753966275055%5D%2C%20%5B37.561655015265266%2C%20126.95123907499126%5D%2C%20%5B37.61828204785739%2C%20127.0047143565512%5D%2C%20%5B37.62243810210687%2C%20127.00815574044458%5D%2C%20%5B37.635692097933536%2C%20127.01364608840538%5D%2C%20%5B37.62214015704981%2C%20126.99236036189728%5D%2C%20%5B37.62032342036444%2C%20126.99776582663466%5D%2C%20%5B37.62406535867164%2C%20126.99526365565353%5D%2C%20%5B37.44740631316809%2C%20126.95046720364812%5D%2C%20%5B37.43220897800123%2C%20126.9776637981594%5D%2C%20%5B37.431561177185834%2C%20126.98241600596407%5D%2C%20%5B37.42863538673308%2C%20126.98469937707671%5D%2C%20%5B37.451967298517964%2C%20126.93662226208329%5D%2C%20%5B37.45331558574499%2C%20126.93879632735715%5D%2C%20%5B37.43799798406106%2C%20127.00094930412342%5D%2C%20%5B37.431605303620906%2C%20127.02797194900424%5D%2C%20%5B37.51168063943822%2C%20126.91572150563206%5D%2C%20%5B37.51248610997851%2C%20126.91801092256551%5D%2C%20%5B37.517331312158255%2C%20126.9123911326815%5D%2C%20%5B37.538883926837826%2C%20126.921360903048%5D%2C%20%5B37.504723154046225%2C%20126.92640111183354%5D%2C%20%5B37.50583837104748%2C%20126.9113888603444%5D%2C%20%5B37.532895136116856%2C%20126.92204311551995%5D%2C%20%5B37.44119022106241%2C%20126.94598079105069%5D%2C%20%5B37.3830876411939%2C%20126.97076975673116%5D%2C%20%5B37.62209090047618%2C%20126.98817862344427%5D%2C%20%5B37.43991453196264%2C%20126.88692213337586%5D%2C%20%5B37.43818837004808%2C%20126.89046631668225%5D%2C%20%5B37.556842628265215%2C%20126.90780542828375%5D%2C%20%5B37.54133520490602%2C%20126.94770612587934%5D%2C%20%5B37.53911669960288%2C%20126.95062148970854%5D%2C%20%5B37.47343554862026%2C%20126.98141533950928%5D%2C%20%5B37.48174805776296%2C%20126.9951131150699%5D%2C%20%5B37.440000950970706%2C%20127.00676801246897%5D%2C%20%5B37.474778217710934%2C%20126.9237367999904%5D%2C%20%5B37.55126876886698%2C%20126.93212146680932%5D%2C%20%5B37.53558801891884%2C%20126.96254766332413%5D%2C%20%5B37.387148523242885%2C%20126.9972291497987%5D%2C%20%5B37.38916165553786%2C%20126.96871243481124%5D%2C%20%5B37.39369733123811%2C%20126.98934306671595%5D%2C%20%5B37.39544472175004%2C%20126.98258958707865%5D%2C%20%5B37.36775230286082%2C%20127.01177588767632%5D%2C%20%5B37.4355529645735%2C%20126.94341287459409%5D%2C%20%5B37.36567888492643%2C%20127.00390942815676%5D%2C%20%5B37.42745572712787%2C%20126.91519476008676%5D%2C%20%5B37.43260681750586%2C%20126.89560843674516%5D%2C%20%5B37.4242607757931%2C%20126.91338949947902%5D%2C%20%5B37.43852540322018%2C%20126.89607478846352%5D%2C%20%5B37.43713200046475%2C%20126.90086973978916%5D%2C%20%5B37.43560067653018%2C%20126.90372840014246%5D%2C%20%5B37.44209285809439%2C%20126.90761661732267%5D%2C%20%5B37.43022570526623%2C%20126.89571779052253%5D%2C%20%5B37.491596274987735%2C%20126.90510229516798%5D%2C%20%5B37.5627894711257%2C%20126.93753648749598%5D%2C%20%5B37.44958311044958%2C%20127.02352415695401%5D%2C%20%5B37.48198992369085%2C%20127.00903438224466%5D%2C%20%5B37.470118232942845%2C%20127.04927820241943%5D%2C%20%5B37.47215929946838%2C%20127.0424421242343%5D%2C%20%5B37.536684086048616%2C%20126.96308972784351%5D%2C%20%5B37.54025210179257%2C%20126.95947254688247%5D%2C%20%5B37.541859892634335%2C%20126.96009761026428%5D%2C%20%5B37.54646370843384%2C%20126.96211949152394%5D%2C%20%5B37.553659598365066%2C%20126.97107561019953%5D%2C%20%5B37.50563648206715%2C%20126.92299298249705%5D%2C%20%5B37.556922451062945%2C%20126.91113848806594%5D%2C%20%5B37.570987002219496%2C%20126.9250225629176%5D%2C%20%5B37.62316488367854%2C%20126.93270679294594%5D%2C%20%5B37.611844535987196%2C%20126.9831028730471%5D%2C%20%5B37.43955766297213%2C%20127.02812207260129%5D%2C%20%5B37.4821297430765%2C%20127.00685387143034%5D%2C%20%5B37.460938955474006%2C%20127.01393137040432%5D%2C%20%5B37.44277551104711%2C%20127.03355494025172%5D%2C%20%5B37.45472866829018%2C%20127.03094430977524%5D%2C%20%5B37.538261398905505%2C%20126.957439155457%5D%2C%20%5B37.439751648845096%2C%20126.90097683278785%5D%2C%20%5B37.402679120817766%2C%20126.95695210379691%5D%2C%20%5B37.39739403364298%2C%20126.95838952332997%5D%2C%20%5B37.39746123753269%2C%20126.95498011718414%5D%2C%20%5B37.392897671671214%2C%20126.96202485248406%5D%2C%20%5B37.393259518643355%2C%20126.96437332507185%5D%2C%20%5B37.455947148057454%2C%20127.00960157286795%5D%2C%20%5B37.45353994379197%2C%20127.02699586310118%5D%2C%20%5B37.48312209207776%2C%20127.01745145069316%5D%2C%20%5B37.45390944823051%2C%20127.03561462562104%5D%2C%20%5B37.64441222619159%2C%20127.01567130401776%5D%2C%20%5B37.638064551386854%2C%20127.01548744146808%5D%2C%20%5B37.62991376762316%2C%20126.98131428417011%5D%2C%20%5B37.54858591215594%2C%20126.9222624201717%5D%2C%20%5B37.39772195087558%2C%20126.97269416686697%5D%2C%20%5B37.400659778132685%2C%20126.97587474118731%5D%2C%20%5B37.40232390890481%2C%20126.97679695112993%5D%2C%20%5B37.406358518700166%2C%20126.97087566350456%5D%2C%20%5B37.39977866060931%2C%20126.925294579401%5D%2C%20%5B37.39977421431844%2C%20126.91241528736268%5D%2C%20%5B37.43896152977075%2C%20126.94531444175067%5D%2C%20%5B37.54585478532752%2C%20126.94543841147845%5D%2C%20%5B37.42881589137033%2C%20126.95259529188809%5D%2C%20%5B37.43949534860716%2C%20126.93345648197959%5D%2C%20%5B37.438911492787305%2C%20126.91911416281488%5D%2C%20%5B37.45169335548774%2C%20126.9057670141012%5D%2C%20%5B37.616432424626474%2C%20126.97305013246702%5D%2C%20%5B37.54840575586964%2C%20126.91736577033492%5D%2C%20%5B37.38780020316985%2C%20126.94739905823744%5D%2C%20%5B37.535208188554314%2C%20126.96501837906854%5D%2C%20%5B37.55333234592536%2C%20126.91663728809499%5D%2C%20%5B37.55243797562647%2C%20126.91837746478492%5D%2C%20%5B37.54642252253998%2C%20126.9284116524563%5D%2C%20%5B37.558773553948505%2C%20126.90645068281478%5D%2C%20%5B37.41131854100714%2C%20126.99502502446126%5D%2C%20%5B37.40891966377554%2C%20126.99671075273378%5D%2C%20%5B37.62112037296559%2C%20126.97012767335173%5D%2C%20%5B37.565333548374944%2C%20127.06132966780567%5D%2C%20%5B37.593292745789824%2C%20127.04999407351687%5D%2C%20%5B37.59707416697768%2C%20127.06058240728635%5D%2C%20%5B37.59696848313354%2C%20127.06280004649318%5D%2C%20%5B37.5803756934041%2C%20127.04870162968876%5D%2C%20%5B37.517191570859744%2C%20127.04513015946537%5D%2C%20%5B37.47308285305272%2C%20127.00253996374582%5D%2C%20%5B37.51192075487381%2C%20127.03928071544189%5D%2C%20%5B37.532282520224044%2C%20127.03109017666551%5D%2C%20%5B37.48786419915416%2C%20127.03420624790573%5D%2C%20%5B37.50759333411726%2C%20127.02922429978608%5D%2C%20%5B37.51789455548713%2C%20127.02831294314689%5D%2C%20%5B37.51845449275965%2C%20127.03178167635548%5D%2C%20%5B37.50095405272815%2C%20127.00516295683775%5D%2C%20%5B37.5031862980424%2C%20127.00565593644694%5D%2C%20%5B37.51577704167465%2C%20127.01141056386464%5D%2C%20%5B37.56578733986849%2C%20126.98104562241409%5D%2C%20%5B37.387299212266534%2C%20126.96176225650237%5D%2C%20%5B37.389248799859445%2C%20126.96201342588688%5D%2C%20%5B37.40327374575414%2C%20126.95896847383742%5D%2C%20%5B37.414836509644864%2C%20126.95602754366229%5D%2C%20%5B37.482673196673005%2C%20126.92893767017003%5D%2C%20%5B37.47911462633971%2C%20126.93095091616692%5D%2C%20%5B37.44582466454451%2C%20127.06145056879262%5D%2C%20%5B37.453756271161986%2C%20127.05627945083202%5D%2C%20%5B37.45378793801084%2C%20127.0595736897846%5D%2C%20%5B37.47813670839884%2C%20126.93928611773438%5D%2C%20%5B37.53761771086296%2C%20127.11664204660474%5D%2C%20%5B37.54146829204083%2C%20127.11763503752061%5D%2C%20%5B37.508455535332686%2C%20126.91692303453686%5D%2C%20%5B37.52961097534486%2C%20126.9522394796669%5D%2C%20%5B37.55145236658191%2C%20126.9062661677155%5D%2C%20%5B37.53124570924095%2C%20126.94803049342497%5D%2C%20%5B37.53232003079674%2C%20126.94470378784422%5D%2C%20%5B37.424166537543044%2C%20126.91726010745728%5D%2C%20%5B37.441570131437025%2C%20126.89239782239315%5D%2C%20%5B37.44053130405915%2C%20126.89458129262766%5D%2C%20%5B37.392989789965554%2C%20126.95549022110663%5D%2C%20%5B37.3978061829556%2C%20126.96493028914455%5D%2C%20%5B37.39970062312781%2C%20126.96120854977573%5D%2C%20%5B37.53834429097799%2C%20127.10764618061626%5D%2C%20%5B37.53640900346369%2C%20127.10909448828622%5D%2C%20%5B37.5302121066182%2C%20127.11624897650745%5D%2C%20%5B37.5346170396498%2C%20127.08457221250188%5D%2C%20%5B37.529973698499894%2C%20127.09927616466686%5D%2C%20%5B37.54119903381824%2C%20127.07743926222432%5D%2C%20%5B37.52785397594759%2C%20127.08212794363885%5D%2C%20%5B37.52752083952062%2C%20127.08557725811855%5D%2C%20%5B37.49153819964533%2C%20126.9151166398172%5D%2C%20%5B37.41936094691113%2C%20126.94546803570904%5D%2C%20%5B37.43017588693934%2C%20126.92259257013413%5D%2C%20%5B37.4315047986768%2C%20126.92524805097804%5D%2C%20%5B37.403915339189815%2C%20126.92606639266162%5D%2C%20%5B37.45923758990115%2C%20126.93625810079533%5D%2C%20%5B37.4905921335412%2C%20126.9196104844988%5D%2C%20%5B37.50194696766476%2C%20126.91379891012713%5D%2C%20%5B37.42686084079832%2C%20126.91888453002787%5D%2C%20%5B37.46265874028306%2C%20126.93313214458757%5D%2C%20%5B37.53346115503449%2C%20127.1026837845877%5D%2C%20%5B37.524857237428876%2C%20127.10305201371239%5D%2C%20%5B37.5229763789651%2C%20127.11134662805364%5D%2C%20%5B37.51961224566708%2C%20127.11187640272215%5D%2C%20%5B37.53163500291524%2C%20127.10904739563946%5D%2C%20%5B37.53538594354586%2C%20127.11082756603312%5D%2C%20%5B37.53821665477615%2C%20127.10122444475371%5D%2C%20%5B37.53609040944042%2C%20127.10503964305596%5D%2C%20%5B37.53483564659171%2C%20127.07793206629893%5D%2C%20%5B37.552435273528275%2C%20127.08393010203292%5D%2C%20%5B37.56543719088734%2C%20127.07465585818747%5D%2C%20%5B37.53103168004952%2C%20127.08762255688364%5D%2C%20%5B37.52518277068098%2C%20127.09420816776228%5D%2C%20%5B37.45130163609825%2C%20127.07233085214966%5D%2C%20%5B37.56939850888515%2C%20127.13728700230672%5D%2C%20%5B37.56775134876772%2C%20127.13948183310185%5D%2C%20%5B37.533495689507134%2C%20127.06856770268891%5D%2C%20%5B37.51876225801708%2C%20127.04811740750023%5D%2C%20%5B37.55341759711289%2C%20127.02804394797397%5D%2C%20%5B37.54819657107026%2C%20127.04152595264483%5D%2C%20%5B37.5479017279526%2C%20127.03086654329525%5D%2C%20%5B37.54805388818165%2C%20127.03794930715887%5D%2C%20%5B37.552887209796076%2C%20127.04167618669251%5D%2C%20%5B37.546566947313586%2C%20127.09326434047432%5D%2C%20%5B37.531191640505355%2C%20127.09193525387138%5D%2C%20%5B37.53235301799773%2C%20127.09388772112175%5D%2C%20%5B37.53575167111061%2C%20127.08882025532105%5D%2C%20%5B37.54224045884935%2C%20127.05982701850775%5D%2C%20%5B37.54134232236564%2C%20127.05155419547094%5D%2C%20%5B37.52973177612614%2C%20127.03856230355413%5D%2C%20%5B37.54693761086396%2C%20127.06627562836616%5D%2C%20%5B37.55348742978578%2C%20127.0705363131656%5D%2C%20%5B37.540595674169396%2C%20127.06546238084343%5D%2C%20%5B37.52171115020949%2C%20127.01274369670267%5D%2C%20%5B37.52444653066139%2C%20127.0085627585519%5D%2C%20%5B37.52739702302899%2C%20127.00798166872377%5D%2C%20%5B37.547510767440215%2C%20127.06139403844315%5D%2C%20%5B37.45013989848053%2C%20127.03810925400867%5D%2C%20%5B37.44108061955496%2C%20127.05544806686243%5D%2C%20%5B37.53959995850439%2C%20127.11929430027459%5D%2C%20%5B37.54854975940974%2C%20127.1263581595058%5D%2C%20%5B37.408523190481056%2C%20126.97518272632834%5D%2C%20%5B37.40846125911834%2C%20126.9715272113699%5D%2C%20%5B37.41729615593912%2C%20126.9576452406503%5D%2C%20%5B37.540990867654315%2C%20127.01595957878519%5D%2C%20%5B37.55060597707613%2C%20127.01785861202202%5D%2C%20%5B37.546836558398596%2C%20127.01288362709178%5D%2C%20%5B37.52634869611915%2C%20126.99505817353668%5D%2C%20%5B37.5319000823848%2C%20127.00173951070471%5D%2C%20%5B37.54158034602165%2C%20127.0177598920778%5D%2C%20%5B37.54047471178516%2C%20127.01331563035686%5D%2C%20%5B37.53796804722171%2C%20127.01142823841957%5D%2C%20%5B37.441527906749315%2C%20126.88110211497295%5D%2C%20%5B37.43684907408841%2C%20126.87955730717059%5D%2C%20%5B37.44233948522645%2C%20126.931563409213%5D%2C%20%5B37.443286049713976%2C%20126.94371216973374%5D%2C%20%5B37.44841863385675%2C%20126.9458795093071%5D%2C%20%5B37.44739248942457%2C%20126.94259649107912%5D%2C%20%5B37.45546460432619%2C%20126.90430906881286%5D%2C%20%5B37.47261921793544%2C%20126.91623238407573%5D%2C%20%5B37.4699760277544%2C%20126.90161959034398%5D%2C%20%5B37.50151435956477%2C%20126.90355857754602%5D%2C%20%5B37.566209500392986%2C%20126.91819249079259%5D%2C%20%5B37.531730065225155%2C%20126.9630232442288%5D%2C%20%5B37.549702167216005%2C%20126.9365318875731%5D%2C%20%5B37.44439187497839%2C%20127.00426024829716%5D%2C%20%5B37.516028621169596%2C%20126.93625399870234%5D%2C%20%5B37.5334362303245%2C%20126.9463670614291%5D%2C%20%5B37.508302547436166%2C%20126.92344308280067%5D%2C%20%5B37.38895832084003%2C%20126.97375126972702%5D%2C%20%5B37.388316362531214%2C%20126.9770533559091%5D%2C%20%5B37.40205111815073%2C%20126.93497924605705%5D%2C%20%5B37.50191838074168%2C%20127.03543397113714%5D%2C%20%5B37.49997381517753%2C%20127.03419217278193%5D%2C%20%5B37.57030401142421%2C%20126.99365284283525%5D%2C%20%5B37.57281742269581%2C%20126.99525491362223%5D%2C%20%5B37.5811288948329%2C%20127.00495849197571%5D%2C%20%5B37.57671718193835%2C%20127.05920645727929%5D%2C%20%5B37.44460053415138%2C%20126.91240720878184%5D%2C%20%5B37.477952233939995%2C%20126.91750504688525%5D%2C%20%5B37.47189452523969%2C%20126.91149822242048%5D%2C%20%5B37.453378157525655%2C%20126.90330803599309%5D%2C%20%5B37.468958003955095%2C%20126.90407884590152%5D%2C%20%5B37.51663610008766%2C%20126.93364840075097%5D%2C%20%5B37.553747192194294%2C%20126.90187881051148%5D%2C%20%5B37.554342231103554%2C%20126.90596499967609%5D%2C%20%5B37.504057399337455%2C%20126.91329681300613%5D%2C%20%5B37.5491598253147%2C%20126.90357544952764%5D%2C%20%5B37.382634488820926%2C%20126.95842678971877%5D%2C%20%5B37.44222458568012%2C%20127.00328703308153%5D%2C%20%5B37.40393996293251%2C%20126.99936270573326%5D%2C%20%5B37.407197658518214%2C%20126.99755245396355%5D%2C%20%5B37.43868580094736%2C%20126.90561779621214%5D%2C%20%5B37.43363983266031%2C%20126.90480600406852%5D%2C%20%5B37.442776352590364%2C%20126.8625705832095%5D%2C%20%5B37.44269674109883%2C%20126.86583895796406%5D%2C%20%5B37.458762172439194%2C%20126.91701953239769%5D%2C%20%5B37.50087433118325%2C%20127.04085707404963%5D%2C%20%5B37.49894442790417%2C%20127.04015385082727%5D%2C%20%5B37.48723607820306%2C%20126.94013575757745%5D%2C%20%5B37.48847577164157%2C%20126.94434996022005%5D%2C%20%5B37.48659748877896%2C%20126.9461547301058%5D%2C%20%5B37.486340144663515%2C%20126.94274181532495%5D%2C%20%5B37.53461258013546%2C%20127.11266828710066%5D%2C%20%5B37.529328761395256%2C%20127.10598873270553%5D%2C%20%5B37.5226021087966%2C%20127.01002731813279%5D%2C%20%5B37.52497604474098%2C%20127.00272468002177%5D%2C%20%5B37.559241017808745%2C%20126.98962973530809%5D%2C%20%5B37.55780753377249%2C%20126.99245013721813%5D%2C%20%5B37.56711277413424%2C%20127.02371981592151%5D%2C%20%5B37.54381666017064%2C%20127.00782465910504%5D%2C%20%5B37.53394390087429%2C%20126.99784197569929%5D%2C%20%5B37.45339636557008%2C%20126.9432668230638%5D%2C%20%5B37.458287177011044%2C%20126.91894713081135%5D%2C%20%5B37.62371591889696%2C%20126.98087427061341%5D%2C%20%5B37.62852299770916%2C%20126.98822006088236%5D%2C%20%5B37.630690904430686%2C%20126.99194581453605%5D%2C%20%5B37.62767700559098%2C%20126.99928040166981%5D%2C%20%5B37.55034624538598%2C%20126.95692970997362%5D%2C%20%5B37.623183030466485%2C%20126.97774320068879%5D%2C%20%5B37.627192910273685%2C%20126.97652513225154%5D%2C%20%5B37.61350185373874%2C%20126.97515146169218%5D%2C%20%5B37.61205850215306%2C%20126.98996236234069%5D%2C%20%5B37.61355239121796%2C%20126.99281762571334%5D%2C%20%5B37.61589336997678%2C%20126.992093918477%5D%2C%20%5B37.61840369147862%2C%20126.99224487855966%5D%2C%20%5B37.532333448533144%2C%20127.07666931038551%5D%2C%20%5B37.560889789215636%2C%20127.06837530312393%5D%2C%20%5B37.56361465382871%2C%20127.07630718762721%5D%2C%20%5B37.56805942132478%2C%20127.12884117501386%5D%2C%20%5B37.56172818958042%2C%20127.1317602195665%5D%2C%20%5B37.550121383402995%2C%20127.02091938706104%5D%2C%20%5B37.58824398066418%2C%20127.00389168053576%5D%2C%20%5B37.45870028285355%2C%20126.94946910121797%5D%2C%20%5B37.57327564691108%2C%20127.07388431429038%5D%2C%20%5B37.59449560432541%2C%20127.05872263486066%5D%2C%20%5B37.59557226018707%2C%20127.06433508426628%5D%2C%20%5B37.58024687283361%2C%20127.02734615839785%5D%2C%20%5B37.58078000363899%2C%20127.03158627788648%5D%2C%20%5B37.58330323180114%2C%20127.03859950348803%5D%2C%20%5B37.58630752010432%2C%20127.04193536620659%5D%2C%20%5B37.62176031793816%2C%20126.97491224640157%5D%2C%20%5B37.393911742210314%2C%20126.96823427754757%5D%2C%20%5B37.551860537021426%2C%20126.89957506276446%5D%2C%20%5B37.373716587339004%2C%20126.92426603973544%5D%2C%20%5B37.431106834735736%2C%20126.9395457386853%5D%2C%20%5B37.42103558101557%2C%20126.94592934685929%5D%2C%20%5B37.393406372516246%2C%20126.92457033480889%5D%2C%20%5B37.619662092621176%2C%20127.00267131757181%5D%2C%20%5B37.40766148594338%2C%20126.93104946286573%5D%2C%20%5B37.49977405768725%2C%20126.9130467835351%5D%2C%20%5B37.43912120899317%2C%20126.8828025430114%5D%2C%20%5B37.440507097663655%2C%20126.91294309770751%5D%2C%20%5B37.41537805064344%2C%20126.96202539383674%5D%2C%20%5B37.414184153893416%2C%20126.95417357149535%5D%2C%20%5B37.40583394612748%2C%20126.96373801873105%5D%2C%20%5B37.5681277641166%2C%20126.98034387321269%5D%2C%20%5B37.57137919721345%2C%20126.97800174206887%5D%2C%20%5B37.567426684852826%2C%20126.98664113755675%5D%2C%20%5B37.56865156256586%2C%20126.99143137963745%5D%2C%20%5B37.56857946451035%2C%20126.98387680781957%5D%2C%20%5B37.4423805003925%2C%20126.94957635306685%5D%2C%20%5B37.390178792376666%2C%20126.97156527647812%5D%2C%20%5B37.39136482831935%2C%20126.97491742530732%5D%2C%20%5B37.39563182066063%2C%20126.97548756410518%5D%2C%20%5B37.57019180680138%2C%20127.03322406750263%5D%2C%20%5B37.55448709195619%2C%20127.05079861787311%5D%2C%20%5B37.55711975638082%2C%20127.05110924774448%5D%2C%20%5B37.53511872094173%2C%20127.0260776956197%5D%2C%20%5B37.52272886836335%2C%20127.02691803868368%5D%2C%20%5B37.428291509571764%2C%20126.91324670981825%5D%2C%20%5B37.40076334131209%2C%20126.91578254891255%5D%2C%20%5B37.410328960195066%2C%20126.94401779935171%5D%2C%20%5B37.443471181939074%2C%20126.99600816257632%5D%2C%20%5B37.445899307382%2C%20126.99223725439651%5D%2C%20%5B37.45782981307168%2C%20127.00091595364046%5D%2C%20%5B37.45878998656593%2C%20127.00267191165935%5D%2C%20%5B37.452515431317394%2C%20126.99092299529715%5D%2C%20%5B37.44918264885038%2C%20126.95403863775317%5D%2C%20%5B37.43683953344975%2C%20127.00434542231784%5D%2C%20%5B37.43988753993757%2C%20127.01568720621643%5D%2C%20%5B37.44383481935684%2C%20126.99864367439707%5D%2C%20%5B37.447401654174854%2C%20126.99988351696169%5D%2C%20%5B37.43245376627454%2C%20126.96637916853601%5D%2C%20%5B37.43444870139031%2C%20126.97062700928663%5D%2C%20%5B37.44781968837379%2C%20126.9135221876526%5D%2C%20%5B37.51639251435355%2C%20126.97555174935613%5D%2C%20%5B37.514529643376704%2C%20126.97785122887746%5D%2C%20%5B37.53266686435975%2C%20127.0186649859775%5D%2C%20%5B37.53281820868406%2C%20127.02188961689828%5D%2C%20%5B37.46425915384227%2C%20126.9365334244728%5D%2C%20%5B37.50973709930771%2C%20126.92457775674364%5D%2C%20%5B37.583124182995356%2C%20127.04011062213388%5D%2C%20%5B37.42353318833569%2C%20126.91942313629298%5D%2C%20%5B37.42820250165198%2C%20126.9238228777601%5D%2C%20%5B37.424749056101206%2C%20126.92760536584302%5D%2C%20%5B37.42243528483933%2C%20126.92670644993413%5D%2C%20%5B37.42437984696286%2C%20126.93085240904378%5D%2C%20%5B37.51145945752147%2C%20126.92451354891821%5D%2C%20%5B37.46238631282894%2C%20126.89970382846795%5D%2C%20%5B37.445927295818024%2C%20127.00211685845761%5D%2C%20%5B37.44232771504279%2C%20127.00073315566925%5D%2C%20%5B37.403102705060306%2C%20126.96981274472631%5D%2C%20%5B37.46925528938914%2C%20126.89503024644583%5D%2C%20%5B37.466192601372256%2C%20126.90199052852881%5D%2C%20%5B37.468532074436496%2C%20126.90583269013746%5D%2C%20%5B37.464624243775106%2C%20126.90940526815248%5D%2C%20%5B37.4809266065251%2C%20126.90722516686259%5D%2C%20%5B37.48098963297106%2C%20126.90968703397587%5D%2C%20%5B37.53759579256357%2C%20126.95094456370151%5D%2C%20%5B37.55449375829791%2C%20126.96282728221956%5D%2C%20%5B37.40523262954101%2C%20126.92435419445744%5D%2C%20%5B37.40457593851985%2C%20126.92797504005517%5D%2C%20%5B37.40385351860119%2C%20126.9198877790775%5D%2C%20%5B37.416452725218235%2C%20126.95909854235549%5D%2C%20%5B37.38969909139824%2C%20126.957191116628%5D%2C%20%5B37.429182276942406%2C%20126.93857143618388%5D%2C%20%5B37.52569001117643%2C%20127.00618780294445%5D%2C%20%5B37.52084511523293%2C%20127.00014583900764%5D%2C%20%5B37.5217717350412%2C%20127.00456080579949%5D%2C%20%5B37.56681351213147%2C%20127.13310593800588%5D%2C%20%5B37.57113559062324%2C%20127.038401213452%5D%2C%20%5B37.564631474634886%2C%20127.05237971019801%5D%2C%20%5B37.56670887396509%2C%20127.05681543730972%5D%2C%20%5B37.562225155158025%2C%20127.05435211989794%5D%2C%20%5B37.54340083138355%2C%20127.13561543525853%5D%2C%20%5B37.544493619253586%2C%20127.13852243054194%5D%2C%20%5B37.47471445962223%2C%20126.91191977401957%5D%2C%20%5B37.46374515782317%2C%20126.91741317140159%5D%2C%20%5B37.45401921323152%2C%20127.01156710880838%5D%2C%20%5B37.44206491143514%2C%20127.01187564528215%5D%2C%20%5B37.52506585684786%2C%20126.93787102728828%5D%2C%20%5B37.526005548313144%2C%20126.91496054278164%5D%2C%20%5B37.5280127721547%2C%20126.9162789336678%5D%2C%20%5B37.53416850110309%2C%20126.9182390192318%5D%2C%20%5B37.556191385011765%2C%20126.90340950187601%5D%2C%20%5B37.620856937734736%2C%20126.98060188878625%5D%2C%20%5B37.62914451937254%2C%20126.98345557069226%5D%2C%20%5B37.44334491856643%2C%20127.04481360909725%5D%2C%20%5B37.44492383088065%2C%20127.08230668589115%5D%2C%20%5B37.44556056117774%2C%20127.0870484699777%5D%2C%20%5B37.56337574994291%2C%20127.08035489298729%5D%2C%20%5B37.5714235427391%2C%20127.13435800383823%5D%2C%20%5B37.39263936468591%2C%20126.93561326764726%5D%2C%20%5B37.39410893660483%2C%20126.93882079014861%5D%2C%20%5B37.39597171784491%2C%20126.93933186063697%5D%2C%20%5B37.514273588320286%2C%20126.91948672059397%5D%2C%20%5B37.58285571363895%2C%20127.0419814810918%5D%2C%20%5B37.52429570785032%2C%20127.02774063193408%5D%2C%20%5B37.52282178709317%2C%20127.02993153807225%5D%2C%20%5B37.57681007860228%2C%20126.97689800990611%5D%2C%20%5B37.58007475675253%2C%20126.97476485114655%5D%2C%20%5B37.58302058185585%2C%20126.97638109005297%5D%2C%20%5B37.5856665475397%2C%20126.97810831647627%5D%2C%20%5B37.587242825555585%2C%20127.03966954542256%5D%2C%20%5B37.39870522094243%2C%20126.9529370007105%5D%2C%20%5B37.500208464899394%2C%20126.90640476106853%5D%2C%20%5B37.388036337017205%2C%20126.927827767135%5D%2C%20%5B37.39733120499998%2C%20126.93369419405224%5D%2C%20%5B37.45509836834617%2C%20126.95300537282174%5D%2C%20%5B37.434413972590114%2C%20126.96173623495659%5D%2C%20%5B37.43613813918715%2C%20126.96118992433946%5D%2C%20%5B37.43882518054085%2C%20126.9606975446078%5D%2C%20%5B37.530274158332944%2C%20127.02987874683183%5D%2C%20%5B37.52779477213718%2C%20127.03034331695844%5D%2C%20%5B37.515332721694776%2C%20127.04291310584148%5D%2C%20%5B37.461312224072785%2C%20127.05603464352251%5D%2C%20%5B37.44607717118349%2C%20127.05678344957235%5D%2C%20%5B37.525855516024286%2C%20127.01551043747975%5D%2C%20%5B37.381355956336705%2C%20126.99718798014254%5D%2C%20%5B37.3824692849335%2C%20126.99497701423584%5D%2C%20%5B37.485634577699464%2C%20126.9111126599665%5D%2C%20%5B37.46525038477042%2C%20126.89605305290485%5D%2C%20%5B37.466013799240656%2C%20126.89863602291325%5D%2C%20%5B37.45436965194583%2C%20126.94891950591759%5D%2C%20%5B37.45141579276905%2C%20126.92001747184392%5D%2C%20%5B37.45911592183827%2C%20126.91200303584745%5D%2C%20%5B37.476838945444996%2C%20126.91568970914366%5D%2C%20%5B37.47648035300428%2C%20126.92050946269589%5D%2C%20%5B37.491584968169924%2C%20126.90151056884486%5D%2C%20%5B37.47132346114144%2C%20126.91329126165013%5D%2C%20%5B37.468503247070366%2C%20126.91411037308745%5D%2C%20%5B37.59604604349476%2C%20126.94559926445987%5D%2C%20%5B37.59586794354191%2C%20126.94065579736443%5D%2C%20%5B37.39274396698259%2C%20126.98248828233636%5D%2C%20%5B37.36756741141273%2C%20127.00010212588995%5D%2C%20%5B37.44087171223367%2C%20126.9424799661956%5D%2C%20%5B37.431624130551505%2C%20126.94990079401632%5D%2C%20%5B37.43290163352692%2C%20126.94796763031243%5D%2C%20%5B37.43792497192435%2C%20126.95139346459626%5D%2C%20%5B37.444551294539885%2C%20127.06584092455446%5D%2C%20%5B37.44511898182848%2C%20127.06893379889618%5D%2C%20%5B37.44857566955937%2C%20127.06713244238017%5D%2C%20%5B37.39984927958345%2C%20126.93269086886139%5D%2C%20%5B37.40956066380815%2C%20126.93479827577562%5D%2C%20%5B37.51891524593157%2C%20127.07022643302452%5D%2C%20%5B37.52817182397279%2C%20127.0534184995989%5D%2C%20%5B37.52484237919892%2C%20127.01332253898735%5D%2C%20%5B37.53055034493841%2C%20127.01193435528907%5D%2C%20%5B37.52849580366276%2C%20127.013523643193%5D%2C%20%5B37.49373682244385%2C%20126.97455125801176%5D%2C%20%5B37.49499944607155%2C%20126.97729533913733%5D%2C%20%5B37.48534192214672%2C%20126.96562770807174%5D%2C%20%5B37.49388573207135%2C%20126.99068999866293%5D%2C%20%5B37.52269033087764%2C%20126.97955327207006%5D%2C%20%5B37.44396581130027%2C%20127.01740606285901%5D%2C%20%5B37.436111646411106%2C%20127.00821694616718%5D%2C%20%5B37.47115573126452%2C%20126.9913853487032%5D%2C%20%5B37.44829528423259%2C%20127.01128540002796%5D%2C%20%5B37.441477727426076%2C%20127.0079923292011%5D%2C%20%5B37.556992553133966%2C%20126.97030798041831%5D%2C%20%5B37.4047244650673%2C%20126.97742564572621%5D%2C%20%5B37.44467895394187%2C%20126.96162753454146%5D%2C%20%5B37.47383334534671%2C%20126.94681920970092%5D%2C%20%5B37.62784206720858%2C%20126.98566681305905%5D%2C%20%5B37.62690124151914%2C%20126.99377565805301%5D%2C%20%5B37.63067948360952%2C%20126.99522382886116%5D%2C%20%5B37.617800296863926%2C%20126.98349076479178%5D%2C%20%5B37.43595519124658%2C%20126.96894320091968%5D%2C%20%5B37.53303510025111%2C%20127.0375328955316%5D%2C%20%5B37.54056466946628%2C%20127.07142826239425%5D%2C%20%5B37.38385703414059%2C%20126.99059257594843%5D%2C%20%5B37.38421677806573%2C%20126.98743488678701%5D%2C%20%5B37.44923455449951%2C%20127.05311621512521%5D%2C%20%5B37.44973331233854%2C%20127.04089440031319%5D%2C%20%5B37.44697223538718%2C%20127.04341224059914%5D%2C%20%5B37.53042082092413%2C%20127.00062362258399%5D%2C%20%5B37.556646962425404%2C%20126.98402457882725%5D%2C%20%5B37.55609700250753%2C%20126.99000727341289%5D%2C%20%5B37.54327728282266%2C%20127.02037823083549%5D%2C%20%5B37.578948703786345%2C%20127.08248121078017%5D%2C%20%5B37.584401369697765%2C%20126.98942368605452%5D%2C%20%5B37.58644208367893%2C%20127.00546880063268%5D%2C%20%5B37.50785958798359%2C%20126.92717437018493%5D%2C%20%5B37.450162708000995%2C%20126.94767154937787%5D%2C%20%5B37.45180692757632%2C%20126.94787963957648%5D%2C%20%5B37.435554545500835%2C%20126.92302121136683%5D%2C%20%5B37.43715493685969%2C%20126.92480775936485%5D%2C%20%5B37.44286544775581%2C%20126.92815616566739%5D%2C%20%5B37.49719244977764%2C%20126.9062953319872%5D%2C%20%5B37.45032933518677%2C%20127.03301153666666%5D%2C%20%5B37.439746824603226%2C%20126.97542443555014%5D%2C%20%5B37.49816634613208%2C%20126.90420727877068%5D%2C%20%5B37.459962607731285%2C%20126.92386543704617%5D%2C%20%5B37.466529567777336%2C%20126.89276784030693%5D%2C%20%5B37.46764480959936%2C%20126.89574652994844%5D%2C%20%5B37.44958620074779%2C%20126.90365663878273%5D%2C%20%5B37.63502117141482%2C%20126.93882066045296%5D%2C%20%5B37.450374556350525%2C%20127.04434109924071%5D%2C%20%5B37.45074738899486%2C%20127.04848115155752%5D%2C%20%5B37.43076736504022%2C%20127.03698610431081%5D%2C%20%5B37.491341956821906%2C%20126.9744710969922%5D%2C%20%5B37.48406818662918%2C%20127.02688365664963%5D%2C%20%5B37.50926102597718%2C%20126.92980197993583%5D%2C%20%5B37.53112163698494%2C%20126.92889628365234%5D%2C%20%5B37.51460200896299%2C%20126.93436127103553%5D%2C%20%5B37.44861546298005%2C%20127.0854863677512%5D%2C%20%5B37.45121101727506%2C%20127.08699264646282%5D%2C%20%5B37.45679631769029%2C%20127.08279606379642%5D%2C%20%5B37.463575926300635%2C%20126.90298130510868%5D%2C%20%5B37.42870546916237%2C%20126.91777062579092%5D%2C%20%5B37.38438119802738%2C%20126.97975179651178%5D%2C%20%5B37.38871223549026%2C%20126.98666411940744%5D%2C%20%5B37.395113150935146%2C%20126.99247296167346%5D%2C%20%5B37.39561477860071%2C%20126.99935671891083%5D%2C%20%5B37.40052944019162%2C%20127.00115670260558%5D%2C%20%5B37.43326470833994%2C%20126.97999279815357%5D%2C%20%5B37.42722103055694%2C%20126.96226533416328%5D%2C%20%5B37.599530105328974%2C%20126.94693579268449%5D%2C%20%5B37.60454327666815%2C%20126.94556286393282%5D%2C%20%5B37.603664302201025%2C%20126.95183537801734%5D%2C%20%5B37.607635363393186%2C%20126.94911917727705%5D%2C%20%5B37.609865293544324%2C%20126.95616657744634%5D%2C%20%5B37.58604520681861%2C%20126.94720207461634%5D%2C%20%5B37.565462858446914%2C%20126.95984106857316%5D%2C%20%5B37.4942256338598%2C%20127.0730497922168%5D%2C%20%5B37.48804595398585%2C%20127.03100575781119%5D%2C%20%5B37.46661047564525%2C%20126.99395522118533%5D%2C%20%5B37.46997523950121%2C%20127.00131504638483%5D%2C%20%5B37.49927538014163%2C%20126.99617654314298%5D%2C%20%5B37.56954621929965%2C%20127.0012234044838%5D%2C%20%5B37.566785286957895%2C%20126.99822776511232%5D%2C%20%5B37.56298911026329%2C%20126.99399918294344%5D%2C%20%5B37.56569824170409%2C%20126.99372800517986%5D%2C%20%5B37.557551969581056%2C%20126.99735466247878%5D%2C%20%5B37.55178209317644%2C%20126.99830249190143%5D%2C%20%5B37.54012784593091%2C%20127.00996318135074%5D%2C%20%5B37.4697338701666%2C%20126.94074349532258%5D%2C%20%5B37.4297452046503%2C%20126.91433672510803%5D%2C%20%5B37.43600552912471%2C%20126.91073279147%5D%2C%20%5B37.43788303841275%2C%20126.91385619136184%5D%2C%20%5B37.38178450398181%2C%20126.92980552997773%5D%2C%20%5B37.38425721839174%2C%20126.92555416920507%5D%2C%20%5B37.474559570398256%2C%20126.94980793735144%5D%2C%20%5B37.42696930767447%2C%20126.96384817367962%5D%2C%20%5B37.46745174705715%2C%20126.94490615906446%5D%2C%20%5B37.46758223165812%2C%20126.94875325458997%5D%2C%20%5B37.4844994803454%2C%20126.94771054145144%5D%2C%20%5B37.48319035196346%2C%20126.94540498349116%5D%2C%20%5B37.53889994407839%2C%20126.94741648308738%5D%2C%20%5B37.53583720902386%2C%20126.95343546750934%5D%2C%20%5B37.53421036776277%2C%20126.95527134901621%5D%2C%20%5B37.46237707993466%2C%20126.92428499941468%5D%2C%20%5B37.510316816278106%2C%20127.04475109446804%5D%2C%20%5B37.48842859110244%2C%20127.05423454700286%5D%2C%20%5B37.54171277203218%2C%20127.06778681103506%5D%2C%20%5B37.45455711055744%2C%20127.0795348512161%5D%2C%20%5B37.57046293164021%2C%20127.0186785557062%5D%2C%20%5B37.508313062152915%2C%20126.98621087392814%5D%2C%20%5B37.48250435359529%2C%20126.98200502680305%5D%2C%20%5B37.569059589531435%2C%20127.02643562756592%5D%2C%20%5B37.57827383462281%2C%20127.0190989866604%5D%2C%20%5B37.576437406368036%2C%20127.01430893740297%5D%2C%20%5B37.58052163340963%2C%20127.01851603953494%5D%2C%20%5B37.40435565368494%2C%20126.98937142505446%5D%2C%20%5B37.40493321909403%2C%20126.99291242158935%5D%2C%20%5B37.405167541561255%2C%20126.99450008870059%5D%2C%20%5B37.406466971224305%2C%20126.97446681011675%5D%2C%20%5B37.36614186833661%2C%20127.00850860619519%5D%2C%20%5B37.370383542103895%2C%20126.99908926274699%5D%2C%20%5B37.388214775016095%2C%20127.0030454006708%5D%2C%20%5B37.39068233049301%2C%20127.00230588091043%5D%2C%20%5B37.44017943999789%2C%20126.92819966902155%5D%2C%20%5B37.43501081630925%2C%20126.92764583588385%5D%2C%20%5B37.434360029762125%2C%20126.93058770796912%5D%2C%20%5B37.43713615721196%2C%20126.93379592585563%5D%2C%20%5B37.43570968606045%2C%20126.93717322412533%5D%2C%20%5B37.378404546799445%2C%20126.98267785928954%5D%2C%20%5B37.37895613166514%2C%20126.9785945208663%5D%2C%20%5B37.53765752525691%2C%20127.08439257612429%5D%2C%20%5B37.53332901653491%2C%20127.08877957705619%5D%2C%20%5B37.53079184378248%2C%20127.09552516252856%5D%2C%20%5B37.53315143196223%2C%20127.09977214392919%5D%2C%20%5B37.53958531482047%2C%20127.0728557540578%5D%2C%20%5B37.45165349051235%2C%20127.05332013834345%5D%2C%20%5B37.47659203883785%2C%20126.98327807144693%5D%2C%20%5B37.590379958166366%2C%20127.00267769669881%5D%2C%20%5B37.58700614243846%2C%20127.00759907281753%5D%2C%20%5B37.57439905691351%2C%20126.97713580760174%5D%2C%20%5B37.58026483312297%2C%20127.00965676302917%5D%2C%20%5B37.58460112329084%2C%20127.00757228657866%5D%2C%20%5B37.58884277117532%2C%20126.98865005467124%5D%2C%20%5B37.5395008824928%2C%20127.0571389284382%5D%2C%20%5B37.50409200595664%2C%20126.92967565923485%5D%2C%20%5B37.44548475243889%2C%20127.03171563007504%5D%2C%20%5B37.45724641466693%2C%20127.02998733377996%5D%2C%20%5B37.48666421531968%2C%20127.00990659624983%5D%2C%20%5B37.48896687955552%2C%20127.01244464326524%5D%2C%20%5B37.48477186034704%2C%20127.02016504213893%5D%2C%20%5B37.47023076461904%2C%20127.0412890494963%5D%2C%20%5B37.46872454544392%2C%20127.04213773726147%5D%2C%20%5B37.45896517330825%2C%20127.02733440844239%5D%2C%20%5B37.4641542450613%2C%20127.0406746580991%5D%2C%20%5B37.44810243428842%2C%20126.99123564656134%5D%2C%20%5B37.47326867730601%2C%20126.99832993339629%5D%2C%20%5B37.47210388536156%2C%20126.99407437887541%5D%2C%20%5B37.47579038282002%2C%20126.98526057505461%5D%2C%20%5B37.458896312698556%2C%20126.99203778037744%5D%2C%20%5B37.46563275999538%2C%20126.99097993057876%5D%2C%20%5B37.45019576124076%2C%20126.99189878439029%5D%2C%20%5B37.44796482417408%2C%20127.00364551605227%5D%2C%20%5B37.503671445366805%2C%20127.03638368935086%5D%2C%20%5B37.532700850917685%2C%20127.026610429247%5D%2C%20%5B37.505452758983125%2C%20127.02866786584087%5D%2C%20%5B37.44404933779451%2C%20127.05913930747045%5D%2C%20%5B37.45517621117967%2C%20127.08733922724645%5D%2C%20%5B37.440978509841194%2C%20127.06062495859669%5D%2C%20%5B37.44758360953069%2C%20127.04931651743738%5D%2C%20%5B37.44015787310564%2C%20127.07304265959573%5D%2C%20%5B37.45297954128623%2C%20127.06760296957293%5D%2C%20%5B37.623377722803625%2C%20127.00369960700701%5D%2C%20%5B37.48776638826922%2C%20126.90553748125538%5D%2C%20%5B37.455082729326854%2C%20126.89623891185408%5D%2C%20%5B37.45599321945219%2C%20126.8982774361917%5D%2C%20%5B37.454581383279105%2C%20126.90103089534676%5D%2C%20%5B37.449389210805414%2C%20126.91794231090967%5D%2C%20%5B37.544710388028136%2C%20126.94988428172289%5D%2C%20%5B37.548657556052085%2C%20126.95105955354333%5D%2C%20%5B37.551773019904395%2C%20126.95437245713384%5D%2C%20%5B37.55760376290567%2C%20126.95109330788756%5D%2C%20%5B37.555624040093946%2C%20126.95541297307332%5D%2C%20%5B37.553236515692475%2C%20126.96504941303763%5D%2C%20%5B37.563477826737696%2C%20126.93494308727284%5D%2C%20%5B37.401095237666134%2C%20126.94150814011672%5D%2C%20%5B37.5152144303335%2C%20126.91563957885094%5D%2C%20%5B37.55177595013948%2C%20126.91979551584203%5D%2C%20%5B37.61562817222539%2C%20126.92315166658693%5D%2C%20%5B37.54582148551401%2C%20126.92055594845425%5D%2C%20%5B37.45953059665634%2C%20126.93361100538448%5D%2C%20%5B37.528774360003126%2C%20126.93195042020108%5D%2C%20%5B37.42992795663758%2C%20126.92891665039369%5D%2C%20%5B37.564997885721816%2C%20126.93587276828003%5D%2C%20%5B37.4437923038419%2C%20126.95897475812626%5D%2C%20%5B37.54832234921178%2C%20126.96521485536942%5D%2C%20%5B37.39968708999524%2C%20126.95939802185956%5D%2C%20%5B37.45984385641633%2C%20126.95998027905014%5D%2C%20%5B37.55324401601168%2C%20126.96672028155007%5D%2C%20%5B37.55505624664474%2C%20126.96706667594918%5D%2C%20%5B37.55987201318094%2C%20126.96566698494578%5D%2C%20%5B37.561024903122856%2C%20126.96648597569151%5D%2C%20%5B37.431516830803034%2C%20126.9615521365844%5D%2C%20%5B37.55543358998175%2C%20126.96871698961681%5D%2C%20%5B37.45693998176173%2C%20126.96371500660356%5D%2C%20%5B37.48239157953704%2C%20127.00603914737286%5D%2C%20%5B37.44096711353115%2C%20126.95517110771641%5D%2C%20%5B37.437166176195824%2C%20126.96034607772222%5D%2C%20%5B37.43565398045969%2C%20126.9461599769086%5D%2C%20%5B37.43754670519917%2C%20126.955419845421%5D%2C%20%5B37.42952845698634%2C%20126.96182625187214%5D%2C%20%5B37.45084595151648%2C%20126.94814421944784%5D%2C%20%5B37.44472746044213%2C%20126.94210236413329%5D%2C%20%5B37.468309852249966%2C%20126.91797983431206%5D%2C%20%5B37.47458504558443%2C%20126.91901987045674%5D%2C%20%5B37.48091187595359%2C%20126.91649288348347%5D%2C%20%5B37.49016949358579%2C%20126.90483610863055%5D%2C%20%5B37.53925564911412%2C%20127.06071277920628%5D%2C%20%5B37.59290183985823%2C%20127.04703363790946%5D%2C%20%5B37.57343442229926%2C%20127.05041903923336%5D%2C%20%5B37.53206114257926%2C%20127.06401298473861%5D%2C%20%5B37.562865874051504%2C%20127.07056534132033%5D%2C%20%5B37.56109409315866%2C%20127.07274607956245%5D%2C%20%5B37.445722952374716%2C%20127.0727853156557%5D%2C%20%5B37.535313500312824%2C%20126.96353845251116%5D%2C%20%5B37.41661492209095%2C%20126.96432681129355%5D%2C%20%5B37.62306224575429%2C%20126.97231595328807%5D%2C%20%5B37.550161277936596%2C%20126.9687822923425%5D%2C%20%5B37.4344848033769%2C%20126.96581025951974%5D%2C%20%5B37.540399205338076%2C%20126.96816988643138%5D%2C%20%5B37.50988209104251%2C%20127.02646840946892%5D%2C%20%5B37.491582366136164%2C%20127.0296329770579%5D%2C%20%5B37.50410967326597%2C%20127.03182933749403%5D%2C%20%5B37.5021342746776%2C%20127.03075129011913%5D%2C%20%5B37.49315896612495%2C%20127.03042265080035%5D%2C%20%5B37.55178348919021%2C%20127.03640677695904%5D%2C%20%5B37.427112454449805%2C%20127.03175851374615%5D%2C%20%5B37.5169694221541%2C%20127.03719080654756%5D%2C%20%5B37.459266128264495%2C%20126.91377545625289%5D%2C%20%5B37.45681217337319%2C%20127.01078352196046%5D%2C%20%5B37.432619955621945%2C%20127.01158875956821%5D%2C%20%5B37.46913075733906%2C%20127.04600538646801%5D%2C%20%5B37.47341477151303%2C%20127.05593547056412%5D%2C%20%5B37.44756448757186%2C%20127.02078821151116%5D%2C%20%5B37.45347793257492%2C%20127.02851958344888%5D%2C%20%5B37.47805715464681%2C%20126.98980583398861%5D%2C%20%5B37.478292092160174%2C%20126.99057140502956%5D%2C%20%5B37.47930026783127%2C%20127.0044960417288%5D%2C%20%5B37.464055103398756%2C%20126.9902242180548%5D%2C%20%5B37.45286427906086%2C%20126.9997713982275%5D%2C%20%5B37.44594887914536%2C%20126.99958206548322%5D%2C%20%5B37.44638011727583%2C%20126.99328520356806%5D%2C%20%5B37.440476214014105%2C%20127.00290971487865%5D%2C%20%5B37.49000471120672%2C%20126.99337078546878%5D%2C%20%5B37.489174444984855%2C%20126.99620914410843%5D%2C%20%5B37.48930070845699%2C%20126.9993762624284%5D%2C%20%5B37.58046403257986%2C%20126.9826610256813%5D%2C%20%5B37.52847165842874%2C%20126.98964711770333%5D%2C%20%5B37.52625132335184%2C%20126.98703425104267%5D%2C%20%5B37.57012807707484%2C%20126.99624126907784%5D%2C%20%5B37.545637681761264%2C%20126.9696089885471%5D%2C%20%5B37.45020157603158%2C%20126.96807905949206%5D%2C%20%5B37.49176051491779%2C%20126.97228859500018%5D%2C%20%5B37.45244813162364%2C%20126.97034941635025%5D%2C%20%5B37.48439904350152%2C%20126.97189968448029%5D%2C%20%5B37.50812948390222%2C%20126.9759888841555%5D%2C%20%5B37.488725976726826%2C%20126.97620658096014%5D%2C%20%5B37.40769241359432%2C%20126.97286201614924%5D%2C%20%5B37.52080320866392%2C%20126.97733657284539%5D%2C%20%5B37.51338907301699%2C%20127.0389026454207%5D%2C%20%5B37.51466425026849%2C%20127.03791374108232%5D%2C%20%5B37.53794645847907%2C%20127.04217373263245%5D%2C%20%5B37.55568570790216%2C%20127.0507850044734%5D%2C%20%5B37.52832154445936%2C%20127.04851235591005%5D%2C%20%5B37.53745622396246%2C%20127.06834245712517%5D%2C%20%5B37.50871860543955%2C%20127.01630080116584%5D%2C%20%5B37.518778326882526%2C%20127.01688467760934%5D%2C%20%5B37.61601343757076%2C%20126.98560835724717%5D%2C%20%5B37.43990336811525%2C%20127.00511839609248%5D%2C%20%5B37.38338290860607%2C%20126.96041486058405%5D%2C%20%5B37.400238163150775%2C%20126.95852771155197%5D%2C%20%5B37.41789713240593%2C%20126.95937690688274%5D%2C%20%5B37.39923530650034%2C%20126.9558287163893%5D%2C%20%5B37.41465166642801%2C%20126.98988147176212%5D%2C%20%5B37.407960978932394%2C%20126.99249848253933%5D%2C%20%5B37.529561289908806%2C%20127.02561318919894%5D%2C%20%5B37.54224525651144%2C%20127.10803613758816%5D%2C%20%5B37.54400638026155%2C%20127.10671345592687%5D%2C%20%5B37.545004279317176%2C%20127.1454198510558%5D%2C%20%5B37.446456265906605%2C%20127.0749510479944%5D%2C%20%5B37.44749854065026%2C%20127.07815929971937%5D%2C%20%5B37.45112021257937%2C%20127.0762432706538%5D%2C%20%5B37.447919040246354%2C%20127.08136799021963%5D%2C%20%5B37.45323649898307%2C%20127.08322119175023%5D%2C%20%5B37.44448723988326%2C%20127.05191029024672%5D%2C%20%5B37.51887745861209%2C%20127.01294404152728%5D%2C%20%5B37.51160616795089%2C%20126.97803879702755%5D%2C%20%5B37.48207504573457%2C%20126.97587407782007%5D%2C%20%5B37.59211497610137%2C%20126.98300958215725%5D%2C%20%5B37.43578558290609%2C%20126.9760822724152%5D%2C%20%5B37.48382556598436%2C%20126.97855725216283%5D%2C%20%5B37.48762078689521%2C%20126.97806945466297%5D%2C%20%5B37.62572425973575%2C%20126.98449521075659%5D%2C%20%5B37.540979748325356%2C%20126.96278259951788%5D%2C%20%5B37.43687308510038%2C%20126.97740270924166%5D%2C%20%5B37.61355249844148%2C%20126.98685615722718%5D%2C%20%5B37.4985502664937%2C%20127.01888764824346%5D%2C%20%5B37.49222683489394%2C%20127.01448819567688%5D%2C%20%5B37.520370104003554%2C%20127.01898229252919%5D%2C%20%5B37.487832019953025%2C%20127.01873170521336%5D%2C%20%5B37.5032993344207%2C%20127.02081767717578%5D%2C%20%5B37.49982467108225%2C%20127.02107279521354%5D%2C%20%5B37.49484113814157%2C%20127.02033199901632%5D%2C%20%5B37.50686548291434%2C%20127.02089519678299%5D%2C%20%5B37.52454133150179%2C%20127.12702456330945%5D%2C%20%5B37.53846463343143%2C%20127.11853995944838%5D%2C%20%5B37.5402427751133%2C%20127.1392064248235%5D%2C%20%5B37.573666375139496%2C%20127.08796936278975%5D%2C%20%5B37.57394706306967%2C%20127.13997727246365%5D%2C%20%5B37.56785939752068%2C%20127.13345087662611%5D%2C%20%5B37.3907154720315%2C%20126.96290671727613%5D%2C%20%5B37.37780641407555%2C%20126.9736318787568%5D%2C%20%5B37.39300369141561%2C%20126.95527129566568%5D%2C%20%5B37.390961166024454%2C%20126.95474296712587%5D%2C%20%5B37.630985267519996%2C%20127.00078988889024%5D%2C%20%5B37.575912644923896%2C%20126.99424924327349%5D%2C%20%5B37.58414101167919%2C%20126.99255947055383%5D%2C%20%5B37.58542254680391%2C%20126.99484581789548%5D%2C%20%5B37.58648622666379%2C%20126.99164918372551%5D%2C%20%5B37.4984832265234%2C%20127.00525503422907%5D%2C%20%5B37.53248071678333%2C%20127.0149886744203%5D%2C%20%5B37.51073390567413%2C%20126.96314665904279%5D%2C%20%5B37.509884178416065%2C%20126.9752897207369%5D%2C%20%5B37.439273296718035%2C%20126.95758441742709%5D%2C%20%5B37.46739446499749%2C%20126.95836492288535%5D%2C%20%5B37.54783943162418%2C%20126.94169065157018%5D%2C%20%5B37.58375349365045%2C%20126.98541062874207%5D%2C%20%5B37.57267507156381%2C%20126.98564180681387%5D%2C%20%5B37.569670275748564%2C%20126.98743133377857%5D%2C%20%5B37.61660086844444%2C%20126.98831205662503%5D%2C%20%5B37.47384646124461%2C%20126.9839655234374%5D%2C%20%5B37.56802096755782%2C%20127.01436304422626%5D%2C%20%5B37.387847564138795%2C%20127.00532543354524%5D%2C%20%5B37.54248127798625%2C%20127.01421906382882%5D%2C%20%5B37.49403312310011%2C%20127.01114489631789%5D%2C%20%5B37.53637805771868%2C%20127.06898633717998%5D%2C%20%5B37.45754985617719%2C%20127.06827691713914%5D%2C%20%5B37.517143319284294%2C%20127.02257464485646%5D%2C%20%5B37.52302084668678%2C%20127.02479660603302%5D%2C%20%5B37.4586681390882%2C%20127.069391412475%5D%2C%20%5B37.45684021406429%2C%20127.07011855911759%5D%2C%20%5B37.55434983898034%2C%20127.07411627180119%5D%2C%20%5B37.5515141316125%2C%20127.08594215477476%5D%2C%20%5B37.55561479107763%2C%20127.0701046232885%5D%2C%20%5B37.561741654112865%2C%20127.07125173628606%5D%2C%20%5B37.562997681806245%2C%20127.07225168210442%5D%2C%20%5B37.53683769153376%2C%20127.10315394372921%5D%2C%20%5B37.53120214431695%2C%20127.09723160439933%5D%2C%20%5B37.54197769864686%2C%20127.07033447214735%5D%2C%20%5B37.52843135856936%2C%20127.11573571026915%5D%2C%20%5B37.53318552257745%2C%20127.11091491941434%5D%2C%20%5B37.52970507485658%2C%20127.10836421959607%5D%2C%20%5B37.509367996228555%2C%20126.97740350354246%5D%2C%20%5B37.506956316174204%2C%20126.97926692187798%5D%2C%20%5B37.50654659699559%2C%20126.98264739742197%5D%2C%20%5B37.52055180760831%2C%20126.97490013620163%5D%2C%20%5B37.58184510107283%2C%20127.01226127703183%5D%2C%20%5B37.566414744707664%2C%20127.01801282790913%5D%2C%20%5B37.56955020426372%2C%20127.01643783447099%5D%2C%20%5B37.55823737996013%2C%20127.03589181748066%5D%2C%20%5B37.56387776510823%2C%20127.01548605360895%5D%2C%20%5B37.3639722302427%2C%20127.0064507194609%5D%2C%20%5B37.493165537127226%2C%20126.9874807656173%5D%2C%20%5B37.499794958441335%2C%20126.98517753677476%5D%2C%20%5B37.47666276950053%2C%20126.99050559708826%5D%2C%20%5B37.47766590238494%2C%20126.99076994488422%5D%2C%20%5B37.572595166559346%2C%20126.9971052865539%5D%2C%20%5B37.5381054448762%2C%20127.07488117110444%5D%2C%20%5B37.52501960964879%2C%20127.02407376915261%5D%2C%20%5B37.57159499760603%2C%20127.0258847579602%5D%2C%20%5B37.52612577701267%2C%20127.02651767936226%5D%2C%20%5B37.492665175437914%2C%20127.02406887317576%5D%2C%20%5B37.53392348112293%2C%20127.027904843637%5D%2C%20%5B37.531742787429486%2C%20127.02791821063815%5D%2C%20%5B37.52410617391562%2C%20127.11385835503691%5D%2C%20%5B37.52573349531731%2C%20127.10333546265034%5D%2C%20%5B37.52864540235132%2C%20127.08372668972035%5D%2C%20%5B37.54004120055635%2C%20127.074552876573%5D%2C%20%5B37.536846447708776%2C%20127.07593623662623%5D%2C%20%5B37.52906389330207%2C%20127.08278538767664%5D%2C%20%5B37.387800466479426%2C%20126.97475468527477%5D%2C%20%5B37.38540232032116%2C%20126.98680554048303%5D%2C%20%5B37.40458168446185%2C%20126.97336168607617%5D%2C%20%5B37.53574660290722%2C%20126.94861945571867%5D%2C%20%5B37.54382101766092%2C%20126.94976680820503%5D%2C%20%5B37.56204499780472%2C%20126.96559677075322%5D%2C%20%5B37.55976535226624%2C%20127.02430414792374%5D%2C%20%5B37.56191562463442%2C%20127.01933233923222%5D%2C%20%5B37.547125905997426%2C%20127.0461378581796%5D%2C%20%5B37.55636684927106%2C%20127.07339507003428%5D%2C%20%5B37.55953192936007%2C%20127.07559350237653%5D%2C%20%5B37.55026549795912%2C%20127.08117279540022%5D%2C%20%5B37.62980348926877%2C%20127.00401710195968%5D%2C%20%5B37.408283099957515%2C%20126.9941878999746%5D%2C%20%5B37.63820497769912%2C%20127.00619527986768%5D%2C%20%5B37.523859176624306%2C%20127.00310436274839%5D%2C%20%5B37.52309042204594%2C%20127.0032321446071%5D%2C%20%5B37.450871679620285%2C%20127.00102141892845%5D%2C%20%5B37.3964950717472%2C%20126.99709369493974%5D%2C%20%5B37.46413949030899%2C%20127.00119483220391%5D%2C%20%5B37.54194695958611%2C%20127.00960738508601%5D%2C%20%5B37.51457911998354%2C%20127.02634313085835%5D%2C%20%5B37.49943445486746%2C%20127.02512337996598%5D%2C%20%5B37.51851129950346%2C%20127.02538976423949%5D%2C%20%5B37.51223737573841%2C%20127.02630713427632%5D%2C%20%5B37.503057820311476%2C%20127.0254556551667%5D%2C%20%5B37.45288116190212%2C%20126.99823515627367%5D%2C%20%5B37.61808210002726%2C%20127.00241964107587%5D%2C%20%5B37.624327435688805%2C%20127.00827507701868%5D%2C%20%5B37.620594399224686%2C%20126.99218703390184%5D%2C%20%5B37.61756238867008%2C%20126.99160042708667%5D%2C%20%5B37.61720145830119%2C%20126.99043326419562%5D%2C%20%5B37.61734865678653%2C%20126.98155060322031%5D%2C%20%5B37.62379262898223%2C%20126.97428758318549%5D%2C%20%5B37.52307988723369%2C%20127.06162563362847%5D%2C%20%5B37.649939493972596%2C%20127.01194280846667%5D%2C%20%5B37.52043214697022%2C%20127.06892775199009%5D%2C%20%5B37.53144004819276%2C%20127.06282678949714%5D%2C%20%5B37.564126376936926%2C%20127.06944397993621%5D%2C%20%5B37.52402908211828%2C%20127.05023232630543%5D%2C%20%5B37.526336187678766%2C%20127.05176208028666%5D%2C%20%5B37.53046049741039%2C%20127.05224485665735%5D%2C%20%5B37.52152945619082%2C%20127.04572972004354%5D%2C%20%5B37.520298644008335%2C%20127.04479751752544%5D%2C%20%5B37.4398097020955%2C%20127.03636217605879%5D%2C%20%5B37.440964454654626%2C%20127.03903574952221%5D%2C%20%5B37.51194832487904%2C%20127.01059949005182%5D%2C%20%5B37.50925078874914%2C%20127.01312232375068%5D%2C%20%5B37.4972120919114%2C%20127.01279039473815%5D%2C%20%5B37.52908550413451%2C%20127.01610377488109%5D%2C%20%5B37.49959522922068%2C%20127.01495816780104%5D%2C%20%5B37.502493841074504%2C%20127.01270611463539%5D%2C%20%5B37.5346815654463%2C%20127.029809738073%5D%2C%20%5B37.506632903131504%2C%20127.02435835053464%5D%2C%20%5B37.452403380595086%2C%20127.00458579706265%5D%2C%20%5B37.454187240167045%2C%20127.00459119237854%5D%2C%20%5B37.46498393482002%2C%20127.00526356044162%5D%2C%20%5B37.471063009092695%2C%20127.00617185821667%5D%2C%20%5B37.54700977750849%2C%20127.01082341382107%5D%2C%20%5B37.519342020953665%2C%20127.01035610413433%5D%2C%20%5B37.503178984122954%2C%20127.00913761555853%5D%2C%20%5B37.56366285583717%2C%20127.0079380972559%5D%2C%20%5B37.57607461624791%2C%20127.04690420719251%5D%2C%20%5B37.580298095611234%2C%20127.05360241764691%5D%2C%20%5B37.464911918339546%2C%20126.93959613947749%5D%2C%20%5B37.47761558799501%2C%20126.93678726008517%5D%2C%20%5B37.548880045587254%2C%20126.91506235682346%5D%2C%20%5B37.52319892698978%2C%20126.91557171512693%5D%2C%20%5B37.40977169586927%2C%20126.98175242572236%5D%2C%20%5B37.43801580515421%2C%20127.03170231741663%5D%2C%20%5B37.456331434367975%2C%20127.06527086534703%5D%2C%20%5B37.44926062378091%2C%20127.06053726248513%5D%2C%20%5B37.45462552415593%2C%20127.06965772601725%5D%2C%20%5B37.49523473142345%2C%20126.99318462689067%5D%2C%20%5B37.54478613579584%2C%20126.93475380212436%5D%2C%20%5B37.43030429411304%2C%20126.93185916944807%5D%2C%20%5B37.548438553866546%2C%20126.93906183451901%5D%2C%20%5B37.42341292175249%2C%20126.93585745924804%5D%2C%20%5B37.553802625528746%2C%20126.94175638553247%5D%2C%20%5B37.53631482035098%2C%20126.93848478544754%5D%2C%20%5B37.60163937800729%2C%20126.94527934696185%5D%2C%20%5B37.60288750443121%2C%20126.94627764503656%5D%2C%20%5B37.47192866803869%2C%20126.95101637295866%5D%2C%20%5B37.48737315325686%2C%20127.01555333275397%5D%2C%20%5B37.526453629659734%2C%20127.01850829365415%5D%2C%20%5B37.50840325659958%2C%20127.01866276644375%5D%2C%20%5B37.53650382418646%2C%20127.07556170746344%5D%2C%20%5B37.450457295332114%2C%20127.07839366429232%5D%2C%20%5B37.44921015678693%2C%20127.07971147802922%5D%2C%20%5B37.5335571637383%2C%20127.10510447218783%5D%2C%20%5B37.53249849096911%2C%20127.10644073644374%5D%2C%20%5B37.567122020007126%2C%20127.10989015943568%5D%2C%20%5B37.50972160637822%2C%20127.02128907642216%5D%2C%20%5B37.52780624537699%2C%20127.02553128643703%5D%2C%20%5B37.4604117156959%2C%20126.93166389981212%5D%2C%20%5B37.46293658182401%2C%20126.9299464653736%5D%2C%20%5B37.465425502647705%2C%20126.94688124965481%5D%2C%20%5B37.456257561067964%2C%20126.93899217478153%5D%2C%20%5B37.490970360173705%2C%20127.0323466634863%5D%2C%20%5B37.38806343812839%2C%20126.98028063806217%5D%2C%20%5B37.38522799280343%2C%20126.98455123162265%5D%2C%20%5B37.48710409608174%2C%20126.98538805079377%5D%2C%20%5B37.49122896377705%2C%20126.98107876275466%5D%2C%20%5B37.51230617094831%2C%20126.96374837189882%5D%2C%20%5B37.503962617088014%2C%20126.9901286993645%5D%2C%20%5B37.502250428722725%2C%20126.99371769886145%5D%2C%20%5B37.542585582982554%2C%20127.04455298565642%5D%2C%20%5B37.55870956166513%2C%20127.05830848649026%5D%2C%20%5B37.5379617379243%2C%20127.0254715477841%5D%2C%20%5B37.603035462815434%2C%20126.95698333942312%5D%2C%20%5B37.539630217459596%2C%20126.95505617516827%5D%2C%20%5B37.53138660706326%2C%20126.95341928513875%5D%2C%20%5B37.597924389700815%2C%20126.95829728148996%5D%2C%20%5B37.5476783164449%2C%20126.95697268347189%5D%2C%20%5B37.54247907697034%2C%20126.9565906442098%5D%2C%20%5B37.47012054886535%2C%20126.95330607791482%5D%2C%20%5B37.54270280962016%2C%20126.95504857695573%5D%2C%20%5B37.53018173179336%2C%20126.95733482394502%5D%2C%20%5B37.55139054593065%2C%20127.1243486608515%5D%2C%20%5B37.56222680475741%2C%20127.12633707045256%5D%2C%20%5B37.55920497891715%2C%20127.12686749965721%5D%2C%20%5B37.56202758695581%2C%20127.1286492378735%5D%2C%20%5B37.51591666540934%2C%20127.02263169493617%5D%2C%20%5B37.45018228056756%2C%20127.08167710402108%5D%2C%20%5B37.53442515298064%2C%20127.10916753186021%5D%2C%20%5B37.585886440963804%2C%20126.99465260591657%5D%2C%20%5B37.55673234198776%2C%20127.02023269242687%5D%2C%20%5B37.56100220671458%2C%20127.02811659074976%5D%2C%20%5B37.56933087632621%2C%20127.03383213118721%5D%2C%20%5B37.54888306945464%2C%20127.03559291703786%5D%2C%20%5B37.402630026914665%2C%20126.96075726596024%5D%2C%20%5B37.46718217777884%2C%20126.93555382768372%5D%2C%20%5B37.445661345795116%2C%20126.92110230492628%5D%2C%20%5B37.472144384357044%2C%20126.9311936392136%5D%2C%20%5B37.443738892478805%2C%20127.04179777720753%5D%2C%20%5B37.44108544470928%2C%20127.0439459359662%5D%2C%20%5B37.54037542785892%2C%20127.03060892248342%5D%2C%20%5B37.548768035939055%2C%20127.02963234101489%5D%2C%20%5B37.56417387958351%2C%20127.05734334103224%5D%2C%20%5B37.53315130722265%2C%20127.04420656753496%5D%2C%20%5B37.529433084078676%2C%20127.04369418109442%5D%2C%20%5B37.53775926345987%2C%20127.04481554488709%5D%2C%20%5B37.53787493196271%2C%20127.03980872778715%5D%2C%20%5B37.54651167061298%2C%20126.95837349923045%5D%2C%20%5B37.444933721372045%2C%20126.9554783153695%5D%2C%20%5B37.53505897537019%2C%20126.95801374884385%5D%2C%20%5B37.435647779102645%2C%20126.95330453037488%5D%2C%20%5B37.44358176102039%2C%20126.95670668787008%5D%2C%20%5B37.55885289031536%2C%20126.94316586045295%5D%2C%20%5B37.60232473207748%2C%20126.94727070905262%5D%2C%20%5B37.55649659969849%2C%20126.94539590848305%5D%2C%20%5B37.55841310793409%2C%20127.04934029385777%5D%2C%20%5B37.56667487840282%2C%20127.05401118636564%5D%2C%20%5B37.56346087831912%2C%20127.0659144250765%5D%2C%20%5B37.57533626475752%2C%20127.05155105738118%5D%2C%20%5B37.58639967486436%2C%20127.04885449569335%5D%2C%20%5B37.58206547498017%2C%20127.03406016302404%5D%2C%20%5B37.48932187308202%2C%20127.00912911009718%5D%2C%20%5B37.546919199160016%2C%20127.02343673051959%5D%2C%20%5B37.54164070063594%2C%20127.01197064890243%5D%2C%20%5B37.53315357215539%2C%20126.996540636302%5D%2C%20%5B37.55907039499842%2C%20126.98483162684352%5D%2C%20%5B37.53147630274588%2C%20127.13166501700624%5D%2C%20%5B37.54214243188853%2C%20127.13247187391644%5D%2C%20%5B37.54176281069479%2C%20127.13818357882093%5D%2C%20%5B37.52355753024368%2C%20127.12103512489887%5D%2C%20%5B37.545602822658815%2C%20127.14863907276847%5D%2C%20%5B37.53896819853783%2C%20127.1378754539783%5D%2C%20%5B37.532688226754026%2C%20127.1204896322705%5D%2C%20%5B37.530634956590085%2C%20127.04587807266952%5D%2C%20%5B37.53143784751819%2C%20127.03842305804267%5D%2C%20%5B37.56483971414933%2C%20127.01636523357917%5D%2C%20%5B37.571047587874986%2C%20127.01518068789099%5D%2C%20%5B37.566913065916374%2C%20127.02025032598365%5D%2C%20%5B37.567964704403074%2C%20127.03290585787735%5D%2C%20%5B37.52175033023407%2C%20127.07421392418493%5D%2C%20%5B37.53111397154034%2C%20127.03488489874496%5D%2C%20%5B37.54100962575201%2C%20126.94007972132297%5D%2C%20%5B37.521281526323556%2C%20126.9427338648656%5D%2C%20%5B37.55268883178711%2C%20126.94402755975631%5D%2C%20%5B37.56461603840511%2C%20126.94654486802881%5D%2C%20%5B37.54112715658886%2C%20126.93276470376782%5D%2C%20%5B37.39169691515113%2C%20126.92731152206224%5D%2C%20%5B37.56641739764689%2C%20126.93727184743318%5D%2C%20%5B37.55663742192514%2C%20127.01572305932652%5D%2C%20%5B37.54878942493234%2C%20127.03222673707597%5D%2C%20%5B37.53825188064859%2C%20127.03322847628476%5D%2C%20%5B37.54759479606949%2C%20127.03324085156262%5D%2C%20%5B37.545592845977936%2C%20127.03449101795061%5D%2C%20%5B37.54747698386693%2C%20127.03522598917829%5D%2C%20%5B37.5443069946269%2C%20127.03789763959162%5D%2C%20%5B37.54726275556778%2C%20127.03670227725854%5D%2C%20%5B37.54842320366096%2C%20127.03639040869166%5D%2C%20%5B37.54666037437262%2C%20127.03469245818633%5D%2C%20%5B37.559717869483165%2C%20127.03302984926799%5D%2C%20%5B37.562220653266614%2C%20127.01978242261646%5D%2C%20%5B37.57116742050808%2C%20126.99173622456888%5D%2C%20%5B37.53024560660041%2C%20127.0479083617395%5D%2C%20%5B37.52203808176614%2C%20127.04282481796463%5D%2C%20%5B37.52136843239708%2C%20127.04022002289253%5D%2C%20%5B37.52360020980494%2C%20127.03994504259029%5D%2C%20%5B37.51472059447473%2C%20126.97417743904785%5D%2C%20%5B37.47890946067236%2C%20126.97600969351623%5D%2C%20%5B37.4814036016077%2C%20126.97808077356751%5D%2C%20%5B37.531317687486414%2C%20127.04362710633055%5D%2C%20%5B37.52678019592645%2C%20127.04464677864775%5D%2C%20%5B37.5018546600379%2C%20126.91921104674586%5D%2C%20%5B37.46154133987412%2C%20126.91847183458569%5D%2C%20%5B37.54370410909769%2C%20126.92381623988248%5D%2C%20%5B37.540741286663966%2C%20126.92659794379557%5D%2C%20%5B37.40220177311876%2C%20126.92042619665293%5D%2C%20%5B37.52620589814781%2C%20126.92587757738818%5D%2C%20%5B37.56432762631478%2C%20126.9372466401112%5D%2C%20%5B37.56596544254533%2C%20126.93814729596616%5D%2C%20%5B37.559453935389776%2C%20126.93599714045206%5D%2C%20%5B37.57098417252681%2C%20126.98948741341232%5D%2C%20%5B37.47202697113403%2C%20126.98473892394068%5D%2C%20%5B37.47705676017181%2C%20126.98782862714285%5D%2C%20%5B37.54555063130503%2C%20126.946955919001%5D%2C%20%5B37.54455375702602%2C%20126.94802180367884%5D%2C%20%5B37.56836983588858%2C%20126.94871426896839%5D%2C%20%5B37.570454127759206%2C%20126.99100856571789%5D%2C%20%5B37.57959734449804%2C%20127.01678037875226%5D%2C%20%5B37.5790163696889%2C%20127.02561092565713%5D%2C%20%5B37.585452484844545%2C%20127.00974528290709%5D%2C%20%5B37.579211062273615%2C%20126.98069480735563%5D%2C%20%5B37.57667543072771%2C%20126.9776740625718%5D%2C%20%5B37.56744272683862%2C%20126.98314597594336%5D%2C%20%5B37.568897195718684%2C%20126.98138111049568%5D%2C%20%5B37.56661093800659%2C%20126.98486580242363%5D%2C%20%5B37.497916735743004%2C%20127.00915688709233%5D%2C%20%5B37.515150912569815%2C%20127.01672830346445%5D%2C%20%5B37.511083846864985%2C%20127.01373384463312%5D%2C%20%5B37.521244631311184%2C%20127.02092370880328%5D%2C%20%5B37.48584537399008%2C%20126.98128252150707%5D%2C%20%5B37.49071549557882%2C%20126.98625620295442%5D%2C%20%5B37.48075901511085%2C%20126.96708908834304%5D%2C%20%5B37.51083966245618%2C%20126.98046277127912%5D%2C%20%5B37.583016501798056%2C%20126.98771669330691%5D%2C%20%5B37.58529144645286%2C%20126.98712276507459%5D%2C%20%5B37.58933914898443%2C%20126.99139375764958%5D%2C%20%5B37.45729924869473%2C%20126.92410740172582%5D%2C%20%5B37.54283790258154%2C%20126.92753519228191%5D%2C%20%5B37.56610463078747%2C%20126.93025911284681%5D%2C%20%5B37.501857249621864%2C%20126.90968791638485%5D%2C%20%5B37.421685848224826%2C%20126.91165947430557%5D%2C%20%5B37.503945870990194%2C%20126.9097671725373%5D%2C%20%5B37.479341899421605%2C%20126.91209297950937%5D%2C%20%5B37.4283593594864%2C%20126.91057122370555%5D%2C%20%5B37.534029345805074%2C%20126.94562854201934%5D%2C%20%5B37.581508870474444%2C%20126.9514271804008%5D%2C%20%5B37.553739613699896%2C%20126.95104171961461%5D%2C%20%5B37.53640698528586%2C%20126.947289777809%5D%2C%20%5B37.42899659993205%2C%20126.94408533041431%5D%2C%20%5B37.59450441363829%2C%20126.95330059041802%5D%2C%20%5B37.51497501854939%2C%20127.01968842060748%5D%2C%20%5B37.49059255469835%2C%20127.03427760126246%5D%2C%20%5B37.51435375038852%2C%20127.0220291382659%5D%2C%20%5B37.52124635299132%2C%20127.02281342780927%5D%2C%20%5B37.5190241601325%2C%20127.02267173259858%5D%2C%20%5B37.51925269816781%2C%20127.02723876419358%5D%2C%20%5B37.52365584154558%2C%20127.02303843017143%5D%2C%20%5B37.52390618908159%2C%20127.02587056383271%5D%2C%20%5B37.53143783492525%2C%20127.02589702726877%5D%2C%20%5B37.49648930394116%2C%20126.99785081063706%5D%2C%20%5B37.50362441877399%2C%20126.99153425935557%5D%2C%20%5B37.486441671428345%2C%20126.99831331356563%5D%2C%20%5B37.484129307262755%2C%20126.98026956436419%5D%2C%20%5B37.49609948389949%2C%20126.96123089519756%5D%2C%20%5B37.50738564671735%2C%20126.97780938172761%5D%2C%20%5B37.60126825525085%2C%20126.9961520400613%5D%2C%20%5B37.5826892398711%2C%20127.01553347302763%5D%2C%20%5B37.582716488127296%2C%20127.00803597112457%5D%2C%20%5B37.58177712390037%2C%20126.98037437163038%5D%2C%20%5B37.54947127624661%2C%20127.06735258639884%5D%2C%20%5B37.558915202802815%2C%20127.07807806283816%5D%2C%20%5B37.52306992366516%2C%20127.06360286205037%5D%2C%20%5B37.4268830641034%2C%20126.90763692703518%5D%2C%20%5B37.48122060829175%2C%20126.91597589006881%5D%2C%20%5B37.542524064365665%2C%20126.91564510675803%5D%2C%20%5B37.43954513788101%2C%20126.87697710854482%5D%2C%20%5B37.54622860423662%2C%20126.89136854272104%5D%2C%20%5B37.54713352977547%2C%20126.89448623932489%5D%2C%20%5B37.549574781318185%2C%20126.89739030407549%5D%2C%20%5B37.435094470004785%2C%20126.89763171297082%5D%2C%20%5B37.46955926931652%2C%20126.89925635361973%5D%2C%20%5B37.55949411277275%2C%20126.94915568378062%5D%2C%20%5B37.561255670826775%2C%20126.95015956073584%5D%2C%20%5B37.53380318412105%2C%20126.95212612761534%5D%2C%20%5B37.553200069422886%2C%20126.95260647108628%5D%2C%20%5B37.53986645323011%2C%20126.95295412702146%5D%2C%20%5B37.564010118924%2C%20126.95188904145442%5D%2C%20%5B37.567279131374185%2C%20126.95276734876936%5D%2C%20%5B37.56446015061275%2C%20126.93046863907844%5D%2C%20%5B37.524048991003895%2C%20126.92888296547972%5D%2C%20%5B37.61180527345262%2C%20126.93261666572502%5D%2C%20%5B37.50596266701823%2C%20126.98416560630761%5D%2C%20%5B37.51630745513357%2C%20126.96972638209675%5D%2C%20%5B37.52344202711567%2C%20127.02136115987588%5D%2C%20%5B37.52524033235183%2C%20127.02152134497638%5D%2C%20%5B37.52406736176077%2C%20127.020415639515%5D%2C%20%5B37.526770253813055%2C%20127.02199101635074%5D%2C%20%5B37.523700100672144%2C%20127.00138503663428%5D%2C%20%5B37.53042780657979%2C%20127.01492982456332%5D%2C%20%5B37.530525893164096%2C%20127.01891069765162%5D%2C%20%5B37.56937751572191%2C%20126.98603633775812%5D%2C%20%5B37.45116862356737%2C%20127.08033927459687%5D%2C%20%5B37.44766479901959%2C%20127.08529963618071%5D%2C%20%5B37.447008225470206%2C%20127.07253345715955%5D%2C%20%5B37.45556903029179%2C%20127.06821939920769%5D%2C%20%5B37.546281076664066%2C%20127.12742072405044%5D%2C%20%5B37.571721018439646%2C%20127.104764605295%5D%2C%20%5B37.52400672292477%2C%20127.0674806051002%5D%2C%20%5B37.51212755471531%2C%20127.06727775080935%5D%2C%20%5B37.54340237856003%2C%20127.05751549846144%5D%2C%20%5B37.54500308106362%2C%20127.10266046640393%5D%2C%20%5B37.50225207400083%2C%20126.90648245892592%5D%2C%20%5B37.55255400426024%2C%20126.90943462785015%5D%2C%20%5B37.55408250852674%2C%20126.90999027415296%5D%2C%20%5B37.61455161587195%2C%20126.91233675996202%5D%2C%20%5B37.425560558117176%2C%20126.89973659185608%5D%2C%20%5B37.43363653224479%2C%20126.91438698592214%5D%2C%20%5B37.52801608090329%2C%20126.92061915598262%5D%2C%20%5B37.46022518547817%2C%20126.91727600002056%5D%2C%20%5B37.59939834469766%2C%20126.92449698978919%5D%2C%20%5B37.5296414070999%2C%20126.92901231732245%5D%2C%20%5B37.54654489494053%2C%20126.93061370872556%5D%2C%20%5B37.5264908967652%2C%20126.93009513027172%5D%2C%20%5B37.607264146244965%2C%20126.93262033545079%5D%2C%20%5B37.50605016201411%2C%20126.92994886109093%5D%2C%20%5B37.53862469730081%2C%20126.93184691694157%5D%2C%20%5B37.57762710722659%2C%20127.00798389823967%5D%2C%20%5B37.545205621604545%2C%20126.96397872962572%5D%2C%20%5B37.63001468739503%2C%20126.98759942052172%5D%2C%20%5B37.5864272719127%2C%20127.03831107785217%5D%2C%20%5B37.57381500732583%2C%20127.06660348252859%5D%2C%20%5B37.57487416276388%2C%20127.05864794075535%5D%2C%20%5B37.57783733222013%2C%20127.08146395539433%5D%2C%20%5B37.59199547430626%2C%20127.05852607910472%5D%2C%20%5B37.591213676124994%2C%20127.05106585075981%5D%2C%20%5B37.52682833556265%2C%20127.04918609567989%5D%2C%20%5B37.484027195899564%2C%20127.02160022758329%5D%2C%20%5B37.57091993699389%2C%20127.08752154347852%5D%2C%20%5B37.573296376128624%2C%20127.09221080753187%5D%2C%20%5B37.55840789970422%2C%20127.15153617611315%5D%2C%20%5B37.51683816279801%2C%20126.98135627259367%5D%2C%20%5B37.516333285890134%2C%20126.97178160728896%5D%2C%20%5B37.49000408650469%2C%20126.99021885511459%5D%2C%20%5B37.52999641541479%2C%20126.92111274528494%5D%2C%20%5B37.503612067647964%2C%20126.9191918072012%5D%2C%20%5B37.54191519632861%2C%20126.92118582471718%5D%2C%20%5B37.54614273737612%2C%20126.9178409682446%5D%2C%20%5B37.46053620681941%2C%20126.91420121735118%5D%2C%20%5B37.46210599946857%2C%20126.91410981412915%5D%2C%20%5B37.53212443889652%2C%20126.91818290344662%5D%5D%2C%0A%20%20%20%20%20%20%20%20%20%20%20%20%20%20%20%20%7B%0A%20%20%20%20%20%20%20%20%20%20%20%20%20%20%20%20%20%20%20%20minOpacity%3A%200.5%2C%0A%20%20%20%20%20%20%20%20%20%20%20%20%20%20%20%20%20%20%20%20maxZoom%3A%2018%2C%0A%20%20%20%20%20%20%20%20%20%20%20%20%20%20%20%20%20%20%20%20max%3A%201.0%2C%0A%20%20%20%20%20%20%20%20%20%20%20%20%20%20%20%20%20%20%20%20radius%3A%2025%2C%0A%20%20%20%20%20%20%20%20%20%20%20%20%20%20%20%20%20%20%20%20blur%3A%2015%2C%0A%20%20%20%20%20%20%20%20%20%20%20%20%20%20%20%20%20%20%20%20gradient%3A%20null%0A%20%20%20%20%20%20%20%20%20%20%20%20%20%20%20%20%20%20%20%20%7D%29%0A%20%20%20%20%20%20%20%20%20%20%20%20%20%20%20%20.addTo%28map_7b901293b9d14a1fb52187938dccc97c%29%3B%0A%20%20%20%20%20%20%20%20%0A%3C/script%3E onload=\"this.contentDocument.open();this.contentDocument.write(    decodeURIComponent(this.getAttribute('data-html')));this.contentDocument.close();\" allowfullscreen webkitallowfullscreen mozallowfullscreen></iframe></div></div>"
            ],
            "text/plain": [
              "<folium.folium.Map at 0x7f4197b3c3d0>"
            ]
          },
          "metadata": {
            "tags": []
          },
          "execution_count": 183
        }
      ]
    },
    {
      "cell_type": "markdown",
      "metadata": {
        "id": "OsBlyW0Jot1E"
      },
      "source": [
        "### 상권 매출정보"
      ]
    },
    {
      "cell_type": "code",
      "metadata": {
        "id": "K_N_sL3lftvy"
      },
      "source": [
        "df_comm2021 = pd.read_csv(data_dir+'서울시 우리마을가게 상권분석서비스(상권-추정매출).csv', encoding='euc-kr')\n",
        "df_comm2020 = pd.read_csv(data_dir+'서울시우리마을가게상권분석서비스(상권-추정매출)_2020.csv', encoding='euc-kr')\n",
        "df_comm2019 = pd.read_csv(data_dir+'서울시 우리마을가게 상권분석서비스(상권-추정매출)_2019.csv', encoding='euc-kr')\n",
        "df_comm2018 = pd.read_csv(data_dir+'서울시 우리마을가게 상권분석서비스(상권-추정매출)_2018.csv', encoding='euc-kr')\n",
        "df_comm2017 = pd.read_csv(data_dir+'서울시 우리마을가게 상권분석서비스(상권-추정매출)_2017.csv', encoding='euc-kr')\n",
        "df_comm2016 = pd.read_csv(data_dir+'서울시 우리마을가게 상권분석서비스(상권-추정매출)_2016.csv', encoding='euc-kr')\n",
        "df_comm2015 = pd.read_csv(data_dir+'서울시 우리마을가게 상권분석서비스(상권-추정매출)_2015.csv', encoding='euc-kr')\n",
        "df_comm2014 = pd.read_csv(data_dir+'서울시 우리마을가게 상권분석서비스(상권-추정매출)_2014.csv', encoding='euc-kr')"
      ],
      "execution_count": null,
      "outputs": []
    },
    {
      "cell_type": "code",
      "metadata": {
        "id": "ygGSPUCShX7s"
      },
      "source": [
        "df_comm_merge = pd.concat([df_comm2021,\n",
        "                           df_comm2020,\n",
        "                           df_comm2019,\n",
        "                           df_comm2018,\n",
        "                           df_comm2017,\n",
        "                           df_comm2016,\n",
        "                           df_comm2015,\n",
        "                           df_comm2014], axis=0)"
      ],
      "execution_count": null,
      "outputs": []
    },
    {
      "cell_type": "code",
      "metadata": {
        "colab": {
          "base_uri": "https://localhost:8080/"
        },
        "id": "vQTyZiqBftv6",
        "outputId": "6fe0d4e4-a55c-4bff-f20b-8e05c22420e0"
      },
      "source": [
        "df_comm_merge.shape"
      ],
      "execution_count": null,
      "outputs": [
        {
          "output_type": "execute_result",
          "data": {
            "text/plain": [
              "(1123363, 80)"
            ]
          },
          "metadata": {
            "tags": []
          },
          "execution_count": 17
        }
      ]
    },
    {
      "cell_type": "code",
      "metadata": {
        "id": "veafpBeziHpE"
      },
      "source": [
        "df_comm_merge.drop_duplicates(inplace=True)"
      ],
      "execution_count": null,
      "outputs": []
    },
    {
      "cell_type": "code",
      "metadata": {
        "colab": {
          "base_uri": "https://localhost:8080/"
        },
        "id": "_Gy4pe68iOEi",
        "outputId": "53e5e28d-3001-41a5-b159-6e2ce484df57"
      },
      "source": [
        "#중복 없음\n",
        "df_comm_merge.shape"
      ],
      "execution_count": null,
      "outputs": [
        {
          "output_type": "execute_result",
          "data": {
            "text/plain": [
              "(1123363, 80)"
            ]
          },
          "metadata": {
            "tags": []
          },
          "execution_count": 19
        }
      ]
    },
    {
      "cell_type": "code",
      "metadata": {
        "id": "EdNJsSv8f0U2"
      },
      "source": [
        "df_comm_merge.to_csv(data_dir+'서울시 우리마을가게 상권분석서비스(상권-추정매출)_merged.csv')"
      ],
      "execution_count": null,
      "outputs": []
    },
    {
      "cell_type": "code",
      "metadata": {
        "colab": {
          "base_uri": "https://localhost:8080/",
          "height": 740
        },
        "id": "3DLyr0oujbAs",
        "outputId": "b612f097-d568-45e1-f1e2-57a53f993d5b"
      },
      "source": [
        "df_comm_merge.head(3)"
      ],
      "execution_count": null,
      "outputs": [
        {
          "output_type": "execute_result",
          "data": {
            "text/html": [
              "<div>\n",
              "<style scoped>\n",
              "    .dataframe tbody tr th:only-of-type {\n",
              "        vertical-align: middle;\n",
              "    }\n",
              "\n",
              "    .dataframe tbody tr th {\n",
              "        vertical-align: top;\n",
              "    }\n",
              "\n",
              "    .dataframe thead th {\n",
              "        text-align: right;\n",
              "    }\n",
              "</style>\n",
              "<table border=\"1\" class=\"dataframe\">\n",
              "  <thead>\n",
              "    <tr style=\"text-align: right;\">\n",
              "      <th></th>\n",
              "      <th>기준_년_코드</th>\n",
              "      <th>기준_분기_코드</th>\n",
              "      <th>상권_구분_코드</th>\n",
              "      <th>상권_구분_코드_명</th>\n",
              "      <th>상권_코드</th>\n",
              "      <th>상권_코드_명</th>\n",
              "      <th>서비스_업종_코드</th>\n",
              "      <th>서비스_업종_코드_명</th>\n",
              "      <th>분기당_매출_금액</th>\n",
              "      <th>분기당_매출_건수</th>\n",
              "      <th>주중_매출_비율</th>\n",
              "      <th>주말_매출_비율</th>\n",
              "      <th>월요일_매출_비율</th>\n",
              "      <th>화요일_매출_비율</th>\n",
              "      <th>수요일_매출_비율</th>\n",
              "      <th>목요일_매출_비율</th>\n",
              "      <th>금요일_매출_비율</th>\n",
              "      <th>토요일_매출_비율</th>\n",
              "      <th>일요일_매출_비율</th>\n",
              "      <th>시간대_00~06_매출_비율</th>\n",
              "      <th>시간대_06~11_매출_비율</th>\n",
              "      <th>시간대_11~14_매출_비율</th>\n",
              "      <th>시간대_14~17_매출_비율</th>\n",
              "      <th>시간대_17~21_매출_비율</th>\n",
              "      <th>시간대_21~24_매출_비율</th>\n",
              "      <th>남성_매출_비율</th>\n",
              "      <th>여성_매출_비율</th>\n",
              "      <th>연령대_10_매출_비율</th>\n",
              "      <th>연령대_20_매출_비율</th>\n",
              "      <th>연령대_30_매출_비율</th>\n",
              "      <th>연령대_40_매출_비율</th>\n",
              "      <th>연령대_50_매출_비율</th>\n",
              "      <th>연령대_60_이상_매출_비율</th>\n",
              "      <th>주중_매출_금액</th>\n",
              "      <th>주말_매출_금액</th>\n",
              "      <th>월요일_매출_금액</th>\n",
              "      <th>화요일_매출_금액</th>\n",
              "      <th>수요일_매출_금액</th>\n",
              "      <th>목요일_매출_금액</th>\n",
              "      <th>금요일_매출_금액</th>\n",
              "      <th>토요일_매출_금액</th>\n",
              "      <th>일요일_매출_금액</th>\n",
              "      <th>시간대_00~06_매출_금액</th>\n",
              "      <th>시간대_06~11_매출_금액</th>\n",
              "      <th>시간대_11~14_매출_금액</th>\n",
              "      <th>시간대_14~17_매출_금액</th>\n",
              "      <th>시간대_17~21_매출_금액</th>\n",
              "      <th>시간대_21~24_매출_금액</th>\n",
              "      <th>남성_매출_금액</th>\n",
              "      <th>여성_매출_금액</th>\n",
              "      <th>연령대_10_매출_금액</th>\n",
              "      <th>연령대_20_매출_금액</th>\n",
              "      <th>연령대_30_매출_금액</th>\n",
              "      <th>연령대_40_매출_금액</th>\n",
              "      <th>연령대_50_매출_금액</th>\n",
              "      <th>연령대_60_이상_매출_금액</th>\n",
              "      <th>주중_매출_건수</th>\n",
              "      <th>주말_매출_건수</th>\n",
              "      <th>월요일_매출_건수</th>\n",
              "      <th>화요일_매출_건수</th>\n",
              "      <th>수요일_매출_건수</th>\n",
              "      <th>목요일_매출_건수</th>\n",
              "      <th>금요일_매출_건수</th>\n",
              "      <th>토요일_매출_건수</th>\n",
              "      <th>일요일_매출_건수</th>\n",
              "      <th>시간대_건수~06_매출_건수</th>\n",
              "      <th>시간대_건수~11_매출_건수</th>\n",
              "      <th>시간대_건수~14_매출_건수</th>\n",
              "      <th>시간대_건수~17_매출_건수</th>\n",
              "      <th>시간대_건수~21_매출_건수</th>\n",
              "      <th>시간대_건수~24_매출_건수</th>\n",
              "      <th>남성_매출_건수</th>\n",
              "      <th>여성_매출_건수</th>\n",
              "      <th>연령대_10_매출_건수</th>\n",
              "      <th>연령대_20_매출_건수</th>\n",
              "      <th>연령대_30_매출_건수</th>\n",
              "      <th>연령대_40_매출_건수</th>\n",
              "      <th>연령대_50_매출_건수</th>\n",
              "      <th>연령대_60_이상_매출_건수</th>\n",
              "      <th>점포수</th>\n",
              "    </tr>\n",
              "  </thead>\n",
              "  <tbody>\n",
              "    <tr>\n",
              "      <th>0</th>\n",
              "      <td>2021</td>\n",
              "      <td>1</td>\n",
              "      <td>U</td>\n",
              "      <td>관광특구</td>\n",
              "      <td>1001496</td>\n",
              "      <td>강남 마이스 관광특구</td>\n",
              "      <td>CS300043</td>\n",
              "      <td>전자상거래업</td>\n",
              "      <td>5.246740e+05</td>\n",
              "      <td>5</td>\n",
              "      <td>0</td>\n",
              "      <td>100</td>\n",
              "      <td>0</td>\n",
              "      <td>0</td>\n",
              "      <td>0</td>\n",
              "      <td>0</td>\n",
              "      <td>0</td>\n",
              "      <td>0</td>\n",
              "      <td>100</td>\n",
              "      <td>0</td>\n",
              "      <td>0</td>\n",
              "      <td>0</td>\n",
              "      <td>100</td>\n",
              "      <td>0</td>\n",
              "      <td>0</td>\n",
              "      <td>0</td>\n",
              "      <td>100</td>\n",
              "      <td>0</td>\n",
              "      <td>0</td>\n",
              "      <td>100</td>\n",
              "      <td>0</td>\n",
              "      <td>0</td>\n",
              "      <td>0</td>\n",
              "      <td>0.000000e+00</td>\n",
              "      <td>5.246740e+05</td>\n",
              "      <td>0</td>\n",
              "      <td>0.0</td>\n",
              "      <td>0</td>\n",
              "      <td>0</td>\n",
              "      <td>0</td>\n",
              "      <td>0</td>\n",
              "      <td>524674</td>\n",
              "      <td>0</td>\n",
              "      <td>0</td>\n",
              "      <td>0.000000e+00</td>\n",
              "      <td>5.246740e+05</td>\n",
              "      <td>0.000000e+00</td>\n",
              "      <td>0</td>\n",
              "      <td>0.000000e+00</td>\n",
              "      <td>5.246740e+05</td>\n",
              "      <td>0</td>\n",
              "      <td>0</td>\n",
              "      <td>524674</td>\n",
              "      <td>0.000000e+00</td>\n",
              "      <td>0</td>\n",
              "      <td>0</td>\n",
              "      <td>0</td>\n",
              "      <td>5</td>\n",
              "      <td>0</td>\n",
              "      <td>0</td>\n",
              "      <td>0</td>\n",
              "      <td>0</td>\n",
              "      <td>0</td>\n",
              "      <td>0</td>\n",
              "      <td>5</td>\n",
              "      <td>0</td>\n",
              "      <td>0</td>\n",
              "      <td>0</td>\n",
              "      <td>5</td>\n",
              "      <td>0</td>\n",
              "      <td>0</td>\n",
              "      <td>0</td>\n",
              "      <td>5</td>\n",
              "      <td>0</td>\n",
              "      <td>0</td>\n",
              "      <td>5</td>\n",
              "      <td>0</td>\n",
              "      <td>0</td>\n",
              "      <td>0</td>\n",
              "      <td>8</td>\n",
              "    </tr>\n",
              "    <tr>\n",
              "      <th>1</th>\n",
              "      <td>2021</td>\n",
              "      <td>1</td>\n",
              "      <td>U</td>\n",
              "      <td>관광특구</td>\n",
              "      <td>1001496</td>\n",
              "      <td>강남 마이스 관광특구</td>\n",
              "      <td>CS300032</td>\n",
              "      <td>가전제품</td>\n",
              "      <td>2.403139e+09</td>\n",
              "      <td>8727</td>\n",
              "      <td>65</td>\n",
              "      <td>35</td>\n",
              "      <td>11</td>\n",
              "      <td>9</td>\n",
              "      <td>14</td>\n",
              "      <td>11</td>\n",
              "      <td>20</td>\n",
              "      <td>18</td>\n",
              "      <td>17</td>\n",
              "      <td>0</td>\n",
              "      <td>1</td>\n",
              "      <td>23</td>\n",
              "      <td>37</td>\n",
              "      <td>37</td>\n",
              "      <td>1</td>\n",
              "      <td>41</td>\n",
              "      <td>42</td>\n",
              "      <td>1</td>\n",
              "      <td>16</td>\n",
              "      <td>21</td>\n",
              "      <td>15</td>\n",
              "      <td>18</td>\n",
              "      <td>13</td>\n",
              "      <td>1.563560e+09</td>\n",
              "      <td>8.395794e+08</td>\n",
              "      <td>265612914</td>\n",
              "      <td>221972354.0</td>\n",
              "      <td>334096984</td>\n",
              "      <td>252903344</td>\n",
              "      <td>488973948</td>\n",
              "      <td>435773386</td>\n",
              "      <td>403806022</td>\n",
              "      <td>0</td>\n",
              "      <td>31855170</td>\n",
              "      <td>5.553222e+08</td>\n",
              "      <td>8.959576e+08</td>\n",
              "      <td>8.913677e+08</td>\n",
              "      <td>28636279</td>\n",
              "      <td>9.957871e+08</td>\n",
              "      <td>9.988147e+08</td>\n",
              "      <td>12325728</td>\n",
              "      <td>385280809</td>\n",
              "      <td>506686589</td>\n",
              "      <td>3.553265e+08</td>\n",
              "      <td>427986666</td>\n",
              "      <td>306995464</td>\n",
              "      <td>5636</td>\n",
              "      <td>3091</td>\n",
              "      <td>1181</td>\n",
              "      <td>888</td>\n",
              "      <td>1309</td>\n",
              "      <td>976</td>\n",
              "      <td>1282</td>\n",
              "      <td>1527</td>\n",
              "      <td>1564</td>\n",
              "      <td>0</td>\n",
              "      <td>108</td>\n",
              "      <td>1982</td>\n",
              "      <td>2903</td>\n",
              "      <td>3656</td>\n",
              "      <td>78</td>\n",
              "      <td>3692</td>\n",
              "      <td>4386</td>\n",
              "      <td>120</td>\n",
              "      <td>2034</td>\n",
              "      <td>2064</td>\n",
              "      <td>1728</td>\n",
              "      <td>1333</td>\n",
              "      <td>797</td>\n",
              "      <td>8</td>\n",
              "    </tr>\n",
              "    <tr>\n",
              "      <th>2</th>\n",
              "      <td>2021</td>\n",
              "      <td>1</td>\n",
              "      <td>U</td>\n",
              "      <td>관광특구</td>\n",
              "      <td>1001496</td>\n",
              "      <td>강남 마이스 관광특구</td>\n",
              "      <td>CS300031</td>\n",
              "      <td>가구</td>\n",
              "      <td>1.176752e+10</td>\n",
              "      <td>6378</td>\n",
              "      <td>52</td>\n",
              "      <td>48</td>\n",
              "      <td>11</td>\n",
              "      <td>7</td>\n",
              "      <td>8</td>\n",
              "      <td>17</td>\n",
              "      <td>8</td>\n",
              "      <td>24</td>\n",
              "      <td>24</td>\n",
              "      <td>0</td>\n",
              "      <td>3</td>\n",
              "      <td>32</td>\n",
              "      <td>42</td>\n",
              "      <td>24</td>\n",
              "      <td>0</td>\n",
              "      <td>43</td>\n",
              "      <td>57</td>\n",
              "      <td>0</td>\n",
              "      <td>2</td>\n",
              "      <td>12</td>\n",
              "      <td>35</td>\n",
              "      <td>22</td>\n",
              "      <td>29</td>\n",
              "      <td>6.094250e+09</td>\n",
              "      <td>5.673275e+09</td>\n",
              "      <td>1312540310</td>\n",
              "      <td>847128724.0</td>\n",
              "      <td>934787562</td>\n",
              "      <td>2052697510</td>\n",
              "      <td>947095978</td>\n",
              "      <td>2861453898</td>\n",
              "      <td>2811820821</td>\n",
              "      <td>0</td>\n",
              "      <td>332519888</td>\n",
              "      <td>3.758998e+09</td>\n",
              "      <td>4.901461e+09</td>\n",
              "      <td>2.774545e+09</td>\n",
              "      <td>0</td>\n",
              "      <td>5.051799e+09</td>\n",
              "      <td>6.715726e+09</td>\n",
              "      <td>0</td>\n",
              "      <td>262788962</td>\n",
              "      <td>1405527456</td>\n",
              "      <td>4.092103e+09</td>\n",
              "      <td>2626606523</td>\n",
              "      <td>3380499293</td>\n",
              "      <td>3490</td>\n",
              "      <td>2888</td>\n",
              "      <td>700</td>\n",
              "      <td>796</td>\n",
              "      <td>604</td>\n",
              "      <td>854</td>\n",
              "      <td>536</td>\n",
              "      <td>1359</td>\n",
              "      <td>1529</td>\n",
              "      <td>0</td>\n",
              "      <td>215</td>\n",
              "      <td>1978</td>\n",
              "      <td>2525</td>\n",
              "      <td>1660</td>\n",
              "      <td>0</td>\n",
              "      <td>2528</td>\n",
              "      <td>3850</td>\n",
              "      <td>0</td>\n",
              "      <td>296</td>\n",
              "      <td>768</td>\n",
              "      <td>1771</td>\n",
              "      <td>1547</td>\n",
              "      <td>1996</td>\n",
              "      <td>6</td>\n",
              "    </tr>\n",
              "  </tbody>\n",
              "</table>\n",
              "</div>"
            ],
            "text/plain": [
              "   기준_년_코드  기준_분기_코드 상권_구분_코드  ... 연령대_50_매출_건수  연령대_60_이상_매출_건수 점포수\n",
              "0     2021         1        U  ...            0                0   8\n",
              "1     2021         1        U  ...         1333              797   8\n",
              "2     2021         1        U  ...         1547             1996   6\n",
              "\n",
              "[3 rows x 80 columns]"
            ]
          },
          "metadata": {
            "tags": []
          },
          "execution_count": 22
        }
      ]
    },
    {
      "cell_type": "code",
      "metadata": {
        "id": "p6okrZvIiY-A"
      },
      "source": [
        "df_comm_merge.info()"
      ],
      "execution_count": null,
      "outputs": []
    },
    {
      "cell_type": "code",
      "metadata": {
        "colab": {
          "base_uri": "https://localhost:8080/"
        },
        "id": "5y_Sv6cwjVe3",
        "outputId": "9e2a2ca2-4fac-424c-e05a-b7be0d678140"
      },
      "source": [
        "len(df_comm_merge['상권_코드_명'].unique())"
      ],
      "execution_count": null,
      "outputs": [
        {
          "output_type": "execute_result",
          "data": {
            "text/plain": [
              "1496"
            ]
          },
          "metadata": {
            "tags": []
          },
          "execution_count": 27
        }
      ]
    },
    {
      "cell_type": "markdown",
      "metadata": {
        "id": "SNXo5-BjAu6m"
      },
      "source": [
        "### 점포 현황"
      ]
    },
    {
      "cell_type": "code",
      "metadata": {
        "colab": {
          "base_uri": "https://localhost:8080/"
        },
        "id": "W9dm88vzj0S3",
        "outputId": "f6435d26-322f-4349-8f5d-2e8feca73bc1"
      },
      "source": [
        "df_jumpo = pd.read_csv(data_dir+'서울시 우리마을가게 상권분석서비스(상권배후지-점포).csv', encoding='euc-kr')\n",
        "df_jumpo.shape"
      ],
      "execution_count": null,
      "outputs": [
        {
          "output_type": "execute_result",
          "data": {
            "text/plain": [
              "(454122, 15)"
            ]
          },
          "metadata": {
            "tags": []
          },
          "execution_count": 28
        }
      ]
    },
    {
      "cell_type": "code",
      "metadata": {
        "colab": {
          "base_uri": "https://localhost:8080/",
          "height": 210
        },
        "id": "wuuczfcf-mfX",
        "outputId": "182b885f-5a7c-4632-e714-e09ab61a2137"
      },
      "source": [
        "df_jumpo.head(3)"
      ],
      "execution_count": null,
      "outputs": [
        {
          "output_type": "execute_result",
          "data": {
            "text/html": [
              "<div>\n",
              "<style scoped>\n",
              "    .dataframe tbody tr th:only-of-type {\n",
              "        vertical-align: middle;\n",
              "    }\n",
              "\n",
              "    .dataframe tbody tr th {\n",
              "        vertical-align: top;\n",
              "    }\n",
              "\n",
              "    .dataframe thead th {\n",
              "        text-align: right;\n",
              "    }\n",
              "</style>\n",
              "<table border=\"1\" class=\"dataframe\">\n",
              "  <thead>\n",
              "    <tr style=\"text-align: right;\">\n",
              "      <th></th>\n",
              "      <th>기준_년_코드</th>\n",
              "      <th>기준_분기_코드</th>\n",
              "      <th>상권_구분_코드</th>\n",
              "      <th>상권_구분_코드_명</th>\n",
              "      <th>상권_코드</th>\n",
              "      <th>상권_코드_명</th>\n",
              "      <th>서비스_업종_코드</th>\n",
              "      <th>서비스_업종_코드_명</th>\n",
              "      <th>점포_수</th>\n",
              "      <th>유사_업종_점포_수</th>\n",
              "      <th>개업_율</th>\n",
              "      <th>개업_점포_수</th>\n",
              "      <th>폐업_률</th>\n",
              "      <th>폐업_점포_수</th>\n",
              "      <th>프랜차이즈_점포_수</th>\n",
              "    </tr>\n",
              "  </thead>\n",
              "  <tbody>\n",
              "    <tr>\n",
              "      <th>0</th>\n",
              "      <td>2021</td>\n",
              "      <td>1</td>\n",
              "      <td>A</td>\n",
              "      <td>골목상권</td>\n",
              "      <td>1001010</td>\n",
              "      <td>풍성로37가길</td>\n",
              "      <td>CS300043</td>\n",
              "      <td>전자상거래업</td>\n",
              "      <td>35</td>\n",
              "      <td>35</td>\n",
              "      <td>0</td>\n",
              "      <td>0</td>\n",
              "      <td>0</td>\n",
              "      <td>0</td>\n",
              "      <td>0</td>\n",
              "    </tr>\n",
              "    <tr>\n",
              "      <th>1</th>\n",
              "      <td>2021</td>\n",
              "      <td>1</td>\n",
              "      <td>A</td>\n",
              "      <td>골목상권</td>\n",
              "      <td>1001010</td>\n",
              "      <td>풍성로37가길</td>\n",
              "      <td>CS300042</td>\n",
              "      <td>주유소</td>\n",
              "      <td>2</td>\n",
              "      <td>2</td>\n",
              "      <td>0</td>\n",
              "      <td>0</td>\n",
              "      <td>0</td>\n",
              "      <td>0</td>\n",
              "      <td>0</td>\n",
              "    </tr>\n",
              "    <tr>\n",
              "      <th>2</th>\n",
              "      <td>2021</td>\n",
              "      <td>1</td>\n",
              "      <td>A</td>\n",
              "      <td>골목상권</td>\n",
              "      <td>1001010</td>\n",
              "      <td>풍성로37가길</td>\n",
              "      <td>CS300041</td>\n",
              "      <td>예술품</td>\n",
              "      <td>1</td>\n",
              "      <td>1</td>\n",
              "      <td>0</td>\n",
              "      <td>0</td>\n",
              "      <td>0</td>\n",
              "      <td>0</td>\n",
              "      <td>0</td>\n",
              "    </tr>\n",
              "  </tbody>\n",
              "</table>\n",
              "</div>"
            ],
            "text/plain": [
              "   기준_년_코드  기준_분기_코드 상권_구분_코드 상권_구분_코드_명  ...  개업_점포_수 폐업_률 폐업_점포_수 프랜차이즈_점포_수\n",
              "0     2021         1        A       골목상권  ...        0    0       0          0\n",
              "1     2021         1        A       골목상권  ...        0    0       0          0\n",
              "2     2021         1        A       골목상권  ...        0    0       0          0\n",
              "\n",
              "[3 rows x 15 columns]"
            ]
          },
          "metadata": {
            "tags": []
          },
          "execution_count": 29
        }
      ]
    },
    {
      "cell_type": "code",
      "metadata": {
        "colab": {
          "base_uri": "https://localhost:8080/"
        },
        "id": "mlXZ-4g3-oPK",
        "outputId": "2e19d29b-1899-4b68-fea9-b69d1bbefe8d"
      },
      "source": [
        "len(df_jumpo['상권_코드'].unique())"
      ],
      "execution_count": null,
      "outputs": [
        {
          "output_type": "execute_result",
          "data": {
            "text/plain": [
              "1010"
            ]
          },
          "metadata": {
            "tags": []
          },
          "execution_count": 39
        }
      ]
    },
    {
      "cell_type": "code",
      "metadata": {
        "colab": {
          "base_uri": "https://localhost:8080/"
        },
        "id": "AxCMA6CaBTG3",
        "outputId": "9bb4e4bc-c230-4a78-a584-ccb40bb0f2e5"
      },
      "source": [
        "df_jumpo['기준_년_코드'].unique()"
      ],
      "execution_count": null,
      "outputs": [
        {
          "output_type": "execute_result",
          "data": {
            "text/plain": [
              "array([2021, 2020])"
            ]
          },
          "metadata": {
            "tags": []
          },
          "execution_count": 41
        }
      ]
    },
    {
      "cell_type": "code",
      "metadata": {
        "colab": {
          "base_uri": "https://localhost:8080/",
          "height": 450
        },
        "id": "18NdUw7N-wC6",
        "outputId": "210bfa77-a8cb-4dd6-eb50-626a087eecf8"
      },
      "source": [
        "df_jumpo.groupby(['상권_코드','서비스_업종_코드_명']).sum()"
      ],
      "execution_count": null,
      "outputs": [
        {
          "output_type": "execute_result",
          "data": {
            "text/html": [
              "<div>\n",
              "<style scoped>\n",
              "    .dataframe tbody tr th:only-of-type {\n",
              "        vertical-align: middle;\n",
              "    }\n",
              "\n",
              "    .dataframe tbody tr th {\n",
              "        vertical-align: top;\n",
              "    }\n",
              "\n",
              "    .dataframe thead th {\n",
              "        text-align: right;\n",
              "    }\n",
              "</style>\n",
              "<table border=\"1\" class=\"dataframe\">\n",
              "  <thead>\n",
              "    <tr style=\"text-align: right;\">\n",
              "      <th></th>\n",
              "      <th></th>\n",
              "      <th>기준_년_코드</th>\n",
              "      <th>기준_분기_코드</th>\n",
              "      <th>점포_수</th>\n",
              "      <th>유사_업종_점포_수</th>\n",
              "      <th>개업_율</th>\n",
              "      <th>개업_점포_수</th>\n",
              "      <th>폐업_률</th>\n",
              "      <th>폐업_점포_수</th>\n",
              "      <th>프랜차이즈_점포_수</th>\n",
              "    </tr>\n",
              "    <tr>\n",
              "      <th>상권_코드</th>\n",
              "      <th>서비스_업종_코드_명</th>\n",
              "      <th></th>\n",
              "      <th></th>\n",
              "      <th></th>\n",
              "      <th></th>\n",
              "      <th></th>\n",
              "      <th></th>\n",
              "      <th></th>\n",
              "      <th></th>\n",
              "      <th></th>\n",
              "    </tr>\n",
              "  </thead>\n",
              "  <tbody>\n",
              "    <tr>\n",
              "      <th rowspan=\"5\" valign=\"top\">1000001</th>\n",
              "      <th>PC방</th>\n",
              "      <td>10101</td>\n",
              "      <td>11</td>\n",
              "      <td>0</td>\n",
              "      <td>0</td>\n",
              "      <td>0</td>\n",
              "      <td>0</td>\n",
              "      <td>0</td>\n",
              "      <td>0</td>\n",
              "      <td>0</td>\n",
              "    </tr>\n",
              "    <tr>\n",
              "      <th>가구</th>\n",
              "      <td>10101</td>\n",
              "      <td>11</td>\n",
              "      <td>14</td>\n",
              "      <td>14</td>\n",
              "      <td>58</td>\n",
              "      <td>2</td>\n",
              "      <td>0</td>\n",
              "      <td>0</td>\n",
              "      <td>0</td>\n",
              "    </tr>\n",
              "    <tr>\n",
              "      <th>가방</th>\n",
              "      <td>10101</td>\n",
              "      <td>11</td>\n",
              "      <td>27</td>\n",
              "      <td>27</td>\n",
              "      <td>0</td>\n",
              "      <td>0</td>\n",
              "      <td>20</td>\n",
              "      <td>1</td>\n",
              "      <td>0</td>\n",
              "    </tr>\n",
              "    <tr>\n",
              "      <th>가전제품</th>\n",
              "      <td>10101</td>\n",
              "      <td>11</td>\n",
              "      <td>5</td>\n",
              "      <td>5</td>\n",
              "      <td>0</td>\n",
              "      <td>0</td>\n",
              "      <td>0</td>\n",
              "      <td>0</td>\n",
              "      <td>0</td>\n",
              "    </tr>\n",
              "    <tr>\n",
              "      <th>가전제품수리</th>\n",
              "      <td>10101</td>\n",
              "      <td>11</td>\n",
              "      <td>5</td>\n",
              "      <td>5</td>\n",
              "      <td>0</td>\n",
              "      <td>0</td>\n",
              "      <td>0</td>\n",
              "      <td>0</td>\n",
              "      <td>0</td>\n",
              "    </tr>\n",
              "    <tr>\n",
              "      <th>...</th>\n",
              "      <th>...</th>\n",
              "      <td>...</td>\n",
              "      <td>...</td>\n",
              "      <td>...</td>\n",
              "      <td>...</td>\n",
              "      <td>...</td>\n",
              "      <td>...</td>\n",
              "      <td>...</td>\n",
              "      <td>...</td>\n",
              "      <td>...</td>\n",
              "    </tr>\n",
              "    <tr>\n",
              "      <th rowspan=\"5\" valign=\"top\">1001010</th>\n",
              "      <th>핸드폰</th>\n",
              "      <td>10101</td>\n",
              "      <td>11</td>\n",
              "      <td>41</td>\n",
              "      <td>41</td>\n",
              "      <td>0</td>\n",
              "      <td>0</td>\n",
              "      <td>27</td>\n",
              "      <td>2</td>\n",
              "      <td>0</td>\n",
              "    </tr>\n",
              "    <tr>\n",
              "      <th>호프-간이주점</th>\n",
              "      <td>10101</td>\n",
              "      <td>11</td>\n",
              "      <td>198</td>\n",
              "      <td>247</td>\n",
              "      <td>6</td>\n",
              "      <td>3</td>\n",
              "      <td>14</td>\n",
              "      <td>7</td>\n",
              "      <td>49</td>\n",
              "    </tr>\n",
              "    <tr>\n",
              "      <th>화장품</th>\n",
              "      <td>10101</td>\n",
              "      <td>11</td>\n",
              "      <td>77</td>\n",
              "      <td>82</td>\n",
              "      <td>0</td>\n",
              "      <td>0</td>\n",
              "      <td>6</td>\n",
              "      <td>1</td>\n",
              "      <td>5</td>\n",
              "    </tr>\n",
              "    <tr>\n",
              "      <th>화초</th>\n",
              "      <td>10101</td>\n",
              "      <td>11</td>\n",
              "      <td>57</td>\n",
              "      <td>57</td>\n",
              "      <td>0</td>\n",
              "      <td>0</td>\n",
              "      <td>27</td>\n",
              "      <td>3</td>\n",
              "      <td>0</td>\n",
              "    </tr>\n",
              "    <tr>\n",
              "      <th>회계사사무소</th>\n",
              "      <td>10101</td>\n",
              "      <td>11</td>\n",
              "      <td>0</td>\n",
              "      <td>0</td>\n",
              "      <td>0</td>\n",
              "      <td>0</td>\n",
              "      <td>0</td>\n",
              "      <td>0</td>\n",
              "      <td>0</td>\n",
              "    </tr>\n",
              "  </tbody>\n",
              "</table>\n",
              "<p>91051 rows × 9 columns</p>\n",
              "</div>"
            ],
            "text/plain": [
              "                     기준_년_코드  기준_분기_코드  점포_수  ...  폐업_률  폐업_점포_수  프랜차이즈_점포_수\n",
              "상권_코드   서비스_업종_코드_명                           ...                           \n",
              "1000001 PC방            10101        11     0  ...     0        0           0\n",
              "        가구             10101        11    14  ...     0        0           0\n",
              "        가방             10101        11    27  ...    20        1           0\n",
              "        가전제품           10101        11     5  ...     0        0           0\n",
              "        가전제품수리         10101        11     5  ...     0        0           0\n",
              "...                      ...       ...   ...  ...   ...      ...         ...\n",
              "1001010 핸드폰            10101        11    41  ...    27        2           0\n",
              "        호프-간이주점        10101        11   198  ...    14        7          49\n",
              "        화장품            10101        11    77  ...     6        1           5\n",
              "        화초             10101        11    57  ...    27        3           0\n",
              "        회계사사무소         10101        11     0  ...     0        0           0\n",
              "\n",
              "[91051 rows x 9 columns]"
            ]
          },
          "metadata": {
            "tags": []
          },
          "execution_count": 34
        }
      ]
    },
    {
      "cell_type": "markdown",
      "metadata": {
        "id": "_5Q8HCKyArG2"
      },
      "source": [
        "### 집객시설\n",
        "- 집객시설이란? 사전적 의미 그대로 고객을 유입시키는 흡입력을 지닌 시설이라 할 수 있습니다. 대표적으로 영화관, 할인점, 병원, 백화점 등이 될 수 있겠습니다."
      ]
    },
    {
      "cell_type": "code",
      "metadata": {
        "colab": {
          "base_uri": "https://localhost:8080/"
        },
        "id": "ftSjqBb9_NHL",
        "outputId": "6825de90-4b43-40af-b9c6-884aa0b71b5b"
      },
      "source": [
        "df_jip = pd.read_csv(data_dir+'서울시 우리마을가게 상권분석서비스(상권-집객시설).csv', encoding='euc-kr')\n",
        "df_jip.shape"
      ],
      "execution_count": 6,
      "outputs": [
        {
          "output_type": "execute_result",
          "data": {
            "text/plain": [
              "(35880, 26)"
            ]
          },
          "metadata": {
            "tags": []
          },
          "execution_count": 6
        }
      ]
    },
    {
      "cell_type": "code",
      "metadata": {
        "colab": {
          "base_uri": "https://localhost:8080/",
          "height": 278
        },
        "id": "0t3mSlJlAcd3",
        "outputId": "3bafeb54-f505-4f87-b46d-3eacc18bffdb"
      },
      "source": [
        "df_jip.head(3)"
      ],
      "execution_count": 7,
      "outputs": [
        {
          "output_type": "execute_result",
          "data": {
            "text/html": [
              "<div>\n",
              "<style scoped>\n",
              "    .dataframe tbody tr th:only-of-type {\n",
              "        vertical-align: middle;\n",
              "    }\n",
              "\n",
              "    .dataframe tbody tr th {\n",
              "        vertical-align: top;\n",
              "    }\n",
              "\n",
              "    .dataframe thead th {\n",
              "        text-align: right;\n",
              "    }\n",
              "</style>\n",
              "<table border=\"1\" class=\"dataframe\">\n",
              "  <thead>\n",
              "    <tr style=\"text-align: right;\">\n",
              "      <th></th>\n",
              "      <th>기준_년_코드</th>\n",
              "      <th>기준_분기_코드</th>\n",
              "      <th>상권_구분_코드</th>\n",
              "      <th>상권_구분_코드_명</th>\n",
              "      <th>상권_코드</th>\n",
              "      <th>상권_코드_명</th>\n",
              "      <th>집객시설_수</th>\n",
              "      <th>관공서_수</th>\n",
              "      <th>은행_수</th>\n",
              "      <th>종합병원_수</th>\n",
              "      <th>일반_병원_수</th>\n",
              "      <th>약국_수</th>\n",
              "      <th>유치원_수</th>\n",
              "      <th>초등학교_수</th>\n",
              "      <th>중학교_수</th>\n",
              "      <th>고등학교_수</th>\n",
              "      <th>대학교_수</th>\n",
              "      <th>백화점_수</th>\n",
              "      <th>슈퍼마켓_수</th>\n",
              "      <th>극장_수</th>\n",
              "      <th>숙박_시설_수</th>\n",
              "      <th>공항_수</th>\n",
              "      <th>철도_역_수</th>\n",
              "      <th>버스_터미널_수</th>\n",
              "      <th>지하철_역_수</th>\n",
              "      <th>버스_정거장_수</th>\n",
              "    </tr>\n",
              "  </thead>\n",
              "  <tbody>\n",
              "    <tr>\n",
              "      <th>0</th>\n",
              "      <td>2021</td>\n",
              "      <td>1</td>\n",
              "      <td>A</td>\n",
              "      <td>골목상권</td>\n",
              "      <td>1000231</td>\n",
              "      <td>동일로123길</td>\n",
              "      <td>19</td>\n",
              "      <td>NaN</td>\n",
              "      <td>2.0</td>\n",
              "      <td>NaN</td>\n",
              "      <td>NaN</td>\n",
              "      <td>1.0</td>\n",
              "      <td>NaN</td>\n",
              "      <td>NaN</td>\n",
              "      <td>NaN</td>\n",
              "      <td>NaN</td>\n",
              "      <td>NaN</td>\n",
              "      <td>NaN</td>\n",
              "      <td>NaN</td>\n",
              "      <td>NaN</td>\n",
              "      <td>1.0</td>\n",
              "      <td>NaN</td>\n",
              "      <td>NaN</td>\n",
              "      <td>NaN</td>\n",
              "      <td>NaN</td>\n",
              "      <td>3.0</td>\n",
              "    </tr>\n",
              "    <tr>\n",
              "      <th>1</th>\n",
              "      <td>2021</td>\n",
              "      <td>1</td>\n",
              "      <td>A</td>\n",
              "      <td>골목상권</td>\n",
              "      <td>1000467</td>\n",
              "      <td>동교로19길</td>\n",
              "      <td>17</td>\n",
              "      <td>NaN</td>\n",
              "      <td>3.0</td>\n",
              "      <td>NaN</td>\n",
              "      <td>NaN</td>\n",
              "      <td>1.0</td>\n",
              "      <td>NaN</td>\n",
              "      <td>NaN</td>\n",
              "      <td>NaN</td>\n",
              "      <td>NaN</td>\n",
              "      <td>NaN</td>\n",
              "      <td>NaN</td>\n",
              "      <td>NaN</td>\n",
              "      <td>NaN</td>\n",
              "      <td>2.0</td>\n",
              "      <td>NaN</td>\n",
              "      <td>NaN</td>\n",
              "      <td>NaN</td>\n",
              "      <td>NaN</td>\n",
              "      <td>6.0</td>\n",
              "    </tr>\n",
              "    <tr>\n",
              "      <th>2</th>\n",
              "      <td>2021</td>\n",
              "      <td>1</td>\n",
              "      <td>A</td>\n",
              "      <td>골목상권</td>\n",
              "      <td>1000813</td>\n",
              "      <td>서림7길</td>\n",
              "      <td>23</td>\n",
              "      <td>NaN</td>\n",
              "      <td>NaN</td>\n",
              "      <td>NaN</td>\n",
              "      <td>NaN</td>\n",
              "      <td>NaN</td>\n",
              "      <td>NaN</td>\n",
              "      <td>NaN</td>\n",
              "      <td>NaN</td>\n",
              "      <td>NaN</td>\n",
              "      <td>NaN</td>\n",
              "      <td>NaN</td>\n",
              "      <td>NaN</td>\n",
              "      <td>NaN</td>\n",
              "      <td>18.0</td>\n",
              "      <td>NaN</td>\n",
              "      <td>NaN</td>\n",
              "      <td>NaN</td>\n",
              "      <td>NaN</td>\n",
              "      <td>3.0</td>\n",
              "    </tr>\n",
              "  </tbody>\n",
              "</table>\n",
              "</div>"
            ],
            "text/plain": [
              "   기준_년_코드  기준_분기_코드 상권_구분_코드 상권_구분_코드_명  ...  철도_역_수 버스_터미널_수  지하철_역_수  버스_정거장_수\n",
              "0     2021         1        A       골목상권  ...     NaN      NaN      NaN       3.0\n",
              "1     2021         1        A       골목상권  ...     NaN      NaN      NaN       6.0\n",
              "2     2021         1        A       골목상권  ...     NaN      NaN      NaN       3.0\n",
              "\n",
              "[3 rows x 26 columns]"
            ]
          },
          "metadata": {
            "tags": []
          },
          "execution_count": 7
        }
      ]
    },
    {
      "cell_type": "code",
      "metadata": {
        "colab": {
          "base_uri": "https://localhost:8080/"
        },
        "id": "jp5n3EIBAecm",
        "outputId": "0f76d7a4-a686-4b07-c8c9-820387c01ca1"
      },
      "source": [
        "len(df_jip['상권_코드'].unique())"
      ],
      "execution_count": 8,
      "outputs": [
        {
          "output_type": "execute_result",
          "data": {
            "text/plain": [
              "1474"
            ]
          },
          "metadata": {
            "tags": []
          },
          "execution_count": 8
        }
      ]
    },
    {
      "cell_type": "code",
      "metadata": {
        "colab": {
          "base_uri": "https://localhost:8080/"
        },
        "id": "fzLBENkdBFAE",
        "outputId": "af4e295c-e5e8-4fa5-bf2a-c7781a4a9ffd"
      },
      "source": [
        "df_jip['기준_년_코드'].unique()"
      ],
      "execution_count": 9,
      "outputs": [
        {
          "output_type": "execute_result",
          "data": {
            "text/plain": [
              "array([2021, 2020, 2019, 2018, 2017, 2016, 2015])"
            ]
          },
          "metadata": {
            "tags": []
          },
          "execution_count": 9
        }
      ]
    },
    {
      "cell_type": "code",
      "metadata": {
        "colab": {
          "base_uri": "https://localhost:8080/",
          "height": 633
        },
        "id": "e427lXsqBRQv",
        "outputId": "15f93c13-c565-4c1a-c68b-bf11601f9a50"
      },
      "source": [
        "msno.matrix(df_jip, color=(0.1, 0.3, 0.7))"
      ],
      "execution_count": 12,
      "outputs": [
        {
          "output_type": "execute_result",
          "data": {
            "text/plain": [
              "<matplotlib.axes._subplots.AxesSubplot at 0x7f419f48cf90>"
            ]
          },
          "metadata": {
            "tags": []
          },
          "execution_count": 12
        },
        {
          "output_type": "display_data",
          "data": {
            "image/png": "[encoded data removed]",
            "text/plain": [
              "<Figure size 1800x720 with 2 Axes>"
            ]
          },
          "metadata": {
            "tags": [],
            "needs_background": "light"
          }
        }
      ]
    },
    {
      "cell_type": "code",
      "metadata": {
        "colab": {
          "base_uri": "https://localhost:8080/"
        },
        "id": "0UZEc4vIihhx",
        "outputId": "cea84436-c2cc-4681-90d0-519df8d6dc79"
      },
      "source": [
        "df_jip['상권_코드_명'].unique()"
      ],
      "execution_count": 13,
      "outputs": [
        {
          "output_type": "execute_result",
          "data": {
            "text/plain": [
              "array(['동일로123길', '동교로19길', '서림7길', ..., '답십리현대시장', '강남시장_동작', '능동로골목시장'],\n",
              "      dtype=object)"
            ]
          },
          "metadata": {
            "tags": []
          },
          "execution_count": 13
        }
      ]
    },
    {
      "cell_type": "code",
      "metadata": {
        "id": "jwBUKzw7ivoa"
      },
      "source": [
        ""
      ],
      "execution_count": null,
      "outputs": []
    }
  ]
}