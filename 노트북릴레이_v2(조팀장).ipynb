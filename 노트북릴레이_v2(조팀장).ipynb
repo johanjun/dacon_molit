{
  "nbformat": 4,
  "nbformat_minor": 0,
  "metadata": {
    "kernelspec": {
      "display_name": "Python 3",
      "language": "python",
      "name": "python3"
    },
    "language_info": {
      "codemirror_mode": {
        "name": "ipython",
        "version": 3
      },
      "file_extension": ".py",
      "mimetype": "text/x-python",
      "name": "python",
      "nbconvert_exporter": "python",
      "pygments_lexer": "ipython3",
      "version": "3.8.8"
    },
    "colab": {
      "name": "노트북릴레이_v2(조팀장).ipynb",
      "provenance": [],
      "include_colab_link": true
    }
  },
  "cells": [
    {
      "cell_type": "markdown",
      "metadata": {
        "id": "view-in-github",
        "colab_type": "text"
      },
      "source": [
        "<a href=\"https://colab.research.google.com/github/johanjun/dacon_molit/blob/main/%EB%85%B8%ED%8A%B8%EB%B6%81%EB%A6%B4%EB%A0%88%EC%9D%B4_v2(%EC%A1%B0%ED%8C%80%EC%9E%A5).ipynb\" target=\"_parent\"><img src=\"https://colab.research.google.com/assets/colab-badge.svg\" alt=\"Open In Colab\"/></a>"
      ]
    },
    {
      "cell_type": "markdown",
      "metadata": {
        "id": "mQeJpmNFx_KT"
      },
      "source": [
        "# 제목, 이륜차에 집중할 지 좀 더 넓게 잡을지 결정\n",
        "\n",
        "우리의 삶의 많은 부분이 온라인으로 이동했음. 온라인으로 물건을 주문하고, 음식을 배달시키면 나 대신 다른 사람이 도로를 통해서 물건을 옮겨 주는 것. 아무리 코로나가 심해도 많은 사람들이 여전히 출근을 하고 있고, 예전보다 사람이 줄긴 했지만 길에는 사람들이 많음. 도로는 여전히 사람과 물자가 오가는 통로의 역할을 하고 있음.  \n",
        "\n",
        "사람과 물자가 잘 흐를 수 있도록 도로를 관리하는 것이 중요. 그런데 사고가 나면 도로가 멈춰설 뿐만 아니라 인명, 재산 피해가 발생함.  \n",
        "기존의 도로교통 데이터 분석 사례를 보면 고속도로 중심이 많음. 아무래도 이동량이 많고 중요한 도로기도 하지만, 자동차만 존재하는 고속도로의 환경 특성상 분석이 편함. 반면 시내도로는 도로 뿐만 아니라 건물이나 보행자 등 고려해야할 것이 많음.  \n",
        "\n",
        "그래서 우리는 이번 분석에서 시내 도로 중심의 사고 분석을 수행  \n",
        "\n",
        "인구와 건물과 도로, 교통 데이터를 함께 활용하기 위해 비교적 손쉽게 데이터 확보가 가능한 서울특별시로 한정지어서 분석\n",
        "2019년과 2020년을 비교. 도로와 건물, 인구 유동의 특성을 활용해서 사고를 설명하고 코로나로 인한 변화도 함께 설명\n",
        "\n"
      ]
    },
    {
      "cell_type": "markdown",
      "metadata": {
        "id": "5tno-tMlx_KW"
      },
      "source": [
        "## 1. 교통 사고 일반 현황\n",
        "\n",
        "`아주 무난한 교통사고 이야기`"
      ]
    },
    {
      "cell_type": "code",
      "metadata": {
        "id": "FypU_ev6x_KX"
      },
      "source": [
        "# 라이브러리 불러오기\n",
        "import matplotlib.pyplot as plt\n",
        "import numpy as np\n",
        "import seaborn as sns\n",
        "import pandas as pd\n",
        "\n",
        "from matplotlib import font_manager, rc\n",
        "plt.rcParams['axes.unicode_minus'] = False\n",
        "\n",
        "f_path = \"c:/Windows/Fonts/malgun.ttf\"\n",
        "\n",
        "font_name = font_manager.FontProperties(fname=f_path).get_name()\n",
        "rc('font', family=font_name)\n"
      ],
      "execution_count": null,
      "outputs": []
    },
    {
      "cell_type": "code",
      "metadata": {
        "id": "ZN0hRDi23-1Y"
      },
      "source": [
        "data_dir = '/content/drive/MyDrive/dacon_molit/data/'\n",
        "df_acci = pd.read_csv(data_dir+'서울시 2019-2020 교통사고.csv')"
      ],
      "execution_count": null,
      "outputs": []
    },
    {
      "cell_type": "code",
      "metadata": {
        "id": "pJb6H1zux_KY",
        "outputId": "e6c6dcb6-ddb7-4373-eb96-74dd1d7b8d15"
      },
      "source": [
        "# 데이터 불러오기\n",
        "df_acci = pd.read_csv('../data/서울시 2019-2020 교통사고.csv')\n",
        "df_acci.head(3)"
      ],
      "execution_count": null,
      "outputs": [
        {
          "data": {
            "text/html": [
              "<div>\n",
              "<style scoped>\n",
              "    .dataframe tbody tr th:only-of-type {\n",
              "        vertical-align: middle;\n",
              "    }\n",
              "\n",
              "    .dataframe tbody tr th {\n",
              "        vertical-align: top;\n",
              "    }\n",
              "\n",
              "    .dataframe thead th {\n",
              "        text-align: right;\n",
              "    }\n",
              "</style>\n",
              "<table border=\"1\" class=\"dataframe\">\n",
              "  <thead>\n",
              "    <tr style=\"text-align: right;\">\n",
              "      <th></th>\n",
              "      <th>사고번호</th>\n",
              "      <th>사고일시</th>\n",
              "      <th>요일</th>\n",
              "      <th>시군구</th>\n",
              "      <th>사고내용</th>\n",
              "      <th>사망자수</th>\n",
              "      <th>중상자수</th>\n",
              "      <th>경상자수</th>\n",
              "      <th>부상신고자수</th>\n",
              "      <th>사고유형</th>\n",
              "      <th>...</th>\n",
              "      <th>기상상태</th>\n",
              "      <th>도로형태</th>\n",
              "      <th>가해운전자 차종</th>\n",
              "      <th>가해운전자 성별</th>\n",
              "      <th>가해운전자 연령</th>\n",
              "      <th>가해운전자 상해정도</th>\n",
              "      <th>피해운전자 차종</th>\n",
              "      <th>피해운전자 성별</th>\n",
              "      <th>피해운전자 연령</th>\n",
              "      <th>피해운전자 상해정도</th>\n",
              "    </tr>\n",
              "  </thead>\n",
              "  <tbody>\n",
              "    <tr>\n",
              "      <th>0</th>\n",
              "      <td>2.019010e+15</td>\n",
              "      <td>2019년 1월 1일 00시</td>\n",
              "      <td>화요일</td>\n",
              "      <td>서울특별시 강서구 방화동</td>\n",
              "      <td>경상사고</td>\n",
              "      <td>0</td>\n",
              "      <td>0</td>\n",
              "      <td>1</td>\n",
              "      <td>0</td>\n",
              "      <td>차대사람 - 횡단중</td>\n",
              "      <td>...</td>\n",
              "      <td>맑음</td>\n",
              "      <td>교차로 - 교차로횡단보도내</td>\n",
              "      <td>승용</td>\n",
              "      <td>남</td>\n",
              "      <td>26세</td>\n",
              "      <td>상해없음</td>\n",
              "      <td>보행자</td>\n",
              "      <td>남</td>\n",
              "      <td>40세</td>\n",
              "      <td>경상</td>\n",
              "    </tr>\n",
              "    <tr>\n",
              "      <th>1</th>\n",
              "      <td>2.019010e+15</td>\n",
              "      <td>2019년 1월 1일 00시</td>\n",
              "      <td>화요일</td>\n",
              "      <td>서울특별시 구로구 고척동</td>\n",
              "      <td>경상사고</td>\n",
              "      <td>0</td>\n",
              "      <td>0</td>\n",
              "      <td>1</td>\n",
              "      <td>0</td>\n",
              "      <td>차대차 - 추돌</td>\n",
              "      <td>...</td>\n",
              "      <td>맑음</td>\n",
              "      <td>단일로 - 기타</td>\n",
              "      <td>이륜</td>\n",
              "      <td>남</td>\n",
              "      <td>23세</td>\n",
              "      <td>상해없음</td>\n",
              "      <td>승용</td>\n",
              "      <td>남</td>\n",
              "      <td>71세</td>\n",
              "      <td>경상</td>\n",
              "    </tr>\n",
              "    <tr>\n",
              "      <th>2</th>\n",
              "      <td>2.019010e+15</td>\n",
              "      <td>2019년 1월 1일 00시</td>\n",
              "      <td>화요일</td>\n",
              "      <td>서울특별시 서초구 서초동</td>\n",
              "      <td>경상사고</td>\n",
              "      <td>0</td>\n",
              "      <td>0</td>\n",
              "      <td>1</td>\n",
              "      <td>0</td>\n",
              "      <td>차대차 - 기타</td>\n",
              "      <td>...</td>\n",
              "      <td>맑음</td>\n",
              "      <td>기타 - 기타</td>\n",
              "      <td>승용</td>\n",
              "      <td>남</td>\n",
              "      <td>33세</td>\n",
              "      <td>상해없음</td>\n",
              "      <td>화물</td>\n",
              "      <td>남</td>\n",
              "      <td>51세</td>\n",
              "      <td>경상</td>\n",
              "    </tr>\n",
              "  </tbody>\n",
              "</table>\n",
              "<p>3 rows × 22 columns</p>\n",
              "</div>"
            ],
            "text/plain": [
              "           사고번호             사고일시   요일            시군구  사고내용  사망자수  중상자수  경상자수  \\\n",
              "0  2.019010e+15  2019년 1월 1일 00시  화요일  서울특별시 강서구 방화동  경상사고     0     0     1   \n",
              "1  2.019010e+15  2019년 1월 1일 00시  화요일  서울특별시 구로구 고척동  경상사고     0     0     1   \n",
              "2  2.019010e+15  2019년 1월 1일 00시  화요일  서울특별시 서초구 서초동  경상사고     0     0     1   \n",
              "\n",
              "   부상신고자수        사고유형  ... 기상상태            도로형태 가해운전자 차종 가해운전자 성별 가해운전자 연령  \\\n",
              "0       0  차대사람 - 횡단중  ...   맑음  교차로 - 교차로횡단보도내       승용        남      26세   \n",
              "1       0    차대차 - 추돌  ...   맑음        단일로 - 기타       이륜        남      23세   \n",
              "2       0    차대차 - 기타  ...   맑음         기타 - 기타       승용        남      33세   \n",
              "\n",
              "  가해운전자 상해정도 피해운전자 차종 피해운전자 성별 피해운전자 연령 피해운전자 상해정도  \n",
              "0       상해없음      보행자        남      40세         경상  \n",
              "1       상해없음       승용        남      71세         경상  \n",
              "2       상해없음       화물        남      51세         경상  \n",
              "\n",
              "[3 rows x 22 columns]"
            ]
          },
          "execution_count": 3,
          "metadata": {},
          "output_type": "execute_result"
        }
      ]
    },
    {
      "cell_type": "code",
      "metadata": {
        "id": "5ornGRy1x_KZ"
      },
      "source": [
        "# 전처리 (사고일시)\n",
        "df_acci['사고일시'] = pd.to_datetime(df_acci['사고일시'], format='%Y년 %m월 %d일 %H시')\n",
        "df_acci['연도']     = df_acci['사고일시'].dt.year\n",
        "df_acci['사고 월']  = df_acci['사고일시'].dt.month\n",
        "df_acci['사고 일']  = df_acci['사고일시'].dt.day\n",
        "df_acci['사고 시각']= df_acci['사고일시'].dt.hour"
      ],
      "execution_count": null,
      "outputs": []
    },
    {
      "cell_type": "code",
      "metadata": {
        "id": "-tueDDRpx_KZ"
      },
      "source": [
        "# 전처리 (위치)\n",
        "df_acci['시'] = [x.split(' ')[0] for x in df_acci['시군구']]\n",
        "df_acci['구'] = [x.split(' ')[1] for x in df_acci['시군구']]\n",
        "df_acci['동'] = [x.split(' ')[2] for x in df_acci['시군구']]"
      ],
      "execution_count": null,
      "outputs": []
    },
    {
      "cell_type": "code",
      "metadata": {
        "id": "Oauq3JvECUxs"
      },
      "source": [
        "# 전처리 (연령대)\n",
        "df_acci['가해운전자 연령대'] = [str(int(x.split('세')[0][0]))+'0대' if x != '미분류' else x for x in df_acci['가해운전자 연령']]\n",
        "df_acci['피해운전자 연령'] = df_acci['피해운전자 연령'].replace('미분류', np.nan)\n",
        "df_acci['피해운전자 연령대'] = [str(int(x.split()[0][0]))+'0대' if type(x) != float else x for x in df_acci['피해운전자 연령']]"
      ],
      "execution_count": 95,
      "outputs": []
    },
    {
      "cell_type": "markdown",
      "metadata": {
        "id": "5W3J5TTwx_Ka"
      },
      "source": [
        "\n",
        "### 1.1. 서울시 전체 교통 사고\n",
        "\n",
        "`여기서는 서울시 전체로 범위를 넓게 잡고 연도, 사고유형, 가해운전자, 피해자(보행자 중심), 시간대 등에 따른 차고 발생량 차이를 짚어줌`\n",
        "\n"
      ]
    },
    {
      "cell_type": "markdown",
      "metadata": {
        "id": "_1EXuzH8x_Kb"
      },
      "source": [
        "2020년의 전체 사고 건수는 2019년 3만 9천 건보다 10% 줄어든 약 3만 5천 건."
      ]
    },
    {
      "cell_type": "code",
      "metadata": {
        "id": "zhabDNUwx_Kb",
        "outputId": "990f2964-f5a3-4257-f298-499595fd7aca"
      },
      "source": [
        "# 2019, 2020 비교\n",
        "df_acci.groupby('연도')['사고유형'].count()"
      ],
      "execution_count": null,
      "outputs": [
        {
          "data": {
            "text/plain": [
              "연도\n",
              "2019    39258\n",
              "2020    35227\n",
              "Name: 사고유형, dtype: int64"
            ]
          },
          "execution_count": 6,
          "metadata": {},
          "output_type": "execute_result"
        }
      ]
    },
    {
      "cell_type": "code",
      "metadata": {
        "id": "5Vj8ITgpx_Kc"
      },
      "source": [
        "# 카테고리별 시각화 함수\n",
        "def viz_by_category(df, x, palette='RdPu'):\n",
        "  df_new = pd.DataFrame(df.groupby(['연도', x])['사고유형'].count())\n",
        "\n",
        "  df_new['연도'] = df_new.index.get_level_values(0)\n",
        "  df_new[x] = df_new.index.get_level_values(1)\n",
        "\n",
        "\n",
        "  plt.figure(figsize=(18,6))\n",
        "  sns.barplot(data=df_new,\n",
        "              x=x,\n",
        "              y='사고유형',\n",
        "              hue='연도', palette=palette)\n",
        "  plt.xticks(rotation=90)\n",
        "  plt.ylabel('사고 건수', fontdict={'fontsize' : 15})\n",
        "  plt.xlabel(x, fontdict={'fontsize' : 15})\n",
        "  plt.legend(loc='best')\n",
        "  plt.show()"
      ],
      "execution_count": 148,
      "outputs": []
    },
    {
      "cell_type": "markdown",
      "metadata": {
        "id": "x0FtpUkVx_Kc"
      },
      "source": [
        "먼저 피해운전자 차종을 보면 보행자, 승용은 줄고, '이륜', 원동기, '자건거는 오히려 증가했음"
      ]
    },
    {
      "cell_type": "code",
      "metadata": {
        "scrolled": false,
        "id": "gKwjlu5ix_Kc",
        "colab": {
          "base_uri": "https://localhost:8080/",
          "height": 470
        },
        "outputId": "497b5034-8333-4ef0-fcc6-9cb09305a07a"
      },
      "source": [
        "viz_by_category(df_acci, '피해운전자 차종')"
      ],
      "execution_count": 149,
      "outputs": [
        {
          "output_type": "display_data",
          "data": {
            "image/png": "[encoded data removed]",
            "text/plain": [
              "<Figure size 1296x432 with 1 Axes>"
            ]
          },
          "metadata": {
            "needs_background": "light"
          }
        }
      ]
    },
    {
      "cell_type": "markdown",
      "metadata": {
        "id": "e3NJfVPHx_Kd"
      },
      "source": [
        "사고를 유발한 가해운전자 차종을 보면 사고건수가 가장 많은 '승용'의 경우 2019년 대비 2020년 사고 건수가 줄어 들지만 '이륜','원동기','자전거','개인형이동수단(PM)'의 경우 사고건수가 비슷한 수준으로 유지되거나 증가하는 경향을 보임  \n",
        "\n"
      ]
    },
    {
      "cell_type": "code",
      "metadata": {
        "id": "bc0cbAS0x_Kd",
        "colab": {
          "base_uri": "https://localhost:8080/",
          "height": 470
        },
        "outputId": "b52c0c0d-06ce-4b80-d8ca-b7d0017310b9"
      },
      "source": [
        "viz_by_category(df_acci, '가해운전자 차종')"
      ],
      "execution_count": 150,
      "outputs": [
        {
          "output_type": "display_data",
          "data": {
            "image/png": "[encoded data removed]",
            "text/plain": [
              "<Figure size 1296x432 with 1 Axes>"
            ]
          },
          "metadata": {
            "needs_background": "light"
          }
        }
      ]
    },
    {
      "cell_type": "markdown",
      "metadata": {
        "id": "IL5zfTryx_Kd"
      },
      "source": [
        "추정되는 원인으로는 아래와 같음 <br>\n",
        "(1) 사회적 거리두기 시행 이후로 재택근무, 비대면 식사등으로 인한 배달 이용이 증가하였으며([통계청 자료](https://kosis.kr/statHtml/statHtml.do?orgId=114&tblId=DT_114054_016))<br>\n",
        "(2) 배달 건수 증가로 인한 이륜차 이용 증가([통계청 자료](https://kosis.kr/statHtml/statHtml.do?orgId=116&tblId=DT_MLTM_2042)), 그에 따른 이륜차 사고의 증가로 이어짐"
      ]
    },
    {
      "cell_type": "code",
      "metadata": {
        "id": "qdVpaQ916kgF"
      },
      "source": [
        "#배달앱 사용 현황 데이터 load\n",
        "df_delivery = pd.read_csv(data_dir+'배달앱_및_배달대행_이용현황_20210822144217.csv', encoding='euc-kr')"
      ],
      "execution_count": 12,
      "outputs": []
    },
    {
      "cell_type": "code",
      "metadata": {
        "id": "njJbb5dg6sEW"
      },
      "source": [
        "#배달앱 사용 현황 데이터 전처리\n",
        "for i in df_delivery:\n",
        "  if df_delivery[i][0] == '배달대행':\n",
        "    df_delivery.drop(columns=i, inplace=True)\n",
        "\n",
        "df_delivery.drop(index=0, inplace=True)\n",
        "\n",
        "for i, x in df_delivery.iterrows():\n",
        "  if x['특성별(3)'] == '기타 음식점업':\n",
        "    x['특성별(3)'] = x['특성별(4)']\n",
        "\n",
        "df_delivery.drop(columns=['특성별(4)'], inplace=True)\n",
        "\n",
        "for i, x in df_delivery.iterrows():\n",
        "  if x['특성별(3)'] == '소계':\n",
        "    x['특성별(3)'] = x['특성별(1)'] + '-' + x['특성별(2)']\n",
        "\n",
        "df_delivery.drop(columns=['특성별(1)'], inplace=True)\n",
        "df_delivery.drop(columns=['특성별(2)'], inplace=True)\n",
        "\n",
        "df_delivery_T = df_delivery.T\n",
        "\n",
        "df_delivery_T.rename(columns=df_delivery_T.iloc[0], inplace=True)\n",
        "df_delivery_T.drop(index='특성별(3)', inplace=True)\n",
        "df_delivery_T['time'] = df_delivery_T.index\n",
        "df_delivery_T.reset_index(drop=True, inplace=True)\n",
        "\n",
        "df_delivery_T['time'] = df_delivery_T['time'].apply(lambda x : x.split('.')[0])\n",
        "\n",
        "df_delivery_T.columns = ['특성별1', '특성별2', '전체-소계', '업종별-일반음식점', '한식', '중식', '일식', '서양식',\n",
        "       '기타 외국식', '업종별-일반음식점 외', '기관 구내식당업', '출장·이동음식점업', '제과점',\n",
        "       '피자·햄버거·샌드위치 및 유사 음식점업', '치킨전문점', '김밥 및 기타 간이 음식점업', '간이 음식 포장 판매 전문점',\n",
        "       '주점업', '비알콜 음료점업', '운영형태별-프랜차이즈', '운영형태별-비프랜차이즈', '지역별-서울권', '지역별-수도권',\n",
        "       '지역별-충청권', '지역별-호남권', '지역별-경남권', '지역별-경북권', '매출액규모별-5천만원 미만',\n",
        "       '매출액규모별-5천만원~1억원 미만', '매출액규모별-1억원~5억원 미만', '매출액규모별-5억원 이상', 'time']\n",
        "\n",
        "df_delivery_T['기관 구내식당업'] = df_delivery_T['기관 구내식당업'].replace('-', np.nan)\n",
        "df_delivery_T['출장·이동음식점업'] = df_delivery_T['출장·이동음식점업'].replace('-', np.nan)\n",
        "\n",
        "for i in df_delivery_T.columns[2:-1]:\n",
        "  df_delivery_T[i] = df_delivery_T[i].astype('float64')"
      ],
      "execution_count": 13,
      "outputs": []
    },
    {
      "cell_type": "markdown",
      "metadata": {
        "id": "Ji9n-MlZ8tHL"
      },
      "source": [
        "배달앱 이용 현황에서는 2018년 이후 배달앱 사용에 대해서 사용한다는 응답(예)이 증가해왔고, 월 평균 이용금액도 2018년 대비 40% 증가했음"
      ]
    },
    {
      "cell_type": "code",
      "metadata": {
        "colab": {
          "base_uri": "https://localhost:8080/",
          "height": 529
        },
        "id": "0oNNi0iw7O3j",
        "outputId": "4527bc29-7e31-4974-b77f-1ebb04f7e827"
      },
      "source": [
        "fig = plt.figure(figsize=(18,8))\n",
        "\n",
        "plt.title('배달앱 이용여부와 배달앱 이용 월 평균 비용', fontdict={'fontsize' : 25})\n",
        "\n",
        "plt.axis('off')\n",
        "ax = fig.add_subplot(1, 2, 1)\n",
        "sns.barplot(data=df_delivery_T[df_delivery_T['특성별1']=='이용여부 (%)'], \n",
        "          x='특성별2', y='전체-소계', \n",
        "          hue='time',\n",
        "          color='purple')\n",
        "plt.xlabel('배달앱 이용 여부', fontdict={'fontsize' : 15})\n",
        "plt.legend([],[], frameon=False)\n",
        "\n",
        "ax = fig.add_subplot(1, 2, 2)\n",
        "sns.barplot(data=df_delivery_T[df_delivery_T['특성별2']=='평균 (원)'], \n",
        "          x='특성별2', y='전체-소계', \n",
        "          hue='time',\n",
        "          color='purple')\n",
        "\n",
        "plt.xlabel('배달앱 이용 월 평균 비용', fontdict={'fontsize' : 15})\n",
        "plt.legend(bbox_to_anchor=(1, 1))\n",
        "\n",
        "plt.show()"
      ],
      "execution_count": 120,
      "outputs": [
        {
          "output_type": "display_data",
          "data": {
            "image/png": "[encoded data removed]",
            "text/plain": [
              "<Figure size 1296x576 with 3 Axes>"
            ]
          },
          "metadata": {
            "needs_background": "light"
          }
        }
      ]
    },
    {
      "cell_type": "code",
      "metadata": {
        "id": "gjOcliBGx_Ke"
      },
      "source": [
        "#이륜차 신고 현황 데이터 load\n",
        "df_2wheel = pd.read_csv(data_dir+'이륜차신고현황_연도별_20210822144233.csv', encoding='euc-kr')"
      ],
      "execution_count": null,
      "outputs": []
    },
    {
      "cell_type": "code",
      "metadata": {
        "id": "pZkMuREJ5JqE"
      },
      "source": [
        "#이륜차 신고 현황 데이터 전처리\n",
        "df_2wheel = df_2wheel.T\n",
        "df_2wheel.iloc[1, :]\n",
        "df_2wheel.rename(columns=df_2wheel.iloc[1], inplace=True)\n",
        "df_2wheel.drop(index='구분(1)', inplace=True)\n",
        "df_2wheel.drop(index='레벨01(1)', inplace=True)\n",
        "\n",
        "for i in df_2wheel.columns[1:]:\n",
        "  df_2wheel[i] = df_2wheel[i].apply(lambda x : int(x))\n",
        "\n",
        "df_2wheel['time'] = df_2wheel.index\n",
        "df_2wheel.reset_index(drop=True, inplace=True)\n",
        "\n",
        "for i, x in enumerate(df_2wheel['time']):\n",
        "  if '.' in x:\n",
        "    df_2wheel['time'][i] = x.split('.')[0]"
      ],
      "execution_count": null,
      "outputs": []
    },
    {
      "cell_type": "markdown",
      "metadata": {
        "id": "eDT0eTGQ6RKv"
      },
      "source": [
        "전체적으로 2018년 이후 50cc미만부터 250cc초과까지 모든 이륜차에 대한 차량 등록 신고건수는 증가해왔음"
      ]
    },
    {
      "cell_type": "code",
      "metadata": {
        "id": "4mmyPlQq5n-h",
        "colab": {
          "base_uri": "https://localhost:8080/",
          "height": 585
        },
        "outputId": "f822d942-be24-4369-e35c-ace0db2ac2c4"
      },
      "source": [
        "plt.figure(figsize=(18,8))\n",
        "plt.title('이륜차 신고현황(레벨별)', fontdict={'fontsize' : 25})\n",
        "sns.barplot(data=df_2wheel, \n",
        "            x='레벨01(1)', y='계', \n",
        "            hue='time', color='purple')\n",
        "plt.legend(bbox_to_anchor=(1.07, 1))\n",
        "plt.xlabel('이륜차 레벨', fontdict={'fontsize' : 15})\n",
        "plt.tight_layout()\n",
        "plt.show()"
      ],
      "execution_count": 119,
      "outputs": [
        {
          "output_type": "display_data",
          "data": {
            "image/png": "[encoded data removed]",
            "text/plain": [
              "<Figure size 1296x576 with 1 Axes>"
            ]
          },
          "metadata": {
            "needs_background": "light"
          }
        }
      ]
    },
    {
      "cell_type": "markdown",
      "metadata": {
        "id": "q-l5R47ix_Ke"
      },
      "source": [
        "그런데 이 두바퀴들이 일으킨 사고의 주요 피해자는?\n"
      ]
    },
    {
      "cell_type": "code",
      "metadata": {
        "id": "tANT5Pjyx_Ke",
        "colab": {
          "base_uri": "https://localhost:8080/",
          "height": 470
        },
        "outputId": "1f3af5fd-13b5-4114-df0a-2114a5a298e4"
      },
      "source": [
        "df_new = pd.DataFrame(df_acci[df_acci['가해운전자 차종'].isin(['이륜','원동기','자전거','개인형이동수단(PM)'])].groupby(['연도', '피해운전자 차종'])['사고유형'].count())\n",
        "\n",
        "df_new['연도'] = df_new.index.get_level_values(0)\n",
        "df_new['피해운전자 차종'] = df_new.index.get_level_values(1)\n",
        "\n",
        "\n",
        "plt.figure(figsize=(18,6))\n",
        "sns.barplot(data=df_new,\n",
        "          x='피해운전자 차종',\n",
        "          y='사고유형',\n",
        "          hue='연도', palette='Set1')\n",
        "plt.xticks(rotation=90)\n",
        "plt.ylabel('사고 건수', fontdict={'fontsize' : 15})\n",
        "plt.xlabel('피해운전자 차종', fontdict={'fontsize' : 15})\n",
        "plt.legend(loc='best')\n",
        "plt.show()"
      ],
      "execution_count": 147,
      "outputs": [
        {
          "output_type": "display_data",
          "data": {
            "image/png": "[encoded data removed]",
            "text/plain": [
              "<Figure size 1296x432 with 1 Axes>"
            ]
          },
          "metadata": {
            "needs_background": "light"
          }
        }
      ]
    },
    {
      "cell_type": "markdown",
      "metadata": {
        "id": "rDWO-QF1x_Ke"
      },
      "source": [
        "이륜차 사고에 대해서 조금 더 세부적으로 분석해보면 아래와 같다.\n",
        "여기서 이륜차는 다음을 포함한다.\n",
        "- 이륜(125cc이상)\n",
        "- 원동기(125cc미만)\n",
        "- 자전거"
      ]
    },
    {
      "cell_type": "code",
      "metadata": {
        "id": "hf-aidffBXey"
      },
      "source": [
        "#이륜차 사고만 추출한 데이터\n",
        "mask = (df_acci['가해운전자 차종']==('원동기')) | (df_acci['가해운전자 차종']==('이륜')) | (df_acci['가해운전자 차종']==('자전거'))\n",
        "df_acci_2wheel = df_acci.loc[mask, :]"
      ],
      "execution_count": 96,
      "outputs": []
    },
    {
      "cell_type": "markdown",
      "metadata": {
        "id": "nmv4vpIBBMvS"
      },
      "source": [
        "1. `안전운전불이행` 법규를 위반한 사례가 가장 늘었다."
      ]
    },
    {
      "cell_type": "code",
      "metadata": {
        "colab": {
          "base_uri": "https://localhost:8080/",
          "height": 464
        },
        "id": "IdTE5amwBg-x",
        "outputId": "7731ddf8-2dde-4bbe-e544-8df07f78b250"
      },
      "source": [
        "viz_by_category(df_acci_2wheel, '법규위반', palette='BrBG')"
      ],
      "execution_count": 151,
      "outputs": [
        {
          "output_type": "display_data",
          "data": {
            "image/png": "[encoded data removed]",
            "text/plain": [
              "<Figure size 1296x432 with 1 Axes>"
            ]
          },
          "metadata": {
            "needs_background": "light"
          }
        }
      ]
    },
    {
      "cell_type": "markdown",
      "metadata": {
        "id": "prWP7Wl4CAod"
      },
      "source": [
        "2. 가해운전자/피해운전자 모두 `20대, 30대` `이륜, 승용`이 가장 많이 늘었다."
      ]
    },
    {
      "cell_type": "code",
      "metadata": {
        "colab": {
          "base_uri": "https://localhost:8080/",
          "height": 411
        },
        "id": "mwo4z5D3CEuL",
        "outputId": "e10ebfc1-ac7e-4aff-ccba-301c87a38658"
      },
      "source": [
        "viz_by_category(df_acci_2wheel, '가해운전자 연령대', palette='BuGn')"
      ],
      "execution_count": 152,
      "outputs": [
        {
          "output_type": "display_data",
          "data": {
            "image/png": "[encoded data removed]",
            "text/plain": [
              "<Figure size 1296x432 with 1 Axes>"
            ]
          },
          "metadata": {
            "needs_background": "light"
          }
        }
      ]
    },
    {
      "cell_type": "code",
      "metadata": {
        "colab": {
          "base_uri": "https://localhost:8080/",
          "height": 405
        },
        "id": "4gw_cRQ9Cg5X",
        "outputId": "22d384fc-3023-41fb-a7b1-3c7e8e436fc1"
      },
      "source": [
        "viz_by_category(df_acci_2wheel, '피해운전자 연령대', palette='BuGn')"
      ],
      "execution_count": 153,
      "outputs": [
        {
          "output_type": "display_data",
          "data": {
            "image/png": "[encoded data removed]",
            "text/plain": [
              "<Figure size 1296x432 with 1 Axes>"
            ]
          },
          "metadata": {
            "needs_background": "light"
          }
        }
      ]
    },
    {
      "cell_type": "markdown",
      "metadata": {
        "id": "eQ4F_eNZFdsf"
      },
      "source": [
        "3. 사고 시간대는 12시, 18시로 `식사시간대`가 크게 증가했다."
      ]
    },
    {
      "cell_type": "code",
      "metadata": {
        "colab": {
          "base_uri": "https://localhost:8080/",
          "height": 396
        },
        "id": "QLAESkxCFf_1",
        "outputId": "7004728e-8326-4210-df06-3a77cf1ecc57"
      },
      "source": [
        "viz_by_category(df_acci_2wheel, '사고 시각', palette='flare')"
      ],
      "execution_count": 154,
      "outputs": [
        {
          "output_type": "display_data",
          "data": {
            "image/png": "[encoded data removed]",
            "text/plain": [
              "<Figure size 1296x432 with 1 Axes>"
            ]
          },
          "metadata": {
            "needs_background": "light"
          }
        }
      ]
    },
    {
      "cell_type": "markdown",
      "metadata": {
        "id": "ec-M_-9Rx_Kf"
      },
      "source": [
        "전체에서는 보행자사고는 줄었지만 이륜, 자전거 등에 의한 보행자 사고는 오히려 증가한 것을 알 수 있음\n",
        "그럼 이번에는 서울시의 25개 구별로 더 자세히 살펴봅시다"
      ]
    },
    {
      "cell_type": "markdown",
      "metadata": {
        "id": "kS9DoT54x_Kf"
      },
      "source": [
        "### 1.2. 서울시 자치구별 교통사고 \n",
        "\n"
      ]
    },
    {
      "cell_type": "markdown",
      "metadata": {
        "id": "MPAvwT2ox_Kf"
      },
      "source": [
        "비슷한 방법으로 자치구별로 나눠서 다루고  \n",
        "\n",
        "특히 3~4개 자치구를 정해서 얘네는 동별로 다시 쪼개서  \n",
        "강남구, 서초구, 송파구 등등 주로 강 남쪽 자치구들\n"
      ]
    },
    {
      "cell_type": "code",
      "metadata": {
        "id": "WPT7QlTnGSBg"
      },
      "source": [
        "# 데이터 groupby\n",
        "df_acci_gu = pd.DataFrame(df_acci.groupby(['연도', '구'])['사고유형'].count())\n",
        "df_acci_gu['연도'] = df_acci_gu.index.get_level_values(0)\n",
        "df_acci_gu['구'] = df_acci_gu.index.get_level_values(1)"
      ],
      "execution_count": 138,
      "outputs": []
    },
    {
      "cell_type": "markdown",
      "metadata": {
        "id": "prGLuwL6GKAh"
      },
      "source": [
        "서울특별시 자치구 별로 교통사고 건수를 살펴보면 `강남구, 관악구, 성동구`가 유일하게 증가했다."
      ]
    },
    {
      "cell_type": "code",
      "metadata": {
        "colab": {
          "base_uri": "https://localhost:8080/",
          "height": 528
        },
        "id": "Jtu1BuN4GQnM",
        "outputId": "6934bdb7-5765-4210-9e9b-993e2ddfe114"
      },
      "source": [
        "plt.figure(figsize=(18,8))\n",
        "sns.barplot(data=df_acci_gu[df_acci_gu['구']!='미분류'],\n",
        "            x='구',\n",
        "            y='사고유형',\n",
        "            hue='연도', palette=\"afmhot_r\")\n",
        "plt.xticks(rotation=90)\n",
        "plt.ylabel('사고 건수', fontdict={'fontsize' : 15})\n",
        "plt.xlabel('서울특별시 자치구', fontdict={'fontsize' : 15})\n",
        "plt.legend(loc='best')\n",
        "plt.show()"
      ],
      "execution_count": 163,
      "outputs": [
        {
          "output_type": "display_data",
          "data": {
            "image/png": "[encoded data removed]",
            "text/plain": [
              "<Figure size 1296x576 with 1 Axes>"
            ]
          },
          "metadata": {
            "needs_background": "light"
          }
        }
      ]
    },
    {
      "cell_type": "code",
      "metadata": {
        "id": "ZGVzd-X0G2Nx"
      },
      "source": [
        "#동별 분석을 위한 groupby\n",
        "df_acci_dong = pd.DataFrame(df_acci.groupby(['연도', '구', '동'])['사고유형'].count())\n",
        "df_acci_dong['연도'] = df_acci_dong.index.get_level_values(0)\n",
        "df_acci_dong['구'] = df_acci_dong.index.get_level_values(1)\n",
        "df_acci_dong['동'] = df_acci_dong.index.get_level_values(2)"
      ],
      "execution_count": 145,
      "outputs": []
    },
    {
      "cell_type": "markdown",
      "metadata": {
        "id": "9k54KfpCGszC"
      },
      "source": [
        "위에서 증가한 세 구(강남구, 관악구, 성동구)만 동별로 다시 살펴보면,\n",
        "1. 강남구는 역삼동, 논현동, 대치동 순으로 건수가 가장 많았으며, 역삼동, 삼성동, 도곡동 순으로 전년대비 증가율이 높았다."
      ]
    },
    {
      "cell_type": "code",
      "metadata": {
        "colab": {
          "base_uri": "https://localhost:8080/",
          "height": 528
        },
        "id": "cTCVWjV8GyGf",
        "outputId": "e37552fa-aa4f-420f-dd24-a54499d0d3bc"
      },
      "source": [
        "plt.figure(figsize=(18,8))\n",
        "sns.barplot(data=df_acci_dong[df_acci_dong['구']=='강남구'],\n",
        "            x='동',\n",
        "            y='사고유형',\n",
        "            hue='연도', palette=\"afmhot_r\")\n",
        "plt.xticks(rotation=90)\n",
        "plt.ylabel('사고 건수', fontdict={'fontsize' : 15})\n",
        "plt.xlabel('강남구', fontdict={'fontsize' : 15})\n",
        "plt.legend(loc='best')\n",
        "plt.show()"
      ],
      "execution_count": 164,
      "outputs": [
        {
          "output_type": "display_data",
          "data": {
            "image/png": "[encoded data removed]",
            "text/plain": [
              "<Figure size 1296x576 with 1 Axes>"
            ]
          },
          "metadata": {
            "needs_background": "light"
          }
        }
      ]
    },
    {
      "cell_type": "markdown",
      "metadata": {
        "id": "VCw2pPr4ICrL"
      },
      "source": [
        "2. 서초구는 서초동, 반포동, 방배동 순으로 건수가 가장 많았으며, 잠원동이 유일하게 전년대비 증가하였다."
      ]
    },
    {
      "cell_type": "code",
      "metadata": {
        "colab": {
          "base_uri": "https://localhost:8080/",
          "height": 519
        },
        "id": "QOxFxJz-IFTu",
        "outputId": "903fbcf4-4b64-420a-d170-163e2bb984e5"
      },
      "source": [
        "plt.figure(figsize=(18,8))\n",
        "sns.barplot(data=df_acci_dong[df_acci_dong['구']=='서초구'],\n",
        "            x='동',\n",
        "            y='사고유형',\n",
        "            hue='연도', palette=\"afmhot_r\")\n",
        "plt.xticks(rotation=90)\n",
        "plt.ylabel('사고 건수', fontdict={'fontsize' : 15})\n",
        "plt.xlabel('서초구', fontdict={'fontsize' : 15})\n",
        "plt.legend(loc='best')\n",
        "plt.show()"
      ],
      "execution_count": 165,
      "outputs": [
        {
          "output_type": "display_data",
          "data": {
            "image/png": "[encoded data removed]",
            "text/plain": [
              "<Figure size 1296x576 with 1 Axes>"
            ]
          },
          "metadata": {
            "needs_background": "light"
          }
        }
      ]
    },
    {
      "cell_type": "markdown",
      "metadata": {
        "id": "H07EVq5CIUs-"
      },
      "source": [
        "3. 성동구는 성수동1가, 2가, 행당동 순으로 건수가 가장 많았으며, 성수동2가와 마장동, 행당동순으로 전년대비 증가율이 높았다. 특히나 성수동2가의 교통사고 증가율은 눈에 띄게 늘었다."
      ]
    },
    {
      "cell_type": "code",
      "metadata": {
        "colab": {
          "base_uri": "https://localhost:8080/",
          "height": 537
        },
        "id": "l8ro5ViLIVu5",
        "outputId": "617b99f6-c067-4c7e-ad82-e859af7e95b7"
      },
      "source": [
        "plt.figure(figsize=(18,8))\n",
        "sns.barplot(data=df_acci_dong[df_acci_dong['구']=='성동구'],\n",
        "            x='동',\n",
        "            y='사고유형',\n",
        "            hue='연도', palette=\"afmhot_r\")\n",
        "plt.xticks(rotation=90)\n",
        "plt.ylabel('사고 건수', fontdict={'fontsize' : 15})\n",
        "plt.xlabel('성동구', fontdict={'fontsize' : 15})\n",
        "plt.legend(loc='best')\n",
        "plt.show()"
      ],
      "execution_count": 166,
      "outputs": [
        {
          "output_type": "display_data",
          "data": {
            "image/png": "[encoded data removed]",
            "text/plain": [
              "<Figure size 1296x576 with 1 Axes>"
            ]
          },
          "metadata": {
            "needs_background": "light"
          }
        }
      ]
    },
    {
      "cell_type": "markdown",
      "metadata": {
        "id": "uOFu22Vqx_Kf"
      },
      "source": [
        "## 2. 도로 및 건물 특성에 따른 사고 발생\n",
        "\n",
        "1.에서 살펴본 것과 같이 행정구역, 위치별로 발생하는 교통사고의 특성의 차이가 있음.  \n",
        "고속도로는 도로위의 주체가 모두 차량이라서 사고가 발생하는 위치를 파악하는 것만으로도 대응하기 편하지만 시내교통은 다름.  \n",
        "단순히 사고 발생이 많다는 것을 확인하는 것 뿐만 아니라 왜 사고가 발생하는지 다양한 예상 원인을 확인할 필요가 있음.  \n",
        "\n",
        "먼저 도로 자체의 특성이나 주변 건물 특성에 따른 사고의 차이를 확인하려고 함. 계획된 도시는 건물과 도로를 함께 계획. 오래된 도시는 도로는 그대로인데, 주변 건물이 발달하면서 도로 정체가 심해지고 사고 발생 위험이 커질 수 있음. \n",
        "\n"
      ]
    },
    {
      "cell_type": "markdown",
      "metadata": {
        "id": "KsuZ7PBrx_Kg"
      },
      "source": [
        "### 2.1. 도로 면적에 따른 차이\n",
        "\n",
        "새롭게 만들어진 지역은 상대적으로 도로가 넓고 잘 정비되어 있음. "
      ]
    },
    {
      "cell_type": "code",
      "metadata": {
        "id": "b2Jzvwssx_Kg",
        "outputId": "887c9532-c6f3-47d8-db4c-e0790cf16e57"
      },
      "source": [
        "# 자치구별 도로 면적 및 폭별 연장\n",
        "df_road = pd.read_csv('../data/road.csv', encoding='UTF-8')\n",
        "df_road.drop(0,axis=0,inplace=True)\n",
        "df_road = df_road.sort_values(by='자치구')\n",
        "df_road.reset_index(drop=True, inplace=True)"
      ],
      "execution_count": null,
      "outputs": [
        {
          "data": {
            "text/html": [
              "<div>\n",
              "<style scoped>\n",
              "    .dataframe tbody tr th:only-of-type {\n",
              "        vertical-align: middle;\n",
              "    }\n",
              "\n",
              "    .dataframe tbody tr th {\n",
              "        vertical-align: top;\n",
              "    }\n",
              "\n",
              "    .dataframe thead th {\n",
              "        text-align: right;\n",
              "    }\n",
              "</style>\n",
              "<table border=\"1\" class=\"dataframe\">\n",
              "  <thead>\n",
              "    <tr style=\"text-align: right;\">\n",
              "      <th></th>\n",
              "      <th>자치구</th>\n",
              "      <th>연장</th>\n",
              "      <th>면적</th>\n",
              "      <th>광로</th>\n",
              "      <th>대로</th>\n",
              "      <th>중로</th>\n",
              "      <th>소로</th>\n",
              "    </tr>\n",
              "  </thead>\n",
              "  <tbody>\n",
              "    <tr>\n",
              "      <th>0</th>\n",
              "      <td>강남구</td>\n",
              "      <td>434999</td>\n",
              "      <td>5698444</td>\n",
              "      <td>35575</td>\n",
              "      <td>30825</td>\n",
              "      <td>63721</td>\n",
              "      <td>304878</td>\n",
              "    </tr>\n",
              "    <tr>\n",
              "      <th>1</th>\n",
              "      <td>강동구</td>\n",
              "      <td>290189</td>\n",
              "      <td>3541933</td>\n",
              "      <td>13462</td>\n",
              "      <td>27456</td>\n",
              "      <td>42777</td>\n",
              "      <td>206494</td>\n",
              "    </tr>\n",
              "    <tr>\n",
              "      <th>2</th>\n",
              "      <td>강북구</td>\n",
              "      <td>227266</td>\n",
              "      <td>1982644</td>\n",
              "      <td>0</td>\n",
              "      <td>15923</td>\n",
              "      <td>30408</td>\n",
              "      <td>180935</td>\n",
              "    </tr>\n",
              "    <tr>\n",
              "      <th>3</th>\n",
              "      <td>강서구</td>\n",
              "      <td>410852</td>\n",
              "      <td>5032589</td>\n",
              "      <td>24369</td>\n",
              "      <td>45649</td>\n",
              "      <td>66911</td>\n",
              "      <td>273923</td>\n",
              "    </tr>\n",
              "    <tr>\n",
              "      <th>4</th>\n",
              "      <td>관악구</td>\n",
              "      <td>322203</td>\n",
              "      <td>3028487</td>\n",
              "      <td>11597</td>\n",
              "      <td>15485</td>\n",
              "      <td>30437</td>\n",
              "      <td>264684</td>\n",
              "    </tr>\n",
              "    <tr>\n",
              "      <th>5</th>\n",
              "      <td>광진구</td>\n",
              "      <td>324615</td>\n",
              "      <td>3436438</td>\n",
              "      <td>3700</td>\n",
              "      <td>30458</td>\n",
              "      <td>23288</td>\n",
              "      <td>267169</td>\n",
              "    </tr>\n",
              "    <tr>\n",
              "      <th>6</th>\n",
              "      <td>구로구</td>\n",
              "      <td>294701</td>\n",
              "      <td>3177759</td>\n",
              "      <td>9197</td>\n",
              "      <td>32898</td>\n",
              "      <td>28740</td>\n",
              "      <td>223866</td>\n",
              "    </tr>\n",
              "    <tr>\n",
              "      <th>7</th>\n",
              "      <td>금천구</td>\n",
              "      <td>190998</td>\n",
              "      <td>2252507</td>\n",
              "      <td>6809</td>\n",
              "      <td>9569</td>\n",
              "      <td>39494</td>\n",
              "      <td>135126</td>\n",
              "    </tr>\n",
              "    <tr>\n",
              "      <th>8</th>\n",
              "      <td>노원구</td>\n",
              "      <td>296279</td>\n",
              "      <td>3841026</td>\n",
              "      <td>0</td>\n",
              "      <td>55479</td>\n",
              "      <td>54457</td>\n",
              "      <td>186343</td>\n",
              "    </tr>\n",
              "    <tr>\n",
              "      <th>9</th>\n",
              "      <td>도봉구</td>\n",
              "      <td>257745</td>\n",
              "      <td>2354214</td>\n",
              "      <td>5900</td>\n",
              "      <td>17075</td>\n",
              "      <td>24716</td>\n",
              "      <td>210054</td>\n",
              "    </tr>\n",
              "    <tr>\n",
              "      <th>10</th>\n",
              "      <td>동대문구</td>\n",
              "      <td>327668</td>\n",
              "      <td>3151074</td>\n",
              "      <td>4300</td>\n",
              "      <td>35819</td>\n",
              "      <td>35093</td>\n",
              "      <td>252456</td>\n",
              "    </tr>\n",
              "    <tr>\n",
              "      <th>11</th>\n",
              "      <td>동작구</td>\n",
              "      <td>248238</td>\n",
              "      <td>2734186</td>\n",
              "      <td>10619</td>\n",
              "      <td>14939</td>\n",
              "      <td>37318</td>\n",
              "      <td>185362</td>\n",
              "    </tr>\n",
              "    <tr>\n",
              "      <th>12</th>\n",
              "      <td>마포구</td>\n",
              "      <td>421328</td>\n",
              "      <td>4088471</td>\n",
              "      <td>12129</td>\n",
              "      <td>35987</td>\n",
              "      <td>44913</td>\n",
              "      <td>328299</td>\n",
              "    </tr>\n",
              "    <tr>\n",
              "      <th>13</th>\n",
              "      <td>서대문구</td>\n",
              "      <td>311206</td>\n",
              "      <td>2744932</td>\n",
              "      <td>5917</td>\n",
              "      <td>28429</td>\n",
              "      <td>24288</td>\n",
              "      <td>252572</td>\n",
              "    </tr>\n",
              "    <tr>\n",
              "      <th>14</th>\n",
              "      <td>서초구</td>\n",
              "      <td>396500</td>\n",
              "      <td>5789862</td>\n",
              "      <td>31450</td>\n",
              "      <td>34040</td>\n",
              "      <td>37140</td>\n",
              "      <td>293870</td>\n",
              "    </tr>\n",
              "    <tr>\n",
              "      <th>15</th>\n",
              "      <td>성동구</td>\n",
              "      <td>408339</td>\n",
              "      <td>3024659</td>\n",
              "      <td>4370</td>\n",
              "      <td>21185</td>\n",
              "      <td>48600</td>\n",
              "      <td>334184</td>\n",
              "    </tr>\n",
              "    <tr>\n",
              "      <th>16</th>\n",
              "      <td>성북구</td>\n",
              "      <td>632634</td>\n",
              "      <td>4225186</td>\n",
              "      <td>1744</td>\n",
              "      <td>32135</td>\n",
              "      <td>50647</td>\n",
              "      <td>548108</td>\n",
              "    </tr>\n",
              "    <tr>\n",
              "      <th>17</th>\n",
              "      <td>송파구</td>\n",
              "      <td>370004</td>\n",
              "      <td>4953894</td>\n",
              "      <td>21628</td>\n",
              "      <td>48134</td>\n",
              "      <td>50595</td>\n",
              "      <td>249647</td>\n",
              "    </tr>\n",
              "    <tr>\n",
              "      <th>18</th>\n",
              "      <td>양천구</td>\n",
              "      <td>404774</td>\n",
              "      <td>3623827</td>\n",
              "      <td>7208</td>\n",
              "      <td>28592</td>\n",
              "      <td>13378</td>\n",
              "      <td>355596</td>\n",
              "    </tr>\n",
              "    <tr>\n",
              "      <th>19</th>\n",
              "      <td>영등포구</td>\n",
              "      <td>390123</td>\n",
              "      <td>4438303</td>\n",
              "      <td>6860</td>\n",
              "      <td>55026</td>\n",
              "      <td>41100</td>\n",
              "      <td>287137</td>\n",
              "    </tr>\n",
              "    <tr>\n",
              "      <th>20</th>\n",
              "      <td>용산구</td>\n",
              "      <td>281073</td>\n",
              "      <td>3154983</td>\n",
              "      <td>11678</td>\n",
              "      <td>43379</td>\n",
              "      <td>27923</td>\n",
              "      <td>198093</td>\n",
              "    </tr>\n",
              "    <tr>\n",
              "      <th>21</th>\n",
              "      <td>은평구</td>\n",
              "      <td>357986</td>\n",
              "      <td>3500664</td>\n",
              "      <td>1450</td>\n",
              "      <td>35509</td>\n",
              "      <td>45524</td>\n",
              "      <td>275503</td>\n",
              "    </tr>\n",
              "    <tr>\n",
              "      <th>22</th>\n",
              "      <td>종로구</td>\n",
              "      <td>275701</td>\n",
              "      <td>2701070</td>\n",
              "      <td>7950</td>\n",
              "      <td>23872</td>\n",
              "      <td>31721</td>\n",
              "      <td>212158</td>\n",
              "    </tr>\n",
              "    <tr>\n",
              "      <th>23</th>\n",
              "      <td>중구</td>\n",
              "      <td>114233</td>\n",
              "      <td>1876189</td>\n",
              "      <td>9002</td>\n",
              "      <td>16722</td>\n",
              "      <td>20006</td>\n",
              "      <td>68502</td>\n",
              "    </tr>\n",
              "    <tr>\n",
              "      <th>24</th>\n",
              "      <td>중랑구</td>\n",
              "      <td>334013</td>\n",
              "      <td>2941864</td>\n",
              "      <td>0</td>\n",
              "      <td>32496</td>\n",
              "      <td>45709</td>\n",
              "      <td>255808</td>\n",
              "    </tr>\n",
              "  </tbody>\n",
              "</table>\n",
              "</div>"
            ],
            "text/plain": [
              "     자치구      연장       면적     광로     대로     중로      소로\n",
              "0    강남구  434999  5698444  35575  30825  63721  304878\n",
              "1    강동구  290189  3541933  13462  27456  42777  206494\n",
              "2    강북구  227266  1982644      0  15923  30408  180935\n",
              "3    강서구  410852  5032589  24369  45649  66911  273923\n",
              "4    관악구  322203  3028487  11597  15485  30437  264684\n",
              "5    광진구  324615  3436438   3700  30458  23288  267169\n",
              "6    구로구  294701  3177759   9197  32898  28740  223866\n",
              "7    금천구  190998  2252507   6809   9569  39494  135126\n",
              "8    노원구  296279  3841026      0  55479  54457  186343\n",
              "9    도봉구  257745  2354214   5900  17075  24716  210054\n",
              "10  동대문구  327668  3151074   4300  35819  35093  252456\n",
              "11   동작구  248238  2734186  10619  14939  37318  185362\n",
              "12   마포구  421328  4088471  12129  35987  44913  328299\n",
              "13  서대문구  311206  2744932   5917  28429  24288  252572\n",
              "14   서초구  396500  5789862  31450  34040  37140  293870\n",
              "15   성동구  408339  3024659   4370  21185  48600  334184\n",
              "16   성북구  632634  4225186   1744  32135  50647  548108\n",
              "17   송파구  370004  4953894  21628  48134  50595  249647\n",
              "18   양천구  404774  3623827   7208  28592  13378  355596\n",
              "19  영등포구  390123  4438303   6860  55026  41100  287137\n",
              "20   용산구  281073  3154983  11678  43379  27923  198093\n",
              "21   은평구  357986  3500664   1450  35509  45524  275503\n",
              "22   종로구  275701  2701070   7950  23872  31721  212158\n",
              "23    중구  114233  1876189   9002  16722  20006   68502\n",
              "24   중랑구  334013  2941864      0  32496  45709  255808"
            ]
          },
          "execution_count": 14,
          "metadata": {},
          "output_type": "execute_result"
        }
      ]
    },
    {
      "cell_type": "code",
      "metadata": {
        "id": "2boPt8RGx_Kg"
      },
      "source": [
        "# 전체 사고건수\n",
        "df_temp = pd.DataFrame(pd.pivot_table(df_acci[(df_acci['연도']==2020)],\n",
        "                                                index= '구',\n",
        "                                                values='사고유형',\n",
        "                                                aggfunc='count'))['사고유형']\n",
        "df_temp.reset_index(drop=True, inplace=True)\n"
      ],
      "execution_count": null,
      "outputs": []
    },
    {
      "cell_type": "code",
      "metadata": {
        "id": "bQLs9KG_x_Kh"
      },
      "source": [
        "# 이륜사고건수\n",
        "df_temp2 = pd.DataFrame(pd.pivot_table(df_acci[(df_acci['연도']==2020)&df_acci['가해운전자 차종'].isin(['이륜','원동기','자전거','개인형이동수단(PM)'])],\n",
        "                                                index= '구',\n",
        "                                                values='사고유형',\n",
        "                                                aggfunc='count'))\n",
        "df_temp2.reset_index(drop=True, inplace=True)\n",
        "df_temp2.rename(columns = {'사고유형':'이륜사고건수'}, inplace=True)\n"
      ],
      "execution_count": null,
      "outputs": []
    },
    {
      "cell_type": "code",
      "metadata": {
        "id": "16tc-An-x_Kh",
        "outputId": "88b05eab-4e67-48c6-8f43-23c6b8fbd784"
      },
      "source": [
        "df_road2 = pd.concat([df_road, df_temp, df_temp2], axis=1) \n",
        "df_road2.rename(columns = {'사고유형':'사고건수'}, inplace=True)\n",
        "df_road2\n"
      ],
      "execution_count": null,
      "outputs": [
        {
          "data": {
            "text/html": [
              "<div>\n",
              "<style scoped>\n",
              "    .dataframe tbody tr th:only-of-type {\n",
              "        vertical-align: middle;\n",
              "    }\n",
              "\n",
              "    .dataframe tbody tr th {\n",
              "        vertical-align: top;\n",
              "    }\n",
              "\n",
              "    .dataframe thead th {\n",
              "        text-align: right;\n",
              "    }\n",
              "</style>\n",
              "<table border=\"1\" class=\"dataframe\">\n",
              "  <thead>\n",
              "    <tr style=\"text-align: right;\">\n",
              "      <th></th>\n",
              "      <th>자치구</th>\n",
              "      <th>연장</th>\n",
              "      <th>면적</th>\n",
              "      <th>광로</th>\n",
              "      <th>대로</th>\n",
              "      <th>중로</th>\n",
              "      <th>소로</th>\n",
              "      <th>사고건수</th>\n",
              "      <th>이륜사고건수</th>\n",
              "    </tr>\n",
              "  </thead>\n",
              "  <tbody>\n",
              "    <tr>\n",
              "      <th>0</th>\n",
              "      <td>강남구</td>\n",
              "      <td>434999</td>\n",
              "      <td>5698444</td>\n",
              "      <td>35575</td>\n",
              "      <td>30825</td>\n",
              "      <td>63721</td>\n",
              "      <td>304878</td>\n",
              "      <td>3752</td>\n",
              "      <td>527</td>\n",
              "    </tr>\n",
              "    <tr>\n",
              "      <th>1</th>\n",
              "      <td>강동구</td>\n",
              "      <td>290189</td>\n",
              "      <td>3541933</td>\n",
              "      <td>13462</td>\n",
              "      <td>27456</td>\n",
              "      <td>42777</td>\n",
              "      <td>206494</td>\n",
              "      <td>1268</td>\n",
              "      <td>216</td>\n",
              "    </tr>\n",
              "    <tr>\n",
              "      <th>2</th>\n",
              "      <td>강북구</td>\n",
              "      <td>227266</td>\n",
              "      <td>1982644</td>\n",
              "      <td>0</td>\n",
              "      <td>15923</td>\n",
              "      <td>30408</td>\n",
              "      <td>180935</td>\n",
              "      <td>1087</td>\n",
              "      <td>252</td>\n",
              "    </tr>\n",
              "    <tr>\n",
              "      <th>3</th>\n",
              "      <td>강서구</td>\n",
              "      <td>410852</td>\n",
              "      <td>5032589</td>\n",
              "      <td>24369</td>\n",
              "      <td>45649</td>\n",
              "      <td>66911</td>\n",
              "      <td>273923</td>\n",
              "      <td>1575</td>\n",
              "      <td>309</td>\n",
              "    </tr>\n",
              "    <tr>\n",
              "      <th>4</th>\n",
              "      <td>관악구</td>\n",
              "      <td>322203</td>\n",
              "      <td>3028487</td>\n",
              "      <td>11597</td>\n",
              "      <td>15485</td>\n",
              "      <td>30437</td>\n",
              "      <td>264684</td>\n",
              "      <td>1444</td>\n",
              "      <td>287</td>\n",
              "    </tr>\n",
              "    <tr>\n",
              "      <th>5</th>\n",
              "      <td>광진구</td>\n",
              "      <td>324615</td>\n",
              "      <td>3436438</td>\n",
              "      <td>3700</td>\n",
              "      <td>30458</td>\n",
              "      <td>23288</td>\n",
              "      <td>267169</td>\n",
              "      <td>869</td>\n",
              "      <td>202</td>\n",
              "    </tr>\n",
              "    <tr>\n",
              "      <th>6</th>\n",
              "      <td>구로구</td>\n",
              "      <td>294701</td>\n",
              "      <td>3177759</td>\n",
              "      <td>9197</td>\n",
              "      <td>32898</td>\n",
              "      <td>28740</td>\n",
              "      <td>223866</td>\n",
              "      <td>1325</td>\n",
              "      <td>248</td>\n",
              "    </tr>\n",
              "    <tr>\n",
              "      <th>7</th>\n",
              "      <td>금천구</td>\n",
              "      <td>190998</td>\n",
              "      <td>2252507</td>\n",
              "      <td>6809</td>\n",
              "      <td>9569</td>\n",
              "      <td>39494</td>\n",
              "      <td>135126</td>\n",
              "      <td>810</td>\n",
              "      <td>148</td>\n",
              "    </tr>\n",
              "    <tr>\n",
              "      <th>8</th>\n",
              "      <td>노원구</td>\n",
              "      <td>296279</td>\n",
              "      <td>3841026</td>\n",
              "      <td>0</td>\n",
              "      <td>55479</td>\n",
              "      <td>54457</td>\n",
              "      <td>186343</td>\n",
              "      <td>1462</td>\n",
              "      <td>303</td>\n",
              "    </tr>\n",
              "    <tr>\n",
              "      <th>9</th>\n",
              "      <td>도봉구</td>\n",
              "      <td>257745</td>\n",
              "      <td>2354214</td>\n",
              "      <td>5900</td>\n",
              "      <td>17075</td>\n",
              "      <td>24716</td>\n",
              "      <td>210054</td>\n",
              "      <td>741</td>\n",
              "      <td>187</td>\n",
              "    </tr>\n",
              "    <tr>\n",
              "      <th>10</th>\n",
              "      <td>동대문구</td>\n",
              "      <td>327668</td>\n",
              "      <td>3151074</td>\n",
              "      <td>4300</td>\n",
              "      <td>35819</td>\n",
              "      <td>35093</td>\n",
              "      <td>252456</td>\n",
              "      <td>1448</td>\n",
              "      <td>414</td>\n",
              "    </tr>\n",
              "    <tr>\n",
              "      <th>11</th>\n",
              "      <td>동작구</td>\n",
              "      <td>248238</td>\n",
              "      <td>2734186</td>\n",
              "      <td>10619</td>\n",
              "      <td>14939</td>\n",
              "      <td>37318</td>\n",
              "      <td>185362</td>\n",
              "      <td>1307</td>\n",
              "      <td>315</td>\n",
              "    </tr>\n",
              "    <tr>\n",
              "      <th>12</th>\n",
              "      <td>마포구</td>\n",
              "      <td>421328</td>\n",
              "      <td>4088471</td>\n",
              "      <td>12129</td>\n",
              "      <td>35987</td>\n",
              "      <td>44913</td>\n",
              "      <td>328299</td>\n",
              "      <td>1272</td>\n",
              "      <td>237</td>\n",
              "    </tr>\n",
              "    <tr>\n",
              "      <th>13</th>\n",
              "      <td>서대문구</td>\n",
              "      <td>311206</td>\n",
              "      <td>2744932</td>\n",
              "      <td>5917</td>\n",
              "      <td>28429</td>\n",
              "      <td>24288</td>\n",
              "      <td>252572</td>\n",
              "      <td>928</td>\n",
              "      <td>195</td>\n",
              "    </tr>\n",
              "    <tr>\n",
              "      <th>14</th>\n",
              "      <td>서초구</td>\n",
              "      <td>396500</td>\n",
              "      <td>5789862</td>\n",
              "      <td>31450</td>\n",
              "      <td>34040</td>\n",
              "      <td>37140</td>\n",
              "      <td>293870</td>\n",
              "      <td>2250</td>\n",
              "      <td>273</td>\n",
              "    </tr>\n",
              "    <tr>\n",
              "      <th>15</th>\n",
              "      <td>성동구</td>\n",
              "      <td>408339</td>\n",
              "      <td>3024659</td>\n",
              "      <td>4370</td>\n",
              "      <td>21185</td>\n",
              "      <td>48600</td>\n",
              "      <td>334184</td>\n",
              "      <td>1119</td>\n",
              "      <td>256</td>\n",
              "    </tr>\n",
              "    <tr>\n",
              "      <th>16</th>\n",
              "      <td>성북구</td>\n",
              "      <td>632634</td>\n",
              "      <td>4225186</td>\n",
              "      <td>1744</td>\n",
              "      <td>32135</td>\n",
              "      <td>50647</td>\n",
              "      <td>548108</td>\n",
              "      <td>1275</td>\n",
              "      <td>233</td>\n",
              "    </tr>\n",
              "    <tr>\n",
              "      <th>17</th>\n",
              "      <td>송파구</td>\n",
              "      <td>370004</td>\n",
              "      <td>4953894</td>\n",
              "      <td>21628</td>\n",
              "      <td>48134</td>\n",
              "      <td>50595</td>\n",
              "      <td>249647</td>\n",
              "      <td>2595</td>\n",
              "      <td>560</td>\n",
              "    </tr>\n",
              "    <tr>\n",
              "      <th>18</th>\n",
              "      <td>양천구</td>\n",
              "      <td>404774</td>\n",
              "      <td>3623827</td>\n",
              "      <td>7208</td>\n",
              "      <td>28592</td>\n",
              "      <td>13378</td>\n",
              "      <td>355596</td>\n",
              "      <td>1344</td>\n",
              "      <td>212</td>\n",
              "    </tr>\n",
              "    <tr>\n",
              "      <th>19</th>\n",
              "      <td>영등포구</td>\n",
              "      <td>390123</td>\n",
              "      <td>4438303</td>\n",
              "      <td>6860</td>\n",
              "      <td>55026</td>\n",
              "      <td>41100</td>\n",
              "      <td>287137</td>\n",
              "      <td>2208</td>\n",
              "      <td>511</td>\n",
              "    </tr>\n",
              "    <tr>\n",
              "      <th>20</th>\n",
              "      <td>용산구</td>\n",
              "      <td>281073</td>\n",
              "      <td>3154983</td>\n",
              "      <td>11678</td>\n",
              "      <td>43379</td>\n",
              "      <td>27923</td>\n",
              "      <td>198093</td>\n",
              "      <td>890</td>\n",
              "      <td>117</td>\n",
              "    </tr>\n",
              "    <tr>\n",
              "      <th>21</th>\n",
              "      <td>은평구</td>\n",
              "      <td>357986</td>\n",
              "      <td>3500664</td>\n",
              "      <td>1450</td>\n",
              "      <td>35509</td>\n",
              "      <td>45524</td>\n",
              "      <td>275503</td>\n",
              "      <td>953</td>\n",
              "      <td>196</td>\n",
              "    </tr>\n",
              "    <tr>\n",
              "      <th>22</th>\n",
              "      <td>종로구</td>\n",
              "      <td>275701</td>\n",
              "      <td>2701070</td>\n",
              "      <td>7950</td>\n",
              "      <td>23872</td>\n",
              "      <td>31721</td>\n",
              "      <td>212158</td>\n",
              "      <td>903</td>\n",
              "      <td>155</td>\n",
              "    </tr>\n",
              "    <tr>\n",
              "      <th>23</th>\n",
              "      <td>중구</td>\n",
              "      <td>114233</td>\n",
              "      <td>1876189</td>\n",
              "      <td>9002</td>\n",
              "      <td>16722</td>\n",
              "      <td>20006</td>\n",
              "      <td>68502</td>\n",
              "      <td>955</td>\n",
              "      <td>172</td>\n",
              "    </tr>\n",
              "    <tr>\n",
              "      <th>24</th>\n",
              "      <td>중랑구</td>\n",
              "      <td>334013</td>\n",
              "      <td>2941864</td>\n",
              "      <td>0</td>\n",
              "      <td>32496</td>\n",
              "      <td>45709</td>\n",
              "      <td>255808</td>\n",
              "      <td>1447</td>\n",
              "      <td>358</td>\n",
              "    </tr>\n",
              "  </tbody>\n",
              "</table>\n",
              "</div>"
            ],
            "text/plain": [
              "     자치구      연장       면적     광로     대로     중로      소로  사고건수  이륜사고건수\n",
              "0    강남구  434999  5698444  35575  30825  63721  304878  3752     527\n",
              "1    강동구  290189  3541933  13462  27456  42777  206494  1268     216\n",
              "2    강북구  227266  1982644      0  15923  30408  180935  1087     252\n",
              "3    강서구  410852  5032589  24369  45649  66911  273923  1575     309\n",
              "4    관악구  322203  3028487  11597  15485  30437  264684  1444     287\n",
              "5    광진구  324615  3436438   3700  30458  23288  267169   869     202\n",
              "6    구로구  294701  3177759   9197  32898  28740  223866  1325     248\n",
              "7    금천구  190998  2252507   6809   9569  39494  135126   810     148\n",
              "8    노원구  296279  3841026      0  55479  54457  186343  1462     303\n",
              "9    도봉구  257745  2354214   5900  17075  24716  210054   741     187\n",
              "10  동대문구  327668  3151074   4300  35819  35093  252456  1448     414\n",
              "11   동작구  248238  2734186  10619  14939  37318  185362  1307     315\n",
              "12   마포구  421328  4088471  12129  35987  44913  328299  1272     237\n",
              "13  서대문구  311206  2744932   5917  28429  24288  252572   928     195\n",
              "14   서초구  396500  5789862  31450  34040  37140  293870  2250     273\n",
              "15   성동구  408339  3024659   4370  21185  48600  334184  1119     256\n",
              "16   성북구  632634  4225186   1744  32135  50647  548108  1275     233\n",
              "17   송파구  370004  4953894  21628  48134  50595  249647  2595     560\n",
              "18   양천구  404774  3623827   7208  28592  13378  355596  1344     212\n",
              "19  영등포구  390123  4438303   6860  55026  41100  287137  2208     511\n",
              "20   용산구  281073  3154983  11678  43379  27923  198093   890     117\n",
              "21   은평구  357986  3500664   1450  35509  45524  275503   953     196\n",
              "22   종로구  275701  2701070   7950  23872  31721  212158   903     155\n",
              "23    중구  114233  1876189   9002  16722  20006   68502   955     172\n",
              "24   중랑구  334013  2941864      0  32496  45709  255808  1447     358"
            ]
          },
          "execution_count": 20,
          "metadata": {},
          "output_type": "execute_result"
        }
      ]
    },
    {
      "cell_type": "markdown",
      "metadata": {
        "id": "IY_OteIwx_Kh"
      },
      "source": [
        "\n",
        "너무나 당연하게도 전반적으로 도로의 면적이 넓을 수록, 사고 건수가 많은 것을 확인할 수 있습니다.\n",
        "`이거 점 대신 글자로 찍는거 loop를 쓸 수밖에 없나요?`\n",
        "\n"
      ]
    },
    {
      "cell_type": "code",
      "metadata": {
        "id": "isYGMPi1x_Kh",
        "outputId": "bb643394-8a91-4e4e-c606-2f7ff71830a2"
      },
      "source": [
        "# 산점도1\n",
        "sns.scatterplot(data=df_road2, x=\"면적\", y=\"사고건수\", )"
      ],
      "execution_count": null,
      "outputs": [
        {
          "data": {
            "text/plain": [
              "<AxesSubplot:xlabel='면적', ylabel='사고건수'>"
            ]
          },
          "execution_count": 22,
          "metadata": {},
          "output_type": "execute_result"
        },
        {
          "data": {
            "image/png": "[encoded data removed]",
            "text/plain": [
              "<Figure size 432x288 with 1 Axes>"
            ]
          },
          "metadata": {
            "needs_background": "light"
          },
          "output_type": "display_data"
        }
      ]
    },
    {
      "cell_type": "markdown",
      "metadata": {
        "id": "sarzAlJPx_Kh"
      },
      "source": [
        "그런데 이륜 관련 사고건수만 살펴보면, 도로 면적과는 일부 관계가 있어보이지만, 도로의 폭과는 큰 관계가 없어보임.  \n"
      ]
    },
    {
      "cell_type": "code",
      "metadata": {
        "id": "UVCuCBn1x_Ki",
        "outputId": "3fbd1dfa-30ee-442d-c245-1c942f9b8c7f"
      },
      "source": [
        "# pairplot\n",
        "sns.pairplot(df_road2.iloc[:,[8,2,3,4,5,6]])\n"
      ],
      "execution_count": null,
      "outputs": [
        {
          "data": {
            "text/plain": [
              "<seaborn.axisgrid.PairGrid at 0x126cf29ad90>"
            ]
          },
          "execution_count": 23,
          "metadata": {},
          "output_type": "execute_result"
        },
        {
          "data": {
            "image/png": "[encoded data removed]",
            "text/plain": [
              "<Figure size 1080x1080 with 42 Axes>"
            ]
          },
          "metadata": {
            "needs_background": "light"
          },
          "output_type": "display_data"
        }
      ]
    },
    {
      "cell_type": "code",
      "metadata": {
        "id": "lHArxqoDx_Ki"
      },
      "source": [
        "df_new = pd.DataFrame(df_acci[(df_acci['연도']==2020) & (df_acci['가해운전자 차종'].isin(['이륜','원동기','자전거','개인형이동수단(PM)'])) & df_acci['피해운전자 차종'].isin(['보행자','승용','이륜','자전거'])])\n",
        "df_agg1 = pd.pivot_table(df_new,\n",
        "               index = ['구'], \n",
        "               columns=['피해운전자 차종'], values='사고유형', aggfunc='count')\n",
        "\n",
        "# df_new"
      ],
      "execution_count": null,
      "outputs": []
    },
    {
      "cell_type": "code",
      "metadata": {
        "id": "ffYTNEqhx_Ki",
        "outputId": "8d3afb1e-089d-4e3f-9c9b-a2d598613dd9"
      },
      "source": [
        "df_agg1.reset_index(drop=True, inplace=True)\n",
        "df_road3 = pd.concat([df_road.iloc[:,[0, 3,4,5,6]], df_agg1], axis=1) \n",
        "df_road3\n",
        "\n",
        "sns.pairplot(df_road3, x_vars=['광로', '대로', '중로', '소로'], y_vars=['보행자','승용','이륜','자전거'])\n",
        "\n"
      ],
      "execution_count": null,
      "outputs": [
        {
          "data": {
            "text/plain": [
              "<seaborn.axisgrid.PairGrid at 0x126d3d7b4c0>"
            ]
          },
          "execution_count": 27,
          "metadata": {},
          "output_type": "execute_result"
        },
        {
          "data": {
            "image/png": "[encoded data removed]",
            "text/plain": [
              "<Figure size 720x720 with 16 Axes>"
            ]
          },
          "metadata": {
            "needs_background": "light"
          },
          "output_type": "display_data"
        }
      ]
    },
    {
      "cell_type": "code",
      "metadata": {
        "id": "cgxdMGGXx_Kj",
        "outputId": "652ea625-022d-4b6d-c1a3-8d1d1e22d9c2"
      },
      "source": [
        "# df_agg1[['보행자', '승용', '이륜', '자전거']] = df_agg1[['보행자', '승용', '이륜', '자전거']].apply(lambda x: x/x.sum(), axis=1)\n",
        "# df_agg1.reset_index(drop=True, inplace=True)\n",
        "\n",
        "# df_road[['광로R', '대로R', '중로R', '소로R']] = df_road[['광로', '대로', '중로', '소로']].apply(lambda x: x/x.sum(), axis=1)\n",
        "\n",
        "# df_road3 = pd.concat([df_road.iloc[:,[0, 7,8,9,10]], df_agg1], axis=1) \n",
        "# # df_road2.rename(columns = {'사고유형':'사고건수'}, inplace=True)\n",
        "# df_road3\n",
        "\n",
        "# # pairplot\n",
        "# sns.pairplot(df_road3.iloc[:,1:9], x_vars=['광로R', '대로R', '중로R', '소로R'], y_vars=['보행자','승용','이륜','자전거'])\n",
        "\n"
      ],
      "execution_count": null,
      "outputs": [
        {
          "data": {
            "text/html": [
              "<div>\n",
              "<style scoped>\n",
              "    .dataframe tbody tr th:only-of-type {\n",
              "        vertical-align: middle;\n",
              "    }\n",
              "\n",
              "    .dataframe tbody tr th {\n",
              "        vertical-align: top;\n",
              "    }\n",
              "\n",
              "    .dataframe thead th {\n",
              "        text-align: right;\n",
              "    }\n",
              "</style>\n",
              "<table border=\"1\" class=\"dataframe\">\n",
              "  <thead>\n",
              "    <tr style=\"text-align: right;\">\n",
              "      <th></th>\n",
              "      <th>자치구</th>\n",
              "      <th>광로R</th>\n",
              "      <th>대로R</th>\n",
              "      <th>중로R</th>\n",
              "      <th>소로R</th>\n",
              "      <th>보행자</th>\n",
              "      <th>승용</th>\n",
              "      <th>이륜</th>\n",
              "      <th>자전거</th>\n",
              "    </tr>\n",
              "  </thead>\n",
              "  <tbody>\n",
              "    <tr>\n",
              "      <th>0</th>\n",
              "      <td>강남구</td>\n",
              "      <td>0.081782</td>\n",
              "      <td>0.070862</td>\n",
              "      <td>0.146485</td>\n",
              "      <td>0.700871</td>\n",
              "      <td>0.213823</td>\n",
              "      <td>0.611231</td>\n",
              "      <td>0.082073</td>\n",
              "      <td>0.092873</td>\n",
              "    </tr>\n",
              "    <tr>\n",
              "      <th>1</th>\n",
              "      <td>강동구</td>\n",
              "      <td>0.046390</td>\n",
              "      <td>0.094614</td>\n",
              "      <td>0.147411</td>\n",
              "      <td>0.711585</td>\n",
              "      <td>0.356757</td>\n",
              "      <td>0.345946</td>\n",
              "      <td>0.135135</td>\n",
              "      <td>0.162162</td>\n",
              "    </tr>\n",
              "    <tr>\n",
              "      <th>2</th>\n",
              "      <td>강북구</td>\n",
              "      <td>0.000000</td>\n",
              "      <td>0.070063</td>\n",
              "      <td>0.133799</td>\n",
              "      <td>0.796138</td>\n",
              "      <td>0.207547</td>\n",
              "      <td>0.584906</td>\n",
              "      <td>0.174528</td>\n",
              "      <td>0.033019</td>\n",
              "    </tr>\n",
              "    <tr>\n",
              "      <th>3</th>\n",
              "      <td>강서구</td>\n",
              "      <td>0.059313</td>\n",
              "      <td>0.111108</td>\n",
              "      <td>0.162859</td>\n",
              "      <td>0.666719</td>\n",
              "      <td>0.202429</td>\n",
              "      <td>0.534413</td>\n",
              "      <td>0.145749</td>\n",
              "      <td>0.117409</td>\n",
              "    </tr>\n",
              "    <tr>\n",
              "      <th>4</th>\n",
              "      <td>관악구</td>\n",
              "      <td>0.035993</td>\n",
              "      <td>0.048060</td>\n",
              "      <td>0.094465</td>\n",
              "      <td>0.821482</td>\n",
              "      <td>0.254980</td>\n",
              "      <td>0.462151</td>\n",
              "      <td>0.270916</td>\n",
              "      <td>0.011952</td>\n",
              "    </tr>\n",
              "    <tr>\n",
              "      <th>5</th>\n",
              "      <td>광진구</td>\n",
              "      <td>0.011398</td>\n",
              "      <td>0.093828</td>\n",
              "      <td>0.071740</td>\n",
              "      <td>0.823033</td>\n",
              "      <td>0.245399</td>\n",
              "      <td>0.509202</td>\n",
              "      <td>0.122699</td>\n",
              "      <td>0.122699</td>\n",
              "    </tr>\n",
              "    <tr>\n",
              "      <th>6</th>\n",
              "      <td>구로구</td>\n",
              "      <td>0.031208</td>\n",
              "      <td>0.111632</td>\n",
              "      <td>0.097523</td>\n",
              "      <td>0.759638</td>\n",
              "      <td>0.266667</td>\n",
              "      <td>0.574359</td>\n",
              "      <td>0.117949</td>\n",
              "      <td>0.041026</td>\n",
              "    </tr>\n",
              "    <tr>\n",
              "      <th>7</th>\n",
              "      <td>금천구</td>\n",
              "      <td>0.035650</td>\n",
              "      <td>0.050100</td>\n",
              "      <td>0.206777</td>\n",
              "      <td>0.707473</td>\n",
              "      <td>0.293578</td>\n",
              "      <td>0.394495</td>\n",
              "      <td>0.192661</td>\n",
              "      <td>0.119266</td>\n",
              "    </tr>\n",
              "    <tr>\n",
              "      <th>8</th>\n",
              "      <td>노원구</td>\n",
              "      <td>0.000000</td>\n",
              "      <td>0.187253</td>\n",
              "      <td>0.183803</td>\n",
              "      <td>0.628944</td>\n",
              "      <td>0.252964</td>\n",
              "      <td>0.482213</td>\n",
              "      <td>0.114625</td>\n",
              "      <td>0.150198</td>\n",
              "    </tr>\n",
              "    <tr>\n",
              "      <th>9</th>\n",
              "      <td>도봉구</td>\n",
              "      <td>0.022891</td>\n",
              "      <td>0.066248</td>\n",
              "      <td>0.095893</td>\n",
              "      <td>0.814968</td>\n",
              "      <td>0.268456</td>\n",
              "      <td>0.503356</td>\n",
              "      <td>0.161074</td>\n",
              "      <td>0.067114</td>\n",
              "    </tr>\n",
              "    <tr>\n",
              "      <th>10</th>\n",
              "      <td>동대문구</td>\n",
              "      <td>0.013123</td>\n",
              "      <td>0.109315</td>\n",
              "      <td>0.107099</td>\n",
              "      <td>0.770463</td>\n",
              "      <td>0.217523</td>\n",
              "      <td>0.480363</td>\n",
              "      <td>0.214502</td>\n",
              "      <td>0.087613</td>\n",
              "    </tr>\n",
              "    <tr>\n",
              "      <th>11</th>\n",
              "      <td>동작구</td>\n",
              "      <td>0.042777</td>\n",
              "      <td>0.060180</td>\n",
              "      <td>0.150332</td>\n",
              "      <td>0.746711</td>\n",
              "      <td>0.279070</td>\n",
              "      <td>0.430233</td>\n",
              "      <td>0.158915</td>\n",
              "      <td>0.131783</td>\n",
              "    </tr>\n",
              "    <tr>\n",
              "      <th>12</th>\n",
              "      <td>마포구</td>\n",
              "      <td>0.028788</td>\n",
              "      <td>0.085413</td>\n",
              "      <td>0.106599</td>\n",
              "      <td>0.779201</td>\n",
              "      <td>0.291005</td>\n",
              "      <td>0.417989</td>\n",
              "      <td>0.158730</td>\n",
              "      <td>0.132275</td>\n",
              "    </tr>\n",
              "    <tr>\n",
              "      <th>13</th>\n",
              "      <td>서대문구</td>\n",
              "      <td>0.019013</td>\n",
              "      <td>0.091351</td>\n",
              "      <td>0.078045</td>\n",
              "      <td>0.811591</td>\n",
              "      <td>0.243421</td>\n",
              "      <td>0.572368</td>\n",
              "      <td>0.144737</td>\n",
              "      <td>0.039474</td>\n",
              "    </tr>\n",
              "    <tr>\n",
              "      <th>14</th>\n",
              "      <td>서초구</td>\n",
              "      <td>0.079319</td>\n",
              "      <td>0.085851</td>\n",
              "      <td>0.093670</td>\n",
              "      <td>0.741160</td>\n",
              "      <td>0.280000</td>\n",
              "      <td>0.537778</td>\n",
              "      <td>0.088889</td>\n",
              "      <td>0.093333</td>\n",
              "    </tr>\n",
              "    <tr>\n",
              "      <th>15</th>\n",
              "      <td>성동구</td>\n",
              "      <td>0.010702</td>\n",
              "      <td>0.051881</td>\n",
              "      <td>0.119019</td>\n",
              "      <td>0.818398</td>\n",
              "      <td>0.258216</td>\n",
              "      <td>0.366197</td>\n",
              "      <td>0.159624</td>\n",
              "      <td>0.215962</td>\n",
              "    </tr>\n",
              "    <tr>\n",
              "      <th>16</th>\n",
              "      <td>성북구</td>\n",
              "      <td>0.002757</td>\n",
              "      <td>0.050796</td>\n",
              "      <td>0.080057</td>\n",
              "      <td>0.866390</td>\n",
              "      <td>0.314917</td>\n",
              "      <td>0.497238</td>\n",
              "      <td>0.138122</td>\n",
              "      <td>0.049724</td>\n",
              "    </tr>\n",
              "    <tr>\n",
              "      <th>17</th>\n",
              "      <td>송파구</td>\n",
              "      <td>0.058453</td>\n",
              "      <td>0.130090</td>\n",
              "      <td>0.136742</td>\n",
              "      <td>0.674714</td>\n",
              "      <td>0.230088</td>\n",
              "      <td>0.475664</td>\n",
              "      <td>0.112832</td>\n",
              "      <td>0.181416</td>\n",
              "    </tr>\n",
              "    <tr>\n",
              "      <th>18</th>\n",
              "      <td>양천구</td>\n",
              "      <td>0.017807</td>\n",
              "      <td>0.070637</td>\n",
              "      <td>0.033051</td>\n",
              "      <td>0.878505</td>\n",
              "      <td>0.314286</td>\n",
              "      <td>0.480000</td>\n",
              "      <td>0.085714</td>\n",
              "      <td>0.120000</td>\n",
              "    </tr>\n",
              "    <tr>\n",
              "      <th>19</th>\n",
              "      <td>영등포구</td>\n",
              "      <td>0.017584</td>\n",
              "      <td>0.141048</td>\n",
              "      <td>0.105351</td>\n",
              "      <td>0.736017</td>\n",
              "      <td>0.148325</td>\n",
              "      <td>0.533493</td>\n",
              "      <td>0.129187</td>\n",
              "      <td>0.188995</td>\n",
              "    </tr>\n",
              "    <tr>\n",
              "      <th>20</th>\n",
              "      <td>용산구</td>\n",
              "      <td>0.041548</td>\n",
              "      <td>0.154334</td>\n",
              "      <td>0.099344</td>\n",
              "      <td>0.704774</td>\n",
              "      <td>0.230769</td>\n",
              "      <td>0.442308</td>\n",
              "      <td>0.259615</td>\n",
              "      <td>0.067308</td>\n",
              "    </tr>\n",
              "    <tr>\n",
              "      <th>21</th>\n",
              "      <td>은평구</td>\n",
              "      <td>0.004050</td>\n",
              "      <td>0.099191</td>\n",
              "      <td>0.127167</td>\n",
              "      <td>0.769592</td>\n",
              "      <td>0.306667</td>\n",
              "      <td>0.573333</td>\n",
              "      <td>0.066667</td>\n",
              "      <td>0.053333</td>\n",
              "    </tr>\n",
              "    <tr>\n",
              "      <th>22</th>\n",
              "      <td>종로구</td>\n",
              "      <td>0.028836</td>\n",
              "      <td>0.086587</td>\n",
              "      <td>0.115056</td>\n",
              "      <td>0.769522</td>\n",
              "      <td>0.327103</td>\n",
              "      <td>0.532710</td>\n",
              "      <td>0.121495</td>\n",
              "      <td>0.018692</td>\n",
              "    </tr>\n",
              "    <tr>\n",
              "      <th>23</th>\n",
              "      <td>중구</td>\n",
              "      <td>0.078805</td>\n",
              "      <td>0.146386</td>\n",
              "      <td>0.175135</td>\n",
              "      <td>0.599674</td>\n",
              "      <td>0.385185</td>\n",
              "      <td>0.488889</td>\n",
              "      <td>0.118519</td>\n",
              "      <td>0.007407</td>\n",
              "    </tr>\n",
              "    <tr>\n",
              "      <th>24</th>\n",
              "      <td>중랑구</td>\n",
              "      <td>0.000000</td>\n",
              "      <td>0.097290</td>\n",
              "      <td>0.136848</td>\n",
              "      <td>0.765862</td>\n",
              "      <td>0.223776</td>\n",
              "      <td>0.562937</td>\n",
              "      <td>0.111888</td>\n",
              "      <td>0.101399</td>\n",
              "    </tr>\n",
              "  </tbody>\n",
              "</table>\n",
              "</div>"
            ],
            "text/plain": [
              "     자치구       광로R       대로R       중로R       소로R       보행자        승용  \\\n",
              "0    강남구  0.081782  0.070862  0.146485  0.700871  0.213823  0.611231   \n",
              "1    강동구  0.046390  0.094614  0.147411  0.711585  0.356757  0.345946   \n",
              "2    강북구  0.000000  0.070063  0.133799  0.796138  0.207547  0.584906   \n",
              "3    강서구  0.059313  0.111108  0.162859  0.666719  0.202429  0.534413   \n",
              "4    관악구  0.035993  0.048060  0.094465  0.821482  0.254980  0.462151   \n",
              "5    광진구  0.011398  0.093828  0.071740  0.823033  0.245399  0.509202   \n",
              "6    구로구  0.031208  0.111632  0.097523  0.759638  0.266667  0.574359   \n",
              "7    금천구  0.035650  0.050100  0.206777  0.707473  0.293578  0.394495   \n",
              "8    노원구  0.000000  0.187253  0.183803  0.628944  0.252964  0.482213   \n",
              "9    도봉구  0.022891  0.066248  0.095893  0.814968  0.268456  0.503356   \n",
              "10  동대문구  0.013123  0.109315  0.107099  0.770463  0.217523  0.480363   \n",
              "11   동작구  0.042777  0.060180  0.150332  0.746711  0.279070  0.430233   \n",
              "12   마포구  0.028788  0.085413  0.106599  0.779201  0.291005  0.417989   \n",
              "13  서대문구  0.019013  0.091351  0.078045  0.811591  0.243421  0.572368   \n",
              "14   서초구  0.079319  0.085851  0.093670  0.741160  0.280000  0.537778   \n",
              "15   성동구  0.010702  0.051881  0.119019  0.818398  0.258216  0.366197   \n",
              "16   성북구  0.002757  0.050796  0.080057  0.866390  0.314917  0.497238   \n",
              "17   송파구  0.058453  0.130090  0.136742  0.674714  0.230088  0.475664   \n",
              "18   양천구  0.017807  0.070637  0.033051  0.878505  0.314286  0.480000   \n",
              "19  영등포구  0.017584  0.141048  0.105351  0.736017  0.148325  0.533493   \n",
              "20   용산구  0.041548  0.154334  0.099344  0.704774  0.230769  0.442308   \n",
              "21   은평구  0.004050  0.099191  0.127167  0.769592  0.306667  0.573333   \n",
              "22   종로구  0.028836  0.086587  0.115056  0.769522  0.327103  0.532710   \n",
              "23    중구  0.078805  0.146386  0.175135  0.599674  0.385185  0.488889   \n",
              "24   중랑구  0.000000  0.097290  0.136848  0.765862  0.223776  0.562937   \n",
              "\n",
              "          이륜       자전거  \n",
              "0   0.082073  0.092873  \n",
              "1   0.135135  0.162162  \n",
              "2   0.174528  0.033019  \n",
              "3   0.145749  0.117409  \n",
              "4   0.270916  0.011952  \n",
              "5   0.122699  0.122699  \n",
              "6   0.117949  0.041026  \n",
              "7   0.192661  0.119266  \n",
              "8   0.114625  0.150198  \n",
              "9   0.161074  0.067114  \n",
              "10  0.214502  0.087613  \n",
              "11  0.158915  0.131783  \n",
              "12  0.158730  0.132275  \n",
              "13  0.144737  0.039474  \n",
              "14  0.088889  0.093333  \n",
              "15  0.159624  0.215962  \n",
              "16  0.138122  0.049724  \n",
              "17  0.112832  0.181416  \n",
              "18  0.085714  0.120000  \n",
              "19  0.129187  0.188995  \n",
              "20  0.259615  0.067308  \n",
              "21  0.066667  0.053333  \n",
              "22  0.121495  0.018692  \n",
              "23  0.118519  0.007407  \n",
              "24  0.111888  0.101399  "
            ]
          },
          "execution_count": 53,
          "metadata": {},
          "output_type": "execute_result"
        }
      ]
    },
    {
      "cell_type": "markdown",
      "metadata": {
        "id": "DIxwFs7Cx_Kj"
      },
      "source": [
        "이륜 관련 사고의 피해자를 각 구별 도로 크기 연장과 관계를 살펴봐도 큰 관계가 없어 보임  \n",
        "이렇게 구처럼 큰 단위의 분석보다는 동 단위의 분석이 필요.  \n",
        "동별 인구나 건물 구성에 따른 사고 발생의 차이를 살펴보려고 함. "
      ]
    },
    {
      "cell_type": "code",
      "metadata": {
        "id": "nqsBCzUDx_Kj"
      },
      "source": [
        ""
      ],
      "execution_count": null,
      "outputs": []
    },
    {
      "cell_type": "code",
      "metadata": {
        "id": "3kGt8tBJx_Kj"
      },
      "source": [
        ""
      ],
      "execution_count": null,
      "outputs": []
    },
    {
      "cell_type": "markdown",
      "metadata": {
        "id": "aNOT02JCx_Kj"
      },
      "source": [
        "### 2.2. 건물 연면적에 따른 차이\n",
        "\n",
        "아쉽게도 도로 면적은 서울시의 자치구 단위로만 제공.  \n",
        "법정동 단위의 분석을 위해서는 또다른 정보가 필요한데, 그래서 활용한 것이 표제부 데이터  \n",
        "\n",
        "법정동별로 건물의 주사용목적코드에 따라 건물들의 연면적 합계를 계산함. 대지면적과 달리 연면적은 건물의 부피의 개념을 가지고 있으므로, 연면적이 클수록 해당 지역에 크고 높고 넓은 건물이 많다는 의미. 그리고 목적에 따라 사람이 몰릴 수도 있고, 차량이 몰릴 수도 있기 때문에 교통사고의 발생 가능성에 영향을 미칠 것이라고 판단. \n",
        "\n",
        "`실제로 아파트가 많은 지역, 업무시설이 많은 지역에 따른 차이가 있음`\n"
      ]
    },
    {
      "cell_type": "code",
      "metadata": {
        "id": "4NXKO40dx_Kj"
      },
      "source": [
        "df_building = pd.read_csv('../data/building_agg.csv', encoding='UTF-8')"
      ],
      "execution_count": null,
      "outputs": []
    },
    {
      "cell_type": "code",
      "metadata": {
        "id": "fi-qmPgSx_Kj",
        "outputId": "d04b1d8c-5b40-4226-9fd6-32074a0fceca"
      },
      "source": [
        "df_building['주용도'] = [x if x in ['공동주택','업무시설','노유자시설','제1종근린생활시설','제2종근린생활시설'] else '기타' for x in df_building['주용도코드명']]\n",
        "df_building"
      ],
      "execution_count": null,
      "outputs": [
        {
          "data": {
            "text/html": [
              "<div>\n",
              "<style scoped>\n",
              "    .dataframe tbody tr th:only-of-type {\n",
              "        vertical-align: middle;\n",
              "    }\n",
              "\n",
              "    .dataframe tbody tr th {\n",
              "        vertical-align: top;\n",
              "    }\n",
              "\n",
              "    .dataframe thead th {\n",
              "        text-align: right;\n",
              "    }\n",
              "</style>\n",
              "<table border=\"1\" class=\"dataframe\">\n",
              "  <thead>\n",
              "    <tr style=\"text-align: right;\">\n",
              "      <th></th>\n",
              "      <th>dong_cd</th>\n",
              "      <th>시군구</th>\n",
              "      <th>법정동</th>\n",
              "      <th>주용도코드명</th>\n",
              "      <th>N</th>\n",
              "      <th>GFA</th>\n",
              "      <th>주용도</th>\n",
              "    </tr>\n",
              "  </thead>\n",
              "  <tbody>\n",
              "    <tr>\n",
              "      <th>0</th>\n",
              "      <td>11680101</td>\n",
              "      <td>강남구</td>\n",
              "      <td>역삼동</td>\n",
              "      <td>제2종근린생활시설</td>\n",
              "      <td>1103</td>\n",
              "      <td>1.092966e+06</td>\n",
              "      <td>제2종근린생활시설</td>\n",
              "    </tr>\n",
              "    <tr>\n",
              "      <th>1</th>\n",
              "      <td>11680101</td>\n",
              "      <td>강남구</td>\n",
              "      <td>역삼동</td>\n",
              "      <td>제1종근린생활시설</td>\n",
              "      <td>532</td>\n",
              "      <td>5.671386e+05</td>\n",
              "      <td>제1종근린생활시설</td>\n",
              "    </tr>\n",
              "    <tr>\n",
              "      <th>2</th>\n",
              "      <td>11680101</td>\n",
              "      <td>강남구</td>\n",
              "      <td>역삼동</td>\n",
              "      <td>단독주택</td>\n",
              "      <td>1332</td>\n",
              "      <td>6.481129e+05</td>\n",
              "      <td>기타</td>\n",
              "    </tr>\n",
              "    <tr>\n",
              "      <th>3</th>\n",
              "      <td>11680101</td>\n",
              "      <td>강남구</td>\n",
              "      <td>역삼동</td>\n",
              "      <td>업무시설</td>\n",
              "      <td>565</td>\n",
              "      <td>4.914127e+06</td>\n",
              "      <td>업무시설</td>\n",
              "    </tr>\n",
              "    <tr>\n",
              "      <th>4</th>\n",
              "      <td>11680101</td>\n",
              "      <td>강남구</td>\n",
              "      <td>역삼동</td>\n",
              "      <td>공동주택</td>\n",
              "      <td>1156</td>\n",
              "      <td>2.297032e+06</td>\n",
              "      <td>공동주택</td>\n",
              "    </tr>\n",
              "    <tr>\n",
              "      <th>...</th>\n",
              "      <td>...</td>\n",
              "      <td>...</td>\n",
              "      <td>...</td>\n",
              "      <td>...</td>\n",
              "      <td>...</td>\n",
              "      <td>...</td>\n",
              "      <td>...</td>\n",
              "    </tr>\n",
              "    <tr>\n",
              "      <th>5742</th>\n",
              "      <td>11260106</td>\n",
              "      <td>중랑구</td>\n",
              "      <td>신내동</td>\n",
              "      <td>판매시설</td>\n",
              "      <td>4</td>\n",
              "      <td>3.232090e+04</td>\n",
              "      <td>기타</td>\n",
              "    </tr>\n",
              "    <tr>\n",
              "      <th>5743</th>\n",
              "      <td>11260106</td>\n",
              "      <td>중랑구</td>\n",
              "      <td>신내동</td>\n",
              "      <td>숙박시설</td>\n",
              "      <td>1</td>\n",
              "      <td>6.343600e+02</td>\n",
              "      <td>기타</td>\n",
              "    </tr>\n",
              "    <tr>\n",
              "      <th>5744</th>\n",
              "      <td>11260106</td>\n",
              "      <td>중랑구</td>\n",
              "      <td>신내동</td>\n",
              "      <td>문화및집회시설</td>\n",
              "      <td>1</td>\n",
              "      <td>4.563170e+03</td>\n",
              "      <td>기타</td>\n",
              "    </tr>\n",
              "    <tr>\n",
              "      <th>5745</th>\n",
              "      <td>11260106</td>\n",
              "      <td>중랑구</td>\n",
              "      <td>신내동</td>\n",
              "      <td>방송통신시설</td>\n",
              "      <td>2</td>\n",
              "      <td>8.236380e+03</td>\n",
              "      <td>기타</td>\n",
              "    </tr>\n",
              "    <tr>\n",
              "      <th>5746</th>\n",
              "      <td>11260106</td>\n",
              "      <td>중랑구</td>\n",
              "      <td>신내동</td>\n",
              "      <td>공장</td>\n",
              "      <td>1</td>\n",
              "      <td>8.304347e+04</td>\n",
              "      <td>기타</td>\n",
              "    </tr>\n",
              "  </tbody>\n",
              "</table>\n",
              "<p>5747 rows × 7 columns</p>\n",
              "</div>"
            ],
            "text/plain": [
              "       dong_cd  시군구  법정동     주용도코드명     N           GFA        주용도\n",
              "0     11680101  강남구  역삼동  제2종근린생활시설  1103  1.092966e+06  제2종근린생활시설\n",
              "1     11680101  강남구  역삼동  제1종근린생활시설   532  5.671386e+05  제1종근린생활시설\n",
              "2     11680101  강남구  역삼동       단독주택  1332  6.481129e+05         기타\n",
              "3     11680101  강남구  역삼동       업무시설   565  4.914127e+06       업무시설\n",
              "4     11680101  강남구  역삼동       공동주택  1156  2.297032e+06       공동주택\n",
              "...        ...  ...  ...        ...   ...           ...        ...\n",
              "5742  11260106  중랑구  신내동       판매시설     4  3.232090e+04         기타\n",
              "5743  11260106  중랑구  신내동       숙박시설     1  6.343600e+02         기타\n",
              "5744  11260106  중랑구  신내동    문화및집회시설     1  4.563170e+03         기타\n",
              "5745  11260106  중랑구  신내동     방송통신시설     2  8.236380e+03         기타\n",
              "5746  11260106  중랑구  신내동         공장     1  8.304347e+04         기타\n",
              "\n",
              "[5747 rows x 7 columns]"
            ]
          },
          "execution_count": 48,
          "metadata": {},
          "output_type": "execute_result"
        }
      ]
    },
    {
      "cell_type": "code",
      "metadata": {
        "id": "g_fgjIRxx_Kj",
        "outputId": "ba50bd4c-95e4-4e48-c408-450212e19894"
      },
      "source": [
        "df_building_agg1 = pd.DataFrame(pd.pivot_table(df_building, index='시군구', columns='주용도', values='GFA', aggfunc='sum'))\n",
        "\n",
        "df_building_agg1[['공동주택','업무시설','노유자시설','제1종근린생활시설','제2종근린생활시설','기타']] = df_building_agg1[['공동주택','업무시설','노유자시설','제1종근린생활시설','제2종근린생활시설','기타']].apply(lambda x: x/x.sum(), axis=1)\n",
        "\n",
        "\n",
        "df_building_agg1['시군구'] = df_building_agg1.index.get_level_values(0)\n",
        "df_building_agg1.reset_index(drop=True, inplace=True)\n",
        "  \n",
        "df_building_agg1\n"
      ],
      "execution_count": null,
      "outputs": [
        {
          "data": {
            "text/html": [
              "<div>\n",
              "<style scoped>\n",
              "    .dataframe tbody tr th:only-of-type {\n",
              "        vertical-align: middle;\n",
              "    }\n",
              "\n",
              "    .dataframe tbody tr th {\n",
              "        vertical-align: top;\n",
              "    }\n",
              "\n",
              "    .dataframe thead th {\n",
              "        text-align: right;\n",
              "    }\n",
              "</style>\n",
              "<table border=\"1\" class=\"dataframe\">\n",
              "  <thead>\n",
              "    <tr style=\"text-align: right;\">\n",
              "      <th>주용도</th>\n",
              "      <th>공동주택</th>\n",
              "      <th>기타</th>\n",
              "      <th>노유자시설</th>\n",
              "      <th>업무시설</th>\n",
              "      <th>제1종근린생활시설</th>\n",
              "      <th>제2종근린생활시설</th>\n",
              "      <th>시군구</th>\n",
              "    </tr>\n",
              "  </thead>\n",
              "  <tbody>\n",
              "    <tr>\n",
              "      <th>0</th>\n",
              "      <td>0.541459</td>\n",
              "      <td>0.134571</td>\n",
              "      <td>0.003473</td>\n",
              "      <td>0.198808</td>\n",
              "      <td>0.044270</td>\n",
              "      <td>0.077419</td>\n",
              "      <td>강남구</td>\n",
              "    </tr>\n",
              "    <tr>\n",
              "      <th>1</th>\n",
              "      <td>0.624017</td>\n",
              "      <td>0.210747</td>\n",
              "      <td>0.006185</td>\n",
              "      <td>0.055145</td>\n",
              "      <td>0.050410</td>\n",
              "      <td>0.053496</td>\n",
              "      <td>강동구</td>\n",
              "    </tr>\n",
              "    <tr>\n",
              "      <th>2</th>\n",
              "      <td>0.512546</td>\n",
              "      <td>0.316935</td>\n",
              "      <td>0.005843</td>\n",
              "      <td>0.027203</td>\n",
              "      <td>0.082565</td>\n",
              "      <td>0.054907</td>\n",
              "      <td>강북구</td>\n",
              "    </tr>\n",
              "    <tr>\n",
              "      <th>3</th>\n",
              "      <td>0.510611</td>\n",
              "      <td>0.283291</td>\n",
              "      <td>0.006738</td>\n",
              "      <td>0.111415</td>\n",
              "      <td>0.044717</td>\n",
              "      <td>0.043227</td>\n",
              "      <td>강서구</td>\n",
              "    </tr>\n",
              "    <tr>\n",
              "      <th>4</th>\n",
              "      <td>0.440728</td>\n",
              "      <td>0.348066</td>\n",
              "      <td>0.003856</td>\n",
              "      <td>0.049887</td>\n",
              "      <td>0.062764</td>\n",
              "      <td>0.094698</td>\n",
              "      <td>관악구</td>\n",
              "    </tr>\n",
              "    <tr>\n",
              "      <th>5</th>\n",
              "      <td>0.500734</td>\n",
              "      <td>0.310126</td>\n",
              "      <td>0.013138</td>\n",
              "      <td>0.047602</td>\n",
              "      <td>0.068229</td>\n",
              "      <td>0.060170</td>\n",
              "      <td>광진구</td>\n",
              "    </tr>\n",
              "    <tr>\n",
              "      <th>6</th>\n",
              "      <td>0.511749</td>\n",
              "      <td>0.320331</td>\n",
              "      <td>0.006047</td>\n",
              "      <td>0.084458</td>\n",
              "      <td>0.042935</td>\n",
              "      <td>0.034481</td>\n",
              "      <td>구로구</td>\n",
              "    </tr>\n",
              "    <tr>\n",
              "      <th>7</th>\n",
              "      <td>0.310530</td>\n",
              "      <td>0.544342</td>\n",
              "      <td>0.004137</td>\n",
              "      <td>0.053840</td>\n",
              "      <td>0.035973</td>\n",
              "      <td>0.051178</td>\n",
              "      <td>금천구</td>\n",
              "    </tr>\n",
              "    <tr>\n",
              "      <th>8</th>\n",
              "      <td>0.734849</td>\n",
              "      <td>0.179301</td>\n",
              "      <td>0.004565</td>\n",
              "      <td>0.017640</td>\n",
              "      <td>0.034869</td>\n",
              "      <td>0.028777</td>\n",
              "      <td>노원구</td>\n",
              "    </tr>\n",
              "    <tr>\n",
              "      <th>9</th>\n",
              "      <td>0.880922</td>\n",
              "      <td>0.070363</td>\n",
              "      <td>0.002323</td>\n",
              "      <td>0.011728</td>\n",
              "      <td>0.019672</td>\n",
              "      <td>0.014992</td>\n",
              "      <td>도봉구</td>\n",
              "    </tr>\n",
              "    <tr>\n",
              "      <th>10</th>\n",
              "      <td>0.490220</td>\n",
              "      <td>0.288124</td>\n",
              "      <td>0.003476</td>\n",
              "      <td>0.063773</td>\n",
              "      <td>0.087799</td>\n",
              "      <td>0.066608</td>\n",
              "      <td>동대문구</td>\n",
              "    </tr>\n",
              "    <tr>\n",
              "      <th>11</th>\n",
              "      <td>0.783257</td>\n",
              "      <td>0.146036</td>\n",
              "      <td>0.002390</td>\n",
              "      <td>0.017896</td>\n",
              "      <td>0.024504</td>\n",
              "      <td>0.025916</td>\n",
              "      <td>동작구</td>\n",
              "    </tr>\n",
              "    <tr>\n",
              "      <th>12</th>\n",
              "      <td>0.454165</td>\n",
              "      <td>0.221074</td>\n",
              "      <td>0.006349</td>\n",
              "      <td>0.184688</td>\n",
              "      <td>0.042714</td>\n",
              "      <td>0.091010</td>\n",
              "      <td>마포구</td>\n",
              "    </tr>\n",
              "    <tr>\n",
              "      <th>13</th>\n",
              "      <td>0.516477</td>\n",
              "      <td>0.313198</td>\n",
              "      <td>0.004572</td>\n",
              "      <td>0.056941</td>\n",
              "      <td>0.051703</td>\n",
              "      <td>0.057109</td>\n",
              "      <td>서대문구</td>\n",
              "    </tr>\n",
              "    <tr>\n",
              "      <th>14</th>\n",
              "      <td>0.500404</td>\n",
              "      <td>0.205902</td>\n",
              "      <td>0.003109</td>\n",
              "      <td>0.164145</td>\n",
              "      <td>0.047217</td>\n",
              "      <td>0.079222</td>\n",
              "      <td>서초구</td>\n",
              "    </tr>\n",
              "    <tr>\n",
              "      <th>15</th>\n",
              "      <td>0.549548</td>\n",
              "      <td>0.295721</td>\n",
              "      <td>0.002635</td>\n",
              "      <td>0.055974</td>\n",
              "      <td>0.048823</td>\n",
              "      <td>0.047298</td>\n",
              "      <td>성동구</td>\n",
              "    </tr>\n",
              "    <tr>\n",
              "      <th>16</th>\n",
              "      <td>0.567037</td>\n",
              "      <td>0.303643</td>\n",
              "      <td>0.005947</td>\n",
              "      <td>0.012899</td>\n",
              "      <td>0.053234</td>\n",
              "      <td>0.057239</td>\n",
              "      <td>성북구</td>\n",
              "    </tr>\n",
              "    <tr>\n",
              "      <th>17</th>\n",
              "      <td>0.566668</td>\n",
              "      <td>0.232506</td>\n",
              "      <td>0.003367</td>\n",
              "      <td>0.102326</td>\n",
              "      <td>0.042875</td>\n",
              "      <td>0.052258</td>\n",
              "      <td>송파구</td>\n",
              "    </tr>\n",
              "    <tr>\n",
              "      <th>18</th>\n",
              "      <td>0.661357</td>\n",
              "      <td>0.172862</td>\n",
              "      <td>0.005191</td>\n",
              "      <td>0.061924</td>\n",
              "      <td>0.048513</td>\n",
              "      <td>0.050154</td>\n",
              "      <td>양천구</td>\n",
              "    </tr>\n",
              "    <tr>\n",
              "      <th>19</th>\n",
              "      <td>0.364676</td>\n",
              "      <td>0.250929</td>\n",
              "      <td>0.003149</td>\n",
              "      <td>0.257077</td>\n",
              "      <td>0.062955</td>\n",
              "      <td>0.061215</td>\n",
              "      <td>영등포구</td>\n",
              "    </tr>\n",
              "    <tr>\n",
              "      <th>20</th>\n",
              "      <td>0.474203</td>\n",
              "      <td>0.287554</td>\n",
              "      <td>0.005508</td>\n",
              "      <td>0.116227</td>\n",
              "      <td>0.042495</td>\n",
              "      <td>0.074013</td>\n",
              "      <td>용산구</td>\n",
              "    </tr>\n",
              "    <tr>\n",
              "      <th>21</th>\n",
              "      <td>0.628955</td>\n",
              "      <td>0.236987</td>\n",
              "      <td>0.009400</td>\n",
              "      <td>0.032511</td>\n",
              "      <td>0.043559</td>\n",
              "      <td>0.048588</td>\n",
              "      <td>은평구</td>\n",
              "    </tr>\n",
              "    <tr>\n",
              "      <th>22</th>\n",
              "      <td>0.229490</td>\n",
              "      <td>0.333354</td>\n",
              "      <td>0.004917</td>\n",
              "      <td>0.275886</td>\n",
              "      <td>0.053522</td>\n",
              "      <td>0.102830</td>\n",
              "      <td>종로구</td>\n",
              "    </tr>\n",
              "    <tr>\n",
              "      <th>23</th>\n",
              "      <td>0.174838</td>\n",
              "      <td>0.319599</td>\n",
              "      <td>0.004200</td>\n",
              "      <td>0.368515</td>\n",
              "      <td>0.067152</td>\n",
              "      <td>0.065695</td>\n",
              "      <td>중구</td>\n",
              "    </tr>\n",
              "    <tr>\n",
              "      <th>24</th>\n",
              "      <td>0.661786</td>\n",
              "      <td>0.218622</td>\n",
              "      <td>0.004579</td>\n",
              "      <td>0.013206</td>\n",
              "      <td>0.045894</td>\n",
              "      <td>0.055913</td>\n",
              "      <td>중랑구</td>\n",
              "    </tr>\n",
              "  </tbody>\n",
              "</table>\n",
              "</div>"
            ],
            "text/plain": [
              "주용도      공동주택        기타     노유자시설      업무시설  제1종근린생활시설  제2종근린생활시설   시군구\n",
              "0    0.541459  0.134571  0.003473  0.198808   0.044270   0.077419   강남구\n",
              "1    0.624017  0.210747  0.006185  0.055145   0.050410   0.053496   강동구\n",
              "2    0.512546  0.316935  0.005843  0.027203   0.082565   0.054907   강북구\n",
              "3    0.510611  0.283291  0.006738  0.111415   0.044717   0.043227   강서구\n",
              "4    0.440728  0.348066  0.003856  0.049887   0.062764   0.094698   관악구\n",
              "5    0.500734  0.310126  0.013138  0.047602   0.068229   0.060170   광진구\n",
              "6    0.511749  0.320331  0.006047  0.084458   0.042935   0.034481   구로구\n",
              "7    0.310530  0.544342  0.004137  0.053840   0.035973   0.051178   금천구\n",
              "8    0.734849  0.179301  0.004565  0.017640   0.034869   0.028777   노원구\n",
              "9    0.880922  0.070363  0.002323  0.011728   0.019672   0.014992   도봉구\n",
              "10   0.490220  0.288124  0.003476  0.063773   0.087799   0.066608  동대문구\n",
              "11   0.783257  0.146036  0.002390  0.017896   0.024504   0.025916   동작구\n",
              "12   0.454165  0.221074  0.006349  0.184688   0.042714   0.091010   마포구\n",
              "13   0.516477  0.313198  0.004572  0.056941   0.051703   0.057109  서대문구\n",
              "14   0.500404  0.205902  0.003109  0.164145   0.047217   0.079222   서초구\n",
              "15   0.549548  0.295721  0.002635  0.055974   0.048823   0.047298   성동구\n",
              "16   0.567037  0.303643  0.005947  0.012899   0.053234   0.057239   성북구\n",
              "17   0.566668  0.232506  0.003367  0.102326   0.042875   0.052258   송파구\n",
              "18   0.661357  0.172862  0.005191  0.061924   0.048513   0.050154   양천구\n",
              "19   0.364676  0.250929  0.003149  0.257077   0.062955   0.061215  영등포구\n",
              "20   0.474203  0.287554  0.005508  0.116227   0.042495   0.074013   용산구\n",
              "21   0.628955  0.236987  0.009400  0.032511   0.043559   0.048588   은평구\n",
              "22   0.229490  0.333354  0.004917  0.275886   0.053522   0.102830   종로구\n",
              "23   0.174838  0.319599  0.004200  0.368515   0.067152   0.065695    중구\n",
              "24   0.661786  0.218622  0.004579  0.013206   0.045894   0.055913   중랑구"
            ]
          },
          "execution_count": 51,
          "metadata": {},
          "output_type": "execute_result"
        }
      ]
    },
    {
      "cell_type": "code",
      "metadata": {
        "id": "pgL4evxgx_Kk"
      },
      "source": [
        "df_agg1 = pd.pivot_table(df_new,\n",
        "               index = ['구'], \n",
        "               columns=['피해운전자 차종'], values='사고유형', aggfunc='count')\n"
      ],
      "execution_count": null,
      "outputs": []
    },
    {
      "cell_type": "code",
      "metadata": {
        "id": "vMTw4871x_Kk",
        "outputId": "4001b8a0-f680-4268-ee31-a71f4d197dda"
      },
      "source": [
        "df_agg1.reset_index(drop=True, inplace=True)\n",
        "df_build_acci = pd.concat([df_building_agg1, df_agg1], axis=1) \n",
        "df_build_acci\n",
        "\n"
      ],
      "execution_count": null,
      "outputs": [
        {
          "data": {
            "text/html": [
              "<div>\n",
              "<style scoped>\n",
              "    .dataframe tbody tr th:only-of-type {\n",
              "        vertical-align: middle;\n",
              "    }\n",
              "\n",
              "    .dataframe tbody tr th {\n",
              "        vertical-align: top;\n",
              "    }\n",
              "\n",
              "    .dataframe thead th {\n",
              "        text-align: right;\n",
              "    }\n",
              "</style>\n",
              "<table border=\"1\" class=\"dataframe\">\n",
              "  <thead>\n",
              "    <tr style=\"text-align: right;\">\n",
              "      <th></th>\n",
              "      <th>공동주택</th>\n",
              "      <th>기타</th>\n",
              "      <th>노유자시설</th>\n",
              "      <th>업무시설</th>\n",
              "      <th>제1종근린생활시설</th>\n",
              "      <th>제2종근린생활시설</th>\n",
              "      <th>시군구</th>\n",
              "      <th>보행자</th>\n",
              "      <th>승용</th>\n",
              "      <th>이륜</th>\n",
              "      <th>자전거</th>\n",
              "    </tr>\n",
              "  </thead>\n",
              "  <tbody>\n",
              "    <tr>\n",
              "      <th>0</th>\n",
              "      <td>0.541459</td>\n",
              "      <td>0.134571</td>\n",
              "      <td>0.003473</td>\n",
              "      <td>0.198808</td>\n",
              "      <td>0.044270</td>\n",
              "      <td>0.077419</td>\n",
              "      <td>강남구</td>\n",
              "      <td>99</td>\n",
              "      <td>283</td>\n",
              "      <td>38</td>\n",
              "      <td>43</td>\n",
              "    </tr>\n",
              "    <tr>\n",
              "      <th>1</th>\n",
              "      <td>0.624017</td>\n",
              "      <td>0.210747</td>\n",
              "      <td>0.006185</td>\n",
              "      <td>0.055145</td>\n",
              "      <td>0.050410</td>\n",
              "      <td>0.053496</td>\n",
              "      <td>강동구</td>\n",
              "      <td>66</td>\n",
              "      <td>64</td>\n",
              "      <td>25</td>\n",
              "      <td>30</td>\n",
              "    </tr>\n",
              "    <tr>\n",
              "      <th>2</th>\n",
              "      <td>0.512546</td>\n",
              "      <td>0.316935</td>\n",
              "      <td>0.005843</td>\n",
              "      <td>0.027203</td>\n",
              "      <td>0.082565</td>\n",
              "      <td>0.054907</td>\n",
              "      <td>강북구</td>\n",
              "      <td>44</td>\n",
              "      <td>124</td>\n",
              "      <td>37</td>\n",
              "      <td>7</td>\n",
              "    </tr>\n",
              "    <tr>\n",
              "      <th>3</th>\n",
              "      <td>0.510611</td>\n",
              "      <td>0.283291</td>\n",
              "      <td>0.006738</td>\n",
              "      <td>0.111415</td>\n",
              "      <td>0.044717</td>\n",
              "      <td>0.043227</td>\n",
              "      <td>강서구</td>\n",
              "      <td>50</td>\n",
              "      <td>132</td>\n",
              "      <td>36</td>\n",
              "      <td>29</td>\n",
              "    </tr>\n",
              "    <tr>\n",
              "      <th>4</th>\n",
              "      <td>0.440728</td>\n",
              "      <td>0.348066</td>\n",
              "      <td>0.003856</td>\n",
              "      <td>0.049887</td>\n",
              "      <td>0.062764</td>\n",
              "      <td>0.094698</td>\n",
              "      <td>관악구</td>\n",
              "      <td>64</td>\n",
              "      <td>116</td>\n",
              "      <td>68</td>\n",
              "      <td>3</td>\n",
              "    </tr>\n",
              "    <tr>\n",
              "      <th>5</th>\n",
              "      <td>0.500734</td>\n",
              "      <td>0.310126</td>\n",
              "      <td>0.013138</td>\n",
              "      <td>0.047602</td>\n",
              "      <td>0.068229</td>\n",
              "      <td>0.060170</td>\n",
              "      <td>광진구</td>\n",
              "      <td>40</td>\n",
              "      <td>83</td>\n",
              "      <td>20</td>\n",
              "      <td>20</td>\n",
              "    </tr>\n",
              "    <tr>\n",
              "      <th>6</th>\n",
              "      <td>0.511749</td>\n",
              "      <td>0.320331</td>\n",
              "      <td>0.006047</td>\n",
              "      <td>0.084458</td>\n",
              "      <td>0.042935</td>\n",
              "      <td>0.034481</td>\n",
              "      <td>구로구</td>\n",
              "      <td>52</td>\n",
              "      <td>112</td>\n",
              "      <td>23</td>\n",
              "      <td>8</td>\n",
              "    </tr>\n",
              "    <tr>\n",
              "      <th>7</th>\n",
              "      <td>0.310530</td>\n",
              "      <td>0.544342</td>\n",
              "      <td>0.004137</td>\n",
              "      <td>0.053840</td>\n",
              "      <td>0.035973</td>\n",
              "      <td>0.051178</td>\n",
              "      <td>금천구</td>\n",
              "      <td>32</td>\n",
              "      <td>43</td>\n",
              "      <td>21</td>\n",
              "      <td>13</td>\n",
              "    </tr>\n",
              "    <tr>\n",
              "      <th>8</th>\n",
              "      <td>0.734849</td>\n",
              "      <td>0.179301</td>\n",
              "      <td>0.004565</td>\n",
              "      <td>0.017640</td>\n",
              "      <td>0.034869</td>\n",
              "      <td>0.028777</td>\n",
              "      <td>노원구</td>\n",
              "      <td>64</td>\n",
              "      <td>122</td>\n",
              "      <td>29</td>\n",
              "      <td>38</td>\n",
              "    </tr>\n",
              "    <tr>\n",
              "      <th>9</th>\n",
              "      <td>0.880922</td>\n",
              "      <td>0.070363</td>\n",
              "      <td>0.002323</td>\n",
              "      <td>0.011728</td>\n",
              "      <td>0.019672</td>\n",
              "      <td>0.014992</td>\n",
              "      <td>도봉구</td>\n",
              "      <td>40</td>\n",
              "      <td>75</td>\n",
              "      <td>24</td>\n",
              "      <td>10</td>\n",
              "    </tr>\n",
              "    <tr>\n",
              "      <th>10</th>\n",
              "      <td>0.490220</td>\n",
              "      <td>0.288124</td>\n",
              "      <td>0.003476</td>\n",
              "      <td>0.063773</td>\n",
              "      <td>0.087799</td>\n",
              "      <td>0.066608</td>\n",
              "      <td>동대문구</td>\n",
              "      <td>72</td>\n",
              "      <td>159</td>\n",
              "      <td>71</td>\n",
              "      <td>29</td>\n",
              "    </tr>\n",
              "    <tr>\n",
              "      <th>11</th>\n",
              "      <td>0.783257</td>\n",
              "      <td>0.146036</td>\n",
              "      <td>0.002390</td>\n",
              "      <td>0.017896</td>\n",
              "      <td>0.024504</td>\n",
              "      <td>0.025916</td>\n",
              "      <td>동작구</td>\n",
              "      <td>72</td>\n",
              "      <td>111</td>\n",
              "      <td>41</td>\n",
              "      <td>34</td>\n",
              "    </tr>\n",
              "    <tr>\n",
              "      <th>12</th>\n",
              "      <td>0.454165</td>\n",
              "      <td>0.221074</td>\n",
              "      <td>0.006349</td>\n",
              "      <td>0.184688</td>\n",
              "      <td>0.042714</td>\n",
              "      <td>0.091010</td>\n",
              "      <td>마포구</td>\n",
              "      <td>55</td>\n",
              "      <td>79</td>\n",
              "      <td>30</td>\n",
              "      <td>25</td>\n",
              "    </tr>\n",
              "    <tr>\n",
              "      <th>13</th>\n",
              "      <td>0.516477</td>\n",
              "      <td>0.313198</td>\n",
              "      <td>0.004572</td>\n",
              "      <td>0.056941</td>\n",
              "      <td>0.051703</td>\n",
              "      <td>0.057109</td>\n",
              "      <td>서대문구</td>\n",
              "      <td>37</td>\n",
              "      <td>87</td>\n",
              "      <td>22</td>\n",
              "      <td>6</td>\n",
              "    </tr>\n",
              "    <tr>\n",
              "      <th>14</th>\n",
              "      <td>0.500404</td>\n",
              "      <td>0.205902</td>\n",
              "      <td>0.003109</td>\n",
              "      <td>0.164145</td>\n",
              "      <td>0.047217</td>\n",
              "      <td>0.079222</td>\n",
              "      <td>서초구</td>\n",
              "      <td>63</td>\n",
              "      <td>121</td>\n",
              "      <td>20</td>\n",
              "      <td>21</td>\n",
              "    </tr>\n",
              "    <tr>\n",
              "      <th>15</th>\n",
              "      <td>0.549548</td>\n",
              "      <td>0.295721</td>\n",
              "      <td>0.002635</td>\n",
              "      <td>0.055974</td>\n",
              "      <td>0.048823</td>\n",
              "      <td>0.047298</td>\n",
              "      <td>성동구</td>\n",
              "      <td>55</td>\n",
              "      <td>78</td>\n",
              "      <td>34</td>\n",
              "      <td>46</td>\n",
              "    </tr>\n",
              "    <tr>\n",
              "      <th>16</th>\n",
              "      <td>0.567037</td>\n",
              "      <td>0.303643</td>\n",
              "      <td>0.005947</td>\n",
              "      <td>0.012899</td>\n",
              "      <td>0.053234</td>\n",
              "      <td>0.057239</td>\n",
              "      <td>성북구</td>\n",
              "      <td>57</td>\n",
              "      <td>90</td>\n",
              "      <td>25</td>\n",
              "      <td>9</td>\n",
              "    </tr>\n",
              "    <tr>\n",
              "      <th>17</th>\n",
              "      <td>0.566668</td>\n",
              "      <td>0.232506</td>\n",
              "      <td>0.003367</td>\n",
              "      <td>0.102326</td>\n",
              "      <td>0.042875</td>\n",
              "      <td>0.052258</td>\n",
              "      <td>송파구</td>\n",
              "      <td>104</td>\n",
              "      <td>215</td>\n",
              "      <td>51</td>\n",
              "      <td>82</td>\n",
              "    </tr>\n",
              "    <tr>\n",
              "      <th>18</th>\n",
              "      <td>0.661357</td>\n",
              "      <td>0.172862</td>\n",
              "      <td>0.005191</td>\n",
              "      <td>0.061924</td>\n",
              "      <td>0.048513</td>\n",
              "      <td>0.050154</td>\n",
              "      <td>양천구</td>\n",
              "      <td>55</td>\n",
              "      <td>84</td>\n",
              "      <td>15</td>\n",
              "      <td>21</td>\n",
              "    </tr>\n",
              "    <tr>\n",
              "      <th>19</th>\n",
              "      <td>0.364676</td>\n",
              "      <td>0.250929</td>\n",
              "      <td>0.003149</td>\n",
              "      <td>0.257077</td>\n",
              "      <td>0.062955</td>\n",
              "      <td>0.061215</td>\n",
              "      <td>영등포구</td>\n",
              "      <td>62</td>\n",
              "      <td>223</td>\n",
              "      <td>54</td>\n",
              "      <td>79</td>\n",
              "    </tr>\n",
              "    <tr>\n",
              "      <th>20</th>\n",
              "      <td>0.474203</td>\n",
              "      <td>0.287554</td>\n",
              "      <td>0.005508</td>\n",
              "      <td>0.116227</td>\n",
              "      <td>0.042495</td>\n",
              "      <td>0.074013</td>\n",
              "      <td>용산구</td>\n",
              "      <td>24</td>\n",
              "      <td>46</td>\n",
              "      <td>27</td>\n",
              "      <td>7</td>\n",
              "    </tr>\n",
              "    <tr>\n",
              "      <th>21</th>\n",
              "      <td>0.628955</td>\n",
              "      <td>0.236987</td>\n",
              "      <td>0.009400</td>\n",
              "      <td>0.032511</td>\n",
              "      <td>0.043559</td>\n",
              "      <td>0.048588</td>\n",
              "      <td>은평구</td>\n",
              "      <td>46</td>\n",
              "      <td>86</td>\n",
              "      <td>10</td>\n",
              "      <td>8</td>\n",
              "    </tr>\n",
              "    <tr>\n",
              "      <th>22</th>\n",
              "      <td>0.229490</td>\n",
              "      <td>0.333354</td>\n",
              "      <td>0.004917</td>\n",
              "      <td>0.275886</td>\n",
              "      <td>0.053522</td>\n",
              "      <td>0.102830</td>\n",
              "      <td>종로구</td>\n",
              "      <td>35</td>\n",
              "      <td>57</td>\n",
              "      <td>13</td>\n",
              "      <td>2</td>\n",
              "    </tr>\n",
              "    <tr>\n",
              "      <th>23</th>\n",
              "      <td>0.174838</td>\n",
              "      <td>0.319599</td>\n",
              "      <td>0.004200</td>\n",
              "      <td>0.368515</td>\n",
              "      <td>0.067152</td>\n",
              "      <td>0.065695</td>\n",
              "      <td>중구</td>\n",
              "      <td>52</td>\n",
              "      <td>66</td>\n",
              "      <td>16</td>\n",
              "      <td>1</td>\n",
              "    </tr>\n",
              "    <tr>\n",
              "      <th>24</th>\n",
              "      <td>0.661786</td>\n",
              "      <td>0.218622</td>\n",
              "      <td>0.004579</td>\n",
              "      <td>0.013206</td>\n",
              "      <td>0.045894</td>\n",
              "      <td>0.055913</td>\n",
              "      <td>중랑구</td>\n",
              "      <td>64</td>\n",
              "      <td>161</td>\n",
              "      <td>32</td>\n",
              "      <td>29</td>\n",
              "    </tr>\n",
              "  </tbody>\n",
              "</table>\n",
              "</div>"
            ],
            "text/plain": [
              "        공동주택        기타     노유자시설      업무시설  제1종근린생활시설  제2종근린생활시설   시군구  보행자  \\\n",
              "0   0.541459  0.134571  0.003473  0.198808   0.044270   0.077419   강남구   99   \n",
              "1   0.624017  0.210747  0.006185  0.055145   0.050410   0.053496   강동구   66   \n",
              "2   0.512546  0.316935  0.005843  0.027203   0.082565   0.054907   강북구   44   \n",
              "3   0.510611  0.283291  0.006738  0.111415   0.044717   0.043227   강서구   50   \n",
              "4   0.440728  0.348066  0.003856  0.049887   0.062764   0.094698   관악구   64   \n",
              "5   0.500734  0.310126  0.013138  0.047602   0.068229   0.060170   광진구   40   \n",
              "6   0.511749  0.320331  0.006047  0.084458   0.042935   0.034481   구로구   52   \n",
              "7   0.310530  0.544342  0.004137  0.053840   0.035973   0.051178   금천구   32   \n",
              "8   0.734849  0.179301  0.004565  0.017640   0.034869   0.028777   노원구   64   \n",
              "9   0.880922  0.070363  0.002323  0.011728   0.019672   0.014992   도봉구   40   \n",
              "10  0.490220  0.288124  0.003476  0.063773   0.087799   0.066608  동대문구   72   \n",
              "11  0.783257  0.146036  0.002390  0.017896   0.024504   0.025916   동작구   72   \n",
              "12  0.454165  0.221074  0.006349  0.184688   0.042714   0.091010   마포구   55   \n",
              "13  0.516477  0.313198  0.004572  0.056941   0.051703   0.057109  서대문구   37   \n",
              "14  0.500404  0.205902  0.003109  0.164145   0.047217   0.079222   서초구   63   \n",
              "15  0.549548  0.295721  0.002635  0.055974   0.048823   0.047298   성동구   55   \n",
              "16  0.567037  0.303643  0.005947  0.012899   0.053234   0.057239   성북구   57   \n",
              "17  0.566668  0.232506  0.003367  0.102326   0.042875   0.052258   송파구  104   \n",
              "18  0.661357  0.172862  0.005191  0.061924   0.048513   0.050154   양천구   55   \n",
              "19  0.364676  0.250929  0.003149  0.257077   0.062955   0.061215  영등포구   62   \n",
              "20  0.474203  0.287554  0.005508  0.116227   0.042495   0.074013   용산구   24   \n",
              "21  0.628955  0.236987  0.009400  0.032511   0.043559   0.048588   은평구   46   \n",
              "22  0.229490  0.333354  0.004917  0.275886   0.053522   0.102830   종로구   35   \n",
              "23  0.174838  0.319599  0.004200  0.368515   0.067152   0.065695    중구   52   \n",
              "24  0.661786  0.218622  0.004579  0.013206   0.045894   0.055913   중랑구   64   \n",
              "\n",
              "     승용  이륜  자전거  \n",
              "0   283  38   43  \n",
              "1    64  25   30  \n",
              "2   124  37    7  \n",
              "3   132  36   29  \n",
              "4   116  68    3  \n",
              "5    83  20   20  \n",
              "6   112  23    8  \n",
              "7    43  21   13  \n",
              "8   122  29   38  \n",
              "9    75  24   10  \n",
              "10  159  71   29  \n",
              "11  111  41   34  \n",
              "12   79  30   25  \n",
              "13   87  22    6  \n",
              "14  121  20   21  \n",
              "15   78  34   46  \n",
              "16   90  25    9  \n",
              "17  215  51   82  \n",
              "18   84  15   21  \n",
              "19  223  54   79  \n",
              "20   46  27    7  \n",
              "21   86  10    8  \n",
              "22   57  13    2  \n",
              "23   66  16    1  \n",
              "24  161  32   29  "
            ]
          },
          "execution_count": 60,
          "metadata": {},
          "output_type": "execute_result"
        }
      ]
    },
    {
      "cell_type": "code",
      "metadata": {
        "id": "lmpKik6-x_Kk",
        "outputId": "ea917c53-ea60-44ac-94eb-eeea9293a542"
      },
      "source": [
        "# pairplot\n",
        "sns.pairplot(df_build_acci, x_vars=['공동주택', '업무시설', '제1종근린생활시설', '기타'], y_vars=['보행자','승용','이륜','자전거'])\n"
      ],
      "execution_count": null,
      "outputs": [
        {
          "data": {
            "text/plain": [
              "<seaborn.axisgrid.PairGrid at 0x126e1c79f10>"
            ]
          },
          "execution_count": 61,
          "metadata": {},
          "output_type": "execute_result"
        },
        {
          "data": {
            "image/png": "[encoded data removed]",
            "text/plain": [
              "<Figure size 720x720 with 16 Axes>"
            ]
          },
          "metadata": {
            "needs_background": "light"
          },
          "output_type": "display_data"
        }
      ]
    },
    {
      "cell_type": "markdown",
      "metadata": {
        "id": "liY5OAV0x_Kk"
      },
      "source": [
        "### 2.3. 법정동별 건물 연면적과 사고 발생\n",
        "\n",
        "`이륜차나 차대차-기타에 집중하면 어떤 법정동에서 사고가 많이 발생하는지와 해당 법정동의 건물 특성을 활용 가능`\n",
        "\n",
        "`비슷한 건물 구성을 가졌으나 사고 차이가 있는 법정동을 가져와서 로드뷰 같은 걸로 비교 가능`"
      ]
    },
    {
      "cell_type": "code",
      "metadata": {
        "id": "TLepkIN1x_Kk"
      },
      "source": [
        ""
      ],
      "execution_count": null,
      "outputs": []
    },
    {
      "cell_type": "markdown",
      "metadata": {
        "id": "H_eB3FNrx_Kk"
      },
      "source": [
        "## 3. 유동인구와 사고 발생\n",
        "\n",
        "건물이 있다고 해서 무조건 사고가 발생하는 것은 아님.  \n",
        "뻥뚤린 도로에서 사고는 발생하지 않음. 도로가 복잡해져야 사고가 발생함.  \n",
        "\n",
        "공유된 데이터로는 시내 교통에서 특정 시점 특정 지역의 차량수를 파악하는것은 어려움.  \n",
        "대신 통신사 기지국 정보 기반 생활인구 데이터, 대중교통 이용 데이터 등을 활용해서 유추 가능.  \n",
        "\n",
        "`위의 분석들과 엮어서 유동인구가 많을 때 사고가 많이 난다는 것을 보여야 함`\n",
        "\n",
        "`차대 사람 사고  - 법정동별 차이로 가도 되고, 특정 시간에 사고가 많이 발생하는 한 두 법정동을 잡아두고, 사고 발생과 유동인구를 엮기`\n",
        "\n",
        "`이륜차 사고 - 이륜차는 배달 중심일 테니까, 건물 정보를 봤을 때 공동주택(아파트)가 많은 지역 중에서 2019년 대비 2020 생활인구가 많이 늘어난 법정동을 잡고, 엮기`\n",
        "\n"
      ]
    },
    {
      "cell_type": "code",
      "metadata": {
        "id": "RMC4RRFwx_Kk"
      },
      "source": [
        ""
      ],
      "execution_count": null,
      "outputs": []
    },
    {
      "cell_type": "markdown",
      "metadata": {
        "id": "v-QXsdeox_Kk"
      },
      "source": [
        "### 3.1. 000의 인구와 사고 발생 \n",
        "\n",
        "`위의 예시 중에서 선택된 첫번째꺼`"
      ]
    },
    {
      "cell_type": "code",
      "metadata": {
        "id": "qhI5dpcYx_Kl"
      },
      "source": [
        ""
      ],
      "execution_count": null,
      "outputs": []
    },
    {
      "cell_type": "markdown",
      "metadata": {
        "id": "96N29CLAx_Kl"
      },
      "source": [
        "### 3.2. 000의 인구와 사고 발생 \n",
        "\n",
        "`위의 예시 중에서 선택된 두번째꺼`"
      ]
    },
    {
      "cell_type": "code",
      "metadata": {
        "id": "gCqj1JzXx_Kl"
      },
      "source": [
        ""
      ],
      "execution_count": null,
      "outputs": []
    },
    {
      "cell_type": "markdown",
      "metadata": {
        "id": "5xAT7ak6x_Kl"
      },
      "source": [
        "## 4. 통합 분석\n",
        "\n",
        "도로의 사고와 건물, 인구 정보를 결합해서 살펴봤음. \n",
        "\n",
        "`여기서 특정 두 지역을 전체적으로 비교하는 것도 좋을 듯`\n"
      ]
    },
    {
      "cell_type": "markdown",
      "metadata": {
        "id": "YaJ22r50x_Kl"
      },
      "source": [
        "### 4.1. 대표적인 두 지역의 비교 \n",
        "\n",
        "`사례 중심`"
      ]
    },
    {
      "cell_type": "code",
      "metadata": {
        "id": "YTIFOeSNx_Kl"
      },
      "source": [
        "    "
      ],
      "execution_count": null,
      "outputs": []
    },
    {
      "cell_type": "markdown",
      "metadata": {
        "id": "C8hL-HfTx_Kl"
      },
      "source": [
        "### 4.2. 사고 발생가능성 높은 지역 \n",
        "\n",
        "`이륜차 등으로 범위를 잡은 다음에 사고 발생 가능성이 높을 것 같은 위험 지역 들을 선정`"
      ]
    },
    {
      "cell_type": "code",
      "metadata": {
        "id": "cq5_kIgzx_Kl"
      },
      "source": [
        ""
      ],
      "execution_count": null,
      "outputs": []
    },
    {
      "cell_type": "markdown",
      "metadata": {
        "id": "6z6eaPvGx_Kl"
      },
      "source": [
        "## 5. 마무리 \n",
        "\n",
        "\n",
        "`확인 한 것들 정리`\n",
        "\n",
        "`확인 한 것으로 활용 가능한 것 : 대부분 \"사고를 줄이려면?\"`\n",
        "\n",
        "`위험 지역에 대한 이륜차 등 단속 강화, 보행자 안전 확보를 위해 필요한 장치 등`\n"
      ]
    },
    {
      "cell_type": "code",
      "metadata": {
        "id": "oHC1-kHrx_Kl"
      },
      "source": [
        ""
      ],
      "execution_count": null,
      "outputs": []
    },
    {
      "cell_type": "code",
      "metadata": {
        "id": "tpD678hSx_Kl"
      },
      "source": [
        ""
      ],
      "execution_count": null,
      "outputs": []
    }
  ]
}