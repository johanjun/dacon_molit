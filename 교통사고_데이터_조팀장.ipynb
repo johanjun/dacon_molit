{
  "nbformat": 4,
  "nbformat_minor": 0,
  "metadata": {
    "colab": {
      "name": "교통사고 데이터 전처리.ipynb",
      "provenance": [],
      "collapsed_sections": [],
      "mount_file_id": "1vM8v5mmsmKW0ju2gBecRJi_bcquZWUf1",
      "authorship_tag": "ABX9TyPvt6iNNBnMPrj+DpUtfWIu",
      "include_colab_link": true
    },
    "kernelspec": {
      "name": "python3",
      "display_name": "Python 3"
    },
    "language_info": {
      "name": "python"
    }
  },
  "cells": [
    {
      "cell_type": "markdown",
      "metadata": {
        "id": "view-in-github",
        "colab_type": "text"
      },
      "source": [
        "<a href=\"https://colab.research.google.com/github/johanjun/dacon_molit/blob/main/%EA%B5%90%ED%86%B5%EC%82%AC%EA%B3%A0_%EB%8D%B0%EC%9D%B4%ED%84%B0_%EC%A1%B0%ED%8C%80%EC%9E%A5.ipynb\" target=\"_parent\"><img src=\"https://colab.research.google.com/assets/colab-badge.svg\" alt=\"Open In Colab\"/></a>"
      ]
    },
    {
      "cell_type": "markdown",
      "metadata": {
        "id": "PqULqt3NBlF9"
      },
      "source": [
        "# Library Import"
      ]
    },
    {
      "cell_type": "code",
      "metadata": {
        "id": "j1D0uo3w_FBF"
      },
      "source": [
        "#한글폰트\n",
        "!sudo apt-get install -y fonts-nanum\n",
        "!sudo fc-cache -fv\n",
        "!rm ~/.cache/matplotlib -rf"
      ],
      "execution_count": 1,
      "outputs": []
    },
    {
      "cell_type": "code",
      "metadata": {
        "id": "wMRmIpVUAgLn"
      },
      "source": [
        "#라이브러리\n",
        "import pandas as pd\n",
        "import matplotlib.pyplot as plt\n",
        "import os\n",
        "import math\n",
        "import numpy as np\n",
        "import seaborn as sns\n",
        "import re\n",
        "import shutil\n",
        "import random\n",
        "import missingno as msno\n",
        "import matplotlib.pyplot as plt\n",
        "plt.rc('font', family='NanumBarunGothic') \n",
        "import warnings\n",
        "warnings.filterwarnings(action='ignore')"
      ],
      "execution_count": 256,
      "outputs": []
    },
    {
      "cell_type": "markdown",
      "metadata": {
        "id": "zkaRKbTOBogR"
      },
      "source": [
        "# Data Load - 서울시 2019-2020 교통사고\n",
        "- http://taas.koroad.or.kr/gis/mcm/mcl/initMap.do?menuId=GIS_GMP_STS_RSN#"
      ]
    },
    {
      "cell_type": "code",
      "metadata": {
        "id": "niwNxKPSAjb0"
      },
      "source": [
        "data_dir = '/content/drive/MyDrive/dacon_molit/data/'"
      ],
      "execution_count": 3,
      "outputs": []
    },
    {
      "cell_type": "code",
      "metadata": {
        "id": "J3Qy1tWfBXUd"
      },
      "source": [
        "df_acci = pd.read_csv(data_dir+'서울시 2019-2020 교통사고.csv')"
      ],
      "execution_count": 4,
      "outputs": []
    },
    {
      "cell_type": "markdown",
      "metadata": {
        "id": "W7aKSuG9B1Pw"
      },
      "source": [
        "- 74485 행, 22열로 구성"
      ]
    },
    {
      "cell_type": "code",
      "metadata": {
        "colab": {
          "base_uri": "https://localhost:8080/",
          "height": 278
        },
        "id": "FJBv79ptBaqs",
        "outputId": "51d5d7e5-313a-41e7-871c-2a14aef4cc6b"
      },
      "source": [
        "df_acci.head(3)"
      ],
      "execution_count": 5,
      "outputs": [
        {
          "output_type": "execute_result",
          "data": {
            "text/html": [
              "<div>\n",
              "<style scoped>\n",
              "    .dataframe tbody tr th:only-of-type {\n",
              "        vertical-align: middle;\n",
              "    }\n",
              "\n",
              "    .dataframe tbody tr th {\n",
              "        vertical-align: top;\n",
              "    }\n",
              "\n",
              "    .dataframe thead th {\n",
              "        text-align: right;\n",
              "    }\n",
              "</style>\n",
              "<table border=\"1\" class=\"dataframe\">\n",
              "  <thead>\n",
              "    <tr style=\"text-align: right;\">\n",
              "      <th></th>\n",
              "      <th>사고번호</th>\n",
              "      <th>사고일시</th>\n",
              "      <th>요일</th>\n",
              "      <th>시군구</th>\n",
              "      <th>사고내용</th>\n",
              "      <th>사망자수</th>\n",
              "      <th>중상자수</th>\n",
              "      <th>경상자수</th>\n",
              "      <th>부상신고자수</th>\n",
              "      <th>사고유형</th>\n",
              "      <th>법규위반</th>\n",
              "      <th>노면상태</th>\n",
              "      <th>기상상태</th>\n",
              "      <th>도로형태</th>\n",
              "      <th>가해운전자 차종</th>\n",
              "      <th>가해운전자 성별</th>\n",
              "      <th>가해운전자 연령</th>\n",
              "      <th>가해운전자 상해정도</th>\n",
              "      <th>피해운전자 차종</th>\n",
              "      <th>피해운전자 성별</th>\n",
              "      <th>피해운전자 연령</th>\n",
              "      <th>피해운전자 상해정도</th>\n",
              "    </tr>\n",
              "  </thead>\n",
              "  <tbody>\n",
              "    <tr>\n",
              "      <th>0</th>\n",
              "      <td>2.019010e+15</td>\n",
              "      <td>2019년 1월 1일 00시</td>\n",
              "      <td>화요일</td>\n",
              "      <td>서울특별시 강서구 방화동</td>\n",
              "      <td>경상사고</td>\n",
              "      <td>0</td>\n",
              "      <td>0</td>\n",
              "      <td>1</td>\n",
              "      <td>0</td>\n",
              "      <td>차대사람 - 횡단중</td>\n",
              "      <td>보행자보호의무위반</td>\n",
              "      <td>포장 - 건조</td>\n",
              "      <td>맑음</td>\n",
              "      <td>교차로 - 교차로횡단보도내</td>\n",
              "      <td>승용</td>\n",
              "      <td>남</td>\n",
              "      <td>26세</td>\n",
              "      <td>상해없음</td>\n",
              "      <td>보행자</td>\n",
              "      <td>남</td>\n",
              "      <td>40세</td>\n",
              "      <td>경상</td>\n",
              "    </tr>\n",
              "    <tr>\n",
              "      <th>1</th>\n",
              "      <td>2.019010e+15</td>\n",
              "      <td>2019년 1월 1일 00시</td>\n",
              "      <td>화요일</td>\n",
              "      <td>서울특별시 구로구 고척동</td>\n",
              "      <td>경상사고</td>\n",
              "      <td>0</td>\n",
              "      <td>0</td>\n",
              "      <td>1</td>\n",
              "      <td>0</td>\n",
              "      <td>차대차 - 추돌</td>\n",
              "      <td>안전운전불이행</td>\n",
              "      <td>포장 - 건조</td>\n",
              "      <td>맑음</td>\n",
              "      <td>단일로 - 기타</td>\n",
              "      <td>이륜</td>\n",
              "      <td>남</td>\n",
              "      <td>23세</td>\n",
              "      <td>상해없음</td>\n",
              "      <td>승용</td>\n",
              "      <td>남</td>\n",
              "      <td>71세</td>\n",
              "      <td>경상</td>\n",
              "    </tr>\n",
              "    <tr>\n",
              "      <th>2</th>\n",
              "      <td>2.019010e+15</td>\n",
              "      <td>2019년 1월 1일 00시</td>\n",
              "      <td>화요일</td>\n",
              "      <td>서울특별시 서초구 서초동</td>\n",
              "      <td>경상사고</td>\n",
              "      <td>0</td>\n",
              "      <td>0</td>\n",
              "      <td>1</td>\n",
              "      <td>0</td>\n",
              "      <td>차대차 - 기타</td>\n",
              "      <td>안전운전불이행</td>\n",
              "      <td>포장 - 건조</td>\n",
              "      <td>맑음</td>\n",
              "      <td>기타 - 기타</td>\n",
              "      <td>승용</td>\n",
              "      <td>남</td>\n",
              "      <td>33세</td>\n",
              "      <td>상해없음</td>\n",
              "      <td>화물</td>\n",
              "      <td>남</td>\n",
              "      <td>51세</td>\n",
              "      <td>경상</td>\n",
              "    </tr>\n",
              "  </tbody>\n",
              "</table>\n",
              "</div>"
            ],
            "text/plain": [
              "           사고번호             사고일시   요일  ... 피해운전자 성별 피해운전자 연령  피해운전자 상해정도\n",
              "0  2.019010e+15  2019년 1월 1일 00시  화요일  ...        남      40세          경상\n",
              "1  2.019010e+15  2019년 1월 1일 00시  화요일  ...        남      71세          경상\n",
              "2  2.019010e+15  2019년 1월 1일 00시  화요일  ...        남      51세          경상\n",
              "\n",
              "[3 rows x 22 columns]"
            ]
          },
          "metadata": {
            "tags": []
          },
          "execution_count": 5
        }
      ]
    },
    {
      "cell_type": "code",
      "metadata": {
        "colab": {
          "base_uri": "https://localhost:8080/"
        },
        "id": "fKVa9XshBecZ",
        "outputId": "fa0e6c98-e5b4-42a0-e92d-35f16fd758d7"
      },
      "source": [
        "df_acci.shape"
      ],
      "execution_count": 6,
      "outputs": [
        {
          "output_type": "execute_result",
          "data": {
            "text/plain": [
              "(74485, 22)"
            ]
          },
          "metadata": {
            "tags": []
          },
          "execution_count": 6
        }
      ]
    },
    {
      "cell_type": "markdown",
      "metadata": {
        "id": "Z-f5otrGMIr0"
      },
      "source": [
        "# 분석"
      ]
    },
    {
      "cell_type": "markdown",
      "metadata": {
        "id": "TKn1l57YML_V"
      },
      "source": [
        "## 결측치"
      ]
    },
    {
      "cell_type": "markdown",
      "metadata": {
        "id": "zvfP4BD8CDh7"
      },
      "source": [
        "- 18열(피해운전자 차종) 부터 21열(피해운전자 상해정도) 까지는 약 2,260개의 null값이 존재"
      ]
    },
    {
      "cell_type": "code",
      "metadata": {
        "colab": {
          "base_uri": "https://localhost:8080/"
        },
        "id": "fc-9WfmXBgQx",
        "outputId": "7238c383-5cd0-4de7-9341-a887114e485f"
      },
      "source": [
        "df_acci.info()"
      ],
      "execution_count": 7,
      "outputs": [
        {
          "output_type": "stream",
          "text": [
            "<class 'pandas.core.frame.DataFrame'>\n",
            "RangeIndex: 74485 entries, 0 to 74484\n",
            "Data columns (total 22 columns):\n",
            " #   Column      Non-Null Count  Dtype  \n",
            "---  ------      --------------  -----  \n",
            " 0   사고번호        74485 non-null  float64\n",
            " 1   사고일시        74485 non-null  object \n",
            " 2   요일          74485 non-null  object \n",
            " 3   시군구         74485 non-null  object \n",
            " 4   사고내용        74485 non-null  object \n",
            " 5   사망자수        74485 non-null  int64  \n",
            " 6   중상자수        74485 non-null  int64  \n",
            " 7   경상자수        74485 non-null  int64  \n",
            " 8   부상신고자수      74485 non-null  int64  \n",
            " 9   사고유형        74485 non-null  object \n",
            " 10  법규위반        74485 non-null  object \n",
            " 11  노면상태        74485 non-null  object \n",
            " 12  기상상태        74485 non-null  object \n",
            " 13  도로형태        74485 non-null  object \n",
            " 14  가해운전자 차종    74485 non-null  object \n",
            " 15  가해운전자 성별    74485 non-null  object \n",
            " 16  가해운전자 연령    74485 non-null  object \n",
            " 17  가해운전자 상해정도  74485 non-null  object \n",
            " 18  피해운전자 차종    72225 non-null  object \n",
            " 19  피해운전자 성별    72225 non-null  object \n",
            " 20  피해운전자 연령    72225 non-null  object \n",
            " 21  피해운전자 상해정도  72225 non-null  object \n",
            "dtypes: float64(1), int64(4), object(17)\n",
            "memory usage: 12.5+ MB\n"
          ],
          "name": "stdout"
        }
      ]
    },
    {
      "cell_type": "code",
      "metadata": {
        "colab": {
          "base_uri": "https://localhost:8080/",
          "height": 639
        },
        "id": "A6ltnZADB_mv",
        "outputId": "224daaf7-7989-431d-b3df-62837131c522"
      },
      "source": [
        "msno.matrix(df_acci)"
      ],
      "execution_count": 8,
      "outputs": [
        {
          "output_type": "execute_result",
          "data": {
            "text/plain": [
              "<matplotlib.axes._subplots.AxesSubplot at 0x7ff21bee5c10>"
            ]
          },
          "metadata": {
            "tags": []
          },
          "execution_count": 8
        },
        {
          "output_type": "display_data",
          "data": {
            "image/png": "[encoded data removed]",
            "text/plain": [
              "<Figure size 1800x720 with 2 Axes>"
            ]
          },
          "metadata": {
            "tags": [],
            "needs_background": "light"
          }
        }
      ]
    },
    {
      "cell_type": "markdown",
      "metadata": {
        "id": "7q7uxMWJLbzC"
      },
      "source": [
        "- 그리고 모두 같은 row에서 null값이 표출됨"
      ]
    },
    {
      "cell_type": "code",
      "metadata": {
        "id": "sPKxusNNKOeC"
      },
      "source": [
        "a = df_acci[df_acci['피해운전자 차종'].isnull()].index\n",
        "b = df_acci[df_acci['피해운전자 성별'].isnull()].index\n",
        "c = df_acci[df_acci['피해운전자 연령'].isnull()].index\n",
        "d = df_acci[df_acci['피해운전자 상해정도'].isnull()].index"
      ],
      "execution_count": 46,
      "outputs": []
    },
    {
      "cell_type": "code",
      "metadata": {
        "colab": {
          "base_uri": "https://localhost:8080/"
        },
        "id": "L7A5wvjlDjkB",
        "outputId": "02338d89-2bfc-491d-855e-c5d124da9ab1"
      },
      "source": [
        "set(a) == set(b) and set(b) == set(c) and set(c) == set(d)"
      ],
      "execution_count": 50,
      "outputs": [
        {
          "output_type": "execute_result",
          "data": {
            "text/plain": [
              "True"
            ]
          },
          "metadata": {
            "tags": []
          },
          "execution_count": 50
        }
      ]
    },
    {
      "cell_type": "code",
      "metadata": {
        "colab": {
          "base_uri": "https://localhost:8080/",
          "height": 408
        },
        "id": "qpuD4XFxKrwD",
        "outputId": "82a2e526-f212-4283-be30-a74781204a20"
      },
      "source": [
        "df_acci.iloc[74330:74335]"
      ],
      "execution_count": 52,
      "outputs": [
        {
          "output_type": "execute_result",
          "data": {
            "text/html": [
              "<div>\n",
              "<style scoped>\n",
              "    .dataframe tbody tr th:only-of-type {\n",
              "        vertical-align: middle;\n",
              "    }\n",
              "\n",
              "    .dataframe tbody tr th {\n",
              "        vertical-align: top;\n",
              "    }\n",
              "\n",
              "    .dataframe thead th {\n",
              "        text-align: right;\n",
              "    }\n",
              "</style>\n",
              "<table border=\"1\" class=\"dataframe\">\n",
              "  <thead>\n",
              "    <tr style=\"text-align: right;\">\n",
              "      <th></th>\n",
              "      <th>사고번호</th>\n",
              "      <th>사고일시</th>\n",
              "      <th>요일</th>\n",
              "      <th>시군구</th>\n",
              "      <th>사고내용</th>\n",
              "      <th>사망자수</th>\n",
              "      <th>중상자수</th>\n",
              "      <th>경상자수</th>\n",
              "      <th>부상신고자수</th>\n",
              "      <th>사고유형</th>\n",
              "      <th>법규위반</th>\n",
              "      <th>노면상태</th>\n",
              "      <th>기상상태</th>\n",
              "      <th>도로형태</th>\n",
              "      <th>가해운전자 차종</th>\n",
              "      <th>가해운전자 성별</th>\n",
              "      <th>가해운전자 연령</th>\n",
              "      <th>가해운전자 상해정도</th>\n",
              "      <th>피해운전자 차종</th>\n",
              "      <th>피해운전자 성별</th>\n",
              "      <th>피해운전자 연령</th>\n",
              "      <th>피해운전자 상해정도</th>\n",
              "    </tr>\n",
              "  </thead>\n",
              "  <tbody>\n",
              "    <tr>\n",
              "      <th>74330</th>\n",
              "      <td>2.020123e+15</td>\n",
              "      <td>2020년 12월 30일 14시</td>\n",
              "      <td>수요일</td>\n",
              "      <td>서울특별시 영등포구 문래동1가</td>\n",
              "      <td>경상사고</td>\n",
              "      <td>0</td>\n",
              "      <td>0</td>\n",
              "      <td>1</td>\n",
              "      <td>1</td>\n",
              "      <td>차대차 - 측면충돌</td>\n",
              "      <td>안전거리미확보</td>\n",
              "      <td>포장 - 건조</td>\n",
              "      <td>맑음</td>\n",
              "      <td>단일로 - 기타</td>\n",
              "      <td>승용</td>\n",
              "      <td>남</td>\n",
              "      <td>61세</td>\n",
              "      <td>부상신고</td>\n",
              "      <td>승용</td>\n",
              "      <td>남</td>\n",
              "      <td>52세</td>\n",
              "      <td>경상</td>\n",
              "    </tr>\n",
              "    <tr>\n",
              "      <th>74331</th>\n",
              "      <td>2.020123e+15</td>\n",
              "      <td>2020년 12월 30일 14시</td>\n",
              "      <td>수요일</td>\n",
              "      <td>서울특별시 강서구 염창동</td>\n",
              "      <td>경상사고</td>\n",
              "      <td>0</td>\n",
              "      <td>0</td>\n",
              "      <td>2</td>\n",
              "      <td>0</td>\n",
              "      <td>차대차 - 추돌</td>\n",
              "      <td>안전거리미확보</td>\n",
              "      <td>포장 - 건조</td>\n",
              "      <td>맑음</td>\n",
              "      <td>단일로 - 기타</td>\n",
              "      <td>화물</td>\n",
              "      <td>남</td>\n",
              "      <td>64세</td>\n",
              "      <td>상해없음</td>\n",
              "      <td>승용</td>\n",
              "      <td>남</td>\n",
              "      <td>41세</td>\n",
              "      <td>경상</td>\n",
              "    </tr>\n",
              "    <tr>\n",
              "      <th>74332</th>\n",
              "      <td>2.020123e+15</td>\n",
              "      <td>2020년 12월 30일 14시</td>\n",
              "      <td>수요일</td>\n",
              "      <td>서울특별시 강서구 가양동</td>\n",
              "      <td>경상사고</td>\n",
              "      <td>0</td>\n",
              "      <td>0</td>\n",
              "      <td>1</td>\n",
              "      <td>0</td>\n",
              "      <td>차량단독 - 공작물충돌</td>\n",
              "      <td>안전운전불이행</td>\n",
              "      <td>포장 - 기타</td>\n",
              "      <td>맑음</td>\n",
              "      <td>단일로 - 교량</td>\n",
              "      <td>승용</td>\n",
              "      <td>남</td>\n",
              "      <td>36세</td>\n",
              "      <td>경상</td>\n",
              "      <td>NaN</td>\n",
              "      <td>NaN</td>\n",
              "      <td>NaN</td>\n",
              "      <td>NaN</td>\n",
              "    </tr>\n",
              "    <tr>\n",
              "      <th>74333</th>\n",
              "      <td>2.020120e+15</td>\n",
              "      <td>2020년 12월 30일 14시</td>\n",
              "      <td>수요일</td>\n",
              "      <td>서울특별시 양천구 신정동</td>\n",
              "      <td>중상사고</td>\n",
              "      <td>0</td>\n",
              "      <td>1</td>\n",
              "      <td>3</td>\n",
              "      <td>0</td>\n",
              "      <td>차대차 - 추돌</td>\n",
              "      <td>안전운전불이행</td>\n",
              "      <td>포장 - 건조</td>\n",
              "      <td>맑음</td>\n",
              "      <td>단일로 - 기타</td>\n",
              "      <td>승용</td>\n",
              "      <td>남</td>\n",
              "      <td>62세</td>\n",
              "      <td>상해없음</td>\n",
              "      <td>승용</td>\n",
              "      <td>여</td>\n",
              "      <td>59세</td>\n",
              "      <td>경상</td>\n",
              "    </tr>\n",
              "    <tr>\n",
              "      <th>74334</th>\n",
              "      <td>2.020123e+15</td>\n",
              "      <td>2020년 12월 30일 15시</td>\n",
              "      <td>수요일</td>\n",
              "      <td>서울특별시 중구 명동2가</td>\n",
              "      <td>사망사고</td>\n",
              "      <td>1</td>\n",
              "      <td>0</td>\n",
              "      <td>0</td>\n",
              "      <td>0</td>\n",
              "      <td>차량단독 - 기타</td>\n",
              "      <td>안전운전불이행</td>\n",
              "      <td>포장 - 건조</td>\n",
              "      <td>맑음</td>\n",
              "      <td>교차로 - 교차로안</td>\n",
              "      <td>승합</td>\n",
              "      <td>남</td>\n",
              "      <td>59세</td>\n",
              "      <td>상해없음</td>\n",
              "      <td>NaN</td>\n",
              "      <td>NaN</td>\n",
              "      <td>NaN</td>\n",
              "      <td>NaN</td>\n",
              "    </tr>\n",
              "  </tbody>\n",
              "</table>\n",
              "</div>"
            ],
            "text/plain": [
              "               사고번호               사고일시   요일  ... 피해운전자 성별 피해운전자 연령  피해운전자 상해정도\n",
              "74330  2.020123e+15  2020년 12월 30일 14시  수요일  ...        남      52세          경상\n",
              "74331  2.020123e+15  2020년 12월 30일 14시  수요일  ...        남      41세          경상\n",
              "74332  2.020123e+15  2020년 12월 30일 14시  수요일  ...      NaN      NaN         NaN\n",
              "74333  2.020120e+15  2020년 12월 30일 14시  수요일  ...        여      59세          경상\n",
              "74334  2.020123e+15  2020년 12월 30일 15시  수요일  ...      NaN      NaN         NaN\n",
              "\n",
              "[5 rows x 22 columns]"
            ]
          },
          "metadata": {
            "tags": []
          },
          "execution_count": 52
        }
      ]
    },
    {
      "cell_type": "markdown",
      "metadata": {
        "id": "i-S6xYqRL844"
      },
      "source": [
        "- 피해자 관련 null인 이유는 차량 단독 사고인 경우로 파악"
      ]
    },
    {
      "cell_type": "code",
      "metadata": {
        "colab": {
          "base_uri": "https://localhost:8080/"
        },
        "id": "tq0TIo5jLjmm",
        "outputId": "6dccf3cc-58f9-4b50-a021-0af41409b369"
      },
      "source": [
        "df_acci[df_acci['피해운전자 차종'].isnull()]['사고유형'].unique()"
      ],
      "execution_count": 54,
      "outputs": [
        {
          "output_type": "execute_result",
          "data": {
            "text/plain": [
              "array(['차량단독 - 기타', '차량단독 - 공작물충돌', '차량단독 - 전도전복 - 전도',\n",
              "       '차량단독 - 도로외이탈 - 기타', '차량단독 - 전도전복 - 전복', '차량단독 - 주/정차차량 충돌',\n",
              "       '차량단독 - 도로외이탈 - 추락'], dtype=object)"
            ]
          },
          "metadata": {
            "tags": []
          },
          "execution_count": 54
        }
      ]
    },
    {
      "cell_type": "code",
      "metadata": {
        "colab": {
          "base_uri": "https://localhost:8080/"
        },
        "id": "OR6lOkcoL0uQ",
        "outputId": "cc18f2c8-0002-427f-d025-fb1aaa7ea79f"
      },
      "source": [
        "df_acci['사고유형'].unique()"
      ],
      "execution_count": 55,
      "outputs": [
        {
          "output_type": "execute_result",
          "data": {
            "text/plain": [
              "array(['차대사람 - 횡단중', '차대차 - 추돌', '차대차 - 기타', '차대차 - 측면충돌', '차대사람 - 기타',\n",
              "       '차대사람 - 차도통행중', '차량단독 - 기타', '차대차 - 후진중충돌', '차대사람 - 길가장자리구역통행중',\n",
              "       '차대사람 - 보도통행중', '차대차 - 정면충돌', '차량단독 - 공작물충돌', '차량단독 - 전도전복 - 전도',\n",
              "       '차량단독 - 도로외이탈 - 기타', '차량단독 - 전도전복 - 전복', '차량단독 - 주/정차차량 충돌',\n",
              "       '차량단독 - 도로외이탈 - 추락'], dtype=object)"
            ]
          },
          "metadata": {
            "tags": []
          },
          "execution_count": 55
        }
      ]
    },
    {
      "cell_type": "markdown",
      "metadata": {
        "id": "FvlNiKynR7mL"
      },
      "source": [
        "## 전처리"
      ]
    },
    {
      "cell_type": "markdown",
      "metadata": {
        "id": "WES13SoLSoqF"
      },
      "source": [
        "### time"
      ]
    },
    {
      "cell_type": "code",
      "metadata": {
        "colab": {
          "base_uri": "https://localhost:8080/"
        },
        "id": "S8y_bIbmR9M2",
        "outputId": "7acc00ee-11c4-426c-c9d8-45ec854d4d2c"
      },
      "source": [
        "df_acci['사고일시'].iloc[0].split(' ')"
      ],
      "execution_count": 96,
      "outputs": [
        {
          "output_type": "execute_result",
          "data": {
            "text/plain": [
              "['2019년', '1월', '1일', '00시']"
            ]
          },
          "metadata": {
            "tags": []
          },
          "execution_count": 96
        }
      ]
    },
    {
      "cell_type": "code",
      "metadata": {
        "id": "WsFv5RzKSG96"
      },
      "source": [
        "df_acci['연도'] = [x.split(' ')[0][:4] for x in df_acci['사고일시']]\n",
        "df_acci['사고 월'] = [x.split(' ')[1] for x in df_acci['사고일시']]\n",
        "df_acci['사고 일'] = [x.split(' ')[2] for x in df_acci['사고일시']]\n",
        "df_acci['사고 시각'] = [x.split(' ')[3] for x in df_acci['사고일시']]"
      ],
      "execution_count": 97,
      "outputs": []
    },
    {
      "cell_type": "code",
      "metadata": {
        "colab": {
          "base_uri": "https://localhost:8080/",
          "height": 346
        },
        "id": "adbYuYv1ShKY",
        "outputId": "19b731b1-e85f-47d2-bdcb-9dd063f3f64b"
      },
      "source": [
        "df_acci.head(3)"
      ],
      "execution_count": 102,
      "outputs": [
        {
          "output_type": "execute_result",
          "data": {
            "text/html": [
              "<div>\n",
              "<style scoped>\n",
              "    .dataframe tbody tr th:only-of-type {\n",
              "        vertical-align: middle;\n",
              "    }\n",
              "\n",
              "    .dataframe tbody tr th {\n",
              "        vertical-align: top;\n",
              "    }\n",
              "\n",
              "    .dataframe thead th {\n",
              "        text-align: right;\n",
              "    }\n",
              "</style>\n",
              "<table border=\"1\" class=\"dataframe\">\n",
              "  <thead>\n",
              "    <tr style=\"text-align: right;\">\n",
              "      <th></th>\n",
              "      <th>사고번호</th>\n",
              "      <th>사고일시</th>\n",
              "      <th>요일</th>\n",
              "      <th>시군구</th>\n",
              "      <th>사고내용</th>\n",
              "      <th>사망자수</th>\n",
              "      <th>중상자수</th>\n",
              "      <th>경상자수</th>\n",
              "      <th>부상신고자수</th>\n",
              "      <th>사고유형</th>\n",
              "      <th>법규위반</th>\n",
              "      <th>노면상태</th>\n",
              "      <th>기상상태</th>\n",
              "      <th>도로형태</th>\n",
              "      <th>가해운전자 차종</th>\n",
              "      <th>가해운전자 성별</th>\n",
              "      <th>가해운전자 연령</th>\n",
              "      <th>가해운전자 상해정도</th>\n",
              "      <th>피해운전자 차종</th>\n",
              "      <th>피해운전자 성별</th>\n",
              "      <th>피해운전자 연령</th>\n",
              "      <th>피해운전자 상해정도</th>\n",
              "      <th>연도</th>\n",
              "      <th>사고 월</th>\n",
              "      <th>사고 일</th>\n",
              "      <th>사고 시각</th>\n",
              "    </tr>\n",
              "  </thead>\n",
              "  <tbody>\n",
              "    <tr>\n",
              "      <th>0</th>\n",
              "      <td>2.019010e+15</td>\n",
              "      <td>2019년 1월 1일 00시</td>\n",
              "      <td>화요일</td>\n",
              "      <td>서울특별시 강서구 방화동</td>\n",
              "      <td>경상사고</td>\n",
              "      <td>0</td>\n",
              "      <td>0</td>\n",
              "      <td>1</td>\n",
              "      <td>0</td>\n",
              "      <td>차대사람 - 횡단중</td>\n",
              "      <td>보행자보호의무위반</td>\n",
              "      <td>포장 - 건조</td>\n",
              "      <td>맑음</td>\n",
              "      <td>교차로 - 교차로횡단보도내</td>\n",
              "      <td>승용</td>\n",
              "      <td>남</td>\n",
              "      <td>26세</td>\n",
              "      <td>상해없음</td>\n",
              "      <td>보행자</td>\n",
              "      <td>남</td>\n",
              "      <td>40세</td>\n",
              "      <td>경상</td>\n",
              "      <td>2019</td>\n",
              "      <td>1월</td>\n",
              "      <td>1일</td>\n",
              "      <td>00시</td>\n",
              "    </tr>\n",
              "    <tr>\n",
              "      <th>1</th>\n",
              "      <td>2.019010e+15</td>\n",
              "      <td>2019년 1월 1일 00시</td>\n",
              "      <td>화요일</td>\n",
              "      <td>서울특별시 구로구 고척동</td>\n",
              "      <td>경상사고</td>\n",
              "      <td>0</td>\n",
              "      <td>0</td>\n",
              "      <td>1</td>\n",
              "      <td>0</td>\n",
              "      <td>차대차 - 추돌</td>\n",
              "      <td>안전운전불이행</td>\n",
              "      <td>포장 - 건조</td>\n",
              "      <td>맑음</td>\n",
              "      <td>단일로 - 기타</td>\n",
              "      <td>이륜</td>\n",
              "      <td>남</td>\n",
              "      <td>23세</td>\n",
              "      <td>상해없음</td>\n",
              "      <td>승용</td>\n",
              "      <td>남</td>\n",
              "      <td>71세</td>\n",
              "      <td>경상</td>\n",
              "      <td>2019</td>\n",
              "      <td>1월</td>\n",
              "      <td>1일</td>\n",
              "      <td>00시</td>\n",
              "    </tr>\n",
              "    <tr>\n",
              "      <th>2</th>\n",
              "      <td>2.019010e+15</td>\n",
              "      <td>2019년 1월 1일 00시</td>\n",
              "      <td>화요일</td>\n",
              "      <td>서울특별시 서초구 서초동</td>\n",
              "      <td>경상사고</td>\n",
              "      <td>0</td>\n",
              "      <td>0</td>\n",
              "      <td>1</td>\n",
              "      <td>0</td>\n",
              "      <td>차대차 - 기타</td>\n",
              "      <td>안전운전불이행</td>\n",
              "      <td>포장 - 건조</td>\n",
              "      <td>맑음</td>\n",
              "      <td>기타 - 기타</td>\n",
              "      <td>승용</td>\n",
              "      <td>남</td>\n",
              "      <td>33세</td>\n",
              "      <td>상해없음</td>\n",
              "      <td>화물</td>\n",
              "      <td>남</td>\n",
              "      <td>51세</td>\n",
              "      <td>경상</td>\n",
              "      <td>2019</td>\n",
              "      <td>1월</td>\n",
              "      <td>1일</td>\n",
              "      <td>00시</td>\n",
              "    </tr>\n",
              "  </tbody>\n",
              "</table>\n",
              "</div>"
            ],
            "text/plain": [
              "           사고번호             사고일시   요일            시군구  ...    연도  사고 월  사고 일  사고 시각\n",
              "0  2.019010e+15  2019년 1월 1일 00시  화요일  서울특별시 강서구 방화동  ...  2019    1월    1일    00시\n",
              "1  2.019010e+15  2019년 1월 1일 00시  화요일  서울특별시 구로구 고척동  ...  2019    1월    1일    00시\n",
              "2  2.019010e+15  2019년 1월 1일 00시  화요일  서울특별시 서초구 서초동  ...  2019    1월    1일    00시\n",
              "\n",
              "[3 rows x 26 columns]"
            ]
          },
          "metadata": {
            "tags": []
          },
          "execution_count": 102
        }
      ]
    },
    {
      "cell_type": "markdown",
      "metadata": {
        "id": "c-iHLeVuSsVQ"
      },
      "source": [
        "### 발생 장소(동)"
      ]
    },
    {
      "cell_type": "code",
      "metadata": {
        "colab": {
          "base_uri": "https://localhost:8080/"
        },
        "id": "gMXC7MzKSuHu",
        "outputId": "eb7e5de7-d12f-467b-c1e2-d48aca15ab8c"
      },
      "source": [
        "df_acci['시군구'].iloc[0].split(' ')"
      ],
      "execution_count": 103,
      "outputs": [
        {
          "output_type": "execute_result",
          "data": {
            "text/plain": [
              "['서울특별시', '강서구', '방화동']"
            ]
          },
          "metadata": {
            "tags": []
          },
          "execution_count": 103
        }
      ]
    },
    {
      "cell_type": "code",
      "metadata": {
        "id": "66UsYramWO4V"
      },
      "source": [
        "del df_acci['시']\n",
        "del df_acci['군']\n",
        "del df_acci['구']"
      ],
      "execution_count": 107,
      "outputs": []
    },
    {
      "cell_type": "code",
      "metadata": {
        "id": "1nWbmesoWG8e"
      },
      "source": [
        "df_acci['시'] = [x.split(' ')[0] for x in df_acci['시군구']]\n",
        "df_acci['구'] = [x.split(' ')[1] for x in df_acci['시군구']]\n",
        "df_acci['동'] = [x.split(' ')[2] for x in df_acci['시군구']]"
      ],
      "execution_count": 108,
      "outputs": []
    },
    {
      "cell_type": "code",
      "metadata": {
        "colab": {
          "base_uri": "https://localhost:8080/"
        },
        "id": "rtueqQ3XWLFt",
        "outputId": "46ce3172-3912-47eb-a4b6-0e9e12ea1c30"
      },
      "source": [
        "df_acci['구'].unique()"
      ],
      "execution_count": 109,
      "outputs": [
        {
          "output_type": "execute_result",
          "data": {
            "text/plain": [
              "array(['강서구', '구로구', '서초구', '중구', '성동구', '송파구', '노원구', '강남구', '양천구',\n",
              "       '영등포구', '중랑구', '관악구', '성북구', '강동구', '서대문구', '종로구', '동대문구', '마포구',\n",
              "       '용산구', '광진구', '동작구', '은평구', '금천구', '강북구', '도봉구', '미분류'],\n",
              "      dtype=object)"
            ]
          },
          "metadata": {
            "tags": []
          },
          "execution_count": 109
        }
      ]
    },
    {
      "cell_type": "code",
      "metadata": {
        "colab": {
          "base_uri": "https://localhost:8080/",
          "height": 298
        },
        "id": "KwAcgEZoYc9t",
        "outputId": "e15c8516-176c-4ae2-e7a2-f8e79fdad527"
      },
      "source": [
        "df_acci.head(2)"
      ],
      "execution_count": 114,
      "outputs": [
        {
          "output_type": "execute_result",
          "data": {
            "text/html": [
              "<div>\n",
              "<style scoped>\n",
              "    .dataframe tbody tr th:only-of-type {\n",
              "        vertical-align: middle;\n",
              "    }\n",
              "\n",
              "    .dataframe tbody tr th {\n",
              "        vertical-align: top;\n",
              "    }\n",
              "\n",
              "    .dataframe thead th {\n",
              "        text-align: right;\n",
              "    }\n",
              "</style>\n",
              "<table border=\"1\" class=\"dataframe\">\n",
              "  <thead>\n",
              "    <tr style=\"text-align: right;\">\n",
              "      <th></th>\n",
              "      <th>사고번호</th>\n",
              "      <th>사고일시</th>\n",
              "      <th>요일</th>\n",
              "      <th>시군구</th>\n",
              "      <th>사고내용</th>\n",
              "      <th>사망자수</th>\n",
              "      <th>중상자수</th>\n",
              "      <th>경상자수</th>\n",
              "      <th>부상신고자수</th>\n",
              "      <th>사고유형</th>\n",
              "      <th>법규위반</th>\n",
              "      <th>노면상태</th>\n",
              "      <th>기상상태</th>\n",
              "      <th>도로형태</th>\n",
              "      <th>가해운전자 차종</th>\n",
              "      <th>가해운전자 성별</th>\n",
              "      <th>가해운전자 연령</th>\n",
              "      <th>가해운전자 상해정도</th>\n",
              "      <th>피해운전자 차종</th>\n",
              "      <th>피해운전자 성별</th>\n",
              "      <th>피해운전자 연령</th>\n",
              "      <th>피해운전자 상해정도</th>\n",
              "      <th>연도</th>\n",
              "      <th>사고 월</th>\n",
              "      <th>사고 일</th>\n",
              "      <th>사고 시각</th>\n",
              "      <th>시</th>\n",
              "      <th>구</th>\n",
              "      <th>동</th>\n",
              "    </tr>\n",
              "  </thead>\n",
              "  <tbody>\n",
              "    <tr>\n",
              "      <th>0</th>\n",
              "      <td>2.019010e+15</td>\n",
              "      <td>2019년 1월 1일 00시</td>\n",
              "      <td>화요일</td>\n",
              "      <td>서울특별시 강서구 방화동</td>\n",
              "      <td>경상사고</td>\n",
              "      <td>0</td>\n",
              "      <td>0</td>\n",
              "      <td>1</td>\n",
              "      <td>0</td>\n",
              "      <td>차대사람 - 횡단중</td>\n",
              "      <td>보행자보호의무위반</td>\n",
              "      <td>포장 - 건조</td>\n",
              "      <td>맑음</td>\n",
              "      <td>교차로 - 교차로횡단보도내</td>\n",
              "      <td>승용</td>\n",
              "      <td>남</td>\n",
              "      <td>26세</td>\n",
              "      <td>상해없음</td>\n",
              "      <td>보행자</td>\n",
              "      <td>남</td>\n",
              "      <td>40세</td>\n",
              "      <td>경상</td>\n",
              "      <td>2019</td>\n",
              "      <td>1월</td>\n",
              "      <td>1일</td>\n",
              "      <td>00시</td>\n",
              "      <td>서울특별시</td>\n",
              "      <td>강서구</td>\n",
              "      <td>방화동</td>\n",
              "    </tr>\n",
              "    <tr>\n",
              "      <th>1</th>\n",
              "      <td>2.019010e+15</td>\n",
              "      <td>2019년 1월 1일 00시</td>\n",
              "      <td>화요일</td>\n",
              "      <td>서울특별시 구로구 고척동</td>\n",
              "      <td>경상사고</td>\n",
              "      <td>0</td>\n",
              "      <td>0</td>\n",
              "      <td>1</td>\n",
              "      <td>0</td>\n",
              "      <td>차대차 - 추돌</td>\n",
              "      <td>안전운전불이행</td>\n",
              "      <td>포장 - 건조</td>\n",
              "      <td>맑음</td>\n",
              "      <td>단일로 - 기타</td>\n",
              "      <td>이륜</td>\n",
              "      <td>남</td>\n",
              "      <td>23세</td>\n",
              "      <td>상해없음</td>\n",
              "      <td>승용</td>\n",
              "      <td>남</td>\n",
              "      <td>71세</td>\n",
              "      <td>경상</td>\n",
              "      <td>2019</td>\n",
              "      <td>1월</td>\n",
              "      <td>1일</td>\n",
              "      <td>00시</td>\n",
              "      <td>서울특별시</td>\n",
              "      <td>구로구</td>\n",
              "      <td>고척동</td>\n",
              "    </tr>\n",
              "  </tbody>\n",
              "</table>\n",
              "</div>"
            ],
            "text/plain": [
              "           사고번호             사고일시   요일            시군구  ... 사고 시각      시    구    동\n",
              "0  2.019010e+15  2019년 1월 1일 00시  화요일  서울특별시 강서구 방화동  ...   00시  서울특별시  강서구  방화동\n",
              "1  2.019010e+15  2019년 1월 1일 00시  화요일  서울특별시 구로구 고척동  ...   00시  서울특별시  구로구  고척동\n",
              "\n",
              "[2 rows x 29 columns]"
            ]
          },
          "metadata": {
            "tags": []
          },
          "execution_count": 114
        }
      ]
    },
    {
      "cell_type": "markdown",
      "metadata": {
        "id": "B-IXbDLMcSkg"
      },
      "source": [
        "### 전체 건수"
      ]
    },
    {
      "cell_type": "code",
      "metadata": {
        "id": "AAGA_rUCcT9E"
      },
      "source": [
        "df_acci['전체 신고 수'] = df_acci['사망자수'] + df_acci['중상자수'] + df_acci['경상자수'] + df_acci['부상신고자수']"
      ],
      "execution_count": 153,
      "outputs": []
    },
    {
      "cell_type": "markdown",
      "metadata": {
        "id": "7vQ9pa7DqBA0"
      },
      "source": [
        "### 연령대"
      ]
    },
    {
      "cell_type": "code",
      "metadata": {
        "id": "SYnt1Ujk7cv1"
      },
      "source": [
        "math.trunc?"
      ],
      "execution_count": 264,
      "outputs": []
    },
    {
      "cell_type": "code",
      "metadata": {
        "id": "MdPZzkp1sPJt"
      },
      "source": [
        "df_acci['가해운전자 연령대'] = [str(int(x.split('세')[0][0]))+'0대' if x != '미분류' else x for x in df_acci['가해운전자 연령']]"
      ],
      "execution_count": 271,
      "outputs": []
    },
    {
      "cell_type": "code",
      "metadata": {
        "id": "g20KONqX7Eol"
      },
      "source": [
        "df_acci['피해운전자 연령'] = df_acci['피해운전자 연령'].replace('미분류', np.nan)"
      ],
      "execution_count": 295,
      "outputs": []
    },
    {
      "cell_type": "code",
      "metadata": {
        "id": "7XeP-EVm8Bd-"
      },
      "source": [
        "df_acci['피해운전자 연령대'] = [str(int(x.split()[0][0]))+'0대' if type(x) != float else x for x in df_acci['피해운전자 연령']]"
      ],
      "execution_count": 296,
      "outputs": []
    },
    {
      "cell_type": "markdown",
      "metadata": {
        "id": "nO3PJd62YJot"
      },
      "source": [
        "## 연도별 사고 추이"
      ]
    },
    {
      "cell_type": "markdown",
      "metadata": {
        "id": "dkIXSSiukmY-"
      },
      "source": [
        "- 사고유형별 전체 사고건수 연도 비교"
      ]
    },
    {
      "cell_type": "code",
      "metadata": {
        "id": "lamTRmNDkqPP"
      },
      "source": [
        "df_acci_type = pd.DataFrame(df_acci.groupby(['연도', '사고유형'])['사고유형'].count())"
      ],
      "execution_count": 218,
      "outputs": []
    },
    {
      "cell_type": "code",
      "metadata": {
        "id": "u-6mLvuqk9ZG"
      },
      "source": [
        "df_acci_type['연도'] = df_acci_type.index.get_level_values(0)\n",
        "df_acci_type['type'] = df_acci_type.index.get_level_values(1)"
      ],
      "execution_count": 219,
      "outputs": []
    },
    {
      "cell_type": "markdown",
      "metadata": {
        "id": "HVQVyf0slZuZ"
      },
      "source": [
        "- 2019년도에 비해서 2020년에 증가한 유일한 사고유형은 '차대차 - 기타'"
      ]
    },
    {
      "cell_type": "code",
      "metadata": {
        "colab": {
          "base_uri": "https://localhost:8080/",
          "height": 621
        },
        "id": "XC2i_AS5lDHg",
        "outputId": "7459b9f2-5e5d-4440-d7bc-eb9ebed317a3"
      },
      "source": [
        "plt.figure(figsize=(18,8))\n",
        "sns.barplot(data=df_acci_type,\n",
        "            x='type',\n",
        "            y='사고유형',\n",
        "            hue='연도', palette=\"GnBu\")\n",
        "plt.xticks(rotation=90)\n",
        "plt.legend(loc='best')\n",
        "plt.show()"
      ],
      "execution_count": 222,
      "outputs": [
        {
          "output_type": "display_data",
          "data": {
            "image/png": "[encoded data removed]",
            "text/plain": [
              "<Figure size 1296x576 with 1 Axes>"
            ]
          },
          "metadata": {
            "tags": [],
            "needs_background": "light"
          }
        }
      ]
    },
    {
      "cell_type": "code",
      "metadata": {
        "id": "E82FEPj5lu9U"
      },
      "source": [
        "df_acci_vehi_etc = df_acci[df_acci['사고유형']=='차대차 - 기타']"
      ],
      "execution_count": 299,
      "outputs": []
    },
    {
      "cell_type": "code",
      "metadata": {
        "colab": {
          "base_uri": "https://localhost:8080/"
        },
        "id": "YjDnmoPQm_PZ",
        "outputId": "4efd6686-34cf-4e47-af23-bb0d8763963d"
      },
      "source": [
        "df_acci_vehi_etc.groupby(['연도'])['요일'].value_counts()"
      ],
      "execution_count": 300,
      "outputs": [
        {
          "output_type": "execute_result",
          "data": {
            "text/plain": [
              "연도    요일 \n",
              "2019  금요일    1179\n",
              "      화요일    1144\n",
              "      토요일    1141\n",
              "      수요일    1088\n",
              "      목요일    1087\n",
              "      월요일    1065\n",
              "      일요일     796\n",
              "2020  금요일    1406\n",
              "      수요일    1297\n",
              "      목요일    1233\n",
              "      화요일    1232\n",
              "      토요일    1199\n",
              "      월요일    1185\n",
              "      일요일     888\n",
              "Name: 요일, dtype: int64"
            ]
          },
          "metadata": {
            "tags": []
          },
          "execution_count": 300
        }
      ]
    },
    {
      "cell_type": "code",
      "metadata": {
        "colab": {
          "base_uri": "https://localhost:8080/"
        },
        "id": "AnKIVCfN-9DF",
        "outputId": "3403b288-eda3-4940-915c-c4a6cfd0c725"
      },
      "source": [
        "for i in df_acci_vehi_etc.iloc[:, [2]]:\n",
        "  # print(i)\n",
        "  # for j in df_acci_vehi_etc.groupby(['연도'])[i].value_counts():\n",
        "    # print(j)\n",
        "    for k in range(len(df_acci_vehi_etc.groupby(['연도'])[i].value_counts().loc['2019'])):\n",
        "      val = round((int(df_acci_vehi_etc.groupby(['연도'])[i].value_counts().loc['2020'][k])\n",
        "                    - int(df_acci_vehi_etc.groupby(['연도'])[i].value_counts().loc['2019'][k])) \\\n",
        "                    / int(df_acci_vehi_etc.groupby(['연도'])[i].value_counts().loc['2019'][k])*100, 2)\n",
        "      # if val >= 5 :\n",
        "      print(i, df_acci_vehi_etc.groupby(['연도'])['요일'].value_counts().index[k][1], val, '%')"
      ],
      "execution_count": 326,
      "outputs": [
        {
          "output_type": "stream",
          "text": [
            "요일 금요일 19.25 %\n",
            "요일 화요일 13.37 %\n",
            "요일 토요일 8.06 %\n",
            "요일 수요일 13.24 %\n",
            "요일 목요일 10.3 %\n",
            "요일 월요일 11.27 %\n",
            "요일 일요일 11.56 %\n"
          ],
          "name": "stdout"
        }
      ]
    },
    {
      "cell_type": "code",
      "metadata": {
        "colab": {
          "base_uri": "https://localhost:8080/"
        },
        "id": "J4bcJ0KHoj-A",
        "outputId": "58d637df-518e-4f76-ecdb-7073ecdf4a7c"
      },
      "source": [
        "len(df_acci_vehi_etc.groupby(['연도'])['요일'].value_counts().loc['2019'])"
      ],
      "execution_count": 301,
      "outputs": [
        {
          "output_type": "execute_result",
          "data": {
            "text/plain": [
              "7"
            ]
          },
          "metadata": {
            "tags": []
          },
          "execution_count": 301
        }
      ]
    },
    {
      "cell_type": "code",
      "metadata": {
        "colab": {
          "base_uri": "https://localhost:8080/"
        },
        "id": "2vBBTIi5nG4N",
        "outputId": "81ed6da7-8eb7-4b9b-8fce-437e09b9aef1"
      },
      "source": [
        "print(round((int(df_acci_vehi_etc.groupby(['연도'])['요일'].value_counts().loc['2020'][0]) - int(df_acci_vehi_etc.groupby(['연도'])['요일'].value_counts().loc['2019'][0])) / int(df_acci_vehi_etc.groupby(['연도'])['요일'].value_counts().loc['2019'][0])*100, 2), \"%\")"
      ],
      "execution_count": 302,
      "outputs": [
        {
          "output_type": "stream",
          "text": [
            "19.25 %\n"
          ],
          "name": "stdout"
        }
      ]
    },
    {
      "cell_type": "markdown",
      "metadata": {
        "id": "leD3maYVGCHK"
      },
      "source": [
        ""
      ]
    },
    {
      "cell_type": "code",
      "metadata": {
        "colab": {
          "base_uri": "https://localhost:8080/"
        },
        "id": "mW-186JJl-Ab",
        "outputId": "5d4fe222-0f34-470a-8bb1-5f2af496c38c"
      },
      "source": [
        "for i in df_acci_vehi_etc.iloc[:, [2, 4, 9, 10, 11, 12, 13, 14, 15, 17, 18, 19, 21, 25, 27, 28, 30, 31]]:\n",
        "  for j in range(len(df_acci_vehi_etc.groupby(['연도'])[i].value_counts().loc['2019'])):\n",
        "    val = round((int(df_acci_vehi_etc.groupby(['연도'])[i].value_counts().loc['2020'][j])\n",
        "                  - int(df_acci_vehi_etc.groupby(['연도'])[i].value_counts().loc['2019'][j])) \\\n",
        "                  / int(df_acci_vehi_etc.groupby(['연도'])[i].value_counts().loc['2019'][j])*100, 2)\n",
        "    if val >= 50 :\n",
        "      print(i, df_acci_vehi_etc.groupby(['연도'])[i].value_counts().index[j][1], val, '%')"
      ],
      "execution_count": 329,
      "outputs": [
        {
          "output_type": "stream",
          "text": [
            "사고내용 사망사고 50.0 %\n",
            "법규위반 과속 91.67 %\n",
            "법규위반 보행자보호의무위반 400.0 %\n",
            "노면상태 포장 - 기타 89.22 %\n",
            "노면상태 포장 - 서리/결빙 133.33 %\n",
            "기상상태 눈 100.0 %\n",
            "가해운전자 차종 건설기계 61.11 %\n",
            "가해운전자 차종 개인형이동수단(PM) 141.18 %\n",
            "가해운전자 차종 사륜오토바이(ATV) 200.0 %\n",
            "피해운전자 차종 기타불명 94.74 %\n",
            "피해운전자 상해정도 사망 150.0 %\n",
            "동 광희동2가 50.0 %\n",
            "동 구기동 50.0 %\n",
            "동 남창동 50.0 %\n",
            "동 능동 50.0 %\n",
            "동 동소문동6가 50.0 %\n",
            "동 동숭동 50.0 %\n",
            "동 만리동2가 50.0 %\n",
            "동 문래동1가 50.0 %\n",
            "동 문배동 50.0 %\n",
            "동 보문동2가 50.0 %\n",
            "동 봉래동1가 50.0 %\n",
            "동 구수동 100.0 %\n",
            "동 금호동2가 100.0 %\n",
            "동 남대문로3가 100.0 %\n",
            "동 남산동2가 100.0 %\n",
            "동 남학동 100.0 %\n",
            "동 내자동 100.0 %\n",
            "동 누상동 100.0 %\n",
            "동 당인동 100.0 %\n",
            "동 당주동 100.0 %\n",
            "동 동빙고동 100.0 %\n",
            "동 동선동2가 100.0 %\n",
            "동 동선동5가 100.0 %\n",
            "동 동소문동1가 100.0 %\n",
            "동 동소문동3가 100.0 %\n",
            "동 동소문동5가 100.0 %\n",
            "동 동소문동7가 100.0 %\n",
            "동 동자동 100.0 %\n",
            "동 명동1가 100.0 %\n",
            "동 명륜4가 100.0 %\n",
            "피해운전자 연령대 90대 60.0 %\n"
          ],
          "name": "stdout"
        }
      ]
    },
    {
      "cell_type": "markdown",
      "metadata": {
        "id": "knO2OKxDiuHY"
      },
      "source": [
        "- 구별 전체 사고건수 연도 비교"
      ]
    },
    {
      "cell_type": "code",
      "metadata": {
        "id": "BadHoU5fiv0M"
      },
      "source": [
        "df_acci_total = pd.DataFrame(df_acci.groupby(['연도', '구'])['사고유형'].count())"
      ],
      "execution_count": 204,
      "outputs": []
    },
    {
      "cell_type": "code",
      "metadata": {
        "id": "ZCdXykmijduc"
      },
      "source": [
        "df_acci_total['연도'] = df_acci_total.index.get_level_values(0)\n",
        "df_acci_total['구'] = df_acci_total.index.get_level_values(1)"
      ],
      "execution_count": 206,
      "outputs": []
    },
    {
      "cell_type": "markdown",
      "metadata": {
        "id": "nGiuQsLFkbns"
      },
      "source": [
        "- 전체 사고 건수가 증가한 구 : 강남구, 관악구, 성동구"
      ]
    },
    {
      "cell_type": "code",
      "metadata": {
        "colab": {
          "base_uri": "https://localhost:8080/",
          "height": 522
        },
        "id": "1J0unP7ujUoQ",
        "outputId": "36b51892-ad74-4202-d5c4-3d8439a9e60c"
      },
      "source": [
        "plt.figure(figsize=(18,8))\n",
        "sns.barplot(data=df_acci_total,\n",
        "            x='구',\n",
        "            y='사고유형',\n",
        "            hue='연도', palette=\"RdBu\")\n",
        "plt.xticks(rotation=90)\n",
        "plt.legend(loc='best')\n",
        "plt.show()"
      ],
      "execution_count": 210,
      "outputs": [
        {
          "output_type": "display_data",
          "data": {
            "image/png": "[encoded data removed]",
            "text/plain": [
              "<Figure size 1296x576 with 1 Axes>"
            ]
          },
          "metadata": {
            "tags": [],
            "needs_background": "light"
          }
        }
      ]
    },
    {
      "cell_type": "markdown",
      "metadata": {
        "id": "bIViX7vffTi-"
      },
      "source": [
        "- 전체 부상신고건수 연도 비교"
      ]
    },
    {
      "cell_type": "code",
      "metadata": {
        "id": "ESF0KNwAaktu"
      },
      "source": [
        "df_acci_year = pd.DataFrame(df_acci.groupby(['연도', '구']).sum())"
      ],
      "execution_count": 178,
      "outputs": []
    },
    {
      "cell_type": "code",
      "metadata": {
        "id": "mDVUnmavexSa"
      },
      "source": [
        "df_acci_year['연도'] = df_acci_year.index.get_level_values(0)"
      ],
      "execution_count": 187,
      "outputs": []
    },
    {
      "cell_type": "code",
      "metadata": {
        "id": "mnKWkqyLeVOs"
      },
      "source": [
        "df_acci_year['구'] = df_acci_year.index.get_level_values(1)"
      ],
      "execution_count": 183,
      "outputs": []
    },
    {
      "cell_type": "markdown",
      "metadata": {
        "id": "KxZnVxmhkS_7"
      },
      "source": [
        "- 부상자 신고 건수가 증가한 구 : 강남구, 관악구, 성동구"
      ]
    },
    {
      "cell_type": "code",
      "metadata": {
        "colab": {
          "base_uri": "https://localhost:8080/",
          "height": 522
        },
        "id": "Md9ElrhpcvXE",
        "outputId": "1f7bd689-4c43-48b5-fc9a-0562f55a02b4"
      },
      "source": [
        "plt.figure(figsize=(18,8))\n",
        "sns.barplot(data=df_acci_year,\n",
        "            x='구',\n",
        "            y='전체 신고 수',\n",
        "            hue='연도', palette=\"RdPu\")\n",
        "plt.xticks(rotation=90)\n",
        "plt.legend(loc='best')\n",
        "plt.show()"
      ],
      "execution_count": 192,
      "outputs": [
        {
          "output_type": "display_data",
          "data": {
            "image/png": "[encoded data removed]",
            "text/plain": [
              "<Figure size 1296x576 with 1 Axes>"
            ]
          },
          "metadata": {
            "tags": [],
            "needs_background": "light"
          }
        }
      ]
    },
    {
      "cell_type": "markdown",
      "metadata": {
        "id": "b23hd3XqL7zj"
      },
      "source": [
        "## 가장 많은 사고 유형"
      ]
    },
    {
      "cell_type": "code",
      "metadata": {
        "id": "1dwnA2q9Wutp"
      },
      "source": [
        ""
      ],
      "execution_count": 113,
      "outputs": []
    },
    {
      "cell_type": "code",
      "metadata": {
        "colab": {
          "base_uri": "https://localhost:8080/",
          "height": 444
        },
        "id": "_o7RPVHqMQyY",
        "outputId": "90be7759-599a-44ec-e337-3f93f85824db"
      },
      "source": [
        "plt.figure(figsize=(18, 5))\n",
        "sns.barplot(x=df_acci['사고유형'].value_counts().index, y=df_acci['사고유형'].value_counts(), data=df_acci)\n",
        "plt.xticks(rotation=90)\n",
        "plt.show()"
      ],
      "execution_count": 112,
      "outputs": [
        {
          "output_type": "display_data",
          "data": {
            "image/png": "[encoded data removed]",
            "text/plain": [
              "<Figure size 1296x360 with 1 Axes>"
            ]
          },
          "metadata": {
            "tags": [],
            "needs_background": "light"
          }
        }
      ]
    },
    {
      "cell_type": "code",
      "metadata": {
        "id": "bl1tdHRkMdLK"
      },
      "source": [
        ""
      ],
      "execution_count": null,
      "outputs": []
    }
  ]
}