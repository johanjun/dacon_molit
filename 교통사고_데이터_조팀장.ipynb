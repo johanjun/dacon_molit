{
  "nbformat": 4,
  "nbformat_minor": 0,
  "metadata": {
    "colab": {
      "name": "교통사고 데이터 조팀장.ipynb",
      "provenance": [],
      "collapsed_sections": [],
      "toc_visible": true,
      "mount_file_id": "1vM8v5mmsmKW0ju2gBecRJi_bcquZWUf1",
      "authorship_tag": "ABX9TyNatI95BTjYAJec4AxUnmtH",
      "include_colab_link": true
    },
    "kernelspec": {
      "name": "python3",
      "display_name": "Python 3"
    },
    "language_info": {
      "name": "python"
    }
  },
  "cells": [
    {
      "cell_type": "markdown",
      "metadata": {
        "id": "view-in-github",
        "colab_type": "text"
      },
      "source": [
        "<a href=\"https://colab.research.google.com/github/johanjun/dacon_molit/blob/main/%EA%B5%90%ED%86%B5%EC%82%AC%EA%B3%A0_%EB%8D%B0%EC%9D%B4%ED%84%B0_%EC%A1%B0%ED%8C%80%EC%9E%A5.ipynb\" target=\"_parent\"><img src=\"https://colab.research.google.com/assets/colab-badge.svg\" alt=\"Open In Colab\"/></a>"
      ]
    },
    {
      "cell_type": "markdown",
      "metadata": {
        "id": "PqULqt3NBlF9"
      },
      "source": [
        "# 1.Library Import"
      ]
    },
    {
      "cell_type": "code",
      "metadata": {
        "id": "j1D0uo3w_FBF"
      },
      "source": [
        "#한글폰트\n",
        "!sudo apt-get install -y fonts-nanum\n",
        "!sudo fc-cache -fv\n",
        "!rm ~/.cache/matplotlib -rf"
      ],
      "execution_count": null,
      "outputs": []
    },
    {
      "cell_type": "code",
      "metadata": {
        "id": "wMRmIpVUAgLn"
      },
      "source": [
        "#라이브러리\n",
        "import pandas as pd\n",
        "import matplotlib.pyplot as plt\n",
        "import os\n",
        "import math\n",
        "import numpy as np\n",
        "import seaborn as sns\n",
        "import re\n",
        "import shutil\n",
        "import random\n",
        "import missingno as msno\n",
        "import matplotlib.pyplot as plt\n",
        "plt.rc('font', family='NanumBarunGothic') \n",
        "import warnings\n",
        "warnings.filterwarnings(action='ignore')\n",
        "\n",
        "pd.set_option(\"max_rows\", 1000)\n",
        "pd.set_option(\"max_columns\", 1000)"
      ],
      "execution_count": 253,
      "outputs": []
    },
    {
      "cell_type": "markdown",
      "metadata": {
        "id": "zkaRKbTOBogR"
      },
      "source": [
        "# 2.Data Load - 서울시 2019-2020 교통사고\n",
        "- http://taas.koroad.or.kr/gis/mcm/mcl/initMap.do?menuId=GIS_GMP_STS_RSN#"
      ]
    },
    {
      "cell_type": "code",
      "metadata": {
        "id": "niwNxKPSAjb0"
      },
      "source": [
        "data_dir = '/content/drive/MyDrive/dacon_molit/data/'"
      ],
      "execution_count": 3,
      "outputs": []
    },
    {
      "cell_type": "code",
      "metadata": {
        "id": "J3Qy1tWfBXUd"
      },
      "source": [
        "df_acci = pd.read_csv(data_dir+'서울시 2019-2020 교통사고.csv')"
      ],
      "execution_count": 4,
      "outputs": []
    },
    {
      "cell_type": "markdown",
      "metadata": {
        "id": "W7aKSuG9B1Pw"
      },
      "source": [
        "- 74485 행, 22열로 구성"
      ]
    },
    {
      "cell_type": "code",
      "metadata": {
        "colab": {
          "base_uri": "https://localhost:8080/",
          "height": 278
        },
        "id": "FJBv79ptBaqs",
        "outputId": "81b6dfef-2c40-4ab2-e2ab-3d3792ec7bae"
      },
      "source": [
        "df_acci.head(3)"
      ],
      "execution_count": 5,
      "outputs": [
        {
          "output_type": "execute_result",
          "data": {
            "text/html": [
              "<div>\n",
              "<style scoped>\n",
              "    .dataframe tbody tr th:only-of-type {\n",
              "        vertical-align: middle;\n",
              "    }\n",
              "\n",
              "    .dataframe tbody tr th {\n",
              "        vertical-align: top;\n",
              "    }\n",
              "\n",
              "    .dataframe thead th {\n",
              "        text-align: right;\n",
              "    }\n",
              "</style>\n",
              "<table border=\"1\" class=\"dataframe\">\n",
              "  <thead>\n",
              "    <tr style=\"text-align: right;\">\n",
              "      <th></th>\n",
              "      <th>사고번호</th>\n",
              "      <th>사고일시</th>\n",
              "      <th>요일</th>\n",
              "      <th>시군구</th>\n",
              "      <th>사고내용</th>\n",
              "      <th>사망자수</th>\n",
              "      <th>중상자수</th>\n",
              "      <th>경상자수</th>\n",
              "      <th>부상신고자수</th>\n",
              "      <th>사고유형</th>\n",
              "      <th>법규위반</th>\n",
              "      <th>노면상태</th>\n",
              "      <th>기상상태</th>\n",
              "      <th>도로형태</th>\n",
              "      <th>가해운전자 차종</th>\n",
              "      <th>가해운전자 성별</th>\n",
              "      <th>가해운전자 연령</th>\n",
              "      <th>가해운전자 상해정도</th>\n",
              "      <th>피해운전자 차종</th>\n",
              "      <th>피해운전자 성별</th>\n",
              "      <th>피해운전자 연령</th>\n",
              "      <th>피해운전자 상해정도</th>\n",
              "    </tr>\n",
              "  </thead>\n",
              "  <tbody>\n",
              "    <tr>\n",
              "      <th>0</th>\n",
              "      <td>2.019010e+15</td>\n",
              "      <td>2019년 1월 1일 00시</td>\n",
              "      <td>화요일</td>\n",
              "      <td>서울특별시 강서구 방화동</td>\n",
              "      <td>경상사고</td>\n",
              "      <td>0</td>\n",
              "      <td>0</td>\n",
              "      <td>1</td>\n",
              "      <td>0</td>\n",
              "      <td>차대사람 - 횡단중</td>\n",
              "      <td>보행자보호의무위반</td>\n",
              "      <td>포장 - 건조</td>\n",
              "      <td>맑음</td>\n",
              "      <td>교차로 - 교차로횡단보도내</td>\n",
              "      <td>승용</td>\n",
              "      <td>남</td>\n",
              "      <td>26세</td>\n",
              "      <td>상해없음</td>\n",
              "      <td>보행자</td>\n",
              "      <td>남</td>\n",
              "      <td>40세</td>\n",
              "      <td>경상</td>\n",
              "    </tr>\n",
              "    <tr>\n",
              "      <th>1</th>\n",
              "      <td>2.019010e+15</td>\n",
              "      <td>2019년 1월 1일 00시</td>\n",
              "      <td>화요일</td>\n",
              "      <td>서울특별시 구로구 고척동</td>\n",
              "      <td>경상사고</td>\n",
              "      <td>0</td>\n",
              "      <td>0</td>\n",
              "      <td>1</td>\n",
              "      <td>0</td>\n",
              "      <td>차대차 - 추돌</td>\n",
              "      <td>안전운전불이행</td>\n",
              "      <td>포장 - 건조</td>\n",
              "      <td>맑음</td>\n",
              "      <td>단일로 - 기타</td>\n",
              "      <td>이륜</td>\n",
              "      <td>남</td>\n",
              "      <td>23세</td>\n",
              "      <td>상해없음</td>\n",
              "      <td>승용</td>\n",
              "      <td>남</td>\n",
              "      <td>71세</td>\n",
              "      <td>경상</td>\n",
              "    </tr>\n",
              "    <tr>\n",
              "      <th>2</th>\n",
              "      <td>2.019010e+15</td>\n",
              "      <td>2019년 1월 1일 00시</td>\n",
              "      <td>화요일</td>\n",
              "      <td>서울특별시 서초구 서초동</td>\n",
              "      <td>경상사고</td>\n",
              "      <td>0</td>\n",
              "      <td>0</td>\n",
              "      <td>1</td>\n",
              "      <td>0</td>\n",
              "      <td>차대차 - 기타</td>\n",
              "      <td>안전운전불이행</td>\n",
              "      <td>포장 - 건조</td>\n",
              "      <td>맑음</td>\n",
              "      <td>기타 - 기타</td>\n",
              "      <td>승용</td>\n",
              "      <td>남</td>\n",
              "      <td>33세</td>\n",
              "      <td>상해없음</td>\n",
              "      <td>화물</td>\n",
              "      <td>남</td>\n",
              "      <td>51세</td>\n",
              "      <td>경상</td>\n",
              "    </tr>\n",
              "  </tbody>\n",
              "</table>\n",
              "</div>"
            ],
            "text/plain": [
              "           사고번호             사고일시   요일  ... 피해운전자 성별 피해운전자 연령  피해운전자 상해정도\n",
              "0  2.019010e+15  2019년 1월 1일 00시  화요일  ...        남      40세          경상\n",
              "1  2.019010e+15  2019년 1월 1일 00시  화요일  ...        남      71세          경상\n",
              "2  2.019010e+15  2019년 1월 1일 00시  화요일  ...        남      51세          경상\n",
              "\n",
              "[3 rows x 22 columns]"
            ]
          },
          "metadata": {
            "tags": []
          },
          "execution_count": 5
        }
      ]
    },
    {
      "cell_type": "code",
      "metadata": {
        "colab": {
          "base_uri": "https://localhost:8080/"
        },
        "id": "fKVa9XshBecZ",
        "outputId": "098c4c41-b319-400a-be3f-95f903284c09"
      },
      "source": [
        "df_acci.shape"
      ],
      "execution_count": 6,
      "outputs": [
        {
          "output_type": "execute_result",
          "data": {
            "text/plain": [
              "(74485, 22)"
            ]
          },
          "metadata": {
            "tags": []
          },
          "execution_count": 6
        }
      ]
    },
    {
      "cell_type": "markdown",
      "metadata": {
        "id": "TKn1l57YML_V"
      },
      "source": [
        "# 3.결측치"
      ]
    },
    {
      "cell_type": "markdown",
      "metadata": {
        "id": "zvfP4BD8CDh7"
      },
      "source": [
        "- 18열(피해운전자 차종) 부터 21열(피해운전자 상해정도) 까지는 약 2,260개의 null값이 존재"
      ]
    },
    {
      "cell_type": "code",
      "metadata": {
        "colab": {
          "base_uri": "https://localhost:8080/"
        },
        "id": "fc-9WfmXBgQx",
        "outputId": "788b5f5b-1e97-4573-b8b4-118491b54c04"
      },
      "source": [
        "df_acci.info()"
      ],
      "execution_count": 7,
      "outputs": [
        {
          "output_type": "stream",
          "text": [
            "<class 'pandas.core.frame.DataFrame'>\n",
            "RangeIndex: 74485 entries, 0 to 74484\n",
            "Data columns (total 22 columns):\n",
            " #   Column      Non-Null Count  Dtype  \n",
            "---  ------      --------------  -----  \n",
            " 0   사고번호        74485 non-null  float64\n",
            " 1   사고일시        74485 non-null  object \n",
            " 2   요일          74485 non-null  object \n",
            " 3   시군구         74485 non-null  object \n",
            " 4   사고내용        74485 non-null  object \n",
            " 5   사망자수        74485 non-null  int64  \n",
            " 6   중상자수        74485 non-null  int64  \n",
            " 7   경상자수        74485 non-null  int64  \n",
            " 8   부상신고자수      74485 non-null  int64  \n",
            " 9   사고유형        74485 non-null  object \n",
            " 10  법규위반        74485 non-null  object \n",
            " 11  노면상태        74485 non-null  object \n",
            " 12  기상상태        74485 non-null  object \n",
            " 13  도로형태        74485 non-null  object \n",
            " 14  가해운전자 차종    74485 non-null  object \n",
            " 15  가해운전자 성별    74485 non-null  object \n",
            " 16  가해운전자 연령    74485 non-null  object \n",
            " 17  가해운전자 상해정도  74485 non-null  object \n",
            " 18  피해운전자 차종    72225 non-null  object \n",
            " 19  피해운전자 성별    72225 non-null  object \n",
            " 20  피해운전자 연령    72225 non-null  object \n",
            " 21  피해운전자 상해정도  72225 non-null  object \n",
            "dtypes: float64(1), int64(4), object(17)\n",
            "memory usage: 12.5+ MB\n"
          ],
          "name": "stdout"
        }
      ]
    },
    {
      "cell_type": "code",
      "metadata": {
        "colab": {
          "base_uri": "https://localhost:8080/",
          "height": 639
        },
        "id": "A6ltnZADB_mv",
        "outputId": "014e632e-3a77-4c36-a1d7-03baa9b18692"
      },
      "source": [
        "msno.matrix(df_acci)"
      ],
      "execution_count": 8,
      "outputs": [
        {
          "output_type": "execute_result",
          "data": {
            "text/plain": [
              "<matplotlib.axes._subplots.AxesSubplot at 0x7f2e50df1a50>"
            ]
          },
          "metadata": {
            "tags": []
          },
          "execution_count": 8
        },
        {
          "output_type": "display_data",
          "data": {
            "image/png": "[encoded data removed]",
            "text/plain": [
              "<Figure size 1800x720 with 2 Axes>"
            ]
          },
          "metadata": {
            "tags": [],
            "needs_background": "light"
          }
        }
      ]
    },
    {
      "cell_type": "markdown",
      "metadata": {
        "id": "7q7uxMWJLbzC"
      },
      "source": [
        "- 그리고 모두 같은 row에서 null값이 표출됨"
      ]
    },
    {
      "cell_type": "code",
      "metadata": {
        "id": "sPKxusNNKOeC"
      },
      "source": [
        "a = df_acci[df_acci['피해운전자 차종'].isnull()].index\n",
        "b = df_acci[df_acci['피해운전자 성별'].isnull()].index\n",
        "c = df_acci[df_acci['피해운전자 연령'].isnull()].index\n",
        "d = df_acci[df_acci['피해운전자 상해정도'].isnull()].index"
      ],
      "execution_count": 46,
      "outputs": []
    },
    {
      "cell_type": "code",
      "metadata": {
        "colab": {
          "base_uri": "https://localhost:8080/"
        },
        "id": "L7A5wvjlDjkB",
        "outputId": "02338d89-2bfc-491d-855e-c5d124da9ab1"
      },
      "source": [
        "set(a) == set(b) and set(b) == set(c) and set(c) == set(d)"
      ],
      "execution_count": 50,
      "outputs": [
        {
          "output_type": "execute_result",
          "data": {
            "text/plain": [
              "True"
            ]
          },
          "metadata": {
            "tags": []
          },
          "execution_count": 50
        }
      ]
    },
    {
      "cell_type": "code",
      "metadata": {
        "colab": {
          "base_uri": "https://localhost:8080/",
          "height": 408
        },
        "id": "qpuD4XFxKrwD",
        "outputId": "82a2e526-f212-4283-be30-a74781204a20"
      },
      "source": [
        "df_acci.iloc[74330:74335]"
      ],
      "execution_count": 52,
      "outputs": [
        {
          "output_type": "execute_result",
          "data": {
            "text/html": [
              "<div>\n",
              "<style scoped>\n",
              "    .dataframe tbody tr th:only-of-type {\n",
              "        vertical-align: middle;\n",
              "    }\n",
              "\n",
              "    .dataframe tbody tr th {\n",
              "        vertical-align: top;\n",
              "    }\n",
              "\n",
              "    .dataframe thead th {\n",
              "        text-align: right;\n",
              "    }\n",
              "</style>\n",
              "<table border=\"1\" class=\"dataframe\">\n",
              "  <thead>\n",
              "    <tr style=\"text-align: right;\">\n",
              "      <th></th>\n",
              "      <th>사고번호</th>\n",
              "      <th>사고일시</th>\n",
              "      <th>요일</th>\n",
              "      <th>시군구</th>\n",
              "      <th>사고내용</th>\n",
              "      <th>사망자수</th>\n",
              "      <th>중상자수</th>\n",
              "      <th>경상자수</th>\n",
              "      <th>부상신고자수</th>\n",
              "      <th>사고유형</th>\n",
              "      <th>법규위반</th>\n",
              "      <th>노면상태</th>\n",
              "      <th>기상상태</th>\n",
              "      <th>도로형태</th>\n",
              "      <th>가해운전자 차종</th>\n",
              "      <th>가해운전자 성별</th>\n",
              "      <th>가해운전자 연령</th>\n",
              "      <th>가해운전자 상해정도</th>\n",
              "      <th>피해운전자 차종</th>\n",
              "      <th>피해운전자 성별</th>\n",
              "      <th>피해운전자 연령</th>\n",
              "      <th>피해운전자 상해정도</th>\n",
              "    </tr>\n",
              "  </thead>\n",
              "  <tbody>\n",
              "    <tr>\n",
              "      <th>74330</th>\n",
              "      <td>2.020123e+15</td>\n",
              "      <td>2020년 12월 30일 14시</td>\n",
              "      <td>수요일</td>\n",
              "      <td>서울특별시 영등포구 문래동1가</td>\n",
              "      <td>경상사고</td>\n",
              "      <td>0</td>\n",
              "      <td>0</td>\n",
              "      <td>1</td>\n",
              "      <td>1</td>\n",
              "      <td>차대차 - 측면충돌</td>\n",
              "      <td>안전거리미확보</td>\n",
              "      <td>포장 - 건조</td>\n",
              "      <td>맑음</td>\n",
              "      <td>단일로 - 기타</td>\n",
              "      <td>승용</td>\n",
              "      <td>남</td>\n",
              "      <td>61세</td>\n",
              "      <td>부상신고</td>\n",
              "      <td>승용</td>\n",
              "      <td>남</td>\n",
              "      <td>52세</td>\n",
              "      <td>경상</td>\n",
              "    </tr>\n",
              "    <tr>\n",
              "      <th>74331</th>\n",
              "      <td>2.020123e+15</td>\n",
              "      <td>2020년 12월 30일 14시</td>\n",
              "      <td>수요일</td>\n",
              "      <td>서울특별시 강서구 염창동</td>\n",
              "      <td>경상사고</td>\n",
              "      <td>0</td>\n",
              "      <td>0</td>\n",
              "      <td>2</td>\n",
              "      <td>0</td>\n",
              "      <td>차대차 - 추돌</td>\n",
              "      <td>안전거리미확보</td>\n",
              "      <td>포장 - 건조</td>\n",
              "      <td>맑음</td>\n",
              "      <td>단일로 - 기타</td>\n",
              "      <td>화물</td>\n",
              "      <td>남</td>\n",
              "      <td>64세</td>\n",
              "      <td>상해없음</td>\n",
              "      <td>승용</td>\n",
              "      <td>남</td>\n",
              "      <td>41세</td>\n",
              "      <td>경상</td>\n",
              "    </tr>\n",
              "    <tr>\n",
              "      <th>74332</th>\n",
              "      <td>2.020123e+15</td>\n",
              "      <td>2020년 12월 30일 14시</td>\n",
              "      <td>수요일</td>\n",
              "      <td>서울특별시 강서구 가양동</td>\n",
              "      <td>경상사고</td>\n",
              "      <td>0</td>\n",
              "      <td>0</td>\n",
              "      <td>1</td>\n",
              "      <td>0</td>\n",
              "      <td>차량단독 - 공작물충돌</td>\n",
              "      <td>안전운전불이행</td>\n",
              "      <td>포장 - 기타</td>\n",
              "      <td>맑음</td>\n",
              "      <td>단일로 - 교량</td>\n",
              "      <td>승용</td>\n",
              "      <td>남</td>\n",
              "      <td>36세</td>\n",
              "      <td>경상</td>\n",
              "      <td>NaN</td>\n",
              "      <td>NaN</td>\n",
              "      <td>NaN</td>\n",
              "      <td>NaN</td>\n",
              "    </tr>\n",
              "    <tr>\n",
              "      <th>74333</th>\n",
              "      <td>2.020120e+15</td>\n",
              "      <td>2020년 12월 30일 14시</td>\n",
              "      <td>수요일</td>\n",
              "      <td>서울특별시 양천구 신정동</td>\n",
              "      <td>중상사고</td>\n",
              "      <td>0</td>\n",
              "      <td>1</td>\n",
              "      <td>3</td>\n",
              "      <td>0</td>\n",
              "      <td>차대차 - 추돌</td>\n",
              "      <td>안전운전불이행</td>\n",
              "      <td>포장 - 건조</td>\n",
              "      <td>맑음</td>\n",
              "      <td>단일로 - 기타</td>\n",
              "      <td>승용</td>\n",
              "      <td>남</td>\n",
              "      <td>62세</td>\n",
              "      <td>상해없음</td>\n",
              "      <td>승용</td>\n",
              "      <td>여</td>\n",
              "      <td>59세</td>\n",
              "      <td>경상</td>\n",
              "    </tr>\n",
              "    <tr>\n",
              "      <th>74334</th>\n",
              "      <td>2.020123e+15</td>\n",
              "      <td>2020년 12월 30일 15시</td>\n",
              "      <td>수요일</td>\n",
              "      <td>서울특별시 중구 명동2가</td>\n",
              "      <td>사망사고</td>\n",
              "      <td>1</td>\n",
              "      <td>0</td>\n",
              "      <td>0</td>\n",
              "      <td>0</td>\n",
              "      <td>차량단독 - 기타</td>\n",
              "      <td>안전운전불이행</td>\n",
              "      <td>포장 - 건조</td>\n",
              "      <td>맑음</td>\n",
              "      <td>교차로 - 교차로안</td>\n",
              "      <td>승합</td>\n",
              "      <td>남</td>\n",
              "      <td>59세</td>\n",
              "      <td>상해없음</td>\n",
              "      <td>NaN</td>\n",
              "      <td>NaN</td>\n",
              "      <td>NaN</td>\n",
              "      <td>NaN</td>\n",
              "    </tr>\n",
              "  </tbody>\n",
              "</table>\n",
              "</div>"
            ],
            "text/plain": [
              "               사고번호               사고일시   요일  ... 피해운전자 성별 피해운전자 연령  피해운전자 상해정도\n",
              "74330  2.020123e+15  2020년 12월 30일 14시  수요일  ...        남      52세          경상\n",
              "74331  2.020123e+15  2020년 12월 30일 14시  수요일  ...        남      41세          경상\n",
              "74332  2.020123e+15  2020년 12월 30일 14시  수요일  ...      NaN      NaN         NaN\n",
              "74333  2.020120e+15  2020년 12월 30일 14시  수요일  ...        여      59세          경상\n",
              "74334  2.020123e+15  2020년 12월 30일 15시  수요일  ...      NaN      NaN         NaN\n",
              "\n",
              "[5 rows x 22 columns]"
            ]
          },
          "metadata": {
            "tags": []
          },
          "execution_count": 52
        }
      ]
    },
    {
      "cell_type": "markdown",
      "metadata": {
        "id": "i-S6xYqRL844"
      },
      "source": [
        "- 피해자 관련 null인 이유는 차량 단독 사고인 경우로 파악"
      ]
    },
    {
      "cell_type": "code",
      "metadata": {
        "colab": {
          "base_uri": "https://localhost:8080/"
        },
        "id": "tq0TIo5jLjmm",
        "outputId": "6dccf3cc-58f9-4b50-a021-0af41409b369"
      },
      "source": [
        "df_acci[df_acci['피해운전자 차종'].isnull()]['사고유형'].unique()"
      ],
      "execution_count": 54,
      "outputs": [
        {
          "output_type": "execute_result",
          "data": {
            "text/plain": [
              "array(['차량단독 - 기타', '차량단독 - 공작물충돌', '차량단독 - 전도전복 - 전도',\n",
              "       '차량단독 - 도로외이탈 - 기타', '차량단독 - 전도전복 - 전복', '차량단독 - 주/정차차량 충돌',\n",
              "       '차량단독 - 도로외이탈 - 추락'], dtype=object)"
            ]
          },
          "metadata": {
            "tags": []
          },
          "execution_count": 54
        }
      ]
    },
    {
      "cell_type": "code",
      "metadata": {
        "colab": {
          "base_uri": "https://localhost:8080/"
        },
        "id": "OR6lOkcoL0uQ",
        "outputId": "cc18f2c8-0002-427f-d025-fb1aaa7ea79f"
      },
      "source": [
        "df_acci['사고유형'].unique()"
      ],
      "execution_count": 55,
      "outputs": [
        {
          "output_type": "execute_result",
          "data": {
            "text/plain": [
              "array(['차대사람 - 횡단중', '차대차 - 추돌', '차대차 - 기타', '차대차 - 측면충돌', '차대사람 - 기타',\n",
              "       '차대사람 - 차도통행중', '차량단독 - 기타', '차대차 - 후진중충돌', '차대사람 - 길가장자리구역통행중',\n",
              "       '차대사람 - 보도통행중', '차대차 - 정면충돌', '차량단독 - 공작물충돌', '차량단독 - 전도전복 - 전도',\n",
              "       '차량단독 - 도로외이탈 - 기타', '차량단독 - 전도전복 - 전복', '차량단독 - 주/정차차량 충돌',\n",
              "       '차량단독 - 도로외이탈 - 추락'], dtype=object)"
            ]
          },
          "metadata": {
            "tags": []
          },
          "execution_count": 55
        }
      ]
    },
    {
      "cell_type": "markdown",
      "metadata": {
        "id": "FvlNiKynR7mL"
      },
      "source": [
        "# 4.전처리"
      ]
    },
    {
      "cell_type": "markdown",
      "metadata": {
        "id": "WES13SoLSoqF"
      },
      "source": [
        "## 4.1 time"
      ]
    },
    {
      "cell_type": "code",
      "metadata": {
        "colab": {
          "base_uri": "https://localhost:8080/"
        },
        "id": "S8y_bIbmR9M2",
        "outputId": "df5acf47-2a40-4ce1-a59b-ec2ac4d0e6b8"
      },
      "source": [
        "df_acci['사고일시'].iloc[0].split(' ')"
      ],
      "execution_count": 9,
      "outputs": [
        {
          "output_type": "execute_result",
          "data": {
            "text/plain": [
              "['2019년', '1월', '1일', '00시']"
            ]
          },
          "metadata": {
            "tags": []
          },
          "execution_count": 9
        }
      ]
    },
    {
      "cell_type": "code",
      "metadata": {
        "id": "WsFv5RzKSG96"
      },
      "source": [
        "df_acci['연도'] = [x.split(' ')[0][:4] for x in df_acci['사고일시']]\n",
        "df_acci['사고 월'] = [x.split(' ')[1] for x in df_acci['사고일시']]\n",
        "df_acci['사고 일'] = [x.split(' ')[2] for x in df_acci['사고일시']]\n",
        "df_acci['사고 시각'] = [x.split(' ')[3] for x in df_acci['사고일시']]"
      ],
      "execution_count": 10,
      "outputs": []
    },
    {
      "cell_type": "code",
      "metadata": {
        "colab": {
          "base_uri": "https://localhost:8080/",
          "height": 346
        },
        "id": "adbYuYv1ShKY",
        "outputId": "5c4bae46-def3-447c-92ce-c85b1bf0a6fd"
      },
      "source": [
        "df_acci.head(3)"
      ],
      "execution_count": 11,
      "outputs": [
        {
          "output_type": "execute_result",
          "data": {
            "text/html": [
              "<div>\n",
              "<style scoped>\n",
              "    .dataframe tbody tr th:only-of-type {\n",
              "        vertical-align: middle;\n",
              "    }\n",
              "\n",
              "    .dataframe tbody tr th {\n",
              "        vertical-align: top;\n",
              "    }\n",
              "\n",
              "    .dataframe thead th {\n",
              "        text-align: right;\n",
              "    }\n",
              "</style>\n",
              "<table border=\"1\" class=\"dataframe\">\n",
              "  <thead>\n",
              "    <tr style=\"text-align: right;\">\n",
              "      <th></th>\n",
              "      <th>사고번호</th>\n",
              "      <th>사고일시</th>\n",
              "      <th>요일</th>\n",
              "      <th>시군구</th>\n",
              "      <th>사고내용</th>\n",
              "      <th>사망자수</th>\n",
              "      <th>중상자수</th>\n",
              "      <th>경상자수</th>\n",
              "      <th>부상신고자수</th>\n",
              "      <th>사고유형</th>\n",
              "      <th>법규위반</th>\n",
              "      <th>노면상태</th>\n",
              "      <th>기상상태</th>\n",
              "      <th>도로형태</th>\n",
              "      <th>가해운전자 차종</th>\n",
              "      <th>가해운전자 성별</th>\n",
              "      <th>가해운전자 연령</th>\n",
              "      <th>가해운전자 상해정도</th>\n",
              "      <th>피해운전자 차종</th>\n",
              "      <th>피해운전자 성별</th>\n",
              "      <th>피해운전자 연령</th>\n",
              "      <th>피해운전자 상해정도</th>\n",
              "      <th>연도</th>\n",
              "      <th>사고 월</th>\n",
              "      <th>사고 일</th>\n",
              "      <th>사고 시각</th>\n",
              "    </tr>\n",
              "  </thead>\n",
              "  <tbody>\n",
              "    <tr>\n",
              "      <th>0</th>\n",
              "      <td>2.019010e+15</td>\n",
              "      <td>2019년 1월 1일 00시</td>\n",
              "      <td>화요일</td>\n",
              "      <td>서울특별시 강서구 방화동</td>\n",
              "      <td>경상사고</td>\n",
              "      <td>0</td>\n",
              "      <td>0</td>\n",
              "      <td>1</td>\n",
              "      <td>0</td>\n",
              "      <td>차대사람 - 횡단중</td>\n",
              "      <td>보행자보호의무위반</td>\n",
              "      <td>포장 - 건조</td>\n",
              "      <td>맑음</td>\n",
              "      <td>교차로 - 교차로횡단보도내</td>\n",
              "      <td>승용</td>\n",
              "      <td>남</td>\n",
              "      <td>26세</td>\n",
              "      <td>상해없음</td>\n",
              "      <td>보행자</td>\n",
              "      <td>남</td>\n",
              "      <td>40세</td>\n",
              "      <td>경상</td>\n",
              "      <td>2019</td>\n",
              "      <td>1월</td>\n",
              "      <td>1일</td>\n",
              "      <td>00시</td>\n",
              "    </tr>\n",
              "    <tr>\n",
              "      <th>1</th>\n",
              "      <td>2.019010e+15</td>\n",
              "      <td>2019년 1월 1일 00시</td>\n",
              "      <td>화요일</td>\n",
              "      <td>서울특별시 구로구 고척동</td>\n",
              "      <td>경상사고</td>\n",
              "      <td>0</td>\n",
              "      <td>0</td>\n",
              "      <td>1</td>\n",
              "      <td>0</td>\n",
              "      <td>차대차 - 추돌</td>\n",
              "      <td>안전운전불이행</td>\n",
              "      <td>포장 - 건조</td>\n",
              "      <td>맑음</td>\n",
              "      <td>단일로 - 기타</td>\n",
              "      <td>이륜</td>\n",
              "      <td>남</td>\n",
              "      <td>23세</td>\n",
              "      <td>상해없음</td>\n",
              "      <td>승용</td>\n",
              "      <td>남</td>\n",
              "      <td>71세</td>\n",
              "      <td>경상</td>\n",
              "      <td>2019</td>\n",
              "      <td>1월</td>\n",
              "      <td>1일</td>\n",
              "      <td>00시</td>\n",
              "    </tr>\n",
              "    <tr>\n",
              "      <th>2</th>\n",
              "      <td>2.019010e+15</td>\n",
              "      <td>2019년 1월 1일 00시</td>\n",
              "      <td>화요일</td>\n",
              "      <td>서울특별시 서초구 서초동</td>\n",
              "      <td>경상사고</td>\n",
              "      <td>0</td>\n",
              "      <td>0</td>\n",
              "      <td>1</td>\n",
              "      <td>0</td>\n",
              "      <td>차대차 - 기타</td>\n",
              "      <td>안전운전불이행</td>\n",
              "      <td>포장 - 건조</td>\n",
              "      <td>맑음</td>\n",
              "      <td>기타 - 기타</td>\n",
              "      <td>승용</td>\n",
              "      <td>남</td>\n",
              "      <td>33세</td>\n",
              "      <td>상해없음</td>\n",
              "      <td>화물</td>\n",
              "      <td>남</td>\n",
              "      <td>51세</td>\n",
              "      <td>경상</td>\n",
              "      <td>2019</td>\n",
              "      <td>1월</td>\n",
              "      <td>1일</td>\n",
              "      <td>00시</td>\n",
              "    </tr>\n",
              "  </tbody>\n",
              "</table>\n",
              "</div>"
            ],
            "text/plain": [
              "           사고번호             사고일시   요일            시군구  ...    연도  사고 월  사고 일  사고 시각\n",
              "0  2.019010e+15  2019년 1월 1일 00시  화요일  서울특별시 강서구 방화동  ...  2019    1월    1일    00시\n",
              "1  2.019010e+15  2019년 1월 1일 00시  화요일  서울특별시 구로구 고척동  ...  2019    1월    1일    00시\n",
              "2  2.019010e+15  2019년 1월 1일 00시  화요일  서울특별시 서초구 서초동  ...  2019    1월    1일    00시\n",
              "\n",
              "[3 rows x 26 columns]"
            ]
          },
          "metadata": {
            "tags": []
          },
          "execution_count": 11
        }
      ]
    },
    {
      "cell_type": "markdown",
      "metadata": {
        "id": "c-iHLeVuSsVQ"
      },
      "source": [
        "## 4.2 발생 장소(동)"
      ]
    },
    {
      "cell_type": "code",
      "metadata": {
        "colab": {
          "base_uri": "https://localhost:8080/"
        },
        "id": "gMXC7MzKSuHu",
        "outputId": "1765ca4b-9b9d-4123-8ba8-79f08f583352"
      },
      "source": [
        "df_acci['시군구'].iloc[0].split(' ')"
      ],
      "execution_count": 12,
      "outputs": [
        {
          "output_type": "execute_result",
          "data": {
            "text/plain": [
              "['서울특별시', '강서구', '방화동']"
            ]
          },
          "metadata": {
            "tags": []
          },
          "execution_count": 12
        }
      ]
    },
    {
      "cell_type": "code",
      "metadata": {
        "id": "1nWbmesoWG8e"
      },
      "source": [
        "df_acci['시'] = [x.split(' ')[0] for x in df_acci['시군구']]\n",
        "df_acci['구'] = [x.split(' ')[1] for x in df_acci['시군구']]\n",
        "df_acci['동'] = [x.split(' ')[2] for x in df_acci['시군구']]"
      ],
      "execution_count": 15,
      "outputs": []
    },
    {
      "cell_type": "code",
      "metadata": {
        "colab": {
          "base_uri": "https://localhost:8080/"
        },
        "id": "rtueqQ3XWLFt",
        "outputId": "30fc40e7-e4e7-4070-eb9f-08dc61e43280"
      },
      "source": [
        "df_acci['구'].unique()"
      ],
      "execution_count": 16,
      "outputs": [
        {
          "output_type": "execute_result",
          "data": {
            "text/plain": [
              "array(['강서구', '구로구', '서초구', '중구', '성동구', '송파구', '노원구', '강남구', '양천구',\n",
              "       '영등포구', '중랑구', '관악구', '성북구', '강동구', '서대문구', '종로구', '동대문구', '마포구',\n",
              "       '용산구', '광진구', '동작구', '은평구', '금천구', '강북구', '도봉구', '미분류'],\n",
              "      dtype=object)"
            ]
          },
          "metadata": {
            "tags": []
          },
          "execution_count": 16
        }
      ]
    },
    {
      "cell_type": "code",
      "metadata": {
        "colab": {
          "base_uri": "https://localhost:8080/",
          "height": 604
        },
        "id": "KwAcgEZoYc9t",
        "outputId": "ff53bac0-27ef-4b2b-cdb1-6c9e4e3fef21"
      },
      "source": [
        "df_acci.head(2)"
      ],
      "execution_count": 17,
      "outputs": [
        {
          "output_type": "execute_result",
          "data": {
            "text/html": [
              "<div>\n",
              "<style scoped>\n",
              "    .dataframe tbody tr th:only-of-type {\n",
              "        vertical-align: middle;\n",
              "    }\n",
              "\n",
              "    .dataframe tbody tr th {\n",
              "        vertical-align: top;\n",
              "    }\n",
              "\n",
              "    .dataframe thead th {\n",
              "        text-align: right;\n",
              "    }\n",
              "</style>\n",
              "<table border=\"1\" class=\"dataframe\">\n",
              "  <thead>\n",
              "    <tr style=\"text-align: right;\">\n",
              "      <th></th>\n",
              "      <th>사고번호</th>\n",
              "      <th>사고일시</th>\n",
              "      <th>요일</th>\n",
              "      <th>시군구</th>\n",
              "      <th>사고내용</th>\n",
              "      <th>사망자수</th>\n",
              "      <th>중상자수</th>\n",
              "      <th>경상자수</th>\n",
              "      <th>부상신고자수</th>\n",
              "      <th>사고유형</th>\n",
              "      <th>법규위반</th>\n",
              "      <th>노면상태</th>\n",
              "      <th>기상상태</th>\n",
              "      <th>도로형태</th>\n",
              "      <th>가해운전자 차종</th>\n",
              "      <th>가해운전자 성별</th>\n",
              "      <th>가해운전자 연령</th>\n",
              "      <th>가해운전자 상해정도</th>\n",
              "      <th>피해운전자 차종</th>\n",
              "      <th>피해운전자 성별</th>\n",
              "      <th>피해운전자 연령</th>\n",
              "      <th>피해운전자 상해정도</th>\n",
              "      <th>연도</th>\n",
              "      <th>사고 월</th>\n",
              "      <th>사고 일</th>\n",
              "      <th>사고 시각</th>\n",
              "      <th>시</th>\n",
              "      <th>구</th>\n",
              "      <th>동</th>\n",
              "    </tr>\n",
              "  </thead>\n",
              "  <tbody>\n",
              "    <tr>\n",
              "      <th>0</th>\n",
              "      <td>2.019010e+15</td>\n",
              "      <td>2019년 1월 1일 00시</td>\n",
              "      <td>화요일</td>\n",
              "      <td>서울특별시 강서구 방화동</td>\n",
              "      <td>경상사고</td>\n",
              "      <td>0</td>\n",
              "      <td>0</td>\n",
              "      <td>1</td>\n",
              "      <td>0</td>\n",
              "      <td>차대사람 - 횡단중</td>\n",
              "      <td>보행자보호의무위반</td>\n",
              "      <td>포장 - 건조</td>\n",
              "      <td>맑음</td>\n",
              "      <td>교차로 - 교차로횡단보도내</td>\n",
              "      <td>승용</td>\n",
              "      <td>남</td>\n",
              "      <td>26세</td>\n",
              "      <td>상해없음</td>\n",
              "      <td>보행자</td>\n",
              "      <td>남</td>\n",
              "      <td>40세</td>\n",
              "      <td>경상</td>\n",
              "      <td>2019</td>\n",
              "      <td>1월</td>\n",
              "      <td>1일</td>\n",
              "      <td>00시</td>\n",
              "      <td>서울특별시</td>\n",
              "      <td>강서구</td>\n",
              "      <td>방화동</td>\n",
              "    </tr>\n",
              "    <tr>\n",
              "      <th>1</th>\n",
              "      <td>2.019010e+15</td>\n",
              "      <td>2019년 1월 1일 00시</td>\n",
              "      <td>화요일</td>\n",
              "      <td>서울특별시 구로구 고척동</td>\n",
              "      <td>경상사고</td>\n",
              "      <td>0</td>\n",
              "      <td>0</td>\n",
              "      <td>1</td>\n",
              "      <td>0</td>\n",
              "      <td>차대차 - 추돌</td>\n",
              "      <td>안전운전불이행</td>\n",
              "      <td>포장 - 건조</td>\n",
              "      <td>맑음</td>\n",
              "      <td>단일로 - 기타</td>\n",
              "      <td>이륜</td>\n",
              "      <td>남</td>\n",
              "      <td>23세</td>\n",
              "      <td>상해없음</td>\n",
              "      <td>승용</td>\n",
              "      <td>남</td>\n",
              "      <td>71세</td>\n",
              "      <td>경상</td>\n",
              "      <td>2019</td>\n",
              "      <td>1월</td>\n",
              "      <td>1일</td>\n",
              "      <td>00시</td>\n",
              "      <td>서울특별시</td>\n",
              "      <td>구로구</td>\n",
              "      <td>고척동</td>\n",
              "    </tr>\n",
              "  </tbody>\n",
              "</table>\n",
              "</div>"
            ],
            "text/plain": [
              "           사고번호             사고일시   요일            시군구  ... 사고 시각      시    구    동\n",
              "0  2.019010e+15  2019년 1월 1일 00시  화요일  서울특별시 강서구 방화동  ...   00시  서울특별시  강서구  방화동\n",
              "1  2.019010e+15  2019년 1월 1일 00시  화요일  서울특별시 구로구 고척동  ...   00시  서울특별시  구로구  고척동\n",
              "\n",
              "[2 rows x 29 columns]"
            ]
          },
          "metadata": {
            "tags": []
          },
          "execution_count": 17
        }
      ]
    },
    {
      "cell_type": "markdown",
      "metadata": {
        "id": "B-IXbDLMcSkg"
      },
      "source": [
        "## 4.3 전체 부상자 신고 건수"
      ]
    },
    {
      "cell_type": "code",
      "metadata": {
        "id": "AAGA_rUCcT9E"
      },
      "source": [
        "df_acci['전체 신고 수'] = df_acci['사망자수'] + df_acci['중상자수'] + df_acci['경상자수'] + df_acci['부상신고자수']"
      ],
      "execution_count": 18,
      "outputs": []
    },
    {
      "cell_type": "markdown",
      "metadata": {
        "id": "7vQ9pa7DqBA0"
      },
      "source": [
        "## 4.4 연령대"
      ]
    },
    {
      "cell_type": "code",
      "metadata": {
        "id": "MdPZzkp1sPJt"
      },
      "source": [
        "df_acci['가해운전자 연령대'] = [str(int(x.split('세')[0][0]))+'0대' if x != '미분류' else x for x in df_acci['가해운전자 연령']]"
      ],
      "execution_count": 19,
      "outputs": []
    },
    {
      "cell_type": "markdown",
      "metadata": {
        "id": "Z-f5otrGMIr0"
      },
      "source": [
        "# 5.분석"
      ]
    },
    {
      "cell_type": "code",
      "metadata": {
        "id": "g20KONqX7Eol"
      },
      "source": [
        "df_acci['피해운전자 연령'] = df_acci['피해운전자 연령'].replace('미분류', np.nan)"
      ],
      "execution_count": 20,
      "outputs": []
    },
    {
      "cell_type": "code",
      "metadata": {
        "id": "7XeP-EVm8Bd-"
      },
      "source": [
        "df_acci['피해운전자 연령대'] = [str(int(x.split()[0][0]))+'0대' if type(x) != float else x for x in df_acci['피해운전자 연령']]"
      ],
      "execution_count": 21,
      "outputs": []
    },
    {
      "cell_type": "markdown",
      "metadata": {
        "id": "nO3PJd62YJot"
      },
      "source": [
        "##5.1. 연도별 사고 추이"
      ]
    },
    {
      "cell_type": "code",
      "metadata": {
        "colab": {
          "base_uri": "https://localhost:8080/"
        },
        "id": "oX3pYrKPzw7P",
        "outputId": "062daaef-1621-450c-d3af-3cf1bb0f1734"
      },
      "source": [
        "df_acci.columns"
      ],
      "execution_count": 81,
      "outputs": [
        {
          "output_type": "execute_result",
          "data": {
            "text/plain": [
              "Index(['사고번호', '사고일시', '요일', '시군구', '사고내용', '사망자수', '중상자수', '경상자수', '부상신고자수',\n",
              "       '사고유형', '법규위반', '노면상태', '기상상태', '도로형태', '가해운전자 차종', '가해운전자 성별',\n",
              "       '가해운전자 연령', '가해운전자 상해정도', '피해운전자 차종', '피해운전자 성별', '피해운전자 연령',\n",
              "       '피해운전자 상해정도', '연도', '사고 월', '사고 일', '사고 시각', '시', '구', '동', '전체 신고 수',\n",
              "       '가해운전자 연령대', '피해운전자 연령대'],\n",
              "      dtype='object')"
            ]
          },
          "metadata": {
            "tags": []
          },
          "execution_count": 81
        }
      ]
    },
    {
      "cell_type": "markdown",
      "metadata": {
        "id": "O4V-IlzsPvCg"
      },
      "source": [
        "### 5.1.1. 사고내용별 전체 사고건수 연도 비교"
      ]
    },
    {
      "cell_type": "code",
      "metadata": {
        "id": "iAK4WAH-PzUj"
      },
      "source": [
        "df_acci_descr = pd.DataFrame(df_acci.groupby(['연도', '사고내용']).count())"
      ],
      "execution_count": 274,
      "outputs": []
    },
    {
      "cell_type": "code",
      "metadata": {
        "id": "hzOZy0E-P8hX"
      },
      "source": [
        "df_acci_descr['연도'] = df_acci_descr.index.get_level_values(0)\n",
        "df_acci_descr['사고내용'] = df_acci_descr.index.get_level_values(1)"
      ],
      "execution_count": 275,
      "outputs": []
    },
    {
      "cell_type": "code",
      "metadata": {
        "colab": {
          "base_uri": "https://localhost:8080/",
          "height": 515
        },
        "id": "sG044safP_vR",
        "outputId": "e757933f-6ff9-44c9-9fab-e3cf38e00592"
      },
      "source": [
        "plt.figure(figsize=(18,8))\n",
        "sns.barplot(data=df_acci_descr,\n",
        "            x='사고내용',\n",
        "            y='전체 신고 수',\n",
        "            hue='연도', palette=\"flare_r\")\n",
        "plt.xticks(rotation=90)\n",
        "plt.legend(loc='best')\n",
        "plt.show()"
      ],
      "execution_count": 277,
      "outputs": [
        {
          "output_type": "display_data",
          "data": {
            "image/png": "[encoded data removed]",
            "text/plain": [
              "<Figure size 1296x576 with 1 Axes>"
            ]
          },
          "metadata": {
            "tags": [],
            "needs_background": "light"
          }
        }
      ]
    },
    {
      "cell_type": "markdown",
      "metadata": {
        "id": "bIViX7vffTi-"
      },
      "source": [
        "### 5.1.2. 전체 부상신고건수 연도 비교"
      ]
    },
    {
      "cell_type": "code",
      "metadata": {
        "id": "ESF0KNwAaktu"
      },
      "source": [
        "df_acci_year = pd.DataFrame(df_acci.groupby(['연도', '구']).sum())"
      ],
      "execution_count": null,
      "outputs": []
    },
    {
      "cell_type": "code",
      "metadata": {
        "id": "mDVUnmavexSa"
      },
      "source": [
        "df_acci_year['연도'] = df_acci_year.index.get_level_values(0)\n",
        "df_acci_year['구'] = df_acci_year.index.get_level_values(1)"
      ],
      "execution_count": null,
      "outputs": []
    },
    {
      "cell_type": "markdown",
      "metadata": {
        "id": "KxZnVxmhkS_7"
      },
      "source": [
        "- 부상자 신고 건수가 증가한 구 : 강남구, 관악구, 성동구"
      ]
    },
    {
      "cell_type": "code",
      "metadata": {
        "colab": {
          "base_uri": "https://localhost:8080/",
          "height": 500
        },
        "id": "Md9ElrhpcvXE",
        "outputId": "1f7bd689-4c43-48b5-fc9a-0562f55a02b4"
      },
      "source": [
        "plt.figure(figsize=(18,8))\n",
        "sns.barplot(data=df_acci_year,\n",
        "            x='구',\n",
        "            y='전체 신고 수',\n",
        "            hue='연도', palette=\"RdPu\")\n",
        "plt.xticks(rotation=90)\n",
        "plt.legend(loc='best')\n",
        "plt.show()"
      ],
      "execution_count": null,
      "outputs": [
        {
          "output_type": "display_data",
          "data": {
            "image/png": "[encoded data removed]",
            "text/plain": [
              "<Figure size 1296x576 with 1 Axes>"
            ]
          },
          "metadata": {
            "tags": [],
            "needs_background": "light"
          }
        }
      ]
    },
    {
      "cell_type": "markdown",
      "metadata": {
        "id": "dkIXSSiukmY-"
      },
      "source": [
        "### 5.1.3. 사고유형별 전체 사고건수 연도 비교"
      ]
    },
    {
      "cell_type": "code",
      "metadata": {
        "id": "lamTRmNDkqPP"
      },
      "source": [
        "df_acci_type = pd.DataFrame(df_acci.groupby(['연도', '사고유형'])['사고유형'].count())"
      ],
      "execution_count": 22,
      "outputs": []
    },
    {
      "cell_type": "code",
      "metadata": {
        "id": "u-6mLvuqk9ZG"
      },
      "source": [
        "df_acci_type['연도'] = df_acci_type.index.get_level_values(0)\n",
        "df_acci_type['type'] = df_acci_type.index.get_level_values(1)"
      ],
      "execution_count": 23,
      "outputs": []
    },
    {
      "cell_type": "markdown",
      "metadata": {
        "id": "HVQVyf0slZuZ"
      },
      "source": [
        "- 2019년도에 비해서 2020년에 증가한 유일한 사고유형은 '차대차 - 기타'"
      ]
    },
    {
      "cell_type": "code",
      "metadata": {
        "colab": {
          "base_uri": "https://localhost:8080/",
          "height": 592
        },
        "id": "XC2i_AS5lDHg",
        "outputId": "24cd5a5b-62c7-4d9c-c49e-e2b78889fc28"
      },
      "source": [
        "plt.figure(figsize=(18,8))\n",
        "sns.barplot(data=df_acci_type,\n",
        "            x='type',\n",
        "            y='사고유형',\n",
        "            hue='연도', palette=\"GnBu\")\n",
        "plt.xticks(rotation=90)\n",
        "plt.legend(loc='best')\n",
        "plt.show()"
      ],
      "execution_count": 24,
      "outputs": [
        {
          "output_type": "display_data",
          "data": {
            "image/png": "[encoded data removed]",
            "text/plain": [
              "<Figure size 1296x576 with 1 Axes>"
            ]
          },
          "metadata": {
            "tags": [],
            "needs_background": "light"
          }
        }
      ]
    },
    {
      "cell_type": "code",
      "metadata": {
        "id": "E82FEPj5lu9U"
      },
      "source": [
        "df_acci_vehi_etc = df_acci[df_acci['사고유형']=='차대차 - 기타']"
      ],
      "execution_count": 25,
      "outputs": []
    },
    {
      "cell_type": "code",
      "metadata": {
        "colab": {
          "base_uri": "https://localhost:8080/"
        },
        "id": "YjDnmoPQm_PZ",
        "outputId": "4efd6686-34cf-4e47-af23-bb0d8763963d"
      },
      "source": [
        "df_acci_vehi_etc.groupby(['연도'])['요일'].value_counts()"
      ],
      "execution_count": 300,
      "outputs": [
        {
          "output_type": "execute_result",
          "data": {
            "text/plain": [
              "연도    요일 \n",
              "2019  금요일    1179\n",
              "      화요일    1144\n",
              "      토요일    1141\n",
              "      수요일    1088\n",
              "      목요일    1087\n",
              "      월요일    1065\n",
              "      일요일     796\n",
              "2020  금요일    1406\n",
              "      수요일    1297\n",
              "      목요일    1233\n",
              "      화요일    1232\n",
              "      토요일    1199\n",
              "      월요일    1185\n",
              "      일요일     888\n",
              "Name: 요일, dtype: int64"
            ]
          },
          "metadata": {
            "tags": []
          },
          "execution_count": 300
        }
      ]
    },
    {
      "cell_type": "code",
      "metadata": {
        "colab": {
          "base_uri": "https://localhost:8080/"
        },
        "id": "AnKIVCfN-9DF",
        "outputId": "3403b288-eda3-4940-915c-c4a6cfd0c725"
      },
      "source": [
        "for i in df_acci_vehi_etc.iloc[:, [2]]:\n",
        "  # print(i)\n",
        "  # for j in df_acci_vehi_etc.groupby(['연도'])[i].value_counts():\n",
        "    # print(j)\n",
        "    for k in range(len(df_acci_vehi_etc.groupby(['연도'])[i].value_counts().loc['2019'])):\n",
        "      val = round((int(df_acci_vehi_etc.groupby(['연도'])[i].value_counts().loc['2020'][k])\n",
        "                    - int(df_acci_vehi_etc.groupby(['연도'])[i].value_counts().loc['2019'][k])) \\\n",
        "                    / int(df_acci_vehi_etc.groupby(['연도'])[i].value_counts().loc['2019'][k])*100, 2)\n",
        "      # if val >= 5 :\n",
        "      print(i, df_acci_vehi_etc.groupby(['연도'])['요일'].value_counts().index[k][1], val, '%')"
      ],
      "execution_count": 326,
      "outputs": [
        {
          "output_type": "stream",
          "text": [
            "요일 금요일 19.25 %\n",
            "요일 화요일 13.37 %\n",
            "요일 토요일 8.06 %\n",
            "요일 수요일 13.24 %\n",
            "요일 목요일 10.3 %\n",
            "요일 월요일 11.27 %\n",
            "요일 일요일 11.56 %\n"
          ],
          "name": "stdout"
        }
      ]
    },
    {
      "cell_type": "code",
      "metadata": {
        "colab": {
          "base_uri": "https://localhost:8080/"
        },
        "id": "J4bcJ0KHoj-A",
        "outputId": "58d637df-518e-4f76-ecdb-7073ecdf4a7c"
      },
      "source": [
        "len(df_acci_vehi_etc.groupby(['연도'])['요일'].value_counts().loc['2019'])"
      ],
      "execution_count": 301,
      "outputs": [
        {
          "output_type": "execute_result",
          "data": {
            "text/plain": [
              "7"
            ]
          },
          "metadata": {
            "tags": []
          },
          "execution_count": 301
        }
      ]
    },
    {
      "cell_type": "code",
      "metadata": {
        "colab": {
          "base_uri": "https://localhost:8080/"
        },
        "id": "2vBBTIi5nG4N",
        "outputId": "81ed6da7-8eb7-4b9b-8fce-437e09b9aef1"
      },
      "source": [
        "print(round((int(df_acci_vehi_etc.groupby(['연도'])['요일'].value_counts().loc['2020'][0]) - int(df_acci_vehi_etc.groupby(['연도'])['요일'].value_counts().loc['2019'][0])) / int(df_acci_vehi_etc.groupby(['연도'])['요일'].value_counts().loc['2019'][0])*100, 2), \"%\")"
      ],
      "execution_count": 302,
      "outputs": [
        {
          "output_type": "stream",
          "text": [
            "19.25 %\n"
          ],
          "name": "stdout"
        }
      ]
    },
    {
      "cell_type": "markdown",
      "metadata": {
        "id": "l_5jW1IosZ9b"
      },
      "source": [
        "- 2019년 대비 2020년 '차대차 - 기타' 중 50%이상 건수가 증가한 항목들에 대한 분석이다.\n",
        "</br>TOP 5를 뽑자면, 아래와 같다.\n",
        "\n",
        "|    | 구분                | 내용               |   증가율(%) |\n",
        "|---:|:--------------------|:-------------------|------------:|\n",
        "|  0 | 법규위반            | 보행자보호의무위반 |      400    |\n",
        "|  1 | 가해운전자 차종     | 사륜오토바이(ATV)  |      200    |\n",
        "|  2 | 피해운전자 상해정도 | 사망               |      150    |\n",
        "|  3 | 가해운전자 차종     | 개인형이동수단(PM) |      141.18 |\n",
        "|  4 | 노면상태            | 포장 - 서리/결빙   |      133.33 |\n",
        "\n",
        "1.   항목 추가\n",
        "2.   항목 추가\n",
        "\n"
      ]
    },
    {
      "cell_type": "code",
      "metadata": {
        "id": "zbpKwj_8s5qo"
      },
      "source": [
        "increase_idx = pd.DataFrame(columns=['구분', '내용', '증가율(%)'])"
      ],
      "execution_count": 74,
      "outputs": []
    },
    {
      "cell_type": "code",
      "metadata": {
        "id": "YqJw8giVtsWd"
      },
      "source": [
        "for i in df_acci_vehi_etc.iloc[:, [2, 4, 9, 10, 11, 12, 13, 14, 15, 17, 18, 19, 21, 25, 27, 28, 30, 31]]:\n",
        "  for j in range(len(df_acci_vehi_etc.groupby(['연도'])[i].value_counts().loc['2019'])):\n",
        "    # 증가율 : (2020년 건수 - 2019년 건수) / (2019년 건수) * 100\n",
        "    val = round((int(df_acci_vehi_etc.groupby(['연도'])[i].value_counts().loc['2020'][j])\n",
        "                  - int(df_acci_vehi_etc.groupby(['연도'])[i].value_counts().loc['2019'][j])) \\\n",
        "                  / int(df_acci_vehi_etc.groupby(['연도'])[i].value_counts().loc['2019'][j])*100, 2)\n",
        "    if val >= 50 :\n",
        "      data = pd.Series({\n",
        "          '구분' : i,\n",
        "          '내용' : df_acci_vehi_etc.groupby(['연도'])[i].value_counts().index[j][1],\n",
        "          '증가율(%)' : val\n",
        "      })\n",
        "      increase_idx = increase_idx.append(data, ignore_index=True)"
      ],
      "execution_count": 75,
      "outputs": []
    },
    {
      "cell_type": "code",
      "metadata": {
        "colab": {
          "base_uri": "https://localhost:8080/"
        },
        "id": "YQwtJaZLuUX0",
        "outputId": "c8d811e0-845c-4e6a-ea97-9a60a015411d"
      },
      "source": [
        "increase_idx = increase_idx.sort_values(by='증가율(%)', ascending=False)\n",
        "increase_idx.reset_index(drop=True, inplace=True)\n",
        "increase_idx_markdown = increase_idx.head(5).to_markdown()\n",
        "print(increase_idx_markdown)"
      ],
      "execution_count": 76,
      "outputs": [
        {
          "output_type": "stream",
          "text": [
            "|    | 구분                | 내용               |   증가율(%) |\n",
            "|---:|:--------------------|:-------------------|------------:|\n",
            "|  0 | 법규위반            | 보행자보호의무위반 |      400    |\n",
            "|  1 | 가해운전자 차종     | 사륜오토바이(ATV)  |      200    |\n",
            "|  2 | 피해운전자 상해정도 | 사망               |      150    |\n",
            "|  3 | 가해운전자 차종     | 개인형이동수단(PM) |      141.18 |\n",
            "|  4 | 노면상태            | 포장 - 서리/결빙   |      133.33 |\n"
          ],
          "name": "stdout"
        }
      ]
    },
    {
      "cell_type": "markdown",
      "metadata": {
        "id": "qrZv9r7eMTtV"
      },
      "source": [
        "### 5.1.4. 법규위반별 전체 사고건수 연도 비교"
      ]
    },
    {
      "cell_type": "code",
      "metadata": {
        "id": "LctQC_ayManx"
      },
      "source": [
        "df_acci_law = pd.DataFrame(df_acci.groupby(['연도', '법규위반'])['사고유형'].count())"
      ],
      "execution_count": 256,
      "outputs": []
    },
    {
      "cell_type": "code",
      "metadata": {
        "id": "iG6ND1WvMfeW"
      },
      "source": [
        "df_acci_law['연도'] = df_acci_law.index.get_level_values(0)\n",
        "df_acci_law['법규위반'] = df_acci_law.index.get_level_values(1)"
      ],
      "execution_count": 257,
      "outputs": []
    },
    {
      "cell_type": "markdown",
      "metadata": {
        "id": "FHNeFSprMt6I"
      },
      "source": [
        "- 전체적으로 증가한 항목은 없으며, 안전운전불이행이 가장 파이가 큼"
      ]
    },
    {
      "cell_type": "code",
      "metadata": {
        "colab": {
          "base_uri": "https://localhost:8080/",
          "height": 540
        },
        "id": "UE8m4x2dMiRH",
        "outputId": "80e2769d-104c-409b-baac-78e603707181"
      },
      "source": [
        "plt.figure(figsize=(18,8))\n",
        "sns.barplot(data=df_acci_law,\n",
        "            x='법규위반',\n",
        "            y='사고유형',\n",
        "            hue='연도', palette=\"icefire_r\")\n",
        "plt.xticks(rotation=90)\n",
        "plt.legend(loc='best')\n",
        "plt.show()"
      ],
      "execution_count": 259,
      "outputs": [
        {
          "output_type": "display_data",
          "data": {
            "image/png": "[encoded data removed]",
            "text/plain": [
              "<Figure size 1296x576 with 1 Axes>"
            ]
          },
          "metadata": {
            "tags": [],
            "needs_background": "light"
          }
        }
      ]
    },
    {
      "cell_type": "markdown",
      "metadata": {
        "id": "AMG2IN_ENFL2"
      },
      "source": [
        "### 5.1.5 노면상태별 전체 사고건수 연도 비교"
      ]
    },
    {
      "cell_type": "code",
      "metadata": {
        "id": "zppYVBGKNNYM"
      },
      "source": [
        "df_acci_road = pd.DataFrame(df_acci.groupby(['연도', '노면상태'])['사고유형'].count())"
      ],
      "execution_count": 260,
      "outputs": []
    },
    {
      "cell_type": "code",
      "metadata": {
        "id": "SD5C9PnFNRM8"
      },
      "source": [
        "df_acci_road['연도'] = df_acci_road.index.get_level_values(0)\n",
        "df_acci_road['노면상태'] = df_acci_road.index.get_level_values(1)"
      ],
      "execution_count": 261,
      "outputs": []
    },
    {
      "cell_type": "markdown",
      "metadata": {
        "id": "q3hlF8swNZ6g"
      },
      "source": [
        "- 젖음/습기에서만 미세하게 증가한 것을 보면, 19년 대비 비가 더 많이 왔나? 정도. 노면 상태의 구조적인 변화로 의심되지는 않는 수준"
      ]
    },
    {
      "cell_type": "code",
      "metadata": {
        "colab": {
          "base_uri": "https://localhost:8080/",
          "height": 537
        },
        "id": "mvnmyfjVNTxS",
        "outputId": "5363b6ba-3b6c-4d25-9ac4-ec166241855d"
      },
      "source": [
        "plt.figure(figsize=(18,8))\n",
        "sns.barplot(data=df_acci_road,\n",
        "            x='노면상태',\n",
        "            y='사고유형',\n",
        "            hue='연도', palette=\"cubehelix\")\n",
        "plt.xticks(rotation=90)\n",
        "plt.legend(loc='best')\n",
        "plt.show()"
      ],
      "execution_count": 263,
      "outputs": [
        {
          "output_type": "display_data",
          "data": {
            "image/png": "[encoded data removed]",
            "text/plain": [
              "<Figure size 1296x576 with 1 Axes>"
            ]
          },
          "metadata": {
            "tags": [],
            "needs_background": "light"
          }
        }
      ]
    },
    {
      "cell_type": "markdown",
      "metadata": {
        "id": "kftD423eNmqS"
      },
      "source": [
        "### 5.1.6. 기상상태별 전체 사고건수 연도 비교"
      ]
    },
    {
      "cell_type": "code",
      "metadata": {
        "id": "X3s_PFUaNvmG"
      },
      "source": [
        "df_acci_weather = pd.DataFrame(df_acci.groupby(['연도', '기상상태'])['사고유형'].count())"
      ],
      "execution_count": 264,
      "outputs": []
    },
    {
      "cell_type": "code",
      "metadata": {
        "id": "-GF3Z62SNzlh"
      },
      "source": [
        "df_acci_weather['연도'] = df_acci_weather.index.get_level_values(0)\n",
        "df_acci_weather['기상상태'] = df_acci_weather.index.get_level_values(1)"
      ],
      "execution_count": 265,
      "outputs": []
    },
    {
      "cell_type": "markdown",
      "metadata": {
        "id": "NLADl6pBN90U"
      },
      "source": [
        "- 비가 더 많이 왔거나 or 비에 취약한 교통사고 원인이 많이 발생했거나. 그러나 증가추세가 주목할만한 부분은 아님"
      ]
    },
    {
      "cell_type": "code",
      "metadata": {
        "colab": {
          "base_uri": "https://localhost:8080/",
          "height": 481
        },
        "id": "WHCOov_dN2V1",
        "outputId": "560c8955-74d5-42a4-d8c4-3dc3f6a5d8f2"
      },
      "source": [
        "plt.figure(figsize=(18,8))\n",
        "sns.barplot(data=df_acci_weather,\n",
        "            x='기상상태',\n",
        "            y='사고유형',\n",
        "            hue='연도', palette=\"Accent\")\n",
        "plt.xticks(rotation=90)\n",
        "plt.legend(loc='best')\n",
        "plt.show()"
      ],
      "execution_count": 268,
      "outputs": [
        {
          "output_type": "display_data",
          "data": {
            "image/png": "[encoded data removed]",
            "text/plain": [
              "<Figure size 1296x576 with 1 Axes>"
            ]
          },
          "metadata": {
            "tags": [],
            "needs_background": "light"
          }
        }
      ]
    },
    {
      "cell_type": "markdown",
      "metadata": {
        "id": "vTQaKJCCOHZU"
      },
      "source": [
        "### 5.1.7. 도로형태별 전체 사고건수 연도 비교"
      ]
    },
    {
      "cell_type": "code",
      "metadata": {
        "id": "lm3FdDpMOTuv"
      },
      "source": [
        "df_acci_roadtype = pd.DataFrame(df_acci.groupby(['연도', '도로형태'])['사고유형'].count())"
      ],
      "execution_count": 269,
      "outputs": []
    },
    {
      "cell_type": "code",
      "metadata": {
        "id": "yxj5kNdlOYcY"
      },
      "source": [
        "df_acci_roadtype['연도'] = df_acci_roadtype.index.get_level_values(0)\n",
        "df_acci_roadtype['도로형태'] = df_acci_roadtype.index.get_level_values(1)"
      ],
      "execution_count": 270,
      "outputs": []
    },
    {
      "cell_type": "markdown",
      "metadata": {
        "id": "pzjSdiYvOiaV"
      },
      "source": [
        "- 증가 추세 없음"
      ]
    },
    {
      "cell_type": "code",
      "metadata": {
        "colab": {
          "base_uri": "https://localhost:8080/",
          "height": 569
        },
        "id": "7c7ooBdbOcyU",
        "outputId": "84c05516-e8e1-462d-da08-b4b72793fe62"
      },
      "source": [
        "plt.figure(figsize=(18,8))\n",
        "sns.barplot(data=df_acci_roadtype,\n",
        "            x='도로형태',\n",
        "            y='사고유형',\n",
        "            hue='연도', palette=\"PuOr\")\n",
        "plt.xticks(rotation=90)\n",
        "plt.legend(loc='best')\n",
        "plt.show()"
      ],
      "execution_count": 272,
      "outputs": [
        {
          "output_type": "display_data",
          "data": {
            "image/png": "[encoded data removed]",
            "text/plain": [
              "<Figure size 1296x576 with 1 Axes>"
            ]
          },
          "metadata": {
            "tags": [],
            "needs_background": "light"
          }
        }
      ]
    },
    {
      "cell_type": "markdown",
      "metadata": {
        "id": "Mdc6Qk5qOtjI"
      },
      "source": [
        "### 5.1.8. 가해운전자 차종별 전체 사고건수 연도 비교"
      ]
    },
    {
      "cell_type": "markdown",
      "metadata": {
        "id": "qlseX_KuOx8_"
      },
      "source": [
        "### 5.1.9. 가해운전자 성별별 전체 사고건수 연도 비교"
      ]
    },
    {
      "cell_type": "markdown",
      "metadata": {
        "id": "Ftm2sG9dOyIx"
      },
      "source": [
        "### 5.1.10. 가해운전자 연령대별 전체 사고건수 연도 비교"
      ]
    },
    {
      "cell_type": "markdown",
      "metadata": {
        "id": "Uip7OGaVOyQF"
      },
      "source": [
        "### 5.1.11. 가해운전자 상해정도별 전체 사고건수 연도 비교"
      ]
    },
    {
      "cell_type": "markdown",
      "metadata": {
        "id": "-gubmJmvOyXY"
      },
      "source": [
        "### 5.1.12. 피해운전자 차종별 전체 사고건수 연도 비교"
      ]
    },
    {
      "cell_type": "markdown",
      "metadata": {
        "id": "ughNCw_xPB2b"
      },
      "source": [
        "### 5.1.13. 피해운전자 성별별 전체 사고건수 연도 비교"
      ]
    },
    {
      "cell_type": "markdown",
      "metadata": {
        "id": "YHOArBl9PB_Q"
      },
      "source": [
        "### 5.1.14. 피해운전자 연령대별 전체 사고건수 연도 비교"
      ]
    },
    {
      "cell_type": "markdown",
      "metadata": {
        "id": "b8V8khrPPCF6"
      },
      "source": [
        "### 5.1.15. 피해운전자 상해정도별 전체 사고건수 연도 비교"
      ]
    },
    {
      "cell_type": "markdown",
      "metadata": {
        "id": "knO2OKxDiuHY"
      },
      "source": [
        "### 5.1.16. 사고시간대별 전체 사고건수 연도 비교"
      ]
    },
    {
      "cell_type": "markdown",
      "metadata": {
        "id": "FA-QpR5tPLQN"
      },
      "source": [
        "### 5.1.17. 구별 전체 사고건수 연도 비교"
      ]
    },
    {
      "cell_type": "code",
      "metadata": {
        "id": "BadHoU5fiv0M"
      },
      "source": [
        "df_acci_total = pd.DataFrame(df_acci.groupby(['연도', '구'])['사고유형'].count())"
      ],
      "execution_count": 204,
      "outputs": []
    },
    {
      "cell_type": "code",
      "metadata": {
        "id": "ZCdXykmijduc"
      },
      "source": [
        "df_acci_total['연도'] = df_acci_total.index.get_level_values(0)\n",
        "df_acci_total['구'] = df_acci_total.index.get_level_values(1)"
      ],
      "execution_count": 206,
      "outputs": []
    },
    {
      "cell_type": "markdown",
      "metadata": {
        "id": "nGiuQsLFkbns"
      },
      "source": [
        "- 전체 사고 건수가 증가한 구 : 강남구, 관악구, 성동구"
      ]
    },
    {
      "cell_type": "code",
      "metadata": {
        "colab": {
          "base_uri": "https://localhost:8080/",
          "height": 542
        },
        "id": "1J0unP7ujUoQ",
        "outputId": "36b51892-ad74-4202-d5c4-3d8439a9e60c"
      },
      "source": [
        "plt.figure(figsize=(18,8))\n",
        "sns.barplot(data=df_acci_total,\n",
        "            x='구',\n",
        "            y='사고유형',\n",
        "            hue='연도', palette=\"RdBu\")\n",
        "plt.xticks(rotation=90)\n",
        "plt.legend(loc='best')\n",
        "plt.show()"
      ],
      "execution_count": 210,
      "outputs": [
        {
          "output_type": "display_data",
          "data": {
            "image/png": "[encoded data removed]",
            "text/plain": [
              "<Figure size 1296x576 with 1 Axes>"
            ]
          },
          "metadata": {
            "tags": [],
            "needs_background": "light"
          }
        }
      ]
    },
    {
      "cell_type": "markdown",
      "metadata": {
        "id": "bN6dvSll1MmY"
      },
      "source": [
        "### 5.1.18. 동별 전체 사고건수 연도 비교"
      ]
    },
    {
      "cell_type": "code",
      "metadata": {
        "id": "1TnTMfgY1Pj4"
      },
      "source": [
        "df_acci_dong = pd.DataFrame(df_acci.groupby(['연도', '동'])['사고유형'].count())"
      ],
      "execution_count": 92,
      "outputs": []
    },
    {
      "cell_type": "code",
      "metadata": {
        "colab": {
          "base_uri": "https://localhost:8080/",
          "height": 557
        },
        "id": "QaBI32Hr1Ytl",
        "outputId": "1bdf4398-d96c-4525-9127-2cb4920fad01"
      },
      "source": [
        "plt.figure(figsize=(18,8))\n",
        "sns.barplot(data=df_acci_dong,\n",
        "            x='동',\n",
        "            y='사고유형',\n",
        "            hue='연도', palette=\"gist_rainbow_r\")\n",
        "plt.xticks(rotation=90)\n",
        "plt.legend(loc='best')\n",
        "plt.show()"
      ],
      "execution_count": 87,
      "outputs": [
        {
          "output_type": "display_data",
          "data": {
            "image/png": "[encoded data removed]",
            "text/plain": [
              "<Figure size 1296x576 with 1 Axes>"
            ]
          },
          "metadata": {
            "tags": [],
            "needs_background": "light"
          }
        }
      ]
    },
    {
      "cell_type": "markdown",
      "metadata": {
        "id": "qqmfWDd5-JgM"
      },
      "source": [
        "- 동이 너무 많다.. 증가율 50% 넘는 것들만 뽑아보자."
      ]
    },
    {
      "cell_type": "code",
      "metadata": {
        "colab": {
          "base_uri": "https://localhost:8080/",
          "height": 450
        },
        "id": "fkDl1q561sJh",
        "outputId": "12c26622-9205-4044-8942-86d411349601"
      },
      "source": [
        "df_acci_dong"
      ],
      "execution_count": 93,
      "outputs": [
        {
          "output_type": "execute_result",
          "data": {
            "text/html": [
              "<div>\n",
              "<style scoped>\n",
              "    .dataframe tbody tr th:only-of-type {\n",
              "        vertical-align: middle;\n",
              "    }\n",
              "\n",
              "    .dataframe tbody tr th {\n",
              "        vertical-align: top;\n",
              "    }\n",
              "\n",
              "    .dataframe thead th {\n",
              "        text-align: right;\n",
              "    }\n",
              "</style>\n",
              "<table border=\"1\" class=\"dataframe\">\n",
              "  <thead>\n",
              "    <tr style=\"text-align: right;\">\n",
              "      <th></th>\n",
              "      <th></th>\n",
              "      <th>사고유형</th>\n",
              "    </tr>\n",
              "    <tr>\n",
              "      <th>연도</th>\n",
              "      <th>동</th>\n",
              "      <th></th>\n",
              "    </tr>\n",
              "  </thead>\n",
              "  <tbody>\n",
              "    <tr>\n",
              "      <th rowspan=\"5\" valign=\"top\">2019</th>\n",
              "      <th>가락동</th>\n",
              "      <td>391</td>\n",
              "    </tr>\n",
              "    <tr>\n",
              "      <th>가리봉동</th>\n",
              "      <td>100</td>\n",
              "    </tr>\n",
              "    <tr>\n",
              "      <th>가산동</th>\n",
              "      <td>203</td>\n",
              "    </tr>\n",
              "    <tr>\n",
              "      <th>가양동</th>\n",
              "      <td>160</td>\n",
              "    </tr>\n",
              "    <tr>\n",
              "      <th>가회동</th>\n",
              "      <td>4</td>\n",
              "    </tr>\n",
              "    <tr>\n",
              "      <th>...</th>\n",
              "      <th>...</th>\n",
              "      <td>...</td>\n",
              "    </tr>\n",
              "    <tr>\n",
              "      <th rowspan=\"5\" valign=\"top\">2020</th>\n",
              "      <th>효창동</th>\n",
              "      <td>14</td>\n",
              "    </tr>\n",
              "    <tr>\n",
              "      <th>후암동</th>\n",
              "      <td>17</td>\n",
              "    </tr>\n",
              "    <tr>\n",
              "      <th>휘경동</th>\n",
              "      <td>129</td>\n",
              "    </tr>\n",
              "    <tr>\n",
              "      <th>흑석동</th>\n",
              "      <td>88</td>\n",
              "    </tr>\n",
              "    <tr>\n",
              "      <th>흥인동</th>\n",
              "      <td>29</td>\n",
              "    </tr>\n",
              "  </tbody>\n",
              "</table>\n",
              "<p>913 rows × 1 columns</p>\n",
              "</div>"
            ],
            "text/plain": [
              "           사고유형\n",
              "연도   동         \n",
              "2019 가락동    391\n",
              "     가리봉동   100\n",
              "     가산동    203\n",
              "     가양동    160\n",
              "     가회동      4\n",
              "...         ...\n",
              "2020 효창동     14\n",
              "     후암동     17\n",
              "     휘경동    129\n",
              "     흑석동     88\n",
              "     흥인동     29\n",
              "\n",
              "[913 rows x 1 columns]"
            ]
          },
          "metadata": {
            "tags": []
          },
          "execution_count": 93
        }
      ]
    },
    {
      "cell_type": "code",
      "metadata": {
        "id": "9RvL-ont1P7o"
      },
      "source": [
        "df_acci_dong['연도'] = df_acci_dong.index.get_level_values(0)\n",
        "df_acci_dong['동'] = df_acci_dong.index.get_level_values(1)"
      ],
      "execution_count": 98,
      "outputs": []
    },
    {
      "cell_type": "code",
      "metadata": {
        "colab": {
          "base_uri": "https://localhost:8080/"
        },
        "id": "Jq3mnNWQ3Cty",
        "outputId": "6ace9c3d-6257-452c-8547-fef7e877877c"
      },
      "source": [
        "check_dong = list(set(df_acci_dong['동']))\n",
        "len(check_dong)"
      ],
      "execution_count": 108,
      "outputs": [
        {
          "output_type": "execute_result",
          "data": {
            "text/plain": [
              "463"
            ]
          },
          "metadata": {
            "tags": []
          },
          "execution_count": 108
        }
      ]
    },
    {
      "cell_type": "code",
      "metadata": {
        "colab": {
          "base_uri": "https://localhost:8080/"
        },
        "id": "_vKfBpSW68yf",
        "outputId": "7f598d48-8b40-4a52-a5fe-81eda379d176"
      },
      "source": [
        "check_dong[:5]"
      ],
      "execution_count": 110,
      "outputs": [
        {
          "output_type": "execute_result",
          "data": {
            "text/plain": [
              "['도선동', '묵정동', '청담동', '봉천동', '군자동']"
            ]
          },
          "metadata": {
            "tags": []
          },
          "execution_count": 110
        }
      ]
    },
    {
      "cell_type": "code",
      "metadata": {
        "colab": {
          "base_uri": "https://localhost:8080/"
        },
        "id": "gdDZ9UeI9Kh2",
        "outputId": "b291b1d2-78d2-4a8f-8c07-72fb362cebe7"
      },
      "source": [
        "for i in check_dong[:5]:\n",
        "  print(df_acci_dong[df_acci_dong['동'] == i]['사고유형'])"
      ],
      "execution_count": 149,
      "outputs": [
        {
          "output_type": "stream",
          "text": [
            "연도    동  \n",
            "2019  도선동    29\n",
            "2020  도선동    29\n",
            "Name: 사고유형, dtype: int64\n",
            "연도    동  \n",
            "2019  묵정동    4\n",
            "2020  묵정동    1\n",
            "Name: 사고유형, dtype: int64\n",
            "연도    동  \n",
            "2019  청담동    261\n",
            "2020  청담동    283\n",
            "Name: 사고유형, dtype: int64\n",
            "연도    동  \n",
            "2019  봉천동    558\n",
            "2020  봉천동    605\n",
            "Name: 사고유형, dtype: int64\n",
            "연도    동  \n",
            "2019  군자동    98\n",
            "2020  군자동    76\n",
            "Name: 사고유형, dtype: int64\n"
          ],
          "name": "stdout"
        }
      ]
    },
    {
      "cell_type": "code",
      "metadata": {
        "id": "jJSbAhTS-ZGy"
      },
      "source": [
        "increase_dong = pd.DataFrame(columns=['동', '증가율(%)'])"
      ],
      "execution_count": 176,
      "outputs": []
    },
    {
      "cell_type": "code",
      "metadata": {
        "id": "U8FGTHDG610Y"
      },
      "source": [
        "for i in check_dong:\n",
        "  if len(df_acci_dong[df_acci_dong['동'] == i]['사고유형']) == 2: #19,20년 두 지표 모두 있는 경우만\n",
        "  # 증가율 : (2020년 건수 - 2019년 건수) / (2019년 건수) * 10\n",
        "    val = (df_acci_dong[df_acci_dong['동'] == i]['사고유형'][1] \\\n",
        "          - df_acci_dong[df_acci_dong['동'] == i]['사고유형'][0]) \\\n",
        "          / df_acci_dong[df_acci_dong['동'] == i]['사고유형'][0] *100\n",
        "    if val >= 50 :\n",
        "      data = pd.Series({\n",
        "              '동' : i,\n",
        "              '증가율(%)' : round(val, 2)\n",
        "          })\n",
        "      increase_dong = increase_dong.append(data, ignore_index=True)"
      ],
      "execution_count": 177,
      "outputs": []
    },
    {
      "cell_type": "markdown",
      "metadata": {
        "id": "9tQreOnFAaCj"
      },
      "source": [
        "- 2019년 대비 2020년 '동' 기준 50%이상 건수가 증가한 항목들에 대한 분석이다.\n",
        "</br>TOP 5를 뽑자면, 아래와 같다.\n",
        "\n",
        "|    | 동        |   증가율(%) |\n",
        "|---:|:----------|------------:|\n",
        "|  0 | 무악동    |      400    |\n",
        "|  1 | 보문동6가 |      300    |\n",
        "|  2 | 효자동    |      300    |\n",
        "|  3 | 무학동    |      266.67 |\n",
        "|  4 | 보문동3가 |      200    |\n"
      ]
    },
    {
      "cell_type": "code",
      "metadata": {
        "colab": {
          "base_uri": "https://localhost:8080/"
        },
        "id": "t2oAu9hi-qCy",
        "outputId": "c6d5c781-66eb-4c67-9986-a3bd8ae6133b"
      },
      "source": [
        "increase_dong = increase_dong.sort_values(by='증가율(%)', ascending=False)\n",
        "increase_dong.reset_index(drop=True, inplace=True)\n",
        "increase_dong_markdown = increase_dong.head(5).to_markdown()\n",
        "print(increase_dong_markdown)"
      ],
      "execution_count": 178,
      "outputs": [
        {
          "output_type": "stream",
          "text": [
            "|    | 동        |   증가율(%) |\n",
            "|---:|:----------|------------:|\n",
            "|  0 | 무악동    |      400    |\n",
            "|  1 | 보문동6가 |      300    |\n",
            "|  2 | 효자동    |      300    |\n",
            "|  3 | 무학동    |      266.67 |\n",
            "|  4 | 보문동3가 |      200    |\n"
          ],
          "name": "stdout"
        }
      ]
    },
    {
      "cell_type": "code",
      "metadata": {
        "id": "91ZNY8TsA-wX"
      },
      "source": [
        "increasing_dong_list = list(set(increase_dong['동']))"
      ],
      "execution_count": 180,
      "outputs": []
    },
    {
      "cell_type": "code",
      "metadata": {
        "colab": {
          "base_uri": "https://localhost:8080/"
        },
        "id": "g9aYOCPwEXo5",
        "outputId": "bd7573e6-5ff4-4ca8-dc53-ce24dd0e0bc7"
      },
      "source": [
        "len(increasing_dong_list)"
      ],
      "execution_count": 214,
      "outputs": [
        {
          "output_type": "execute_result",
          "data": {
            "text/plain": [
              "36"
            ]
          },
          "metadata": {
            "tags": []
          },
          "execution_count": 214
        }
      ]
    },
    {
      "cell_type": "code",
      "metadata": {
        "colab": {
          "base_uri": "https://localhost:8080/",
          "height": 235
        },
        "id": "3nr6gr88CLS1",
        "outputId": "5d18ec49-7d34-4b71-d0ad-c2ccc48ee718"
      },
      "source": [
        "df_acci_dong.head()"
      ],
      "execution_count": 194,
      "outputs": [
        {
          "output_type": "execute_result",
          "data": {
            "text/html": [
              "<div>\n",
              "<style scoped>\n",
              "    .dataframe tbody tr th:only-of-type {\n",
              "        vertical-align: middle;\n",
              "    }\n",
              "\n",
              "    .dataframe tbody tr th {\n",
              "        vertical-align: top;\n",
              "    }\n",
              "\n",
              "    .dataframe thead th {\n",
              "        text-align: right;\n",
              "    }\n",
              "</style>\n",
              "<table border=\"1\" class=\"dataframe\">\n",
              "  <thead>\n",
              "    <tr style=\"text-align: right;\">\n",
              "      <th></th>\n",
              "      <th></th>\n",
              "      <th>사고유형</th>\n",
              "      <th>연도</th>\n",
              "      <th>동</th>\n",
              "    </tr>\n",
              "    <tr>\n",
              "      <th>연도</th>\n",
              "      <th>동</th>\n",
              "      <th></th>\n",
              "      <th></th>\n",
              "      <th></th>\n",
              "    </tr>\n",
              "  </thead>\n",
              "  <tbody>\n",
              "    <tr>\n",
              "      <th rowspan=\"5\" valign=\"top\">2019</th>\n",
              "      <th>가락동</th>\n",
              "      <td>391</td>\n",
              "      <td>2019</td>\n",
              "      <td>가락동</td>\n",
              "    </tr>\n",
              "    <tr>\n",
              "      <th>가리봉동</th>\n",
              "      <td>100</td>\n",
              "      <td>2019</td>\n",
              "      <td>가리봉동</td>\n",
              "    </tr>\n",
              "    <tr>\n",
              "      <th>가산동</th>\n",
              "      <td>203</td>\n",
              "      <td>2019</td>\n",
              "      <td>가산동</td>\n",
              "    </tr>\n",
              "    <tr>\n",
              "      <th>가양동</th>\n",
              "      <td>160</td>\n",
              "      <td>2019</td>\n",
              "      <td>가양동</td>\n",
              "    </tr>\n",
              "    <tr>\n",
              "      <th>가회동</th>\n",
              "      <td>4</td>\n",
              "      <td>2019</td>\n",
              "      <td>가회동</td>\n",
              "    </tr>\n",
              "  </tbody>\n",
              "</table>\n",
              "</div>"
            ],
            "text/plain": [
              "           사고유형    연도     동\n",
              "연도   동                     \n",
              "2019 가락동    391  2019   가락동\n",
              "     가리봉동   100  2019  가리봉동\n",
              "     가산동    203  2019   가산동\n",
              "     가양동    160  2019   가양동\n",
              "     가회동      4  2019   가회동"
            ]
          },
          "metadata": {
            "tags": []
          },
          "execution_count": 194
        }
      ]
    },
    {
      "cell_type": "code",
      "metadata": {
        "id": "mCoPOZq9BMkQ"
      },
      "source": [
        "df_acci_dong_increase = pd.DataFrame(index=df_acci_dong.index, columns=df_acci_dong.columns)"
      ],
      "execution_count": 244,
      "outputs": []
    },
    {
      "cell_type": "code",
      "metadata": {
        "id": "7SzvJxT0EBH2"
      },
      "source": [
        "for x in increasing_dong_list:\n",
        "  df_acci_dong_increase = df_acci_dong_increase.append([df_acci_dong[df_acci_dong['동']==x]])"
      ],
      "execution_count": 245,
      "outputs": []
    },
    {
      "cell_type": "code",
      "metadata": {
        "colab": {
          "base_uri": "https://localhost:8080/"
        },
        "id": "HbjD0k_CDnwC",
        "outputId": "c11d36c2-6eb8-4f69-dfda-f3d879f00ee8"
      },
      "source": [
        "df_acci_dong_increase.dropna(inplace=True)\n",
        "df_acci_dong_increase.shape"
      ],
      "execution_count": 246,
      "outputs": [
        {
          "output_type": "execute_result",
          "data": {
            "text/plain": [
              "(72, 3)"
            ]
          },
          "metadata": {
            "tags": []
          },
          "execution_count": 246
        }
      ]
    },
    {
      "cell_type": "code",
      "metadata": {
        "colab": {
          "base_uri": "https://localhost:8080/",
          "height": 511
        },
        "id": "RH-L3iiFAkdm",
        "outputId": "d00a332d-8212-4f43-e8e5-389fb3e266bd"
      },
      "source": [
        "plt.figure(figsize=(18,8))\n",
        "sns.barplot(data=df_acci_dong_increase,\n",
        "            x='동',\n",
        "            y='사고유형',\n",
        "            hue='연도', palette=\"gist_rainbow_r\")\n",
        "plt.xticks(rotation=90)\n",
        "plt.legend(loc='best')\n",
        "plt.show()"
      ],
      "execution_count": 255,
      "outputs": [
        {
          "output_type": "display_data",
          "data": {
            "image/png": "[encoded data removed]",
            "text/plain": [
              "<Figure size 1296x576 with 1 Axes>"
            ]
          },
          "metadata": {
            "tags": [],
            "needs_background": "light"
          }
        }
      ]
    },
    {
      "cell_type": "markdown",
      "metadata": {
        "id": "b23hd3XqL7zj"
      },
      "source": [
        "## 가장 많은 사고 유형"
      ]
    },
    {
      "cell_type": "code",
      "metadata": {
        "colab": {
          "base_uri": "https://localhost:8080/",
          "height": 215
        },
        "id": "_o7RPVHqMQyY",
        "outputId": "e3e0138c-a98d-486b-9681-144e26fcf2d5"
      },
      "source": [
        "plt.figure(figsize=(18, 5))\n",
        "sns.barplot(x=df_acci['사고유형'].value_counts().index, y=df_acci['사고유형'].value_counts(), data=df_acci)\n",
        "plt.xticks(rotation=90)\n",
        "plt.show()"
      ],
      "execution_count": 1,
      "outputs": [
        {
          "output_type": "error",
          "ename": "NameError",
          "evalue": "ignored",
          "traceback": [
            "\u001b[0;31m---------------------------------------------------------------------------\u001b[0m",
            "\u001b[0;31mNameError\u001b[0m                                 Traceback (most recent call last)",
            "\u001b[0;32m<ipython-input-1-20dd38e55b73>\u001b[0m in \u001b[0;36m<module>\u001b[0;34m()\u001b[0m\n\u001b[0;32m----> 1\u001b[0;31m \u001b[0mplt\u001b[0m\u001b[0;34m.\u001b[0m\u001b[0mfigure\u001b[0m\u001b[0;34m(\u001b[0m\u001b[0mfigsize\u001b[0m\u001b[0;34m=\u001b[0m\u001b[0;34m(\u001b[0m\u001b[0;36m18\u001b[0m\u001b[0;34m,\u001b[0m \u001b[0;36m5\u001b[0m\u001b[0;34m)\u001b[0m\u001b[0;34m)\u001b[0m\u001b[0;34m\u001b[0m\u001b[0;34m\u001b[0m\u001b[0m\n\u001b[0m\u001b[1;32m      2\u001b[0m \u001b[0msns\u001b[0m\u001b[0;34m.\u001b[0m\u001b[0mbarplot\u001b[0m\u001b[0;34m(\u001b[0m\u001b[0mx\u001b[0m\u001b[0;34m=\u001b[0m\u001b[0mdf_acci\u001b[0m\u001b[0;34m[\u001b[0m\u001b[0;34m'사고유형'\u001b[0m\u001b[0;34m]\u001b[0m\u001b[0;34m.\u001b[0m\u001b[0mvalue_counts\u001b[0m\u001b[0;34m(\u001b[0m\u001b[0;34m)\u001b[0m\u001b[0;34m.\u001b[0m\u001b[0mindex\u001b[0m\u001b[0;34m,\u001b[0m \u001b[0my\u001b[0m\u001b[0;34m=\u001b[0m\u001b[0mdf_acci\u001b[0m\u001b[0;34m[\u001b[0m\u001b[0;34m'사고유형'\u001b[0m\u001b[0;34m]\u001b[0m\u001b[0;34m.\u001b[0m\u001b[0mvalue_counts\u001b[0m\u001b[0;34m(\u001b[0m\u001b[0;34m)\u001b[0m\u001b[0;34m,\u001b[0m \u001b[0mdata\u001b[0m\u001b[0;34m=\u001b[0m\u001b[0mdf_acci\u001b[0m\u001b[0;34m)\u001b[0m\u001b[0;34m\u001b[0m\u001b[0;34m\u001b[0m\u001b[0m\n\u001b[1;32m      3\u001b[0m \u001b[0mplt\u001b[0m\u001b[0;34m.\u001b[0m\u001b[0mxticks\u001b[0m\u001b[0;34m(\u001b[0m\u001b[0mrotation\u001b[0m\u001b[0;34m=\u001b[0m\u001b[0;36m90\u001b[0m\u001b[0;34m)\u001b[0m\u001b[0;34m\u001b[0m\u001b[0;34m\u001b[0m\u001b[0m\n\u001b[1;32m      4\u001b[0m \u001b[0mplt\u001b[0m\u001b[0;34m.\u001b[0m\u001b[0mshow\u001b[0m\u001b[0;34m(\u001b[0m\u001b[0;34m)\u001b[0m\u001b[0;34m\u001b[0m\u001b[0;34m\u001b[0m\u001b[0m\n",
            "\u001b[0;31mNameError\u001b[0m: name 'plt' is not defined"
          ]
        }
      ]
    },
    {
      "cell_type": "code",
      "metadata": {
        "id": "bl1tdHRkMdLK"
      },
      "source": [
        ""
      ],
      "execution_count": null,
      "outputs": []
    }
  ]
}